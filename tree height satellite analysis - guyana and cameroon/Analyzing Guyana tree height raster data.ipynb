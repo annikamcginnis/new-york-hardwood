{
 "cells": [
  {
   "cell_type": "markdown",
   "id": "67b8700c-f0b5-47a4-8cc8-22b9a7ed4298",
   "metadata": {},
   "source": [
    "# Analyzing all Guyana forest concessions raster data on tree height in 2000 and 2020"
   ]
  },
  {
   "cell_type": "code",
   "execution_count": 50,
   "id": "a4796635-d61d-4dc5-b8bc-ed31459b0602",
   "metadata": {},
   "outputs": [],
   "source": [
    "%load_ext rpy2.ipython\n",
    "%load_ext autoreload\n",
    "%autoreload 2\n",
    "\n",
    "%matplotlib inline  \n",
    "from matplotlib import rcParams\n",
    "rcParams['figure.figsize'] = (16, 100)\n",
    "\n",
    "import warnings\n",
    "from rpy2.rinterface import RRuntimeWarning\n",
    "warnings.filterwarnings(\"ignore\") # Ignore all warnings\n",
    "# warnings.filterwarnings(\"ignore\", category=RRuntimeWarning) # Show some warnings\n",
    "\n",
    "import pandas as pd\n",
    "import numpy as np\n",
    "import matplotlib.pyplot as plt\n",
    "from IPython.display import display, HTML"
   ]
  },
  {
   "cell_type": "code",
   "execution_count": 51,
   "id": "e7e65a25-4889-4c85-85ab-f04e50312edb",
   "metadata": {},
   "outputs": [
    {
     "data": {
      "application/javascript": [
       "// Disable auto-scrolling\n",
       "IPython.OutputArea.prototype._should_scroll = function(lines) {\n",
       "    return false;\n",
       "}\n"
      ],
      "text/plain": [
       "<IPython.core.display.Javascript object>"
      ]
     },
     "metadata": {},
     "output_type": "display_data"
    }
   ],
   "source": [
    "%%javascript\n",
    "// Disable auto-scrolling\n",
    "IPython.OutputArea.prototype._should_scroll = function(lines) {\n",
    "    return false;\n",
    "}"
   ]
  },
  {
   "cell_type": "code",
   "execution_count": 25,
   "id": "ce03479c-e712-49ec-8c95-4e0b60b70951",
   "metadata": {},
   "outputs": [],
   "source": [
    "df00 = pd.read_csv('analysis/2000 Guyana concessions forest height.csv')"
   ]
  },
  {
   "cell_type": "code",
   "execution_count": 26,
   "id": "ec7e6614-b2e0-44e3-b220-535e8fa6aff1",
   "metadata": {},
   "outputs": [
    {
     "data": {
      "text/html": [
       "<div>\n",
       "<style scoped>\n",
       "    .dataframe tbody tr th:only-of-type {\n",
       "        vertical-align: middle;\n",
       "    }\n",
       "\n",
       "    .dataframe tbody tr th {\n",
       "        vertical-align: top;\n",
       "    }\n",
       "\n",
       "    .dataframe thead th {\n",
       "        text-align: right;\n",
       "    }\n",
       "</style>\n",
       "<table border=\"1\" class=\"dataframe\">\n",
       "  <thead>\n",
       "    <tr style=\"text-align: right;\">\n",
       "      <th></th>\n",
       "      <th>Value</th>\n",
       "      <th>Pixel count</th>\n",
       "      <th>Area (deg2)</th>\n",
       "    </tr>\n",
       "  </thead>\n",
       "  <tbody>\n",
       "    <tr>\n",
       "      <th>0</th>\n",
       "      <td>32</td>\n",
       "      <td>12285563</td>\n",
       "      <td>0.767848</td>\n",
       "    </tr>\n",
       "    <tr>\n",
       "      <th>1</th>\n",
       "      <td>31</td>\n",
       "      <td>9448785</td>\n",
       "      <td>0.590549</td>\n",
       "    </tr>\n",
       "    <tr>\n",
       "      <th>2</th>\n",
       "      <td>30</td>\n",
       "      <td>8842283</td>\n",
       "      <td>0.552643</td>\n",
       "    </tr>\n",
       "    <tr>\n",
       "      <th>3</th>\n",
       "      <td>33</td>\n",
       "      <td>8237553</td>\n",
       "      <td>0.514847</td>\n",
       "    </tr>\n",
       "    <tr>\n",
       "      <th>4</th>\n",
       "      <td>29</td>\n",
       "      <td>6429235</td>\n",
       "      <td>0.401827</td>\n",
       "    </tr>\n",
       "  </tbody>\n",
       "</table>\n",
       "</div>"
      ],
      "text/plain": [
       "   Value  Pixel count  Area (deg2)\n",
       "0     32     12285563     0.767848\n",
       "1     31      9448785     0.590549\n",
       "2     30      8842283     0.552643\n",
       "3     33      8237553     0.514847\n",
       "4     29      6429235     0.401827"
      ]
     },
     "execution_count": 26,
     "metadata": {},
     "output_type": "execute_result"
    }
   ],
   "source": [
    "df00.head()"
   ]
  },
  {
   "cell_type": "code",
   "execution_count": 27,
   "id": "b874ee1b-0be1-47d7-841a-6004879befe4",
   "metadata": {},
   "outputs": [
    {
     "data": {
      "text/plain": [
       "73549060"
      ]
     },
     "execution_count": 27,
     "metadata": {},
     "output_type": "execute_result"
    }
   ],
   "source": [
    "df00['Pixel count'].sum()"
   ]
  },
  {
   "cell_type": "code",
   "execution_count": 28,
   "id": "b56cd106-3f78-4edf-9bd2-b5cf122d4243",
   "metadata": {},
   "outputs": [],
   "source": [
    "df20 = pd.read_csv('analysis/2020 Guyana concessions forest height.csv')"
   ]
  },
  {
   "cell_type": "code",
   "execution_count": 29,
   "id": "ffc25368-c34f-4353-9845-750ae6849d0b",
   "metadata": {},
   "outputs": [
    {
     "data": {
      "text/html": [
       "<div>\n",
       "<style scoped>\n",
       "    .dataframe tbody tr th:only-of-type {\n",
       "        vertical-align: middle;\n",
       "    }\n",
       "\n",
       "    .dataframe tbody tr th {\n",
       "        vertical-align: top;\n",
       "    }\n",
       "\n",
       "    .dataframe thead th {\n",
       "        text-align: right;\n",
       "    }\n",
       "</style>\n",
       "<table border=\"1\" class=\"dataframe\">\n",
       "  <thead>\n",
       "    <tr style=\"text-align: right;\">\n",
       "      <th></th>\n",
       "      <th>Value</th>\n",
       "      <th>Pixel count</th>\n",
       "      <th>Area (deg2)</th>\n",
       "    </tr>\n",
       "  </thead>\n",
       "  <tbody>\n",
       "    <tr>\n",
       "      <th>0</th>\n",
       "      <td>0</td>\n",
       "      <td>1723113</td>\n",
       "      <td>0.107695</td>\n",
       "    </tr>\n",
       "    <tr>\n",
       "      <th>1</th>\n",
       "      <td>3</td>\n",
       "      <td>87226</td>\n",
       "      <td>0.005452</td>\n",
       "    </tr>\n",
       "    <tr>\n",
       "      <th>2</th>\n",
       "      <td>4</td>\n",
       "      <td>122519</td>\n",
       "      <td>0.007657</td>\n",
       "    </tr>\n",
       "    <tr>\n",
       "      <th>3</th>\n",
       "      <td>5</td>\n",
       "      <td>301924</td>\n",
       "      <td>0.018870</td>\n",
       "    </tr>\n",
       "    <tr>\n",
       "      <th>4</th>\n",
       "      <td>6</td>\n",
       "      <td>232080</td>\n",
       "      <td>0.014505</td>\n",
       "    </tr>\n",
       "  </tbody>\n",
       "</table>\n",
       "</div>"
      ],
      "text/plain": [
       "   Value  Pixel count  Area (deg2)\n",
       "0      0      1723113     0.107695\n",
       "1      3        87226     0.005452\n",
       "2      4       122519     0.007657\n",
       "3      5       301924     0.018870\n",
       "4      6       232080     0.014505"
      ]
     },
     "execution_count": 29,
     "metadata": {},
     "output_type": "execute_result"
    }
   ],
   "source": [
    "df20.head()"
   ]
  },
  {
   "cell_type": "code",
   "execution_count": 30,
   "id": "2dcf73b9-2ffd-4c36-8e71-739e29ffdcc7",
   "metadata": {},
   "outputs": [
    {
     "data": {
      "text/plain": [
       "73549060"
      ]
     },
     "execution_count": 30,
     "metadata": {},
     "output_type": "execute_result"
    }
   ],
   "source": [
    "df20['Pixel count'].sum()"
   ]
  },
  {
   "cell_type": "code",
   "execution_count": 31,
   "id": "e5cf513e-bee9-4d56-ab7f-d7cc1e1e0140",
   "metadata": {},
   "outputs": [],
   "source": [
    "df00['Pixels_2000'] = df00['Pixel count']"
   ]
  },
  {
   "cell_type": "code",
   "execution_count": 32,
   "id": "7e5a138b-e1ad-4040-bade-bc24aabd9349",
   "metadata": {},
   "outputs": [],
   "source": [
    "df00 = df00.drop(columns='Pixel count')"
   ]
  },
  {
   "cell_type": "code",
   "execution_count": 33,
   "id": "26b7baf7-6d57-449a-b4b6-91a57f129591",
   "metadata": {},
   "outputs": [],
   "source": [
    "df00['Area_2000'] = df00['Area (deg2)']"
   ]
  },
  {
   "cell_type": "code",
   "execution_count": 34,
   "id": "c7594bc7-4977-4973-90b2-666875e8d588",
   "metadata": {},
   "outputs": [],
   "source": [
    "df00 = df00.drop(columns='Area (deg2)')"
   ]
  },
  {
   "cell_type": "code",
   "execution_count": 36,
   "id": "857747dd-f4d0-4adb-8a3c-85b2561b7719",
   "metadata": {},
   "outputs": [],
   "source": [
    "df00['Pixels_pct_2000'] = df00['Pixels_2000'] / 73549060"
   ]
  },
  {
   "cell_type": "code",
   "execution_count": 37,
   "id": "49d5ecee-f4d4-4ba5-a2e2-617d47f7f5e7",
   "metadata": {},
   "outputs": [
    {
     "data": {
      "text/html": [
       "<div>\n",
       "<style scoped>\n",
       "    .dataframe tbody tr th:only-of-type {\n",
       "        vertical-align: middle;\n",
       "    }\n",
       "\n",
       "    .dataframe tbody tr th {\n",
       "        vertical-align: top;\n",
       "    }\n",
       "\n",
       "    .dataframe thead th {\n",
       "        text-align: right;\n",
       "    }\n",
       "</style>\n",
       "<table border=\"1\" class=\"dataframe\">\n",
       "  <thead>\n",
       "    <tr style=\"text-align: right;\">\n",
       "      <th></th>\n",
       "      <th>Value</th>\n",
       "      <th>Pixels_2000</th>\n",
       "      <th>Area_2000</th>\n",
       "      <th>Pixels_pct_2000</th>\n",
       "    </tr>\n",
       "  </thead>\n",
       "  <tbody>\n",
       "    <tr>\n",
       "      <th>0</th>\n",
       "      <td>32</td>\n",
       "      <td>12285563</td>\n",
       "      <td>0.767848</td>\n",
       "      <td>0.167039</td>\n",
       "    </tr>\n",
       "    <tr>\n",
       "      <th>1</th>\n",
       "      <td>31</td>\n",
       "      <td>9448785</td>\n",
       "      <td>0.590549</td>\n",
       "      <td>0.128469</td>\n",
       "    </tr>\n",
       "    <tr>\n",
       "      <th>2</th>\n",
       "      <td>30</td>\n",
       "      <td>8842283</td>\n",
       "      <td>0.552643</td>\n",
       "      <td>0.120223</td>\n",
       "    </tr>\n",
       "    <tr>\n",
       "      <th>3</th>\n",
       "      <td>33</td>\n",
       "      <td>8237553</td>\n",
       "      <td>0.514847</td>\n",
       "      <td>0.112001</td>\n",
       "    </tr>\n",
       "    <tr>\n",
       "      <th>4</th>\n",
       "      <td>29</td>\n",
       "      <td>6429235</td>\n",
       "      <td>0.401827</td>\n",
       "      <td>0.087414</td>\n",
       "    </tr>\n",
       "  </tbody>\n",
       "</table>\n",
       "</div>"
      ],
      "text/plain": [
       "   Value  Pixels_2000  Area_2000  Pixels_pct_2000\n",
       "0     32     12285563   0.767848         0.167039\n",
       "1     31      9448785   0.590549         0.128469\n",
       "2     30      8842283   0.552643         0.120223\n",
       "3     33      8237553   0.514847         0.112001\n",
       "4     29      6429235   0.401827         0.087414"
      ]
     },
     "execution_count": 37,
     "metadata": {},
     "output_type": "execute_result"
    }
   ],
   "source": [
    "df00.head()"
   ]
  },
  {
   "cell_type": "code",
   "execution_count": 47,
   "id": "ce577c92-be15-42bb-b999-4f7e224fdee9",
   "metadata": {},
   "outputs": [
    {
     "data": {
      "text/plain": [
       "(38, 4)"
      ]
     },
     "execution_count": 47,
     "metadata": {},
     "output_type": "execute_result"
    }
   ],
   "source": [
    "df00.shape"
   ]
  },
  {
   "cell_type": "code",
   "execution_count": 38,
   "id": "213d9ef1-8198-4abb-9924-2fc3c85d9168",
   "metadata": {},
   "outputs": [],
   "source": [
    "df20['Pixels_2020'] = df20['Pixel count']"
   ]
  },
  {
   "cell_type": "code",
   "execution_count": 39,
   "id": "7a247560-5eec-4fef-84f9-0ef00ffe1a35",
   "metadata": {},
   "outputs": [],
   "source": [
    "df20 = df20.drop(columns='Pixel count')"
   ]
  },
  {
   "cell_type": "code",
   "execution_count": 40,
   "id": "4ec45ea1-fc63-4382-9662-9ae5ed3ea91f",
   "metadata": {},
   "outputs": [],
   "source": [
    "df20['Area_2020'] = df20['Area (deg2)']"
   ]
  },
  {
   "cell_type": "code",
   "execution_count": 41,
   "id": "06089db0-2442-4d77-b206-aa7324f5b5a8",
   "metadata": {},
   "outputs": [],
   "source": [
    "df20 = df20.drop(columns='Area (deg2)')"
   ]
  },
  {
   "cell_type": "code",
   "execution_count": 42,
   "id": "460f7552-2a8b-42c8-b631-b314f3361092",
   "metadata": {},
   "outputs": [],
   "source": [
    "df20['Pixels_pct_2020'] = df20['Pixels_2020'] / 73549060"
   ]
  },
  {
   "cell_type": "code",
   "execution_count": 43,
   "id": "6e288130-43fd-4990-b55a-fe09dd671ae2",
   "metadata": {},
   "outputs": [
    {
     "data": {
      "text/html": [
       "<div>\n",
       "<style scoped>\n",
       "    .dataframe tbody tr th:only-of-type {\n",
       "        vertical-align: middle;\n",
       "    }\n",
       "\n",
       "    .dataframe tbody tr th {\n",
       "        vertical-align: top;\n",
       "    }\n",
       "\n",
       "    .dataframe thead th {\n",
       "        text-align: right;\n",
       "    }\n",
       "</style>\n",
       "<table border=\"1\" class=\"dataframe\">\n",
       "  <thead>\n",
       "    <tr style=\"text-align: right;\">\n",
       "      <th></th>\n",
       "      <th>Value</th>\n",
       "      <th>Pixels_2020</th>\n",
       "      <th>Area_2020</th>\n",
       "      <th>Pixels_pct_2020</th>\n",
       "    </tr>\n",
       "  </thead>\n",
       "  <tbody>\n",
       "    <tr>\n",
       "      <th>0</th>\n",
       "      <td>0</td>\n",
       "      <td>1723113</td>\n",
       "      <td>0.107695</td>\n",
       "      <td>0.023428</td>\n",
       "    </tr>\n",
       "    <tr>\n",
       "      <th>1</th>\n",
       "      <td>3</td>\n",
       "      <td>87226</td>\n",
       "      <td>0.005452</td>\n",
       "      <td>0.001186</td>\n",
       "    </tr>\n",
       "    <tr>\n",
       "      <th>2</th>\n",
       "      <td>4</td>\n",
       "      <td>122519</td>\n",
       "      <td>0.007657</td>\n",
       "      <td>0.001666</td>\n",
       "    </tr>\n",
       "    <tr>\n",
       "      <th>3</th>\n",
       "      <td>5</td>\n",
       "      <td>301924</td>\n",
       "      <td>0.018870</td>\n",
       "      <td>0.004105</td>\n",
       "    </tr>\n",
       "    <tr>\n",
       "      <th>4</th>\n",
       "      <td>6</td>\n",
       "      <td>232080</td>\n",
       "      <td>0.014505</td>\n",
       "      <td>0.003155</td>\n",
       "    </tr>\n",
       "  </tbody>\n",
       "</table>\n",
       "</div>"
      ],
      "text/plain": [
       "   Value  Pixels_2020  Area_2020  Pixels_pct_2020\n",
       "0      0      1723113   0.107695         0.023428\n",
       "1      3        87226   0.005452         0.001186\n",
       "2      4       122519   0.007657         0.001666\n",
       "3      5       301924   0.018870         0.004105\n",
       "4      6       232080   0.014505         0.003155"
      ]
     },
     "execution_count": 43,
     "metadata": {},
     "output_type": "execute_result"
    }
   ],
   "source": [
    "df20.head()"
   ]
  },
  {
   "cell_type": "code",
   "execution_count": 48,
   "id": "e90c0281-1279-45c3-9c12-53c0aa68cab9",
   "metadata": {},
   "outputs": [
    {
     "data": {
      "text/plain": [
       "(38, 4)"
      ]
     },
     "execution_count": 48,
     "metadata": {},
     "output_type": "execute_result"
    }
   ],
   "source": [
    "df20.shape"
   ]
  },
  {
   "cell_type": "code",
   "execution_count": 45,
   "id": "6bfd6ffd-5a62-414f-b0bb-3639b9f58231",
   "metadata": {},
   "outputs": [],
   "source": [
    "df = df00.merge(df20, on='Value', how='outer')"
   ]
  },
  {
   "cell_type": "code",
   "execution_count": 46,
   "id": "84ad2a1e-bb21-4777-b1fc-caea499de14f",
   "metadata": {},
   "outputs": [
    {
     "data": {
      "text/html": [
       "<div>\n",
       "<style scoped>\n",
       "    .dataframe tbody tr th:only-of-type {\n",
       "        vertical-align: middle;\n",
       "    }\n",
       "\n",
       "    .dataframe tbody tr th {\n",
       "        vertical-align: top;\n",
       "    }\n",
       "\n",
       "    .dataframe thead th {\n",
       "        text-align: right;\n",
       "    }\n",
       "</style>\n",
       "<table border=\"1\" class=\"dataframe\">\n",
       "  <thead>\n",
       "    <tr style=\"text-align: right;\">\n",
       "      <th></th>\n",
       "      <th>Value</th>\n",
       "      <th>Pixels_2000</th>\n",
       "      <th>Area_2000</th>\n",
       "      <th>Pixels_pct_2000</th>\n",
       "      <th>Pixels_2020</th>\n",
       "      <th>Area_2020</th>\n",
       "      <th>Pixels_pct_2020</th>\n",
       "    </tr>\n",
       "  </thead>\n",
       "  <tbody>\n",
       "    <tr>\n",
       "      <th>0</th>\n",
       "      <td>0</td>\n",
       "      <td>1333613</td>\n",
       "      <td>0.083351</td>\n",
       "      <td>0.018132</td>\n",
       "      <td>1723113</td>\n",
       "      <td>0.107695</td>\n",
       "      <td>0.023428</td>\n",
       "    </tr>\n",
       "    <tr>\n",
       "      <th>1</th>\n",
       "      <td>3</td>\n",
       "      <td>26519</td>\n",
       "      <td>0.001657</td>\n",
       "      <td>0.000361</td>\n",
       "      <td>87226</td>\n",
       "      <td>0.005452</td>\n",
       "      <td>0.001186</td>\n",
       "    </tr>\n",
       "    <tr>\n",
       "      <th>2</th>\n",
       "      <td>4</td>\n",
       "      <td>100486</td>\n",
       "      <td>0.006280</td>\n",
       "      <td>0.001366</td>\n",
       "      <td>122519</td>\n",
       "      <td>0.007657</td>\n",
       "      <td>0.001666</td>\n",
       "    </tr>\n",
       "    <tr>\n",
       "      <th>3</th>\n",
       "      <td>5</td>\n",
       "      <td>345406</td>\n",
       "      <td>0.021588</td>\n",
       "      <td>0.004696</td>\n",
       "      <td>301924</td>\n",
       "      <td>0.018870</td>\n",
       "      <td>0.004105</td>\n",
       "    </tr>\n",
       "    <tr>\n",
       "      <th>4</th>\n",
       "      <td>6</td>\n",
       "      <td>164862</td>\n",
       "      <td>0.010304</td>\n",
       "      <td>0.002242</td>\n",
       "      <td>232080</td>\n",
       "      <td>0.014505</td>\n",
       "      <td>0.003155</td>\n",
       "    </tr>\n",
       "  </tbody>\n",
       "</table>\n",
       "</div>"
      ],
      "text/plain": [
       "   Value  Pixels_2000  Area_2000  Pixels_pct_2000  Pixels_2020  Area_2020  \\\n",
       "0      0      1333613   0.083351         0.018132      1723113   0.107695   \n",
       "1      3        26519   0.001657         0.000361        87226   0.005452   \n",
       "2      4       100486   0.006280         0.001366       122519   0.007657   \n",
       "3      5       345406   0.021588         0.004696       301924   0.018870   \n",
       "4      6       164862   0.010304         0.002242       232080   0.014505   \n",
       "\n",
       "   Pixels_pct_2020  \n",
       "0         0.023428  \n",
       "1         0.001186  \n",
       "2         0.001666  \n",
       "3         0.004105  \n",
       "4         0.003155  "
      ]
     },
     "execution_count": 46,
     "metadata": {},
     "output_type": "execute_result"
    }
   ],
   "source": [
    "df.head()"
   ]
  },
  {
   "cell_type": "code",
   "execution_count": 61,
   "id": "7640c11b-302e-45d1-9f29-88f9e27fb06a",
   "metadata": {},
   "outputs": [],
   "source": [
    "df['Pixel_difference'] = df['Pixels_2020'] - df['Pixels_2000']"
   ]
  },
  {
   "cell_type": "code",
   "execution_count": 96,
   "id": "80b41f4b-c74c-4afa-94d4-f5cbba04ae8e",
   "metadata": {},
   "outputs": [],
   "source": [
    "df['pct_difference'] = df['Pixels_pct_2020'] - df['Pixels_pct_2000']"
   ]
  },
  {
   "cell_type": "code",
   "execution_count": 97,
   "id": "d04889cd-8d5c-4897-b989-c93eb5215194",
   "metadata": {},
   "outputs": [
    {
     "data": {
      "text/html": [
       "<div>\n",
       "<style scoped>\n",
       "    .dataframe tbody tr th:only-of-type {\n",
       "        vertical-align: middle;\n",
       "    }\n",
       "\n",
       "    .dataframe tbody tr th {\n",
       "        vertical-align: top;\n",
       "    }\n",
       "\n",
       "    .dataframe thead th {\n",
       "        text-align: right;\n",
       "    }\n",
       "</style>\n",
       "<table border=\"1\" class=\"dataframe\">\n",
       "  <thead>\n",
       "    <tr style=\"text-align: right;\">\n",
       "      <th></th>\n",
       "      <th>Value</th>\n",
       "      <th>Pixels_2000</th>\n",
       "      <th>Area_2000</th>\n",
       "      <th>Pixels_pct_2000</th>\n",
       "      <th>Pixels_2020</th>\n",
       "      <th>Area_2020</th>\n",
       "      <th>Pixels_pct_2020</th>\n",
       "      <th>Pixel_difference</th>\n",
       "      <th>pct_difference</th>\n",
       "    </tr>\n",
       "  </thead>\n",
       "  <tbody>\n",
       "    <tr>\n",
       "      <th>0</th>\n",
       "      <td>0</td>\n",
       "      <td>1333613</td>\n",
       "      <td>0.083351</td>\n",
       "      <td>0.018132</td>\n",
       "      <td>1723113</td>\n",
       "      <td>0.107695</td>\n",
       "      <td>0.023428</td>\n",
       "      <td>389500</td>\n",
       "      <td>0.005296</td>\n",
       "    </tr>\n",
       "    <tr>\n",
       "      <th>1</th>\n",
       "      <td>3</td>\n",
       "      <td>26519</td>\n",
       "      <td>0.001657</td>\n",
       "      <td>0.000361</td>\n",
       "      <td>87226</td>\n",
       "      <td>0.005452</td>\n",
       "      <td>0.001186</td>\n",
       "      <td>60707</td>\n",
       "      <td>0.000825</td>\n",
       "    </tr>\n",
       "    <tr>\n",
       "      <th>2</th>\n",
       "      <td>4</td>\n",
       "      <td>100486</td>\n",
       "      <td>0.006280</td>\n",
       "      <td>0.001366</td>\n",
       "      <td>122519</td>\n",
       "      <td>0.007657</td>\n",
       "      <td>0.001666</td>\n",
       "      <td>22033</td>\n",
       "      <td>0.000300</td>\n",
       "    </tr>\n",
       "    <tr>\n",
       "      <th>3</th>\n",
       "      <td>5</td>\n",
       "      <td>345406</td>\n",
       "      <td>0.021588</td>\n",
       "      <td>0.004696</td>\n",
       "      <td>301924</td>\n",
       "      <td>0.018870</td>\n",
       "      <td>0.004105</td>\n",
       "      <td>-43482</td>\n",
       "      <td>-0.000591</td>\n",
       "    </tr>\n",
       "    <tr>\n",
       "      <th>4</th>\n",
       "      <td>6</td>\n",
       "      <td>164862</td>\n",
       "      <td>0.010304</td>\n",
       "      <td>0.002242</td>\n",
       "      <td>232080</td>\n",
       "      <td>0.014505</td>\n",
       "      <td>0.003155</td>\n",
       "      <td>67218</td>\n",
       "      <td>0.000914</td>\n",
       "    </tr>\n",
       "  </tbody>\n",
       "</table>\n",
       "</div>"
      ],
      "text/plain": [
       "   Value  Pixels_2000  Area_2000  Pixels_pct_2000  Pixels_2020  Area_2020  \\\n",
       "0      0      1333613   0.083351         0.018132      1723113   0.107695   \n",
       "1      3        26519   0.001657         0.000361        87226   0.005452   \n",
       "2      4       100486   0.006280         0.001366       122519   0.007657   \n",
       "3      5       345406   0.021588         0.004696       301924   0.018870   \n",
       "4      6       164862   0.010304         0.002242       232080   0.014505   \n",
       "\n",
       "   Pixels_pct_2020  Pixel_difference  pct_difference  \n",
       "0         0.023428            389500        0.005296  \n",
       "1         0.001186             60707        0.000825  \n",
       "2         0.001666             22033        0.000300  \n",
       "3         0.004105            -43482       -0.000591  \n",
       "4         0.003155             67218        0.000914  "
      ]
     },
     "execution_count": 97,
     "metadata": {},
     "output_type": "execute_result"
    }
   ],
   "source": [
    "df.head()"
   ]
  },
  {
   "cell_type": "code",
   "execution_count": 108,
   "id": "0b1229ef-1e6c-4d7c-b69d-2ba7a47f200b",
   "metadata": {},
   "outputs": [
    {
     "data": {
      "text/html": [
       "<div>\n",
       "<style scoped>\n",
       "    .dataframe tbody tr th:only-of-type {\n",
       "        vertical-align: middle;\n",
       "    }\n",
       "\n",
       "    .dataframe tbody tr th {\n",
       "        vertical-align: top;\n",
       "    }\n",
       "\n",
       "    .dataframe thead th {\n",
       "        text-align: right;\n",
       "    }\n",
       "</style>\n",
       "<table border=\"1\" class=\"dataframe\">\n",
       "  <thead>\n",
       "    <tr style=\"text-align: right;\">\n",
       "      <th></th>\n",
       "      <th>Value</th>\n",
       "      <th>Pixels_2000</th>\n",
       "      <th>Area_2000</th>\n",
       "      <th>Pixels_pct_2000</th>\n",
       "      <th>Pixels_2020</th>\n",
       "      <th>Area_2020</th>\n",
       "      <th>Pixels_pct_2020</th>\n",
       "      <th>Pixel_difference</th>\n",
       "      <th>pct_difference</th>\n",
       "    </tr>\n",
       "  </thead>\n",
       "  <tbody>\n",
       "    <tr>\n",
       "      <th>0</th>\n",
       "      <td>0</td>\n",
       "      <td>1333613</td>\n",
       "      <td>0.083351</td>\n",
       "      <td>0.018132</td>\n",
       "      <td>1723113</td>\n",
       "      <td>0.107695</td>\n",
       "      <td>0.023428</td>\n",
       "      <td>389500</td>\n",
       "      <td>0.005296</td>\n",
       "    </tr>\n",
       "    <tr>\n",
       "      <th>1</th>\n",
       "      <td>3</td>\n",
       "      <td>26519</td>\n",
       "      <td>0.001657</td>\n",
       "      <td>0.000361</td>\n",
       "      <td>87226</td>\n",
       "      <td>0.005452</td>\n",
       "      <td>0.001186</td>\n",
       "      <td>60707</td>\n",
       "      <td>0.000825</td>\n",
       "    </tr>\n",
       "    <tr>\n",
       "      <th>2</th>\n",
       "      <td>4</td>\n",
       "      <td>100486</td>\n",
       "      <td>0.006280</td>\n",
       "      <td>0.001366</td>\n",
       "      <td>122519</td>\n",
       "      <td>0.007657</td>\n",
       "      <td>0.001666</td>\n",
       "      <td>22033</td>\n",
       "      <td>0.000300</td>\n",
       "    </tr>\n",
       "    <tr>\n",
       "      <th>3</th>\n",
       "      <td>5</td>\n",
       "      <td>345406</td>\n",
       "      <td>0.021588</td>\n",
       "      <td>0.004696</td>\n",
       "      <td>301924</td>\n",
       "      <td>0.018870</td>\n",
       "      <td>0.004105</td>\n",
       "      <td>-43482</td>\n",
       "      <td>-0.000591</td>\n",
       "    </tr>\n",
       "    <tr>\n",
       "      <th>4</th>\n",
       "      <td>6</td>\n",
       "      <td>164862</td>\n",
       "      <td>0.010304</td>\n",
       "      <td>0.002242</td>\n",
       "      <td>232080</td>\n",
       "      <td>0.014505</td>\n",
       "      <td>0.003155</td>\n",
       "      <td>67218</td>\n",
       "      <td>0.000914</td>\n",
       "    </tr>\n",
       "  </tbody>\n",
       "</table>\n",
       "</div>"
      ],
      "text/plain": [
       "   Value  Pixels_2000  Area_2000  Pixels_pct_2000  Pixels_2020  Area_2020  \\\n",
       "0      0      1333613   0.083351         0.018132      1723113   0.107695   \n",
       "1      3        26519   0.001657         0.000361        87226   0.005452   \n",
       "2      4       100486   0.006280         0.001366       122519   0.007657   \n",
       "3      5       345406   0.021588         0.004696       301924   0.018870   \n",
       "4      6       164862   0.010304         0.002242       232080   0.014505   \n",
       "\n",
       "   Pixels_pct_2020  Pixel_difference  pct_difference  \n",
       "0         0.023428            389500        0.005296  \n",
       "1         0.001186             60707        0.000825  \n",
       "2         0.001666             22033        0.000300  \n",
       "3         0.004105            -43482       -0.000591  \n",
       "4         0.003155             67218        0.000914  "
      ]
     },
     "execution_count": 108,
     "metadata": {},
     "output_type": "execute_result"
    }
   ],
   "source": [
    "df.head()"
   ]
  },
  {
   "cell_type": "code",
   "execution_count": 49,
   "id": "c92fb857-4c6a-4bc5-a2d5-6cc05c8b42de",
   "metadata": {},
   "outputs": [
    {
     "data": {
      "text/plain": [
       "(38, 7)"
      ]
     },
     "execution_count": 49,
     "metadata": {},
     "output_type": "execute_result"
    }
   ],
   "source": [
    "df.shape"
   ]
  },
  {
   "cell_type": "code",
   "execution_count": 109,
   "id": "2fea7957-c1ad-457b-9bc2-a68b2bc02884",
   "metadata": {},
   "outputs": [],
   "source": [
    "df.to_csv('guyana_concessions_tree_height_raster_analysis_2000_2020.csv', index=False)"
   ]
  },
  {
   "cell_type": "code",
   "execution_count": 59,
   "id": "c90a0e0d-9ae3-420e-9f58-b4d55031df13",
   "metadata": {},
   "outputs": [
    {
     "data": {
      "image/png": "[encoded data removed]",
      "text/plain": [
       "<Figure size 1000x600 with 1 Axes>"
      ]
     },
     "metadata": {},
     "output_type": "display_data"
    }
   ],
   "source": [
    "import matplotlib.pyplot as plt\n",
    "import numpy as np\n",
    "\n",
    "# Set the positions and width for the bars\n",
    "x = np.arange(len(df['Value']))  # the label locations\n",
    "width = 0.35  # width of the bars\n",
    "\n",
    "# Create the plot\n",
    "fig, ax = plt.subplots(figsize=(10, 6))\n",
    "bars1 = ax.bar(x - width/2, df['Pixels_2000'], width, label='Pixels 2000')\n",
    "bars2 = ax.bar(x + width/2, df['Pixels_2020'], width, label='Pixels 2020')\n",
    "\n",
    "# Add labels and title\n",
    "ax.set_xlabel('Value')\n",
    "ax.set_ylabel('Number of Pixels')\n",
    "ax.set_title('Pixel Counts by Value (2000 vs 2020)')\n",
    "ax.set_xticks(x)\n",
    "ax.set_xticklabels(df['Value'], rotation=45)\n",
    "ax.legend()\n",
    "\n",
    "plt.tight_layout()\n",
    "plt.show()"
   ]
  },
  {
   "cell_type": "code",
   "execution_count": 65,
   "id": "d6f5f439-bb69-407c-89c1-921db063d1ff",
   "metadata": {},
   "outputs": [
    {
     "data": {
      "image/png": "[encoded data removed]",
      "text/plain": [
       "<Figure size 900x500 with 1 Axes>"
      ]
     },
     "metadata": {},
     "output_type": "display_data"
    }
   ],
   "source": [
    "x = np.arange(len(df['Value']))        # one x‑tick per category\n",
    "width = 0.6                            # bar width\n",
    "\n",
    "fig, ax = plt.subplots(figsize=(9, 5))\n",
    "ax.bar(x, df['Pixel_difference'], width)\n",
    "\n",
    "# axis labels & ticks\n",
    "ax.set_xlabel('Value')\n",
    "ax.set_ylabel('Pixel difference')\n",
    "ax.set_title('Pixel difference by Value')\n",
    "ax.set_xticks(x)\n",
    "ax.set_xticklabels(df['Value'], rotation=45, ha='right')\n",
    "\n",
    "plt.tight_layout()\n",
    "plt.show()"
   ]
  },
  {
   "cell_type": "code",
   "execution_count": 98,
   "id": "ea1ae7e7-f3b1-401e-bf02-7a36bc8e4e48",
   "metadata": {},
   "outputs": [
    {
     "data": {
      "text/html": [
       "<div>\n",
       "<style scoped>\n",
       "    .dataframe tbody tr th:only-of-type {\n",
       "        vertical-align: middle;\n",
       "    }\n",
       "\n",
       "    .dataframe tbody tr th {\n",
       "        vertical-align: top;\n",
       "    }\n",
       "\n",
       "    .dataframe thead th {\n",
       "        text-align: right;\n",
       "    }\n",
       "</style>\n",
       "<table border=\"1\" class=\"dataframe\">\n",
       "  <thead>\n",
       "    <tr style=\"text-align: right;\">\n",
       "      <th></th>\n",
       "      <th>Value_Group</th>\n",
       "      <th>Pixels_2000</th>\n",
       "      <th>Area_2000</th>\n",
       "      <th>Pixels_pct_2000</th>\n",
       "      <th>Pixels_2020</th>\n",
       "      <th>Area_2020</th>\n",
       "      <th>Pixels_pct_2020</th>\n",
       "    </tr>\n",
       "  </thead>\n",
       "  <tbody>\n",
       "    <tr>\n",
       "      <th>0</th>\n",
       "      <td>0</td>\n",
       "      <td>1333613</td>\n",
       "      <td>0.083351</td>\n",
       "      <td>0.018132</td>\n",
       "      <td>1723113</td>\n",
       "      <td>0.107695</td>\n",
       "      <td>0.023428</td>\n",
       "    </tr>\n",
       "    <tr>\n",
       "      <th>1</th>\n",
       "      <td>1-9</td>\n",
       "      <td>978674</td>\n",
       "      <td>0.061167</td>\n",
       "      <td>0.013306</td>\n",
       "      <td>1260154</td>\n",
       "      <td>0.078760</td>\n",
       "      <td>0.017134</td>\n",
       "    </tr>\n",
       "    <tr>\n",
       "      <th>2</th>\n",
       "      <td>10-19</td>\n",
       "      <td>2405520</td>\n",
       "      <td>0.150345</td>\n",
       "      <td>0.032706</td>\n",
       "      <td>2606242</td>\n",
       "      <td>0.162890</td>\n",
       "      <td>0.035435</td>\n",
       "    </tr>\n",
       "    <tr>\n",
       "      <th>3</th>\n",
       "      <td>20-29</td>\n",
       "      <td>27291690</td>\n",
       "      <td>1.705731</td>\n",
       "      <td>0.371068</td>\n",
       "      <td>31992639</td>\n",
       "      <td>1.999540</td>\n",
       "      <td>0.434984</td>\n",
       "    </tr>\n",
       "    <tr>\n",
       "      <th>4</th>\n",
       "      <td>30-39</td>\n",
       "      <td>41539563</td>\n",
       "      <td>2.596223</td>\n",
       "      <td>0.564787</td>\n",
       "      <td>35966912</td>\n",
       "      <td>2.247932</td>\n",
       "      <td>0.489019</td>\n",
       "    </tr>\n",
       "  </tbody>\n",
       "</table>\n",
       "</div>"
      ],
      "text/plain": [
       "  Value_Group  Pixels_2000  Area_2000  Pixels_pct_2000  Pixels_2020  \\\n",
       "0           0      1333613   0.083351         0.018132      1723113   \n",
       "1         1-9       978674   0.061167         0.013306      1260154   \n",
       "2       10-19      2405520   0.150345         0.032706      2606242   \n",
       "3       20-29     27291690   1.705731         0.371068     31992639   \n",
       "4       30-39     41539563   2.596223         0.564787     35966912   \n",
       "\n",
       "   Area_2020  Pixels_pct_2020  \n",
       "0   0.107695         0.023428  \n",
       "1   0.078760         0.017134  \n",
       "2   0.162890         0.035435  \n",
       "3   1.999540         0.434984  \n",
       "4   2.247932         0.489019  "
      ]
     },
     "execution_count": 98,
     "metadata": {},
     "output_type": "execute_result"
    }
   ],
   "source": [
    "# Create a copy of the DataFrame to avoid modifying the original\n",
    "df_grouped = df.copy()\n",
    "\n",
    "# Define custom group labels\n",
    "def group_label(val):\n",
    "    if val == 0:\n",
    "        return '0'\n",
    "    elif 1 <= val <= 9:\n",
    "        return '1-9'\n",
    "    elif 10 <= val <= 19:\n",
    "        return '10-19'\n",
    "    elif 20 <= val <= 29:\n",
    "        return '20-29'\n",
    "    elif 30 <= val <= 39:\n",
    "        return '30-39'\n",
    "    else:\n",
    "        return 'other'  # in case there are values outside your expected range\n",
    "\n",
    "# Apply grouping\n",
    "df_grouped['Value_Group'] = df_grouped['Value'].apply(group_label)\n",
    "\n",
    "# Group by the new category and sum the relevant columns\n",
    "columns_to_sum = [\n",
    "    'Pixels_2000', 'Area_2000', 'Pixels_pct_2000',\n",
    "    'Pixels_2020', 'Area_2020', 'Pixels_pct_2020'\n",
    "]\n",
    "\n",
    "df_result = df_grouped.groupby('Value_Group')[columns_to_sum].sum().reset_index()\n",
    "df_result"
   ]
  },
  {
   "cell_type": "code",
   "execution_count": 99,
   "id": "22968be4-3cc1-4a87-8780-96e00c4a8404",
   "metadata": {},
   "outputs": [],
   "source": [
    "df_result['pct_change'] = (df_result['Pixels_pct_2020'] - df_result['Pixels_pct_2000']) / df_result['Pixels_pct_2000'] "
   ]
  },
  {
   "cell_type": "code",
   "execution_count": 100,
   "id": "370d7722-056a-4e0d-bdf4-2a44a33f8094",
   "metadata": {},
   "outputs": [
    {
     "data": {
      "text/html": [
       "<div>\n",
       "<style scoped>\n",
       "    .dataframe tbody tr th:only-of-type {\n",
       "        vertical-align: middle;\n",
       "    }\n",
       "\n",
       "    .dataframe tbody tr th {\n",
       "        vertical-align: top;\n",
       "    }\n",
       "\n",
       "    .dataframe thead th {\n",
       "        text-align: right;\n",
       "    }\n",
       "</style>\n",
       "<table border=\"1\" class=\"dataframe\">\n",
       "  <thead>\n",
       "    <tr style=\"text-align: right;\">\n",
       "      <th></th>\n",
       "      <th>Value_Group</th>\n",
       "      <th>Pixels_2000</th>\n",
       "      <th>Area_2000</th>\n",
       "      <th>Pixels_pct_2000</th>\n",
       "      <th>Pixels_2020</th>\n",
       "      <th>Area_2020</th>\n",
       "      <th>Pixels_pct_2020</th>\n",
       "      <th>pct_change</th>\n",
       "    </tr>\n",
       "  </thead>\n",
       "  <tbody>\n",
       "    <tr>\n",
       "      <th>0</th>\n",
       "      <td>0</td>\n",
       "      <td>1333613</td>\n",
       "      <td>0.083351</td>\n",
       "      <td>0.018132</td>\n",
       "      <td>1723113</td>\n",
       "      <td>0.107695</td>\n",
       "      <td>0.023428</td>\n",
       "      <td>0.292064</td>\n",
       "    </tr>\n",
       "    <tr>\n",
       "      <th>1</th>\n",
       "      <td>1-9</td>\n",
       "      <td>978674</td>\n",
       "      <td>0.061167</td>\n",
       "      <td>0.013306</td>\n",
       "      <td>1260154</td>\n",
       "      <td>0.078760</td>\n",
       "      <td>0.017134</td>\n",
       "      <td>0.287614</td>\n",
       "    </tr>\n",
       "    <tr>\n",
       "      <th>2</th>\n",
       "      <td>10-19</td>\n",
       "      <td>2405520</td>\n",
       "      <td>0.150345</td>\n",
       "      <td>0.032706</td>\n",
       "      <td>2606242</td>\n",
       "      <td>0.162890</td>\n",
       "      <td>0.035435</td>\n",
       "      <td>0.083442</td>\n",
       "    </tr>\n",
       "    <tr>\n",
       "      <th>3</th>\n",
       "      <td>20-29</td>\n",
       "      <td>27291690</td>\n",
       "      <td>1.705731</td>\n",
       "      <td>0.371068</td>\n",
       "      <td>31992639</td>\n",
       "      <td>1.999540</td>\n",
       "      <td>0.434984</td>\n",
       "      <td>0.172248</td>\n",
       "    </tr>\n",
       "    <tr>\n",
       "      <th>4</th>\n",
       "      <td>30-39</td>\n",
       "      <td>41539563</td>\n",
       "      <td>2.596223</td>\n",
       "      <td>0.564787</td>\n",
       "      <td>35966912</td>\n",
       "      <td>2.247932</td>\n",
       "      <td>0.489019</td>\n",
       "      <td>-0.134153</td>\n",
       "    </tr>\n",
       "  </tbody>\n",
       "</table>\n",
       "</div>"
      ],
      "text/plain": [
       "  Value_Group  Pixels_2000  Area_2000  Pixels_pct_2000  Pixels_2020  \\\n",
       "0           0      1333613   0.083351         0.018132      1723113   \n",
       "1         1-9       978674   0.061167         0.013306      1260154   \n",
       "2       10-19      2405520   0.150345         0.032706      2606242   \n",
       "3       20-29     27291690   1.705731         0.371068     31992639   \n",
       "4       30-39     41539563   2.596223         0.564787     35966912   \n",
       "\n",
       "   Area_2020  Pixels_pct_2020  pct_change  \n",
       "0   0.107695         0.023428    0.292064  \n",
       "1   0.078760         0.017134    0.287614  \n",
       "2   0.162890         0.035435    0.083442  \n",
       "3   1.999540         0.434984    0.172248  \n",
       "4   2.247932         0.489019   -0.134153  "
      ]
     },
     "execution_count": 100,
     "metadata": {},
     "output_type": "execute_result"
    }
   ],
   "source": [
    "df_result.head()"
   ]
  },
  {
   "cell_type": "markdown",
   "id": "a6d2a1f9-de82-457f-87f6-fceea355f878",
   "metadata": {},
   "source": [
    "### The tallest group of trees decreased by 13% and were instead classified in shorter trees group (the next tallest group), while the amount of land without forest increased by 29% and the land with very short trees increased by 29%"
   ]
  },
  {
   "cell_type": "markdown",
   "id": "0ae1cf5b-23da-4914-927a-dff114c36151",
   "metadata": {},
   "source": [
    "# Same analysis for related concessions"
   ]
  },
  {
   "cell_type": "code",
   "execution_count": 66,
   "id": "cc3024f1-fa42-4956-8b85-da3747bd65a3",
   "metadata": {},
   "outputs": [],
   "source": [
    "rc00 = pd.read_csv('analysis/2000 related Guyana concessions forest height.csv')"
   ]
  },
  {
   "cell_type": "code",
   "execution_count": 67,
   "id": "7d4d8043-55e7-47cd-b092-0b8255d73d6f",
   "metadata": {},
   "outputs": [
    {
     "data": {
      "text/plain": [
       "5824148"
      ]
     },
     "execution_count": 67,
     "metadata": {},
     "output_type": "execute_result"
    }
   ],
   "source": [
    "rc00['Pixel count'].sum()"
   ]
  },
  {
   "cell_type": "code",
   "execution_count": 68,
   "id": "5c9e8134-cf01-402d-9d01-aef7e0f47c5e",
   "metadata": {},
   "outputs": [],
   "source": [
    "rc20 = pd.read_csv('analysis/2020 related Guyana concessions forest height.csv')"
   ]
  },
  {
   "cell_type": "code",
   "execution_count": 69,
   "id": "1560788c-3af7-456a-b615-fc66f30a2783",
   "metadata": {},
   "outputs": [
    {
     "data": {
      "text/plain": [
       "5824130"
      ]
     },
     "execution_count": 69,
     "metadata": {},
     "output_type": "execute_result"
    }
   ],
   "source": [
    "rc20['Pixel count'].sum()"
   ]
  },
  {
   "cell_type": "code",
   "execution_count": 70,
   "id": "f6fa1c02-f49f-42ab-b7f0-4149ec6d1590",
   "metadata": {},
   "outputs": [],
   "source": [
    "rc00['Pixels_2000'] = rc00['Pixel count']"
   ]
  },
  {
   "cell_type": "code",
   "execution_count": 71,
   "id": "b13b3c8b-395b-4c15-b69e-55494ef37d08",
   "metadata": {},
   "outputs": [],
   "source": [
    "rc00 = rc00.drop(columns='Pixel count')"
   ]
  },
  {
   "cell_type": "code",
   "execution_count": 72,
   "id": "6e655fd3-27ed-413a-bf50-6a177b57b2b0",
   "metadata": {},
   "outputs": [],
   "source": [
    "rc00['Area_2000'] = rc00['Area (deg2)']"
   ]
  },
  {
   "cell_type": "code",
   "execution_count": 73,
   "id": "aad1ef00-aaa6-46cc-8227-b7fa560447f9",
   "metadata": {},
   "outputs": [],
   "source": [
    "rc00 = rc00.drop(columns='Area (deg2)')"
   ]
  },
  {
   "cell_type": "code",
   "execution_count": 74,
   "id": "0e82ec65-c1e3-4ec8-a605-205302260fa3",
   "metadata": {},
   "outputs": [],
   "source": [
    "rc00['Pixels_pct_2000'] = rc00['Pixels_2000'] / 5824148"
   ]
  },
  {
   "cell_type": "code",
   "execution_count": 75,
   "id": "9917a62b-8ce6-4c21-afc2-b3e02be53339",
   "metadata": {},
   "outputs": [
    {
     "data": {
      "text/html": [
       "<div>\n",
       "<style scoped>\n",
       "    .dataframe tbody tr th:only-of-type {\n",
       "        vertical-align: middle;\n",
       "    }\n",
       "\n",
       "    .dataframe tbody tr th {\n",
       "        vertical-align: top;\n",
       "    }\n",
       "\n",
       "    .dataframe thead th {\n",
       "        text-align: right;\n",
       "    }\n",
       "</style>\n",
       "<table border=\"1\" class=\"dataframe\">\n",
       "  <thead>\n",
       "    <tr style=\"text-align: right;\">\n",
       "      <th></th>\n",
       "      <th>Value</th>\n",
       "      <th>Pixels_2000</th>\n",
       "      <th>Area_2000</th>\n",
       "      <th>Pixels_pct_2000</th>\n",
       "    </tr>\n",
       "  </thead>\n",
       "  <tbody>\n",
       "    <tr>\n",
       "      <th>0</th>\n",
       "      <td>0</td>\n",
       "      <td>30499</td>\n",
       "      <td>0.001906</td>\n",
       "      <td>0.005237</td>\n",
       "    </tr>\n",
       "    <tr>\n",
       "      <th>1</th>\n",
       "      <td>3</td>\n",
       "      <td>555</td>\n",
       "      <td>0.000035</td>\n",
       "      <td>0.000095</td>\n",
       "    </tr>\n",
       "    <tr>\n",
       "      <th>2</th>\n",
       "      <td>4</td>\n",
       "      <td>1905</td>\n",
       "      <td>0.000119</td>\n",
       "      <td>0.000327</td>\n",
       "    </tr>\n",
       "    <tr>\n",
       "      <th>3</th>\n",
       "      <td>5</td>\n",
       "      <td>9085</td>\n",
       "      <td>0.000568</td>\n",
       "      <td>0.001560</td>\n",
       "    </tr>\n",
       "    <tr>\n",
       "      <th>4</th>\n",
       "      <td>6</td>\n",
       "      <td>4214</td>\n",
       "      <td>0.000263</td>\n",
       "      <td>0.000724</td>\n",
       "    </tr>\n",
       "  </tbody>\n",
       "</table>\n",
       "</div>"
      ],
      "text/plain": [
       "   Value  Pixels_2000  Area_2000  Pixels_pct_2000\n",
       "0      0        30499   0.001906         0.005237\n",
       "1      3          555   0.000035         0.000095\n",
       "2      4         1905   0.000119         0.000327\n",
       "3      5         9085   0.000568         0.001560\n",
       "4      6         4214   0.000263         0.000724"
      ]
     },
     "execution_count": 75,
     "metadata": {},
     "output_type": "execute_result"
    }
   ],
   "source": [
    "rc00.head()"
   ]
  },
  {
   "cell_type": "code",
   "execution_count": 76,
   "id": "2a23fdfb-b86f-47ac-a82c-d327180502e8",
   "metadata": {},
   "outputs": [
    {
     "data": {
      "text/plain": [
       "(36, 4)"
      ]
     },
     "execution_count": 76,
     "metadata": {},
     "output_type": "execute_result"
    }
   ],
   "source": [
    "rc00.shape"
   ]
  },
  {
   "cell_type": "code",
   "execution_count": 78,
   "id": "de4178de-91e8-4d2b-8f95-8baada870b1d",
   "metadata": {},
   "outputs": [],
   "source": [
    "rc20['Pixels_2020'] = rc20['Pixel count']"
   ]
  },
  {
   "cell_type": "code",
   "execution_count": 79,
   "id": "7dd5dd99-7edf-4ac6-89a0-443f45b440e6",
   "metadata": {},
   "outputs": [],
   "source": [
    "rc20 = rc20.drop(columns='Pixel count')"
   ]
  },
  {
   "cell_type": "code",
   "execution_count": 81,
   "id": "39f22fc1-f873-43f3-a110-1ea9698aefe4",
   "metadata": {},
   "outputs": [],
   "source": [
    "rc20['Area_2020'] = rc20['Area (deg2)']"
   ]
  },
  {
   "cell_type": "code",
   "execution_count": 82,
   "id": "6c0748b2-a32e-4d02-8731-7b07f3609371",
   "metadata": {},
   "outputs": [
    {
     "data": {
      "text/html": [
       "<div>\n",
       "<style scoped>\n",
       "    .dataframe tbody tr th:only-of-type {\n",
       "        vertical-align: middle;\n",
       "    }\n",
       "\n",
       "    .dataframe tbody tr th {\n",
       "        vertical-align: top;\n",
       "    }\n",
       "\n",
       "    .dataframe thead th {\n",
       "        text-align: right;\n",
       "    }\n",
       "</style>\n",
       "<table border=\"1\" class=\"dataframe\">\n",
       "  <thead>\n",
       "    <tr style=\"text-align: right;\">\n",
       "      <th></th>\n",
       "      <th>Value</th>\n",
       "      <th>Area (deg2)</th>\n",
       "      <th>Pixels_2020</th>\n",
       "      <th>Area_2000</th>\n",
       "      <th>Area_2020</th>\n",
       "    </tr>\n",
       "  </thead>\n",
       "  <tbody>\n",
       "    <tr>\n",
       "      <th>0</th>\n",
       "      <td>0</td>\n",
       "      <td>0.004232</td>\n",
       "      <td>67716</td>\n",
       "      <td>0.004232</td>\n",
       "      <td>0.004232</td>\n",
       "    </tr>\n",
       "    <tr>\n",
       "      <th>1</th>\n",
       "      <td>3</td>\n",
       "      <td>0.000388</td>\n",
       "      <td>6213</td>\n",
       "      <td>0.000388</td>\n",
       "      <td>0.000388</td>\n",
       "    </tr>\n",
       "    <tr>\n",
       "      <th>2</th>\n",
       "      <td>4</td>\n",
       "      <td>0.000409</td>\n",
       "      <td>6551</td>\n",
       "      <td>0.000409</td>\n",
       "      <td>0.000409</td>\n",
       "    </tr>\n",
       "    <tr>\n",
       "      <th>3</th>\n",
       "      <td>5</td>\n",
       "      <td>0.000792</td>\n",
       "      <td>12679</td>\n",
       "      <td>0.000792</td>\n",
       "      <td>0.000792</td>\n",
       "    </tr>\n",
       "    <tr>\n",
       "      <th>4</th>\n",
       "      <td>6</td>\n",
       "      <td>0.000612</td>\n",
       "      <td>9786</td>\n",
       "      <td>0.000612</td>\n",
       "      <td>0.000612</td>\n",
       "    </tr>\n",
       "  </tbody>\n",
       "</table>\n",
       "</div>"
      ],
      "text/plain": [
       "   Value  Area (deg2)  Pixels_2020  Area_2000  Area_2020\n",
       "0      0     0.004232        67716   0.004232   0.004232\n",
       "1      3     0.000388         6213   0.000388   0.000388\n",
       "2      4     0.000409         6551   0.000409   0.000409\n",
       "3      5     0.000792        12679   0.000792   0.000792\n",
       "4      6     0.000612         9786   0.000612   0.000612"
      ]
     },
     "execution_count": 82,
     "metadata": {},
     "output_type": "execute_result"
    }
   ],
   "source": [
    "rc20.head()"
   ]
  },
  {
   "cell_type": "code",
   "execution_count": 83,
   "id": "349c44a8-2b75-497d-bfb5-083a9ba502c1",
   "metadata": {},
   "outputs": [],
   "source": [
    "rc20 = rc20.drop(columns={'Area (deg2)','Area_2000'})"
   ]
  },
  {
   "cell_type": "code",
   "execution_count": 84,
   "id": "e1124067-196d-45f5-8ea9-46dcc6a0b085",
   "metadata": {},
   "outputs": [],
   "source": [
    "rc20['Pixels_pct_2020'] = rc20['Pixels_2020'] / 5824130"
   ]
  },
  {
   "cell_type": "code",
   "execution_count": 85,
   "id": "82ae4918-5dfb-4fdd-88c8-988535994b47",
   "metadata": {},
   "outputs": [
    {
     "data": {
      "text/html": [
       "<div>\n",
       "<style scoped>\n",
       "    .dataframe tbody tr th:only-of-type {\n",
       "        vertical-align: middle;\n",
       "    }\n",
       "\n",
       "    .dataframe tbody tr th {\n",
       "        vertical-align: top;\n",
       "    }\n",
       "\n",
       "    .dataframe thead th {\n",
       "        text-align: right;\n",
       "    }\n",
       "</style>\n",
       "<table border=\"1\" class=\"dataframe\">\n",
       "  <thead>\n",
       "    <tr style=\"text-align: right;\">\n",
       "      <th></th>\n",
       "      <th>Value</th>\n",
       "      <th>Pixels_2020</th>\n",
       "      <th>Area_2020</th>\n",
       "      <th>Pixels_pct_2020</th>\n",
       "    </tr>\n",
       "  </thead>\n",
       "  <tbody>\n",
       "    <tr>\n",
       "      <th>0</th>\n",
       "      <td>0</td>\n",
       "      <td>67716</td>\n",
       "      <td>0.004232</td>\n",
       "      <td>0.011627</td>\n",
       "    </tr>\n",
       "    <tr>\n",
       "      <th>1</th>\n",
       "      <td>3</td>\n",
       "      <td>6213</td>\n",
       "      <td>0.000388</td>\n",
       "      <td>0.001067</td>\n",
       "    </tr>\n",
       "    <tr>\n",
       "      <th>2</th>\n",
       "      <td>4</td>\n",
       "      <td>6551</td>\n",
       "      <td>0.000409</td>\n",
       "      <td>0.001125</td>\n",
       "    </tr>\n",
       "    <tr>\n",
       "      <th>3</th>\n",
       "      <td>5</td>\n",
       "      <td>12679</td>\n",
       "      <td>0.000792</td>\n",
       "      <td>0.002177</td>\n",
       "    </tr>\n",
       "    <tr>\n",
       "      <th>4</th>\n",
       "      <td>6</td>\n",
       "      <td>9786</td>\n",
       "      <td>0.000612</td>\n",
       "      <td>0.001680</td>\n",
       "    </tr>\n",
       "  </tbody>\n",
       "</table>\n",
       "</div>"
      ],
      "text/plain": [
       "   Value  Pixels_2020  Area_2020  Pixels_pct_2020\n",
       "0      0        67716   0.004232         0.011627\n",
       "1      3         6213   0.000388         0.001067\n",
       "2      4         6551   0.000409         0.001125\n",
       "3      5        12679   0.000792         0.002177\n",
       "4      6         9786   0.000612         0.001680"
      ]
     },
     "execution_count": 85,
     "metadata": {},
     "output_type": "execute_result"
    }
   ],
   "source": [
    "rc20.head()"
   ]
  },
  {
   "cell_type": "code",
   "execution_count": 87,
   "id": "112f187b-7f6b-4db1-9c91-653972ef6376",
   "metadata": {},
   "outputs": [
    {
     "data": {
      "text/plain": [
       "(36, 4)"
      ]
     },
     "execution_count": 87,
     "metadata": {},
     "output_type": "execute_result"
    }
   ],
   "source": [
    "rc00.shape"
   ]
  },
  {
   "cell_type": "code",
   "execution_count": 88,
   "id": "340fa8d3-ac83-46bc-985e-4f6d92d5e56c",
   "metadata": {},
   "outputs": [],
   "source": [
    "rc = rc00.merge(rc20, on='Value', how='outer')"
   ]
  },
  {
   "cell_type": "code",
   "execution_count": 89,
   "id": "589c1d7c-c566-4be9-baa9-8465ca598a58",
   "metadata": {},
   "outputs": [
    {
     "data": {
      "text/html": [
       "<div>\n",
       "<style scoped>\n",
       "    .dataframe tbody tr th:only-of-type {\n",
       "        vertical-align: middle;\n",
       "    }\n",
       "\n",
       "    .dataframe tbody tr th {\n",
       "        vertical-align: top;\n",
       "    }\n",
       "\n",
       "    .dataframe thead th {\n",
       "        text-align: right;\n",
       "    }\n",
       "</style>\n",
       "<table border=\"1\" class=\"dataframe\">\n",
       "  <thead>\n",
       "    <tr style=\"text-align: right;\">\n",
       "      <th></th>\n",
       "      <th>Value</th>\n",
       "      <th>Pixels_2000</th>\n",
       "      <th>Area_2000</th>\n",
       "      <th>Pixels_pct_2000</th>\n",
       "      <th>Pixels_2020</th>\n",
       "      <th>Area_2020</th>\n",
       "      <th>Pixels_pct_2020</th>\n",
       "    </tr>\n",
       "  </thead>\n",
       "  <tbody>\n",
       "    <tr>\n",
       "      <th>0</th>\n",
       "      <td>0</td>\n",
       "      <td>30499</td>\n",
       "      <td>0.001906</td>\n",
       "      <td>0.005237</td>\n",
       "      <td>67716</td>\n",
       "      <td>0.004232</td>\n",
       "      <td>0.011627</td>\n",
       "    </tr>\n",
       "    <tr>\n",
       "      <th>1</th>\n",
       "      <td>3</td>\n",
       "      <td>555</td>\n",
       "      <td>0.000035</td>\n",
       "      <td>0.000095</td>\n",
       "      <td>6213</td>\n",
       "      <td>0.000388</td>\n",
       "      <td>0.001067</td>\n",
       "    </tr>\n",
       "    <tr>\n",
       "      <th>2</th>\n",
       "      <td>4</td>\n",
       "      <td>1905</td>\n",
       "      <td>0.000119</td>\n",
       "      <td>0.000327</td>\n",
       "      <td>6551</td>\n",
       "      <td>0.000409</td>\n",
       "      <td>0.001125</td>\n",
       "    </tr>\n",
       "    <tr>\n",
       "      <th>3</th>\n",
       "      <td>5</td>\n",
       "      <td>9085</td>\n",
       "      <td>0.000568</td>\n",
       "      <td>0.001560</td>\n",
       "      <td>12679</td>\n",
       "      <td>0.000792</td>\n",
       "      <td>0.002177</td>\n",
       "    </tr>\n",
       "    <tr>\n",
       "      <th>4</th>\n",
       "      <td>6</td>\n",
       "      <td>4214</td>\n",
       "      <td>0.000263</td>\n",
       "      <td>0.000724</td>\n",
       "      <td>9786</td>\n",
       "      <td>0.000612</td>\n",
       "      <td>0.001680</td>\n",
       "    </tr>\n",
       "  </tbody>\n",
       "</table>\n",
       "</div>"
      ],
      "text/plain": [
       "   Value  Pixels_2000  Area_2000  Pixels_pct_2000  Pixels_2020  Area_2020  \\\n",
       "0      0        30499   0.001906         0.005237        67716   0.004232   \n",
       "1      3          555   0.000035         0.000095         6213   0.000388   \n",
       "2      4         1905   0.000119         0.000327         6551   0.000409   \n",
       "3      5         9085   0.000568         0.001560        12679   0.000792   \n",
       "4      6         4214   0.000263         0.000724         9786   0.000612   \n",
       "\n",
       "   Pixels_pct_2020  \n",
       "0         0.011627  \n",
       "1         0.001067  \n",
       "2         0.001125  \n",
       "3         0.002177  \n",
       "4         0.001680  "
      ]
     },
     "execution_count": 89,
     "metadata": {},
     "output_type": "execute_result"
    }
   ],
   "source": [
    "rc.head()"
   ]
  },
  {
   "cell_type": "code",
   "execution_count": 104,
   "id": "4adcda3b-cd38-44bf-b516-60b6c985ccbd",
   "metadata": {},
   "outputs": [],
   "source": [
    "avg_2000 = (df['Value'] * df['Pixels_2000']).sum() / df['Pixels_2000'].sum()"
   ]
  },
  {
   "cell_type": "code",
   "execution_count": 105,
   "id": "0ee18720-5cfd-4b43-ba46-ef25a425f848",
   "metadata": {},
   "outputs": [
    {
     "data": {
      "text/plain": [
       "28.299627595512437"
      ]
     },
     "execution_count": 105,
     "metadata": {},
     "output_type": "execute_result"
    }
   ],
   "source": [
    "avg_2000"
   ]
  },
  {
   "cell_type": "code",
   "execution_count": 106,
   "id": "d762e52c-5522-4715-ac16-2a639097eb9a",
   "metadata": {},
   "outputs": [],
   "source": [
    "avg_2020 = (df['Value'] * df['Pixels_2020']).sum() / df['Pixels_2020'].sum()"
   ]
  },
  {
   "cell_type": "code",
   "execution_count": 107,
   "id": "4110f02c-d366-4bbb-81e3-a34475a28276",
   "metadata": {},
   "outputs": [
    {
     "data": {
      "text/plain": [
       "27.52662229809599"
      ]
     },
     "execution_count": 107,
     "metadata": {},
     "output_type": "execute_result"
    }
   ],
   "source": [
    "avg_2020"
   ]
  },
  {
   "cell_type": "code",
   "execution_count": 93,
   "id": "5154d750-ef68-486b-ac30-2e6eb967aae1",
   "metadata": {},
   "outputs": [],
   "source": [
    "rc['Pixel_difference'] = rc['Pixels_2020'] - rc['Pixels_2000']"
   ]
  },
  {
   "cell_type": "code",
   "execution_count": 94,
   "id": "1dda4868-97eb-4c99-a06e-cb608dd1e5c4",
   "metadata": {},
   "outputs": [
    {
     "data": {
      "text/plain": [
       "(36, 8)"
      ]
     },
     "execution_count": 94,
     "metadata": {},
     "output_type": "execute_result"
    }
   ],
   "source": [
    "rc.shape"
   ]
  },
  {
   "cell_type": "code",
   "execution_count": null,
   "id": "84dad99e-a79c-4cfa-8bbd-4df70fea04c6",
   "metadata": {},
   "outputs": [],
   "source": []
  },
  {
   "cell_type": "code",
   "execution_count": 92,
   "id": "3d6b3890-0845-4864-aa03-6fcbc13e5c6b",
   "metadata": {},
   "outputs": [
    {
     "data": {
      "image/png": "[encoded data removed]",
      "text/plain": [
       "<Figure size 1000x600 with 1 Axes>"
      ]
     },
     "metadata": {},
     "output_type": "display_data"
    }
   ],
   "source": [
    "#Set the positions and width for the bars\n",
    "x = np.arange(len(rc['Value']))  # the label locations\n",
    "width = 0.35  # width of the bars\n",
    "\n",
    "# Create the plot\n",
    "fig, ax = plt.subplots(figsize=(10, 6))\n",
    "bars1 = ax.bar(x - width/2, rc['Pixels_2000'], width, label='Pixels 2000')\n",
    "bars2 = ax.bar(x + width/2, rc['Pixels_2020'], width, label='Pixels 2020')\n",
    "\n",
    "# Add labels and title\n",
    "ax.set_xlabel('Value')\n",
    "ax.set_ylabel('Number of Pixels')\n",
    "ax.set_title('Pixel Counts by Value (2000 vs 2020)')\n",
    "ax.set_xticks(x)\n",
    "ax.set_xticklabels(rc['Value'], rotation=45)\n",
    "ax.legend()\n",
    "\n",
    "plt.tight_layout()\n",
    "plt.show()"
   ]
  },
  {
   "cell_type": "code",
   "execution_count": 95,
   "id": "8bdb18cf-71c9-4656-89d7-fce61387c093",
   "metadata": {},
   "outputs": [
    {
     "data": {
      "image/png": "[encoded data removed]",
      "text/plain": [
       "<Figure size 900x500 with 1 Axes>"
      ]
     },
     "metadata": {},
     "output_type": "display_data"
    }
   ],
   "source": [
    "x = np.arange(len(rc['Value']))        # one x‑tick per category\n",
    "width = 0.6                            # bar width\n",
    "\n",
    "fig, ax = plt.subplots(figsize=(9, 5))\n",
    "ax.bar(x, rc['Pixel_difference'], width)\n",
    "\n",
    "# axis labels & ticks\n",
    "ax.set_xlabel('Value')\n",
    "ax.set_ylabel('Pixel difference')\n",
    "ax.set_title('Pixel difference by Value')\n",
    "ax.set_xticks(x)\n",
    "ax.set_xticklabels(rc['Value'], rotation=45, ha='right')\n",
    "\n",
    "plt.tight_layout()\n",
    "plt.show()"
   ]
  },
  {
   "cell_type": "code",
   "execution_count": 101,
   "id": "ceeceebe-03e6-4ac7-b527-a3b93174393d",
   "metadata": {},
   "outputs": [
    {
     "data": {
      "text/html": [
       "<div>\n",
       "<style scoped>\n",
       "    .dataframe tbody tr th:only-of-type {\n",
       "        vertical-align: middle;\n",
       "    }\n",
       "\n",
       "    .dataframe tbody tr th {\n",
       "        vertical-align: top;\n",
       "    }\n",
       "\n",
       "    .dataframe thead th {\n",
       "        text-align: right;\n",
       "    }\n",
       "</style>\n",
       "<table border=\"1\" class=\"dataframe\">\n",
       "  <thead>\n",
       "    <tr style=\"text-align: right;\">\n",
       "      <th></th>\n",
       "      <th>Value_Group</th>\n",
       "      <th>Pixels_2000</th>\n",
       "      <th>Area_2000</th>\n",
       "      <th>Pixels_pct_2000</th>\n",
       "      <th>Pixels_2020</th>\n",
       "      <th>Area_2020</th>\n",
       "      <th>Pixels_pct_2020</th>\n",
       "    </tr>\n",
       "  </thead>\n",
       "  <tbody>\n",
       "    <tr>\n",
       "      <th>0</th>\n",
       "      <td>0</td>\n",
       "      <td>30499</td>\n",
       "      <td>0.001906</td>\n",
       "      <td>0.005237</td>\n",
       "      <td>67716</td>\n",
       "      <td>0.004232</td>\n",
       "      <td>0.011627</td>\n",
       "    </tr>\n",
       "    <tr>\n",
       "      <th>1</th>\n",
       "      <td>1-9</td>\n",
       "      <td>29411</td>\n",
       "      <td>0.001838</td>\n",
       "      <td>0.005050</td>\n",
       "      <td>64000</td>\n",
       "      <td>0.004000</td>\n",
       "      <td>0.010989</td>\n",
       "    </tr>\n",
       "    <tr>\n",
       "      <th>2</th>\n",
       "      <td>10-19</td>\n",
       "      <td>136808</td>\n",
       "      <td>0.008551</td>\n",
       "      <td>0.023490</td>\n",
       "      <td>146961</td>\n",
       "      <td>0.009185</td>\n",
       "      <td>0.025233</td>\n",
       "    </tr>\n",
       "    <tr>\n",
       "      <th>3</th>\n",
       "      <td>20-29</td>\n",
       "      <td>2210847</td>\n",
       "      <td>0.138179</td>\n",
       "      <td>0.379600</td>\n",
       "      <td>2432349</td>\n",
       "      <td>0.152022</td>\n",
       "      <td>0.417633</td>\n",
       "    </tr>\n",
       "    <tr>\n",
       "      <th>4</th>\n",
       "      <td>30-39</td>\n",
       "      <td>3416583</td>\n",
       "      <td>0.213537</td>\n",
       "      <td>0.586624</td>\n",
       "      <td>3113104</td>\n",
       "      <td>0.194569</td>\n",
       "      <td>0.534518</td>\n",
       "    </tr>\n",
       "  </tbody>\n",
       "</table>\n",
       "</div>"
      ],
      "text/plain": [
       "  Value_Group  Pixels_2000  Area_2000  Pixels_pct_2000  Pixels_2020  \\\n",
       "0           0        30499   0.001906         0.005237        67716   \n",
       "1         1-9        29411   0.001838         0.005050        64000   \n",
       "2       10-19       136808   0.008551         0.023490       146961   \n",
       "3       20-29      2210847   0.138179         0.379600      2432349   \n",
       "4       30-39      3416583   0.213537         0.586624      3113104   \n",
       "\n",
       "   Area_2020  Pixels_pct_2020  \n",
       "0   0.004232         0.011627  \n",
       "1   0.004000         0.010989  \n",
       "2   0.009185         0.025233  \n",
       "3   0.152022         0.417633  \n",
       "4   0.194569         0.534518  "
      ]
     },
     "execution_count": 101,
     "metadata": {},
     "output_type": "execute_result"
    }
   ],
   "source": [
    "# Create a copy of the DataFrame to avoid modifying the original\n",
    "rc_grouped = rc.copy()\n",
    "\n",
    "# Define custom group labels\n",
    "def group_label(val):\n",
    "    if val == 0:\n",
    "        return '0'\n",
    "    elif 1 <= val <= 9:\n",
    "        return '1-9'\n",
    "    elif 10 <= val <= 19:\n",
    "        return '10-19'\n",
    "    elif 20 <= val <= 29:\n",
    "        return '20-29'\n",
    "    elif 30 <= val <= 39:\n",
    "        return '30-39'\n",
    "    else:\n",
    "        return 'other'  # in case there are values outside your expected range\n",
    "\n",
    "# Apply grouping\n",
    "rc_grouped['Value_Group'] = rc_grouped['Value'].apply(group_label)\n",
    "\n",
    "# Group by the new category and sum the relevant columns\n",
    "columns_to_sum = [\n",
    "    'Pixels_2000', 'Area_2000', 'Pixels_pct_2000',\n",
    "    'Pixels_2020', 'Area_2020', 'Pixels_pct_2020'\n",
    "]\n",
    "\n",
    "rc_result = rc_grouped.groupby('Value_Group')[columns_to_sum].sum().reset_index()\n",
    "rc_result"
   ]
  },
  {
   "cell_type": "code",
   "execution_count": 102,
   "id": "3568afd6-55b1-4d45-8856-6824b2be77c9",
   "metadata": {},
   "outputs": [],
   "source": [
    "rc_result['pct_change'] = (rc_result['Pixels_pct_2020'] - rc_result['Pixels_pct_2000']) / rc_result['Pixels_pct_2000'] "
   ]
  },
  {
   "cell_type": "code",
   "execution_count": 103,
   "id": "6851069d-8c4a-436a-b6cd-5789a861edee",
   "metadata": {},
   "outputs": [
    {
     "data": {
      "text/html": [
       "<div>\n",
       "<style scoped>\n",
       "    .dataframe tbody tr th:only-of-type {\n",
       "        vertical-align: middle;\n",
       "    }\n",
       "\n",
       "    .dataframe tbody tr th {\n",
       "        vertical-align: top;\n",
       "    }\n",
       "\n",
       "    .dataframe thead th {\n",
       "        text-align: right;\n",
       "    }\n",
       "</style>\n",
       "<table border=\"1\" class=\"dataframe\">\n",
       "  <thead>\n",
       "    <tr style=\"text-align: right;\">\n",
       "      <th></th>\n",
       "      <th>Value_Group</th>\n",
       "      <th>Pixels_2000</th>\n",
       "      <th>Area_2000</th>\n",
       "      <th>Pixels_pct_2000</th>\n",
       "      <th>Pixels_2020</th>\n",
       "      <th>Area_2020</th>\n",
       "      <th>Pixels_pct_2020</th>\n",
       "      <th>pct_change</th>\n",
       "    </tr>\n",
       "  </thead>\n",
       "  <tbody>\n",
       "    <tr>\n",
       "      <th>0</th>\n",
       "      <td>0</td>\n",
       "      <td>30499</td>\n",
       "      <td>0.001906</td>\n",
       "      <td>0.005237</td>\n",
       "      <td>67716</td>\n",
       "      <td>0.004232</td>\n",
       "      <td>0.011627</td>\n",
       "      <td>1.220276</td>\n",
       "    </tr>\n",
       "    <tr>\n",
       "      <th>1</th>\n",
       "      <td>1-9</td>\n",
       "      <td>29411</td>\n",
       "      <td>0.001838</td>\n",
       "      <td>0.005050</td>\n",
       "      <td>64000</td>\n",
       "      <td>0.004000</td>\n",
       "      <td>0.010989</td>\n",
       "      <td>1.176063</td>\n",
       "    </tr>\n",
       "    <tr>\n",
       "      <th>2</th>\n",
       "      <td>10-19</td>\n",
       "      <td>136808</td>\n",
       "      <td>0.008551</td>\n",
       "      <td>0.023490</td>\n",
       "      <td>146961</td>\n",
       "      <td>0.009185</td>\n",
       "      <td>0.025233</td>\n",
       "      <td>0.074217</td>\n",
       "    </tr>\n",
       "    <tr>\n",
       "      <th>3</th>\n",
       "      <td>20-29</td>\n",
       "      <td>2210847</td>\n",
       "      <td>0.138179</td>\n",
       "      <td>0.379600</td>\n",
       "      <td>2432349</td>\n",
       "      <td>0.152022</td>\n",
       "      <td>0.417633</td>\n",
       "      <td>0.100192</td>\n",
       "    </tr>\n",
       "    <tr>\n",
       "      <th>4</th>\n",
       "      <td>30-39</td>\n",
       "      <td>3416583</td>\n",
       "      <td>0.213537</td>\n",
       "      <td>0.586624</td>\n",
       "      <td>3113104</td>\n",
       "      <td>0.194569</td>\n",
       "      <td>0.534518</td>\n",
       "      <td>-0.088822</td>\n",
       "    </tr>\n",
       "  </tbody>\n",
       "</table>\n",
       "</div>"
      ],
      "text/plain": [
       "  Value_Group  Pixels_2000  Area_2000  Pixels_pct_2000  Pixels_2020  \\\n",
       "0           0        30499   0.001906         0.005237        67716   \n",
       "1         1-9        29411   0.001838         0.005050        64000   \n",
       "2       10-19       136808   0.008551         0.023490       146961   \n",
       "3       20-29      2210847   0.138179         0.379600      2432349   \n",
       "4       30-39      3416583   0.213537         0.586624      3113104   \n",
       "\n",
       "   Area_2020  Pixels_pct_2020  pct_change  \n",
       "0   0.004232         0.011627    1.220276  \n",
       "1   0.004000         0.010989    1.176063  \n",
       "2   0.009185         0.025233    0.074217  \n",
       "3   0.152022         0.417633    0.100192  \n",
       "4   0.194569         0.534518   -0.088822  "
      ]
     },
     "execution_count": 103,
     "metadata": {},
     "output_type": "execute_result"
    }
   ],
   "source": [
    "rc_result"
   ]
  },
  {
   "cell_type": "code",
   "execution_count": null,
   "id": "b9309594-9087-4713-ade5-357a6d0b8b44",
   "metadata": {},
   "outputs": [],
   "source": []
  }
 ],
 "metadata": {
  "kernelspec": {
   "display_name": "Python 3 (ipykernel)",
   "language": "python",
   "name": "python3"
  },
  "language_info": {
   "codemirror_mode": {
    "name": "ipython",
    "version": 3
   },
   "file_extension": ".py",
   "mimetype": "text/x-python",
   "name": "python",
   "nbconvert_exporter": "python",
   "pygments_lexer": "ipython3",
   "version": "3.12.7"
  }
 },
 "nbformat": 4,
 "nbformat_minor": 5
}
