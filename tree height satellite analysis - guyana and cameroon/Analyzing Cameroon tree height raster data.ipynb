{
 "cells": [
  {
   "cell_type": "markdown",
   "id": "67b8700c-f0b5-47a4-8cc8-22b9a7ed4298",
   "metadata": {},
   "source": [
    "# Analyzing all Cameroon forest concessions raster data on tree height in 2000 and 2020"
   ]
  },
  {
   "cell_type": "code",
   "execution_count": 1,
   "id": "a4796635-d61d-4dc5-b8bc-ed31459b0602",
   "metadata": {},
   "outputs": [],
   "source": [
    "%load_ext rpy2.ipython\n",
    "%load_ext autoreload\n",
    "%autoreload 2\n",
    "\n",
    "%matplotlib inline  \n",
    "from matplotlib import rcParams\n",
    "rcParams['figure.figsize'] = (16, 100)\n",
    "\n",
    "import warnings\n",
    "from rpy2.rinterface import RRuntimeWarning\n",
    "warnings.filterwarnings(\"ignore\") # Ignore all warnings\n",
    "# warnings.filterwarnings(\"ignore\", category=RRuntimeWarning) # Show some warnings\n",
    "\n",
    "import pandas as pd\n",
    "import numpy as np\n",
    "import matplotlib.pyplot as plt\n",
    "from IPython.display import display, HTML"
   ]
  },
  {
   "cell_type": "code",
   "execution_count": 51,
   "id": "e7e65a25-4889-4c85-85ab-f04e50312edb",
   "metadata": {},
   "outputs": [
    {
     "data": {
      "application/javascript": [
       "// Disable auto-scrolling\n",
       "IPython.OutputArea.prototype._should_scroll = function(lines) {\n",
       "    return false;\n",
       "}\n"
      ],
      "text/plain": [
       "<IPython.core.display.Javascript object>"
      ]
     },
     "metadata": {},
     "output_type": "display_data"
    }
   ],
   "source": [
    "%%javascript\n",
    "// Disable auto-scrolling\n",
    "IPython.OutputArea.prototype._should_scroll = function(lines) {\n",
    "    return false;\n",
    "}"
   ]
  },
  {
   "cell_type": "code",
   "execution_count": 2,
   "id": "ce03479c-e712-49ec-8c95-4e0b60b70951",
   "metadata": {},
   "outputs": [],
   "source": [
    "df00 = pd.read_csv('analysis/Cameroon concessions 2000 tree height raster data.csv')"
   ]
  },
  {
   "cell_type": "code",
   "execution_count": 3,
   "id": "ec7e6614-b2e0-44e3-b220-535e8fa6aff1",
   "metadata": {},
   "outputs": [
    {
     "data": {
      "text/html": [
       "<div>\n",
       "<style scoped>\n",
       "    .dataframe tbody tr th:only-of-type {\n",
       "        vertical-align: middle;\n",
       "    }\n",
       "\n",
       "    .dataframe tbody tr th {\n",
       "        vertical-align: top;\n",
       "    }\n",
       "\n",
       "    .dataframe thead th {\n",
       "        text-align: right;\n",
       "    }\n",
       "</style>\n",
       "<table border=\"1\" class=\"dataframe\">\n",
       "  <thead>\n",
       "    <tr style=\"text-align: right;\">\n",
       "      <th></th>\n",
       "      <th>Value</th>\n",
       "      <th>Pixel count</th>\n",
       "      <th>Area (deg2)</th>\n",
       "    </tr>\n",
       "  </thead>\n",
       "  <tbody>\n",
       "    <tr>\n",
       "      <th>0</th>\n",
       "      <td>0</td>\n",
       "      <td>2383412</td>\n",
       "      <td>0.148963</td>\n",
       "    </tr>\n",
       "    <tr>\n",
       "      <th>1</th>\n",
       "      <td>3</td>\n",
       "      <td>207465</td>\n",
       "      <td>0.012967</td>\n",
       "    </tr>\n",
       "    <tr>\n",
       "      <th>2</th>\n",
       "      <td>4</td>\n",
       "      <td>566999</td>\n",
       "      <td>0.035437</td>\n",
       "    </tr>\n",
       "    <tr>\n",
       "      <th>3</th>\n",
       "      <td>5</td>\n",
       "      <td>945580</td>\n",
       "      <td>0.059099</td>\n",
       "    </tr>\n",
       "    <tr>\n",
       "      <th>4</th>\n",
       "      <td>6</td>\n",
       "      <td>757703</td>\n",
       "      <td>0.047356</td>\n",
       "    </tr>\n",
       "  </tbody>\n",
       "</table>\n",
       "</div>"
      ],
      "text/plain": [
       "   Value  Pixel count  Area (deg2)\n",
       "0      0      2383412     0.148963\n",
       "1      3       207465     0.012967\n",
       "2      4       566999     0.035437\n",
       "3      5       945580     0.059099\n",
       "4      6       757703     0.047356"
      ]
     },
     "execution_count": 3,
     "metadata": {},
     "output_type": "execute_result"
    }
   ],
   "source": [
    "df00.head()"
   ]
  },
  {
   "cell_type": "code",
   "execution_count": 4,
   "id": "b874ee1b-0be1-47d7-841a-6004879befe4",
   "metadata": {},
   "outputs": [
    {
     "data": {
      "text/plain": [
       "120665001"
      ]
     },
     "execution_count": 4,
     "metadata": {},
     "output_type": "execute_result"
    }
   ],
   "source": [
    "df00['Pixel count'].sum()"
   ]
  },
  {
   "cell_type": "code",
   "execution_count": 5,
   "id": "b56cd106-3f78-4edf-9bd2-b5cf122d4243",
   "metadata": {},
   "outputs": [],
   "source": [
    "df20 = pd.read_csv('analysis/Cameroon concessions 2020 tree height raster data.csv')"
   ]
  },
  {
   "cell_type": "code",
   "execution_count": 6,
   "id": "ffc25368-c34f-4353-9845-750ae6849d0b",
   "metadata": {},
   "outputs": [
    {
     "data": {
      "text/html": [
       "<div>\n",
       "<style scoped>\n",
       "    .dataframe tbody tr th:only-of-type {\n",
       "        vertical-align: middle;\n",
       "    }\n",
       "\n",
       "    .dataframe tbody tr th {\n",
       "        vertical-align: top;\n",
       "    }\n",
       "\n",
       "    .dataframe thead th {\n",
       "        text-align: right;\n",
       "    }\n",
       "</style>\n",
       "<table border=\"1\" class=\"dataframe\">\n",
       "  <thead>\n",
       "    <tr style=\"text-align: right;\">\n",
       "      <th></th>\n",
       "      <th>Value</th>\n",
       "      <th>Pixel count</th>\n",
       "      <th>Area (deg2)</th>\n",
       "    </tr>\n",
       "  </thead>\n",
       "  <tbody>\n",
       "    <tr>\n",
       "      <th>0</th>\n",
       "      <td>0</td>\n",
       "      <td>2644983</td>\n",
       "      <td>0.165311</td>\n",
       "    </tr>\n",
       "    <tr>\n",
       "      <th>1</th>\n",
       "      <td>3</td>\n",
       "      <td>451498</td>\n",
       "      <td>0.028219</td>\n",
       "    </tr>\n",
       "    <tr>\n",
       "      <th>2</th>\n",
       "      <td>4</td>\n",
       "      <td>373212</td>\n",
       "      <td>0.023326</td>\n",
       "    </tr>\n",
       "    <tr>\n",
       "      <th>3</th>\n",
       "      <td>5</td>\n",
       "      <td>582191</td>\n",
       "      <td>0.036387</td>\n",
       "    </tr>\n",
       "    <tr>\n",
       "      <th>4</th>\n",
       "      <td>6</td>\n",
       "      <td>646191</td>\n",
       "      <td>0.040387</td>\n",
       "    </tr>\n",
       "  </tbody>\n",
       "</table>\n",
       "</div>"
      ],
      "text/plain": [
       "   Value  Pixel count  Area (deg2)\n",
       "0      0      2644983     0.165311\n",
       "1      3       451498     0.028219\n",
       "2      4       373212     0.023326\n",
       "3      5       582191     0.036387\n",
       "4      6       646191     0.040387"
      ]
     },
     "execution_count": 6,
     "metadata": {},
     "output_type": "execute_result"
    }
   ],
   "source": [
    "df20.head()"
   ]
  },
  {
   "cell_type": "code",
   "execution_count": 7,
   "id": "2dcf73b9-2ffd-4c36-8e71-739e29ffdcc7",
   "metadata": {},
   "outputs": [
    {
     "data": {
      "text/plain": [
       "120665001"
      ]
     },
     "execution_count": 7,
     "metadata": {},
     "output_type": "execute_result"
    }
   ],
   "source": [
    "df20['Pixel count'].sum()"
   ]
  },
  {
   "cell_type": "code",
   "execution_count": 8,
   "id": "e5cf513e-bee9-4d56-ab7f-d7cc1e1e0140",
   "metadata": {},
   "outputs": [],
   "source": [
    "df00['Pixels_2000'] = df00['Pixel count']"
   ]
  },
  {
   "cell_type": "code",
   "execution_count": 9,
   "id": "7e5a138b-e1ad-4040-bade-bc24aabd9349",
   "metadata": {},
   "outputs": [],
   "source": [
    "df00 = df00.drop(columns='Pixel count')"
   ]
  },
  {
   "cell_type": "code",
   "execution_count": 10,
   "id": "26b7baf7-6d57-449a-b4b6-91a57f129591",
   "metadata": {},
   "outputs": [],
   "source": [
    "df00['Area_2000'] = df00['Area (deg2)']"
   ]
  },
  {
   "cell_type": "code",
   "execution_count": 11,
   "id": "c7594bc7-4977-4973-90b2-666875e8d588",
   "metadata": {},
   "outputs": [],
   "source": [
    "df00 = df00.drop(columns='Area (deg2)')"
   ]
  },
  {
   "cell_type": "code",
   "execution_count": 12,
   "id": "857747dd-f4d0-4adb-8a3c-85b2561b7719",
   "metadata": {},
   "outputs": [],
   "source": [
    "df00['Pixels_pct_2000'] = df00['Pixels_2000'] / 73549060"
   ]
  },
  {
   "cell_type": "code",
   "execution_count": 13,
   "id": "49d5ecee-f4d4-4ba5-a2e2-617d47f7f5e7",
   "metadata": {},
   "outputs": [
    {
     "data": {
      "text/html": [
       "<div>\n",
       "<style scoped>\n",
       "    .dataframe tbody tr th:only-of-type {\n",
       "        vertical-align: middle;\n",
       "    }\n",
       "\n",
       "    .dataframe tbody tr th {\n",
       "        vertical-align: top;\n",
       "    }\n",
       "\n",
       "    .dataframe thead th {\n",
       "        text-align: right;\n",
       "    }\n",
       "</style>\n",
       "<table border=\"1\" class=\"dataframe\">\n",
       "  <thead>\n",
       "    <tr style=\"text-align: right;\">\n",
       "      <th></th>\n",
       "      <th>Value</th>\n",
       "      <th>Pixels_2000</th>\n",
       "      <th>Area_2000</th>\n",
       "      <th>Pixels_pct_2000</th>\n",
       "    </tr>\n",
       "  </thead>\n",
       "  <tbody>\n",
       "    <tr>\n",
       "      <th>0</th>\n",
       "      <td>0</td>\n",
       "      <td>2383412</td>\n",
       "      <td>0.148963</td>\n",
       "      <td>0.032406</td>\n",
       "    </tr>\n",
       "    <tr>\n",
       "      <th>1</th>\n",
       "      <td>3</td>\n",
       "      <td>207465</td>\n",
       "      <td>0.012967</td>\n",
       "      <td>0.002821</td>\n",
       "    </tr>\n",
       "    <tr>\n",
       "      <th>2</th>\n",
       "      <td>4</td>\n",
       "      <td>566999</td>\n",
       "      <td>0.035437</td>\n",
       "      <td>0.007709</td>\n",
       "    </tr>\n",
       "    <tr>\n",
       "      <th>3</th>\n",
       "      <td>5</td>\n",
       "      <td>945580</td>\n",
       "      <td>0.059099</td>\n",
       "      <td>0.012856</td>\n",
       "    </tr>\n",
       "    <tr>\n",
       "      <th>4</th>\n",
       "      <td>6</td>\n",
       "      <td>757703</td>\n",
       "      <td>0.047356</td>\n",
       "      <td>0.010302</td>\n",
       "    </tr>\n",
       "  </tbody>\n",
       "</table>\n",
       "</div>"
      ],
      "text/plain": [
       "   Value  Pixels_2000  Area_2000  Pixels_pct_2000\n",
       "0      0      2383412   0.148963         0.032406\n",
       "1      3       207465   0.012967         0.002821\n",
       "2      4       566999   0.035437         0.007709\n",
       "3      5       945580   0.059099         0.012856\n",
       "4      6       757703   0.047356         0.010302"
      ]
     },
     "execution_count": 13,
     "metadata": {},
     "output_type": "execute_result"
    }
   ],
   "source": [
    "df00.head()"
   ]
  },
  {
   "cell_type": "code",
   "execution_count": 14,
   "id": "ce577c92-be15-42bb-b999-4f7e224fdee9",
   "metadata": {},
   "outputs": [
    {
     "data": {
      "text/plain": [
       "(40, 4)"
      ]
     },
     "execution_count": 14,
     "metadata": {},
     "output_type": "execute_result"
    }
   ],
   "source": [
    "df00.shape"
   ]
  },
  {
   "cell_type": "code",
   "execution_count": 15,
   "id": "213d9ef1-8198-4abb-9924-2fc3c85d9168",
   "metadata": {},
   "outputs": [],
   "source": [
    "df20['Pixels_2020'] = df20['Pixel count']"
   ]
  },
  {
   "cell_type": "code",
   "execution_count": 16,
   "id": "7a247560-5eec-4fef-84f9-0ef00ffe1a35",
   "metadata": {},
   "outputs": [],
   "source": [
    "df20 = df20.drop(columns='Pixel count')"
   ]
  },
  {
   "cell_type": "code",
   "execution_count": 17,
   "id": "4ec45ea1-fc63-4382-9662-9ae5ed3ea91f",
   "metadata": {},
   "outputs": [],
   "source": [
    "df20['Area_2020'] = df20['Area (deg2)']"
   ]
  },
  {
   "cell_type": "code",
   "execution_count": 18,
   "id": "06089db0-2442-4d77-b206-aa7324f5b5a8",
   "metadata": {},
   "outputs": [],
   "source": [
    "df20 = df20.drop(columns='Area (deg2)')"
   ]
  },
  {
   "cell_type": "code",
   "execution_count": 19,
   "id": "460f7552-2a8b-42c8-b631-b314f3361092",
   "metadata": {},
   "outputs": [],
   "source": [
    "df20['Pixels_pct_2020'] = df20['Pixels_2020'] / 73549060"
   ]
  },
  {
   "cell_type": "code",
   "execution_count": 20,
   "id": "6e288130-43fd-4990-b55a-fe09dd671ae2",
   "metadata": {},
   "outputs": [
    {
     "data": {
      "text/html": [
       "<div>\n",
       "<style scoped>\n",
       "    .dataframe tbody tr th:only-of-type {\n",
       "        vertical-align: middle;\n",
       "    }\n",
       "\n",
       "    .dataframe tbody tr th {\n",
       "        vertical-align: top;\n",
       "    }\n",
       "\n",
       "    .dataframe thead th {\n",
       "        text-align: right;\n",
       "    }\n",
       "</style>\n",
       "<table border=\"1\" class=\"dataframe\">\n",
       "  <thead>\n",
       "    <tr style=\"text-align: right;\">\n",
       "      <th></th>\n",
       "      <th>Value</th>\n",
       "      <th>Pixels_2020</th>\n",
       "      <th>Area_2020</th>\n",
       "      <th>Pixels_pct_2020</th>\n",
       "    </tr>\n",
       "  </thead>\n",
       "  <tbody>\n",
       "    <tr>\n",
       "      <th>0</th>\n",
       "      <td>0</td>\n",
       "      <td>2644983</td>\n",
       "      <td>0.165311</td>\n",
       "      <td>0.035962</td>\n",
       "    </tr>\n",
       "    <tr>\n",
       "      <th>1</th>\n",
       "      <td>3</td>\n",
       "      <td>451498</td>\n",
       "      <td>0.028219</td>\n",
       "      <td>0.006139</td>\n",
       "    </tr>\n",
       "    <tr>\n",
       "      <th>2</th>\n",
       "      <td>4</td>\n",
       "      <td>373212</td>\n",
       "      <td>0.023326</td>\n",
       "      <td>0.005074</td>\n",
       "    </tr>\n",
       "    <tr>\n",
       "      <th>3</th>\n",
       "      <td>5</td>\n",
       "      <td>582191</td>\n",
       "      <td>0.036387</td>\n",
       "      <td>0.007916</td>\n",
       "    </tr>\n",
       "    <tr>\n",
       "      <th>4</th>\n",
       "      <td>6</td>\n",
       "      <td>646191</td>\n",
       "      <td>0.040387</td>\n",
       "      <td>0.008786</td>\n",
       "    </tr>\n",
       "  </tbody>\n",
       "</table>\n",
       "</div>"
      ],
      "text/plain": [
       "   Value  Pixels_2020  Area_2020  Pixels_pct_2020\n",
       "0      0      2644983   0.165311         0.035962\n",
       "1      3       451498   0.028219         0.006139\n",
       "2      4       373212   0.023326         0.005074\n",
       "3      5       582191   0.036387         0.007916\n",
       "4      6       646191   0.040387         0.008786"
      ]
     },
     "execution_count": 20,
     "metadata": {},
     "output_type": "execute_result"
    }
   ],
   "source": [
    "df20.head()"
   ]
  },
  {
   "cell_type": "code",
   "execution_count": 21,
   "id": "e90c0281-1279-45c3-9c12-53c0aa68cab9",
   "metadata": {},
   "outputs": [
    {
     "data": {
      "text/plain": [
       "(40, 4)"
      ]
     },
     "execution_count": 21,
     "metadata": {},
     "output_type": "execute_result"
    }
   ],
   "source": [
    "df20.shape"
   ]
  },
  {
   "cell_type": "code",
   "execution_count": 22,
   "id": "6bfd6ffd-5a62-414f-b0bb-3639b9f58231",
   "metadata": {},
   "outputs": [],
   "source": [
    "df = df00.merge(df20, on='Value', how='outer')"
   ]
  },
  {
   "cell_type": "code",
   "execution_count": 23,
   "id": "84ad2a1e-bb21-4777-b1fc-caea499de14f",
   "metadata": {},
   "outputs": [
    {
     "data": {
      "text/html": [
       "<div>\n",
       "<style scoped>\n",
       "    .dataframe tbody tr th:only-of-type {\n",
       "        vertical-align: middle;\n",
       "    }\n",
       "\n",
       "    .dataframe tbody tr th {\n",
       "        vertical-align: top;\n",
       "    }\n",
       "\n",
       "    .dataframe thead th {\n",
       "        text-align: right;\n",
       "    }\n",
       "</style>\n",
       "<table border=\"1\" class=\"dataframe\">\n",
       "  <thead>\n",
       "    <tr style=\"text-align: right;\">\n",
       "      <th></th>\n",
       "      <th>Value</th>\n",
       "      <th>Pixels_2000</th>\n",
       "      <th>Area_2000</th>\n",
       "      <th>Pixels_pct_2000</th>\n",
       "      <th>Pixels_2020</th>\n",
       "      <th>Area_2020</th>\n",
       "      <th>Pixels_pct_2020</th>\n",
       "    </tr>\n",
       "  </thead>\n",
       "  <tbody>\n",
       "    <tr>\n",
       "      <th>0</th>\n",
       "      <td>0</td>\n",
       "      <td>2383412</td>\n",
       "      <td>0.148963</td>\n",
       "      <td>0.032406</td>\n",
       "      <td>2644983</td>\n",
       "      <td>0.165311</td>\n",
       "      <td>0.035962</td>\n",
       "    </tr>\n",
       "    <tr>\n",
       "      <th>1</th>\n",
       "      <td>3</td>\n",
       "      <td>207465</td>\n",
       "      <td>0.012967</td>\n",
       "      <td>0.002821</td>\n",
       "      <td>451498</td>\n",
       "      <td>0.028219</td>\n",
       "      <td>0.006139</td>\n",
       "    </tr>\n",
       "    <tr>\n",
       "      <th>2</th>\n",
       "      <td>4</td>\n",
       "      <td>566999</td>\n",
       "      <td>0.035437</td>\n",
       "      <td>0.007709</td>\n",
       "      <td>373212</td>\n",
       "      <td>0.023326</td>\n",
       "      <td>0.005074</td>\n",
       "    </tr>\n",
       "    <tr>\n",
       "      <th>3</th>\n",
       "      <td>5</td>\n",
       "      <td>945580</td>\n",
       "      <td>0.059099</td>\n",
       "      <td>0.012856</td>\n",
       "      <td>582191</td>\n",
       "      <td>0.036387</td>\n",
       "      <td>0.007916</td>\n",
       "    </tr>\n",
       "    <tr>\n",
       "      <th>4</th>\n",
       "      <td>6</td>\n",
       "      <td>757703</td>\n",
       "      <td>0.047356</td>\n",
       "      <td>0.010302</td>\n",
       "      <td>646191</td>\n",
       "      <td>0.040387</td>\n",
       "      <td>0.008786</td>\n",
       "    </tr>\n",
       "  </tbody>\n",
       "</table>\n",
       "</div>"
      ],
      "text/plain": [
       "   Value  Pixels_2000  Area_2000  Pixels_pct_2000  Pixels_2020  Area_2020  \\\n",
       "0      0      2383412   0.148963         0.032406      2644983   0.165311   \n",
       "1      3       207465   0.012967         0.002821       451498   0.028219   \n",
       "2      4       566999   0.035437         0.007709       373212   0.023326   \n",
       "3      5       945580   0.059099         0.012856       582191   0.036387   \n",
       "4      6       757703   0.047356         0.010302       646191   0.040387   \n",
       "\n",
       "   Pixels_pct_2020  \n",
       "0         0.035962  \n",
       "1         0.006139  \n",
       "2         0.005074  \n",
       "3         0.007916  \n",
       "4         0.008786  "
      ]
     },
     "execution_count": 23,
     "metadata": {},
     "output_type": "execute_result"
    }
   ],
   "source": [
    "df.head()"
   ]
  },
  {
   "cell_type": "code",
   "execution_count": 24,
   "id": "7640c11b-302e-45d1-9f29-88f9e27fb06a",
   "metadata": {},
   "outputs": [],
   "source": [
    "df['Pixel_difference'] = df['Pixels_2020'] - df['Pixels_2000']"
   ]
  },
  {
   "cell_type": "code",
   "execution_count": 25,
   "id": "80b41f4b-c74c-4afa-94d4-f5cbba04ae8e",
   "metadata": {},
   "outputs": [],
   "source": [
    "df['pct_difference'] = df['Pixels_pct_2020'] - df['Pixels_pct_2000']"
   ]
  },
  {
   "cell_type": "code",
   "execution_count": 26,
   "id": "d04889cd-8d5c-4897-b989-c93eb5215194",
   "metadata": {},
   "outputs": [
    {
     "data": {
      "text/html": [
       "<div>\n",
       "<style scoped>\n",
       "    .dataframe tbody tr th:only-of-type {\n",
       "        vertical-align: middle;\n",
       "    }\n",
       "\n",
       "    .dataframe tbody tr th {\n",
       "        vertical-align: top;\n",
       "    }\n",
       "\n",
       "    .dataframe thead th {\n",
       "        text-align: right;\n",
       "    }\n",
       "</style>\n",
       "<table border=\"1\" class=\"dataframe\">\n",
       "  <thead>\n",
       "    <tr style=\"text-align: right;\">\n",
       "      <th></th>\n",
       "      <th>Value</th>\n",
       "      <th>Pixels_2000</th>\n",
       "      <th>Area_2000</th>\n",
       "      <th>Pixels_pct_2000</th>\n",
       "      <th>Pixels_2020</th>\n",
       "      <th>Area_2020</th>\n",
       "      <th>Pixels_pct_2020</th>\n",
       "      <th>Pixel_difference</th>\n",
       "      <th>pct_difference</th>\n",
       "    </tr>\n",
       "  </thead>\n",
       "  <tbody>\n",
       "    <tr>\n",
       "      <th>0</th>\n",
       "      <td>0</td>\n",
       "      <td>2383412</td>\n",
       "      <td>0.148963</td>\n",
       "      <td>0.032406</td>\n",
       "      <td>2644983</td>\n",
       "      <td>0.165311</td>\n",
       "      <td>0.035962</td>\n",
       "      <td>261571</td>\n",
       "      <td>0.003556</td>\n",
       "    </tr>\n",
       "    <tr>\n",
       "      <th>1</th>\n",
       "      <td>3</td>\n",
       "      <td>207465</td>\n",
       "      <td>0.012967</td>\n",
       "      <td>0.002821</td>\n",
       "      <td>451498</td>\n",
       "      <td>0.028219</td>\n",
       "      <td>0.006139</td>\n",
       "      <td>244033</td>\n",
       "      <td>0.003318</td>\n",
       "    </tr>\n",
       "    <tr>\n",
       "      <th>2</th>\n",
       "      <td>4</td>\n",
       "      <td>566999</td>\n",
       "      <td>0.035437</td>\n",
       "      <td>0.007709</td>\n",
       "      <td>373212</td>\n",
       "      <td>0.023326</td>\n",
       "      <td>0.005074</td>\n",
       "      <td>-193787</td>\n",
       "      <td>-0.002635</td>\n",
       "    </tr>\n",
       "    <tr>\n",
       "      <th>3</th>\n",
       "      <td>5</td>\n",
       "      <td>945580</td>\n",
       "      <td>0.059099</td>\n",
       "      <td>0.012856</td>\n",
       "      <td>582191</td>\n",
       "      <td>0.036387</td>\n",
       "      <td>0.007916</td>\n",
       "      <td>-363389</td>\n",
       "      <td>-0.004941</td>\n",
       "    </tr>\n",
       "    <tr>\n",
       "      <th>4</th>\n",
       "      <td>6</td>\n",
       "      <td>757703</td>\n",
       "      <td>0.047356</td>\n",
       "      <td>0.010302</td>\n",
       "      <td>646191</td>\n",
       "      <td>0.040387</td>\n",
       "      <td>0.008786</td>\n",
       "      <td>-111512</td>\n",
       "      <td>-0.001516</td>\n",
       "    </tr>\n",
       "  </tbody>\n",
       "</table>\n",
       "</div>"
      ],
      "text/plain": [
       "   Value  Pixels_2000  Area_2000  Pixels_pct_2000  Pixels_2020  Area_2020  \\\n",
       "0      0      2383412   0.148963         0.032406      2644983   0.165311   \n",
       "1      3       207465   0.012967         0.002821       451498   0.028219   \n",
       "2      4       566999   0.035437         0.007709       373212   0.023326   \n",
       "3      5       945580   0.059099         0.012856       582191   0.036387   \n",
       "4      6       757703   0.047356         0.010302       646191   0.040387   \n",
       "\n",
       "   Pixels_pct_2020  Pixel_difference  pct_difference  \n",
       "0         0.035962            261571        0.003556  \n",
       "1         0.006139            244033        0.003318  \n",
       "2         0.005074           -193787       -0.002635  \n",
       "3         0.007916           -363389       -0.004941  \n",
       "4         0.008786           -111512       -0.001516  "
      ]
     },
     "execution_count": 26,
     "metadata": {},
     "output_type": "execute_result"
    }
   ],
   "source": [
    "df.head()"
   ]
  },
  {
   "cell_type": "code",
   "execution_count": null,
   "id": "0b1229ef-1e6c-4d7c-b69d-2ba7a47f200b",
   "metadata": {},
   "outputs": [],
   "source": []
  },
  {
   "cell_type": "code",
   "execution_count": 27,
   "id": "c92fb857-4c6a-4bc5-a2d5-6cc05c8b42de",
   "metadata": {},
   "outputs": [
    {
     "data": {
      "text/plain": [
       "(40, 9)"
      ]
     },
     "execution_count": 27,
     "metadata": {},
     "output_type": "execute_result"
    }
   ],
   "source": [
    "df.shape"
   ]
  },
  {
   "cell_type": "code",
   "execution_count": 28,
   "id": "2fea7957-c1ad-457b-9bc2-a68b2bc02884",
   "metadata": {},
   "outputs": [],
   "source": [
    "df.to_csv('cameroon_concessions_tree_height_raster_analysis_2000_2020.csv', index=False)"
   ]
  },
  {
   "cell_type": "code",
   "execution_count": 29,
   "id": "c90a0e0d-9ae3-420e-9f58-b4d55031df13",
   "metadata": {},
   "outputs": [
    {
     "data": {
      "image/png": "[encoded data removed]",
      "text/plain": [
       "<Figure size 1000x600 with 1 Axes>"
      ]
     },
     "metadata": {},
     "output_type": "display_data"
    }
   ],
   "source": [
    "import matplotlib.pyplot as plt\n",
    "import numpy as np\n",
    "\n",
    "# Set the positions and width for the bars\n",
    "x = np.arange(len(df['Value']))  # the label locations\n",
    "width = 0.35  # width of the bars\n",
    "\n",
    "# Create the plot\n",
    "fig, ax = plt.subplots(figsize=(10, 6))\n",
    "bars1 = ax.bar(x - width/2, df['Pixels_2000'], width, label='Pixels 2000')\n",
    "bars2 = ax.bar(x + width/2, df['Pixels_2020'], width, label='Pixels 2020')\n",
    "\n",
    "# Add labels and title\n",
    "ax.set_xlabel('Value')\n",
    "ax.set_ylabel('Number of Pixels')\n",
    "ax.set_title('Pixel Counts by Value (2000 vs 2020)')\n",
    "ax.set_xticks(x)\n",
    "ax.set_xticklabels(df['Value'], rotation=45)\n",
    "ax.legend()\n",
    "\n",
    "plt.tight_layout()\n",
    "plt.show()"
   ]
  },
  {
   "cell_type": "code",
   "execution_count": 30,
   "id": "d6f5f439-bb69-407c-89c1-921db063d1ff",
   "metadata": {},
   "outputs": [
    {
     "data": {
      "image/png": "[encoded data removed]",
      "text/plain": [
       "<Figure size 900x500 with 1 Axes>"
      ]
     },
     "metadata": {},
     "output_type": "display_data"
    }
   ],
   "source": [
    "x = np.arange(len(df['Value']))        # one x‑tick per category\n",
    "width = 0.6                            # bar width\n",
    "\n",
    "fig, ax = plt.subplots(figsize=(9, 5))\n",
    "ax.bar(x, df['Pixel_difference'], width)\n",
    "\n",
    "# axis labels & ticks\n",
    "ax.set_xlabel('Value')\n",
    "ax.set_ylabel('Pixel difference')\n",
    "ax.set_title('Pixel difference by Value')\n",
    "ax.set_xticks(x)\n",
    "ax.set_xticklabels(df['Value'], rotation=45, ha='right')\n",
    "\n",
    "plt.tight_layout()\n",
    "plt.show()"
   ]
  },
  {
   "cell_type": "code",
   "execution_count": 70,
   "id": "ea1ae7e7-f3b1-401e-bf02-7a36bc8e4e48",
   "metadata": {},
   "outputs": [
    {
     "data": {
      "text/html": [
       "<div>\n",
       "<style scoped>\n",
       "    .dataframe tbody tr th:only-of-type {\n",
       "        vertical-align: middle;\n",
       "    }\n",
       "\n",
       "    .dataframe tbody tr th {\n",
       "        vertical-align: top;\n",
       "    }\n",
       "\n",
       "    .dataframe thead th {\n",
       "        text-align: right;\n",
       "    }\n",
       "</style>\n",
       "<table border=\"1\" class=\"dataframe\">\n",
       "  <thead>\n",
       "    <tr style=\"text-align: right;\">\n",
       "      <th></th>\n",
       "      <th>Value_Group</th>\n",
       "      <th>Pixels_2000</th>\n",
       "      <th>Area_2000</th>\n",
       "      <th>Pixels_pct_2000</th>\n",
       "      <th>Pixels_2020</th>\n",
       "      <th>Area_2020</th>\n",
       "      <th>Pixels_pct_2020</th>\n",
       "    </tr>\n",
       "  </thead>\n",
       "  <tbody>\n",
       "    <tr>\n",
       "      <th>0</th>\n",
       "      <td>0</td>\n",
       "      <td>2383412</td>\n",
       "      <td>0.148963</td>\n",
       "      <td>3.240574e-02</td>\n",
       "      <td>2644983</td>\n",
       "      <td>1.653114e-01</td>\n",
       "      <td>3.596216e-02</td>\n",
       "    </tr>\n",
       "    <tr>\n",
       "      <th>1</th>\n",
       "      <td>1-10</td>\n",
       "      <td>7772971</td>\n",
       "      <td>0.485811</td>\n",
       "      <td>1.056842e-01</td>\n",
       "      <td>7063355</td>\n",
       "      <td>4.414597e-01</td>\n",
       "      <td>9.603597e-02</td>\n",
       "    </tr>\n",
       "    <tr>\n",
       "      <th>2</th>\n",
       "      <td>11-20</td>\n",
       "      <td>4304621</td>\n",
       "      <td>0.269039</td>\n",
       "      <td>5.852721e-02</td>\n",
       "      <td>5857301</td>\n",
       "      <td>3.660813e-01</td>\n",
       "      <td>7.963801e-02</td>\n",
       "    </tr>\n",
       "    <tr>\n",
       "      <th>3</th>\n",
       "      <td>21-30</td>\n",
       "      <td>65443137</td>\n",
       "      <td>4.090196</td>\n",
       "      <td>8.897889e-01</td>\n",
       "      <td>56801768</td>\n",
       "      <td>3.550111e+00</td>\n",
       "      <td>7.722977e-01</td>\n",
       "    </tr>\n",
       "    <tr>\n",
       "      <th>4</th>\n",
       "      <td>31-40</td>\n",
       "      <td>40760809</td>\n",
       "      <td>2.547551</td>\n",
       "      <td>5.541989e-01</td>\n",
       "      <td>48297587</td>\n",
       "      <td>3.018599e+00</td>\n",
       "      <td>6.566717e-01</td>\n",
       "    </tr>\n",
       "    <tr>\n",
       "      <th>5</th>\n",
       "      <td>other</td>\n",
       "      <td>51</td>\n",
       "      <td>0.000003</td>\n",
       "      <td>6.934147e-07</td>\n",
       "      <td>7</td>\n",
       "      <td>4.380000e-07</td>\n",
       "      <td>9.517457e-08</td>\n",
       "    </tr>\n",
       "  </tbody>\n",
       "</table>\n",
       "</div>"
      ],
      "text/plain": [
       "  Value_Group  Pixels_2000  Area_2000  Pixels_pct_2000  Pixels_2020  \\\n",
       "0           0      2383412   0.148963     3.240574e-02      2644983   \n",
       "1        1-10      7772971   0.485811     1.056842e-01      7063355   \n",
       "2       11-20      4304621   0.269039     5.852721e-02      5857301   \n",
       "3       21-30     65443137   4.090196     8.897889e-01     56801768   \n",
       "4       31-40     40760809   2.547551     5.541989e-01     48297587   \n",
       "5       other           51   0.000003     6.934147e-07            7   \n",
       "\n",
       "      Area_2020  Pixels_pct_2020  \n",
       "0  1.653114e-01     3.596216e-02  \n",
       "1  4.414597e-01     9.603597e-02  \n",
       "2  3.660813e-01     7.963801e-02  \n",
       "3  3.550111e+00     7.722977e-01  \n",
       "4  3.018599e+00     6.566717e-01  \n",
       "5  4.380000e-07     9.517457e-08  "
      ]
     },
     "execution_count": 70,
     "metadata": {},
     "output_type": "execute_result"
    }
   ],
   "source": [
    "# Create a copy of the DataFrame to avoid modifying the original\n",
    "df_grouped = df.copy()\n",
    "\n",
    "# Define custom group labels\n",
    "def group_label(val):\n",
    "    if val == 0:\n",
    "        return '0'\n",
    "    elif 1 <= val <= 10:\n",
    "        return '1-10'\n",
    "    elif 11 <= val <= 20:\n",
    "        return '11-20'\n",
    "    elif 21 <= val <= 30:\n",
    "        return '21-30'\n",
    "    elif 31 <= val <= 40:\n",
    "        return '31-40'\n",
    "    else:\n",
    "        return 'other'  # in case there are values outside your expected range\n",
    "\n",
    "# Apply grouping\n",
    "df_grouped['Value_Group'] = df_grouped['Value'].apply(group_label)\n",
    "\n",
    "# Group by the new category and sum the relevant columns\n",
    "columns_to_sum = [\n",
    "    'Pixels_2000', 'Area_2000', 'Pixels_pct_2000',\n",
    "    'Pixels_2020', 'Area_2020', 'Pixels_pct_2020'\n",
    "]\n",
    "\n",
    "df_result = df_grouped.groupby('Value_Group')[columns_to_sum].sum().reset_index()\n",
    "df_result"
   ]
  },
  {
   "cell_type": "code",
   "execution_count": 71,
   "id": "22968be4-3cc1-4a87-8780-96e00c4a8404",
   "metadata": {},
   "outputs": [],
   "source": [
    "df_result['pct_change'] = (df_result['Pixels_pct_2020'] - df_result['Pixels_pct_2000']) / df_result['Pixels_pct_2000'] "
   ]
  },
  {
   "cell_type": "code",
   "execution_count": 72,
   "id": "370d7722-056a-4e0d-bdf4-2a44a33f8094",
   "metadata": {},
   "outputs": [
    {
     "data": {
      "text/html": [
       "<div>\n",
       "<style scoped>\n",
       "    .dataframe tbody tr th:only-of-type {\n",
       "        vertical-align: middle;\n",
       "    }\n",
       "\n",
       "    .dataframe tbody tr th {\n",
       "        vertical-align: top;\n",
       "    }\n",
       "\n",
       "    .dataframe thead th {\n",
       "        text-align: right;\n",
       "    }\n",
       "</style>\n",
       "<table border=\"1\" class=\"dataframe\">\n",
       "  <thead>\n",
       "    <tr style=\"text-align: right;\">\n",
       "      <th></th>\n",
       "      <th>Value_Group</th>\n",
       "      <th>Pixels_2000</th>\n",
       "      <th>Area_2000</th>\n",
       "      <th>Pixels_pct_2000</th>\n",
       "      <th>Pixels_2020</th>\n",
       "      <th>Area_2020</th>\n",
       "      <th>Pixels_pct_2020</th>\n",
       "      <th>pct_change</th>\n",
       "    </tr>\n",
       "  </thead>\n",
       "  <tbody>\n",
       "    <tr>\n",
       "      <th>0</th>\n",
       "      <td>0</td>\n",
       "      <td>2383412</td>\n",
       "      <td>0.148963</td>\n",
       "      <td>0.032406</td>\n",
       "      <td>2644983</td>\n",
       "      <td>0.165311</td>\n",
       "      <td>0.035962</td>\n",
       "      <td>0.109746</td>\n",
       "    </tr>\n",
       "    <tr>\n",
       "      <th>1</th>\n",
       "      <td>1-10</td>\n",
       "      <td>7772971</td>\n",
       "      <td>0.485811</td>\n",
       "      <td>0.105684</td>\n",
       "      <td>7063355</td>\n",
       "      <td>0.441460</td>\n",
       "      <td>0.096036</td>\n",
       "      <td>-0.091293</td>\n",
       "    </tr>\n",
       "    <tr>\n",
       "      <th>2</th>\n",
       "      <td>11-20</td>\n",
       "      <td>4304621</td>\n",
       "      <td>0.269039</td>\n",
       "      <td>0.058527</td>\n",
       "      <td>5857301</td>\n",
       "      <td>0.366081</td>\n",
       "      <td>0.079638</td>\n",
       "      <td>0.360701</td>\n",
       "    </tr>\n",
       "    <tr>\n",
       "      <th>3</th>\n",
       "      <td>21-30</td>\n",
       "      <td>65443137</td>\n",
       "      <td>4.090196</td>\n",
       "      <td>0.889789</td>\n",
       "      <td>56801768</td>\n",
       "      <td>3.550111</td>\n",
       "      <td>0.772298</td>\n",
       "      <td>-0.132044</td>\n",
       "    </tr>\n",
       "    <tr>\n",
       "      <th>4</th>\n",
       "      <td>31-40</td>\n",
       "      <td>40760809</td>\n",
       "      <td>2.547551</td>\n",
       "      <td>0.554199</td>\n",
       "      <td>48297587</td>\n",
       "      <td>3.018599</td>\n",
       "      <td>0.656672</td>\n",
       "      <td>0.184903</td>\n",
       "    </tr>\n",
       "  </tbody>\n",
       "</table>\n",
       "</div>"
      ],
      "text/plain": [
       "  Value_Group  Pixels_2000  Area_2000  Pixels_pct_2000  Pixels_2020  \\\n",
       "0           0      2383412   0.148963         0.032406      2644983   \n",
       "1        1-10      7772971   0.485811         0.105684      7063355   \n",
       "2       11-20      4304621   0.269039         0.058527      5857301   \n",
       "3       21-30     65443137   4.090196         0.889789     56801768   \n",
       "4       31-40     40760809   2.547551         0.554199     48297587   \n",
       "\n",
       "   Area_2020  Pixels_pct_2020  pct_change  \n",
       "0   0.165311         0.035962    0.109746  \n",
       "1   0.441460         0.096036   -0.091293  \n",
       "2   0.366081         0.079638    0.360701  \n",
       "3   3.550111         0.772298   -0.132044  \n",
       "4   3.018599         0.656672    0.184903  "
      ]
     },
     "execution_count": 72,
     "metadata": {},
     "output_type": "execute_result"
    }
   ],
   "source": [
    "df_result.head()"
   ]
  },
  {
   "cell_type": "markdown",
   "id": "0ae1cf5b-23da-4914-927a-dff114c36151",
   "metadata": {},
   "source": [
    "# Same analysis for related concessions"
   ]
  },
  {
   "cell_type": "code",
   "execution_count": 34,
   "id": "cc3024f1-fa42-4956-8b85-da3747bd65a3",
   "metadata": {},
   "outputs": [],
   "source": [
    "rc00 = pd.read_csv('analysis/Cameroon former Wijma concessions 2000 tree height raster data.csv')"
   ]
  },
  {
   "cell_type": "code",
   "execution_count": 35,
   "id": "7d4d8043-55e7-47cd-b092-0b8255d73d6f",
   "metadata": {},
   "outputs": [
    {
     "data": {
      "text/plain": [
       "4906301"
      ]
     },
     "execution_count": 35,
     "metadata": {},
     "output_type": "execute_result"
    }
   ],
   "source": [
    "rc00['Pixel count'].sum()"
   ]
  },
  {
   "cell_type": "code",
   "execution_count": 36,
   "id": "5c9e8134-cf01-402d-9d01-aef7e0f47c5e",
   "metadata": {},
   "outputs": [],
   "source": [
    "rc20 = pd.read_csv('analysis/Cameroon former Wijma concessions 2020 tree height raster data.csv')"
   ]
  },
  {
   "cell_type": "code",
   "execution_count": 37,
   "id": "1560788c-3af7-456a-b615-fc66f30a2783",
   "metadata": {},
   "outputs": [
    {
     "data": {
      "text/plain": [
       "4906301"
      ]
     },
     "execution_count": 37,
     "metadata": {},
     "output_type": "execute_result"
    }
   ],
   "source": [
    "rc20['Pixel count'].sum()"
   ]
  },
  {
   "cell_type": "code",
   "execution_count": 38,
   "id": "f6fa1c02-f49f-42ab-b7f0-4149ec6d1590",
   "metadata": {},
   "outputs": [],
   "source": [
    "rc00['Pixels_2000'] = rc00['Pixel count']"
   ]
  },
  {
   "cell_type": "code",
   "execution_count": 39,
   "id": "b13b3c8b-395b-4c15-b69e-55494ef37d08",
   "metadata": {},
   "outputs": [],
   "source": [
    "rc00 = rc00.drop(columns='Pixel count')"
   ]
  },
  {
   "cell_type": "code",
   "execution_count": 40,
   "id": "6e655fd3-27ed-413a-bf50-6a177b57b2b0",
   "metadata": {},
   "outputs": [],
   "source": [
    "rc00['Area_2000'] = rc00['Area (deg2)']"
   ]
  },
  {
   "cell_type": "code",
   "execution_count": 41,
   "id": "aad1ef00-aaa6-46cc-8227-b7fa560447f9",
   "metadata": {},
   "outputs": [],
   "source": [
    "rc00 = rc00.drop(columns='Area (deg2)')"
   ]
  },
  {
   "cell_type": "code",
   "execution_count": 42,
   "id": "0e82ec65-c1e3-4ec8-a605-205302260fa3",
   "metadata": {},
   "outputs": [],
   "source": [
    "rc00['Pixels_pct_2000'] = rc00['Pixels_2000'] / 5824148"
   ]
  },
  {
   "cell_type": "code",
   "execution_count": 43,
   "id": "9917a62b-8ce6-4c21-afc2-b3e02be53339",
   "metadata": {},
   "outputs": [
    {
     "data": {
      "text/html": [
       "<div>\n",
       "<style scoped>\n",
       "    .dataframe tbody tr th:only-of-type {\n",
       "        vertical-align: middle;\n",
       "    }\n",
       "\n",
       "    .dataframe tbody tr th {\n",
       "        vertical-align: top;\n",
       "    }\n",
       "\n",
       "    .dataframe thead th {\n",
       "        text-align: right;\n",
       "    }\n",
       "</style>\n",
       "<table border=\"1\" class=\"dataframe\">\n",
       "  <thead>\n",
       "    <tr style=\"text-align: right;\">\n",
       "      <th></th>\n",
       "      <th>Value</th>\n",
       "      <th>Pixels_2000</th>\n",
       "      <th>Area_2000</th>\n",
       "      <th>Pixels_pct_2000</th>\n",
       "    </tr>\n",
       "  </thead>\n",
       "  <tbody>\n",
       "    <tr>\n",
       "      <th>0</th>\n",
       "      <td>0</td>\n",
       "      <td>15077</td>\n",
       "      <td>0.000942</td>\n",
       "      <td>0.002589</td>\n",
       "    </tr>\n",
       "    <tr>\n",
       "      <th>1</th>\n",
       "      <td>3</td>\n",
       "      <td>488</td>\n",
       "      <td>0.000030</td>\n",
       "      <td>0.000084</td>\n",
       "    </tr>\n",
       "    <tr>\n",
       "      <th>2</th>\n",
       "      <td>4</td>\n",
       "      <td>594</td>\n",
       "      <td>0.000037</td>\n",
       "      <td>0.000102</td>\n",
       "    </tr>\n",
       "    <tr>\n",
       "      <th>3</th>\n",
       "      <td>5</td>\n",
       "      <td>868</td>\n",
       "      <td>0.000054</td>\n",
       "      <td>0.000149</td>\n",
       "    </tr>\n",
       "    <tr>\n",
       "      <th>4</th>\n",
       "      <td>6</td>\n",
       "      <td>990</td>\n",
       "      <td>0.000062</td>\n",
       "      <td>0.000170</td>\n",
       "    </tr>\n",
       "  </tbody>\n",
       "</table>\n",
       "</div>"
      ],
      "text/plain": [
       "   Value  Pixels_2000  Area_2000  Pixels_pct_2000\n",
       "0      0        15077   0.000942         0.002589\n",
       "1      3          488   0.000030         0.000084\n",
       "2      4          594   0.000037         0.000102\n",
       "3      5          868   0.000054         0.000149\n",
       "4      6          990   0.000062         0.000170"
      ]
     },
     "execution_count": 43,
     "metadata": {},
     "output_type": "execute_result"
    }
   ],
   "source": [
    "rc00.head()"
   ]
  },
  {
   "cell_type": "code",
   "execution_count": 44,
   "id": "2a23fdfb-b86f-47ac-a82c-d327180502e8",
   "metadata": {},
   "outputs": [
    {
     "data": {
      "text/plain": [
       "(39, 4)"
      ]
     },
     "execution_count": 44,
     "metadata": {},
     "output_type": "execute_result"
    }
   ],
   "source": [
    "rc00.shape"
   ]
  },
  {
   "cell_type": "code",
   "execution_count": 45,
   "id": "de4178de-91e8-4d2b-8f95-8baada870b1d",
   "metadata": {},
   "outputs": [],
   "source": [
    "rc20['Pixels_2020'] = rc20['Pixel count']"
   ]
  },
  {
   "cell_type": "code",
   "execution_count": 46,
   "id": "7dd5dd99-7edf-4ac6-89a0-443f45b440e6",
   "metadata": {},
   "outputs": [],
   "source": [
    "rc20 = rc20.drop(columns='Pixel count')"
   ]
  },
  {
   "cell_type": "code",
   "execution_count": 47,
   "id": "39f22fc1-f873-43f3-a110-1ea9698aefe4",
   "metadata": {},
   "outputs": [],
   "source": [
    "rc20['Area_2020'] = rc20['Area (deg2)']"
   ]
  },
  {
   "cell_type": "code",
   "execution_count": 48,
   "id": "6c0748b2-a32e-4d02-8731-7b07f3609371",
   "metadata": {},
   "outputs": [
    {
     "data": {
      "text/html": [
       "<div>\n",
       "<style scoped>\n",
       "    .dataframe tbody tr th:only-of-type {\n",
       "        vertical-align: middle;\n",
       "    }\n",
       "\n",
       "    .dataframe tbody tr th {\n",
       "        vertical-align: top;\n",
       "    }\n",
       "\n",
       "    .dataframe thead th {\n",
       "        text-align: right;\n",
       "    }\n",
       "</style>\n",
       "<table border=\"1\" class=\"dataframe\">\n",
       "  <thead>\n",
       "    <tr style=\"text-align: right;\">\n",
       "      <th></th>\n",
       "      <th>Value</th>\n",
       "      <th>Area (deg2)</th>\n",
       "      <th>Pixels_2020</th>\n",
       "      <th>Area_2020</th>\n",
       "    </tr>\n",
       "  </thead>\n",
       "  <tbody>\n",
       "    <tr>\n",
       "      <th>0</th>\n",
       "      <td>0</td>\n",
       "      <td>0.001415</td>\n",
       "      <td>22641</td>\n",
       "      <td>0.001415</td>\n",
       "    </tr>\n",
       "    <tr>\n",
       "      <th>1</th>\n",
       "      <td>3</td>\n",
       "      <td>0.000269</td>\n",
       "      <td>4307</td>\n",
       "      <td>0.000269</td>\n",
       "    </tr>\n",
       "    <tr>\n",
       "      <th>2</th>\n",
       "      <td>4</td>\n",
       "      <td>0.000255</td>\n",
       "      <td>4073</td>\n",
       "      <td>0.000255</td>\n",
       "    </tr>\n",
       "    <tr>\n",
       "      <th>3</th>\n",
       "      <td>5</td>\n",
       "      <td>0.000237</td>\n",
       "      <td>3787</td>\n",
       "      <td>0.000237</td>\n",
       "    </tr>\n",
       "    <tr>\n",
       "      <th>4</th>\n",
       "      <td>6</td>\n",
       "      <td>0.000245</td>\n",
       "      <td>3923</td>\n",
       "      <td>0.000245</td>\n",
       "    </tr>\n",
       "  </tbody>\n",
       "</table>\n",
       "</div>"
      ],
      "text/plain": [
       "   Value  Area (deg2)  Pixels_2020  Area_2020\n",
       "0      0     0.001415        22641   0.001415\n",
       "1      3     0.000269         4307   0.000269\n",
       "2      4     0.000255         4073   0.000255\n",
       "3      5     0.000237         3787   0.000237\n",
       "4      6     0.000245         3923   0.000245"
      ]
     },
     "execution_count": 48,
     "metadata": {},
     "output_type": "execute_result"
    }
   ],
   "source": [
    "rc20.head()"
   ]
  },
  {
   "cell_type": "code",
   "execution_count": 50,
   "id": "349c44a8-2b75-497d-bfb5-083a9ba502c1",
   "metadata": {},
   "outputs": [],
   "source": [
    "rc20 = rc20.drop(columns={'Area (deg2)'})"
   ]
  },
  {
   "cell_type": "code",
   "execution_count": 51,
   "id": "e1124067-196d-45f5-8ea9-46dcc6a0b085",
   "metadata": {},
   "outputs": [],
   "source": [
    "rc20['Pixels_pct_2020'] = rc20['Pixels_2020'] / 5824130"
   ]
  },
  {
   "cell_type": "code",
   "execution_count": 52,
   "id": "82ae4918-5dfb-4fdd-88c8-988535994b47",
   "metadata": {},
   "outputs": [
    {
     "data": {
      "text/html": [
       "<div>\n",
       "<style scoped>\n",
       "    .dataframe tbody tr th:only-of-type {\n",
       "        vertical-align: middle;\n",
       "    }\n",
       "\n",
       "    .dataframe tbody tr th {\n",
       "        vertical-align: top;\n",
       "    }\n",
       "\n",
       "    .dataframe thead th {\n",
       "        text-align: right;\n",
       "    }\n",
       "</style>\n",
       "<table border=\"1\" class=\"dataframe\">\n",
       "  <thead>\n",
       "    <tr style=\"text-align: right;\">\n",
       "      <th></th>\n",
       "      <th>Value</th>\n",
       "      <th>Pixels_2020</th>\n",
       "      <th>Area_2020</th>\n",
       "      <th>Pixels_pct_2020</th>\n",
       "    </tr>\n",
       "  </thead>\n",
       "  <tbody>\n",
       "    <tr>\n",
       "      <th>0</th>\n",
       "      <td>0</td>\n",
       "      <td>22641</td>\n",
       "      <td>0.001415</td>\n",
       "      <td>0.003887</td>\n",
       "    </tr>\n",
       "    <tr>\n",
       "      <th>1</th>\n",
       "      <td>3</td>\n",
       "      <td>4307</td>\n",
       "      <td>0.000269</td>\n",
       "      <td>0.000740</td>\n",
       "    </tr>\n",
       "    <tr>\n",
       "      <th>2</th>\n",
       "      <td>4</td>\n",
       "      <td>4073</td>\n",
       "      <td>0.000255</td>\n",
       "      <td>0.000699</td>\n",
       "    </tr>\n",
       "    <tr>\n",
       "      <th>3</th>\n",
       "      <td>5</td>\n",
       "      <td>3787</td>\n",
       "      <td>0.000237</td>\n",
       "      <td>0.000650</td>\n",
       "    </tr>\n",
       "    <tr>\n",
       "      <th>4</th>\n",
       "      <td>6</td>\n",
       "      <td>3923</td>\n",
       "      <td>0.000245</td>\n",
       "      <td>0.000674</td>\n",
       "    </tr>\n",
       "  </tbody>\n",
       "</table>\n",
       "</div>"
      ],
      "text/plain": [
       "   Value  Pixels_2020  Area_2020  Pixels_pct_2020\n",
       "0      0        22641   0.001415         0.003887\n",
       "1      3         4307   0.000269         0.000740\n",
       "2      4         4073   0.000255         0.000699\n",
       "3      5         3787   0.000237         0.000650\n",
       "4      6         3923   0.000245         0.000674"
      ]
     },
     "execution_count": 52,
     "metadata": {},
     "output_type": "execute_result"
    }
   ],
   "source": [
    "rc20.head()"
   ]
  },
  {
   "cell_type": "code",
   "execution_count": 53,
   "id": "112f187b-7f6b-4db1-9c91-653972ef6376",
   "metadata": {},
   "outputs": [
    {
     "data": {
      "text/plain": [
       "(39, 4)"
      ]
     },
     "execution_count": 53,
     "metadata": {},
     "output_type": "execute_result"
    }
   ],
   "source": [
    "rc00.shape"
   ]
  },
  {
   "cell_type": "code",
   "execution_count": 54,
   "id": "340fa8d3-ac83-46bc-985e-4f6d92d5e56c",
   "metadata": {},
   "outputs": [],
   "source": [
    "rc = rc00.merge(rc20, on='Value', how='outer')"
   ]
  },
  {
   "cell_type": "code",
   "execution_count": 55,
   "id": "589c1d7c-c566-4be9-baa9-8465ca598a58",
   "metadata": {},
   "outputs": [
    {
     "data": {
      "text/html": [
       "<div>\n",
       "<style scoped>\n",
       "    .dataframe tbody tr th:only-of-type {\n",
       "        vertical-align: middle;\n",
       "    }\n",
       "\n",
       "    .dataframe tbody tr th {\n",
       "        vertical-align: top;\n",
       "    }\n",
       "\n",
       "    .dataframe thead th {\n",
       "        text-align: right;\n",
       "    }\n",
       "</style>\n",
       "<table border=\"1\" class=\"dataframe\">\n",
       "  <thead>\n",
       "    <tr style=\"text-align: right;\">\n",
       "      <th></th>\n",
       "      <th>Value</th>\n",
       "      <th>Pixels_2000</th>\n",
       "      <th>Area_2000</th>\n",
       "      <th>Pixels_pct_2000</th>\n",
       "      <th>Pixels_2020</th>\n",
       "      <th>Area_2020</th>\n",
       "      <th>Pixels_pct_2020</th>\n",
       "    </tr>\n",
       "  </thead>\n",
       "  <tbody>\n",
       "    <tr>\n",
       "      <th>0</th>\n",
       "      <td>0</td>\n",
       "      <td>15077</td>\n",
       "      <td>0.000942</td>\n",
       "      <td>0.002589</td>\n",
       "      <td>22641</td>\n",
       "      <td>0.001415</td>\n",
       "      <td>0.003887</td>\n",
       "    </tr>\n",
       "    <tr>\n",
       "      <th>1</th>\n",
       "      <td>3</td>\n",
       "      <td>488</td>\n",
       "      <td>0.000030</td>\n",
       "      <td>0.000084</td>\n",
       "      <td>4307</td>\n",
       "      <td>0.000269</td>\n",
       "      <td>0.000740</td>\n",
       "    </tr>\n",
       "    <tr>\n",
       "      <th>2</th>\n",
       "      <td>4</td>\n",
       "      <td>594</td>\n",
       "      <td>0.000037</td>\n",
       "      <td>0.000102</td>\n",
       "      <td>4073</td>\n",
       "      <td>0.000255</td>\n",
       "      <td>0.000699</td>\n",
       "    </tr>\n",
       "    <tr>\n",
       "      <th>3</th>\n",
       "      <td>5</td>\n",
       "      <td>868</td>\n",
       "      <td>0.000054</td>\n",
       "      <td>0.000149</td>\n",
       "      <td>3787</td>\n",
       "      <td>0.000237</td>\n",
       "      <td>0.000650</td>\n",
       "    </tr>\n",
       "    <tr>\n",
       "      <th>4</th>\n",
       "      <td>6</td>\n",
       "      <td>990</td>\n",
       "      <td>0.000062</td>\n",
       "      <td>0.000170</td>\n",
       "      <td>3923</td>\n",
       "      <td>0.000245</td>\n",
       "      <td>0.000674</td>\n",
       "    </tr>\n",
       "  </tbody>\n",
       "</table>\n",
       "</div>"
      ],
      "text/plain": [
       "   Value  Pixels_2000  Area_2000  Pixels_pct_2000  Pixels_2020  Area_2020  \\\n",
       "0      0        15077   0.000942         0.002589        22641   0.001415   \n",
       "1      3          488   0.000030         0.000084         4307   0.000269   \n",
       "2      4          594   0.000037         0.000102         4073   0.000255   \n",
       "3      5          868   0.000054         0.000149         3787   0.000237   \n",
       "4      6          990   0.000062         0.000170         3923   0.000245   \n",
       "\n",
       "   Pixels_pct_2020  \n",
       "0         0.003887  \n",
       "1         0.000740  \n",
       "2         0.000699  \n",
       "3         0.000650  \n",
       "4         0.000674  "
      ]
     },
     "execution_count": 55,
     "metadata": {},
     "output_type": "execute_result"
    }
   ],
   "source": [
    "rc.head()"
   ]
  },
  {
   "cell_type": "code",
   "execution_count": 56,
   "id": "4adcda3b-cd38-44bf-b516-60b6c985ccbd",
   "metadata": {},
   "outputs": [],
   "source": [
    "avg_2000 = (df['Value'] * df['Pixels_2000']).sum() / df['Pixels_2000'].sum()"
   ]
  },
  {
   "cell_type": "code",
   "execution_count": 57,
   "id": "0ee18720-5cfd-4b43-ba46-ef25a425f848",
   "metadata": {},
   "outputs": [
    {
     "data": {
      "text/plain": [
       "26.928644048161075"
      ]
     },
     "execution_count": 57,
     "metadata": {},
     "output_type": "execute_result"
    }
   ],
   "source": [
    "avg_2000"
   ]
  },
  {
   "cell_type": "code",
   "execution_count": 58,
   "id": "d762e52c-5522-4715-ac16-2a639097eb9a",
   "metadata": {},
   "outputs": [],
   "source": [
    "avg_2020 = (df['Value'] * df['Pixels_2020']).sum() / df['Pixels_2020'].sum()"
   ]
  },
  {
   "cell_type": "code",
   "execution_count": 59,
   "id": "4110f02c-d366-4bbb-81e3-a34475a28276",
   "metadata": {},
   "outputs": [
    {
     "data": {
      "text/plain": [
       "27.012940546032898"
      ]
     },
     "execution_count": 59,
     "metadata": {},
     "output_type": "execute_result"
    }
   ],
   "source": [
    "avg_2020"
   ]
  },
  {
   "cell_type": "code",
   "execution_count": 60,
   "id": "5154d750-ef68-486b-ac30-2e6eb967aae1",
   "metadata": {},
   "outputs": [],
   "source": [
    "rc['Pixel_difference'] = rc['Pixels_2020'] - rc['Pixels_2000']"
   ]
  },
  {
   "cell_type": "code",
   "execution_count": 61,
   "id": "1dda4868-97eb-4c99-a06e-cb608dd1e5c4",
   "metadata": {},
   "outputs": [
    {
     "data": {
      "text/plain": [
       "(39, 8)"
      ]
     },
     "execution_count": 61,
     "metadata": {},
     "output_type": "execute_result"
    }
   ],
   "source": [
    "rc.shape"
   ]
  },
  {
   "cell_type": "code",
   "execution_count": 75,
   "id": "84dad99e-a79c-4cfa-8bbd-4df70fea04c6",
   "metadata": {},
   "outputs": [],
   "source": [
    "rc.to_csv('Wijma_former_concessions_tree_height_change_2000_2020.csv',index=False)"
   ]
  },
  {
   "cell_type": "code",
   "execution_count": 62,
   "id": "3d6b3890-0845-4864-aa03-6fcbc13e5c6b",
   "metadata": {},
   "outputs": [
    {
     "data": {
      "image/png": "[encoded data removed]",
      "text/plain": [
       "<Figure size 1000x600 with 1 Axes>"
      ]
     },
     "metadata": {},
     "output_type": "display_data"
    }
   ],
   "source": [
    "#Set the positions and width for the bars\n",
    "x = np.arange(len(rc['Value']))  # the label locations\n",
    "width = 0.35  # width of the bars\n",
    "\n",
    "# Create the plot\n",
    "fig, ax = plt.subplots(figsize=(10, 6))\n",
    "bars1 = ax.bar(x - width/2, rc['Pixels_2000'], width, label='Pixels 2000')\n",
    "bars2 = ax.bar(x + width/2, rc['Pixels_2020'], width, label='Pixels 2020')\n",
    "\n",
    "# Add labels and title\n",
    "ax.set_xlabel('Value')\n",
    "ax.set_ylabel('Number of Pixels')\n",
    "ax.set_title('Pixel Counts by Value (2000 vs 2020)')\n",
    "ax.set_xticks(x)\n",
    "ax.set_xticklabels(rc['Value'], rotation=45)\n",
    "ax.legend()\n",
    "\n",
    "plt.tight_layout()\n",
    "plt.show()"
   ]
  },
  {
   "cell_type": "code",
   "execution_count": 63,
   "id": "8bdb18cf-71c9-4656-89d7-fce61387c093",
   "metadata": {},
   "outputs": [
    {
     "data": {
      "image/png": "[encoded data removed]",
      "text/plain": [
       "<Figure size 900x500 with 1 Axes>"
      ]
     },
     "metadata": {},
     "output_type": "display_data"
    }
   ],
   "source": [
    "x = np.arange(len(rc['Value']))        # one x‑tick per category\n",
    "width = 0.6                            # bar width\n",
    "\n",
    "fig, ax = plt.subplots(figsize=(9, 5))\n",
    "ax.bar(x, rc['Pixel_difference'], width)\n",
    "\n",
    "# axis labels & ticks\n",
    "ax.set_xlabel('Value')\n",
    "ax.set_ylabel('Pixel difference')\n",
    "ax.set_title('Pixel difference by Value')\n",
    "ax.set_xticks(x)\n",
    "ax.set_xticklabels(rc['Value'], rotation=45, ha='right')\n",
    "\n",
    "plt.tight_layout()\n",
    "plt.show()"
   ]
  },
  {
   "cell_type": "code",
   "execution_count": 67,
   "id": "ceeceebe-03e6-4ac7-b527-a3b93174393d",
   "metadata": {},
   "outputs": [
    {
     "data": {
      "text/html": [
       "<div>\n",
       "<style scoped>\n",
       "    .dataframe tbody tr th:only-of-type {\n",
       "        vertical-align: middle;\n",
       "    }\n",
       "\n",
       "    .dataframe tbody tr th {\n",
       "        vertical-align: top;\n",
       "    }\n",
       "\n",
       "    .dataframe thead th {\n",
       "        text-align: right;\n",
       "    }\n",
       "</style>\n",
       "<table border=\"1\" class=\"dataframe\">\n",
       "  <thead>\n",
       "    <tr style=\"text-align: right;\">\n",
       "      <th></th>\n",
       "      <th>Value_Group</th>\n",
       "      <th>Pixels_2000</th>\n",
       "      <th>Area_2000</th>\n",
       "      <th>Pixels_pct_2000</th>\n",
       "      <th>Pixels_2020</th>\n",
       "      <th>Area_2020</th>\n",
       "      <th>Pixels_pct_2020</th>\n",
       "    </tr>\n",
       "  </thead>\n",
       "  <tbody>\n",
       "    <tr>\n",
       "      <th>0</th>\n",
       "      <td>0</td>\n",
       "      <td>15077</td>\n",
       "      <td>0.000942</td>\n",
       "      <td>0.002589</td>\n",
       "      <td>22641</td>\n",
       "      <td>0.001415</td>\n",
       "      <td>0.003887</td>\n",
       "    </tr>\n",
       "    <tr>\n",
       "      <th>1</th>\n",
       "      <td>1-10</td>\n",
       "      <td>8320</td>\n",
       "      <td>0.000520</td>\n",
       "      <td>0.001429</td>\n",
       "      <td>32829</td>\n",
       "      <td>0.002052</td>\n",
       "      <td>0.005637</td>\n",
       "    </tr>\n",
       "    <tr>\n",
       "      <th>2</th>\n",
       "      <td>11-20</td>\n",
       "      <td>122787</td>\n",
       "      <td>0.007674</td>\n",
       "      <td>0.021082</td>\n",
       "      <td>143681</td>\n",
       "      <td>0.008980</td>\n",
       "      <td>0.024670</td>\n",
       "    </tr>\n",
       "    <tr>\n",
       "      <th>3</th>\n",
       "      <td>21-30</td>\n",
       "      <td>3280463</td>\n",
       "      <td>0.205029</td>\n",
       "      <td>0.563252</td>\n",
       "      <td>3444650</td>\n",
       "      <td>0.215291</td>\n",
       "      <td>0.591445</td>\n",
       "    </tr>\n",
       "    <tr>\n",
       "      <th>4</th>\n",
       "      <td>31-40</td>\n",
       "      <td>1479654</td>\n",
       "      <td>0.092478</td>\n",
       "      <td>0.254055</td>\n",
       "      <td>1262500</td>\n",
       "      <td>0.078906</td>\n",
       "      <td>0.216771</td>\n",
       "    </tr>\n",
       "  </tbody>\n",
       "</table>\n",
       "</div>"
      ],
      "text/plain": [
       "  Value_Group  Pixels_2000  Area_2000  Pixels_pct_2000  Pixels_2020  \\\n",
       "0           0        15077   0.000942         0.002589        22641   \n",
       "1        1-10         8320   0.000520         0.001429        32829   \n",
       "2       11-20       122787   0.007674         0.021082       143681   \n",
       "3       21-30      3280463   0.205029         0.563252      3444650   \n",
       "4       31-40      1479654   0.092478         0.254055      1262500   \n",
       "\n",
       "   Area_2020  Pixels_pct_2020  \n",
       "0   0.001415         0.003887  \n",
       "1   0.002052         0.005637  \n",
       "2   0.008980         0.024670  \n",
       "3   0.215291         0.591445  \n",
       "4   0.078906         0.216771  "
      ]
     },
     "execution_count": 67,
     "metadata": {},
     "output_type": "execute_result"
    }
   ],
   "source": [
    "# Create a copy of the DataFrame to avoid modifying the original\n",
    "rc_grouped = rc.copy()\n",
    "\n",
    "# Define custom group labels\n",
    "def group_label(val):\n",
    "    if val == 0:\n",
    "        return '0'\n",
    "    elif 1 <= val <= 10:\n",
    "        return '1-10'\n",
    "    elif 11 <= val <= 20:\n",
    "        return '11-20'\n",
    "    elif 21 <= val <= 30:\n",
    "        return '21-30'\n",
    "    elif 31 <= val <= 40:\n",
    "        return '31-40'\n",
    "    else:\n",
    "        return 'other'  # in case there are values outside your expected range\n",
    "\n",
    "# Apply grouping\n",
    "rc_grouped['Value_Group'] = rc_grouped['Value'].apply(group_label)\n",
    "\n",
    "# Group by the new category and sum the relevant columns\n",
    "columns_to_sum = [\n",
    "    'Pixels_2000', 'Area_2000', 'Pixels_pct_2000',\n",
    "    'Pixels_2020', 'Area_2020', 'Pixels_pct_2020'\n",
    "]\n",
    "\n",
    "rc_result = rc_grouped.groupby('Value_Group')[columns_to_sum].sum().reset_index()\n",
    "rc_result"
   ]
  },
  {
   "cell_type": "code",
   "execution_count": 68,
   "id": "3568afd6-55b1-4d45-8856-6824b2be77c9",
   "metadata": {},
   "outputs": [],
   "source": [
    "rc_result['pct_change'] = (rc_result['Pixels_pct_2020'] - rc_result['Pixels_pct_2000']) / rc_result['Pixels_pct_2000'] "
   ]
  },
  {
   "cell_type": "code",
   "execution_count": 69,
   "id": "6851069d-8c4a-436a-b6cd-5789a861edee",
   "metadata": {},
   "outputs": [
    {
     "data": {
      "text/html": [
       "<div>\n",
       "<style scoped>\n",
       "    .dataframe tbody tr th:only-of-type {\n",
       "        vertical-align: middle;\n",
       "    }\n",
       "\n",
       "    .dataframe tbody tr th {\n",
       "        vertical-align: top;\n",
       "    }\n",
       "\n",
       "    .dataframe thead th {\n",
       "        text-align: right;\n",
       "    }\n",
       "</style>\n",
       "<table border=\"1\" class=\"dataframe\">\n",
       "  <thead>\n",
       "    <tr style=\"text-align: right;\">\n",
       "      <th></th>\n",
       "      <th>Value_Group</th>\n",
       "      <th>Pixels_2000</th>\n",
       "      <th>Area_2000</th>\n",
       "      <th>Pixels_pct_2000</th>\n",
       "      <th>Pixels_2020</th>\n",
       "      <th>Area_2020</th>\n",
       "      <th>Pixels_pct_2020</th>\n",
       "      <th>pct_change</th>\n",
       "    </tr>\n",
       "  </thead>\n",
       "  <tbody>\n",
       "    <tr>\n",
       "      <th>0</th>\n",
       "      <td>0</td>\n",
       "      <td>15077</td>\n",
       "      <td>0.000942</td>\n",
       "      <td>0.002589</td>\n",
       "      <td>22641</td>\n",
       "      <td>0.001415</td>\n",
       "      <td>0.003887</td>\n",
       "      <td>0.501696</td>\n",
       "    </tr>\n",
       "    <tr>\n",
       "      <th>1</th>\n",
       "      <td>1-10</td>\n",
       "      <td>8320</td>\n",
       "      <td>0.000520</td>\n",
       "      <td>0.001429</td>\n",
       "      <td>32829</td>\n",
       "      <td>0.002052</td>\n",
       "      <td>0.005637</td>\n",
       "      <td>2.945805</td>\n",
       "    </tr>\n",
       "    <tr>\n",
       "      <th>2</th>\n",
       "      <td>11-20</td>\n",
       "      <td>122787</td>\n",
       "      <td>0.007674</td>\n",
       "      <td>0.021082</td>\n",
       "      <td>143681</td>\n",
       "      <td>0.008980</td>\n",
       "      <td>0.024670</td>\n",
       "      <td>0.170168</td>\n",
       "    </tr>\n",
       "    <tr>\n",
       "      <th>3</th>\n",
       "      <td>21-30</td>\n",
       "      <td>3280463</td>\n",
       "      <td>0.205029</td>\n",
       "      <td>0.563252</td>\n",
       "      <td>3444650</td>\n",
       "      <td>0.215291</td>\n",
       "      <td>0.591445</td>\n",
       "      <td>0.050053</td>\n",
       "    </tr>\n",
       "    <tr>\n",
       "      <th>4</th>\n",
       "      <td>31-40</td>\n",
       "      <td>1479654</td>\n",
       "      <td>0.092478</td>\n",
       "      <td>0.254055</td>\n",
       "      <td>1262500</td>\n",
       "      <td>0.078906</td>\n",
       "      <td>0.216771</td>\n",
       "      <td>-0.146757</td>\n",
       "    </tr>\n",
       "  </tbody>\n",
       "</table>\n",
       "</div>"
      ],
      "text/plain": [
       "  Value_Group  Pixels_2000  Area_2000  Pixels_pct_2000  Pixels_2020  \\\n",
       "0           0        15077   0.000942         0.002589        22641   \n",
       "1        1-10         8320   0.000520         0.001429        32829   \n",
       "2       11-20       122787   0.007674         0.021082       143681   \n",
       "3       21-30      3280463   0.205029         0.563252      3444650   \n",
       "4       31-40      1479654   0.092478         0.254055      1262500   \n",
       "\n",
       "   Area_2020  Pixels_pct_2020  pct_change  \n",
       "0   0.001415         0.003887    0.501696  \n",
       "1   0.002052         0.005637    2.945805  \n",
       "2   0.008980         0.024670    0.170168  \n",
       "3   0.215291         0.591445    0.050053  \n",
       "4   0.078906         0.216771   -0.146757  "
      ]
     },
     "execution_count": 69,
     "metadata": {},
     "output_type": "execute_result"
    }
   ],
   "source": [
    "rc_result"
   ]
  },
  {
   "cell_type": "code",
   "execution_count": 73,
   "id": "59f17db6-4c22-4400-92f5-b1a577921bf8",
   "metadata": {},
   "outputs": [],
   "source": [
    "rc_result.to_csv('Wijma_former_concessions_tree_height_change.csv',index=False)"
   ]
  },
  {
   "cell_type": "markdown",
   "id": "81e1e5ce-3b1c-48c1-bc1a-9e1612603b90",
   "metadata": {},
   "source": [
    "### Areas with the highest trees decreased by about 15% between 2000 and 2020 in Wijma's concessions"
   ]
  },
  {
   "cell_type": "code",
   "execution_count": null,
   "id": "80e47a14-476c-4a17-8058-067c29de85ab",
   "metadata": {},
   "outputs": [],
   "source": []
  },
  {
   "cell_type": "code",
   "execution_count": null,
   "id": "8c3b4a7c-6440-4353-beed-89398e4b56ca",
   "metadata": {},
   "outputs": [],
   "source": []
  },
  {
   "cell_type": "code",
   "execution_count": null,
   "id": "7f384d35-c5ed-49fb-af56-e1ef57fb6ccc",
   "metadata": {},
   "outputs": [],
   "source": []
  },
  {
   "cell_type": "code",
   "execution_count": 52,
   "id": "99b9bc40-cc8c-4e8c-8414-d972e2fb6d34",
   "metadata": {},
   "outputs": [
    {
     "name": "stdout",
     "output_type": "stream",
     "text": [
      "── Attaching core tidyverse packages ──────────────────────── tidyverse 2.0.0 ──\n",
      "✔ dplyr     1.1.4     ✔ readr     2.1.5\n",
      "✔ forcats   1.0.0     ✔ stringr   1.5.1\n",
      "✔ ggplot2   3.5.1     ✔ tibble    3.2.1\n",
      "✔ lubridate 1.9.4     ✔ tidyr     1.3.1\n",
      "✔ purrr     1.0.4     \n",
      "── Conflicts ────────────────────────────────────────── tidyverse_conflicts() ──\n",
      "✖ dplyr::filter() masks stats::filter()\n",
      "✖ dplyr::lag()    masks stats::lag()\n",
      "ℹ Use the conflicted package (<http://conflicted.r-lib.org/>) to force all conflicts to become errors\n"
     ]
    },
    {
     "data": {
      "text/plain": [
       "Loading required package: tidyverse\n"
      ]
     },
     "metadata": {},
     "output_type": "display_data"
    }
   ],
   "source": [
    "%%R\n",
    "\n",
    "require('tidyverse')"
   ]
  },
  {
   "cell_type": "code",
   "execution_count": 54,
   "id": "aeb0ed67-0796-4bd4-8b41-ba906cebf9d3",
   "metadata": {},
   "outputs": [],
   "source": [
    "%%R\n",
    " \n",
    "df <- read_csv('guyana_concessions_tree_height_raster_analysis_2000_2020.csv', show_col_types = FALSE)"
   ]
  },
  {
   "cell_type": "code",
   "execution_count": 55,
   "id": "20c3c457-1490-4187-bc72-82f0d7e02e87",
   "metadata": {},
   "outputs": [
    {
     "name": "stdout",
     "output_type": "stream",
     "text": [
      "# A tibble: 6 × 7\n",
      "  Value Pixels_2000 Area_2000 Pixels_pct_2000 Pixels_2020 Area_2020\n",
      "  <dbl>       <dbl>     <dbl>           <dbl>       <dbl>     <dbl>\n",
      "1     0     1333613   0.0834         0.0181       1723113   0.108  \n",
      "2     3       26519   0.00166        0.000361       87226   0.00545\n",
      "3     4      100486   0.00628        0.00137       122519   0.00766\n",
      "4     5      345406   0.0216         0.00470       301924   0.0189 \n",
      "5     6      164862   0.0103         0.00224       232080   0.0145 \n",
      "6     7      139613   0.00873        0.00190       206965   0.0129 \n",
      "# ℹ 1 more variable: Pixels_pct_2020 <dbl>\n"
     ]
    }
   ],
   "source": [
    "%%R\n",
    "\n",
    "head(df)"
   ]
  },
  {
   "cell_type": "code",
   "execution_count": 56,
   "id": "bd0fe353-9d7d-4d72-822e-ae85e5447f41",
   "metadata": {},
   "outputs": [
    {
     "name": "stdout",
     "output_type": "stream",
     "text": [
      "`stat_bin()` using `bins = 30`. Pick better value with `binwidth`.\n"
     ]
    },
    {
     "data": {
      "image/png": "[encoded data removed]",
      "text/plain": [
       "<IPython.core.display.Image object>"
      ]
     },
     "metadata": {},
     "output_type": "display_data"
    }
   ],
   "source": [
    "%%R\n",
    "\n",
    "    ggplot(df) +\n",
    "    aes(x=Pixels_2000) +\n",
    "    geom_histogram()"
   ]
  },
  {
   "cell_type": "code",
   "execution_count": null,
   "id": "284960b2-3648-4626-98b9-c4f37b29fa50",
   "metadata": {},
   "outputs": [],
   "source": []
  }
 ],
 "metadata": {
  "kernelspec": {
   "display_name": "Python 3 (ipykernel)",
   "language": "python",
   "name": "python3"
  },
  "language_info": {
   "codemirror_mode": {
    "name": "ipython",
    "version": 3
   },
   "file_extension": ".py",
   "mimetype": "text/x-python",
   "name": "python",
   "nbconvert_exporter": "python",
   "pygments_lexer": "ipython3",
   "version": "3.12.7"
  }
 },
 "nbformat": 4,
 "nbformat_minor": 5
}
