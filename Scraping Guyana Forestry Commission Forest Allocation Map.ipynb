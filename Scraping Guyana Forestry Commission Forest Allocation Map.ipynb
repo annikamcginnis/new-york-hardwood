{
 "cells": [
  {
   "cell_type": "markdown",
   "id": "2d0e9b17-9c85-49f4-b847-f901d8bad529",
   "metadata": {},
   "source": [
    "# Scraping Guyana Forestry Commission Forest Allocation Map"
   ]
  },
  {
   "cell_type": "markdown",
   "id": "ddfc181f-64b7-4be2-b851-ec8d29d7fc0a",
   "metadata": {},
   "source": [
    "Page URL: https://cadasta.maps.arcgis.com/apps/webappviewer/index.html?id=e543e1d1d8f04bc29e16b448cd0beb76"
   ]
  },
  {
   "cell_type": "code",
   "execution_count": 182,
   "id": "fa1de16e-f30c-4a2e-870a-a5becfd18392",
   "metadata": {},
   "outputs": [],
   "source": [
    "import requests"
   ]
  },
  {
   "cell_type": "code",
   "execution_count": 183,
   "id": "d971dbae-b501-4d12-ba57-b6ccd4f61c54",
   "metadata": {},
   "outputs": [],
   "source": [
    "url = \"https://services8.arcgis.com/8tX9OH8doNBidChm/arcgis/rest/services/GFC_Shapefiles/FeatureServer/9?f=json\""
   ]
  },
  {
   "cell_type": "code",
   "execution_count": 184,
   "id": "7a3c41ea-c590-4797-b25c-eb4efa660089",
   "metadata": {},
   "outputs": [
    {
     "data": {
      "text/plain": [
       "<Response [200]>"
      ]
     },
     "execution_count": 184,
     "metadata": {},
     "output_type": "execute_result"
    }
   ],
   "source": [
    "response = requests.get(url)\n",
    "response"
   ]
  },
  {
   "cell_type": "code",
   "execution_count": 185,
   "id": "4c20666c-a6a5-492e-853d-1b2720dc17b1",
   "metadata": {},
   "outputs": [
    {
     "name": "stdout",
     "output_type": "stream",
     "text": [
      "Status code: 200\n",
      "Headers: {'Content-Type': 'application/json; charset=utf-8', 'Content-Length': '2673', 'Connection': 'keep-alive', 'Cache-Control': 'public, max-age=30, s-maxage=30', 'Content-Encoding': 'br', 'Last-Modified': 'Tue, 23 Jul 2024 19:04:43 GMT', 'ETag': '1012815165', 'Request-Context': 'appId=cid-v1:51ddf63e-295f-4750-9246-c1fd1cd03a35, appId=cid-v1:aee5d73c-efd8-4362-94ca-2a7baad8dc01', 'x-arcgis-upstream': 'us1h08c00', 'Strict-Transport-Security': 'max-age=63072000', 'X-ArcGIS-Trace-Id': 'jaxdAPoWcJrjfuXG_BQlpSTb1UTT1Uo1nbAMdOsaPoyb-tdz_FTvIw==', 'X-ArcGIS-Correlation-Id': '00-ba9c0d7ab9c25d4096dfe951f85440e0-39d947452ca12867-00', 'X-ArcGIS-Instance': '5nxvauy5s000GTJ', 'Access-Control-Expose-Headers': 'Request-Context', 'Access-Control-Allow-Origin': '*', 'Date': 'Thu, 12 Jun 2025 05:24:55 GMT', 'Vary': 'X-Esri-Authorization', 'X-Cache': 'RefreshHit from cloudfront', 'Via': '1.1 983c7b4dc16774878ead1f5daf9bb81e.cloudfront.net (CloudFront)', 'X-Amz-Cf-Pop': 'JFK52-P9', 'X-Amz-Cf-Id': 'bWCExAxGLyqXJy3dcXpu9yNZc3IVAx5P-aXgM1xMsNEo6MVktKg1tA=='}\n"
     ]
    }
   ],
   "source": [
    "print(\"Status code:\", response.status_code)\n",
    "print(\"Headers:\", response.headers)\n",
    "#print(\"Text:\", repr(response.text))  # repr to show empty strings clearly"
   ]
  },
  {
   "cell_type": "code",
   "execution_count": 301,
   "id": "495fc0a8-1edb-4f54-a42f-f0fd821e5de0",
   "metadata": {},
   "outputs": [],
   "source": [
    "data1 = response.json()\n",
    "#data1"
   ]
  },
  {
   "cell_type": "markdown",
   "id": "6a3e3a8e-fe8c-49fb-8866-5fd0cce4a449",
   "metadata": {},
   "source": [
    "### This is the metadata only"
   ]
  },
  {
   "cell_type": "markdown",
   "id": "26b896cf-da3e-4763-a615-325b2065c0ea",
   "metadata": {},
   "source": [
    "## Scraping JSON request 9: State Forest Exploratory Permits"
   ]
  },
  {
   "cell_type": "code",
   "execution_count": 187,
   "id": "2e1260d8-057b-478f-b7fb-3e07dad38c2a",
   "metadata": {},
   "outputs": [
    {
     "name": "stdout",
     "output_type": "stream",
     "text": [
      "Saved GeoJSON to state_forest_exploratory_permits.geojson\n"
     ]
    }
   ],
   "source": [
    "import requests\n",
    "import json\n",
    "\n",
    "url = \"https://services8.arcgis.com/8tX9OH8doNBidChm/arcgis/rest/services/GFC_Shapefiles/FeatureServer/9/query\"\n",
    "\n",
    "params = {\n",
    "    \"where\": \"1=1\",\n",
    "    \"outFields\": \"*\",\n",
    "    \"f\": \"geojson\",\n",
    "    \"outSR\": 4326,\n",
    "    \"returnGeometry\": \"true\"\n",
    "}\n",
    "\n",
    "response = requests.get(url, params=params)\n",
    "response.raise_for_status()\n",
    "\n",
    "geojson_data = response.json()\n",
    "\n",
    "with open(\"state_forest_exploratory_permits.geojson\", \"w\") as f:\n",
    "    json.dump(geojson_data, f)\n",
    "\n",
    "print(\"Saved GeoJSON to state_forest_exploratory_permits.geojson\")"
   ]
  },
  {
   "cell_type": "code",
   "execution_count": 188,
   "id": "5c5d9f94-52d0-4f24-8623-aed755196d27",
   "metadata": {},
   "outputs": [
    {
     "data": {
      "text/html": [
       "<div>\n",
       "<style scoped>\n",
       "    .dataframe tbody tr th:only-of-type {\n",
       "        vertical-align: middle;\n",
       "    }\n",
       "\n",
       "    .dataframe tbody tr th {\n",
       "        vertical-align: top;\n",
       "    }\n",
       "\n",
       "    .dataframe thead th {\n",
       "        text-align: right;\n",
       "    }\n",
       "</style>\n",
       "<table border=\"1\" class=\"dataframe\">\n",
       "  <thead>\n",
       "    <tr style=\"text-align: right;\">\n",
       "      <th></th>\n",
       "      <th>FID</th>\n",
       "      <th>OWNER</th>\n",
       "      <th>FOLIO_NO</th>\n",
       "      <th>SHORT_DESP</th>\n",
       "      <th>Shape__Area</th>\n",
       "      <th>Shape__Length</th>\n",
       "      <th>geometry</th>\n",
       "    </tr>\n",
       "  </thead>\n",
       "  <tbody>\n",
       "    <tr>\n",
       "      <th>0</th>\n",
       "      <td>1</td>\n",
       "      <td>Ganshyam Mahase Sawmills Inc.</td>\n",
       "      <td>SFEP 01/19</td>\n",
       "      <td>Left Bank Kuribrong River,Right Bank Semang Ri...</td>\n",
       "      <td>7.005027e+08</td>\n",
       "      <td>179824.178254</td>\n",
       "      <td>POLYGON ((-59.48121 5.71543, -59.48109 5.71546...</td>\n",
       "    </tr>\n",
       "    <tr>\n",
       "      <th>1</th>\n",
       "      <td>2</td>\n",
       "      <td>Rong-An-Inc.</td>\n",
       "      <td>SFEP 01/22</td>\n",
       "      <td>LB Berbice,RB Essequibo R.</td>\n",
       "      <td>6.664673e+08</td>\n",
       "      <td>177088.107539</td>\n",
       "      <td>POLYGON ((-58.45612 4.18701, -58.45539 4.18708...</td>\n",
       "    </tr>\n",
       "  </tbody>\n",
       "</table>\n",
       "</div>"
      ],
      "text/plain": [
       "   FID                          OWNER    FOLIO_NO  \\\n",
       "0    1  Ganshyam Mahase Sawmills Inc.  SFEP 01/19   \n",
       "1    2                   Rong-An-Inc.  SFEP 01/22   \n",
       "\n",
       "                                          SHORT_DESP   Shape__Area  \\\n",
       "0  Left Bank Kuribrong River,Right Bank Semang Ri...  7.005027e+08   \n",
       "1                         LB Berbice,RB Essequibo R.  6.664673e+08   \n",
       "\n",
       "   Shape__Length                                           geometry  \n",
       "0  179824.178254  POLYGON ((-59.48121 5.71543, -59.48109 5.71546...  \n",
       "1  177088.107539  POLYGON ((-58.45612 4.18701, -58.45539 4.18708...  "
      ]
     },
     "execution_count": 188,
     "metadata": {},
     "output_type": "execute_result"
    }
   ],
   "source": [
    "import geopandas as gpd\n",
    "\n",
    "# Load the GeoJSON file\n",
    "sfep = gpd.read_file(\"state_forest_exploratory_permits.geojson\")\n",
    "\n",
    "# Preview the attributes\n",
    "sfep.head()"
   ]
  },
  {
   "cell_type": "markdown",
   "id": "a56d3557-5720-47bc-ae7b-e9a72ab1184e",
   "metadata": {},
   "source": [
    "## Scraping JSON request 8: North West District Concessions"
   ]
  },
  {
   "cell_type": "code",
   "execution_count": 189,
   "id": "18b02373-db35-47a9-ada3-e276a25b489f",
   "metadata": {},
   "outputs": [],
   "source": [
    "url = \"https://services8.arcgis.com/8tX9OH8doNBidChm/arcgis/rest/services/GFC_Shapefiles/FeatureServer/8?f=json\""
   ]
  },
  {
   "cell_type": "code",
   "execution_count": 190,
   "id": "9af8ce96-abf2-4ba5-8202-e796ec5749ed",
   "metadata": {},
   "outputs": [
    {
     "data": {
      "text/plain": [
       "<Response [200]>"
      ]
     },
     "execution_count": 190,
     "metadata": {},
     "output_type": "execute_result"
    }
   ],
   "source": [
    "response = requests.get(url)\n",
    "response"
   ]
  },
  {
   "cell_type": "code",
   "execution_count": 303,
   "id": "9bb06daf-4f18-4c44-8c41-ddaf4277fea0",
   "metadata": {},
   "outputs": [],
   "source": [
    "data2 = response.json()\n",
    "#data2"
   ]
  },
  {
   "cell_type": "raw",
   "id": "797a0736-a029-40a5-a7ee-5731b0ac271b",
   "metadata": {},
   "source": [
    "url = \"https://services8.arcgis.com/8tX9OH8doNBidChm/arcgis/rest/services/GFC_Shapefiles/FeatureServer/8/query\"\n",
    "\n",
    "params = {\n",
    "    \"where\": \"1=1\",\n",
    "    \"outFields\": \"*\",\n",
    "    \"f\": \"geojson\",\n",
    "    \"outSR\": 4326,\n",
    "    \"returnGeometry\": \"true\"\n",
    "}\n",
    "\n",
    "response = requests.get(url, params=params)\n",
    "response.raise_for_status()\n",
    "\n",
    "geojson_data = response.json()\n",
    "\n",
    "geojson_data"
   ]
  },
  {
   "cell_type": "code",
   "execution_count": 192,
   "id": "56d8e70f-bec4-4bad-9c89-b3ef8b99101b",
   "metadata": {},
   "outputs": [
    {
     "name": "stdout",
     "output_type": "stream",
     "text": [
      "Saved GeoJSON to north_west_district_concessions.geojson\n"
     ]
    }
   ],
   "source": [
    "with open(\"north_west_district_concessions.geojson\", \"w\") as f:\n",
    "    json.dump(geojson_data, f)\n",
    "\n",
    "print(\"Saved GeoJSON to north_west_district_concessions.geojson\")"
   ]
  },
  {
   "cell_type": "code",
   "execution_count": 193,
   "id": "8bb5be07-38d2-4851-9932-d2fa79c30763",
   "metadata": {},
   "outputs": [
    {
     "data": {
      "text/html": [
       "<div>\n",
       "<style scoped>\n",
       "    .dataframe tbody tr th:only-of-type {\n",
       "        vertical-align: middle;\n",
       "    }\n",
       "\n",
       "    .dataframe tbody tr th {\n",
       "        vertical-align: top;\n",
       "    }\n",
       "\n",
       "    .dataframe thead th {\n",
       "        text-align: right;\n",
       "    }\n",
       "</style>\n",
       "<table border=\"1\" class=\"dataframe\">\n",
       "  <thead>\n",
       "    <tr style=\"text-align: right;\">\n",
       "      <th></th>\n",
       "      <th>FID</th>\n",
       "      <th>OWNER</th>\n",
       "      <th>FOLIO_NO</th>\n",
       "      <th>SHORT_DESP</th>\n",
       "      <th>Shape__Area</th>\n",
       "      <th>Shape__Length</th>\n",
       "      <th>geometry</th>\n",
       "    </tr>\n",
       "  </thead>\n",
       "  <tbody>\n",
       "    <tr>\n",
       "      <th>0</th>\n",
       "      <td>1</td>\n",
       "      <td>Ganshyam Mahase Sawmills Inc.</td>\n",
       "      <td>SFEP 01/19</td>\n",
       "      <td>Left Bank Kuribrong River,Right Bank Semang Ri...</td>\n",
       "      <td>7.005027e+08</td>\n",
       "      <td>179824.178254</td>\n",
       "      <td>POLYGON ((-59.48121 5.71543, -59.48109 5.71546...</td>\n",
       "    </tr>\n",
       "    <tr>\n",
       "      <th>1</th>\n",
       "      <td>2</td>\n",
       "      <td>Rong-An-Inc.</td>\n",
       "      <td>SFEP 01/22</td>\n",
       "      <td>LB Berbice,RB Essequibo R.</td>\n",
       "      <td>6.664673e+08</td>\n",
       "      <td>177088.107539</td>\n",
       "      <td>POLYGON ((-58.45612 4.18701, -58.45539 4.18708...</td>\n",
       "    </tr>\n",
       "  </tbody>\n",
       "</table>\n",
       "</div>"
      ],
      "text/plain": [
       "   FID                          OWNER    FOLIO_NO  \\\n",
       "0    1  Ganshyam Mahase Sawmills Inc.  SFEP 01/19   \n",
       "1    2                   Rong-An-Inc.  SFEP 01/22   \n",
       "\n",
       "                                          SHORT_DESP   Shape__Area  \\\n",
       "0  Left Bank Kuribrong River,Right Bank Semang Ri...  7.005027e+08   \n",
       "1                         LB Berbice,RB Essequibo R.  6.664673e+08   \n",
       "\n",
       "   Shape__Length                                           geometry  \n",
       "0  179824.178254  POLYGON ((-59.48121 5.71543, -59.48109 5.71546...  \n",
       "1  177088.107539  POLYGON ((-58.45612 4.18701, -58.45539 4.18708...  "
      ]
     },
     "execution_count": 193,
     "metadata": {},
     "output_type": "execute_result"
    }
   ],
   "source": [
    "# Load the GeoJSON file\n",
    "nwdc = gpd.read_file(\"north_west_district_concessions.geojson\")\n",
    "\n",
    "# Preview the attributes\n",
    "nwdc.head()"
   ]
  },
  {
   "cell_type": "code",
   "execution_count": 194,
   "id": "a616733f-80c9-438e-a83f-7189b31d2fb8",
   "metadata": {},
   "outputs": [
    {
     "data": {
      "text/plain": [
       "(2, 7)"
      ]
     },
     "execution_count": 194,
     "metadata": {},
     "output_type": "execute_result"
    }
   ],
   "source": [
    "nwdc.shape"
   ]
  },
  {
   "cell_type": "markdown",
   "id": "9a1ad8a1-c5ef-4381-81a6-f4c37929f865",
   "metadata": {},
   "source": [
    "## Scraping JSON request 7: Large Concessions"
   ]
  },
  {
   "cell_type": "code",
   "execution_count": 195,
   "id": "9a895c08-6def-4a22-b9ca-551dcf85a4cb",
   "metadata": {},
   "outputs": [],
   "source": [
    "url = \"https://services8.arcgis.com/8tX9OH8doNBidChm/arcgis/rest/services/GFC_Shapefiles/FeatureServer/7?f=json\""
   ]
  },
  {
   "cell_type": "code",
   "execution_count": 196,
   "id": "a5df83b2-c53e-4f11-9e8c-a181f99361ec",
   "metadata": {},
   "outputs": [
    {
     "data": {
      "text/plain": [
       "<Response [200]>"
      ]
     },
     "execution_count": 196,
     "metadata": {},
     "output_type": "execute_result"
    }
   ],
   "source": [
    "response = requests.get(url)\n",
    "response"
   ]
  },
  {
   "cell_type": "code",
   "execution_count": 197,
   "id": "e97daf48-468c-4698-990c-720c8c34c219",
   "metadata": {},
   "outputs": [],
   "source": [
    "data3 = response.json()\n",
    "#data3"
   ]
  },
  {
   "cell_type": "code",
   "execution_count": 198,
   "id": "4243de23-e238-408e-b94f-6a33622dc227",
   "metadata": {},
   "outputs": [],
   "source": [
    "url = \"https://services8.arcgis.com/8tX9OH8doNBidChm/arcgis/rest/services/GFC_Shapefiles/FeatureServer/7/query\"\n",
    "\n",
    "params = {\n",
    "    \"where\": \"1=1\",\n",
    "    \"outFields\": \"*\",\n",
    "    \"f\": \"geojson\",\n",
    "    \"outSR\": 4326,\n",
    "    \"returnGeometry\": \"true\"\n",
    "}\n",
    "\n",
    "response = requests.get(url, params=params)\n",
    "response.raise_for_status()\n",
    "\n",
    "geojson_data = response.json()\n",
    "\n",
    "#geojson_data"
   ]
  },
  {
   "cell_type": "code",
   "execution_count": 199,
   "id": "be999306-e4c7-4080-846e-0f61ee538f22",
   "metadata": {},
   "outputs": [
    {
     "name": "stdout",
     "output_type": "stream",
     "text": [
      "Saved GeoJSON to large_concessions.geojson\n"
     ]
    }
   ],
   "source": [
    "with open(\"large_concessions.geojson\", \"w\") as f:\n",
    "    json.dump(geojson_data, f)\n",
    "\n",
    "print(\"Saved GeoJSON to large_concessions.geojson\")"
   ]
  },
  {
   "cell_type": "code",
   "execution_count": 200,
   "id": "ee72fb77-3ec5-4315-86f0-a85ec2f1fb1e",
   "metadata": {},
   "outputs": [
    {
     "data": {
      "text/html": [
       "<div>\n",
       "<style scoped>\n",
       "    .dataframe tbody tr th:only-of-type {\n",
       "        vertical-align: middle;\n",
       "    }\n",
       "\n",
       "    .dataframe tbody tr th {\n",
       "        vertical-align: top;\n",
       "    }\n",
       "\n",
       "    .dataframe thead th {\n",
       "        text-align: right;\n",
       "    }\n",
       "</style>\n",
       "<table border=\"1\" class=\"dataframe\">\n",
       "  <thead>\n",
       "    <tr style=\"text-align: right;\">\n",
       "      <th></th>\n",
       "      <th>FID</th>\n",
       "      <th>OWNER</th>\n",
       "      <th>FOLIO_NO</th>\n",
       "      <th>SHORT_DESC</th>\n",
       "      <th>Shape__Area</th>\n",
       "      <th>Shape__Length</th>\n",
       "      <th>geometry</th>\n",
       "    </tr>\n",
       "  </thead>\n",
       "  <tbody>\n",
       "    <tr>\n",
       "      <th>0</th>\n",
       "      <td>1</td>\n",
       "      <td>Rong-An-Inc</td>\n",
       "      <td>LC 01/21</td>\n",
       "      <td>LB Amakura R,LB Puruni R.</td>\n",
       "      <td>4.181429e+09</td>\n",
       "      <td>450094.145899</td>\n",
       "      <td>POLYGON ((-60.37174 6.94956, -60.37156 6.95022...</td>\n",
       "    </tr>\n",
       "    <tr>\n",
       "      <th>1</th>\n",
       "      <td>2</td>\n",
       "      <td>A. Mazaharally &amp; Sons Ltd.</td>\n",
       "      <td>LC 06/85</td>\n",
       "      <td>RB Pakasaru R, RB Pomeroon R; RB Karani R;</td>\n",
       "      <td>6.682567e+08</td>\n",
       "      <td>148087.389180</td>\n",
       "      <td>POLYGON ((-58.94213 6.77683, -58.94234 6.7769,...</td>\n",
       "    </tr>\n",
       "    <tr>\n",
       "      <th>2</th>\n",
       "      <td>3</td>\n",
       "      <td>A. Mazaharally &amp; Sons Ltd. (Mazaruni)</td>\n",
       "      <td>LC 09/85</td>\n",
       "      <td>RB Takutu R. LB Puruni R; LB Maz R;</td>\n",
       "      <td>9.282006e+08</td>\n",
       "      <td>163023.275175</td>\n",
       "      <td>POLYGON ((-59.00821 6.27714, -59.00482 6.27725...</td>\n",
       "    </tr>\n",
       "    <tr>\n",
       "      <th>3</th>\n",
       "      <td>4</td>\n",
       "      <td>CPT Inc</td>\n",
       "      <td>LC 02/11</td>\n",
       "      <td>LB Cuyuni R,RB Pomeroon R.</td>\n",
       "      <td>2.679831e+08</td>\n",
       "      <td>91890.689627</td>\n",
       "      <td>POLYGON ((-59.16375 6.74223, -59.16531 6.74217...</td>\n",
       "    </tr>\n",
       "    <tr>\n",
       "      <th>4</th>\n",
       "      <td>5</td>\n",
       "      <td>Demerara Timbers Ltd.</td>\n",
       "      <td>LC 02/91</td>\n",
       "      <td>LB Demerara R, RB Essequibo R</td>\n",
       "      <td>2.220429e+09</td>\n",
       "      <td>310750.331152</td>\n",
       "      <td>POLYGON ((-58.87347 5.29643, -58.87351 5.29643...</td>\n",
       "    </tr>\n",
       "  </tbody>\n",
       "</table>\n",
       "</div>"
      ],
      "text/plain": [
       "   FID                                  OWNER  FOLIO_NO  \\\n",
       "0    1                            Rong-An-Inc  LC 01/21   \n",
       "1    2             A. Mazaharally & Sons Ltd.  LC 06/85   \n",
       "2    3  A. Mazaharally & Sons Ltd. (Mazaruni)  LC 09/85   \n",
       "3    4                                CPT Inc  LC 02/11   \n",
       "4    5                  Demerara Timbers Ltd.  LC 02/91   \n",
       "\n",
       "                                   SHORT_DESC   Shape__Area  Shape__Length  \\\n",
       "0                   LB Amakura R,LB Puruni R.  4.181429e+09  450094.145899   \n",
       "1  RB Pakasaru R, RB Pomeroon R; RB Karani R;  6.682567e+08  148087.389180   \n",
       "2         RB Takutu R. LB Puruni R; LB Maz R;  9.282006e+08  163023.275175   \n",
       "3                  LB Cuyuni R,RB Pomeroon R.  2.679831e+08   91890.689627   \n",
       "4               LB Demerara R, RB Essequibo R  2.220429e+09  310750.331152   \n",
       "\n",
       "                                            geometry  \n",
       "0  POLYGON ((-60.37174 6.94956, -60.37156 6.95022...  \n",
       "1  POLYGON ((-58.94213 6.77683, -58.94234 6.7769,...  \n",
       "2  POLYGON ((-59.00821 6.27714, -59.00482 6.27725...  \n",
       "3  POLYGON ((-59.16375 6.74223, -59.16531 6.74217...  \n",
       "4  POLYGON ((-58.87347 5.29643, -58.87351 5.29643...  "
      ]
     },
     "execution_count": 200,
     "metadata": {},
     "output_type": "execute_result"
    }
   ],
   "source": [
    "lc = gpd.read_file(\"large_concessions.geojson\")\n",
    "\n",
    "lc.head()"
   ]
  },
  {
   "cell_type": "code",
   "execution_count": 201,
   "id": "080a4435-fb16-460c-a14f-4f5c03d37ebf",
   "metadata": {},
   "outputs": [
    {
     "data": {
      "text/plain": [
       "(27, 7)"
      ]
     },
     "execution_count": 201,
     "metadata": {},
     "output_type": "execute_result"
    }
   ],
   "source": [
    "lc.shape"
   ]
  },
  {
   "cell_type": "markdown",
   "id": "3bc01edc-8327-45ec-b65d-7fc8d0c41489",
   "metadata": {},
   "source": [
    "## Scraping JSON request 6: Large Concessions 2"
   ]
  },
  {
   "cell_type": "code",
   "execution_count": 202,
   "id": "40cecf21-940a-4585-9d1b-1cb4d5c137e3",
   "metadata": {},
   "outputs": [],
   "source": [
    "url = \"https://services8.arcgis.com/8tX9OH8doNBidChm/arcgis/rest/services/GFC_Shapefiles/FeatureServer/6?f=json\""
   ]
  },
  {
   "cell_type": "code",
   "execution_count": 203,
   "id": "3b673ac5-2040-4186-aafb-5d761bd28455",
   "metadata": {},
   "outputs": [
    {
     "data": {
      "text/plain": [
       "<Response [200]>"
      ]
     },
     "execution_count": 203,
     "metadata": {},
     "output_type": "execute_result"
    }
   ],
   "source": [
    "response = requests.get(url)\n",
    "response"
   ]
  },
  {
   "cell_type": "code",
   "execution_count": 204,
   "id": "a0e3d6ea-ee84-4d43-b4a3-4e03684f705b",
   "metadata": {},
   "outputs": [],
   "source": [
    "data4 = response.json() \n",
    "#data4"
   ]
  },
  {
   "cell_type": "markdown",
   "id": "cdc8c516-6dfe-4795-8886-9e37c9bfdc7b",
   "metadata": {},
   "source": [
    "### This is identical to JSON request 7"
   ]
  },
  {
   "cell_type": "code",
   "execution_count": 205,
   "id": "35d450ce-566c-45be-8f73-6aa584bf2f08",
   "metadata": {},
   "outputs": [],
   "source": [
    "url = \"https://services8.arcgis.com/8tX9OH8doNBidChm/arcgis/rest/services/GFC_Shapefiles/FeatureServer/6/query\"\n",
    "\n",
    "params = {\n",
    "    \"where\": \"1=1\",\n",
    "    \"outFields\": \"*\",\n",
    "    \"f\": \"geojson\",\n",
    "    \"outSR\": 4326,\n",
    "    \"returnGeometry\": \"true\"\n",
    "}\n",
    "\n",
    "response = requests.get(url, params=params)\n",
    "response.raise_for_status()\n",
    "\n",
    "geojson_data = response.json()\n",
    "\n",
    "#geojson_data"
   ]
  },
  {
   "cell_type": "code",
   "execution_count": 206,
   "id": "e752e166-fca7-481f-882a-de88095d1739",
   "metadata": {},
   "outputs": [
    {
     "name": "stdout",
     "output_type": "stream",
     "text": [
      "Saved GeoJSON to large_concessions2.geojson\n"
     ]
    }
   ],
   "source": [
    "with open(\"large_concessions2.geojson\", \"w\") as f:\n",
    "    json.dump(geojson_data, f)\n",
    "\n",
    "print(\"Saved GeoJSON to large_concessions2.geojson\")"
   ]
  },
  {
   "cell_type": "code",
   "execution_count": 207,
   "id": "b8eb2ea5-d881-4119-b024-d71b59d1a7f6",
   "metadata": {},
   "outputs": [
    {
     "data": {
      "text/html": [
       "<div>\n",
       "<style scoped>\n",
       "    .dataframe tbody tr th:only-of-type {\n",
       "        vertical-align: middle;\n",
       "    }\n",
       "\n",
       "    .dataframe tbody tr th {\n",
       "        vertical-align: top;\n",
       "    }\n",
       "\n",
       "    .dataframe thead th {\n",
       "        text-align: right;\n",
       "    }\n",
       "</style>\n",
       "<table border=\"1\" class=\"dataframe\">\n",
       "  <thead>\n",
       "    <tr style=\"text-align: right;\">\n",
       "      <th></th>\n",
       "      <th>FID</th>\n",
       "      <th>ID</th>\n",
       "      <th>AREA_METER</th>\n",
       "      <th>PERIMETER_</th>\n",
       "      <th>ACRES</th>\n",
       "      <th>HECTARES</th>\n",
       "      <th>AREA</th>\n",
       "      <th>PERIMETER</th>\n",
       "      <th>Name</th>\n",
       "      <th>ha</th>\n",
       "      <th>ac</th>\n",
       "      <th>Remarks</th>\n",
       "      <th>NO</th>\n",
       "      <th>RES_NAME</th>\n",
       "      <th>MAP_REF</th>\n",
       "      <th>Comments</th>\n",
       "      <th>Shape__Area</th>\n",
       "      <th>Shape__Length</th>\n",
       "      <th>geometry</th>\n",
       "    </tr>\n",
       "  </thead>\n",
       "  <tbody>\n",
       "    <tr>\n",
       "      <th>0</th>\n",
       "      <td>1</td>\n",
       "      <td>0</td>\n",
       "      <td>1.162051e+08</td>\n",
       "      <td>45863.456</td>\n",
       "      <td>20744.164</td>\n",
       "      <td>8394.865</td>\n",
       "      <td>1.162051e+08</td>\n",
       "      <td>45863.456</td>\n",
       "      <td>Moraballi Reserve</td>\n",
       "      <td>9601</td>\n",
       "      <td>23725</td>\n",
       "      <td>Moraballi Reserve amm aug 2020 base on mining ...</td>\n",
       "      <td></td>\n",
       "      <td>Moraballi Forest Reserve</td>\n",
       "      <td></td>\n",
       "      <td></td>\n",
       "      <td>8.550713e+07</td>\n",
       "      <td>76196.408573</td>\n",
       "      <td>POLYGON ((-58.5634 6.19592, -58.52219 6.1961, ...</td>\n",
       "    </tr>\n",
       "    <tr>\n",
       "      <th>1</th>\n",
       "      <td>2</td>\n",
       "      <td>0</td>\n",
       "      <td>0.000000e+00</td>\n",
       "      <td>0.000</td>\n",
       "      <td>1079.575</td>\n",
       "      <td>436.888</td>\n",
       "      <td>0.000000e+00</td>\n",
       "      <td>0.000</td>\n",
       "      <td></td>\n",
       "      <td>0</td>\n",
       "      <td>0</td>\n",
       "      <td>GFC Shape File</td>\n",
       "      <td>8</td>\n",
       "      <td>Long Creek Pine Plantation</td>\n",
       "      <td>28 NW,NE</td>\n",
       "      <td></td>\n",
       "      <td>4.453824e+06</td>\n",
       "      <td>9689.783066</td>\n",
       "      <td>POLYGON ((-58.24207 6.36385, -58.24302 6.36139...</td>\n",
       "    </tr>\n",
       "    <tr>\n",
       "      <th>2</th>\n",
       "      <td>3</td>\n",
       "      <td>0</td>\n",
       "      <td>0.000000e+00</td>\n",
       "      <td>0.000</td>\n",
       "      <td>21.546</td>\n",
       "      <td>8.719</td>\n",
       "      <td>0.000000e+00</td>\n",
       "      <td>0.000</td>\n",
       "      <td></td>\n",
       "      <td>0</td>\n",
       "      <td>0</td>\n",
       "      <td>GFC Shape File</td>\n",
       "      <td>7</td>\n",
       "      <td>Kairuni Pine Plantation</td>\n",
       "      <td>28 SE</td>\n",
       "      <td></td>\n",
       "      <td>8.881964e+04</td>\n",
       "      <td>1232.276032</td>\n",
       "      <td>POLYGON ((-58.24499 6.15572, -58.24536 6.15657...</td>\n",
       "    </tr>\n",
       "    <tr>\n",
       "      <th>3</th>\n",
       "      <td>4</td>\n",
       "      <td>0</td>\n",
       "      <td>0.000000e+00</td>\n",
       "      <td>0.000</td>\n",
       "      <td>29.626</td>\n",
       "      <td>11.989</td>\n",
       "      <td>0.000000e+00</td>\n",
       "      <td>0.000</td>\n",
       "      <td></td>\n",
       "      <td>0</td>\n",
       "      <td>0</td>\n",
       "      <td>GFC Shape File</td>\n",
       "      <td>7</td>\n",
       "      <td>Kairuni Pine Plantation</td>\n",
       "      <td>28 SE</td>\n",
       "      <td></td>\n",
       "      <td>1.221332e+05</td>\n",
       "      <td>1434.213180</td>\n",
       "      <td>POLYGON ((-58.24094 6.16759, -58.24129 6.16952...</td>\n",
       "    </tr>\n",
       "    <tr>\n",
       "      <th>4</th>\n",
       "      <td>5</td>\n",
       "      <td>0</td>\n",
       "      <td>0.000000e+00</td>\n",
       "      <td>0.000</td>\n",
       "      <td>53.476</td>\n",
       "      <td>21.641</td>\n",
       "      <td>0.000000e+00</td>\n",
       "      <td>0.000</td>\n",
       "      <td></td>\n",
       "      <td>0</td>\n",
       "      <td>0</td>\n",
       "      <td>GFC Shape File</td>\n",
       "      <td>12</td>\n",
       "      <td>Yarrowkabra Reserve</td>\n",
       "      <td>28 NE</td>\n",
       "      <td></td>\n",
       "      <td>2.207190e+05</td>\n",
       "      <td>2287.202784</td>\n",
       "      <td>POLYGON ((-58.22651 6.47946, -58.22706 6.47852...</td>\n",
       "    </tr>\n",
       "  </tbody>\n",
       "</table>\n",
       "</div>"
      ],
      "text/plain": [
       "   FID  ID    AREA_METER  PERIMETER_      ACRES  HECTARES          AREA  \\\n",
       "0    1   0  1.162051e+08   45863.456  20744.164  8394.865  1.162051e+08   \n",
       "1    2   0  0.000000e+00       0.000   1079.575   436.888  0.000000e+00   \n",
       "2    3   0  0.000000e+00       0.000     21.546     8.719  0.000000e+00   \n",
       "3    4   0  0.000000e+00       0.000     29.626    11.989  0.000000e+00   \n",
       "4    5   0  0.000000e+00       0.000     53.476    21.641  0.000000e+00   \n",
       "\n",
       "   PERIMETER               Name    ha     ac  \\\n",
       "0  45863.456  Moraballi Reserve  9601  23725   \n",
       "1      0.000                        0      0   \n",
       "2      0.000                        0      0   \n",
       "3      0.000                        0      0   \n",
       "4      0.000                        0      0   \n",
       "\n",
       "                                             Remarks  NO  \\\n",
       "0  Moraballi Reserve amm aug 2020 base on mining ...       \n",
       "1                                     GFC Shape File   8   \n",
       "2                                     GFC Shape File   7   \n",
       "3                                     GFC Shape File   7   \n",
       "4                                     GFC Shape File  12   \n",
       "\n",
       "                     RES_NAME   MAP_REF Comments   Shape__Area  Shape__Length  \\\n",
       "0    Moraballi Forest Reserve                     8.550713e+07   76196.408573   \n",
       "1  Long Creek Pine Plantation  28 NW,NE           4.453824e+06    9689.783066   \n",
       "2     Kairuni Pine Plantation     28 SE           8.881964e+04    1232.276032   \n",
       "3     Kairuni Pine Plantation     28 SE           1.221332e+05    1434.213180   \n",
       "4         Yarrowkabra Reserve     28 NE           2.207190e+05    2287.202784   \n",
       "\n",
       "                                            geometry  \n",
       "0  POLYGON ((-58.5634 6.19592, -58.52219 6.1961, ...  \n",
       "1  POLYGON ((-58.24207 6.36385, -58.24302 6.36139...  \n",
       "2  POLYGON ((-58.24499 6.15572, -58.24536 6.15657...  \n",
       "3  POLYGON ((-58.24094 6.16759, -58.24129 6.16952...  \n",
       "4  POLYGON ((-58.22651 6.47946, -58.22706 6.47852...  "
      ]
     },
     "execution_count": 207,
     "metadata": {},
     "output_type": "execute_result"
    }
   ],
   "source": [
    "lc2 = gpd.read_file(\"large_concessions2.geojson\")\n",
    "\n",
    "lc2.head()"
   ]
  },
  {
   "cell_type": "code",
   "execution_count": 208,
   "id": "9c4e824e-3654-4861-8244-75f1fab2aae0",
   "metadata": {},
   "outputs": [
    {
     "data": {
      "text/html": [
       "<div>\n",
       "<style scoped>\n",
       "    .dataframe tbody tr th:only-of-type {\n",
       "        vertical-align: middle;\n",
       "    }\n",
       "\n",
       "    .dataframe tbody tr th {\n",
       "        vertical-align: top;\n",
       "    }\n",
       "\n",
       "    .dataframe thead th {\n",
       "        text-align: right;\n",
       "    }\n",
       "</style>\n",
       "<table border=\"1\" class=\"dataframe\">\n",
       "  <thead>\n",
       "    <tr style=\"text-align: right;\">\n",
       "      <th></th>\n",
       "      <th>FID</th>\n",
       "      <th>ID</th>\n",
       "      <th>AREA_METER</th>\n",
       "      <th>PERIMETER_</th>\n",
       "      <th>ACRES</th>\n",
       "      <th>HECTARES</th>\n",
       "      <th>AREA</th>\n",
       "      <th>PERIMETER</th>\n",
       "      <th>Name</th>\n",
       "      <th>ha</th>\n",
       "      <th>ac</th>\n",
       "      <th>Remarks</th>\n",
       "      <th>NO</th>\n",
       "      <th>RES_NAME</th>\n",
       "      <th>MAP_REF</th>\n",
       "      <th>Comments</th>\n",
       "      <th>Shape__Area</th>\n",
       "      <th>Shape__Length</th>\n",
       "      <th>geometry</th>\n",
       "    </tr>\n",
       "  </thead>\n",
       "  <tbody>\n",
       "    <tr>\n",
       "      <th>0</th>\n",
       "      <td>1</td>\n",
       "      <td>0</td>\n",
       "      <td>1.162051e+08</td>\n",
       "      <td>45863.456</td>\n",
       "      <td>20744.164</td>\n",
       "      <td>8394.865</td>\n",
       "      <td>1.162051e+08</td>\n",
       "      <td>45863.456</td>\n",
       "      <td>Moraballi Reserve</td>\n",
       "      <td>9601</td>\n",
       "      <td>23725</td>\n",
       "      <td>Moraballi Reserve amm aug 2020 base on mining ...</td>\n",
       "      <td></td>\n",
       "      <td>Moraballi Forest Reserve</td>\n",
       "      <td></td>\n",
       "      <td></td>\n",
       "      <td>8.550713e+07</td>\n",
       "      <td>76196.408573</td>\n",
       "      <td>POLYGON ((-58.5634 6.19592, -58.52219 6.1961, ...</td>\n",
       "    </tr>\n",
       "    <tr>\n",
       "      <th>1</th>\n",
       "      <td>2</td>\n",
       "      <td>0</td>\n",
       "      <td>0.000000e+00</td>\n",
       "      <td>0.000</td>\n",
       "      <td>1079.575</td>\n",
       "      <td>436.888</td>\n",
       "      <td>0.000000e+00</td>\n",
       "      <td>0.000</td>\n",
       "      <td></td>\n",
       "      <td>0</td>\n",
       "      <td>0</td>\n",
       "      <td>GFC Shape File</td>\n",
       "      <td>8</td>\n",
       "      <td>Long Creek Pine Plantation</td>\n",
       "      <td>28 NW,NE</td>\n",
       "      <td></td>\n",
       "      <td>4.453824e+06</td>\n",
       "      <td>9689.783066</td>\n",
       "      <td>POLYGON ((-58.24207 6.36385, -58.24302 6.36139...</td>\n",
       "    </tr>\n",
       "    <tr>\n",
       "      <th>2</th>\n",
       "      <td>3</td>\n",
       "      <td>0</td>\n",
       "      <td>0.000000e+00</td>\n",
       "      <td>0.000</td>\n",
       "      <td>21.546</td>\n",
       "      <td>8.719</td>\n",
       "      <td>0.000000e+00</td>\n",
       "      <td>0.000</td>\n",
       "      <td></td>\n",
       "      <td>0</td>\n",
       "      <td>0</td>\n",
       "      <td>GFC Shape File</td>\n",
       "      <td>7</td>\n",
       "      <td>Kairuni Pine Plantation</td>\n",
       "      <td>28 SE</td>\n",
       "      <td></td>\n",
       "      <td>8.881964e+04</td>\n",
       "      <td>1232.276032</td>\n",
       "      <td>POLYGON ((-58.24499 6.15572, -58.24536 6.15657...</td>\n",
       "    </tr>\n",
       "    <tr>\n",
       "      <th>3</th>\n",
       "      <td>4</td>\n",
       "      <td>0</td>\n",
       "      <td>0.000000e+00</td>\n",
       "      <td>0.000</td>\n",
       "      <td>29.626</td>\n",
       "      <td>11.989</td>\n",
       "      <td>0.000000e+00</td>\n",
       "      <td>0.000</td>\n",
       "      <td></td>\n",
       "      <td>0</td>\n",
       "      <td>0</td>\n",
       "      <td>GFC Shape File</td>\n",
       "      <td>7</td>\n",
       "      <td>Kairuni Pine Plantation</td>\n",
       "      <td>28 SE</td>\n",
       "      <td></td>\n",
       "      <td>1.221332e+05</td>\n",
       "      <td>1434.213180</td>\n",
       "      <td>POLYGON ((-58.24094 6.16759, -58.24129 6.16952...</td>\n",
       "    </tr>\n",
       "    <tr>\n",
       "      <th>4</th>\n",
       "      <td>5</td>\n",
       "      <td>0</td>\n",
       "      <td>0.000000e+00</td>\n",
       "      <td>0.000</td>\n",
       "      <td>53.476</td>\n",
       "      <td>21.641</td>\n",
       "      <td>0.000000e+00</td>\n",
       "      <td>0.000</td>\n",
       "      <td></td>\n",
       "      <td>0</td>\n",
       "      <td>0</td>\n",
       "      <td>GFC Shape File</td>\n",
       "      <td>12</td>\n",
       "      <td>Yarrowkabra Reserve</td>\n",
       "      <td>28 NE</td>\n",
       "      <td></td>\n",
       "      <td>2.207190e+05</td>\n",
       "      <td>2287.202784</td>\n",
       "      <td>POLYGON ((-58.22651 6.47946, -58.22706 6.47852...</td>\n",
       "    </tr>\n",
       "    <tr>\n",
       "      <th>5</th>\n",
       "      <td>6</td>\n",
       "      <td>0</td>\n",
       "      <td>0.000000e+00</td>\n",
       "      <td>0.000</td>\n",
       "      <td>10.613</td>\n",
       "      <td>4.295</td>\n",
       "      <td>0.000000e+00</td>\n",
       "      <td>0.000</td>\n",
       "      <td></td>\n",
       "      <td>0</td>\n",
       "      <td>0</td>\n",
       "      <td>GFC Shape File</td>\n",
       "      <td>5</td>\n",
       "      <td>Ebini Pine Plantation</td>\n",
       "      <td>38 SW</td>\n",
       "      <td></td>\n",
       "      <td>4.367483e+04</td>\n",
       "      <td>2389.308004</td>\n",
       "      <td>POLYGON ((-57.77895 5.58494, -57.7787 5.58493,...</td>\n",
       "    </tr>\n",
       "    <tr>\n",
       "      <th>6</th>\n",
       "      <td>7</td>\n",
       "      <td>0</td>\n",
       "      <td>0.000000e+00</td>\n",
       "      <td>0.000</td>\n",
       "      <td>36.632</td>\n",
       "      <td>14.825</td>\n",
       "      <td>0.000000e+00</td>\n",
       "      <td>0.000</td>\n",
       "      <td></td>\n",
       "      <td>0</td>\n",
       "      <td>0</td>\n",
       "      <td>GFC Shape File</td>\n",
       "      <td>5</td>\n",
       "      <td>Ebini Pine Plantation</td>\n",
       "      <td>38 SW</td>\n",
       "      <td></td>\n",
       "      <td>1.507292e+05</td>\n",
       "      <td>1592.799717</td>\n",
       "      <td>POLYGON ((-57.78269 5.55053, -57.78277 5.55242...</td>\n",
       "    </tr>\n",
       "    <tr>\n",
       "      <th>7</th>\n",
       "      <td>8</td>\n",
       "      <td>0</td>\n",
       "      <td>0.000000e+00</td>\n",
       "      <td>0.000</td>\n",
       "      <td>21.082</td>\n",
       "      <td>8.532</td>\n",
       "      <td>0.000000e+00</td>\n",
       "      <td>0.000</td>\n",
       "      <td></td>\n",
       "      <td>0</td>\n",
       "      <td>0</td>\n",
       "      <td>GFC Shape File</td>\n",
       "      <td>5</td>\n",
       "      <td>Ebini Pine Plantation</td>\n",
       "      <td>38 SW</td>\n",
       "      <td></td>\n",
       "      <td>8.674498e+04</td>\n",
       "      <td>1316.247176</td>\n",
       "      <td>POLYGON ((-57.77902 5.54846, -57.77712 5.54924...</td>\n",
       "    </tr>\n",
       "    <tr>\n",
       "      <th>8</th>\n",
       "      <td>9</td>\n",
       "      <td>0</td>\n",
       "      <td>0.000000e+00</td>\n",
       "      <td>0.000</td>\n",
       "      <td>3522.472</td>\n",
       "      <td>1425.494</td>\n",
       "      <td>0.000000e+00</td>\n",
       "      <td>0.000</td>\n",
       "      <td></td>\n",
       "      <td>0</td>\n",
       "      <td>0</td>\n",
       "      <td>GFC Shape File</td>\n",
       "      <td>4</td>\n",
       "      <td>Chikabaru Forest Reserve</td>\n",
       "      <td>37 NE,SE</td>\n",
       "      <td></td>\n",
       "      <td>1.450020e+07</td>\n",
       "      <td>19385.865885</td>\n",
       "      <td>POLYGON ((-58.1904 5.77522, -58.16932 5.77645,...</td>\n",
       "    </tr>\n",
       "    <tr>\n",
       "      <th>9</th>\n",
       "      <td>10</td>\n",
       "      <td>0</td>\n",
       "      <td>0.000000e+00</td>\n",
       "      <td>0.000</td>\n",
       "      <td>36.286</td>\n",
       "      <td>14.684</td>\n",
       "      <td>0.000000e+00</td>\n",
       "      <td>0.000</td>\n",
       "      <td></td>\n",
       "      <td>0</td>\n",
       "      <td>0</td>\n",
       "      <td>GFC Shape File</td>\n",
       "      <td>3</td>\n",
       "      <td>Bartica Arboretum</td>\n",
       "      <td>27 NE</td>\n",
       "      <td></td>\n",
       "      <td>1.496592e+05</td>\n",
       "      <td>1593.337461</td>\n",
       "      <td>POLYGON ((-58.63837 6.38981, -58.63719 6.38986...</td>\n",
       "    </tr>\n",
       "    <tr>\n",
       "      <th>10</th>\n",
       "      <td>11</td>\n",
       "      <td>0</td>\n",
       "      <td>0.000000e+00</td>\n",
       "      <td>0.000</td>\n",
       "      <td>442.534</td>\n",
       "      <td>179.087</td>\n",
       "      <td>0.000000e+00</td>\n",
       "      <td>0.000</td>\n",
       "      <td></td>\n",
       "      <td>0</td>\n",
       "      <td>0</td>\n",
       "      <td>GFC Shape File</td>\n",
       "      <td>2</td>\n",
       "      <td>5 to 7 mls Reserve</td>\n",
       "      <td>27 NE</td>\n",
       "      <td>Amended September 17,2018</td>\n",
       "      <td>1.824925e+06</td>\n",
       "      <td>5864.860967</td>\n",
       "      <td>POLYGON ((-58.64666 6.35556, -58.6466 6.35544,...</td>\n",
       "    </tr>\n",
       "    <tr>\n",
       "      <th>11</th>\n",
       "      <td>12</td>\n",
       "      <td>0</td>\n",
       "      <td>0.000000e+00</td>\n",
       "      <td>0.000</td>\n",
       "      <td>1164.448</td>\n",
       "      <td>471.235</td>\n",
       "      <td>0.000000e+00</td>\n",
       "      <td>0.000</td>\n",
       "      <td></td>\n",
       "      <td>0</td>\n",
       "      <td>0</td>\n",
       "      <td>GFC Shape File</td>\n",
       "      <td>1</td>\n",
       "      <td>24 mls Bartica Reserve</td>\n",
       "      <td>27 SE</td>\n",
       "      <td></td>\n",
       "      <td>4.798185e+06</td>\n",
       "      <td>8910.494352</td>\n",
       "      <td>POLYGON ((-58.67899 6.1622, -58.67896 6.16213,...</td>\n",
       "    </tr>\n",
       "    <tr>\n",
       "      <th>12</th>\n",
       "      <td>13</td>\n",
       "      <td>0</td>\n",
       "      <td>0.000000e+00</td>\n",
       "      <td>0.000</td>\n",
       "      <td>315.125</td>\n",
       "      <td>127.526</td>\n",
       "      <td>0.000000e+00</td>\n",
       "      <td>0.000</td>\n",
       "      <td></td>\n",
       "      <td>0</td>\n",
       "      <td>0</td>\n",
       "      <td>GFC Shape File</td>\n",
       "      <td>6</td>\n",
       "      <td>GFC-Butukari Forest Reserve</td>\n",
       "      <td>36 NE, SE</td>\n",
       "      <td>Created October, 2014</td>\n",
       "      <td>1.296569e+06</td>\n",
       "      <td>4456.272129</td>\n",
       "      <td>POLYGON ((-58.68571 5.7407, -58.68576 5.7417, ...</td>\n",
       "    </tr>\n",
       "    <tr>\n",
       "      <th>13</th>\n",
       "      <td>14</td>\n",
       "      <td>0</td>\n",
       "      <td>0.000000e+00</td>\n",
       "      <td>0.000</td>\n",
       "      <td>5844.812</td>\n",
       "      <td>2365.312</td>\n",
       "      <td>0.000000e+00</td>\n",
       "      <td>0.000</td>\n",
       "      <td></td>\n",
       "      <td>0</td>\n",
       "      <td>0</td>\n",
       "      <td>GFC Shapefile</td>\n",
       "      <td>9</td>\n",
       "      <td>Mabura Hill Reserve</td>\n",
       "      <td>44 SE</td>\n",
       "      <td></td>\n",
       "      <td>2.400279e+07</td>\n",
       "      <td>20132.453275</td>\n",
       "      <td>POLYGON ((-58.71719 5.15147, -58.71835 5.15491...</td>\n",
       "    </tr>\n",
       "    <tr>\n",
       "      <th>14</th>\n",
       "      <td>15</td>\n",
       "      <td>0</td>\n",
       "      <td>0.000000e+00</td>\n",
       "      <td>0.000</td>\n",
       "      <td>2493.567</td>\n",
       "      <td>1009.111</td>\n",
       "      <td>0.000000e+00</td>\n",
       "      <td>0.000</td>\n",
       "      <td></td>\n",
       "      <td>0</td>\n",
       "      <td>0</td>\n",
       "      <td>GFC Shapefile</td>\n",
       "      <td>11</td>\n",
       "      <td>Pibiri Forest Reserve</td>\n",
       "      <td>44SE,51NE</td>\n",
       "      <td>Amended September 17,2018</td>\n",
       "      <td>1.023656e+07</td>\n",
       "      <td>14031.919238</td>\n",
       "      <td>POLYGON ((-58.59968 5.03521, -58.59961 5.03201...</td>\n",
       "    </tr>\n",
       "  </tbody>\n",
       "</table>\n",
       "</div>"
      ],
      "text/plain": [
       "    FID  ID    AREA_METER  PERIMETER_      ACRES  HECTARES          AREA  \\\n",
       "0     1   0  1.162051e+08   45863.456  20744.164  8394.865  1.162051e+08   \n",
       "1     2   0  0.000000e+00       0.000   1079.575   436.888  0.000000e+00   \n",
       "2     3   0  0.000000e+00       0.000     21.546     8.719  0.000000e+00   \n",
       "3     4   0  0.000000e+00       0.000     29.626    11.989  0.000000e+00   \n",
       "4     5   0  0.000000e+00       0.000     53.476    21.641  0.000000e+00   \n",
       "5     6   0  0.000000e+00       0.000     10.613     4.295  0.000000e+00   \n",
       "6     7   0  0.000000e+00       0.000     36.632    14.825  0.000000e+00   \n",
       "7     8   0  0.000000e+00       0.000     21.082     8.532  0.000000e+00   \n",
       "8     9   0  0.000000e+00       0.000   3522.472  1425.494  0.000000e+00   \n",
       "9    10   0  0.000000e+00       0.000     36.286    14.684  0.000000e+00   \n",
       "10   11   0  0.000000e+00       0.000    442.534   179.087  0.000000e+00   \n",
       "11   12   0  0.000000e+00       0.000   1164.448   471.235  0.000000e+00   \n",
       "12   13   0  0.000000e+00       0.000    315.125   127.526  0.000000e+00   \n",
       "13   14   0  0.000000e+00       0.000   5844.812  2365.312  0.000000e+00   \n",
       "14   15   0  0.000000e+00       0.000   2493.567  1009.111  0.000000e+00   \n",
       "\n",
       "    PERIMETER               Name    ha     ac  \\\n",
       "0   45863.456  Moraballi Reserve  9601  23725   \n",
       "1       0.000                        0      0   \n",
       "2       0.000                        0      0   \n",
       "3       0.000                        0      0   \n",
       "4       0.000                        0      0   \n",
       "5       0.000                        0      0   \n",
       "6       0.000                        0      0   \n",
       "7       0.000                        0      0   \n",
       "8       0.000                        0      0   \n",
       "9       0.000                        0      0   \n",
       "10      0.000                        0      0   \n",
       "11      0.000                        0      0   \n",
       "12      0.000                        0      0   \n",
       "13      0.000                        0      0   \n",
       "14      0.000                        0      0   \n",
       "\n",
       "                                              Remarks  NO  \\\n",
       "0   Moraballi Reserve amm aug 2020 base on mining ...       \n",
       "1                                      GFC Shape File   8   \n",
       "2                                      GFC Shape File   7   \n",
       "3                                      GFC Shape File   7   \n",
       "4                                      GFC Shape File  12   \n",
       "5                                      GFC Shape File   5   \n",
       "6                                      GFC Shape File   5   \n",
       "7                                      GFC Shape File   5   \n",
       "8                                      GFC Shape File   4   \n",
       "9                                      GFC Shape File   3   \n",
       "10                                     GFC Shape File   2   \n",
       "11                                     GFC Shape File   1   \n",
       "12                                     GFC Shape File   6   \n",
       "13                                      GFC Shapefile   9   \n",
       "14                                      GFC Shapefile  11   \n",
       "\n",
       "                       RES_NAME    MAP_REF                   Comments  \\\n",
       "0      Moraballi Forest Reserve                                         \n",
       "1    Long Creek Pine Plantation   28 NW,NE                              \n",
       "2       Kairuni Pine Plantation      28 SE                              \n",
       "3       Kairuni Pine Plantation      28 SE                              \n",
       "4           Yarrowkabra Reserve      28 NE                              \n",
       "5         Ebini Pine Plantation      38 SW                              \n",
       "6         Ebini Pine Plantation      38 SW                              \n",
       "7         Ebini Pine Plantation      38 SW                              \n",
       "8      Chikabaru Forest Reserve   37 NE,SE                              \n",
       "9             Bartica Arboretum      27 NE                              \n",
       "10           5 to 7 mls Reserve      27 NE  Amended September 17,2018   \n",
       "11       24 mls Bartica Reserve      27 SE                              \n",
       "12  GFC-Butukari Forest Reserve  36 NE, SE      Created October, 2014   \n",
       "13          Mabura Hill Reserve      44 SE                              \n",
       "14        Pibiri Forest Reserve  44SE,51NE  Amended September 17,2018   \n",
       "\n",
       "     Shape__Area  Shape__Length  \\\n",
       "0   8.550713e+07   76196.408573   \n",
       "1   4.453824e+06    9689.783066   \n",
       "2   8.881964e+04    1232.276032   \n",
       "3   1.221332e+05    1434.213180   \n",
       "4   2.207190e+05    2287.202784   \n",
       "5   4.367483e+04    2389.308004   \n",
       "6   1.507292e+05    1592.799717   \n",
       "7   8.674498e+04    1316.247176   \n",
       "8   1.450020e+07   19385.865885   \n",
       "9   1.496592e+05    1593.337461   \n",
       "10  1.824925e+06    5864.860967   \n",
       "11  4.798185e+06    8910.494352   \n",
       "12  1.296569e+06    4456.272129   \n",
       "13  2.400279e+07   20132.453275   \n",
       "14  1.023656e+07   14031.919238   \n",
       "\n",
       "                                             geometry  \n",
       "0   POLYGON ((-58.5634 6.19592, -58.52219 6.1961, ...  \n",
       "1   POLYGON ((-58.24207 6.36385, -58.24302 6.36139...  \n",
       "2   POLYGON ((-58.24499 6.15572, -58.24536 6.15657...  \n",
       "3   POLYGON ((-58.24094 6.16759, -58.24129 6.16952...  \n",
       "4   POLYGON ((-58.22651 6.47946, -58.22706 6.47852...  \n",
       "5   POLYGON ((-57.77895 5.58494, -57.7787 5.58493,...  \n",
       "6   POLYGON ((-57.78269 5.55053, -57.78277 5.55242...  \n",
       "7   POLYGON ((-57.77902 5.54846, -57.77712 5.54924...  \n",
       "8   POLYGON ((-58.1904 5.77522, -58.16932 5.77645,...  \n",
       "9   POLYGON ((-58.63837 6.38981, -58.63719 6.38986...  \n",
       "10  POLYGON ((-58.64666 6.35556, -58.6466 6.35544,...  \n",
       "11  POLYGON ((-58.67899 6.1622, -58.67896 6.16213,...  \n",
       "12  POLYGON ((-58.68571 5.7407, -58.68576 5.7417, ...  \n",
       "13  POLYGON ((-58.71719 5.15147, -58.71835 5.15491...  \n",
       "14  POLYGON ((-58.59968 5.03521, -58.59961 5.03201...  "
      ]
     },
     "execution_count": 208,
     "metadata": {},
     "output_type": "execute_result"
    }
   ],
   "source": [
    "lc2.head(15)"
   ]
  },
  {
   "cell_type": "code",
   "execution_count": 209,
   "id": "0eab6103-da23-4d89-a568-df139aa8c0f9",
   "metadata": {},
   "outputs": [
    {
     "data": {
      "text/plain": [
       "(15, 19)"
      ]
     },
     "execution_count": 209,
     "metadata": {},
     "output_type": "execute_result"
    }
   ],
   "source": [
    "lc2.shape"
   ]
  },
  {
   "cell_type": "markdown",
   "id": "e486fa80-ad71-47e1-816a-b755f2061751",
   "metadata": {},
   "source": [
    "## Scraping JSON request 5: Essequibo Concessions"
   ]
  },
  {
   "cell_type": "code",
   "execution_count": 210,
   "id": "26de023a-634f-46dc-a0f3-0048a9c6f667",
   "metadata": {},
   "outputs": [],
   "source": [
    "url = \"https://services8.arcgis.com/8tX9OH8doNBidChm/arcgis/rest/services/GFC_Shapefiles/FeatureServer/5?f=json\""
   ]
  },
  {
   "cell_type": "code",
   "execution_count": 211,
   "id": "2e67e977-f6da-4f01-85b9-7bc5c159bd90",
   "metadata": {},
   "outputs": [
    {
     "data": {
      "text/plain": [
       "<Response [200]>"
      ]
     },
     "execution_count": 211,
     "metadata": {},
     "output_type": "execute_result"
    }
   ],
   "source": [
    "response = requests.get(url)\n",
    "response"
   ]
  },
  {
   "cell_type": "code",
   "execution_count": 212,
   "id": "2afe22c7-9b5a-4f58-a47d-6d2749d2419c",
   "metadata": {},
   "outputs": [],
   "source": [
    "data5 = response.json() \n",
    "#data5"
   ]
  },
  {
   "cell_type": "code",
   "execution_count": 213,
   "id": "74e48207-0134-41b6-9a6c-353d284cc635",
   "metadata": {},
   "outputs": [],
   "source": [
    "url = \"https://services8.arcgis.com/8tX9OH8doNBidChm/arcgis/rest/services/GFC_Shapefiles/FeatureServer/5/query\"\n",
    "\n",
    "params = {\n",
    "    \"where\": \"1=1\",\n",
    "    \"outFields\": \"*\",\n",
    "    \"f\": \"geojson\",\n",
    "    \"outSR\": 4326,\n",
    "    \"returnGeometry\": \"true\"\n",
    "}\n",
    "\n",
    "response = requests.get(url, params=params)\n",
    "response.raise_for_status()\n",
    "\n",
    "geojson_data = response.json()\n",
    "\n",
    "#geojson_data"
   ]
  },
  {
   "cell_type": "code",
   "execution_count": 214,
   "id": "987c3215-5490-4a03-8b55-ac8433ecc772",
   "metadata": {},
   "outputs": [
    {
     "name": "stdout",
     "output_type": "stream",
     "text": [
      "Saved GeoJSON to essequibo_concessions.geojson\n"
     ]
    }
   ],
   "source": [
    "with open(\"essequibo_concessions.geojson\", \"w\") as f:\n",
    "    json.dump(geojson_data, f)\n",
    "\n",
    "print(\"Saved GeoJSON to essequibo_concessions.geojson\")"
   ]
  },
  {
   "cell_type": "code",
   "execution_count": 215,
   "id": "192c3676-0fa9-4f01-9624-374d45f8f881",
   "metadata": {},
   "outputs": [
    {
     "data": {
      "text/html": [
       "<div>\n",
       "<style scoped>\n",
       "    .dataframe tbody tr th:only-of-type {\n",
       "        vertical-align: middle;\n",
       "    }\n",
       "\n",
       "    .dataframe tbody tr th {\n",
       "        vertical-align: top;\n",
       "    }\n",
       "\n",
       "    .dataframe thead th {\n",
       "        text-align: right;\n",
       "    }\n",
       "</style>\n",
       "<table border=\"1\" class=\"dataframe\">\n",
       "  <thead>\n",
       "    <tr style=\"text-align: right;\">\n",
       "      <th></th>\n",
       "      <th>FID</th>\n",
       "      <th>OWNER</th>\n",
       "      <th>FOLIO__NO</th>\n",
       "      <th>SHORT_DESC</th>\n",
       "      <th>Shape__Area</th>\n",
       "      <th>Shape__Length</th>\n",
       "      <th>geometry</th>\n",
       "    </tr>\n",
       "  </thead>\n",
       "  <tbody>\n",
       "    <tr>\n",
       "      <th>0</th>\n",
       "      <td>1</td>\n",
       "      <td>Leo Ramotar</td>\n",
       "      <td>Ess 26/89</td>\n",
       "      <td>RB.Supenaam River,LB.Aratak River, RB. Yariyar...</td>\n",
       "      <td>4.105571e+07</td>\n",
       "      <td>32368.139299</td>\n",
       "      <td>POLYGON ((-58.65784 6.91141, -58.65763 6.91155...</td>\n",
       "    </tr>\n",
       "    <tr>\n",
       "      <th>1</th>\n",
       "      <td>2</td>\n",
       "      <td>Caria-caria FPA</td>\n",
       "      <td>Ess 07/05</td>\n",
       "      <td>RB&amp;LB Akakarakuru; LB Ess R; LB Kuruduni R;</td>\n",
       "      <td>1.929604e+07</td>\n",
       "      <td>20709.152809</td>\n",
       "      <td>POLYGON ((-58.60147 6.88512, -58.60049 6.88447...</td>\n",
       "    </tr>\n",
       "    <tr>\n",
       "      <th>2</th>\n",
       "      <td>3</td>\n",
       "      <td>Merril Flemming</td>\n",
       "      <td>Ess 14/05</td>\n",
       "      <td>RB Struggle Ck; RB Konawaruk R:</td>\n",
       "      <td>1.954162e+07</td>\n",
       "      <td>22418.886773</td>\n",
       "      <td>POLYGON ((-59.16151 5.08484, -59.16073 5.08572...</td>\n",
       "    </tr>\n",
       "    <tr>\n",
       "      <th>3</th>\n",
       "      <td>4</td>\n",
       "      <td>Aurora SLA</td>\n",
       "      <td>Ess 05/03</td>\n",
       "      <td>RB Aripiako Ck; LB Komira Ck;</td>\n",
       "      <td>2.368278e+07</td>\n",
       "      <td>19889.201288</td>\n",
       "      <td>POLYGON ((-58.74844 6.99864, -58.74862 6.99824...</td>\n",
       "    </tr>\n",
       "    <tr>\n",
       "      <th>4</th>\n",
       "      <td>5</td>\n",
       "      <td>Roopan Ramotar</td>\n",
       "      <td>Ess 13/04</td>\n",
       "      <td>LB Supenaam Riv; LB Pakasaru Riv; RB Yesekabre...</td>\n",
       "      <td>8.015892e+07</td>\n",
       "      <td>50831.330041</td>\n",
       "      <td>POLYGON ((-58.80857 6.94625, -58.80843 6.9471,...</td>\n",
       "    </tr>\n",
       "  </tbody>\n",
       "</table>\n",
       "</div>"
      ],
      "text/plain": [
       "   FID            OWNER  FOLIO__NO  \\\n",
       "0    1      Leo Ramotar  Ess 26/89   \n",
       "1    2  Caria-caria FPA  Ess 07/05   \n",
       "2    3  Merril Flemming  Ess 14/05   \n",
       "3    4       Aurora SLA  Ess 05/03   \n",
       "4    5   Roopan Ramotar  Ess 13/04   \n",
       "\n",
       "                                          SHORT_DESC   Shape__Area  \\\n",
       "0  RB.Supenaam River,LB.Aratak River, RB. Yariyar...  4.105571e+07   \n",
       "1        RB&LB Akakarakuru; LB Ess R; LB Kuruduni R;  1.929604e+07   \n",
       "2                    RB Struggle Ck; RB Konawaruk R:  1.954162e+07   \n",
       "3                      RB Aripiako Ck; LB Komira Ck;  2.368278e+07   \n",
       "4  LB Supenaam Riv; LB Pakasaru Riv; RB Yesekabre...  8.015892e+07   \n",
       "\n",
       "   Shape__Length                                           geometry  \n",
       "0   32368.139299  POLYGON ((-58.65784 6.91141, -58.65763 6.91155...  \n",
       "1   20709.152809  POLYGON ((-58.60147 6.88512, -58.60049 6.88447...  \n",
       "2   22418.886773  POLYGON ((-59.16151 5.08484, -59.16073 5.08572...  \n",
       "3   19889.201288  POLYGON ((-58.74844 6.99864, -58.74862 6.99824...  \n",
       "4   50831.330041  POLYGON ((-58.80857 6.94625, -58.80843 6.9471,...  "
      ]
     },
     "execution_count": 215,
     "metadata": {},
     "output_type": "execute_result"
    }
   ],
   "source": [
    "ec = gpd.read_file(\"essequibo_concessions.geojson\")\n",
    "\n",
    "ec.head()"
   ]
  },
  {
   "cell_type": "code",
   "execution_count": 216,
   "id": "588cbaf7-17fa-4408-82f5-6abd10495f02",
   "metadata": {},
   "outputs": [
    {
     "data": {
      "text/plain": [
       "(222, 7)"
      ]
     },
     "execution_count": 216,
     "metadata": {},
     "output_type": "execute_result"
    }
   ],
   "source": [
    "ec.shape"
   ]
  },
  {
   "cell_type": "markdown",
   "id": "811e04fd-d873-4b1c-b3d8-a02b1d91f8c1",
   "metadata": {},
   "source": [
    "## Scraping JSON request 4: Demerara Concessions"
   ]
  },
  {
   "cell_type": "code",
   "execution_count": 217,
   "id": "2ebf950a-521a-405d-92f4-bc616780c015",
   "metadata": {},
   "outputs": [],
   "source": [
    "url = \"https://services8.arcgis.com/8tX9OH8doNBidChm/arcgis/rest/services/GFC_Shapefiles/FeatureServer/4?f=json\""
   ]
  },
  {
   "cell_type": "code",
   "execution_count": 218,
   "id": "15b81cdb-b17f-44bf-9bcb-a7753ac7bd40",
   "metadata": {},
   "outputs": [
    {
     "data": {
      "text/plain": [
       "<Response [200]>"
      ]
     },
     "execution_count": 218,
     "metadata": {},
     "output_type": "execute_result"
    }
   ],
   "source": [
    "response = requests.get(url)\n",
    "response"
   ]
  },
  {
   "cell_type": "code",
   "execution_count": 219,
   "id": "26aa16bf-85b6-4a76-9643-3b05c6cf27a5",
   "metadata": {},
   "outputs": [],
   "source": [
    "data6 = response.json() \n",
    "#data6"
   ]
  },
  {
   "cell_type": "code",
   "execution_count": 220,
   "id": "5cb4efb1-5029-47c3-aa2f-04505e1aaaee",
   "metadata": {},
   "outputs": [],
   "source": [
    "url = \"https://services8.arcgis.com/8tX9OH8doNBidChm/arcgis/rest/services/GFC_Shapefiles/FeatureServer/4/query\"\n",
    "\n",
    "params = {\n",
    "    \"where\": \"1=1\",\n",
    "    \"outFields\": \"*\",\n",
    "    \"f\": \"geojson\",\n",
    "    \"outSR\": 4326,\n",
    "    \"returnGeometry\": \"true\"\n",
    "}\n",
    "\n",
    "response = requests.get(url, params=params)\n",
    "response.raise_for_status()\n",
    "\n",
    "geojson_data = response.json()\n",
    "\n",
    "#geojson_data"
   ]
  },
  {
   "cell_type": "code",
   "execution_count": 221,
   "id": "0f19c669-e798-4814-8ed5-b8742ee5d2f2",
   "metadata": {},
   "outputs": [
    {
     "name": "stdout",
     "output_type": "stream",
     "text": [
      "Saved GeoJSON to demerara_concessions.geojson\n"
     ]
    }
   ],
   "source": [
    "with open(\"demerara_concessions.geojson\", \"w\") as f:\n",
    "    json.dump(geojson_data, f)\n",
    "\n",
    "print(\"Saved GeoJSON to demerara_concessions.geojson\")"
   ]
  },
  {
   "cell_type": "code",
   "execution_count": 222,
   "id": "4810a864-b0dc-4a2f-bf98-6b2f6f292162",
   "metadata": {},
   "outputs": [
    {
     "data": {
      "text/html": [
       "<div>\n",
       "<style scoped>\n",
       "    .dataframe tbody tr th:only-of-type {\n",
       "        vertical-align: middle;\n",
       "    }\n",
       "\n",
       "    .dataframe tbody tr th {\n",
       "        vertical-align: top;\n",
       "    }\n",
       "\n",
       "    .dataframe thead th {\n",
       "        text-align: right;\n",
       "    }\n",
       "</style>\n",
       "<table border=\"1\" class=\"dataframe\">\n",
       "  <thead>\n",
       "    <tr style=\"text-align: right;\">\n",
       "      <th></th>\n",
       "      <th>FID</th>\n",
       "      <th>OWNER</th>\n",
       "      <th>FOLIO_NO_</th>\n",
       "      <th>SHORT_DESC</th>\n",
       "      <th>Shape__Area</th>\n",
       "      <th>Shape__Length</th>\n",
       "      <th>geometry</th>\n",
       "    </tr>\n",
       "  </thead>\n",
       "  <tbody>\n",
       "    <tr>\n",
       "      <th>0</th>\n",
       "      <td>1</td>\n",
       "      <td>Bhagwandin Forestry Products</td>\n",
       "      <td>Dem 05/21</td>\n",
       "      <td>Left Bank Hubabu Creek</td>\n",
       "      <td>1.449123e+07</td>\n",
       "      <td>19210.228668</td>\n",
       "      <td>POLYGON ((-58.31398 6.72161, -58.31378 6.72151...</td>\n",
       "    </tr>\n",
       "    <tr>\n",
       "      <th>1</th>\n",
       "      <td>2</td>\n",
       "      <td>Cleopatra Famey</td>\n",
       "      <td>Dem 01/04</td>\n",
       "      <td>Left bank Essequibo River:</td>\n",
       "      <td>1.921002e+07</td>\n",
       "      <td>20001.742435</td>\n",
       "      <td>POLYGON ((-58.55675 5.80014, -58.55619 5.7999,...</td>\n",
       "    </tr>\n",
       "    <tr>\n",
       "      <th>2</th>\n",
       "      <td>3</td>\n",
       "      <td>Linear Woods</td>\n",
       "      <td>Dem 111/90</td>\n",
       "      <td>R B Demer R, L B White Ck</td>\n",
       "      <td>6.857017e+07</td>\n",
       "      <td>50012.827801</td>\n",
       "      <td>POLYGON ((-58.52746 5.39603, -58.52718 5.39596...</td>\n",
       "    </tr>\n",
       "    <tr>\n",
       "      <th>3</th>\n",
       "      <td>4</td>\n",
       "      <td>Ramesh Singh Timbers</td>\n",
       "      <td>Dem 03/22</td>\n",
       "      <td>L B Demer R, L B Kushekabra Ck, R B Sibaruni Ck</td>\n",
       "      <td>4.455336e+07</td>\n",
       "      <td>38299.259111</td>\n",
       "      <td>POLYGON ((-58.42766 5.48861, -58.42734 5.48837...</td>\n",
       "    </tr>\n",
       "    <tr>\n",
       "      <th>4</th>\n",
       "      <td>5</td>\n",
       "      <td>Anil Manikchand</td>\n",
       "      <td>Dem 09/02</td>\n",
       "      <td>L B Abary R, L B Taurakulli R</td>\n",
       "      <td>5.676310e+07</td>\n",
       "      <td>44464.338920</td>\n",
       "      <td>POLYGON ((-57.84624 6.00311, -57.82849 5.99573...</td>\n",
       "    </tr>\n",
       "  </tbody>\n",
       "</table>\n",
       "</div>"
      ],
      "text/plain": [
       "   FID                         OWNER   FOLIO_NO_  \\\n",
       "0    1  Bhagwandin Forestry Products   Dem 05/21   \n",
       "1    2               Cleopatra Famey   Dem 01/04   \n",
       "2    3                  Linear Woods  Dem 111/90   \n",
       "3    4          Ramesh Singh Timbers   Dem 03/22   \n",
       "4    5               Anil Manikchand   Dem 09/02   \n",
       "\n",
       "                                        SHORT_DESC   Shape__Area  \\\n",
       "0                           Left Bank Hubabu Creek  1.449123e+07   \n",
       "1                       Left bank Essequibo River:  1.921002e+07   \n",
       "2                        R B Demer R, L B White Ck  6.857017e+07   \n",
       "3  L B Demer R, L B Kushekabra Ck, R B Sibaruni Ck  4.455336e+07   \n",
       "4                    L B Abary R, L B Taurakulli R  5.676310e+07   \n",
       "\n",
       "   Shape__Length                                           geometry  \n",
       "0   19210.228668  POLYGON ((-58.31398 6.72161, -58.31378 6.72151...  \n",
       "1   20001.742435  POLYGON ((-58.55675 5.80014, -58.55619 5.7999,...  \n",
       "2   50012.827801  POLYGON ((-58.52746 5.39603, -58.52718 5.39596...  \n",
       "3   38299.259111  POLYGON ((-58.42766 5.48861, -58.42734 5.48837...  \n",
       "4   44464.338920  POLYGON ((-57.84624 6.00311, -57.82849 5.99573...  "
      ]
     },
     "execution_count": 222,
     "metadata": {},
     "output_type": "execute_result"
    }
   ],
   "source": [
    "dc = gpd.read_file(\"demerara_concessions.geojson\")\n",
    "\n",
    "dc.head()"
   ]
  },
  {
   "cell_type": "code",
   "execution_count": 223,
   "id": "79fac620-3fa4-4273-aeb9-45661de96562",
   "metadata": {},
   "outputs": [
    {
     "data": {
      "text/plain": [
       "(166, 7)"
      ]
     },
     "execution_count": 223,
     "metadata": {},
     "output_type": "execute_result"
    }
   ],
   "source": [
    "dc.shape"
   ]
  },
  {
   "cell_type": "markdown",
   "id": "bea1b213-c33f-40d3-bca6-4b9c46e7627a",
   "metadata": {},
   "source": [
    "## Scraping JSON request 3: Berbice Concessions"
   ]
  },
  {
   "cell_type": "code",
   "execution_count": 224,
   "id": "01069d54-eee1-4619-9237-ea1e041a0a74",
   "metadata": {},
   "outputs": [],
   "source": [
    "url = \"https://services8.arcgis.com/8tX9OH8doNBidChm/arcgis/rest/services/GFC_Shapefiles/FeatureServer/3?f=json\""
   ]
  },
  {
   "cell_type": "code",
   "execution_count": 225,
   "id": "562b4428-bf49-4a92-9998-26f92431f7b6",
   "metadata": {},
   "outputs": [
    {
     "data": {
      "text/plain": [
       "<Response [200]>"
      ]
     },
     "execution_count": 225,
     "metadata": {},
     "output_type": "execute_result"
    }
   ],
   "source": [
    "response = requests.get(url)\n",
    "response"
   ]
  },
  {
   "cell_type": "code",
   "execution_count": 226,
   "id": "a031f6b2-e504-4b6b-a292-e1bf9fc68751",
   "metadata": {},
   "outputs": [],
   "source": [
    "data7 = response.json() \n",
    "#data7"
   ]
  },
  {
   "cell_type": "code",
   "execution_count": 227,
   "id": "506ea040-4d74-461b-8e5c-9db7cdc9f475",
   "metadata": {},
   "outputs": [],
   "source": [
    "url = \"https://services8.arcgis.com/8tX9OH8doNBidChm/arcgis/rest/services/GFC_Shapefiles/FeatureServer/3/query\"\n",
    "\n",
    "params = {\n",
    "    \"where\": \"1=1\",\n",
    "    \"outFields\": \"*\",\n",
    "    \"f\": \"geojson\",\n",
    "    \"outSR\": 4326,\n",
    "    \"returnGeometry\": \"true\"\n",
    "}\n",
    "\n",
    "response = requests.get(url, params=params)\n",
    "response.raise_for_status()\n",
    "\n",
    "geojson_data = response.json()\n",
    "\n",
    "#geojson_data"
   ]
  },
  {
   "cell_type": "code",
   "execution_count": 228,
   "id": "3034d038-17f0-4fec-963a-e4c2b27f9e11",
   "metadata": {},
   "outputs": [
    {
     "name": "stdout",
     "output_type": "stream",
     "text": [
      "Saved GeoJSON to berbice_concessions.geojson\n"
     ]
    }
   ],
   "source": [
    "with open(\"berbice_concessions.geojson\", \"w\") as f:\n",
    "    json.dump(geojson_data, f)\n",
    "\n",
    "print(\"Saved GeoJSON to berbice_concessions.geojson\")"
   ]
  },
  {
   "cell_type": "code",
   "execution_count": 229,
   "id": "a15285b9-d623-4b32-b409-1081acc25af3",
   "metadata": {},
   "outputs": [
    {
     "data": {
      "text/html": [
       "<div>\n",
       "<style scoped>\n",
       "    .dataframe tbody tr th:only-of-type {\n",
       "        vertical-align: middle;\n",
       "    }\n",
       "\n",
       "    .dataframe tbody tr th {\n",
       "        vertical-align: top;\n",
       "    }\n",
       "\n",
       "    .dataframe thead th {\n",
       "        text-align: right;\n",
       "    }\n",
       "</style>\n",
       "<table border=\"1\" class=\"dataframe\">\n",
       "  <thead>\n",
       "    <tr style=\"text-align: right;\">\n",
       "      <th></th>\n",
       "      <th>FID</th>\n",
       "      <th>OWNER</th>\n",
       "      <th>FOLIO_NO_</th>\n",
       "      <th>SHORT_DESC</th>\n",
       "      <th>Shape__Area</th>\n",
       "      <th>Shape__Length</th>\n",
       "      <th>geometry</th>\n",
       "    </tr>\n",
       "  </thead>\n",
       "  <tbody>\n",
       "    <tr>\n",
       "      <th>0</th>\n",
       "      <td>1</td>\n",
       "      <td>Shawn LaFleur</td>\n",
       "      <td>Bce 05/02</td>\n",
       "      <td>RB Canje R, RB Ikuruwa R, LB Crossowa Ck.</td>\n",
       "      <td>1.960384e+07</td>\n",
       "      <td>21417.238214</td>\n",
       "      <td>POLYGON ((-57.39263 5.60669, -57.3923 5.60673,...</td>\n",
       "    </tr>\n",
       "    <tr>\n",
       "      <th>1</th>\n",
       "      <td>2</td>\n",
       "      <td>Amaco Inc</td>\n",
       "      <td>Bce 16/18</td>\n",
       "      <td>RB Paidaka R, Western side UNAMCO road</td>\n",
       "      <td>5.628159e+07</td>\n",
       "      <td>38893.202654</td>\n",
       "      <td>POLYGON ((-58.33774 5.02834, -58.3377 5.02835,...</td>\n",
       "    </tr>\n",
       "    <tr>\n",
       "      <th>2</th>\n",
       "      <td>3</td>\n",
       "      <td>Upper Berbice F&amp;APA</td>\n",
       "      <td>Bce 01/05</td>\n",
       "      <td>RB Kerimeru R, Western side UNAMCO rd.</td>\n",
       "      <td>5.308755e+07</td>\n",
       "      <td>43650.988587</td>\n",
       "      <td>POLYGON ((-58.36047 5.07163, -58.36048 5.07166...</td>\n",
       "    </tr>\n",
       "    <tr>\n",
       "      <th>3</th>\n",
       "      <td>4</td>\n",
       "      <td>Rahaman Razack</td>\n",
       "      <td>Bce 05/05</td>\n",
       "      <td>LB Corentyne Riv; RB Little Tomehri Riv;</td>\n",
       "      <td>8.521090e+07</td>\n",
       "      <td>42771.583865</td>\n",
       "      <td>POLYGON ((-57.92539 4.8044, -57.92503 4.80319,...</td>\n",
       "    </tr>\n",
       "    <tr>\n",
       "      <th>4</th>\n",
       "      <td>5</td>\n",
       "      <td>R Razack Business Ent.</td>\n",
       "      <td>Bce 02/13</td>\n",
       "      <td>LB Corentyne River</td>\n",
       "      <td>2.750232e+07</td>\n",
       "      <td>24221.691503</td>\n",
       "      <td>POLYGON ((-57.44677 4.99708, -57.4468 4.99708,...</td>\n",
       "    </tr>\n",
       "  </tbody>\n",
       "</table>\n",
       "</div>"
      ],
      "text/plain": [
       "   FID                   OWNER  FOLIO_NO_  \\\n",
       "0    1           Shawn LaFleur  Bce 05/02   \n",
       "1    2               Amaco Inc  Bce 16/18   \n",
       "2    3     Upper Berbice F&APA  Bce 01/05   \n",
       "3    4          Rahaman Razack  Bce 05/05   \n",
       "4    5  R Razack Business Ent.  Bce 02/13   \n",
       "\n",
       "                                  SHORT_DESC   Shape__Area  Shape__Length  \\\n",
       "0  RB Canje R, RB Ikuruwa R, LB Crossowa Ck.  1.960384e+07   21417.238214   \n",
       "1     RB Paidaka R, Western side UNAMCO road  5.628159e+07   38893.202654   \n",
       "2     RB Kerimeru R, Western side UNAMCO rd.  5.308755e+07   43650.988587   \n",
       "3   LB Corentyne Riv; RB Little Tomehri Riv;  8.521090e+07   42771.583865   \n",
       "4                         LB Corentyne River  2.750232e+07   24221.691503   \n",
       "\n",
       "                                            geometry  \n",
       "0  POLYGON ((-57.39263 5.60669, -57.3923 5.60673,...  \n",
       "1  POLYGON ((-58.33774 5.02834, -58.3377 5.02835,...  \n",
       "2  POLYGON ((-58.36047 5.07163, -58.36048 5.07166...  \n",
       "3  POLYGON ((-57.92539 4.8044, -57.92503 4.80319,...  \n",
       "4  POLYGON ((-57.44677 4.99708, -57.4468 4.99708,...  "
      ]
     },
     "execution_count": 229,
     "metadata": {},
     "output_type": "execute_result"
    }
   ],
   "source": [
    "bc = gpd.read_file(\"berbice_concessions.geojson\")\n",
    "\n",
    "bc.head()"
   ]
  },
  {
   "cell_type": "code",
   "execution_count": 230,
   "id": "00fce7e2-8db9-4931-80c2-02321a9d6dad",
   "metadata": {},
   "outputs": [
    {
     "data": {
      "text/plain": [
       "(167, 7)"
      ]
     },
     "execution_count": 230,
     "metadata": {},
     "output_type": "execute_result"
    }
   ],
   "source": [
    "bc.shape"
   ]
  },
  {
   "cell_type": "markdown",
   "id": "13d891ce-2d47-4791-a1a2-ca31c6dfa41a",
   "metadata": {},
   "source": [
    "## Scraping JSON request 2: GPS Roads and Trails"
   ]
  },
  {
   "cell_type": "code",
   "execution_count": 231,
   "id": "8b42e663-ba44-4786-8246-a73a5476f563",
   "metadata": {},
   "outputs": [],
   "source": [
    "url = \"https://services8.arcgis.com/8tX9OH8doNBidChm/arcgis/rest/services/GFC_Shapefiles/FeatureServer/2?f=json\""
   ]
  },
  {
   "cell_type": "code",
   "execution_count": 232,
   "id": "8bbda11f-1cfb-49b8-af8c-1fb328c0ed10",
   "metadata": {},
   "outputs": [
    {
     "data": {
      "text/plain": [
       "<Response [200]>"
      ]
     },
     "execution_count": 232,
     "metadata": {},
     "output_type": "execute_result"
    }
   ],
   "source": [
    "response = requests.get(url)\n",
    "response"
   ]
  },
  {
   "cell_type": "code",
   "execution_count": 233,
   "id": "081928b2-a0f1-4ab4-b3a1-424620477c06",
   "metadata": {},
   "outputs": [],
   "source": [
    "data8 = response.json() \n",
    "#data8"
   ]
  },
  {
   "cell_type": "code",
   "execution_count": 234,
   "id": "003c75da-13bd-4c0e-b15f-f49021107c9c",
   "metadata": {},
   "outputs": [],
   "source": [
    "url = \"https://services8.arcgis.com/8tX9OH8doNBidChm/arcgis/rest/services/GFC_Shapefiles/FeatureServer/2/query\"\n",
    "\n",
    "params = {\n",
    "    \"where\": \"1=1\",\n",
    "    \"outFields\": \"*\",\n",
    "    \"f\": \"geojson\",\n",
    "    \"outSR\": 4326,\n",
    "    \"returnGeometry\": \"true\"\n",
    "}\n",
    "\n",
    "response = requests.get(url, params=params)\n",
    "response.raise_for_status()\n",
    "\n",
    "geojson_data = response.json()\n",
    "\n",
    "#geojson_data"
   ]
  },
  {
   "cell_type": "code",
   "execution_count": 235,
   "id": "cd88b408-bc95-4887-94c4-c00c97ed6431",
   "metadata": {},
   "outputs": [
    {
     "name": "stdout",
     "output_type": "stream",
     "text": [
      "Saved GeoJSON to gps_road_trails.geojson\n"
     ]
    }
   ],
   "source": [
    "with open(\"gps_road_trails.geojson\", \"w\") as f:\n",
    "    json.dump(geojson_data, f)\n",
    "\n",
    "print(\"Saved GeoJSON to gps_road_trails.geojson\")"
   ]
  },
  {
   "cell_type": "code",
   "execution_count": 236,
   "id": "cbe64f43-0e06-498c-a699-ffe5cf371af4",
   "metadata": {},
   "outputs": [
    {
     "data": {
      "text/html": [
       "<div>\n",
       "<style scoped>\n",
       "    .dataframe tbody tr th:only-of-type {\n",
       "        vertical-align: middle;\n",
       "    }\n",
       "\n",
       "    .dataframe tbody tr th {\n",
       "        vertical-align: top;\n",
       "    }\n",
       "\n",
       "    .dataframe thead th {\n",
       "        text-align: right;\n",
       "    }\n",
       "</style>\n",
       "<table border=\"1\" class=\"dataframe\">\n",
       "  <thead>\n",
       "    <tr style=\"text-align: right;\">\n",
       "      <th></th>\n",
       "      <th>FID</th>\n",
       "      <th>type</th>\n",
       "      <th>tident</th>\n",
       "      <th>ident</th>\n",
       "      <th>Latitude</th>\n",
       "      <th>Longitude</th>\n",
       "      <th>y_proj</th>\n",
       "      <th>x_proj</th>\n",
       "      <th>comment</th>\n",
       "      <th>new_trk</th>\n",
       "      <th>...</th>\n",
       "      <th>LENGTH_MI</th>\n",
       "      <th>LENGTH_KM</th>\n",
       "      <th>UNITS_1</th>\n",
       "      <th>UNITS_2</th>\n",
       "      <th>CONCAT</th>\n",
       "      <th>UPDATED</th>\n",
       "      <th>Shape_Leng</th>\n",
       "      <th>model</th>\n",
       "      <th>Shape__Length</th>\n",
       "      <th>geometry</th>\n",
       "    </tr>\n",
       "  </thead>\n",
       "  <tbody>\n",
       "    <tr>\n",
       "      <th>0</th>\n",
       "      <td>1</td>\n",
       "      <td>TRACK</td>\n",
       "      <td>2020-05-26 11:10:39</td>\n",
       "      <td>T1</td>\n",
       "      <td>6.093500</td>\n",
       "      <td>-57.948162</td>\n",
       "      <td>673632.394190</td>\n",
       "      <td>395080.750710</td>\n",
       "      <td></td>\n",
       "      <td></td>\n",
       "      <td>...</td>\n",
       "      <td>0</td>\n",
       "      <td>0</td>\n",
       "      <td></td>\n",
       "      <td></td>\n",
       "      <td></td>\n",
       "      <td></td>\n",
       "      <td>0.0</td>\n",
       "      <td></td>\n",
       "      <td>2733.524953</td>\n",
       "      <td>LINESTRING (-57.93865 6.08048, -57.9383 6.0801...</td>\n",
       "    </tr>\n",
       "    <tr>\n",
       "      <th>1</th>\n",
       "      <td>2</td>\n",
       "      <td>TRACK</td>\n",
       "      <td>2020-05-26 11:31:51</td>\n",
       "      <td>T389</td>\n",
       "      <td>5.948644</td>\n",
       "      <td>-57.953153</td>\n",
       "      <td>657618.535047</td>\n",
       "      <td>394500.424468</td>\n",
       "      <td></td>\n",
       "      <td></td>\n",
       "      <td>...</td>\n",
       "      <td>0</td>\n",
       "      <td>0</td>\n",
       "      <td></td>\n",
       "      <td></td>\n",
       "      <td></td>\n",
       "      <td></td>\n",
       "      <td>0.0</td>\n",
       "      <td></td>\n",
       "      <td>3329.503855</td>\n",
       "      <td>LINESTRING (-57.95331 5.9487, -57.95331 5.9486...</td>\n",
       "    </tr>\n",
       "    <tr>\n",
       "      <th>2</th>\n",
       "      <td>3</td>\n",
       "      <td>TRACK</td>\n",
       "      <td>2020-05-26 12:22:38</td>\n",
       "      <td>T450</td>\n",
       "      <td>5.950090</td>\n",
       "      <td>-57.929682</td>\n",
       "      <td>657773.933467</td>\n",
       "      <td>397098.905780</td>\n",
       "      <td></td>\n",
       "      <td></td>\n",
       "      <td>...</td>\n",
       "      <td>0</td>\n",
       "      <td>0</td>\n",
       "      <td></td>\n",
       "      <td></td>\n",
       "      <td></td>\n",
       "      <td></td>\n",
       "      <td>0.0</td>\n",
       "      <td></td>\n",
       "      <td>8273.152553</td>\n",
       "      <td>LINESTRING (-57.92983 5.95014, -57.92983 5.950...</td>\n",
       "    </tr>\n",
       "    <tr>\n",
       "      <th>3</th>\n",
       "      <td>4</td>\n",
       "      <td>TRACK</td>\n",
       "      <td>2020-05-27 08:39:56</td>\n",
       "      <td>T619</td>\n",
       "      <td>5.950113</td>\n",
       "      <td>-57.929568</td>\n",
       "      <td>657776.525591</td>\n",
       "      <td>397111.445087</td>\n",
       "      <td></td>\n",
       "      <td></td>\n",
       "      <td>...</td>\n",
       "      <td>0</td>\n",
       "      <td>0</td>\n",
       "      <td></td>\n",
       "      <td></td>\n",
       "      <td></td>\n",
       "      <td></td>\n",
       "      <td>0.0</td>\n",
       "      <td></td>\n",
       "      <td>1419.956577</td>\n",
       "      <td>LINESTRING (-57.92972 5.95017, -57.92972 5.950...</td>\n",
       "    </tr>\n",
       "    <tr>\n",
       "      <th>4</th>\n",
       "      <td>5</td>\n",
       "      <td>TRACK</td>\n",
       "      <td>2020-05-27 10:08:29</td>\n",
       "      <td>T665</td>\n",
       "      <td>5.951979</td>\n",
       "      <td>-57.920929</td>\n",
       "      <td>657981.229093</td>\n",
       "      <td>398068.124576</td>\n",
       "      <td></td>\n",
       "      <td></td>\n",
       "      <td>...</td>\n",
       "      <td>0</td>\n",
       "      <td>0</td>\n",
       "      <td></td>\n",
       "      <td></td>\n",
       "      <td></td>\n",
       "      <td></td>\n",
       "      <td>0.0</td>\n",
       "      <td></td>\n",
       "      <td>135.994399</td>\n",
       "      <td>LINESTRING (-57.92108 5.95203, -57.92108 5.952...</td>\n",
       "    </tr>\n",
       "  </tbody>\n",
       "</table>\n",
       "<p>5 rows × 49 columns</p>\n",
       "</div>"
      ],
      "text/plain": [
       "   FID   type               tident ident  Latitude  Longitude         y_proj  \\\n",
       "0    1  TRACK  2020-05-26 11:10:39    T1  6.093500 -57.948162  673632.394190   \n",
       "1    2  TRACK  2020-05-26 11:31:51  T389  5.948644 -57.953153  657618.535047   \n",
       "2    3  TRACK  2020-05-26 12:22:38  T450  5.950090 -57.929682  657773.933467   \n",
       "3    4  TRACK  2020-05-27 08:39:56  T619  5.950113 -57.929568  657776.525591   \n",
       "4    5  TRACK  2020-05-27 10:08:29  T665  5.951979 -57.920929  657981.229093   \n",
       "\n",
       "          x_proj comment new_trk  ... LENGTH_MI LENGTH_KM UNITS_1  UNITS_2  \\\n",
       "0  395080.750710                  ...         0         0                    \n",
       "1  394500.424468                  ...         0         0                    \n",
       "2  397098.905780                  ...         0         0                    \n",
       "3  397111.445087                  ...         0         0                    \n",
       "4  398068.124576                  ...         0         0                    \n",
       "\n",
       "   CONCAT  UPDATED Shape_Leng model Shape__Length  \\\n",
       "0                         0.0         2733.524953   \n",
       "1                         0.0         3329.503855   \n",
       "2                         0.0         8273.152553   \n",
       "3                         0.0         1419.956577   \n",
       "4                         0.0          135.994399   \n",
       "\n",
       "                                            geometry  \n",
       "0  LINESTRING (-57.93865 6.08048, -57.9383 6.0801...  \n",
       "1  LINESTRING (-57.95331 5.9487, -57.95331 5.9486...  \n",
       "2  LINESTRING (-57.92983 5.95014, -57.92983 5.950...  \n",
       "3  LINESTRING (-57.92972 5.95017, -57.92972 5.950...  \n",
       "4  LINESTRING (-57.92108 5.95203, -57.92108 5.952...  \n",
       "\n",
       "[5 rows x 49 columns]"
      ]
     },
     "execution_count": 236,
     "metadata": {},
     "output_type": "execute_result"
    }
   ],
   "source": [
    "grt = gpd.read_file(\"gps_road_trails.geojson\")\n",
    "\n",
    "grt.head()"
   ]
  },
  {
   "cell_type": "code",
   "execution_count": 237,
   "id": "613d2dcd-ed34-4ea4-8c30-a930c52cac7c",
   "metadata": {},
   "outputs": [
    {
     "data": {
      "text/plain": [
       "(2000, 49)"
      ]
     },
     "execution_count": 237,
     "metadata": {},
     "output_type": "execute_result"
    }
   ],
   "source": [
    "grt.shape"
   ]
  },
  {
   "cell_type": "code",
   "execution_count": 238,
   "id": "90321e74-60b8-49fd-a358-4dba1b4d4f37",
   "metadata": {},
   "outputs": [
    {
     "data": {
      "text/plain": [
       "FID                 int32\n",
       "type               object\n",
       "tident             object\n",
       "ident              object\n",
       "Latitude          float64\n",
       "Longitude         float64\n",
       "y_proj            float64\n",
       "x_proj            float64\n",
       "comment            object\n",
       "new_trk            object\n",
       "new_seg            object\n",
       "display            object\n",
       "color              object\n",
       "altitude          float64\n",
       "depth               int32\n",
       "temp                int32\n",
       "time               object\n",
       "filename           object\n",
       "ltime              object\n",
       "desc_              object\n",
       "link               object\n",
       "desc1              object\n",
       "Id                  int32\n",
       "GM_LAYER           object\n",
       "GM_TYPE            object\n",
       "NAME               object\n",
       "LAYER              object\n",
       "LENGTH             object\n",
       "BEARING            object\n",
       "BLANK               int32\n",
       "ROAD_ID             int32\n",
       "OBJECTID            int32\n",
       "LAT               float64\n",
       "LONG              float64\n",
       "LENGTH_MET        float64\n",
       "ROADS_ID           object\n",
       "ROAD_LOC           object\n",
       "Rd_length          object\n",
       "km                  int32\n",
       "LENGTH_MI           int32\n",
       "LENGTH_KM           int32\n",
       "UNITS_1            object\n",
       "UNITS_2            object\n",
       "CONCAT             object\n",
       "UPDATED            object\n",
       "Shape_Leng        float64\n",
       "model              object\n",
       "Shape__Length     float64\n",
       "geometry         geometry\n",
       "dtype: object"
      ]
     },
     "execution_count": 238,
     "metadata": {},
     "output_type": "execute_result"
    }
   ],
   "source": [
    "grt.dtypes"
   ]
  },
  {
   "cell_type": "markdown",
   "id": "694e1192-f84d-4226-b5ec-4dd0d417e2e5",
   "metadata": {},
   "source": [
    "## Scraping JSON request 1: Sawmills and Lumberyards"
   ]
  },
  {
   "cell_type": "code",
   "execution_count": 239,
   "id": "ce519cd0-7b9c-42af-b381-485db4789d65",
   "metadata": {},
   "outputs": [],
   "source": [
    "url = \"https://services8.arcgis.com/8tX9OH8doNBidChm/arcgis/rest/services/GFC_Shapefiles/FeatureServer/1?f=json\""
   ]
  },
  {
   "cell_type": "code",
   "execution_count": 240,
   "id": "fbb7d876-67ce-486b-aa74-6261a34b085b",
   "metadata": {},
   "outputs": [
    {
     "data": {
      "text/plain": [
       "<Response [200]>"
      ]
     },
     "execution_count": 240,
     "metadata": {},
     "output_type": "execute_result"
    }
   ],
   "source": [
    "response = requests.get(url)\n",
    "response"
   ]
  },
  {
   "cell_type": "code",
   "execution_count": 241,
   "id": "5e76608d-d581-44a4-a860-f68e5449619d",
   "metadata": {},
   "outputs": [],
   "source": [
    "data9 = response.json() \n",
    "#data9"
   ]
  },
  {
   "cell_type": "code",
   "execution_count": 242,
   "id": "a98e290c-e840-4c84-98ad-70a7aa4c36ac",
   "metadata": {},
   "outputs": [],
   "source": [
    "url = \"https://services8.arcgis.com/8tX9OH8doNBidChm/arcgis/rest/services/GFC_Shapefiles/FeatureServer/1/query\"\n",
    "\n",
    "params = {\n",
    "    \"where\": \"1=1\",\n",
    "    \"outFields\": \"*\",\n",
    "    \"f\": \"geojson\",\n",
    "    \"outSR\": 4326,\n",
    "    \"returnGeometry\": \"true\"\n",
    "}\n",
    "\n",
    "response = requests.get(url, params=params)\n",
    "response.raise_for_status()\n",
    "\n",
    "geojson_data = response.json()\n",
    "\n",
    "#geojson_data"
   ]
  },
  {
   "cell_type": "code",
   "execution_count": 243,
   "id": "51eaca14-d493-4b85-9d3b-c2151e9babd7",
   "metadata": {},
   "outputs": [
    {
     "name": "stdout",
     "output_type": "stream",
     "text": [
      "Saved GeoJSON to sawmills_lumberyards.geojson\n"
     ]
    }
   ],
   "source": [
    "with open(\"sawmills_lumberyards.geojson\", \"w\") as f:\n",
    "    json.dump(geojson_data, f)\n",
    "\n",
    "print(\"Saved GeoJSON to sawmills_lumberyards.geojson\")"
   ]
  },
  {
   "cell_type": "code",
   "execution_count": 244,
   "id": "3aecb6b0-339d-48d5-bedb-52796c54bd9c",
   "metadata": {},
   "outputs": [
    {
     "data": {
      "text/html": [
       "<div>\n",
       "<style scoped>\n",
       "    .dataframe tbody tr th:only-of-type {\n",
       "        vertical-align: middle;\n",
       "    }\n",
       "\n",
       "    .dataframe tbody tr th {\n",
       "        vertical-align: top;\n",
       "    }\n",
       "\n",
       "    .dataframe thead th {\n",
       "        text-align: right;\n",
       "    }\n",
       "</style>\n",
       "<table border=\"1\" class=\"dataframe\">\n",
       "  <thead>\n",
       "    <tr style=\"text-align: right;\">\n",
       "      <th></th>\n",
       "      <th>FID</th>\n",
       "      <th>X</th>\n",
       "      <th>Y</th>\n",
       "      <th>Business_N</th>\n",
       "      <th>Business_A</th>\n",
       "      <th>Contact_In</th>\n",
       "      <th>Licence_Ty</th>\n",
       "      <th>County</th>\n",
       "      <th>Owner</th>\n",
       "      <th>NoName</th>\n",
       "      <th>geometry</th>\n",
       "    </tr>\n",
       "  </thead>\n",
       "  <tbody>\n",
       "    <tr>\n",
       "      <th>0</th>\n",
       "      <td>1</td>\n",
       "      <td>415198</td>\n",
       "      <td>724779</td>\n",
       "      <td>Bibi A. Ali</td>\n",
       "      <td>Lot 4 Dundee Mahaicony E.C.D</td>\n",
       "      <td>221-2036</td>\n",
       "      <td>Lumberyard</td>\n",
       "      <td>Demerara</td>\n",
       "      <td></td>\n",
       "      <td></td>\n",
       "      <td>POINT (-57.76838 6.5531)</td>\n",
       "    </tr>\n",
       "    <tr>\n",
       "      <th>1</th>\n",
       "      <td>2</td>\n",
       "      <td>385553</td>\n",
       "      <td>751824</td>\n",
       "      <td>CPS Investments</td>\n",
       "      <td>3 \"B\"Lusignan E.C.D</td>\n",
       "      <td>233-5191/611-6480</td>\n",
       "      <td>Lumberyard</td>\n",
       "      <td>Demerara</td>\n",
       "      <td></td>\n",
       "      <td></td>\n",
       "      <td>POINT (-58.03702 6.79724)</td>\n",
       "    </tr>\n",
       "    <tr>\n",
       "      <th>2</th>\n",
       "      <td>3</td>\n",
       "      <td>382181</td>\n",
       "      <td>753633</td>\n",
       "      <td>Colin Freeman Lumber yard</td>\n",
       "      <td>Area \"D\" Chatteau Margot E.C.D</td>\n",
       "      <td>220-9634</td>\n",
       "      <td>Lumberyard</td>\n",
       "      <td>Demerara</td>\n",
       "      <td></td>\n",
       "      <td></td>\n",
       "      <td>POINT (-58.06757 6.81353)</td>\n",
       "    </tr>\n",
       "    <tr>\n",
       "      <th>3</th>\n",
       "      <td>4</td>\n",
       "      <td>384504</td>\n",
       "      <td>752453</td>\n",
       "      <td>Dooddnauth Rampersaud</td>\n",
       "      <td>3 Good Hope E.C.D</td>\n",
       "      <td>220-6914/614-4588</td>\n",
       "      <td>Lumberyard</td>\n",
       "      <td>Demerara</td>\n",
       "      <td></td>\n",
       "      <td></td>\n",
       "      <td>POINT (-58.04653 6.80291)</td>\n",
       "    </tr>\n",
       "    <tr>\n",
       "      <th>4</th>\n",
       "      <td>5</td>\n",
       "      <td>379991</td>\n",
       "      <td>754130</td>\n",
       "      <td>Double D's Lumber yard</td>\n",
       "      <td>Lot 11 Dwaraka St Better Hope E.C.D</td>\n",
       "      <td>220-4485</td>\n",
       "      <td>Lumberyard</td>\n",
       "      <td>Demerara</td>\n",
       "      <td></td>\n",
       "      <td></td>\n",
       "      <td>POINT (-58.0874 6.81798)</td>\n",
       "    </tr>\n",
       "  </tbody>\n",
       "</table>\n",
       "</div>"
      ],
      "text/plain": [
       "   FID       X       Y                 Business_N  \\\n",
       "0    1  415198  724779                Bibi A. Ali   \n",
       "1    2  385553  751824            CPS Investments   \n",
       "2    3  382181  753633  Colin Freeman Lumber yard   \n",
       "3    4  384504  752453      Dooddnauth Rampersaud   \n",
       "4    5  379991  754130     Double D's Lumber yard   \n",
       "\n",
       "                            Business_A         Contact_In  Licence_Ty  \\\n",
       "0         Lot 4 Dundee Mahaicony E.C.D           221-2036  Lumberyard   \n",
       "1                  3 \"B\"Lusignan E.C.D  233-5191/611-6480  Lumberyard   \n",
       "2       Area \"D\" Chatteau Margot E.C.D           220-9634  Lumberyard   \n",
       "3                    3 Good Hope E.C.D  220-6914/614-4588  Lumberyard   \n",
       "4  Lot 11 Dwaraka St Better Hope E.C.D           220-4485  Lumberyard   \n",
       "\n",
       "     County Owner NoName                   geometry  \n",
       "0  Demerara                POINT (-57.76838 6.5531)  \n",
       "1  Demerara               POINT (-58.03702 6.79724)  \n",
       "2  Demerara               POINT (-58.06757 6.81353)  \n",
       "3  Demerara               POINT (-58.04653 6.80291)  \n",
       "4  Demerara                POINT (-58.0874 6.81798)  "
      ]
     },
     "execution_count": 244,
     "metadata": {},
     "output_type": "execute_result"
    }
   ],
   "source": [
    "sl = gpd.read_file(\"sawmills_lumberyards.geojson\")\n",
    "\n",
    "sl.head()"
   ]
  },
  {
   "cell_type": "code",
   "execution_count": 245,
   "id": "830ae7ce-c2fc-431f-8db2-0a9d594c9469",
   "metadata": {},
   "outputs": [
    {
     "data": {
      "text/plain": [
       "(362, 11)"
      ]
     },
     "execution_count": 245,
     "metadata": {},
     "output_type": "execute_result"
    }
   ],
   "source": [
    "sl.shape"
   ]
  },
  {
   "cell_type": "markdown",
   "id": "9c867996-9f51-4421-92d1-1d3c93bb67c6",
   "metadata": {},
   "source": [
    "## Scraping JSON request 0: Forest Stations"
   ]
  },
  {
   "cell_type": "code",
   "execution_count": 246,
   "id": "b869ade6-1ce7-437b-9202-c9cbd318f56a",
   "metadata": {},
   "outputs": [],
   "source": [
    "url = \"https://services8.arcgis.com/8tX9OH8doNBidChm/arcgis/rest/services/GFC_Shapefiles/FeatureServer/0?f=json\""
   ]
  },
  {
   "cell_type": "code",
   "execution_count": 247,
   "id": "65da0384-1f11-4092-b026-cc500ec8e830",
   "metadata": {},
   "outputs": [
    {
     "data": {
      "text/plain": [
       "<Response [200]>"
      ]
     },
     "execution_count": 247,
     "metadata": {},
     "output_type": "execute_result"
    }
   ],
   "source": [
    "response = requests.get(url)\n",
    "response"
   ]
  },
  {
   "cell_type": "code",
   "execution_count": 248,
   "id": "4fa1cd3d-701c-4bdf-8e4e-9a7cca43d4c4",
   "metadata": {},
   "outputs": [],
   "source": [
    "data10 = response.json() \n",
    "#data10"
   ]
  },
  {
   "cell_type": "code",
   "execution_count": 249,
   "id": "249c5c8f-87d0-48f6-b2c6-0228b9faabbd",
   "metadata": {},
   "outputs": [],
   "source": [
    "url = \"https://services8.arcgis.com/8tX9OH8doNBidChm/arcgis/rest/services/GFC_Shapefiles/FeatureServer/0/query\"\n",
    "\n",
    "params = {\n",
    "    \"where\": \"1=1\",\n",
    "    \"outFields\": \"*\",\n",
    "    \"f\": \"geojson\",\n",
    "    \"outSR\": 4326,\n",
    "    \"returnGeometry\": \"true\"\n",
    "}\n",
    "\n",
    "response = requests.get(url, params=params)\n",
    "response.raise_for_status()\n",
    "\n",
    "geojson_data = response.json()\n",
    "\n",
    "#geojson_data"
   ]
  },
  {
   "cell_type": "code",
   "execution_count": 250,
   "id": "64849b80-580c-4f3e-82a8-30206246b365",
   "metadata": {},
   "outputs": [
    {
     "name": "stdout",
     "output_type": "stream",
     "text": [
      "Saved GeoJSON to forest_stations.geojson\n"
     ]
    }
   ],
   "source": [
    "with open(\"forest_stations.geojson\", \"w\") as f:\n",
    "    json.dump(geojson_data, f)\n",
    "\n",
    "print(\"Saved GeoJSON to forest_stations.geojson\")"
   ]
  },
  {
   "cell_type": "code",
   "execution_count": 251,
   "id": "69f5b519-d843-45e0-a06d-804021a0bec6",
   "metadata": {},
   "outputs": [
    {
     "data": {
      "text/html": [
       "<div>\n",
       "<style scoped>\n",
       "    .dataframe tbody tr th:only-of-type {\n",
       "        vertical-align: middle;\n",
       "    }\n",
       "\n",
       "    .dataframe tbody tr th {\n",
       "        vertical-align: top;\n",
       "    }\n",
       "\n",
       "    .dataframe thead th {\n",
       "        text-align: right;\n",
       "    }\n",
       "</style>\n",
       "<table border=\"1\" class=\"dataframe\">\n",
       "  <thead>\n",
       "    <tr style=\"text-align: right;\">\n",
       "      <th></th>\n",
       "      <th>FID</th>\n",
       "      <th>NO</th>\n",
       "      <th>NAME</th>\n",
       "      <th>TYPE</th>\n",
       "      <th>ADDRESS</th>\n",
       "      <th>TELEPHONE</th>\n",
       "      <th>DIVISION</th>\n",
       "      <th>REMARKS</th>\n",
       "      <th>X</th>\n",
       "      <th>Y</th>\n",
       "      <th>UPDATED</th>\n",
       "      <th>Region_No</th>\n",
       "      <th>geometry</th>\n",
       "    </tr>\n",
       "  </thead>\n",
       "  <tbody>\n",
       "    <tr>\n",
       "      <th>0</th>\n",
       "      <td>1</td>\n",
       "      <td>1</td>\n",
       "      <td>Anarika</td>\n",
       "      <td>Forest Station</td>\n",
       "      <td>Rockstone, Essequibo</td>\n",
       "      <td></td>\n",
       "      <td>Essequibo</td>\n",
       "      <td>Coordinates needed to update station</td>\n",
       "      <td>327928</td>\n",
       "      <td>667993</td>\n",
       "      <td>September, 2004</td>\n",
       "      <td>10</td>\n",
       "      <td>POINT (-58.55609 6.03776)</td>\n",
       "    </tr>\n",
       "    <tr>\n",
       "      <th>1</th>\n",
       "      <td>2</td>\n",
       "      <td>2</td>\n",
       "      <td>Annai</td>\n",
       "      <td>Forest Station</td>\n",
       "      <td>Rupununi</td>\n",
       "      <td>772-9280</td>\n",
       "      <td>Rupununi</td>\n",
       "      <td>Coordinates needed to update station</td>\n",
       "      <td>263881</td>\n",
       "      <td>437205</td>\n",
       "      <td>September, 2004</td>\n",
       "      <td>9</td>\n",
       "      <td>POINT (-59.12781 3.94937)</td>\n",
       "    </tr>\n",
       "    <tr>\n",
       "      <th>2</th>\n",
       "      <td>3</td>\n",
       "      <td>3</td>\n",
       "      <td>Arapiako</td>\n",
       "      <td>Forest Station</td>\n",
       "      <td>Pomeroon River</td>\n",
       "      <td>771-4735</td>\n",
       "      <td>Essequibo</td>\n",
       "      <td>GPS Coordinates</td>\n",
       "      <td>310331</td>\n",
       "      <td>802705</td>\n",
       "      <td>June,2012</td>\n",
       "      <td>2</td>\n",
       "      <td>POINT (-58.71927 7.25537)</td>\n",
       "    </tr>\n",
       "    <tr>\n",
       "      <th>3</th>\n",
       "      <td>4</td>\n",
       "      <td>4</td>\n",
       "      <td>Baishanlin</td>\n",
       "      <td>Forest Station</td>\n",
       "      <td></td>\n",
       "      <td></td>\n",
       "      <td>Berbice</td>\n",
       "      <td>GPS Coordinates</td>\n",
       "      <td>379753</td>\n",
       "      <td>484033</td>\n",
       "      <td>June 5th, 2015</td>\n",
       "      <td>6</td>\n",
       "      <td>POINT (-58.08503 4.37497)</td>\n",
       "    </tr>\n",
       "    <tr>\n",
       "      <th>4</th>\n",
       "      <td>5</td>\n",
       "      <td>5</td>\n",
       "      <td>Bamboo Ldg.</td>\n",
       "      <td>Outpost</td>\n",
       "      <td>Upper Bce River</td>\n",
       "      <td></td>\n",
       "      <td>Berbice</td>\n",
       "      <td>GPS Coordinates</td>\n",
       "      <td>384165</td>\n",
       "      <td>589138</td>\n",
       "      <td>June,2012</td>\n",
       "      <td>10</td>\n",
       "      <td>POINT (-58.04674 5.32573)</td>\n",
       "    </tr>\n",
       "  </tbody>\n",
       "</table>\n",
       "</div>"
      ],
      "text/plain": [
       "   FID  NO         NAME            TYPE               ADDRESS TELEPHONE  \\\n",
       "0    1   1      Anarika  Forest Station  Rockstone, Essequibo             \n",
       "1    2   2        Annai  Forest Station              Rupununi  772-9280   \n",
       "2    3   3     Arapiako  Forest Station        Pomeroon River  771-4735   \n",
       "3    4   4   Baishanlin  Forest Station                                   \n",
       "4    5   5  Bamboo Ldg.         Outpost       Upper Bce River             \n",
       "\n",
       "    DIVISION                               REMARKS       X       Y  \\\n",
       "0  Essequibo  Coordinates needed to update station  327928  667993   \n",
       "1   Rupununi  Coordinates needed to update station  263881  437205   \n",
       "2  Essequibo                       GPS Coordinates  310331  802705   \n",
       "3    Berbice                       GPS Coordinates  379753  484033   \n",
       "4    Berbice                       GPS Coordinates  384165  589138   \n",
       "\n",
       "           UPDATED  Region_No                   geometry  \n",
       "0  September, 2004         10  POINT (-58.55609 6.03776)  \n",
       "1  September, 2004          9  POINT (-59.12781 3.94937)  \n",
       "2        June,2012          2  POINT (-58.71927 7.25537)  \n",
       "3   June 5th, 2015          6  POINT (-58.08503 4.37497)  \n",
       "4        June,2012         10  POINT (-58.04674 5.32573)  "
      ]
     },
     "execution_count": 251,
     "metadata": {},
     "output_type": "execute_result"
    }
   ],
   "source": [
    "fs = gpd.read_file(\"forest_stations.geojson\")\n",
    "\n",
    "fs.head()"
   ]
  },
  {
   "cell_type": "code",
   "execution_count": 252,
   "id": "18fc9487-09f1-478f-9c94-2fa9e95a667c",
   "metadata": {},
   "outputs": [
    {
     "data": {
      "text/plain": [
       "(55, 13)"
      ]
     },
     "execution_count": 252,
     "metadata": {},
     "output_type": "execute_result"
    }
   ],
   "source": [
    "fs.shape"
   ]
  },
  {
   "cell_type": "markdown",
   "id": "887514d4-afa9-4f75-bd8d-1462bd783a1f",
   "metadata": {},
   "source": [
    "## Adding in columns for the type of permit"
   ]
  },
  {
   "cell_type": "code",
   "execution_count": 253,
   "id": "e8d3e838-773d-48b0-bf05-3137fcbca1f2",
   "metadata": {},
   "outputs": [
    {
     "data": {
      "text/html": [
       "<div>\n",
       "<style scoped>\n",
       "    .dataframe tbody tr th:only-of-type {\n",
       "        vertical-align: middle;\n",
       "    }\n",
       "\n",
       "    .dataframe tbody tr th {\n",
       "        vertical-align: top;\n",
       "    }\n",
       "\n",
       "    .dataframe thead th {\n",
       "        text-align: right;\n",
       "    }\n",
       "</style>\n",
       "<table border=\"1\" class=\"dataframe\">\n",
       "  <thead>\n",
       "    <tr style=\"text-align: right;\">\n",
       "      <th></th>\n",
       "      <th>FID</th>\n",
       "      <th>OWNER</th>\n",
       "      <th>FOLIO_NO</th>\n",
       "      <th>SHORT_DESP</th>\n",
       "      <th>Shape__Area</th>\n",
       "      <th>Shape__Length</th>\n",
       "      <th>geometry</th>\n",
       "    </tr>\n",
       "  </thead>\n",
       "  <tbody>\n",
       "    <tr>\n",
       "      <th>0</th>\n",
       "      <td>1</td>\n",
       "      <td>Ganshyam Mahase Sawmills Inc.</td>\n",
       "      <td>SFEP 01/19</td>\n",
       "      <td>Left Bank Kuribrong River,Right Bank Semang Ri...</td>\n",
       "      <td>7.005027e+08</td>\n",
       "      <td>179824.178254</td>\n",
       "      <td>POLYGON ((-59.48121 5.71543, -59.48109 5.71546...</td>\n",
       "    </tr>\n",
       "    <tr>\n",
       "      <th>1</th>\n",
       "      <td>2</td>\n",
       "      <td>Rong-An-Inc.</td>\n",
       "      <td>SFEP 01/22</td>\n",
       "      <td>LB Berbice,RB Essequibo R.</td>\n",
       "      <td>6.664673e+08</td>\n",
       "      <td>177088.107539</td>\n",
       "      <td>POLYGON ((-58.45612 4.18701, -58.45539 4.18708...</td>\n",
       "    </tr>\n",
       "  </tbody>\n",
       "</table>\n",
       "</div>"
      ],
      "text/plain": [
       "   FID                          OWNER    FOLIO_NO  \\\n",
       "0    1  Ganshyam Mahase Sawmills Inc.  SFEP 01/19   \n",
       "1    2                   Rong-An-Inc.  SFEP 01/22   \n",
       "\n",
       "                                          SHORT_DESP   Shape__Area  \\\n",
       "0  Left Bank Kuribrong River,Right Bank Semang Ri...  7.005027e+08   \n",
       "1                         LB Berbice,RB Essequibo R.  6.664673e+08   \n",
       "\n",
       "   Shape__Length                                           geometry  \n",
       "0  179824.178254  POLYGON ((-59.48121 5.71543, -59.48109 5.71546...  \n",
       "1  177088.107539  POLYGON ((-58.45612 4.18701, -58.45539 4.18708...  "
      ]
     },
     "execution_count": 253,
     "metadata": {},
     "output_type": "execute_result"
    }
   ],
   "source": [
    "sfep.head()"
   ]
  },
  {
   "cell_type": "code",
   "execution_count": 254,
   "id": "135b3d83-0fd8-483a-a798-ac0c4e68f98b",
   "metadata": {},
   "outputs": [],
   "source": [
    "sfep['permit_type'] = 'State Forest Exploratory Permits'"
   ]
  },
  {
   "cell_type": "code",
   "execution_count": 255,
   "id": "4b00978e-2017-46b7-a72c-188ffe4de640",
   "metadata": {},
   "outputs": [
    {
     "data": {
      "text/html": [
       "<div>\n",
       "<style scoped>\n",
       "    .dataframe tbody tr th:only-of-type {\n",
       "        vertical-align: middle;\n",
       "    }\n",
       "\n",
       "    .dataframe tbody tr th {\n",
       "        vertical-align: top;\n",
       "    }\n",
       "\n",
       "    .dataframe thead th {\n",
       "        text-align: right;\n",
       "    }\n",
       "</style>\n",
       "<table border=\"1\" class=\"dataframe\">\n",
       "  <thead>\n",
       "    <tr style=\"text-align: right;\">\n",
       "      <th></th>\n",
       "      <th>FID</th>\n",
       "      <th>OWNER</th>\n",
       "      <th>FOLIO_NO</th>\n",
       "      <th>SHORT_DESP</th>\n",
       "      <th>Shape__Area</th>\n",
       "      <th>Shape__Length</th>\n",
       "      <th>geometry</th>\n",
       "      <th>permit_type</th>\n",
       "    </tr>\n",
       "  </thead>\n",
       "  <tbody>\n",
       "    <tr>\n",
       "      <th>0</th>\n",
       "      <td>1</td>\n",
       "      <td>Ganshyam Mahase Sawmills Inc.</td>\n",
       "      <td>SFEP 01/19</td>\n",
       "      <td>Left Bank Kuribrong River,Right Bank Semang Ri...</td>\n",
       "      <td>7.005027e+08</td>\n",
       "      <td>179824.178254</td>\n",
       "      <td>POLYGON ((-59.48121 5.71543, -59.48109 5.71546...</td>\n",
       "      <td>State Forest Exploratory Permits</td>\n",
       "    </tr>\n",
       "    <tr>\n",
       "      <th>1</th>\n",
       "      <td>2</td>\n",
       "      <td>Rong-An-Inc.</td>\n",
       "      <td>SFEP 01/22</td>\n",
       "      <td>LB Berbice,RB Essequibo R.</td>\n",
       "      <td>6.664673e+08</td>\n",
       "      <td>177088.107539</td>\n",
       "      <td>POLYGON ((-58.45612 4.18701, -58.45539 4.18708...</td>\n",
       "      <td>State Forest Exploratory Permits</td>\n",
       "    </tr>\n",
       "  </tbody>\n",
       "</table>\n",
       "</div>"
      ],
      "text/plain": [
       "   FID                          OWNER    FOLIO_NO  \\\n",
       "0    1  Ganshyam Mahase Sawmills Inc.  SFEP 01/19   \n",
       "1    2                   Rong-An-Inc.  SFEP 01/22   \n",
       "\n",
       "                                          SHORT_DESP   Shape__Area  \\\n",
       "0  Left Bank Kuribrong River,Right Bank Semang Ri...  7.005027e+08   \n",
       "1                         LB Berbice,RB Essequibo R.  6.664673e+08   \n",
       "\n",
       "   Shape__Length                                           geometry  \\\n",
       "0  179824.178254  POLYGON ((-59.48121 5.71543, -59.48109 5.71546...   \n",
       "1  177088.107539  POLYGON ((-58.45612 4.18701, -58.45539 4.18708...   \n",
       "\n",
       "                        permit_type  \n",
       "0  State Forest Exploratory Permits  \n",
       "1  State Forest Exploratory Permits  "
      ]
     },
     "execution_count": 255,
     "metadata": {},
     "output_type": "execute_result"
    }
   ],
   "source": [
    "sfep.head()"
   ]
  },
  {
   "cell_type": "code",
   "execution_count": 256,
   "id": "c72a55af-84e1-44e7-b632-1fe48544a9d5",
   "metadata": {},
   "outputs": [],
   "source": [
    "nwdc['permit_type'] = 'North West District Concessions'"
   ]
  },
  {
   "cell_type": "code",
   "execution_count": 257,
   "id": "3e4c2e22-605f-42fa-ab08-742144e0fbf9",
   "metadata": {},
   "outputs": [
    {
     "data": {
      "text/html": [
       "<div>\n",
       "<style scoped>\n",
       "    .dataframe tbody tr th:only-of-type {\n",
       "        vertical-align: middle;\n",
       "    }\n",
       "\n",
       "    .dataframe tbody tr th {\n",
       "        vertical-align: top;\n",
       "    }\n",
       "\n",
       "    .dataframe thead th {\n",
       "        text-align: right;\n",
       "    }\n",
       "</style>\n",
       "<table border=\"1\" class=\"dataframe\">\n",
       "  <thead>\n",
       "    <tr style=\"text-align: right;\">\n",
       "      <th></th>\n",
       "      <th>FID</th>\n",
       "      <th>OWNER</th>\n",
       "      <th>FOLIO_NO</th>\n",
       "      <th>SHORT_DESP</th>\n",
       "      <th>Shape__Area</th>\n",
       "      <th>Shape__Length</th>\n",
       "      <th>geometry</th>\n",
       "      <th>permit_type</th>\n",
       "    </tr>\n",
       "  </thead>\n",
       "  <tbody>\n",
       "    <tr>\n",
       "      <th>0</th>\n",
       "      <td>1</td>\n",
       "      <td>Ganshyam Mahase Sawmills Inc.</td>\n",
       "      <td>SFEP 01/19</td>\n",
       "      <td>Left Bank Kuribrong River,Right Bank Semang Ri...</td>\n",
       "      <td>7.005027e+08</td>\n",
       "      <td>179824.178254</td>\n",
       "      <td>POLYGON ((-59.48121 5.71543, -59.48109 5.71546...</td>\n",
       "      <td>North West District Concessions</td>\n",
       "    </tr>\n",
       "    <tr>\n",
       "      <th>1</th>\n",
       "      <td>2</td>\n",
       "      <td>Rong-An-Inc.</td>\n",
       "      <td>SFEP 01/22</td>\n",
       "      <td>LB Berbice,RB Essequibo R.</td>\n",
       "      <td>6.664673e+08</td>\n",
       "      <td>177088.107539</td>\n",
       "      <td>POLYGON ((-58.45612 4.18701, -58.45539 4.18708...</td>\n",
       "      <td>North West District Concessions</td>\n",
       "    </tr>\n",
       "  </tbody>\n",
       "</table>\n",
       "</div>"
      ],
      "text/plain": [
       "   FID                          OWNER    FOLIO_NO  \\\n",
       "0    1  Ganshyam Mahase Sawmills Inc.  SFEP 01/19   \n",
       "1    2                   Rong-An-Inc.  SFEP 01/22   \n",
       "\n",
       "                                          SHORT_DESP   Shape__Area  \\\n",
       "0  Left Bank Kuribrong River,Right Bank Semang Ri...  7.005027e+08   \n",
       "1                         LB Berbice,RB Essequibo R.  6.664673e+08   \n",
       "\n",
       "   Shape__Length                                           geometry  \\\n",
       "0  179824.178254  POLYGON ((-59.48121 5.71543, -59.48109 5.71546...   \n",
       "1  177088.107539  POLYGON ((-58.45612 4.18701, -58.45539 4.18708...   \n",
       "\n",
       "                       permit_type  \n",
       "0  North West District Concessions  \n",
       "1  North West District Concessions  "
      ]
     },
     "execution_count": 257,
     "metadata": {},
     "output_type": "execute_result"
    }
   ],
   "source": [
    "nwdc.head()"
   ]
  },
  {
   "cell_type": "code",
   "execution_count": 258,
   "id": "5b3c35c0-9a33-42f0-9b2b-759b847c28a5",
   "metadata": {},
   "outputs": [],
   "source": [
    "lc['permit_type'] = 'Large Concessions'"
   ]
  },
  {
   "cell_type": "code",
   "execution_count": 259,
   "id": "097feede-3a57-471c-8895-8878437cc9b1",
   "metadata": {},
   "outputs": [
    {
     "data": {
      "text/html": [
       "<div>\n",
       "<style scoped>\n",
       "    .dataframe tbody tr th:only-of-type {\n",
       "        vertical-align: middle;\n",
       "    }\n",
       "\n",
       "    .dataframe tbody tr th {\n",
       "        vertical-align: top;\n",
       "    }\n",
       "\n",
       "    .dataframe thead th {\n",
       "        text-align: right;\n",
       "    }\n",
       "</style>\n",
       "<table border=\"1\" class=\"dataframe\">\n",
       "  <thead>\n",
       "    <tr style=\"text-align: right;\">\n",
       "      <th></th>\n",
       "      <th>FID</th>\n",
       "      <th>OWNER</th>\n",
       "      <th>FOLIO_NO</th>\n",
       "      <th>SHORT_DESC</th>\n",
       "      <th>Shape__Area</th>\n",
       "      <th>Shape__Length</th>\n",
       "      <th>geometry</th>\n",
       "      <th>permit_type</th>\n",
       "    </tr>\n",
       "  </thead>\n",
       "  <tbody>\n",
       "    <tr>\n",
       "      <th>0</th>\n",
       "      <td>1</td>\n",
       "      <td>Rong-An-Inc</td>\n",
       "      <td>LC 01/21</td>\n",
       "      <td>LB Amakura R,LB Puruni R.</td>\n",
       "      <td>4.181429e+09</td>\n",
       "      <td>450094.145899</td>\n",
       "      <td>POLYGON ((-60.37174 6.94956, -60.37156 6.95022...</td>\n",
       "      <td>Large Concessions</td>\n",
       "    </tr>\n",
       "    <tr>\n",
       "      <th>1</th>\n",
       "      <td>2</td>\n",
       "      <td>A. Mazaharally &amp; Sons Ltd.</td>\n",
       "      <td>LC 06/85</td>\n",
       "      <td>RB Pakasaru R, RB Pomeroon R; RB Karani R;</td>\n",
       "      <td>6.682567e+08</td>\n",
       "      <td>148087.389180</td>\n",
       "      <td>POLYGON ((-58.94213 6.77683, -58.94234 6.7769,...</td>\n",
       "      <td>Large Concessions</td>\n",
       "    </tr>\n",
       "    <tr>\n",
       "      <th>2</th>\n",
       "      <td>3</td>\n",
       "      <td>A. Mazaharally &amp; Sons Ltd. (Mazaruni)</td>\n",
       "      <td>LC 09/85</td>\n",
       "      <td>RB Takutu R. LB Puruni R; LB Maz R;</td>\n",
       "      <td>9.282006e+08</td>\n",
       "      <td>163023.275175</td>\n",
       "      <td>POLYGON ((-59.00821 6.27714, -59.00482 6.27725...</td>\n",
       "      <td>Large Concessions</td>\n",
       "    </tr>\n",
       "    <tr>\n",
       "      <th>3</th>\n",
       "      <td>4</td>\n",
       "      <td>CPT Inc</td>\n",
       "      <td>LC 02/11</td>\n",
       "      <td>LB Cuyuni R,RB Pomeroon R.</td>\n",
       "      <td>2.679831e+08</td>\n",
       "      <td>91890.689627</td>\n",
       "      <td>POLYGON ((-59.16375 6.74223, -59.16531 6.74217...</td>\n",
       "      <td>Large Concessions</td>\n",
       "    </tr>\n",
       "    <tr>\n",
       "      <th>4</th>\n",
       "      <td>5</td>\n",
       "      <td>Demerara Timbers Ltd.</td>\n",
       "      <td>LC 02/91</td>\n",
       "      <td>LB Demerara R, RB Essequibo R</td>\n",
       "      <td>2.220429e+09</td>\n",
       "      <td>310750.331152</td>\n",
       "      <td>POLYGON ((-58.87347 5.29643, -58.87351 5.29643...</td>\n",
       "      <td>Large Concessions</td>\n",
       "    </tr>\n",
       "  </tbody>\n",
       "</table>\n",
       "</div>"
      ],
      "text/plain": [
       "   FID                                  OWNER  FOLIO_NO  \\\n",
       "0    1                            Rong-An-Inc  LC 01/21   \n",
       "1    2             A. Mazaharally & Sons Ltd.  LC 06/85   \n",
       "2    3  A. Mazaharally & Sons Ltd. (Mazaruni)  LC 09/85   \n",
       "3    4                                CPT Inc  LC 02/11   \n",
       "4    5                  Demerara Timbers Ltd.  LC 02/91   \n",
       "\n",
       "                                   SHORT_DESC   Shape__Area  Shape__Length  \\\n",
       "0                   LB Amakura R,LB Puruni R.  4.181429e+09  450094.145899   \n",
       "1  RB Pakasaru R, RB Pomeroon R; RB Karani R;  6.682567e+08  148087.389180   \n",
       "2         RB Takutu R. LB Puruni R; LB Maz R;  9.282006e+08  163023.275175   \n",
       "3                  LB Cuyuni R,RB Pomeroon R.  2.679831e+08   91890.689627   \n",
       "4               LB Demerara R, RB Essequibo R  2.220429e+09  310750.331152   \n",
       "\n",
       "                                            geometry        permit_type  \n",
       "0  POLYGON ((-60.37174 6.94956, -60.37156 6.95022...  Large Concessions  \n",
       "1  POLYGON ((-58.94213 6.77683, -58.94234 6.7769,...  Large Concessions  \n",
       "2  POLYGON ((-59.00821 6.27714, -59.00482 6.27725...  Large Concessions  \n",
       "3  POLYGON ((-59.16375 6.74223, -59.16531 6.74217...  Large Concessions  \n",
       "4  POLYGON ((-58.87347 5.29643, -58.87351 5.29643...  Large Concessions  "
      ]
     },
     "execution_count": 259,
     "metadata": {},
     "output_type": "execute_result"
    }
   ],
   "source": [
    "lc.head()"
   ]
  },
  {
   "cell_type": "code",
   "execution_count": 260,
   "id": "ebde7f72-c316-4a1d-928d-2d03c96e9a71",
   "metadata": {},
   "outputs": [],
   "source": [
    "ec['permit_type'] = 'Essequibo Concessions'"
   ]
  },
  {
   "cell_type": "code",
   "execution_count": 261,
   "id": "703072d2-6999-40c5-b261-21f57ed5ebef",
   "metadata": {},
   "outputs": [
    {
     "data": {
      "text/html": [
       "<div>\n",
       "<style scoped>\n",
       "    .dataframe tbody tr th:only-of-type {\n",
       "        vertical-align: middle;\n",
       "    }\n",
       "\n",
       "    .dataframe tbody tr th {\n",
       "        vertical-align: top;\n",
       "    }\n",
       "\n",
       "    .dataframe thead th {\n",
       "        text-align: right;\n",
       "    }\n",
       "</style>\n",
       "<table border=\"1\" class=\"dataframe\">\n",
       "  <thead>\n",
       "    <tr style=\"text-align: right;\">\n",
       "      <th></th>\n",
       "      <th>FID</th>\n",
       "      <th>OWNER</th>\n",
       "      <th>FOLIO__NO</th>\n",
       "      <th>SHORT_DESC</th>\n",
       "      <th>Shape__Area</th>\n",
       "      <th>Shape__Length</th>\n",
       "      <th>geometry</th>\n",
       "      <th>permit_type</th>\n",
       "    </tr>\n",
       "  </thead>\n",
       "  <tbody>\n",
       "    <tr>\n",
       "      <th>0</th>\n",
       "      <td>1</td>\n",
       "      <td>Leo Ramotar</td>\n",
       "      <td>Ess 26/89</td>\n",
       "      <td>RB.Supenaam River,LB.Aratak River, RB. Yariyar...</td>\n",
       "      <td>4.105571e+07</td>\n",
       "      <td>32368.139299</td>\n",
       "      <td>POLYGON ((-58.65784 6.91141, -58.65763 6.91155...</td>\n",
       "      <td>Essequibo Concessions</td>\n",
       "    </tr>\n",
       "    <tr>\n",
       "      <th>1</th>\n",
       "      <td>2</td>\n",
       "      <td>Caria-caria FPA</td>\n",
       "      <td>Ess 07/05</td>\n",
       "      <td>RB&amp;LB Akakarakuru; LB Ess R; LB Kuruduni R;</td>\n",
       "      <td>1.929604e+07</td>\n",
       "      <td>20709.152809</td>\n",
       "      <td>POLYGON ((-58.60147 6.88512, -58.60049 6.88447...</td>\n",
       "      <td>Essequibo Concessions</td>\n",
       "    </tr>\n",
       "    <tr>\n",
       "      <th>2</th>\n",
       "      <td>3</td>\n",
       "      <td>Merril Flemming</td>\n",
       "      <td>Ess 14/05</td>\n",
       "      <td>RB Struggle Ck; RB Konawaruk R:</td>\n",
       "      <td>1.954162e+07</td>\n",
       "      <td>22418.886773</td>\n",
       "      <td>POLYGON ((-59.16151 5.08484, -59.16073 5.08572...</td>\n",
       "      <td>Essequibo Concessions</td>\n",
       "    </tr>\n",
       "    <tr>\n",
       "      <th>3</th>\n",
       "      <td>4</td>\n",
       "      <td>Aurora SLA</td>\n",
       "      <td>Ess 05/03</td>\n",
       "      <td>RB Aripiako Ck; LB Komira Ck;</td>\n",
       "      <td>2.368278e+07</td>\n",
       "      <td>19889.201288</td>\n",
       "      <td>POLYGON ((-58.74844 6.99864, -58.74862 6.99824...</td>\n",
       "      <td>Essequibo Concessions</td>\n",
       "    </tr>\n",
       "    <tr>\n",
       "      <th>4</th>\n",
       "      <td>5</td>\n",
       "      <td>Roopan Ramotar</td>\n",
       "      <td>Ess 13/04</td>\n",
       "      <td>LB Supenaam Riv; LB Pakasaru Riv; RB Yesekabre...</td>\n",
       "      <td>8.015892e+07</td>\n",
       "      <td>50831.330041</td>\n",
       "      <td>POLYGON ((-58.80857 6.94625, -58.80843 6.9471,...</td>\n",
       "      <td>Essequibo Concessions</td>\n",
       "    </tr>\n",
       "  </tbody>\n",
       "</table>\n",
       "</div>"
      ],
      "text/plain": [
       "   FID            OWNER  FOLIO__NO  \\\n",
       "0    1      Leo Ramotar  Ess 26/89   \n",
       "1    2  Caria-caria FPA  Ess 07/05   \n",
       "2    3  Merril Flemming  Ess 14/05   \n",
       "3    4       Aurora SLA  Ess 05/03   \n",
       "4    5   Roopan Ramotar  Ess 13/04   \n",
       "\n",
       "                                          SHORT_DESC   Shape__Area  \\\n",
       "0  RB.Supenaam River,LB.Aratak River, RB. Yariyar...  4.105571e+07   \n",
       "1        RB&LB Akakarakuru; LB Ess R; LB Kuruduni R;  1.929604e+07   \n",
       "2                    RB Struggle Ck; RB Konawaruk R:  1.954162e+07   \n",
       "3                      RB Aripiako Ck; LB Komira Ck;  2.368278e+07   \n",
       "4  LB Supenaam Riv; LB Pakasaru Riv; RB Yesekabre...  8.015892e+07   \n",
       "\n",
       "   Shape__Length                                           geometry  \\\n",
       "0   32368.139299  POLYGON ((-58.65784 6.91141, -58.65763 6.91155...   \n",
       "1   20709.152809  POLYGON ((-58.60147 6.88512, -58.60049 6.88447...   \n",
       "2   22418.886773  POLYGON ((-59.16151 5.08484, -59.16073 5.08572...   \n",
       "3   19889.201288  POLYGON ((-58.74844 6.99864, -58.74862 6.99824...   \n",
       "4   50831.330041  POLYGON ((-58.80857 6.94625, -58.80843 6.9471,...   \n",
       "\n",
       "             permit_type  \n",
       "0  Essequibo Concessions  \n",
       "1  Essequibo Concessions  \n",
       "2  Essequibo Concessions  \n",
       "3  Essequibo Concessions  \n",
       "4  Essequibo Concessions  "
      ]
     },
     "execution_count": 261,
     "metadata": {},
     "output_type": "execute_result"
    }
   ],
   "source": [
    "ec.head()"
   ]
  },
  {
   "cell_type": "code",
   "execution_count": 262,
   "id": "d8e1f344-f19d-436e-a6f2-0cafa6986a2c",
   "metadata": {},
   "outputs": [],
   "source": [
    "dc['permit_type'] = 'Demerara Concessions'"
   ]
  },
  {
   "cell_type": "code",
   "execution_count": 263,
   "id": "7e011124-7ca4-4b6e-a385-de874f2a739a",
   "metadata": {},
   "outputs": [
    {
     "data": {
      "text/html": [
       "<div>\n",
       "<style scoped>\n",
       "    .dataframe tbody tr th:only-of-type {\n",
       "        vertical-align: middle;\n",
       "    }\n",
       "\n",
       "    .dataframe tbody tr th {\n",
       "        vertical-align: top;\n",
       "    }\n",
       "\n",
       "    .dataframe thead th {\n",
       "        text-align: right;\n",
       "    }\n",
       "</style>\n",
       "<table border=\"1\" class=\"dataframe\">\n",
       "  <thead>\n",
       "    <tr style=\"text-align: right;\">\n",
       "      <th></th>\n",
       "      <th>FID</th>\n",
       "      <th>OWNER</th>\n",
       "      <th>FOLIO_NO_</th>\n",
       "      <th>SHORT_DESC</th>\n",
       "      <th>Shape__Area</th>\n",
       "      <th>Shape__Length</th>\n",
       "      <th>geometry</th>\n",
       "      <th>permit_type</th>\n",
       "    </tr>\n",
       "  </thead>\n",
       "  <tbody>\n",
       "    <tr>\n",
       "      <th>0</th>\n",
       "      <td>1</td>\n",
       "      <td>Bhagwandin Forestry Products</td>\n",
       "      <td>Dem 05/21</td>\n",
       "      <td>Left Bank Hubabu Creek</td>\n",
       "      <td>1.449123e+07</td>\n",
       "      <td>19210.228668</td>\n",
       "      <td>POLYGON ((-58.31398 6.72161, -58.31378 6.72151...</td>\n",
       "      <td>Demerara Concessions</td>\n",
       "    </tr>\n",
       "    <tr>\n",
       "      <th>1</th>\n",
       "      <td>2</td>\n",
       "      <td>Cleopatra Famey</td>\n",
       "      <td>Dem 01/04</td>\n",
       "      <td>Left bank Essequibo River:</td>\n",
       "      <td>1.921002e+07</td>\n",
       "      <td>20001.742435</td>\n",
       "      <td>POLYGON ((-58.55675 5.80014, -58.55619 5.7999,...</td>\n",
       "      <td>Demerara Concessions</td>\n",
       "    </tr>\n",
       "    <tr>\n",
       "      <th>2</th>\n",
       "      <td>3</td>\n",
       "      <td>Linear Woods</td>\n",
       "      <td>Dem 111/90</td>\n",
       "      <td>R B Demer R, L B White Ck</td>\n",
       "      <td>6.857017e+07</td>\n",
       "      <td>50012.827801</td>\n",
       "      <td>POLYGON ((-58.52746 5.39603, -58.52718 5.39596...</td>\n",
       "      <td>Demerara Concessions</td>\n",
       "    </tr>\n",
       "    <tr>\n",
       "      <th>3</th>\n",
       "      <td>4</td>\n",
       "      <td>Ramesh Singh Timbers</td>\n",
       "      <td>Dem 03/22</td>\n",
       "      <td>L B Demer R, L B Kushekabra Ck, R B Sibaruni Ck</td>\n",
       "      <td>4.455336e+07</td>\n",
       "      <td>38299.259111</td>\n",
       "      <td>POLYGON ((-58.42766 5.48861, -58.42734 5.48837...</td>\n",
       "      <td>Demerara Concessions</td>\n",
       "    </tr>\n",
       "    <tr>\n",
       "      <th>4</th>\n",
       "      <td>5</td>\n",
       "      <td>Anil Manikchand</td>\n",
       "      <td>Dem 09/02</td>\n",
       "      <td>L B Abary R, L B Taurakulli R</td>\n",
       "      <td>5.676310e+07</td>\n",
       "      <td>44464.338920</td>\n",
       "      <td>POLYGON ((-57.84624 6.00311, -57.82849 5.99573...</td>\n",
       "      <td>Demerara Concessions</td>\n",
       "    </tr>\n",
       "  </tbody>\n",
       "</table>\n",
       "</div>"
      ],
      "text/plain": [
       "   FID                         OWNER   FOLIO_NO_  \\\n",
       "0    1  Bhagwandin Forestry Products   Dem 05/21   \n",
       "1    2               Cleopatra Famey   Dem 01/04   \n",
       "2    3                  Linear Woods  Dem 111/90   \n",
       "3    4          Ramesh Singh Timbers   Dem 03/22   \n",
       "4    5               Anil Manikchand   Dem 09/02   \n",
       "\n",
       "                                        SHORT_DESC   Shape__Area  \\\n",
       "0                           Left Bank Hubabu Creek  1.449123e+07   \n",
       "1                       Left bank Essequibo River:  1.921002e+07   \n",
       "2                        R B Demer R, L B White Ck  6.857017e+07   \n",
       "3  L B Demer R, L B Kushekabra Ck, R B Sibaruni Ck  4.455336e+07   \n",
       "4                    L B Abary R, L B Taurakulli R  5.676310e+07   \n",
       "\n",
       "   Shape__Length                                           geometry  \\\n",
       "0   19210.228668  POLYGON ((-58.31398 6.72161, -58.31378 6.72151...   \n",
       "1   20001.742435  POLYGON ((-58.55675 5.80014, -58.55619 5.7999,...   \n",
       "2   50012.827801  POLYGON ((-58.52746 5.39603, -58.52718 5.39596...   \n",
       "3   38299.259111  POLYGON ((-58.42766 5.48861, -58.42734 5.48837...   \n",
       "4   44464.338920  POLYGON ((-57.84624 6.00311, -57.82849 5.99573...   \n",
       "\n",
       "            permit_type  \n",
       "0  Demerara Concessions  \n",
       "1  Demerara Concessions  \n",
       "2  Demerara Concessions  \n",
       "3  Demerara Concessions  \n",
       "4  Demerara Concessions  "
      ]
     },
     "execution_count": 263,
     "metadata": {},
     "output_type": "execute_result"
    }
   ],
   "source": [
    "dc.head()"
   ]
  },
  {
   "cell_type": "code",
   "execution_count": 264,
   "id": "46b2be99-79e4-4db1-b99b-0d459badef89",
   "metadata": {},
   "outputs": [],
   "source": [
    "bc['permit_type'] = 'Berbice Concessions'"
   ]
  },
  {
   "cell_type": "code",
   "execution_count": 265,
   "id": "08582907-04ac-4260-9617-fba1ce4d586e",
   "metadata": {},
   "outputs": [
    {
     "data": {
      "text/html": [
       "<div>\n",
       "<style scoped>\n",
       "    .dataframe tbody tr th:only-of-type {\n",
       "        vertical-align: middle;\n",
       "    }\n",
       "\n",
       "    .dataframe tbody tr th {\n",
       "        vertical-align: top;\n",
       "    }\n",
       "\n",
       "    .dataframe thead th {\n",
       "        text-align: right;\n",
       "    }\n",
       "</style>\n",
       "<table border=\"1\" class=\"dataframe\">\n",
       "  <thead>\n",
       "    <tr style=\"text-align: right;\">\n",
       "      <th></th>\n",
       "      <th>FID</th>\n",
       "      <th>OWNER</th>\n",
       "      <th>FOLIO_NO_</th>\n",
       "      <th>SHORT_DESC</th>\n",
       "      <th>Shape__Area</th>\n",
       "      <th>Shape__Length</th>\n",
       "      <th>geometry</th>\n",
       "      <th>permit_type</th>\n",
       "    </tr>\n",
       "  </thead>\n",
       "  <tbody>\n",
       "    <tr>\n",
       "      <th>0</th>\n",
       "      <td>1</td>\n",
       "      <td>Shawn LaFleur</td>\n",
       "      <td>Bce 05/02</td>\n",
       "      <td>RB Canje R, RB Ikuruwa R, LB Crossowa Ck.</td>\n",
       "      <td>1.960384e+07</td>\n",
       "      <td>21417.238214</td>\n",
       "      <td>POLYGON ((-57.39263 5.60669, -57.3923 5.60673,...</td>\n",
       "      <td>Berbice Concessions</td>\n",
       "    </tr>\n",
       "    <tr>\n",
       "      <th>1</th>\n",
       "      <td>2</td>\n",
       "      <td>Amaco Inc</td>\n",
       "      <td>Bce 16/18</td>\n",
       "      <td>RB Paidaka R, Western side UNAMCO road</td>\n",
       "      <td>5.628159e+07</td>\n",
       "      <td>38893.202654</td>\n",
       "      <td>POLYGON ((-58.33774 5.02834, -58.3377 5.02835,...</td>\n",
       "      <td>Berbice Concessions</td>\n",
       "    </tr>\n",
       "    <tr>\n",
       "      <th>2</th>\n",
       "      <td>3</td>\n",
       "      <td>Upper Berbice F&amp;APA</td>\n",
       "      <td>Bce 01/05</td>\n",
       "      <td>RB Kerimeru R, Western side UNAMCO rd.</td>\n",
       "      <td>5.308755e+07</td>\n",
       "      <td>43650.988587</td>\n",
       "      <td>POLYGON ((-58.36047 5.07163, -58.36048 5.07166...</td>\n",
       "      <td>Berbice Concessions</td>\n",
       "    </tr>\n",
       "    <tr>\n",
       "      <th>3</th>\n",
       "      <td>4</td>\n",
       "      <td>Rahaman Razack</td>\n",
       "      <td>Bce 05/05</td>\n",
       "      <td>LB Corentyne Riv; RB Little Tomehri Riv;</td>\n",
       "      <td>8.521090e+07</td>\n",
       "      <td>42771.583865</td>\n",
       "      <td>POLYGON ((-57.92539 4.8044, -57.92503 4.80319,...</td>\n",
       "      <td>Berbice Concessions</td>\n",
       "    </tr>\n",
       "    <tr>\n",
       "      <th>4</th>\n",
       "      <td>5</td>\n",
       "      <td>R Razack Business Ent.</td>\n",
       "      <td>Bce 02/13</td>\n",
       "      <td>LB Corentyne River</td>\n",
       "      <td>2.750232e+07</td>\n",
       "      <td>24221.691503</td>\n",
       "      <td>POLYGON ((-57.44677 4.99708, -57.4468 4.99708,...</td>\n",
       "      <td>Berbice Concessions</td>\n",
       "    </tr>\n",
       "  </tbody>\n",
       "</table>\n",
       "</div>"
      ],
      "text/plain": [
       "   FID                   OWNER  FOLIO_NO_  \\\n",
       "0    1           Shawn LaFleur  Bce 05/02   \n",
       "1    2               Amaco Inc  Bce 16/18   \n",
       "2    3     Upper Berbice F&APA  Bce 01/05   \n",
       "3    4          Rahaman Razack  Bce 05/05   \n",
       "4    5  R Razack Business Ent.  Bce 02/13   \n",
       "\n",
       "                                  SHORT_DESC   Shape__Area  Shape__Length  \\\n",
       "0  RB Canje R, RB Ikuruwa R, LB Crossowa Ck.  1.960384e+07   21417.238214   \n",
       "1     RB Paidaka R, Western side UNAMCO road  5.628159e+07   38893.202654   \n",
       "2     RB Kerimeru R, Western side UNAMCO rd.  5.308755e+07   43650.988587   \n",
       "3   LB Corentyne Riv; RB Little Tomehri Riv;  8.521090e+07   42771.583865   \n",
       "4                         LB Corentyne River  2.750232e+07   24221.691503   \n",
       "\n",
       "                                            geometry          permit_type  \n",
       "0  POLYGON ((-57.39263 5.60669, -57.3923 5.60673,...  Berbice Concessions  \n",
       "1  POLYGON ((-58.33774 5.02834, -58.3377 5.02835,...  Berbice Concessions  \n",
       "2  POLYGON ((-58.36047 5.07163, -58.36048 5.07166...  Berbice Concessions  \n",
       "3  POLYGON ((-57.92539 4.8044, -57.92503 4.80319,...  Berbice Concessions  \n",
       "4  POLYGON ((-57.44677 4.99708, -57.4468 4.99708,...  Berbice Concessions  "
      ]
     },
     "execution_count": 265,
     "metadata": {},
     "output_type": "execute_result"
    }
   ],
   "source": [
    "bc.head()"
   ]
  },
  {
   "cell_type": "markdown",
   "id": "5ee7e011-65c0-434e-96c0-4b18aa345ef9",
   "metadata": {},
   "source": [
    "## Cleaning column names"
   ]
  },
  {
   "cell_type": "code",
   "execution_count": 266,
   "id": "0789544c-27a0-4f99-b09e-93ce27cfd328",
   "metadata": {},
   "outputs": [
    {
     "data": {
      "text/html": [
       "<div>\n",
       "<style scoped>\n",
       "    .dataframe tbody tr th:only-of-type {\n",
       "        vertical-align: middle;\n",
       "    }\n",
       "\n",
       "    .dataframe tbody tr th {\n",
       "        vertical-align: top;\n",
       "    }\n",
       "\n",
       "    .dataframe thead th {\n",
       "        text-align: right;\n",
       "    }\n",
       "</style>\n",
       "<table border=\"1\" class=\"dataframe\">\n",
       "  <thead>\n",
       "    <tr style=\"text-align: right;\">\n",
       "      <th></th>\n",
       "      <th>FID</th>\n",
       "      <th>OWNER</th>\n",
       "      <th>FOLIO_NO</th>\n",
       "      <th>SHORT_DESP</th>\n",
       "      <th>Shape__Area</th>\n",
       "      <th>Shape__Length</th>\n",
       "      <th>geometry</th>\n",
       "      <th>permit_type</th>\n",
       "    </tr>\n",
       "  </thead>\n",
       "  <tbody>\n",
       "    <tr>\n",
       "      <th>0</th>\n",
       "      <td>1</td>\n",
       "      <td>Ganshyam Mahase Sawmills Inc.</td>\n",
       "      <td>SFEP 01/19</td>\n",
       "      <td>Left Bank Kuribrong River,Right Bank Semang Ri...</td>\n",
       "      <td>7.005027e+08</td>\n",
       "      <td>179824.178254</td>\n",
       "      <td>POLYGON ((-59.48121 5.71543, -59.48109 5.71546...</td>\n",
       "      <td>State Forest Exploratory Permits</td>\n",
       "    </tr>\n",
       "    <tr>\n",
       "      <th>1</th>\n",
       "      <td>2</td>\n",
       "      <td>Rong-An-Inc.</td>\n",
       "      <td>SFEP 01/22</td>\n",
       "      <td>LB Berbice,RB Essequibo R.</td>\n",
       "      <td>6.664673e+08</td>\n",
       "      <td>177088.107539</td>\n",
       "      <td>POLYGON ((-58.45612 4.18701, -58.45539 4.18708...</td>\n",
       "      <td>State Forest Exploratory Permits</td>\n",
       "    </tr>\n",
       "  </tbody>\n",
       "</table>\n",
       "</div>"
      ],
      "text/plain": [
       "   FID                          OWNER    FOLIO_NO  \\\n",
       "0    1  Ganshyam Mahase Sawmills Inc.  SFEP 01/19   \n",
       "1    2                   Rong-An-Inc.  SFEP 01/22   \n",
       "\n",
       "                                          SHORT_DESP   Shape__Area  \\\n",
       "0  Left Bank Kuribrong River,Right Bank Semang Ri...  7.005027e+08   \n",
       "1                         LB Berbice,RB Essequibo R.  6.664673e+08   \n",
       "\n",
       "   Shape__Length                                           geometry  \\\n",
       "0  179824.178254  POLYGON ((-59.48121 5.71543, -59.48109 5.71546...   \n",
       "1  177088.107539  POLYGON ((-58.45612 4.18701, -58.45539 4.18708...   \n",
       "\n",
       "                        permit_type  \n",
       "0  State Forest Exploratory Permits  \n",
       "1  State Forest Exploratory Permits  "
      ]
     },
     "execution_count": 266,
     "metadata": {},
     "output_type": "execute_result"
    }
   ],
   "source": [
    "sfep"
   ]
  },
  {
   "cell_type": "code",
   "execution_count": 267,
   "id": "360ba2d6-a84d-4e16-9ddd-1aa97e0ac2b5",
   "metadata": {},
   "outputs": [
    {
     "name": "stdout",
     "output_type": "stream",
     "text": [
      "['FID', 'OWNER', 'FOLIO_NO', 'SHORT_DESP', 'Shape__Area', 'Shape__Length', 'geometry', 'permit_type']\n"
     ]
    }
   ],
   "source": [
    "print(sfep.columns.tolist())"
   ]
  },
  {
   "cell_type": "code",
   "execution_count": 268,
   "id": "d24a5477-2b74-4ae8-ac95-3688351afc9b",
   "metadata": {},
   "outputs": [
    {
     "name": "stdout",
     "output_type": "stream",
     "text": [
      "['FID', 'OWNER', 'FOLIO_NO', 'SHORT_DESP', 'Shape__Area', 'Shape__Length', 'geometry', 'permit_type']\n"
     ]
    }
   ],
   "source": [
    "print(nwdc.columns.tolist())"
   ]
  },
  {
   "cell_type": "code",
   "execution_count": 269,
   "id": "0bdff461-586b-40bc-9535-14c6f5db9284",
   "metadata": {},
   "outputs": [
    {
     "name": "stdout",
     "output_type": "stream",
     "text": [
      "['FID', 'OWNER', 'FOLIO_NO', 'SHORT_DESC', 'Shape__Area', 'Shape__Length', 'geometry', 'permit_type']\n"
     ]
    }
   ],
   "source": [
    "print(lc.columns.tolist())"
   ]
  },
  {
   "cell_type": "code",
   "execution_count": 270,
   "id": "826fb32d-e00d-4afd-9f1f-b23d955a3a0c",
   "metadata": {},
   "outputs": [
    {
     "name": "stdout",
     "output_type": "stream",
     "text": [
      "['FID', 'OWNER', 'FOLIO__NO', 'SHORT_DESC', 'Shape__Area', 'Shape__Length', 'geometry', 'permit_type']\n"
     ]
    }
   ],
   "source": [
    "print(ec.columns.tolist())"
   ]
  },
  {
   "cell_type": "code",
   "execution_count": 271,
   "id": "3ff0d648-1453-4dd3-b433-23094aad6c46",
   "metadata": {},
   "outputs": [
    {
     "name": "stdout",
     "output_type": "stream",
     "text": [
      "['FID', 'OWNER', 'FOLIO_NO_', 'SHORT_DESC', 'Shape__Area', 'Shape__Length', 'geometry', 'permit_type']\n"
     ]
    }
   ],
   "source": [
    "print(dc.columns.tolist())"
   ]
  },
  {
   "cell_type": "code",
   "execution_count": 272,
   "id": "6a75a7b7-a248-4a6b-ac70-6f4b59a8885d",
   "metadata": {},
   "outputs": [
    {
     "name": "stdout",
     "output_type": "stream",
     "text": [
      "['FID', 'OWNER', 'FOLIO_NO_', 'SHORT_DESC', 'Shape__Area', 'Shape__Length', 'geometry', 'permit_type']\n"
     ]
    }
   ],
   "source": [
    "print(bc.columns.tolist())"
   ]
  },
  {
   "cell_type": "markdown",
   "id": "b1981ac0-f5b9-4f48-a0d0-7bcf14cb1c8f",
   "metadata": {},
   "source": [
    "## Merging concessions dataframes"
   ]
  },
  {
   "cell_type": "code",
   "execution_count": 273,
   "id": "bee833f8-8139-49a4-b186-3c5c91376932",
   "metadata": {},
   "outputs": [],
   "source": [
    "# Rename columns consistently across all DataFrames\n",
    "column_renames = {\n",
    "    'FOLIO_NO1': 'FOLIO_NO',\n",
    "    'FOLIO__NO': 'FOLIO_NO',\n",
    "    'FOLIO_NO_': 'FOLIO_NO',\n",
    "    'SHORT_DESP': 'SHORT_DESC',\n",
    "    'Shape__Area': 'Shape_Area',\n",
    "    'Shape__Length': 'Shape_Length'\n",
    "}\n",
    "\n",
    "# Apply to each DataFrame\n",
    "sfep = sfep.rename(columns=column_renames)\n",
    "nwdc = nwdc.rename(columns=column_renames)\n",
    "lc   = lc.rename(columns=column_renames)\n",
    "ec   = ec.rename(columns=column_renames)\n",
    "dc   = dc.rename(columns=column_renames)\n",
    "bc   = bc.rename(columns=column_renames)"
   ]
  },
  {
   "cell_type": "code",
   "execution_count": 275,
   "id": "43fc43b9-5880-437a-aa31-695c2f8a552f",
   "metadata": {},
   "outputs": [],
   "source": [
    "import pandas as pd"
   ]
  },
  {
   "cell_type": "code",
   "execution_count": 278,
   "id": "b3e930b3-dc01-4c3f-baa2-32eb935fa59e",
   "metadata": {},
   "outputs": [],
   "source": [
    "pd.set_option('display.float_format', '{:,.0f}'.format)"
   ]
  },
  {
   "cell_type": "code",
   "execution_count": 279,
   "id": "9ec1ec56-f4c7-4f16-8514-23543a789296",
   "metadata": {},
   "outputs": [],
   "source": [
    "merged_concessions = pd.concat([sfep, nwdc, lc, ec, dc, bc], ignore_index=True)"
   ]
  },
  {
   "cell_type": "code",
   "execution_count": 280,
   "id": "d80fd96b-88ab-477e-ac41-ab19c28bc725",
   "metadata": {},
   "outputs": [
    {
     "data": {
      "text/html": [
       "<div>\n",
       "<style scoped>\n",
       "    .dataframe tbody tr th:only-of-type {\n",
       "        vertical-align: middle;\n",
       "    }\n",
       "\n",
       "    .dataframe tbody tr th {\n",
       "        vertical-align: top;\n",
       "    }\n",
       "\n",
       "    .dataframe thead th {\n",
       "        text-align: right;\n",
       "    }\n",
       "</style>\n",
       "<table border=\"1\" class=\"dataframe\">\n",
       "  <thead>\n",
       "    <tr style=\"text-align: right;\">\n",
       "      <th></th>\n",
       "      <th>FID</th>\n",
       "      <th>OWNER</th>\n",
       "      <th>FOLIO_NO</th>\n",
       "      <th>SHORT_DESC</th>\n",
       "      <th>Shape_Area</th>\n",
       "      <th>Shape_Length</th>\n",
       "      <th>geometry</th>\n",
       "      <th>permit_type</th>\n",
       "    </tr>\n",
       "  </thead>\n",
       "  <tbody>\n",
       "    <tr>\n",
       "      <th>0</th>\n",
       "      <td>1</td>\n",
       "      <td>Ganshyam Mahase Sawmills Inc.</td>\n",
       "      <td>SFEP 01/19</td>\n",
       "      <td>Left Bank Kuribrong River,Right Bank Semang Ri...</td>\n",
       "      <td>700,502,673</td>\n",
       "      <td>179,824</td>\n",
       "      <td>POLYGON ((-59.48121 5.71543, -59.48109 5.71546...</td>\n",
       "      <td>State Forest Exploratory Permits</td>\n",
       "    </tr>\n",
       "    <tr>\n",
       "      <th>1</th>\n",
       "      <td>2</td>\n",
       "      <td>Rong-An-Inc.</td>\n",
       "      <td>SFEP 01/22</td>\n",
       "      <td>LB Berbice,RB Essequibo R.</td>\n",
       "      <td>666,467,287</td>\n",
       "      <td>177,088</td>\n",
       "      <td>POLYGON ((-58.45612 4.18701, -58.45539 4.18708...</td>\n",
       "      <td>State Forest Exploratory Permits</td>\n",
       "    </tr>\n",
       "    <tr>\n",
       "      <th>2</th>\n",
       "      <td>1</td>\n",
       "      <td>Ganshyam Mahase Sawmills Inc.</td>\n",
       "      <td>SFEP 01/19</td>\n",
       "      <td>Left Bank Kuribrong River,Right Bank Semang Ri...</td>\n",
       "      <td>700,502,673</td>\n",
       "      <td>179,824</td>\n",
       "      <td>POLYGON ((-59.48121 5.71543, -59.48109 5.71546...</td>\n",
       "      <td>North West District Concessions</td>\n",
       "    </tr>\n",
       "    <tr>\n",
       "      <th>3</th>\n",
       "      <td>2</td>\n",
       "      <td>Rong-An-Inc.</td>\n",
       "      <td>SFEP 01/22</td>\n",
       "      <td>LB Berbice,RB Essequibo R.</td>\n",
       "      <td>666,467,287</td>\n",
       "      <td>177,088</td>\n",
       "      <td>POLYGON ((-58.45612 4.18701, -58.45539 4.18708...</td>\n",
       "      <td>North West District Concessions</td>\n",
       "    </tr>\n",
       "    <tr>\n",
       "      <th>4</th>\n",
       "      <td>1</td>\n",
       "      <td>Rong-An-Inc</td>\n",
       "      <td>LC 01/21</td>\n",
       "      <td>LB Amakura R,LB Puruni R.</td>\n",
       "      <td>4,181,429,076</td>\n",
       "      <td>450,094</td>\n",
       "      <td>POLYGON ((-60.37174 6.94956, -60.37156 6.95022...</td>\n",
       "      <td>Large Concessions</td>\n",
       "    </tr>\n",
       "    <tr>\n",
       "      <th>...</th>\n",
       "      <td>...</td>\n",
       "      <td>...</td>\n",
       "      <td>...</td>\n",
       "      <td>...</td>\n",
       "      <td>...</td>\n",
       "      <td>...</td>\n",
       "      <td>...</td>\n",
       "      <td>...</td>\n",
       "    </tr>\n",
       "    <tr>\n",
       "      <th>581</th>\n",
       "      <td>163</td>\n",
       "      <td>Orella Loggers Association</td>\n",
       "      <td>Bce 04/22</td>\n",
       "      <td>Right Bank Mibirikuru, Left Bank Ikuruwa River</td>\n",
       "      <td>54,034,076</td>\n",
       "      <td>33,672</td>\n",
       "      <td>POLYGON ((-57.49686 5.49707, -57.49683 5.49723...</td>\n",
       "      <td>Berbice Concessions</td>\n",
       "    </tr>\n",
       "    <tr>\n",
       "      <th>582</th>\n",
       "      <td>164</td>\n",
       "      <td>Sunil Singh</td>\n",
       "      <td>Bce 05/22</td>\n",
       "      <td>Right &amp; LB Massiparu creek, RB Teteruma CK</td>\n",
       "      <td>32,643,881</td>\n",
       "      <td>43,584</td>\n",
       "      <td>POLYGON ((-57.79112 5.32859, -57.79011 5.32862...</td>\n",
       "      <td>Berbice Concessions</td>\n",
       "    </tr>\n",
       "    <tr>\n",
       "      <th>583</th>\n",
       "      <td>165</td>\n",
       "      <td>Nalini Besasir</td>\n",
       "      <td>Bce 01/23</td>\n",
       "      <td>Lb Wikki Rv, Rb Parakwa Cr, Eastern Side Wikki...</td>\n",
       "      <td>21,691,636</td>\n",
       "      <td>22,467</td>\n",
       "      <td>POLYGON ((-57.85991 5.46492, -57.86021 5.46532...</td>\n",
       "      <td>Berbice Concessions</td>\n",
       "    </tr>\n",
       "    <tr>\n",
       "      <th>584</th>\n",
       "      <td>166</td>\n",
       "      <td>Mohamed S. Zaladin</td>\n",
       "      <td>Bce 02/23</td>\n",
       "      <td>LB Corentyne River, LB Manakobi River, South-e...</td>\n",
       "      <td>30,115,232</td>\n",
       "      <td>33,585</td>\n",
       "      <td>POLYGON ((-57.3189 5.05745, -57.31865 5.05746,...</td>\n",
       "      <td>Berbice Concessions</td>\n",
       "    </tr>\n",
       "    <tr>\n",
       "      <th>585</th>\n",
       "      <td>167</td>\n",
       "      <td>Michael Angelo Chichester</td>\n",
       "      <td>Bce 03/23</td>\n",
       "      <td>LB Corentyne River, RB Wallaba Creek:(46 SW, 5...</td>\n",
       "      <td>9,246,127</td>\n",
       "      <td>25,865</td>\n",
       "      <td>POLYGON ((-57.85953 4.98608, -57.86034 4.98618...</td>\n",
       "      <td>Berbice Concessions</td>\n",
       "    </tr>\n",
       "  </tbody>\n",
       "</table>\n",
       "<p>586 rows × 8 columns</p>\n",
       "</div>"
      ],
      "text/plain": [
       "     FID                          OWNER    FOLIO_NO  \\\n",
       "0      1  Ganshyam Mahase Sawmills Inc.  SFEP 01/19   \n",
       "1      2                   Rong-An-Inc.  SFEP 01/22   \n",
       "2      1  Ganshyam Mahase Sawmills Inc.  SFEP 01/19   \n",
       "3      2                   Rong-An-Inc.  SFEP 01/22   \n",
       "4      1                    Rong-An-Inc    LC 01/21   \n",
       "..   ...                            ...         ...   \n",
       "581  163     Orella Loggers Association   Bce 04/22   \n",
       "582  164                    Sunil Singh   Bce 05/22   \n",
       "583  165                 Nalini Besasir   Bce 01/23   \n",
       "584  166             Mohamed S. Zaladin   Bce 02/23   \n",
       "585  167      Michael Angelo Chichester   Bce 03/23   \n",
       "\n",
       "                                            SHORT_DESC    Shape_Area  \\\n",
       "0    Left Bank Kuribrong River,Right Bank Semang Ri...   700,502,673   \n",
       "1                           LB Berbice,RB Essequibo R.   666,467,287   \n",
       "2    Left Bank Kuribrong River,Right Bank Semang Ri...   700,502,673   \n",
       "3                           LB Berbice,RB Essequibo R.   666,467,287   \n",
       "4                            LB Amakura R,LB Puruni R. 4,181,429,076   \n",
       "..                                                 ...           ...   \n",
       "581     Right Bank Mibirikuru, Left Bank Ikuruwa River    54,034,076   \n",
       "582         Right & LB Massiparu creek, RB Teteruma CK    32,643,881   \n",
       "583  Lb Wikki Rv, Rb Parakwa Cr, Eastern Side Wikki...    21,691,636   \n",
       "584  LB Corentyne River, LB Manakobi River, South-e...    30,115,232   \n",
       "585  LB Corentyne River, RB Wallaba Creek:(46 SW, 5...     9,246,127   \n",
       "\n",
       "     Shape_Length                                           geometry  \\\n",
       "0         179,824  POLYGON ((-59.48121 5.71543, -59.48109 5.71546...   \n",
       "1         177,088  POLYGON ((-58.45612 4.18701, -58.45539 4.18708...   \n",
       "2         179,824  POLYGON ((-59.48121 5.71543, -59.48109 5.71546...   \n",
       "3         177,088  POLYGON ((-58.45612 4.18701, -58.45539 4.18708...   \n",
       "4         450,094  POLYGON ((-60.37174 6.94956, -60.37156 6.95022...   \n",
       "..            ...                                                ...   \n",
       "581        33,672  POLYGON ((-57.49686 5.49707, -57.49683 5.49723...   \n",
       "582        43,584  POLYGON ((-57.79112 5.32859, -57.79011 5.32862...   \n",
       "583        22,467  POLYGON ((-57.85991 5.46492, -57.86021 5.46532...   \n",
       "584        33,585  POLYGON ((-57.3189 5.05745, -57.31865 5.05746,...   \n",
       "585        25,865  POLYGON ((-57.85953 4.98608, -57.86034 4.98618...   \n",
       "\n",
       "                          permit_type  \n",
       "0    State Forest Exploratory Permits  \n",
       "1    State Forest Exploratory Permits  \n",
       "2     North West District Concessions  \n",
       "3     North West District Concessions  \n",
       "4                   Large Concessions  \n",
       "..                                ...  \n",
       "581               Berbice Concessions  \n",
       "582               Berbice Concessions  \n",
       "583               Berbice Concessions  \n",
       "584               Berbice Concessions  \n",
       "585               Berbice Concessions  \n",
       "\n",
       "[586 rows x 8 columns]"
      ]
     },
     "execution_count": 280,
     "metadata": {},
     "output_type": "execute_result"
    }
   ],
   "source": [
    "merged_concessions"
   ]
  },
  {
   "cell_type": "code",
   "execution_count": 320,
   "id": "448033c0-317e-4d13-a690-b204cc34ee45",
   "metadata": {},
   "outputs": [],
   "source": [
    "merged_concessions.to_csv('merged_concessions.csv')"
   ]
  },
  {
   "cell_type": "code",
   "execution_count": 284,
   "id": "a99ad657-24aa-43db-83a9-c61761bb3053",
   "metadata": {},
   "outputs": [],
   "source": [
    "#pd.set_option('display.max_rows', None)"
   ]
  },
  {
   "cell_type": "markdown",
   "id": "8e649f20-46ff-4797-82b9-81c6da038ce8",
   "metadata": {},
   "source": [
    "## Searching merged concessions dataframe for companies that supply New York agencies"
   ]
  },
  {
   "cell_type": "code",
   "execution_count": 2,
   "id": "c98cc604-3a73-4c97-89c9-123c7466af84",
   "metadata": {},
   "outputs": [],
   "source": [
    "import pandas as pd"
   ]
  },
  {
   "cell_type": "code",
   "execution_count": 108,
   "id": "d58cc25a-8fa4-4b75-8723-ff23fb63c07d",
   "metadata": {},
   "outputs": [],
   "source": [
    "merged_concessions = pd.read_csv('merged_concessions.csv')"
   ]
  },
  {
   "cell_type": "code",
   "execution_count": 4,
   "id": "4e4b21bf-15a6-4775-a195-e0fa95ae1fcb",
   "metadata": {},
   "outputs": [
    {
     "data": {
      "text/plain": [
       "OWNER\n",
       "Upper Berbice F&APA           14\n",
       "Ituni Small Loggers Assoc.    12\n",
       "Kwakwani N.R.O                 5\n",
       "Aroaima Forest & APA           4\n",
       "Blue Berry Hill FPA            3\n",
       "Michael Angelo Chichester      3\n",
       "George Baijnauth               3\n",
       "Linden  Agriculture & FPA      3\n",
       "Rong-An-Inc.                   3\n",
       "Nigel Hoppie                   2\n",
       "Winston Baijnauth              2\n",
       "Sunil Singh                    2\n",
       "George Jervis                  2\n",
       "Baijnauth& Sons Limited        2\n",
       "Nandkishore Singh              2\n",
       "Rabindranauth Prasad           2\n",
       "P.N.R Lumber Ent.              2\n",
       "R.I. Forest Products           2\n",
       "Ousha Baichan                  2\n",
       "S & S Logging Enterprise       2\n",
       "Name: count, dtype: int64"
      ]
     },
     "execution_count": 4,
     "metadata": {},
     "output_type": "execute_result"
    }
   ],
   "source": [
    "merged_concessions['OWNER'].value_counts().head(20)"
   ]
  },
  {
   "cell_type": "code",
   "execution_count": 122,
   "id": "440359e3-1734-4af7-aaf0-30be19357f22",
   "metadata": {},
   "outputs": [
    {
     "data": {
      "text/plain": [
       "(586, 5)"
      ]
     },
     "execution_count": 122,
     "metadata": {},
     "output_type": "execute_result"
    }
   ],
   "source": [
    "merged_concessions.shape"
   ]
  },
  {
   "cell_type": "code",
   "execution_count": 124,
   "id": "9571815a-3aa9-419e-a46f-6bf450076bd7",
   "metadata": {},
   "outputs": [
    {
     "data": {
      "text/plain": [
       "permit_type\n",
       "Essequibo Concessions               222\n",
       "Berbice Concessions                 167\n",
       "Demerara Concessions                166\n",
       "Large Concessions                    27\n",
       "State Forest Exploratory Permits      2\n",
       "North West District Concessions       2\n",
       "Name: count, dtype: int64"
      ]
     },
     "execution_count": 124,
     "metadata": {},
     "output_type": "execute_result"
    }
   ],
   "source": [
    "merged_concessions['permit_type'].value_counts()"
   ]
  },
  {
   "cell_type": "code",
   "execution_count": 29,
   "id": "1ae5546b-8ded-45d8-890a-d495174c9936",
   "metadata": {},
   "outputs": [
    {
     "data": {
      "text/html": [
       "<div>\n",
       "<style scoped>\n",
       "    .dataframe tbody tr th:only-of-type {\n",
       "        vertical-align: middle;\n",
       "    }\n",
       "\n",
       "    .dataframe tbody tr th {\n",
       "        vertical-align: top;\n",
       "    }\n",
       "\n",
       "    .dataframe thead th {\n",
       "        text-align: right;\n",
       "    }\n",
       "</style>\n",
       "<table border=\"1\" class=\"dataframe\">\n",
       "  <thead>\n",
       "    <tr style=\"text-align: right;\">\n",
       "      <th></th>\n",
       "      <th>Unnamed: 0</th>\n",
       "      <th>FID</th>\n",
       "      <th>OWNER</th>\n",
       "      <th>FOLIO_NO</th>\n",
       "      <th>SHORT_DESC</th>\n",
       "      <th>Shape_Area</th>\n",
       "      <th>Shape_Length</th>\n",
       "      <th>geometry</th>\n",
       "      <th>permit_type</th>\n",
       "    </tr>\n",
       "  </thead>\n",
       "  <tbody>\n",
       "    <tr>\n",
       "      <th>19</th>\n",
       "      <td>19</td>\n",
       "      <td>16</td>\n",
       "      <td>Variety Woods &amp; Greenheart Ltd…</td>\n",
       "      <td>LC 01/07</td>\n",
       "      <td>RB Dem Riv; RB Mauri Riv; Western side Rupununi/Tacama Trail;</td>\n",
       "      <td>2.157046e+08</td>\n",
       "      <td>101097.456813</td>\n",
       "      <td>POLYGON ((-58.4782191006567 4.87922188315062, -58.4782327108033 4.87923142319734, -58.4782328679219 4.87930363474179, -58.4782402809066 4.87934764481147, -58.4782329653965 4.87934776582439, -58.4782331536945 4.87943381140076, -58.4782337373012 4.87970007744158, -58.4781463170325 4.88018842639657, -58.4781029477407 4.88058792379787, -58.477904382308 4.88083243882254, -58.4776386724163 4.8807220805837, -58.4775054053081 4.8804782942841, -58.4771733775917 4.88039027041538, -58.4769084461147 4.88063493218092, -58.4767321964257 4.88096815432363, -58.4764673616081 4.88125719403687, -58.4762245508679 4.88150180703996, -58.4758266903032 4.88165800543878, -58.4754727336485 4.88165878464077, -58.4753404365961 4.88185877623431, -58.4754515821216 4.88210260993994, -58.4759835842649 4.88258959690309, -58.4762500228113 4.883032789375, -58.4762948506322 4.88329895826594, -58.4762509457889 4.88345437730535, -58.476074307175 4.88361008932608, -58.4757867658493 4.88363291152557, -58.475498689971 4.88341165582875, -58.4752768356386 4.88312368651641, -58.4750330055965 4.88290233411349, -58.4747224201869 4.88250361618367, -58.4745007612768 4.8823044016032, -58.474080097214 4.88215000417189, -58.4738809968064 4.88215044151202, -58.4733278431789 4.88210727887004, -58.4729742256745 4.88226337873815, -58.4727315582582 4.88257455763364, -58.4724669135365 4.88295235173513, -58.4724239283384 4.88352936034913, -58.4726458787549 4.88386170720343, -58.4729564156641 4.8842382385808, -58.4734211311269 4.88430378397362, -58.4740407999049 4.88441336586199, -58.4747048103813 4.88456722878017, -58.4753468432789 4.88478770529759, -58.4755904316301 4.88489811364, -58.4755904718775 4.8849161050455, -58.4756010784609 4.8849143561748, -58.4756347742685 4.88494239430955, -58.4757454830405 4.88498652894045, -58.4758341674469 4.88507508843764, -58.475878994589 4.88534125735134, -58.4758129187541 4.88547453655527, -58.4755036910137 4.88569710820981, -58.4751718545573 4.88569783740741, -58.4748177519605 4.88563205030067, -58.4743752065661 4.88558864612697, -58.4741983245226 4.88563341327603, -58.4740660750779 4.88585559442342, -58.4741548564591 4.88598853312589, -58.4742880272504 4.88618794023533, -58.4745430905187 4.88648693052245, -58.4749639498913 4.8867300828599, -58.4754072726112 4.88712850787062, -58.4757620090234 4.88748275014257, -58.4759396692083 4.88779300383869, -58.4759624724931 4.88810359938265, -58.4758523459463 4.88832573211704, -58.4756537295013 4.88854805880372, -58.4753441121405 4.88859311872288, -58.475144814857 4.88850480186957, -58.4751003766501 4.88841614320283, -58.4750997932365 4.88814987775752, -58.4750991622148 4.88786142193782, -58.4750762128578 4.8874842605556, -58.4748766742276 4.8872849988789, -58.4746773783034 4.88719668174558, -58.4745226659547 4.88726358900218, -58.4743906599386 4.88759671401395, -58.474524414396 4.88806238918063, -58.4745256769354 4.88863929915327, -58.4744608148043 4.8893273007048, -58.4743732478083 4.88974908363045, -58.4742629749559 4.88990464881878, -58.473931670887 4.89014945683835, -58.4734234347247 4.89041684352382, -58.473179941226 4.89035081296972, -58.4729363498634 4.89024040334266, -58.472626294878 4.89008576322218, -58.4721834553949 4.88990922419913, -58.4719623753534 4.88997627695216, -58.4718740305381 4.89004303894992, -58.4718522956263 4.89022059900508, -58.471918858018 4.89030920846166, -58.4721403743609 4.89044185570802, -58.4724392479179 4.89054104842928, -58.4725947361142 4.89082916325003, -58.4726839546309 4.89116180107914, -58.4727951979715 4.89145001396189, -58.4729723735592 4.8915383799903, -58.4730609124088 4.89156037485529, -58.4731935023773 4.89149351536051, -58.4732375049768 4.89138247424551, -58.4733476812248 4.89118253012555, -58.4734801731493 4.89107129345512, -58.4737236669283 4.89113732471542, -58.4738789140344 4.89131449526202, -58.4739457680012 4.8915362367295, -58.4741902329211 4.89204604544515, -58.4743237462607 4.89240077391844, -58.4746122646784 4.8928217297008, -58.4748122426209 4.89322069071306, -58.47487040869 4.89349005337571, -58.4749199644934 4.89349112711752, -58.4749346224705 4.89354216086315, -58.4749353027489 4.89385280431034, -58.4750682338879 4.89394126698431, -58.4752897519457 4.89407391172175, -58.4757987681309 4.89416154526763, -58.4760642398345 4.89416095994299, -58.4763075402254 4.89413823385347, -58.4763957875559 4.89402709416019, -58.4763955443459 4.89391615053376, -58.4762181733224 4.89373902974852, -58.4760188751786 4.893650713662, -58.4757751850716 4.89349592847819, -58.4755093247371 4.89331900337065, -58.4754645925588 4.89309721262485, -58.4757518948221 4.89296344568174, -58.4760394895605 4.8929628108439, -58.4764600621221 4.89307282773304, -58.4769913946087 4.89324916592819, -58.4775669246927 4.8934032183396, -58.4779875453018 4.89353542354361, -58.4781208174562 4.89377920610479, -58.4782101854255 4.89417841051626, -58.4783443355812 4.89482159273326, -58.4783454073635 4.89530974659389, -58.4783237240929 4.895509495794, -58.4782690264442 4.89578697768671, -58.4779604303528 4.89629800606741, -58.4778947434035 4.89660879566757, -58.4779614534584 4.89676397056036, -58.4783377352866 4.89685189465864, -58.4785594497715 4.89707329370853, -58.4787372123905 4.89742792336121, -58.4786938454308 4.89782741992862, -58.4784512753414 4.89818297960111, -58.4784518125282 4.89842705604188, -58.4785403035539 4.89842686042483, -58.4789604895621 4.89835936372821, -58.4791596918524 4.89840330045546, -58.4796695903537 4.89889032847596, -58.4802680774093 4.89942153699914, -58.4806670695868 4.89977567585394, -58.4810654749898 4.89986354880285, -58.4812648740552 4.89999623959235, -58.4814652017785 4.90055051792301, -58.4816872616682 4.90092723734779, -58.4820642304579 4.90132579995403, -58.4821312844974 4.90163629606093, -58.4820872833825 4.90174733839131, -58.4819769626583 4.90188071546564, -58.4818443723502 4.90194757703725, -58.4816672420483 4.90188140395858, -58.4815561389492 4.90165976067689, -58.4815113057452 4.9013935932803, -58.4814006427432 4.9013716499499, -58.4812237090183 4.90139423065502, -58.481046970751 4.90150556709623, -58.4808261822035 4.9017057573235, -58.4806055410022 4.90197251300488, -58.4804070215969 4.90223921966131, -58.4804076079012 4.90250548616508, -58.4804964423289 4.90266061051123, -58.4807621123131 4.90274877719014, -58.4810278312219 4.90285913223395, -58.4814264839511 4.90305794863743, -58.4817587193045 4.90323472343042, -58.4819583153269 4.90345616939279, -58.4821216957731 4.90380239663977, -58.4822919926815 4.9038774175194, -58.4823049026106 4.9040164331335, -58.482289189207 4.90419415033174, -58.4822574070456 4.90438805694766, -58.4821773107833 4.90458206896135, -58.4820089221121 4.9049055024615, -58.4819447867662 4.90503486763278, -58.4818807957027 4.90522884573221, -58.4818330141055 4.90547124554698, -58.4818174093376 4.90569742201778, -58.4817695930091 4.9059236690587, -58.481705565353 4.90610149349348, -58.4816575717674 4.9062469766331, -58.4815934362954 4.9063763427293, -58.4815132685059 4.90653805012114, -58.4814330285376 4.9066674519499, -58.4813527172981 4.90676454821037, -58.4812403743195 4.90694247984772, -58.4811119259217 4.9071204472115, -58.4809753544434 4.90726612685874, -58.4808950430756 4.90736322310419, -58.4808057834476 4.90743816325619, -58.4807842743235 4.90743651980181, -58.4808056948557 4.9074638230059, -58.4805848567714 4.90764182433432, -58.4804302400572 4.90775311115106, -58.4800767594526 4.90797578463815, -58.4800773961229 4.90826423963218, -58.4801665740342 4.90857468598019, -58.4803000951728 4.90892941205047, -58.4804340088373 4.90946164780317, -58.4803240303038 4.90975034813484, -58.4800369190597 4.90997287467201, -58.479639143041 4.91017345794659, -58.4793074907455 4.91026294957926, -58.4789093720037 4.91030820935965, -58.478643552118 4.91015347726052, -58.4781564023132 4.90995485629785, -58.4776252506403 4.90986727818993, -58.4773815054081 4.90969030702707, -58.4772707432304 4.90962398543524, -58.4768940622995 4.90935855284821, -58.4767392979822 4.90940327261196, -58.4765627042177 4.90958117520206, -58.4764528702305 4.90993644100332, -58.4763871840047 4.91024723184897, -58.4763217417901 4.91066896718316, -58.4763019328645 4.91123945672268, -58.4764234032103 4.91142613408882, -58.4764268378625 4.91145983133494, -58.4764271586112 4.91160520669089, -58.476459688595 4.91175051165667, -58.4764761850719 4.91192815789897, -58.476460400345 4.91207357071024, -58.4764447222492 4.91226744016507, -58.4764290432612 4.91246131052754, -58.4764292574392 4.91255822833226, -58.4764455753533 4.91265511048537, -58.4764619652726 4.91278429736342, -58.4764621430186 4.9128650623511, -58.4763978648541 4.91292981714656, -58.4763335857736 4.91299457103709, -58.4763021170089 4.91301360346776, -58.4762387209813 4.91315431226913, -58.4760617836873 4.91317689349342, -58.4759288967282 4.91311062079101, -58.4757295432743 4.91300011694822, -58.4753088587515 4.91284572630884, -58.4750211099602 4.9127797968574, -58.4746887714506 4.9125586425531, -58.4743343604369 4.91235972546978, -58.4740240498681 4.91209414468105, -58.4737363004802 4.91202821454045, -58.4731829746336 4.9119184917275, -58.4726515773096 4.91171996527631, -58.4719294900472 4.91163379824254, -58.4718614145347 4.91164760985044, -58.47171664447 4.91172869483063, -58.4715879099658 4.91177743764591, -58.4714270006554 4.91184240435129, -58.4712982642927 4.9118911480317, -58.4711695642217 4.91195604454654, -58.4709765154095 4.91205338883086, -58.4708477798519 4.9121021315396, -58.4706869756638 4.9122155575945, -58.4706067328667 4.91234495893401, -58.4705681630846 4.91242275551766, -58.4704407088331 4.91239051632217, -58.4703746307069 4.91252379510703, -58.4701766402469 4.91303457895736, -58.4699787468359 4.91358974092775, -58.4699685370487 4.91397807071146, -58.4700802246988 4.914465982225, -58.4702358179469 4.91479847412308, -58.4705020778822 4.91515291050527, -58.470657283141 4.9153078907703, -58.4708785161354 4.91530740261318, -58.4711661697505 4.91532895647737, -58.4714094791946 4.91530622891927, -58.4719181212183 4.91521634936222, -58.4723162941172 4.91519328131296, -58.4726039953699 4.91523702312769, -58.472847694482 4.91539180721373, -58.4730695628046 4.91567977235628, -58.4732252562063 4.9160566410402, -58.4735580345783 4.91647749541313, -58.4736029154665 4.91676585243577, -58.4734931285065 4.91714330796471, -58.4731845710448 4.91767652553855, -58.4728979415703 4.9181209399398, -58.4726776343355 4.91854301721856, -58.4726343635877 4.91898689177882, -58.4726793918081 4.9193418164132, -58.4729896574608 4.91958520836221, -58.473388124573 4.91969527115831, -58.4739192369602 4.91976066188589, -58.4740961752691 4.91973808159648, -58.4746491659815 4.91969247911232, -58.4751137113821 4.91966926075046, -58.475622208583 4.91951281011488, -58.4761086326623 4.9193785976263, -58.4763962866561 4.9194001486549, -58.4766620616949 4.91953269303937, -58.4767953903584 4.91979866460102, -58.4767518290929 4.92010940566694, -58.4767807433127 4.92011966669675, -58.4767279029742 4.9201817727765, -58.476647661069 4.92031117565435, -58.476486893233 4.92044075619029, -58.4764066156507 4.92055400534378, -58.476294091885 4.92065117219544, -58.4761815680872 4.92074833994195, -58.4760208347427 4.92089407324042, -58.4759404858421 4.92097501674322, -58.4757796821046 4.92108844437733, -58.4756028072477 4.92121806050673, -58.475377581278 4.92133162996001, -58.4751683889104 4.92141285893399, -58.4750235474496 4.92146163857159, -58.4748947752447 4.92149423058444, -58.4747338635419 4.92155919958173, -58.4744843007648 4.92159205819477, -58.4742106513064 4.92165727678166, -58.4740174932576 4.92170616323399, -58.4737759832027 4.92173900558563, -58.4735827539738 4.92175558626154, -58.4733895958005 4.92180447345813, -58.4732446820431 4.92182094710272, -58.4731320153631 4.92185350227163, -58.473120650483 4.92186781643501, -58.4729726123589 4.92189289928867, -58.4728181864912 4.92209294172032, -58.472708203855 4.92238164139784, -58.4728419216833 4.92282512523457, -58.473064135188 4.92326841220071, -58.4736405724395 4.9238218597469, -58.4741059516317 4.92417585104985, -58.4741831360629 4.92416609284492, -58.4743473552458 4.92424251067382, -58.4748459563478 4.9244911656278, -58.4754276582953 4.92478126200579, -58.475760106509 4.9249678434139, -58.4757812249999 4.92513430405236, -58.4758233270415 4.92540478451802, -58.4757614844204 4.92559224139868, -58.4756788427484 4.92575893133019, -58.4754302299794 4.92594680345471, -58.4750777190842 4.92607246575062, -58.4745591441415 4.92617768389233, -58.4742271099228 4.92617841995036, -58.4739158270101 4.92617911076048, -58.4736048191054 4.92630468041708, -58.4733150216768 4.9266383368752, -58.4731496001944 4.92690927660319, -58.4730671877815 4.92718003335027, -58.4731717743604 4.92755444232856, -58.4734215823704 4.92790771541637, -58.4738582056342 4.92828138730946, -58.4742118200447 4.92865524285553, -58.4741915265573 4.9288634225692, -58.4740464905023 4.92896781065782, -58.4737770320687 4.92911410173613, -58.4734867294066 4.92921881271684, -58.4733625830875 4.9293855955596, -58.4731554730995 4.92957337450118, -58.4729481795766 4.92967790133761, -58.4727198585117 4.9296575941807, -58.4726159591045 4.92959538412311, -58.4725741802134 4.92947059704242, -58.472531803662 4.92907523613914, -58.4726139871448 4.92870041422648, -58.4726547575884 4.92836730940786, -58.4726128395407 4.92818008143146, -58.4723218505092 4.92797259283754, -58.4721557860785 4.9279521474373, -58.4719275571746 4.92797346678623, -58.4718706210802 4.92796090997429, -58.4718088097485 4.92801072828205, -58.4716802137572 4.92812408431256, -58.4715840073278 4.92831813325458, -58.4714235201162 4.92857693798627, -58.4713194738428 4.92886792273774, -58.4712876537744 4.92904567624989, -58.4712399774294 4.92933653534011, -58.4712245121424 4.92962732404023, -58.4712091179721 4.92995041843504, -58.471193688285 4.93025735998425, -58.4711781875235 4.93053199493689, -58.4711629356502 4.93091970162594, -58.4711557723902 4.93132354242657, -58.4711404486039 4.93167894252038, -58.4711252333418 4.93208280205437, -58.4710938053953 4.93243823781493, -58.4710620565028 4.93264829796408, -58.4710303787342 4.93289066290532, -58.4709664186082 4.93310079349691, -58.4708701040656 4.93324638404321, -58.4707414004386 4.93331128167848, -58.4705964849359 4.93332775550505, -58.4704836740075 4.9332956994322, -58.470403003231 4.93323126632128, -58.470338473189 4.93318295039351, -58.47019330886 4.9330863532543, -58.4700803904487 4.93300583853637, -58.4698868022716 4.93286088968186, -58.4697577432302 4.93276425767016, -58.4696448613456 4.93269989570019, -58.4694997318223 4.93261945211086, -58.4693384980639 4.9325390431982, -58.4691772980518 4.93247478890763, -58.4690323115582 4.93245895572336, -58.4689195709017 4.93245920504404, -58.4688390423731 4.93245938311739, -58.4687908671018 4.93252410231397, -58.4687658360093 4.93255941269449, -58.4686172592722 4.93255974211236, -58.4685345246229 4.93268480579501, -58.4684933398121 4.93283058987085, -58.4685566962273 4.93332997193795, -58.4687028790725 4.93374591634874, -58.4688907961198 4.93426583593489, -58.4690586028414 4.93507718672777, -58.4690394078865 4.93578488544906, -58.4690308377571 4.93586383414178, -58.4689673012663 4.93585123489864, -58.4687579249473 4.93585169910844, -58.4684437556653 4.9358039353468, -58.4681538512567 4.93580457749578, -58.4678962292327 4.93583745312127, -58.4677352422963 4.93587011589597, -58.467493762742 4.93591910953938, -58.4672844936473 4.93596803100165, -58.4670752954865 4.93604925905918, -58.4668822043292 4.93613045147045, -58.4666891467884 4.93622779581555, -58.4664961264649 4.93634129480368, -58.4663191749656 4.93643860439335, -58.4661905055835 4.93651965433581, -58.4660296246919 4.93660077450919, -58.4659170259532 4.93666563505476, -58.4656917574758 4.93676305124495, -58.4654504536336 4.93689280961706, -58.4652090796738 4.93699026124856, -58.4649515976101 4.93708774746623, -58.464750417203 4.93715280521218, -58.4646055712369 4.93720158380395, -58.4645089712049 4.93721794996041, -58.4644762271777 4.93722560446658, -58.4644769993718 4.93723109952944, -58.4643112518033 4.93735634626096, -58.4634605773702 4.93744147833589, -58.4623088288966 4.93745442576033, -58.4617277537204 4.93745570687863, -58.4602752048638 4.93752134729261, -58.458635698094 4.93750414169881, -58.4568926089975 4.93757041340357, -58.455844666102 4.93760393505808, -58.4552637706253 4.93768846508025, -58.4539563047316 4.93767051971507, -58.4527730352102 4.93750660403307, -58.4519218558732 4.93736277287659, -58.4512361552175 4.93696881616702, -58.4506954073289 4.93642884664096, -58.4502375358121 4.93582625356692, -58.4497590018956 4.93526533351503, -58.4494576138499 4.93504744889055, -58.4492081751641 4.93486067249328, -58.4486678369122 4.93450802037817, -58.4481902988969 4.93440499535719, -58.4474219986881 4.93419853615073, -58.4464464875711 4.93413822172336, -58.4455123006837 4.93399456237751, -58.4443492033697 4.93356000856951, -58.4436012970692 4.93318699013896, -58.4429676425644 4.93286575681078, -58.4421578377082 4.93265937976935, -58.4411817435215 4.93232848193435, -58.4403920191083 4.93180985304085, -58.4398720355373 4.93126982672607, -58.438977474276 4.9302518957718, -58.4384781562318 4.92967019332907, -58.4380201197491 4.92898433374095, -58.4376974468688 4.92851672380298, -58.4372190629539 4.92801823092329, -58.4366993085938 4.9275822672348, -58.4360546825058 4.92698006223023, -58.4352441705563 4.9264406573717, -58.4345997689969 4.92594251892654, -58.4342047564268 4.92561035154818, -58.433830273849 4.92517407126117, -58.433725484397 4.9246955816096, -58.4328938232253 4.92396889395407, -58.4322084558241 4.92372060483097, -58.4313159209316 4.92363927212046, -58.4307973308395 4.9237444567162, -58.4304483291837 4.9237918913863, -58.4304570884041 4.92384636264503, -58.4293580151394 4.92408847153067, -58.4274356784327 4.92492710683712, -58.4262404927012 4.92534692605635, -58.4250453049232 4.92576674265359, -58.4228633803835 4.92681455159798, -58.4222920074639 4.92712871557594, -58.4208385679898 4.92838358762915, -58.4196446988562 4.92942927741452, -58.4183468169737 4.93047518719723, -58.4179314497849 4.93078901588734, -58.4171521648262 4.93115577685702, -58.4163721042048 4.93115744105162, -58.4152807936187 4.93152486710882, -58.4146578497837 4.93204776317444, -58.4141386917465 4.93246612553505, -58.4136204167472 4.93330174109644, -58.4136745195058 4.93429260792608, -58.4133126983974 4.9353365173808, -58.4132124454784 4.93711006825878, -58.4121231099981 4.93841631348704, -58.4102540294001 4.93988068798587, -58.4102556840822 4.94066304071307, -58.4096777748628 4.95018292971134, -58.4101999328844 4.95117279954679, -58.4103836663208 4.9519808411907, -58.4105413424676 4.95276286005883, -58.4103873169806 4.95370201499352, -58.4104418676725 4.95490151016885, -58.4097684452161 4.9561547151306, -58.4083679278371 4.95787888384121, -58.4079544207791 4.95907937841819, -58.4078517337861 4.95970548215967, -58.407958623077 4.9610613376977, -58.4079597294167 4.96158290576564, -58.4078564899463 4.96194822553032, -58.4070010897533 4.96322789792932, -58.4064315582353 4.9644287246833, -58.4058109032849 4.96604691761291, -58.4047745191681 4.96782246810157, -58.4037899183025 4.96949359448352, -58.4023892531238 4.9711656060467, -58.4017670403885 4.97205360261577, -58.4003917618303 4.9734386936456, -58.3993548048394 4.9749534577108, -58.3984222993048 4.97667662832297, -58.3978015094909 4.97824266471334, -58.397491884649 4.97939078288167, -58.3973901825867 4.98048630215591, -58.3973911747941 4.9809557141904, -58.3977042167967 4.98142446415653, -58.3992134531072 4.98189066938427, -58.4001504869508 4.98230593068825, -58.4002272043719 4.98220243209408, -58.4003000900802 4.9822471991219, -58.4004613786951 4.98234781511649, -58.4006226664505 4.98244843105928, -58.4008847537955 4.98260940679309, -58.4010762853622 4.9827301496778, -58.4012779710276 4.98289125478098, -58.4015200527677 4.98311284913739, -58.4017621783621 4.98335463386873, -58.401923594926 4.98351582542139, -58.4020449142489 4.9837578675344, -58.4021259232028 4.98397980586923, -58.4022675054751 4.98428238099901, -58.4023889973372 4.98460519132474, -58.402510274288 4.98482704273378, -58.4026113741838 4.9850287447451, -58.4027126464298 4.98531121506618, -58.4028042368168 4.98577543130523, -58.4028651111941 4.98599741146763, -58.4029259865335 4.9862193916095, -58.4029062807639 4.98642135136286, -58.4029670704721 4.98660294867296, -58.4030280307866 4.98686531249123, -58.4031291322062 4.98706701427628, -58.4032911075884 4.98749069696741, -58.4033922083265 4.98769239956486, -58.4034733472026 4.98797491073943, -58.403574448104 4.98817661326935, -58.4037162039974 4.98855995500724, -58.4037871039304 4.98876172199526, -58.4038680715831 4.98896346744406, -58.4039490383961 4.98916521196523, -58.4040099575815 4.98940738409949, -58.4040306070491 4.98964964049895, -58.4040915263568 4.98989181260115, -58.4041927137382 4.99013389857746, -58.4042739393928 4.99045679313874, -58.4043749972539 4.99063830306148, -58.4044559225136 4.99081985692138, -58.4045368907745 4.99102160124214, -58.4046986109073 4.9913241328763, -58.4048803368166 4.99156604537278, -58.4051525396354 4.99174718878889, -58.4053339219939 4.99182756731319, -58.4056967727944 4.99202870783394, -58.4058983336653 4.99212923532176, -58.4061402486985 4.99227005921678, -58.4063014967595 4.99235048053083, -58.4062411792765 4.99239099449792, -58.4059465834556 4.99233104937073, -58.4056445658576 4.99233169711412, -58.4052167072978 4.99233261323217, -58.4048643537665 4.99233336747169, -58.4046630086116 4.9923337992858, -58.4044114340799 4.99238481721413, -58.4041095236255 4.99243594364178, -58.4038832246931 4.99253738693749, -58.4035813686308 4.99261375284846, -58.4033047872691 4.99274054242215, -58.4028522969192 4.99299390883896, -58.402550706766 4.99319647200721, -58.4022240570194 4.99344956918999, -58.4020733162656 4.99357608950248, -58.4019227362973 4.993778329844, -58.4017470413916 4.99400586456303, -58.4015712391569 4.99418291802292, -58.4013954904333 4.99438521298983, -58.401295138983 4.99453686542867, -58.4011445049955 4.99471386689687, -58.4009687560092 4.99491616001411, -58.400742937808 4.99524476013045, -58.4004730492517 4.99556083530252, -58.4002217683234 4.99575066967343, -58.4000019468126 4.99594043774479, -58.3997508003842 4.9961933731591, -58.3994683253291 4.9965094741083, -58.3988874461066 4.99704705946412, -58.398870232523 4.99707481046803, -58.3986947507168 4.99700610797738, -58.3981316728978 4.99754956339568, -58.3974746567336 4.99814037038481, -58.3970998034699 4.99875415244847, -58.396913526099 4.9996032941411, -58.39687938661 5.00013383303064, -58.396858327525 5.00128911331996, -58.3966729005738 5.00253904993313, -58.3964394538942 5.00331756325027, -58.3962052563145 5.00374243588336, -58.3957720012095 5.00453316492636, -58.3952796950838 5.00519435017772, -58.3949981764381 5.00547786515495, -58.3945761990147 5.00604459444167, -58.3941546703265 5.00682350952774, -58.3937330908947 5.00757884889304, -58.3934285601402 5.00809817536643, -58.3933352209869 5.00842844283713, -58.3929016091895 5.00905413806175, -58.3925265978346 5.00959719126739, -58.3921751964391 5.01018734673255, -58.3919182838385 5.01098948718167, -58.3915910398785 5.01188608342283, -58.3912162765962 5.01254701704786, -58.3907242105567 5.01332608305689, -58.3903019752879 5.01377493047373, -58.3896914583582 5.0141298756519, -58.3892218529801 5.01441378881778, -58.3888934086828 5.01474455709053, -58.3886120828454 5.01512237507234, -58.3881897960376 5.01554764696443, -58.3877204369439 5.01594944284594, -58.3872038090703 5.01623345592593, -58.3867104908153 5.01642311481401, -58.38609996985 5.01677805601836, -58.3854977835644 5.0169519753083, -58.3853068752541 5.0169523802146, -58.3849922584853 5.01695304828253, -58.3848885245966 5.01694026928305, -58.3847368670717 5.01701671234077, -58.3841488597478 5.01690007819722, -58.3833725709583 5.01668953586669, -58.3827138349359 5.01647874457403, -58.3821722521699 5.01607909272799, -58.3816778903572 5.01577364591822, -58.3816094154336 5.01571381716532, -58.3814345033069 5.01573013613103, -58.380994173437 5.01579416799059, -58.3805537108206 5.01579509975774, -58.37949994473 5.01589197665087, -58.3792167894 5.0158925753665, -58.3787762601786 5.01586195511617, -58.3783986543467 5.01583120271187, -58.3778952007177 5.01580071550076, -58.3774232766966 5.01580171150827, -58.376982878625 5.01583418992462, -58.3766682621842 5.01583485383473, -58.3735553003712 5.0158322902683, -58.3726032189145 5.01583151103187, -58.3725683752521 5.01532344902848, -58.3722820627155 5.01482342982477, -58.3717095866038 5.01389490979112, -58.371422527765 5.01303730591337, -58.3708857891605 5.01214446596303, -58.3708123089848 5.01110762069548, -58.3708464762563 5.01039237605309, -58.3709155544949 5.00931947264224, -58.3708055987538 5.00788935871126, -58.3711063438324 5.00676233153936, -58.3710693447438 5.00611875366807, -58.3714595687263 5.0051524528398, -58.3717073101047 5.00425796909199, -58.3715998155088 5.00400788291284, -58.3711005321684 5.00397317096586, -58.3710627143937 5.0029362506757, -58.3706675753309 5.00154249045279, -58.3703629604552 5.00081007688657, -58.3700768807533 5.00041732995347, -58.3697918427358 5.00052520282791, -58.3694701804986 5.00016828918476, -58.3693256916416 4.99927462351953, -58.3693598625449 4.99855937933586, -58.3687891935314 4.99848905423868, -58.3685748765338 4.99831070863537, -58.3680401615968 4.99838334239097, -58.3671493914856 4.99870703108582, -58.3664364618418 4.99881579375934, -58.3658660144586 4.9988527428348, -58.3647950263913 4.99824707562242, -58.36378734298 4.9975655736619, -58.3635811892471 4.99753442859719, -58.3628676679881 4.99735711853789, -58.3624023458782 4.99649987561208, -58.3617224144532 4.9953212498778, -58.36136451148 4.99467833454315, -58.3612200363576 4.99378466541519, -58.3612885462613 4.99242568887048, -58.3613213997389 4.99106678808294, -58.3613199254701 4.99035161580063, -58.3611397215352 4.98942226087776, -58.3608528427546 4.98863616275318, -58.3606016952517 4.98788574795134, -58.3603508438647 4.98727836831283, -58.3599746405593 4.9864030568331, -58.3593659687013 4.9851885164947, -58.3587939866302 4.98447452382493, -58.3585068928399 4.98358114699497, -58.3582558990048 4.98290224771756, -58.3575954017565 4.982492385827, -58.3567391974411 4.98227960006841, -58.356060543819 4.9817088598323, -58.3561131851886 4.98129752348136, -58.3562536122511 4.98022446798052, -58.3561785999423 4.97911187791988, -58.3558232176552 4.97840272738625, -58.3557045952824 4.97808746854895, -58.3555859730557 4.97777220875206, -58.3555670018233 4.97764095433935, -58.3557048897427 4.97741868611456, -58.3563229079815 4.97579730254283, -58.357933777333 4.97355075300224, -58.3587990413152 4.97130574071334, -58.3594142363449 4.96831350373613, -58.3586632810281 4.96569795237936, -58.3585344231253 4.96345499039791, -58.357407376048 4.95922010029087, -58.3575285844694 4.95772436583813, -58.3610005617777 4.95410313422016, -58.3617438408149 4.95297999000583, -58.361863764477 4.95086114133293, -58.3616124356343 4.94949079930582, -58.3621038725193 4.94674806775124, -58.361913020923 4.94456754687907, -58.3625284630256 4.94169993711776, -58.3625254066064 4.94020446029367, -58.3635171943698 4.9390808081528, -58.3626422839699 4.93659013418802, -58.3621419382739 4.93497105440134, -58.3619278933059 4.93454389808497, -58.3619659669163 4.93433792186044, -58.362004243699 4.93382515013449, -58.3620423588298 4.93323350328389, -58.362041553968 4.93283912580963, -58.3620798309242 4.93232635500114, -58.3623355234111 4.93179494166518, -58.3625914756756 4.9311593324758, -58.3623729952064 4.93076285365868, -58.3623655555666 4.93066315402436, -58.3622340736203 4.93056467458748, -58.3623120935854 4.93000881490706, -58.362527861129 4.92907559155872, -58.3626260729762 4.92871815530765, -58.3630999772133 4.92822102331064, -58.3636727798341 4.92770384196081, -58.363949246116 4.92742542564527, -58.3640279537996 4.92720695407364, -58.3639271908517 4.92631407293818, -58.3639953758737 4.92578800415188, -58.3642710322062 4.92511266122277, -58.364447829136 4.92447721471059, -58.3645260897159 4.92404043402299, -58.3642487753078 4.92390207802405, -58.364603622087 4.92324641923909, -58.3649982076111 4.92267006533177, -58.3652250202545 4.92230244143617, -58.3653628475489 4.92196477050349, -58.3653872906489 4.92193029943937, -58.3653884103423 4.92190850719975, -58.365402301777 4.92190514957487, -58.3656981894211 4.92144807623431, -58.366013944991 4.92103065392552, -58.3663099128824 4.92061327217422, -58.3665466777778 4.92027539821956, -58.3666645144715 4.91983853653194, -58.3667232699444 4.91954072060065, -58.3668019764142 4.91932224825615, -58.3669793780509 4.91898449614142, -58.3669780006466 4.9183097228853, -58.3669760813703 4.91736960520034, -58.3669996593931 4.91731252206847, -58.3669758939717 4.91727771579823, -58.3669547694255 4.9166228293711, -58.3668151216476 4.91606741869113, -58.3667146044837 4.91529361591336, -58.3667332995378 4.91475772587742, -58.3669501948993 4.91438019946733, -58.3671077269143 4.91400279567656, -58.3674036516446 4.9135655690421, -58.3675811735883 4.91328735512733, -58.3678572693251 4.91283032186166, -58.3681930110055 4.91251209157367, -58.3683512310435 4.91247207428356, -58.3686874185022 4.9123721518333, -58.3687856268275 4.91201471609715, -58.3689831382382 4.91183569366929, -58.3694771795351 4.91151713632217, -58.369852536065 4.91121867059517, -58.3701880328294 4.91078136137225, -58.3703155772904 4.91025517161004, -58.3704528328267 4.90963965343461, -58.3704720940138 4.90938161066119, -58.3703326483162 4.90892543134209, -58.3703521526282 4.90878646786884, -58.3708065353818 4.90842829907143, -58.3714977579151 4.90777194958157, -58.3721198660318 4.90718520389677, -58.3725146815372 4.90672792711498, -58.3726329998328 4.90652921983968, -58.3730872580595 4.90611151245349, -58.3734229940531 4.9057932811073, -58.373560938279 4.90551514909401, -58.3737769747135 4.90472085157798, -58.3739542893593 4.90434340708284, -58.3742305403502 4.90396575818997, -58.3742522895645 4.90398265299316, -58.3743170102725 4.90390660485743, -58.3744674853694 4.90365389346713, -58.3745426699159 4.90350229769599, -58.3746178562408 4.90335070282596, -58.3747294358474 4.90323832955365, -58.3747014474967 4.90318247490492, -58.3751960567326 4.90197914002789, -58.3755649903766 4.90132286525206, -58.3758854002766 4.90040986244742, -58.3764267549427 4.89952003980735, -58.3764164848113 4.89886075790624, -58.376463035235 4.89852435776995, -58.3767514851923 4.89818529372953, -58.3768290082303 4.89739128272041, -58.3768678920233 4.89705381583164, -58.3769440067798 4.89670240235826, -58.3768669979972 4.89661719847092, -58.3769648372288 4.89608114741556, -58.3769838930739 4.89572387505981, -58.3770421575204 4.89518790546213, -58.3770811225583 4.89489013100958, -58.3771990719849 4.89451280891938, -58.3774163233742 4.89431389816786, -58.3779106335024 4.8941342634365, -58.3784047799082 4.89387524455392, -58.3787604570616 4.8936363550525, -58.3795319058542 4.89351568828378, -58.379986843152 4.89343536477232, -58.380520725166 4.89325564691888, -58.380757679996 4.89301700323159, -58.3809154864574 4.89277852183162, -58.3813499040185 4.89234100736687, -58.3816362639673 4.8920724922546, -58.3817941115338 4.89185385695419, -58.3821295927153 4.89141654730437, -58.3822481098123 4.89131707150843, -58.3824260699493 4.89125716460287, -58.3826041522008 4.89125679703664, -58.3827206205435 4.89127991013692, -58.3831582100703 4.89109073872693, -58.3839788048006 4.89099757149014, -58.3840949830129 4.89098438038639, -58.3843846025226 4.89107450168734, -58.3848993469508 4.89121235939721, -58.3853148708176 4.89121150014475, -58.3859480908899 4.89123003644164, -58.3863041722738 4.89118960623778, -58.3871159242604 4.89142607924586, -58.38806569265 4.89142410982432, -58.3890350014655 4.89130302230761, -58.3903204890959 4.89098281460095, -58.3912301486889 4.89072292390112, -58.3916850805538 4.89064259336584, -58.3923178065692 4.89042297082749, -58.3926837596982 4.89037259386133, -58.3932375015062 4.89023251851071, -58.394246338733 4.89009149584261, -58.3950771352406 4.88997068775398, -58.3959273063413 4.88965137794065, -58.3970737418911 4.88907344914635, -58.3977260026309 4.88873470497578, -58.3982105092628 4.88860469273209, -58.3983221004601 4.88831509953647, -58.3984465073223 4.88790958551596, -58.3986238456767 4.8875519855105, -58.3987617343453 4.88725400615172, -58.3988403864463 4.88701568872801, -58.399136114984 4.88649907192115, -58.3992737563148 4.88608201645684, -58.3994118092122 4.88586342029082, -58.3995694010187 4.88552570762476, -58.3997270750488 4.88522768699641, -58.3998846675183 4.88488997343187, -58.4001467131721 4.8846706246254, -58.40037266592 4.88441775456423, -58.4005484478732 4.88424070809093, -58.4010260941998 4.8840125513494, -58.4013276432344 4.88381000125062, -58.4015790749194 4.88370851723038, -58.4019005014897 4.88373468719129, -58.4024341586675 4.88345572571688, -58.4024813495142 4.88341267998047, -58.4032248751632 4.88309684204771, -58.4039366085613 4.88281750722497, -58.4044902579423 4.88263773304278, -58.4051425488973 4.88231882952255, -58.4057555557579 4.88213893020804, -58.4061509942384 4.88199917935288, -58.4066651106729 4.88183933261048, -58.4069814853455 4.88173943826608, -58.4072975712445 4.88150062302506, -58.4077721961354 4.8813805504973, -58.4083258830057 4.88122061972493, -58.4086027672437 4.88116049968721, -58.4088596171787 4.88098134634097, -58.4088793210618 4.88094161292726, -58.4088568967273 4.88091082196012, -58.3463452198296 4.82440725886621, -58.3464899324725 4.82429389419326, -58.3466185088925 4.82416440767231, -58.346811343397 4.8239540245526, -58.3470042724073 4.8237921018017, -58.3471970102512 4.82353325643964, -58.3473897470613 4.82327441196811, -58.3475343646307 4.82311258499397, -58.3476627813787 4.82290232958495, -58.3477751583729 4.82272441364539, -58.3479251579805 4.82229999156076, -58.3482649574842 4.82202882280853, -58.3483613255296 4.82189940098603, -58.3484897746184 4.8217052983983, -58.3486021822124 4.82154353618833, -58.3487306302816 4.82134943449725, -58.3489234943819 4.82115520401652, -58.3490679518312 4.8209126090767, -58.3492125357843 4.82073462823642, -58.3494858551817 4.82050793030883, -58.3497752458258 4.82026504658919, -58.3500004444133 4.82013536788871, -58.3503222982741 4.82002165091097, -58.3507728553319 4.81984306280767, -58.3511990634003 4.81956759825526, -58.3513437741485 4.81945423304608, -58.3516654357863 4.81924359316864, -58.3518584260959 4.81911397808693, -58.3521800873763 4.81890333805348, -58.3524534678655 4.81870894686614, -58.3526623703592 4.81848237631989, -58.3529517907878 4.81825564642398, -58.353225171665 4.81806125505556, -58.3534986482396 4.81791532479212, -58.3537721895042 4.81780170370254, -58.3539814419802 4.81775282478296, -58.3541747510347 4.81778474738102, -58.3543359815282 4.81788134894478, -58.3546261046157 4.81801000122879, -58.3548919765086 4.81809024125587, -58.355214052924 4.81808959844058, -58.3555523285474 4.81813738540182, -58.3559227145873 4.81813664592334, -58.3560675850251 4.81810404854173, -58.3561801511266 4.81802305607015, -58.356308756373 4.81790972224515, -58.3564373304502 4.81778023379686, -58.356501392842 4.81760241364127, -58.3565171758071 4.81744084447579, -58.356516695451 4.81719853710571, -58.3565323183177 4.81695619761217, -58.356596476731 4.81682683858362, -58.3566606991727 4.81672978786665, -58.3568859277681 4.81661626126773, -58.3571113796005 4.81661581142435, -58.3573531597702 4.81672840525703, -58.3575143261229 4.81679269861814, -58.3577236738646 4.81679227979657, -58.3579489663103 4.81671106118372, -58.3580776671511 4.81664618825414, -58.3582546793013 4.81658121972911, -58.3584961718427 4.8165484298838, -58.3587134752519 4.81649953362591, -58.3589065592571 4.81641837819383, -58.3591640585736 4.81633709399713, -58.3593248059902 4.81619138809297, -58.359485554238 4.81604568216778, -58.3596624385576 4.81591609771642, -58.3597911711072 4.81586737823213, -58.3599361039677 4.81586708848186, -58.3600649987673 4.81589913825912, -58.3601939238703 4.8159473416921, -58.360419310959 4.81591458345784, -58.3605640520355 4.8158173705995, -58.3607086958299 4.81567169669365, -58.3608371400872 4.81547759396071, -58.361013958801 4.81531570192214, -58.3611264594805 4.81520239976386, -58.3612871749307 4.81504053991021, -58.3613996746183 4.8149272377333, -58.3615604541905 4.81479768519315, -58.3616891229609 4.81471665810323, -58.361866037659 4.81460322696068, -58.3619786032425 4.81452223206786, -58.3620911348579 4.81442508349951, -58.3621876606573 4.81437642906419, -58.3623486327747 4.81434379931668, -58.3624451576323 4.81429514395057, -58.36255772218 4.81421414990127, -58.362734605317 4.81408456494339, -58.3628310667011 4.81400360221229, -58.3629275593136 4.81393879404255, -58.3630241492678 4.81392244594355, -58.3631208026287 4.8139384069652, -58.363201352904 4.81395439842287, -58.363330310719 4.81401875496317, -58.3634431654706 4.81408314464288, -58.3635721545903 4.8141636547836, -58.3636688723185 4.81421192212427, -58.3637976693346 4.81419551026677, -58.3639102336442 4.81411451513913, -58.3639905586867 4.81401743090533, -58.3640547153728 4.8138880716401, -58.364150950369 4.81369403409956, -58.3641506616574 4.81354864939944, -58.364182546907 4.81338704829555, -58.3642144965057 4.81325775359758, -58.3642787165687 4.81316070165001, -58.3643429062392 4.81304749604433, -58.3643910884816 4.81298278458492, -58.3644714777156 4.81291800765349, -58.364567969983 4.81285319933671, -58.364680662733 4.81283681877197, -58.3648337441007 4.81288497296493, -58.3649627661407 4.8129816374142, -58.3650595490168 4.81306221277804, -58.3651402592578 4.8131589731689, -58.3652209704244 4.81325573354159, -58.3653018113359 4.81341710938742, -58.365382651392 4.81357848521386, -58.3654151160824 4.81370764976036, -58.365528099723 4.81383665363351, -58.3656248505767 4.81390107521733, -58.3657538397956 4.81398158488148, -58.3658988050198 4.81399744761523, -58.3661241915873 4.81396468774666, -58.3662850655658 4.813883595326, -58.3665747362246 4.81378609053528, -58.3667196691332 4.81378579855921, -58.3668324586097 4.81381787942232, -58.3669292417766 4.81389845442189, -58.3670260240617 4.81397902849842, -58.3671228081715 4.81405960255088, -58.3673000439908 4.81410770753058, -58.3674772484636 4.81413965882353, -58.3676543875085 4.81413930280651, -58.3677991913555 4.81407439696574, -58.3678633472207 4.81394503664053, -58.36791143139 4.81383186412554, -58.3679433488646 4.81368641581825, -58.3679590960504 4.81350869172611, -58.3679587411102 4.81333100181033, -58.3679582571203 4.81308869647374, -58.3679901082618 4.81291094092004, -58.3680703688648 4.81278154824348, -58.3681828345793 4.81265209173493, -58.3682793272176 4.8125872830003, -58.3683757866611 4.81250631972814, -58.3684400400595 4.81242542210055, -58.3684962083122 4.81232838613092, -58.3685441964078 4.81216675184604, -58.3686244236667 4.8120212064375, -58.3687692583453 4.81197245326169, -58.3689464299163 4.8119882506893, -58.3691397690508 4.81203632292425, -58.3693008035302 4.81203599902298, -58.3694456713187 4.812003400238, -58.3696065774839 4.81193846088747, -58.3698479043572 4.81182489864204, -58.3699926742309 4.81174383891531, -58.3702018910034 4.81167880223521, -58.3703788676458 4.81159767672083, -58.370700744105 4.81150010577906, -58.371070607879 4.81124090043264, -58.3713921597666 4.81098179227098, -58.3715850458667 4.81080371246626, -58.3717296212204 4.81062572995726, -58.3720427657608 4.81018894732358, -58.3721873732258 4.81002711748264, -58.3723480188581 4.80983294888459, -58.3725407749935 4.80959025366491, -58.3727336604135 4.80941217372529, -58.3728943713721 4.80925031227312, -58.3730552440472 4.8091692187847, -58.3731838119879 4.80903972941377, -58.3733767618034 4.80889395656962, -58.3735214666906 4.80878058828994, -58.3736821764029 4.80861872674652, -58.3739555459666 4.80842433066605, -58.3740841468678 4.80831099479891, -58.3742288182182 4.80818147284908, -58.374405696149 4.80805188500829, -58.3746710457506 4.80787365858966, -58.374799678808 4.80777647623411, -58.3748962014869 4.80772781960987, -58.3749765889014 4.80766304279266, -58.3750569762997 4.80759826597021, -58.3750890209271 4.80751743215337, -58.3750887293704 4.80737204900119, -58.3750883730357 4.80719435868196, -58.3750721064257 4.80711362326408, -58.3750236350434 4.80703295282893, -58.3749267552879 4.80690391820607, -58.3748460764655 4.80682331272959, -58.3747815004955 4.80674267384866, -58.3747007245684 4.80661360758593, -58.3746520904797 4.80645216826538, -58.374635793385 4.80635527832084, -58.3745872555708 4.80624230065229, -58.3745547576537 4.8060969824172, -58.3745383958505 4.80596778528793, -58.3744897609843 4.80580634593052, -58.3744412241574 4.80569336822994, -58.3744088557958 4.80561266522807, -58.3743442800199 4.80553202625543, -58.3742957441461 4.80541904762492, -58.3742472721145 4.80533837707185, -58.3742310066057 4.80525764158675, -58.3742307477275 4.80512841196238, -58.374262792431 4.80504757818393, -58.3743432767657 4.8050312613731, -58.3744076897614 4.80503113241813, -58.374504309249 4.80503093761766, -58.3745527498087 4.80509545456101, -58.3745850525067 4.805143850386, -58.3746013513201 4.80524074034179, -58.3746337844118 4.80535375050826, -58.3746663146363 4.80551522233485, -58.3747148514765 4.80562820091735, -58.3747955948601 4.8057411136287, -58.3748762735164 4.80582172005629, -58.3750213346692 4.80588604203554, -58.3751018505378 4.80588587960239, -58.3751984377306 4.8058695310859, -58.3752948962593 4.805788567321, -58.3753591158611 4.80569151585717, -58.3754231725915 4.80551369467673, -58.3754307377025 4.80527137380134, -58.3753660971054 4.80515842778549, -58.3753337286888 4.80507772394592, -58.3753013279006 4.80498086742407, -58.3753010688376 4.80485163876137, -58.3753169449441 4.8047385293883, -58.3753649960382 4.80460920327023, -58.3754452859585 4.80449596485918, -58.3755256073397 4.80439888093365, -58.3756381036584 4.80428557753918, -58.3757345943381 4.80422076827195, -58.3759114710645 4.80409118040072, -58.3759757552556 4.80402643519779, -58.3760884125098 4.80399390056258, -58.3762010706501 4.80396136590999, -58.3762334723673 4.80405822327179, -58.3762497704293 4.80415511222904, -58.3762339583666 4.80430052782858, -58.3761859083623 4.80442985485834, -58.3761216898684 4.80452690633418, -58.3760574380602 4.80460780513731, -58.3760414972762 4.80468860552752, -58.3760256536902 4.80481786755651, -58.376090163823 4.80486619918084, -58.3761707128403 4.80488219023097, -58.376235029457 4.80483359856727, -58.3763153831295 4.80475266724199, -58.3763956395645 4.80462327609041, -58.3764759616869 4.80452619027699, -58.3766366382831 4.80434817492782, -58.3767492000882 4.80426717945408, -58.3768938701383 4.80413765731314, -58.3771029529567 4.80400800507039, -58.3771994425038 4.80394319474368, -58.377328107815 4.8038621666869, -58.3774568361404 4.80381344575537, -58.377585532011 4.80374857033252, -58.3777142945181 4.80371600202249, -58.3779557780063 4.80368320682605, -58.3780684034835 4.80363451834012, -58.3781326225 4.80353746497104, -58.3781646666723 4.80345663206347, -58.378180477443 4.80331121654082, -58.3781963215584 4.80318195548564, -58.3781800557336 4.80310121930434, -58.3781315835639 4.80302054820209, -58.3780428856837 4.8029561138117, -58.3779622071956 4.80287550776248, -58.3779620774698 4.80281089349982, -58.3779618504521 4.80269781763544, -58.3780100622146 4.80264925933706, -58.3780744748853 4.80264912919567, -58.3783482309681 4.80264857511801, -58.3785414374032 4.80263203011186, -58.378670263614 4.80263177062618, -58.3787667861434 4.80258311373197, -58.3788794104649 4.80253442518095, -58.3790563509306 4.80243714480483, -58.3791044985718 4.80235627933828, -58.3791203425345 4.80222701741021, -58.3791200495449 4.80208163448489, -58.379184203395 4.80195227488616, -58.3792323825523 4.80188756207849, -58.3793288400179 4.8018065989361, -58.3794252649994 4.80170948132582, -58.3794894827854 4.80161242883708, -58.3795375978772 4.80151540981394, -58.3795534733389 4.80140230145913, -58.3795532136695 4.80127307301507, -58.3795047091005 4.8011762484596, -58.3794723721306 4.80111169935589, -58.3794238675893 4.80101487478766, -58.3793753639679 4.80091805111435, -58.3793429621251 4.80082119397824, -58.3792783540686 4.80072440284582, -58.3792297522555 4.80057911757275, -58.3790924529333 4.80036939705878, -58.3790117107727 4.80025648395446, -58.3789471028299 4.80015969276034, -58.3789308379969 4.80007895659304, -58.378914571369 4.79999822133208, -58.3789304803099 4.79990126652606, -58.3789786603092 4.79983655376533, -58.3790751491313 4.79977174428991, -58.3791556326079 4.79975542802395, -58.3792200458775 4.79975529785087, -58.3793327670666 4.79975507003745, -58.3794938646676 4.7997870516658, -58.3796227551908 4.79981909836135, -58.3797515799098 4.79981883701674, -58.3798643028889 4.7998186100133, -58.380025301311 4.79980212994488, -58.3802344480049 4.79970478437849, -58.3802825629181 4.7996077644621, -58.3802823681356 4.7995108431539, -58.3802499663005 4.79941398607476, -58.3801532170983 4.79934956725381, -58.3800403337331 4.79926902741781, -58.3799436161183 4.79922076211095, -58.3798630362931 4.79918861778166, -58.379782422219 4.79914031898488, -58.3797018415067 4.79910817553777, -58.3796534353998 4.79905981251918, -58.379637233638 4.79901138349835, -58.379669213564 4.79889824260372, -58.3797334960514 4.79883349728102, -58.3798461530713 4.79880096321966, -58.3799749784887 4.79880070188619, -58.3801359766709 4.79878422276522, -58.3802647046976 4.79873550162678, -58.3803772642669 4.79865450412295, -58.380521965896 4.79854113527834, -58.380618390336 4.7984440185759, -58.380730916445 4.79834686930062, -58.3808273732935 4.79826590522835, -58.380939931809 4.79818490857824, -58.3810203509616 4.79813628506224, -58.381149077866 4.79808756290668, -58.3812778381264 4.79805499517988, -58.3814066633277 4.7980547345211, -58.3815837655966 4.7980382225322, -58.3817285958983 4.79798946769556, -58.3818251491159 4.79795696415648, -58.3819376767401 4.79785981474962, -58.3820341324438 4.79777885056835, -58.3821223414224 4.79760098144136, -58.3821542875114 4.79747168702524, -58.3821860061437 4.79722931783477, -58.382185681221 4.79706778153563, -58.3822015563362 4.7969546732606, -58.3821851604654 4.79680932309541, -58.3821527279412 4.79669631350073, -58.3821364936382 4.79663173193514, -58.3820880226605 4.7965510610997, -58.3820396148611 4.79650269734256, -58.3820073114182 4.79645430189487, -58.3819427695117 4.79638981897814, -58.3818943626357 4.79634145520242, -58.3818459241918 4.79627693878161, -58.3818296899349 4.79621235629234, -58.3818456309893 4.79613155599878, -58.3818776745787 4.79605072312571, -58.3819581250023 4.79601825222669, -58.3820708463492 4.79601802413657, -58.3821513942062 4.79603401474365, -58.3822480779855 4.79606612628909, -58.3823770327206 4.79613048061415, -58.3826670507235 4.79621066064521, -58.3828603199413 4.79622642294105, -58.3830051497313 4.79617766887213, -58.383117610997 4.79604821142862, -58.3831978662727 4.79591881920193, -58.3832620831169 4.79582176665269, -58.383310196525 4.79572474671623, -58.3833582783167 4.79561157415045, -58.3834948945571 4.79548206776871, -58.3836394305897 4.79528793004238, -58.3837679299811 4.79512613288834, -58.3838964618334 4.7949804892557, -58.3839928193629 4.79485106439033, -58.3841052811538 4.79472160779862, -58.38428202365 4.79452740477915, -58.3844265927181 4.79434942143156, -58.3845551559235 4.79421993128071, -58.3846675840799 4.79407432022819, -58.3847800121923 4.79392870917042, -58.3848603645629 4.79384777747107, -58.3849567226758 4.79371835256239, -58.3850853498394 4.79362116941698, -58.3851819031106 4.79358866652541, -58.3853107272616 4.79358840537278, -58.3854235140394 4.79362048388109, -58.3854880223973 4.79366881384236, -58.3854881209372 4.79371727439594, -58.3854882836719 4.7937980428925, -58.3855046474135 4.79392723838661, -58.3855692227149 4.79400787626607, -58.3856659053009 4.79403998736758, -58.3857786261461 4.79403975875974, -58.3858590434899 4.7939911349095, -58.3859394608187 4.79394251014861, -58.3859876397607 4.79387779809849, -58.3860680245045 4.79381301981438, -58.386148409234 4.79374824242949, -58.3862609997487 4.79368339879897, -58.3863413835403 4.79361862140261, -58.3864218333499 4.7935861501191, -58.3865022840531 4.79355367973085, -58.3865665653562 4.79348893408603, -58.3865824723795 4.79339198034607, -58.3865823095302 4.79331121188611, -58.3865660433459 4.79323047700399, -58.3865498106371 4.79316589562975, -58.3865174411284 4.79308519341587, -58.3864930581634 4.79297216603047, -58.3864929288066 4.79290755198097, -58.3865250368749 4.79285902610784, -58.3865732148019 4.7927943140543, -58.3866375937462 4.79277802895703, -58.3867664185673 4.79277776757229, -58.3868469324991 4.79277760419769, -58.3869435506561 4.79277740813277, -58.38705630381 4.79279333288243, -58.3871529219588 4.79279313588283, -58.3872495075259 4.79277678717164, -58.3873138203677 4.79272819500481, -58.3873458640965 4.79264736119353, -58.3873456686027 4.7925504401562, -58.387264893176 4.79242137552901, -58.3872003188261 4.79234073781883, -58.3871196402779 4.79226013277989, -58.3870550976347 4.79219564946092, -58.3869905884759 4.79214731963926, -58.3868453682718 4.79200223211382, -58.3867807940132 4.79192159433732, -58.3867322561503 4.79180861776891, -58.3867481966406 4.79172781664304, -58.3867641045676 4.79163086200707, -58.3867961148927 4.79153387561086, -58.3868603634631 4.79145297648746, -58.3869245794573 4.79135592475696, -58.3869889265953 4.79132348615633, -58.3870532728261 4.79129104845762, -58.3871659605835 4.79127466533936, -58.3873590978235 4.79122581270988, -58.3874716887236 4.79116096902649, -58.3875520395568 4.79108003809636, -58.3876001856123 4.79099917162, -58.387632163227 4.79088603172061, -58.3876802441088 4.79077285823531, -58.3877445250865 4.7907081134867, -58.3878249093208 4.79064333514578, -58.3879053261224 4.79059471120741, -58.3880019104421 4.79057836067682, -58.3880663551975 4.79059438432542, -58.3881630046822 4.79061034077627, -58.3882597202536 4.7906586060208, -58.3883403651583 4.79072305654178, -58.3884049394022 4.79080369324879, -58.3885098696368 4.79093270958964, -58.3885583415503 4.79101337897229, -58.3885908080074 4.79114254245423, -58.3886394429702 4.79130398021776, -58.3887523923758 4.79141682663239, -58.3888329395893 4.79143281566053, -58.3889133889724 4.79140034509454, -58.3889775720048 4.79128713885661, -58.3890095493723 4.79117399805131, -58.3890415267359 4.79106085815164, -58.3890897051974 4.7909961451166, -58.3891700557717 4.79091521405683, -58.3892505059736 4.79088274256666, -58.3893148520029 4.79085030560199, -58.3893952360486 4.79078552711485, -58.3894595494383 4.79073693574415, -58.3895237975739 4.7906560355769, -58.3895719759647 4.79059132343296, -58.3896039858479 4.79049433612722, -58.3896843372041 4.79041340503866, -58.3897808244152 4.79034859470729, -58.3898773424271 4.79029993695666, -58.3900222363228 4.79028348887473, -58.3901671954683 4.79029934773991, -58.3902799807558 4.79033142554234, -58.3904088692951 4.79036347057886, -58.3905216545937 4.790395548335, -58.3906183375533 4.79042765881762, -58.3907472578552 4.79047585726604, -58.3908601420269 4.79055639540346, -58.390876440282 4.79065328354594, -58.3909570853436 4.79071773459136, -58.3910861372455 4.79083054778059, -58.3911988908651 4.79084647100629, -58.3913115129318 4.79079778119907, -58.3914402055587 4.79073290422343, -58.3915688972564 4.79066802813674, -58.3916653842398 4.79060321667671, -58.3917619356472 4.79057071306807, -58.3918585532919 4.7905705163988, -58.3920196147663 4.79058634115821, -58.3921405497671 4.79066686264481, -58.3923178125543 4.7907311167653, -58.3925272809431 4.79079530433379, -58.3927689549358 4.7908594262224, -58.3929944275993 4.79087512041724, -58.3932521394389 4.79090690237187, -58.3934776120813 4.79092259549513, -58.3936708464224 4.79092220163116, -58.3938640489253 4.7909056542487, -58.3940250440329 4.79088917157882, -58.3941860400253 4.79087268977581, -58.394331030972 4.79090470115414, -58.3945565371785 4.79093654827435, -58.3947175986205 4.79095237325905, -58.3948304504142 4.79101675712578, -58.3949110957616 4.79108120667903, -58.3949596001615 4.79117802974603, -58.3950082701462 4.79135561916732, -58.3950407705179 4.79150093634184, -58.3951055756703 4.79169464633413, -58.3951380760961 4.79183996258751, -58.3951705119224 4.79195297192774, -58.3951869091335 4.79209832013399, -58.3951711344164 4.79225988933437, -58.3951714292961 4.79240527131041, -58.3951717241831 4.79255065238143, -58.3952041600818 4.79266366170638, -58.3952848056913 4.79272811205023, -58.3953492169589 4.79272798054928, -58.3953974275411 4.79267942066229, -58.3953972309117 4.79258249995805, -58.395413137544 4.79248554456818, -58.3954129072486 4.79237247041518, -58.3954610850365 4.79230775708139, -58.3954931267917 4.79222692407807, -58.3955412717944 4.79214605819796, -58.3955894486563 4.79208134486471, -58.3956053880449 4.79200054473868, -58.3955808726877 4.79182290429892, -58.3955645400561 4.79170986302523, -58.3955482729714 4.79162912864949, -58.3955480435946 4.791516053594, -58.3955800197917 4.79140291279411, -58.3956443007538 4.79133816750142, -58.3957569223637 4.79128947703067, -58.395885711826 4.79127305966017, -58.3959984654026 4.79128898204016, -58.3961112508587 4.79132105875268, -58.39622400354 4.79133698290229, -58.3963528594478 4.7913528732364, -58.3964977521035 4.79133642376443, -58.3966587151751 4.79130378701885, -58.3967875054725 4.79128737038644, -58.3969162301594 4.7912386459455, -58.3970933282827 4.79122213055225, -58.397270427284 4.79120561420936, -58.3973670447903 4.79120541673577, -58.3974475918852 4.79122140560181, -58.3975603436148 4.79123732952854, -58.397689265091 4.79128552557371, -58.3978020514458 4.79131760198241, -58.397914771261 4.79131737150345, -58.3980114215802 4.79133332736746, -58.3981079405953 4.79128466948621, -58.3981882569956 4.7911875833303, -58.3982684429633 4.79102588344317, -58.3983004843326 4.7909450495149, -58.3983324928702 4.79084806306031, -58.3984129085902 4.79079943809571, -58.3985094594249 4.79076693271478, -58.3985576367893 4.79070221927791, -58.3985574397964 4.79060529869932, -58.3985251349122 4.79055690428436, -58.3984767286423 4.79050854279835, -58.3984282549208 4.79042787444904, -58.3984118900141 4.790298679029, -58.3984599360627 4.79016935188246, -58.3985725243404 4.79010450672617, -58.3986690094135 4.79003969539869, -58.3987493584529 4.78995876266799, -58.3987974381598 4.78984558894865, -58.3988937261692 4.78968385613422, -58.3989819297224 4.78950598636169, -58.399030074146 4.78942512040543, -58.3991103254736 4.78929572738285, -58.3991905767735 4.7891663334548, -58.3992387202545 4.78908546749909, -58.3992707295366 4.78898848015335, -58.399302737012 4.78889149371659, -58.3993186422336 4.78879453931811, -58.3992702360844 4.78874617786586, -58.3992058252977 4.78874630962698, -58.3991092082146 4.78874650816354, -58.3990609653326 4.78877891382885, -58.3989966858562 4.78884365928149, -58.3988840978106 4.78890850443777, -58.3988035838439 4.78890866909928, -58.3987069995432 4.78892502011087, -58.3986265192919 4.78894133818036, -58.3985137661794 4.78892541523354, -58.3984493225374 4.78890939349704, -58.3984170505903 4.78887715248066, -58.3983524756935 4.78879651700486, -58.3983362093708 4.78871578276257, -58.3983359131493 4.78857040096983, -58.3983840895384 4.78850568758328, -58.3984805425413 4.78842472200239, -58.3985608923795 4.78834379024148, -58.3986089711842 4.78823061655605, -58.3986892216318 4.7881012245024, -58.3987534026372 4.78798801699137, -58.3988659258384 4.78789086594021, -58.3989946159761 4.78782598881065, -58.3991552168987 4.78761566314769, -58.3992677719023 4.78753466458762, -58.3994448031999 4.78748584112477, -58.3996219338688 4.78748547879763, -58.3997346858084 4.78750140253027, -58.3998314668958 4.78758197197304, -58.3998961412006 4.78771106755836, -58.3999285764491 4.78782407651599, -58.3999930856691 4.78787240497553, -58.400057530102 4.78788842658312, -58.400138011056 4.78787210838895, -58.400202323179 4.78782351540065, -58.4002342657013 4.7876942212262, -58.4002662091215 4.78756492795588, -58.4002818505213 4.7873387462273, -58.4002893427365 4.78706411981278, -58.4002890799555 4.78693489245697, -58.400256381974 4.78669265525572, -58.4002239467836 4.78657964631017, -58.4001754404629 4.78648282463414, -58.4001430053047 4.78636981567728, -58.4000138221206 4.78619239068574, -58.3999169427645 4.78606336094707, -58.3998038627816 4.78588590203824, -58.3997069506907 4.78574071882039, -58.3996100395471 4.78559553557437, -58.3994485511845 4.78536971506204, -58.399383878199 4.78524061843045, -58.3993031021811 4.78511155470314, -58.3992383308323 4.78493399866295, -58.3991171660302 4.78474040346366, -58.3990524922915 4.7846113076691, -58.3990200246792 4.78448214514359, -58.3990677416083 4.78419128289076, -58.3991158530282 4.78409426269491, -58.3992444441139 4.78398092453771, -58.3994052749291 4.78388367487547, -58.3995017591865 4.7838188627935, -58.3996142808349 4.78372171184054, -58.3997268024484 4.78362455997375, -58.3998714963538 4.78351118793112, -58.4000000552804 4.78338169717791, -58.4000804372877 4.78331691797037, -58.4001285157013 4.78320374433839, -58.4001444537244 4.78312294520892, -58.4000798785058 4.78304230888149, -58.399966996087 4.7829617722017, -58.3998702823152 4.78291350852398, -58.3998057718636 4.78286517991084, -58.3996928904003 4.78278464316567, -58.3996765896705 4.7826877555239, -58.399708631654 4.78260692167114, -58.3999097834114 4.78254189567289, -58.4000546083452 4.78249313826113, -58.4001510923601 4.78242832706463, -58.4002797823369 4.78236345001673, -58.4003762334877 4.78228248447433, -58.4005048249472 4.78216914623294, -58.4006657198915 4.78210420238192, -58.400810413342 4.78199083208398, -58.4009230001727 4.7819259869834, -58.40103548849 4.78181268162026, -58.4011318747042 4.78169941008923, -58.4012121250862 4.78157001626785, -58.4012601038553 4.78140838239705, -58.4012920133888 4.78126293578477, -58.4013561944874 4.78114972831875, -58.4014365423882 4.78106879655385, -58.4015651653833 4.78097161254703, -58.4016453827893 4.7808260662125, -58.4017256330054 4.78069667329041, -58.4017576081189 4.78058353261234, -58.4020226105859 4.78024376465673, -58.4020868562856 4.78016286581328, -58.4021832421304 4.78004959334334, -58.4022636235605 4.77998481404806, -58.4024083491545 4.7798875970221, -58.4025048006076 4.77980663134789, -58.4026334889128 4.77974175315952, -58.4027460751807 4.77967690881812, -58.4029070021048 4.77962811807409, -58.4030035191731 4.77957946006966, -58.4031483102743 4.77951454974839, -58.4032608964363 4.77944970444275, -58.4035021715836 4.77931998081781, -58.403598687647 4.77927132275605, -58.4036790350532 4.77919039086584, -58.403807691113 4.779109360026, -58.4039524500224 4.77902829437687, -58.4040489002402 4.77894732947843, -58.4041775561973 4.77886629769038, -58.4042901092402 4.77878529887859, -58.404418732244 4.77868811366746, -58.4045312843262 4.77860711664325, -58.4046437723948 4.77849381010484, -58.4047401895521 4.77839669085686, -58.4048366075856 4.77829957250559, -58.4049169547223 4.77821863963981, -58.4050293430752 4.77805687471269, -58.4050935562109 4.77795982054537, -58.4052141933134 4.77789495944695, -58.4053429796209 4.7778785419969, -58.4054717668169 4.7778621245226, -58.4055683162937 4.77782961876345, -58.4056648319465 4.77778095960877, -58.4057291107863 4.77771621399599, -58.4057772200448 4.77761919372544, -58.4058091935436 4.77750605399276, -58.4058250669049 4.77739294727395, -58.405824836529 4.77727987267076, -58.405921285362 4.77719890673926, -58.4060500723901 4.77718248919751, -58.4061467534001 4.7772145978303, -58.4061952246805 4.7772952656744, -58.4062436977788 4.77737593441224, -58.406308239899 4.77744041582891, -58.4064050846753 4.77755329131974, -58.4065019633168 4.77768232107038, -58.4065987752305 4.77777904313373, -58.4067439286321 4.77789181942707, -58.4068407085723 4.77797238896132, -58.4069535584343 4.77803677114448, -58.4070665062493 4.77814961433849, -58.4071955889944 4.77827857691969, -58.4073407755409 4.77840750730394, -58.4075181998999 4.77855252488548, -58.4076633865575 4.77868145426113, -58.4079053195768 4.77887479952793, -58.4081794245605 4.7790519242284, -58.4083728861328 4.77916460166504, -58.4085662808782 4.77924497139441, -58.4087596426625 4.77930918769149, -58.4090900410858 4.77945388933072, -58.4092512311226 4.77953432503358, -58.4093801833553 4.77959867446443, -58.4095252384687 4.779662989839, -58.4096381208913 4.779743525685, -58.4097510033357 4.77982406060001, -58.4098316809709 4.7799046617462, -58.4098802867868 4.78004994256038, -58.409945026732 4.78021134539847, -58.4100418733766 4.7803242200734, -58.4101549872008 4.78051782925992, -58.4102841048656 4.78066294429948, -58.4104936030311 4.7807432810493, -58.4106224894748 4.7807753225375, -58.4108159509067 4.78088799811477, -58.4108805268091 4.7809686331235, -58.4109612047106 4.78104923405525, -58.411074186684 4.7811782286815, -58.4112032385298 4.7812910376632, -58.4112678145166 4.78137167170546, -58.4114614746282 4.78158126798751, -58.4116470190586 4.78175857408191, -58.4117599351223 4.78185526274033, -58.4118567813973 4.78196813699878, -58.4119698298732 4.78212943896482, -58.4120505089417 4.78221003968571, -58.4121632596672 4.78222596063838, -58.412259875294 4.78222576143365, -58.4123564569159 4.78220940797508, -58.412436870334 4.78216078284365, -58.4124850788363 4.78211222231028, -58.4125171513346 4.78204754255091, -58.4125170189337 4.78198292830004, -58.4125167872399 4.7818698549434, -58.4125326906385 4.78177290081493, -58.4125162898666 4.78162755308521, -58.4125160912847 4.78153063215982, -58.4125158927068 4.78143371123416, -58.4125318301141 4.78135291225123, -58.4125962058392 4.78133662520143, -58.4126767193439 4.78133645917711, -58.4127250932847 4.78136866622968, -58.4129024531012 4.78148137517506, -58.4129830310232 4.78151351578065, -58.4130635445331 4.78151334880035, -58.413144056239 4.7815131827187, -58.4132083666255 4.78146458984975, -58.4132726447905 4.78139984364389, -58.4133368898274 4.78131894319985, -58.4134174015011 4.78131877709284, -58.4134818783353 4.78135095085816, -58.4135303507544 4.78143161783368, -58.4135627883545 4.78154462559034, -58.4135791553087 4.781673819903, -58.4135954909538 4.78178685997566, -58.4135957559466 4.78191608751323, -58.4136284245868 4.78214216946323, -58.4136448256278 4.7822875161866, -58.4136772955548 4.78241667724775, -58.413709733269 4.78252968406901, -58.4137904116416 4.78261028541599, -58.4139193315675 4.78265847945947, -58.4140320160426 4.78264209341822, -58.4141124956048 4.7826257729522, -58.4142090449189 4.78259326680694, -58.4142410840951 4.78251243278034, -58.4142248154829 4.78243169940901, -58.4141924448847 4.78235099928317, -58.414160106535 4.78228645248019, -58.4141760768648 4.78222180502841, -58.4141920131537 4.78214100515847, -58.41425629034 4.78207625796769, -58.4143367035436 4.7820276317529, -58.4144655239176 4.78202736484208, -58.4146104471698 4.7820270655552, -58.4147553363592 4.78201061291862, -58.4149324644502 4.78201024704637, -58.4150774539872 4.78204225339477, -58.4152707826336 4.78209031502501, -58.4153674312764 4.78210626779986, -58.4154319745701 4.78217074796423, -58.4154965833185 4.78226753565635, -58.4155129184078 4.78238057649004, -58.4154969822857 4.78246137634586, -58.4154005657878 4.7825584968185, -58.4152476905327 4.78260727379936, -58.4151349738854 4.78260750580622, -58.4150384909819 4.78267232051578, -58.4149419757944 4.7827209800871, -58.4148776977459 4.78278572643728, -58.4147973508444 4.78286665936998, -58.4147492428929 4.78296367999225, -58.4147173364127 4.78310912731298, -58.4146693601747 4.7832707612231, -58.4146536229164 4.78344848192317, -58.4147023950313 4.7836745304185, -58.4147510677003 4.78385211713032, -58.4148158765053 4.78404582477935, -58.4148645160893 4.78420725995443, -58.4149291582196 4.78432020007575, -58.4149938012763 4.78443314018243, -58.4151066518405 4.78449752137757, -58.4152355389965 4.78452956172205, -58.4154289356616 4.78460992881749, -58.4156223000689 4.78467414252918, -58.4157351175114 4.78472236937387, -58.4158802063373 4.78480283621074, -58.4159608529342 4.78486728382924, -58.4159771550808 4.78496417038726, -58.4160095924837 4.78507717785003, -58.4160902714299 4.78515777784725, -58.4162352616559 4.78518978463918, -58.4163481115172 4.7852541646544, -58.4165575781775 4.78531834470301, -58.4167669784144 4.78535021806526, -58.4169924151416 4.78534975141476, -58.4171212350883 4.78534948472614, -58.4172178518466 4.78534928469005, -58.4172984303257 4.78538142458998, -58.4173790097096 4.78541356357194, -58.4174756588042 4.78542951679891, -58.4175883776014 4.78542928426585, -58.4176849260573 4.78539677666225, -58.4177008951183 4.78533213011702, -58.41770076214 4.78526751601771, -58.4177006624089 4.78521905612142, -58.4176683568077 4.78517066292611, -58.4176360530147 4.78512226972413, -58.4175876121516 4.78505775656923, -58.4175552733272 4.78499320915948, -58.417555107134 4.78491244175549, -58.4176355202624 4.78486381512788, -58.4177804430099 4.78486351499483, -58.4179092969691 4.78487940148058, -58.4180139965371 4.78489533797527, -58.418078440592 4.78491135784492, -58.4181751561051 4.78495961758062, -58.41823969903 4.78502409822368, -58.4183203448925 4.78508854368343, -58.4184975732846 4.78513663653364, -58.4185780195984 4.78510416310027, -58.4186583652045 4.78502322888076, -58.4187225764084 4.78492617563971, -58.4187223768158 4.78482925498482, -58.4187060743112 4.78473236860571, -58.4186898059774 4.7846516346104, -58.4186896054994 4.78455471395522, -58.4187056418906 4.78452237490547, -58.418770018474 4.78450608723006, -58.4188505644989 4.78452207456728, -58.4189150085124 4.78453809436292, -58.4189955878071 4.78457023406656, -58.4190761662054 4.7846023737603, -58.4192211895337 4.78465053320191, -58.4193178052024 4.78465033199616, -58.4194627943628 4.78468233899808, -58.4195433071147 4.78468217114793, -58.4196882297038 4.78468187062246, -58.4198975630173 4.78468143647453, -58.4200263169875 4.78464886180487, -58.4200906602203 4.7846164216332, -58.4201871417583 4.78455160808606, -58.4202836241756 4.78448679362434, -58.4203801389719 4.7844381324365, -58.4204766546549 4.78438947214156, -58.420573136115 4.78432465855988, -58.4206696517609 4.78427599734198, -58.4207339292 4.78421124966679, -58.4207497980371 4.78409814330807, -58.4207014236593 4.78406593699352, -58.4206047424236 4.78403383090606, -58.4205402984685 4.78401781126695, -58.4204114456638 4.78400192524441, -58.4203147302398 4.78395366492568, -58.4202663225927 4.78390530619422, -58.4202661552182 4.78382453888484, -58.4203303993839 4.78374363887138, -58.4204591189501 4.78369491180392, -58.4206362137311 4.78367839014471, -58.4207972389189 4.78367805603769, -58.4209421612158 4.7836777544054, -58.4211031197572 4.78364511367535, -58.4213605928544 4.78356381164181, -58.4215777438521 4.78345028655798, -58.4217063308153 4.78333694621046, -58.4218027786606 4.78325597745234, -58.4218831578551 4.78319119719999, -58.4219796056587 4.78311022933331, -58.4220760543418 4.78302926236214, -58.4221725687647 4.78298060192258, -58.4222530154553 4.78294812727566, -58.422413973683 4.78291548630606, -58.4225588281334 4.78288287785002, -58.4226876824539 4.78289876351275, -58.4228970140507 4.78289832861143, -58.4230581732115 4.78296260707403, -58.4232514686649 4.78299451204146, -58.4234285963519 4.78299414299266, -58.4236379288133 4.78299370875877, -58.4237989202576 4.78297721983252, -58.4239600118089 4.78300919154236, -58.4240084529344 4.78307370411501, -58.4240569608278 4.78317052409579, -58.4241376735262 4.78326727618901, -58.4242665260664 4.78328316152575, -58.4243953470215 4.78328289358015, -58.4245241002882 4.78325031910893, -58.4246688886861 4.78318540280793, -58.4248136436576 4.78310433504341, -58.4250789667317 4.78292609556213, -58.4251915502292 4.78286124710433, -58.4253202699336 4.78281251836713, -58.4255294008044 4.7827151632004, -58.42575463532 4.78261777355862, -58.4259155262297 4.78255282535375, -58.4260281095571 4.78248797679948, -58.4261729310043 4.78243921441406, -58.4263177189973 4.78237429876466, -58.4263820281527 4.7823257058168, -58.4264301685347 4.78224483811377, -58.4264782411502 4.78213166393567, -58.426510179332 4.78200237095723, -58.4265260472358 4.78188926385166, -58.4265741875827 4.78180839615169, -58.4266222935904 4.78171137521585, -58.4267186745273 4.78159810133519, -58.426895533218 4.78146850470904, -58.4269598422491 4.78141991083881, -58.4270402215175 4.78135513018473, -58.4271206658387 4.78132265509346, -58.4272011779309 4.78132248736481, -58.4272817569021 4.78135462609286, -58.4272979256643 4.78138689991528, -58.4272980937754 4.78146766607799, -58.4272821582043 4.7815484657935, -58.4272501207501 4.78162929996298, -58.4271858451735 4.78169404709351, -58.427169943936 4.78179100094754, -58.4272023158266 4.78187170001576, -58.4272989976613 4.78190380517033, -58.4274117144955 4.78190357029013, -58.4275242975228 4.78183872246696, -58.4276046758541 4.78177394175053, -58.4277171910238 4.78167678564062, -58.4278297414227 4.78159578455559, -58.4279261881109 4.78151481612328, -58.428038771012 4.78144996824835, -58.4281675235859 4.78141739324434, -58.4282642388178 4.78146565059032, -58.428361020999 4.78154621617799, -58.4285302964628 4.78164278296067, -58.4286270117431 4.78169104114238, -58.428739728477 4.78169080605413, -58.4288525121658 4.78172287739093, -58.4289492944361 4.78180344286342, -58.4290621786013 4.78188397291344, -58.4291266892802 4.78193229909557, -58.4292556092818 4.78198048996994, -58.4293683260319 4.7819802547641, -58.4295776911388 4.78199597111948, -58.4297066446627 4.78206031511139, -58.4297551187151 4.78214098035509, -58.4298358997679 4.78227003890743, -58.4299005771691 4.78239913106117, -58.4299973931471 4.78249584862765, -58.4300941421212 4.78256025974682, -58.4302713017843 4.78257604217524, -58.4304161906314 4.78255958720432, -58.4306575258127 4.78246216254203, -58.430818448513 4.78241336563907, -58.4309954748581 4.78236453505949, -58.4312370110809 4.78236403036959, -58.4315268202455 4.78234727142836, -58.4320018420559 4.78234627751991, -58.4323077874299 4.78234563778541, -58.4325654262699 4.78234509804995, -58.432967986338 4.7823442559337, -58.4332417269612 4.7823436822556, -58.4335960140342 4.78235909313825, -58.4337571043006 4.78239106335656, -58.4341437303764 4.78247101926357, -58.4344177062255 4.78258351827843, -58.4347561258914 4.78271203540212, -58.4349495226239 4.78279239736192, -58.4351751240019 4.78287269086008, -58.4354007935998 4.78298529061549, -58.4356023764122 4.78313024816122, -58.4357796377882 4.78319448950021, -58.4359892047854 4.78330712366626, -58.4361986699392 4.78337129643372, -58.4362955212831 4.78348416687043, -58.4363600997874 4.7835647985064, -58.4364569157105 4.783661514836, -58.4365537662375 4.7837743843077, -58.4366667186698 4.78388722087428, -58.4367634345387 4.78393547763738, -58.4368762859735 4.78399985375491, -58.4370212755981 4.78403185683207, -58.4371822997103 4.78403151794332, -58.4372949481128 4.7839989750125, -58.4373915638266 4.78399877128216, -58.437456141593 4.78407940276224, -58.4376012651321 4.78417601743489, -58.4377142860819 4.78432115916473, -58.4377627957542 4.78441797847038, -58.4377791682029 4.78454716990948, -58.4377472660295 4.78469261686595, -58.4376992291582 4.78482194448223, -58.4375869177512 4.78501602000058, -58.4375389127472 4.78516150078257, -58.43741854986 4.78535559321113, -58.4373061025954 4.78548505609256, -58.4371453477663 4.78561462040172, -58.4370489021196 4.78569558997057, -58.4369201834232 4.78574431991809, -58.4368237368235 4.78582528856587, -58.4366951537572 4.78593863294638, -58.4365665360518 4.78603582324764, -58.4364862258805 4.78613291123605, -58.4363897800741 4.78621388075603, -58.4362612296398 4.7863433764573, -58.436148883052 4.78652129966671, -58.4360526055702 4.78668303500841, -58.4359724308982 4.78684473746161, -58.4358601852232 4.78707111927246, -58.4357962808474 4.78731355378907, -58.4356842034867 4.78762070236557, -58.435580110131 4.78789552590478, -58.4354680672307 4.78821882857266, -58.4354523011658 4.78838039498571, -58.4354526725788 4.78855808077776, -58.4355335220816 4.78871944443105, -58.4356303725545 4.78883231385057, -58.4357593960639 4.78892896337592, -58.4359045543959 4.78904173132739, -58.4360819513728 4.7891705856848, -58.4362431798956 4.78926716655231, -58.4364204767448 4.78934756038479, -58.4366944557676 4.78946005843466, -58.4369040250428 4.78957269077664, -58.4371458667418 4.78971756167415, -58.4373715053091 4.78981400682731, -58.4375488023625 4.78989440028377, -58.4378388845856 4.79000686390008, -58.4380160795481 4.79003879684263, -58.4382092761455 4.79002223731675, -58.4383702340518 4.78998959232995, -58.4385632955309 4.78990841921055, -58.438925501292 4.78985919660027, -58.4390543208447 4.78985892553015, -58.439118799079 4.78989109717849, -58.4392800280129 4.78998767714848, -58.4393928469323 4.79003589842233, -58.4395217002809 4.79005178039625, -58.4396345539149 4.79011615656994, -58.4397312699707 4.79016441258014, -58.4398441903288 4.79026109408433, -58.4399732145182 4.79035774164696, -58.4400861011347 4.79043827085739, -58.4402311926746 4.79051873130209, -58.4403762175191 4.79056688633664, -58.4404567302204 4.79056671581956, -58.4406338585181 4.79056634263752, -58.4407304393884 4.79054998593273, -58.44082691968 4.79048516891182, -58.4409073638065 4.79045269298693, -58.4409877749963 4.79040406301711, -58.4410842214103 4.7903230937467, -58.4411967359551 4.79022593649767, -58.4412448745625 4.79014506903162, -58.4412929445952 4.79003189440408, -58.4412927416107 4.78993497472303, -58.4412925048009 4.78982190191217, -58.4412761651237 4.78970886394297, -58.4412759621553 4.78961194426028, -58.4413079640322 4.78951495761062, -58.4413722392941 4.78945020844125, -58.4414365127409 4.78938545927316, -58.4414686508148 4.78935308604187, -58.4415006855876 4.78927225162015, -58.4415005164358 4.78919148507421, -58.4415003472888 4.78911071943241, -58.4415000428313 4.78896534127672, -58.4414837370092 4.78886845553812, -58.4414996030722 4.78875534879751, -58.441563708223 4.78860983399678, -58.4416601543547 4.78852886383308, -58.4417887366834 4.78841552043686, -58.4419173527994 4.78831832925028, -58.4419976969101 4.7882373930033, -58.4421665691379 4.78814011693063, -58.4422308433056 4.7880753686475, -58.4423594949293 4.78799433053391, -58.4424881785611 4.78792944643511, -58.4426168630627 4.78786456141306, -58.4427456820302 4.78786428885624, -58.442890638569 4.78788013723882, -58.4430356280586 4.78791213780413, -58.4431967542336 4.78796025748139, -58.4433579829175 4.78805683645874, -58.4435192098382 4.78815341629229, -58.4436804038222 4.78823384205438, -58.4438416326134 4.78833041997261, -58.443970621013 4.78841091542729, -58.4441640885141 4.78852357927448, -58.444309214593 4.78862019194254, -58.44440610091 4.78874921279493, -58.4444869174317 4.78889442164294, -58.444535463225 4.78900739136662, -58.4445679722043 4.78915270311809, -58.4445843462626 4.78928189486146, -58.4446167892724 4.78939489857796, -58.4447296090952 4.78944311979064, -58.4448907008466 4.78947508582021, -58.4450034189476 4.78947484766836, -58.4451483409223 4.78947454054415, -58.4452771609519 4.78947426922632, -58.4453900138248 4.78953864341421, -58.445503002422 4.78966762997497, -58.4455515814826 4.78979675356236, -58.4457051326896 4.79007103375181, -58.4458019176822 4.79015159496865, -58.4459632480816 4.79029663415785, -58.4460762029774 4.7904094665514, -58.4462535684479 4.79052216448672, -58.4464147292409 4.79058643624134, -58.4465598560163 4.79068304910281, -58.4468017671157 4.79086022202629, -58.4469630299209 4.79097295287675, -58.4472210780537 4.79116624640146, -58.4475273651448 4.79132712861862, -58.4476885610718 4.79140755396358, -58.4479302686689 4.79148780783122, -58.4481720783096 4.79161652083441, -58.4483333074487 4.79171309815898, -58.4485267423728 4.79180960809048, -58.44865583478 4.79193856061047, -58.4489058662222 4.79214802156879, -58.4490027198757 4.79226088917603, -58.4491156755424 4.79237372262064, -58.4492125283609 4.79248658927485, -58.4492933141671 4.79261564311933, -58.4493579971235 4.79274473290289, -58.4494709869734 4.79287371750617, -58.4495354648231 4.79290588793786, -58.4496482853964 4.79295410805458, -58.4497611050793 4.79300232814969, -58.4499383345371 4.79305041156751, -58.4500671899201 4.79306629130308, -58.4501638045587 4.79306608629213, -58.4503087619232 4.7930819309063, -58.4504859573319 4.79311386200633, -58.4506471189001 4.79317813245368, -58.4508244515335 4.79327467478576, -58.4509373394612 4.79335520076267, -58.4510824331974 4.79343565832378, -58.4512275260614 4.79351611674985, -58.4514210972038 4.79367723780204, -58.4515823280401 4.79377381406698, -58.4517274560185 4.79387042539756, -58.4519048903478 4.79401542559893, -58.4520017106096 4.7941121394948, -58.4521145987837 4.79419266519154, -58.4522113849812 4.79427322599146, -58.4523324952611 4.79443450066785, -58.4524131795091 4.79451509474601, -58.4524939652557 4.79464414885592, -58.4525586822515 4.79478938932793, -58.4525912293852 4.79495085221455, -58.4526237415106 4.79509616205028, -58.4526562877935 4.79525762492524, -58.4527210740943 4.79543517234375, -58.4527537920394 4.79567740042183, -58.4528026120714 4.79591959514309, -58.4528351926362 4.79609721102491, -58.4528516028935 4.79624255506696, -58.4528842527095 4.79645247702101, -58.452900765459 4.79664628018399, -58.4529253971174 4.79687237229902, -58.4529901154476 4.79701761353192, -58.4531032775419 4.79722736411375, -58.4532163039653 4.79737250158645, -58.4533452625792 4.79743684045516, -58.4534419118598 4.79745278783279, -58.453570767077 4.79746866572729, -58.4536834168022 4.797436119674, -58.4537638614815 4.79740364217682, -58.4539086478467 4.79733872145033, -58.4539568532926 4.79729015857287, -58.4540695029516 4.79725761156578, -58.4541981520971 4.79717657114968, -58.4543108026211 4.79714402591866, -58.4544073834587 4.79712766619703, -58.4545362043893 4.79712739179445, -58.4546490258465 4.79717561076187, -58.4548100508756 4.79717526769685, -58.4549227697412 4.79717502752589, -58.4550516581576 4.79720705817562, -58.4552128551142 4.79728748104662, -58.4552773686564 4.79733580284385, -58.4553741898576 4.79743251596562, -58.4555034205041 4.79762607765221, -58.4555842423864 4.79777128411846, -58.4556488928966 4.79788421885336, -58.4557295761397 4.79796481229392, -58.4558102954336 4.79806155873656, -58.4558587745857 4.79814222172877, -58.4559395957226 4.79828742811135, -58.4560204511367 4.79844878749313, -58.4561012723558 4.79859399292955, -58.4561983344735 4.7988037778724, -58.4562469849671 4.7989652049906, -58.4562794297652 4.79907820830744, -58.4563118745772 4.79919121071471, -58.4563121485742 4.79932043575727, -58.4563285255742 4.79944962643808, -58.4563287319867 4.79954654544277, -58.4562806294009 4.79964356662946, -58.4562163210504 4.79969216312444, -58.4561358772426 4.79972464185739, -58.4560553631261 4.79972481364484, -58.4559587478053 4.79972501977378, -58.4558298237458 4.79967683553142, -58.4557169342262 4.79959631086828, -58.4556524204052 4.79954798918978, -58.455587907492 4.79949966659604, -58.4555072915877 4.79945137923999, -58.4554266756928 4.79940309187091, -58.4553138889348 4.7993710261856, -58.4552172727302 4.79937123219638, -58.4549999218282 4.79938784959881, -58.4549195797013 4.79946878637449, -58.4548714075536 4.79953350237224, -58.4548393744258 4.7996143361616, -58.454791237381 4.79969520518495, -58.4547593059896 4.7998244980619, -58.4547595797308 4.79995372319161, -58.4547598876984 4.80009910134893, -58.454760162357 4.80022832647564, -58.4547444366567 4.80040604501668, -58.4547124368235 4.80050303274955, -58.454632128783 4.80060012347196, -58.4545678895381 4.80068102592941, -58.4545035809424 4.80072962232794, -58.4544231702 4.8007782539517, -58.454326725732 4.80085922595333, -58.4542302128134 4.80090789098067, -58.4541336989783 4.80095655690475, -58.454037116706 4.8009729149448, -58.4539245691053 4.80105392122988, -58.453844295989 4.80116716403932, -58.453780158311 4.80129652738005, -58.4537725523512 4.80150653488904, -58.453821099187 4.80161950408721, -58.4538535447778 4.80173250668796, -58.4539181947195 4.80184544064492, -58.4540151885916 4.80202291897287, -58.4540960101115 4.80216812644195, -58.4541929680661 4.80232945078352, -58.4543221322382 4.8024907073303, -58.4544190227501 4.802619726452, -58.4545159132997 4.80274874464405, -58.4545966665676 4.80286164503239, -58.4546935571909 4.80299066317776, -58.4547904820971 4.80313583522858, -58.454871338198 4.80329719463286, -58.4549521267504 4.80342624705876, -58.455049017539 4.80355526601134, -58.4551778729903 4.80357114414618, -58.4553469510285 4.80357078241194, -58.4555078080042 4.80348967361681, -58.4557169029735 4.80337615382894, -58.4558616224839 4.80327892633267, -58.4559902722312 4.80319788621782, -58.456167093193 4.80305212906527, -58.4563439483534 4.80292252580879, -58.4565047021711 4.80279295691204, -58.4566654207404 4.80264723498423, -58.4567940016804 4.80253388785231, -58.4569385484907 4.80235589426682, -58.457018856253 4.80225880331439, -58.457147299903 4.80208084411496, -58.4572436068827 4.80193525972918, -58.4573237440042 4.80175740372202, -58.4573717084073 4.80159576862651, -58.4574518779668 4.80143406563665, -58.4575482200162 4.80130463516237, -58.4576928693063 4.80117510056846, -58.4577892798725 4.80107797609561, -58.4579017925262 4.80098081540108, -58.4579982707351 4.80091599692603, -58.4581108519371 4.80085114312514, -58.4582395018234 4.80077010279789, -58.4583359456531 4.80068913038711, -58.4584806984806 4.80060805470977, -58.4585610744648 4.80054327060494, -58.4586898605789 4.80052684132151, -58.4588028200233 4.80063967223737, -58.4588512997345 4.80072033394403, -58.4588837794155 4.8008494899734, -58.4588761397742 4.80104334406908, -58.4588764839086 4.80120487495022, -58.4588285533117 4.8013826621327, -58.4587965541099 4.8014796498926, -58.4587646235504 4.80160894365045, -58.4587167281513 4.80180288383722, -58.4586686954438 4.80193221203194, -58.4586047313029 4.80214233965915, -58.4585729723339 4.80235239842351, -58.458509075911 4.80259483296609, -58.4584772835082 4.80278873873674, -58.458429455793 4.80301498585343, -58.4583897139275 4.80325736785246, -58.4583257496945 4.80346749641367, -58.4582777855353 4.80362912973039, -58.4581977534079 4.80385544573654, -58.4581499590525 4.8040978458812, -58.4581341658101 4.80424325733289, -58.4581184412298 4.8044209756936, -58.458118818859 4.80459866052156, -58.4581836080261 4.80477620577177, -58.4582967391063 4.80496980157336, -58.45840976814 4.80511493833565, -58.4585550025553 4.80526000615574, -58.4587486476356 4.80545342953815, -58.4588777456172 4.80558237780461, -58.4590873900181 4.80572730758593, -58.4592484519977 4.80574311494925, -58.4594256170965 4.80575888869718, -58.4595381987503 4.80569403537268, -58.4596829513338 4.80561295917483, -58.4597793619645 4.8055158334241, -58.4599562854135 4.80541853613414, -58.4601009691083 4.80530515390556, -58.4602135506009 4.80524029960643, -58.4603422351693 4.8051754107982, -58.4604870219067 4.80511048837945, -58.4606479117029 4.80504553053057, -58.4608894527126 4.80504501204436, -58.461131097815 4.80509295421857, -58.4613568109832 4.80522169480526, -58.4615019761272 4.80533445494358, -58.4616633485761 4.80549564033538, -58.461768360245 4.80565694653719, -58.4618329783037 4.80575372624509, -58.4618976299115 4.8058666598211, -58.4619462137682 4.80599578089649, -58.4619949353801 4.80618951385405, -58.4619952806166 4.80635104358088, -58.4619633507591 4.80648033826036, -58.4619151800341 4.80654505378426, -58.4618349425882 4.80667445118939, -58.4617384977908 4.80675542330984, -58.4616581216721 4.80682020881283, -58.4615617112608 4.80691733480063, -58.4614813351028 4.806982119389, -58.4614009589286 4.80704690397237, -58.4613044814058 4.80711172488956, -58.4611758646118 4.80720891810903, -58.4610632838951 4.80727377353683, -58.4609507366645 4.80735478012549, -58.4608221206704 4.80745197511352, -58.4606773679705 4.80753305072215, -58.4605165464854 4.80763031562084, -58.4603638453371 4.80775986830092, -58.4602834345422 4.80780849892211, -58.4601708871155 4.80788950724432, -58.4601067161604 4.80800271618954, -58.4600104103504 4.80814830102745, -58.459962308131 4.80824532337988, -58.4598981371219 4.80835853322931, -58.4598502765737 4.80856862649202, -58.4598183807023 4.80871407330082, -58.459818897616 4.80895636901449, -58.4598515503448 4.80916629063274, -58.4599485462025 4.80934376639441, -58.4600454733005 4.8094889370595, -58.4600939196596 4.80955344543724, -58.4602068458823 4.80965012168119, -58.4603197721372 4.80974679880081, -58.4604488025317 4.80984344045256, -58.4605616599948 4.80990781064396, -58.4606906895473 4.8100044531361, -58.4607552392173 4.81006892689564, -58.4608519590914 4.81011717948562, -58.4609245259565 4.81016548296969, -58.4609731092977 4.81029460315932, -58.4609733503711 4.8104076749121, -58.4609897291125 4.81053686509216, -58.4609094214394 4.81063395661405, -58.4608774578651 4.81074709656076, -58.4608133911423 4.81090876544958, -58.4607332211644 4.81107046979397, -58.4606530167161 4.81121601935069, -58.4605566056893 4.81131314541611, -58.4605084355014 4.81137786097383, -58.460428057911 4.81144264652586, -58.4602994421226 4.81153984165841, -58.4602030309969 4.81163696679763, -58.4600743462807 4.81170185593957, -58.4599939695065 4.81176664146188, -58.4598813870949 4.81183149514137, -58.4597849767669 4.81192862115355, -58.459704667873 4.81202571172876, -58.4596566705628 4.81217119310223, -58.4596730483067 4.81230038337227, -58.45970552934 4.81242953910574, -58.4597782332587 4.81254245460473, -58.4599395387748 4.81267133400888, -58.4600683967392 4.81268721065634, -58.4602133235413 4.81268689884268, -58.4603904206451 4.81267036582173, -58.4605514497986 4.8126700202914, -58.4606803412891 4.8127020498, -58.4607771667452 4.81279876031293, -58.4607935791983 4.81294410436755, -58.4608100270199 4.8131055995866, -58.4607942691911 4.81326716574116, -58.4607785104608 4.81342873009008, -58.460730512492 4.81357421149591, -58.4606504457372 4.81378437485654, -58.4605702420265 4.81392992449257, -58.460506277615 4.81414005239249, -58.4604100049912 4.81430179048112, -58.4603298701036 4.81447964789153, -58.4602657342457 4.81460900999018, -58.4601211170907 4.8147546996854, -58.4600086376368 4.81486801247597, -58.4598800203668 4.81496520773576, -58.4597996432775 4.81502999335135, -58.4596629751723 4.81512720495937, -58.4596149424905 4.81525653340206, -58.4595830113421 4.8153858282026, -58.4595672886679 4.81556354650218, -58.4595837709058 4.81574119569802, -58.4596003565058 4.81596730384685, -58.4596329059053 4.81612876549417, -58.4596653882312 4.81625792025629, -58.4597140083997 4.8164031943393, -58.4597948335365 4.81654839838107, -58.4598756242593 4.81667745122762, -58.4599564141118 4.81680650224804, -58.4600532747191 4.81691936659344, -58.4601500655218 4.81699992405025, -58.4602629588256 4.81708044690776, -58.4603597142997 4.81714485224663, -58.4605450374879 4.81720906553066, -58.4607061366634 4.8172410264971, -58.4608832702495 4.81724064596859, -58.4610281280819 4.81720802774041, -58.4611891582565 4.81720768173414, -58.4613823942684 4.81720726557233, -58.4616561462338 4.81720667629055, -58.4618493813072 4.81720626180684, -58.4619783091163 4.81725444375247, -58.4620911689809 4.81731881325858, -58.4621879254885 4.8173832173678, -58.4623491627536 4.81747978886452, -58.462445883875 4.81752803996003, -58.4625586402306 4.81754395137488, -58.4627196694722 4.81754360498408, -58.4628806996017 4.81754325764888, -58.4629934205064 4.817543015125, -58.4631222793181 4.81755889089055, -58.4632512763075 4.81763937846345, -58.4633319641026 4.81771996997537, -58.4633804806184 4.81781678465122, -58.4634130328767 4.81797824490233, -58.463429516335 4.81815589457528, -58.4634459298032 4.81830123742862, -58.4634463453673 4.8184950738105, -58.4634467254895 4.81867275723672, -58.4634472093014 4.81889889953114, -58.4634888857561 4.81956108766607, -58.4634893005396 4.81975492403902, -58.4635057841978 4.81993257277773, -58.4635705072213 4.82007781156671, -58.4636351620343 4.82019074352545, -58.4636998505477 4.82031982933137, -58.4637645054133 4.82043276126355, -58.4638452628414 4.82054565939903, -58.4638939535524 4.82072323870669, -58.4639586421861 4.82085232355139, -58.4639750223167 4.82098151337327, -58.463975368186 4.82114304379289, -58.4639595769267 4.82128845595672, -58.4638954416122 4.82141781926265, -58.4638313745513 4.82157948847609, -58.4637671700256 4.8216765458791, -58.4636307091895 4.82187067712575, -58.4635342985712 4.82196780391082, -58.4634540596631 4.82209720191028, -58.4633737169868 4.82217814104296, -58.4633095815102 4.82230750344517, -58.4632937892511 4.82245291564201, -58.4633264803757 4.82267898854129, -58.4633429988801 4.82287279112023, -58.4633756554933 4.82308271014409, -58.4634082420674 4.82326032415617, -58.4634569321817 4.82343790436348, -58.4635054839571 4.82355087183938, -58.4635540703468 4.82367999135553, -58.4636669652219 4.82376051317424, -58.4637959290352 4.82382484820629, -58.4639570998952 4.82388911286911, -58.464102097136 4.82392110540431, -58.4643841100173 4.8240174163386, -58.4645613835548 4.82408164610032, -58.4646581058123 4.82412989653956, -58.4648354486457 4.82422643210034, -58.4649645165019 4.82433922477327, -58.4650293106708 4.82451676997027, -58.4650296570441 4.82467830029663, -58.4650461069586 4.82483979587291, -58.4651108656858 4.82500118629045, -58.4651273511948 4.82517883479434, -58.4651600077576 4.82538875532867, -58.4652086639565 4.82555018046544, -58.4652734921416 4.82574387852052, -58.4653222186263 4.82593761041293, -58.4653547713817 4.82609907027796, -58.4654761701273 4.82638956422334, -58.4655250345187 4.82664790781861, -58.465557796303 4.82690628617188, -58.465606731064 4.82719693741716, -58.465671594319 4.8274067873749, -58.4657529435681 4.82779428571967, -58.4658338758938 4.82798794790343, -58.4658986353104 4.82814933898802, -58.4660440862295 4.82839132073598, -58.4662780332252 4.82860080514002, -58.4662943043427 4.82861705501662, -58.4661088729021 4.82864846763833, -58.4660974731033 4.82866210670699, -58.4661089215808 4.82867113293102, -58.4661768557003 4.82873898320818, -58.4663581083944 4.82896524811313, -58.4663813380353 4.82925985164934, -58.4664722566842 4.82950897804389, -58.4666086600822 4.82989400021305, -58.4669257811265 4.83025596422759, -58.4672881428142 4.83064049638964, -58.4676955998814 4.83097959986055, -58.4679898823935 4.83122828468515, -58.4680807044958 4.83143207824082, -58.4681492244368 4.83177191502769, -58.4681156482366 4.831919314488, -58.4680258990983 4.83221416325399, -58.4677551384835 4.83239607528916, -58.4675072670443 4.83271393180242, -58.4674629062046 4.83309934475603, -58.4675766171092 4.83343908377627, -58.4678258067553 4.83373319675083, -58.4681197979961 4.83384588860628, -58.4683231120546 4.833822780934, -58.4686619036652 4.83375404977975, -58.468887619107 4.83364023193686, -58.4693164999938 4.83343531034367, -58.4694968769693 4.83325359456843, -58.4694513434334 4.83309503395269, -58.4693829202107 4.83280052896622, -58.4693821868842 4.83246054559683, -58.4693366037554 4.83227931878575, -58.469223137417 4.8320529083583, -58.4691097181784 4.8318491631513, -58.4691093276944 4.83166783835817, -58.4692897523267 4.83150878711068, -58.469470469787 4.83148573009251, -58.4696514313492 4.83157600020741, -58.4698100910668 4.83180231347396, -58.4701947088472 4.83202813487261, -58.4703083238223 4.83232254168297, -58.4704897743231 4.83263946663734, -58.4709421322306 4.8328424750848, -58.4711231920626 4.83297807601538, -58.4711235840898 4.83315940063493, -58.4711015749741 4.83343143616057, -58.4709665866692 4.83370371692455, -58.4707183745913 4.83386291578577, -58.4703799255769 4.83409030644902, -58.469996431168 4.83438579351118, -58.4696354336663 4.83463589822818, -58.4695005432098 4.83495351125677, -58.4694784847305 4.83520288077286, -58.4695696510545 4.83556533328964, -58.4696496421965 4.83598447520984, -58.4698083015766 4.8362107863307, -58.4700570053278 4.83627824357529, -58.4705089729047 4.83629992784725, -58.4711871941467 4.83645711246727, -58.4718658080308 4.83679562265973, -58.4722054334514 4.83711220274042, -58.4723869854882 4.83747445783225, -58.4723423323317 4.8377238762592, -58.4722301860334 4.83810943704573, -58.4722310187029 4.83849475037099, -58.4724805072209 4.8389248544493, -58.4727527872539 4.83944557094935, -58.4730021286063 4.83980767806973, -58.4732742633272 4.84026039757562, -58.4733423946998 4.84041890829188, -58.4731848598769 4.84071390490506, -58.4728241074568 4.84107734073424, -58.4724630115142 4.8412821172366, -58.4720116770794 4.84155508773532, -58.4712667896851 4.84191935962445, -58.4712575121872 4.84192423898323, -58.4711943527597 4.84201334289166, -58.4711301833564 4.84212655318794, -58.4710499449482 4.84225595229618, -58.4709697423222 4.84240150429235, -58.4709377448599 4.84249849257166, -58.4708735753872 4.84261170377337, -58.4707934067015 4.84277340866499, -58.4707453052946 4.84287043105843, -58.470665031851 4.84298367727483, -58.4706329994334 4.84306451176269, -58.4705687600713 4.84314541717916, -58.4704907097707 4.84330284883673, -58.4704308258222 4.84333447917362, -58.4703774996415 4.84342855834603, -58.4702653521709 4.84381411937021, -58.4702659398427 4.84408610586837, -58.470311573917 4.8442899965746, -58.4704927362824 4.84447092811683, -58.4706963470665 4.84458381292113, -58.4709675514141 4.84460588834084, -58.4712159616982 4.84453735008639, -58.4713512457024 4.84440106281526, -58.4714412873595 4.844242206836, -58.4714857926239 4.84392479079417, -58.4715750981251 4.84342595280462, -58.4717325850186 4.84310829095909, -58.4719581543033 4.84292647385645, -58.4725448210775 4.84253988100957, -58.4730186519326 4.84222153040641, -58.4733122549846 4.8421528942059, -58.4735834090398 4.84215230273574, -58.4739905322469 4.8423327410222, -58.474352462507 4.8425132756864, -58.4743755995657 4.84276254724159, -58.4742855588016 4.84292140244518, -58.4740154363064 4.84339796986545, -58.4735872395085 4.84392021236599, -58.4732268297155 4.84444230710511, -58.4727985817781 4.84494188426444, -58.4725734538583 4.8453276905216, -58.472528851099 4.84559977515961, -58.472439938175 4.84627993756369, -58.4724632713889 4.84661987110005, -58.4725993896816 4.8468688967033, -58.4728709875144 4.84707229456093, -58.4732100796794 4.84713955143385, -58.4735261317774 4.84700286873778, -58.4736613172862 4.84682124878985, -58.4737057721616 4.84648116768655, -58.4737728241702 4.84614103732406, -58.4741786228497 4.8457095053271, -58.4744487938621 4.84525560373033, -58.4748317989288 4.84473345922083, -58.4753051880457 4.84421111658154, -58.4757341215184 4.84402885562586, -58.4763217702827 4.84409556886554, -58.4767060520499 4.84416272658372, -58.4769100576753 4.8444569324112, -58.4770697569793 4.84515921622904, -58.4770025599331 4.84543135088273, -58.4766642570048 4.84572674215503, -58.4762357648607 4.84611299416068, -58.4759089811291 4.84651035569982, -58.4757064029885 4.84687344807456, -58.4756168541699 4.84725895805255, -58.4753919253946 4.84773542751635, -58.4751442507627 4.8481439489606, -58.4748962826448 4.84841647744979, -58.4746475759548 4.84834902350448, -58.4743532825937 4.84810034560054, -58.4741272205496 4.84805550821145, -58.4740144848179 4.84816908158198, -58.474015221951 4.84850906408516, -58.4741290399029 4.84889413136947, -58.4743553480425 4.84905229555028, -58.4750786285849 4.84914137876708, -58.4756443245089 4.84950279157293, -58.4761881640073 4.85020423615548, -58.4762793873058 4.85058935108226, -58.4761900860985 4.85108818882562, -58.4764853666684 4.85179017687202, -58.4767793660084 4.85190286118391, -58.4772771782919 4.85221908866203, -58.4778876770757 4.85239907645852, -58.478295054242 4.85269283563366, -58.4782953502242 4.85282882925798, -58.4781502525604 4.85286835404287, -58.4780623406933 4.85303086154113, -58.477950177098 4.85328955552235, -58.4779021829331 4.85343503681366, -58.4778224374958 4.85379057819884, -58.4777345705588 4.8541138306505, -58.4777026795716 4.85425927759871, -58.4776707894814 4.85440472454704, -58.4776067614109 4.8545825476959, -58.4775748695014 4.85472799465319, -58.4775107368404 4.8548573583915, -58.4774465320562 4.85495441736455, -58.4773500846996 4.85503539401788, -58.4772697423767 4.85511633540383, -58.4771894685239 4.85522958156349, -58.4770931625835 4.8553751704617, -58.4770291343286 4.85555299272059, -58.476981139034 4.85569847495247, -58.4769333203609 4.85592472229179, -58.4768852898953 4.85605405168876, -58.4768371548803 4.8561349216577, -58.4767728796256 4.85619967494623, -58.4766926074038 4.85631292200804, -58.476616616377 4.85637126002779, -58.4766196351589 4.85637966133035, -58.4765520920952 4.8564931373646, -58.476394557281 4.85678813439889, -58.476349758633 4.85696955738467, -58.4764644199651 4.85773993571262, -58.4765338876987 4.85851041289391, -58.4766928049088 4.85885004848056, -58.4772812071926 4.85925673880493, -58.4780501352981 4.8595497045006, -58.4785021181114 4.85957137860732, -58.4787511266006 4.85977482149546, -58.478751521942 4.85995614444357, -58.4787066260849 4.86009223715366, -58.478526000303 4.8601606300437, -58.4781644539854 4.8601614239139, -58.4778481000053 4.86016211760202, -58.4778258490896 4.86032082501587, -58.4780976035677 4.86059221582491, -58.4783693564579 4.86086360555542, -58.4786865024347 4.86122555831953, -58.4787322386432 4.8614747793301, -58.4787284227463 4.86150397977169, -58.4788001057139 4.86150952811686, -58.4788002273449 4.86156529293658, -58.479253053014 4.86197227795289, -58.4793886331859 4.86197198028391, -58.4797278309385 4.86208456164689, -58.4799543925625 4.86235605050335, -58.4802265941635 4.8628314287696, -58.4804983497194 4.86310281799168, -58.4807927022178 4.86337415645637, -58.4809062306453 4.86362322708039, -58.4810425549658 4.86396291024107, -58.481043198957 4.86425756036658, -58.4809757059213 4.86439370194878, -58.4808856665381 4.86455255833777, -58.4807052886671 4.86473428040603, -58.480366534231 4.86482568791242, -58.4798921998355 4.8649173932515, -58.479757063741 4.86512168007444, -58.4798254995466 4.86541618137082, -58.4800978011028 4.86593689045514, -58.4803475063278 4.866457647177, -58.4806874516637 4.86691020949864, -58.4810272965512 4.86731744127996, -58.4812535138916 4.86743027047085, -58.4814116927898 4.86742992232684, -58.4814563897532 4.86720316813949, -58.4815463804606 4.86702164650859, -58.4816817135586 4.86690802072315, -58.4818398418082 4.86688500650748, -58.4820208148638 4.86697526983538, -58.4822697787052 4.86715604602631, -58.4823832094258 4.86735978581449, -58.4824741426195 4.86760890553399, -58.4826308944487 4.86813529431445, -58.4826769262741 4.86813830481708, -58.4826772481356 4.8682852815735, -58.4826776735264 4.86847911598556, -58.4826295733702 4.86857614009728, -58.4825869163309 4.86865139951459, -58.4825894613212 4.86867392978915, -58.4825897591433 4.86880992217968, -58.4824770237663 4.86892349842137, -58.4823416409191 4.86901445934326, -58.482184107779 4.86930945774555, -58.482071818003 4.86962702259487, -58.4821853991207 4.86989875849724, -58.4822759853946 4.86998922063958, -58.4824568610376 4.87003415246955, -58.4825921934744 4.86992052637538, -58.4828634576984 4.86996525887634, -58.4828863516853 4.87010120233744, -58.4827510183872 4.87021482848816, -58.4825929896956 4.87028317333386, -58.4823447699708 4.87044237955768, -58.4820740533363 4.87064696571702, -58.4818483319226 4.87076079092692, -58.4816451081297 4.87082923518912, -58.4815320240481 4.87078415386527, -58.4815090788339 4.87062554608619, -58.4815086818797 4.87044422251798, -58.4816209710662 4.87012665764999, -58.4815751817881 4.86985477229566, -58.4813488642822 4.86969661236204, -58.4811678408259 4.86958368394417, -58.4808740807153 4.86958433154735, -58.4806481600495 4.86960749403915, -58.4804679298892 4.86985721180225, -58.4805136691626 4.87010643134591, -58.4805142650608 4.87037841727369, -58.4804696165567 4.87062783575335, -58.4803797740861 4.87087735461953, -58.4804594351447 4.87113783299728, -58.4806642969549 4.87181734686539, -58.4806878373988 4.87224793970489, -58.48075691935 4.87283709149829, -58.4809393839259 4.87360731702988, -58.480985919139 4.87421918356737, -58.4809186748019 4.87446865277027, -58.4806932506987 4.87471846960561, -58.4803770391576 4.87478716371217, -58.48012802347 4.87458372244207, -58.4799015554245 4.87435756705941, -58.4796074459126 4.87419955525654, -58.4794493644812 4.87424523551895, -58.4793818211026 4.87435871217773, -58.4793822682951 4.87456270011973, -58.4793603654412 4.87488006614957, -58.4792929707865 4.87506153910557, -58.4791354859806 4.87537920270331, -58.4790231944762 4.87569676863613, -58.4789560476487 4.87599156815844, -58.4789117964285 4.87642231053129, -58.4789578348239 4.87680752365834, -58.4789359816125 4.87714755486564, -58.4788918297345 4.87762362841233, -58.4788697285556 4.87785033217348, -58.4787797860682 4.87805452098646, -58.4784635239048 4.87810054777605, -58.4781696109819 4.87803319901183, -58.4779889808617 4.8781015931979, -58.4779668307278 4.8783056327874, -58.4780805120923 4.87862269964807, -58.4781715954297 4.87893981710644, -58.4782191006567 4.87922188315062))</td>\n",
       "      <td>Large Concessions</td>\n",
       "    </tr>\n",
       "    <tr>\n",
       "      <th>22</th>\n",
       "      <td>22</td>\n",
       "      <td>19</td>\n",
       "      <td>Variety Woods &amp; Greenheart Ltd.</td>\n",
       "      <td>LC 02/17</td>\n",
       "      <td>LB&amp;RB Bce River,RB Ess River,LB Maam River</td>\n",
       "      <td>1.345659e+09</td>\n",
       "      <td>264488.110519</td>\n",
       "      <td>POLYGON ((-58.3902126171567 4.55976676509923, -58.3897973634865 4.55933985203443, -58.3889583629311 4.55836140714979, -58.38851077123 4.55777423153444, -58.3880349547187 4.55701909857191, -58.3874755351721 4.55632012930375, -58.3868319214933 4.55536930499019, -58.3858534123556 4.55439112287286, -58.3847357077 4.55358121919304, -58.3836455883672 4.55260324822587, -58.3828626798619 4.55176469349779, -58.3821070887361 4.55061806185343, -58.381295639922 4.54944353434193, -58.3805127903131 4.54863297654881, -58.3795617757412 4.54743071161022, -58.378723337344 4.546732266025, -58.3785576744361 4.5476566527938, -58.3783369498847 4.54897317508244, -58.3776966577392 4.54975846121625, -58.3763861972134 4.55029301074858, -58.3750757332526 4.55082755937944, -58.3739604344852 4.5512777259166, -58.3729013127992 4.55192379980277, -58.3723715645376 4.55214882921544, -58.3717027758331 4.55262614278853, -58.3711739817595 4.55335520837426, -58.3704777638341 4.55408459395309, -58.370254692285 4.55416902591602, -58.3695363218874 4.55580870035586, -58.3679366949575 4.55601650257576, -58.3609492401866 4.55692417777456, -58.3606858897781 4.55689359162442, -58.3605837059774 4.55726084056567, -58.3603801725958 4.55767126041734, -58.359325240804 4.5580149548087, -58.3583723949702 4.55832428585475, -58.3575898678119 4.55866746210332, -58.356601302331 4.55808844693865, -58.3555464305805 4.55846630635288, -58.3550352826846 4.55826225363875, -58.3540458217341 4.55720486036342, -58.3529883263456 4.55618176295021, -58.3529678021576 4.55614758273556, -58.3519660356284 4.55577365200833, -58.3520559271336 4.55352419923085, -58.3520823063163 4.55286411023253, -58.3509849872191 4.55265209804406, -58.3489870019086 4.55230997930677, -58.348560253106 4.55228824313686, -58.3468518135029 4.5523476138259, -58.3454566472563 4.55245562065589, -58.3446757025611 4.55252167715024, -58.343660621899 4.55221814848879, -58.3428990753268 4.55186324006024, -58.341732007281 4.55166180150444, -58.3409201135555 4.55151060279821, -58.3399966806421 4.55123313198921, -58.339676182673 4.55113682844995, -58.3392249177607 4.5510012319927, -58.3385314409339 4.55102750922968, -58.3378049920658 4.5513811021119, -58.3357733829219 4.55098231843255, -58.3345446953699 4.55090911947171, -58.3332393538315 4.5500560974216, -58.3325391400867 4.54876037526186, -58.33240765966 4.54771774269578, -58.3316040960488 4.5470399064675, -58.3312515120834 4.54618511360513, -58.3307694119173 4.54306614190068, -58.3307901445684 4.54070104695947, -58.330737510096 4.53934249386044, -58.3315856683265 4.53700103184842, -58.3325601048735 4.53516254023025, -58.3328313279928 4.53267118247141, -58.3329298154738 4.53168975340041, -58.3327561446051 4.53039658590906, -58.3323044789909 4.52875307623183, -58.3321657461962 4.52755922526075, -58.332650902988 4.52618804434275, -58.3333450042366 4.52523193361631, -58.3343447839478 4.52444270006827, -58.335512734528 4.52310941000799, -58.335648778516 4.52283510116903, -58.3346736329041 4.52293477911697, -58.3330366631083 4.52379912091269, -58.3313020476681 4.52460491230248, -58.3304257196497 4.52540912188214, -58.3299986485655 4.52654528916205, -58.3299414867519 4.52728926466634, -58.3292391866574 4.52879774417443, -58.3289897016839 4.52950305264657, -58.3289336859961 4.53087344364612, -58.3285062899204 4.53183343128813, -58.3277663907862 4.53257866335725, -58.3254286061095 4.53424688380599, -58.3244931678188 4.53473799059371, -58.3220743127517 4.53474242756652, -58.3205509581635 4.53374686042093, -58.3204523930904 4.53317934802494, -58.3205289268082 4.53235703257238, -58.3203703123814 4.53094787862766, -58.3199978353006 4.52993062817745, -58.3199179965524 4.52893241856825, -58.3198189351533 4.5280908470646, -58.3199329760179 4.52746028762756, -58.3204015101421 4.52664118726103, -58.3205341505054 4.52448762785383, -58.3203962911331 4.52376358173674, -58.3202397061473 4.5234702340849, -58.3193015443984 4.52245401332962, -58.3188327119152 4.52208293068032, -58.3174465763589 4.52143946102919, -58.315825300911 4.52020914394237, -58.3151810194539 4.51989710453525, -58.3143228721954 4.51997696661869, -58.3133268506634 4.51974145126125, -58.3114957585621 4.51941411487017, -58.309738679769 4.51952751516061, -58.3085670293366 4.51945615404667, -58.3077431838444 4.51901207538582, -58.3080643988548 4.51861664025614, -58.3102449220063 4.51747452162954, -58.311101872438 4.51699583204263, -58.3119243659223 4.51688665489447, -58.3124957664425 4.51638307702059, -58.3126014593318 4.51548548949179, -58.3133444153379 4.51550214964804, -58.3136701638681 4.515009870482, -58.3138506585414 4.51397560010307, -58.3146009640758 4.51350759375978, -58.3162802775455 4.51336617114854, -58.3166051372304 4.51238220280433, -58.3170658386771 4.51174422569138, -58.319355813368 4.51217081087906, -58.3210004579439 4.51177296335324, -58.3218209927316 4.5105869087452, -58.3224803567033 4.51007696715875, -58.3234593556277 4.50958349393399, -58.3236416126356 4.50860932553234, -58.3220994788872 4.50635070452336, -58.3200560165192 4.50376992952638, -58.319122934805 4.50204862662451, -58.3191966058943 4.50041307464079, -58.3193566719958 4.49860992672108, -58.3191866462983 4.4977051213654, -58.3182551922509 4.49688120676285, -58.3163214006376 4.49559245905433, -58.3158526802611 4.49351134785025, -58.3150981836422 4.4917339886114, -58.3146053113544 4.49009591330309, -58.3137843550805 4.48763894633003, -58.3130845558443 4.48569104502089, -58.3151579118083 4.48504118333078, -58.3166591787491 4.48450003759296, -58.3183733728636 4.4830252138689, -58.3211227204832 4.48172542541792, -58.3234069802354 4.48057401530606, -58.3265198169153 4.47830811448838, -58.3284609592727 4.47581186297425, -58.3291121173414 4.47466341088766, -58.3295866309699 4.4732412525741, -58.3299772768528 4.47169702887266, -58.3277937694182 4.47073181208221, -58.3251827256796 4.469098083865, -58.3227304894216 4.46762745440122, -58.3214187590036 4.46467969232646, -58.3210190333682 4.46245214793409, -58.3207298860686 4.46076556728751, -58.3195473585495 4.45951134266055, -58.3187235843937 4.45886669962838, -58.3171095041924 4.45628509818552, -58.3145395232366 4.45321930228283, -58.3129041649814 4.4519110522321, -58.3109863835077 4.4522757140522, -58.3108961707833 4.45294552038972, -58.3107677978809 4.45389864767898, -58.3106333678313 4.45489674740203, -58.3103006070783 4.45716040117996, -58.309568652749 4.45956512145906, -58.3080347076532 4.46182930500399, -58.307051571974 4.46373355952698, -58.3062168440904 4.46535035302596, -58.3052287049836 4.46841187827779, -58.3042963675508 4.47152788988291, -58.304021111659 4.4709247069218, -58.3028632153971 4.47013049873387, -58.300285466346 4.46869924007006, -58.2980643191826 4.46665710397116, -58.2969214189909 4.4639039746022, -58.2949776055188 4.46052432538454, -58.2938105501531 4.45932032982036, -58.2933191992421 4.45850170673559, -58.2929694042073 4.45751258873445, -58.2915173959954 4.45539081615817, -58.2891007472475 4.45414514709642, -58.287847113772 4.45310635540783, -58.2872362146821 4.45145619625938, -58.2868747466411 4.44926715701907, -58.286373398332 4.44890907113041, -58.2820099935312 4.44895258869693, -58.2786128889024 4.44935336386371, -58.2755044051227 4.45017403492281, -58.2719119747438 4.45034415969882, -58.2684273184622 4.4506000211581, -58.2665622845965 4.45091777527421, -58.2653455503963 4.45052500797329, -58.2627346582993 4.45056539545575, -58.2596626583043 4.44954575319604, -58.2564724678615 4.44878129200256, -58.2560454361403 4.44886183969415, -58.2551581910737 4.44885020553668, -58.2546739085258 4.44876791149624, -58.2534251786013 4.44935607545336, -58.2529181803022 4.44967530495847, -58.2519672982749 4.4501226371331, -58.2515235600136 4.45033563688663, -58.2509101757801 4.45027300791564, -58.2505714579696 4.45006133999609, -58.2501054249842 4.44959519609905, -58.249660791434 4.44927758424079, -58.2489206661237 4.44930006688833, -58.2481603233823 4.44987441779945, -58.2473783664781 4.45017288747432, -58.2464902784222 4.45023806802952, -58.2463640002802 4.45059909792816, -58.2463643766412 4.45082229543419, -58.2463959033891 4.450826323854, -58.2467670907571 4.4513624929982, -58.2471275645862 4.45193494171767, -58.2473613323818 4.45261372757088, -58.24768026332 4.45363195935612, -58.2478503035044 4.45414105623599, -58.2480200568559 4.45448035953448, -58.2481268694502 4.45511691109841, -58.2483814653327 4.45560463987903, -58.2491018116474 4.45638871893647, -58.2493147630249 4.45659411119705, -58.2492433352116 4.45669483243904, -58.2498406576271 4.45707932444392, -58.250535826714 4.4577963782083, -58.25086207709 4.45836170739749, -58.2510369653389 4.45918847029018, -58.2508213939515 4.45995060539422, -58.2502806757196 4.46080035356158, -58.2502600584184 4.4614315676325, -58.2508683415635 4.46206170972126, -58.2516494883388 4.46232155345854, -58.2521920869862 4.46258180343934, -58.2526705869891 4.46340804764755, -58.2529536543911 4.46408227139688, -58.2534313799899 4.46445145464783, -58.2539955196273 4.46462460786726, -58.2542128262491 4.46488541371282, -58.253758375588 4.46545207415292, -58.2534338198396 4.46588792541141, -58.2533699813876 4.46660627157899, -58.2534369636178 4.46773792441449, -58.2532864167583 4.4684781838771, -58.2532667279268 4.46965351485884, -58.2529856924065 4.47017634998812, -58.252248907004 4.47050408184237, -58.2516420560987 4.47072276895012, -58.2508383071087 4.47089031097887, -58.2505585071338 4.47118168101854, -58.250385531487 4.47148668423247, -58.2504080312975 4.47196547064859, -58.2501914240296 4.47211819450511, -58.2495400534501 4.47166224754062, -58.2488457518664 4.47146754918619, -58.2483407704266 4.47122567885321, -58.2481004896094 4.47109893007642, -58.2479603377221 4.47103224324507, -58.2476799556592 4.47085202205568, -58.2474263941039 4.47075875893941, -58.2471262105359 4.47069903844491, -58.2468060329055 4.47064604307543, -58.2465592089794 4.47059292268613, -58.2462324417588 4.47058678765157, -58.2460171261265 4.47065321696995, -58.2459925014051 4.47066081385378, -58.2456093461306 4.4708287797162, -58.2452161883817 4.47099676243632, -58.2447966386182 4.47133210572362, -58.2444435669037 4.47158387465656, -58.2442488295726 4.47184538409647, -58.244054238097 4.47219395155711, -58.2438317865515 4.47256517796075, -58.2438628929987 4.47241404431816, -58.2438071241869 4.47248054122378, -58.2436706765236 4.47254930070436, -58.2437896194947 4.47222359280613, -58.2438572061641 4.47181231309177, -58.2438904789109 4.47129830114659, -58.2439581242682 4.47092128426246, -58.2439406206149 4.47066433674508, -58.2440422033166 4.47016733932651, -58.2443998682552 4.4696870392412, -58.2450644785694 4.46901776607925, -58.2457630536327 4.46824564350571, -58.2460695928938 4.46781682620838, -58.2462054889807 4.46742256197925, -58.2461961874632 4.46696858417922, -58.2461439639933 4.46636905710916, -58.2459726545952 4.46600957987492, -58.2458355154513 4.46566717592596, -58.2456810164803 4.46515348332812, -58.2455437612593 4.46474255183345, -58.2452185916945 4.46424628033242, -58.2449363423349 4.46389555711309, -58.2445774095673 4.46362205673925, -58.2444065644362 4.46353668755317, -58.2438944609904 4.46353755626366, -58.2434164994273 4.46353836763924, -58.2433848472379 4.46351262506856, -58.2432797396347 4.46353115483563, -58.2423298717629 4.46376031238592, -58.2418432789355 4.46388160309167, -58.2415165937916 4.46392231265041, -58.2411366946655 4.46404342141328, -58.240883372875 4.46409069869153, -58.2406634274498 4.46415799674791, -58.2396267998641 4.46434714336413, -58.2391533626478 4.46436132964857, -58.2388465586264 4.46432838550835, -58.2386064831513 4.46432209891279, -58.2384064406615 4.46432912892056, -58.2381797932566 4.46437636029027, -58.2379465098228 4.46444368014436, -58.2371537246285 4.4647139359384, -58.2366504490024 4.4650147377508, -58.2364038173275 4.46507538757142, -58.2360638828314 4.46516965719119, -58.2356839599497 4.46527737928494, -58.2353907045945 4.46537156996395, -58.2351174544745 4.46546572774677, -58.2342533728306 4.46566108456811, -58.2338950140555 4.4657302157293, -58.2334003501653 4.46595376342881, -58.2328413137148 4.4661522052932, -58.2325681186083 4.4662798248063, -58.232244932713 4.46642091260936, -58.2320583374306 4.46649484548333, -58.2319783493779 4.46651505732353, -58.231451741369 4.46663641025674, -58.2312317471579 4.46667693464197, -58.2309317888932 4.46675105770805, -58.2304651064397 4.46681876843832, -58.2300584289104 4.4668796842111, -58.2294684572641 4.46699445005705, -58.2287818482492 4.46714283926678, -58.2287086050733 4.46714935486236, -58.2286057024253 4.46721245494085, -58.2278716806982 4.46721368608282, -58.2274446958925 4.46707734616722, -58.2271028916901 4.46683807123731, -58.2268291125423 4.46644449450483, -58.2266405133322 4.46594798292733, -58.2265716053477 4.46557119467581, -58.2264683018512 4.4650402761894, -58.226432994132 4.46433792369237, -58.2264658537052 4.46356692998523, -58.2264137606177 4.46303592483299, -58.2263363041172 4.4626505853827, -58.226181705083 4.46206835587006, -58.225941784954 4.46150340218883, -58.2258900914544 4.4612122445435, -58.2257864756196 4.46049287516666, -58.2258364362206 4.45973898338711, -58.2257759373348 4.45928508633062, -58.2257070029291 4.45889116610791, -58.2256039009894 4.4584801713093, -58.22543260405 4.45812068500544, -58.2252615059506 4.45788112296282, -58.224817172447 4.45757348845854, -58.2244412622167 4.45735139925185, -58.2239969301996 4.45704376496771, -58.2231258186378 4.45671970949715, -58.2226988405462 4.45658336486541, -58.2220328241794 4.45641315352871, -58.2215205251747 4.45629408254302, -58.221127772326 4.45620907476107, -58.2207262716302 4.45599559284713, -58.2201624237612 4.45567102163283, -58.2197008536684 4.45526061927663, -58.2193079611409 4.45508995244554, -58.2188128168046 4.45502224559879, -58.2173448201365 4.45504181337869, -58.2171721732103 4.45496825544398, -58.2170318476081 4.45496848696172, -58.2165284925657 4.45503624789081, -58.2161418341906 4.45510381537037, -58.2157552205604 4.45519815140388, -58.2155686259079 4.45527207977791, -58.2150222440921 4.45553399664664, -58.2145690874468 4.45571544810825, -58.2142563203949 4.45576647365601, -58.2137128206881 4.45609834431501, -58.2133182522264 4.45624772158153, -58.2128406549042 4.45647122814797, -58.2127268582067 4.45668892687914, -58.2124270204305 4.45683665953253, -58.2121604804858 4.45695756739298, -58.21192714982 4.45699810841072, -58.2117004677188 4.45702525306298, -58.2113238422875 4.45711287939801, -58.2110306498493 4.45724721621327, -58.2107041482685 4.45740168630459, -58.2101283000093 4.45757215854745, -58.2096678257172 4.4578298995819, -58.2094313609173 4.4579458892348, -58.2091580854521 4.45802665130961, -58.2088614146057 4.45807398890663, -58.2084080253225 4.45811489118549, -58.2077906382512 4.45815850142811, -58.2071010820849 4.45816389084879, -58.2067665153672 4.45816444165836, -58.206629950453 4.45821180651174, -58.2060154221903 4.45821281697469, -58.2050422545874 4.45811162350818, -58.2046665695284 4.45802657956451, -58.2040685543705 4.45768491884163, -58.2032996983219 4.45725787609234, -58.2027529226535 4.45693326173167, -58.2022918045746 4.45679696104801, -58.2016766653017 4.45642106055948, -58.2013178574849 4.45621606211584, -58.2010099814666 4.45583965922203, -58.2006337703884 4.45542910249603, -58.2003767721959 4.45484702972565, -58.2002993314358 4.45446168259246, -58.2001959097659 4.45384509438578, -58.2001435599583 4.45314276131337, -58.2001770607135 4.45274866754015, -58.2003128719783 4.4522858779866, -58.2004313345128 4.45165179394636, -58.2006265984413 4.45100901914432, -58.2007450885479 4.45039206866213, -58.2007439494853 4.44968965206027, -58.2007936876384 4.44878156703259, -58.2008613284906 4.44838741671786, -58.2008433418206 4.44782208512467, -58.2006629555238 4.44711139456512, -58.2003880315117 4.44599825436525, -58.1999596187625 4.44497102353643, -58.1996767588383 4.44422623570218, -58.1995731475357 4.44348972117044, -58.1993492991086 4.44229083506268, -58.1991512374297 4.44120326445114, -58.1990476831826 4.44050101475599, -58.1988928921711 4.43978171563487, -58.1985759798875 4.4390883779898, -58.1983705065091 4.43869467243864, -58.1978913909414 4.43797590053826, -58.197138828784 4.43705198521144, -58.1968480356605 4.43667554905204, -58.1965827785505 4.43625624140765, -58.1963428351275 4.4356570039643, -58.1961028113261 4.43500637023322, -58.1959137208404 4.43418433241717, -58.1956390337659 4.43320824250981, -58.1954582189845 4.4322234349074, -58.1952522811809 4.43153847979959, -58.1950123696697 4.43095637378681, -58.1945335121058 4.43039178661511, -58.1940887386959 4.42979287937165, -58.193567304738 4.42928832167919, -58.1927640984892 4.42870712463423, -58.1921319468343 4.42834836848653, -58.1916536140006 4.4281092890485, -58.1909703913905 4.4278362756955, -58.1898940482963 4.42723838172174, -58.1893642616405 4.42684519321534, -58.1890308987513 4.42652878384501, -58.188654656298 4.42608395131826, -58.1883635709 4.42551905526338, -58.1881576435068 4.42483409669292, -58.1880197199409 4.42397770685952, -58.1880356154661 4.42324099460342, -58.1881115128275 4.42266694247662, -58.1881964226427 4.42239269058689, -58.1883663522549 4.42191271395684, -58.1886386985455 4.42143257382399, -58.1887913408145 4.4208155685581, -58.1887310926679 4.42049871881351, -58.1887640013721 4.41972771482107, -58.1886437230224 4.41923107402499, -58.1883354368001 4.41858054378137, -58.1878732258898 4.41774180536014, -58.1874709906155 4.41704859492887, -58.1871458007574 4.41650088355205, -58.1870084279217 4.41598713665368, -58.1869397956138 4.4157645272173, -58.1867345014996 4.41547360737072, -58.186016854366 4.41501218604211, -58.1854530223201 4.41467044354104, -58.184889271333 4.41438009589721, -58.1842315452456 4.414029936733, -58.1836334673054 4.41361971694686, -58.1832917281267 4.41339754351915, -58.1830353628321 4.41319236558021, -58.1829323765121 4.41283275162108, -58.1827612767072 4.41257604103206, -58.1824877070235 4.41228522906414, -58.1823503658109 4.41178861199805, -58.1822982366808 4.4112061970272, -58.1821268387052 4.41076103059069, -58.1820665410292 4.41040991558164, -58.1817242885427 4.40986222706598, -58.1814330819642 4.40921166395289, -58.1814151738701 4.40868059253216, -58.1812436691408 4.40816689641755, -58.1810122467466 4.40754193600363, -58.1808235113449 4.40692547393701, -58.1806348583573 4.40636040905359, -58.180565661976 4.40577802054143, -58.1803941049495 4.40523006017284, -58.1800685479765 4.40444249150399, -58.1797006303468 4.40385201232482, -58.1790847922725 4.4029963740329, -58.1786570661699 4.40236315766095, -58.1780750725898 4.40131900969532, -58.177869488711 4.40083963122656, -58.1776384236211 4.40043738788487, -58.1774323828645 4.39966675935023, -58.1772607767232 4.39908453254541, -58.1770040159339 4.39862236637261, -58.1766957240522 4.3979546940554, -58.176515571248 4.39736391389755, -58.1761732500572 4.39676482342167, -58.1758142373851 4.39640561214683, -58.1754039098662 4.39597795302979, -58.1750440661852 4.39508763936685, -58.1749495556339 4.39468517881168, -58.1747777657237 4.39398302465278, -58.1747939488576 4.3934176311893, -58.1746735817497 4.39285245480848, -58.174570631346 4.39250997045262, -58.1741339679553 4.39161121110352, -58.1737746369067 4.39104640978387, -58.1733467375549 4.39029326116732, -58.1727989276194 4.38926618242527, -58.145163194304 4.3717226320362, -58.144998114097 4.37207618898714, -58.1449589431258 4.37209985993171, -58.1446011790568 4.3725458546346, -58.1443116631449 4.37297461010825, -58.1438855448597 4.37336930920111, -58.1435275977373 4.37369537551908, -58.1432549936384 4.37402131046248, -58.1429996657859 4.37448427867486, -58.1427273728667 4.375015804, -58.1422761567997 4.37574462607864, -58.1418328374461 4.37605368937846, -58.1414236041575 4.3763284344174, -58.1414183511474 4.37636382827718, -58.1412140529389 4.37646968340916, -58.1409608461151 4.37658384768228, -58.1407209230998 4.37666452783908, -58.1405010137941 4.37675187071243, -58.1402144666932 4.37686608562925, -58.1398945499759 4.37696027322556, -58.1392741624556 4.3771369440555, -58.1386984506262 4.37748413795672, -58.1385918146033 4.37751776415181, -58.1384651647706 4.37754472840546, -58.1383118228177 4.37755834756812, -58.138031790536 4.37757216043638, -58.1375317782568 4.37762646412221, -58.1371217415955 4.37765385923703, -58.1368832220766 4.3776435831941, -58.1367659348848 4.37772327260562, -58.1362194234565 4.37751851282403, -58.1358604355373 4.37715927464648, -58.1354845617115 4.37691998972204, -58.1349892315576 4.37669801801179, -58.1342893866809 4.3766819476029, -58.1335554547398 4.37670019436194, -58.1327870244187 4.37647863487196, -58.1318308634479 4.37627449347983, -58.1313358685744 4.37627524236278, -58.1313349793267 4.37622612105459, -58.131151849675 4.3762641158044, -58.1308408488081 4.37625885876168, -58.1305852024641 4.37651623449839, -58.1304318145749 4.376670660643, -58.1302104092716 4.37699651516081, -58.1302433004215 4.37682209168295, -58.1301591000408 4.37692806210338, -58.1300388980412 4.37644853042494, -58.1300381007414 4.37591742080042, -58.1301222630265 4.37512919351501, -58.1301726208188 4.37456374131987, -58.130248003037 4.37361276736909, -58.1302983095709 4.3730130508739, -58.1301432782443 4.37207099045581, -58.1300398651285 4.37140297444125, -58.1297225406491 4.37036693101712, -58.1295170242947 4.36990466151535, -58.1292262162735 4.36947678397058, -58.1289525541298 4.36910027972438, -58.1281322853695 4.36845047588561, -58.1279612918801 4.3682451422205, -58.1275422268636 4.36765469741928, -58.1273194652209 4.36707252354068, -58.1272500903353 4.36633592526162, -58.127198168707 4.36585629032196, -58.1270944518621 4.36498268127859, -58.1271535392014 4.36454571043231, -58.1272894486426 4.36411719069601, -58.1276298215607 4.36344850532791, -58.1279533811317 4.36295117282423, -58.128089213331 4.3624712547748, -58.1280970692277 4.36201722792241, -58.1279766432614 4.36138350244409, -58.1276344562681 4.3608357720767, -58.1273091586446 4.36016808869197, -58.1268129476723 4.3593464678884, -58.1263081918641 4.35851629270995, -58.1259999906846 4.35786571475103, -58.1258115746949 4.35742054831257, -58.1255036047448 4.35692416418756, -58.1254261720561 4.35650453095021, -58.1253573127944 4.35611058273826, -58.1252029590882 4.35561396729258, -58.1249626767566 4.35472342986531, -58.1246888709277 4.35424412515154, -58.1242273393707 4.35378223413874, -58.1238084401456 4.3532945810548, -58.1234319972235 4.3526612350814, -58.1230551986681 4.35178803324975, -58.1228153026396 4.35115448271686, -58.1225753826602 4.35050379977568, -58.1223868953197 4.35000723383896, -58.1224116978871 4.34946751859481, -58.1223250888923 4.34861101417026, -58.1222217154013 4.34796012716875, -58.1221353597354 4.34727494931283, -58.1219042171188 4.34678701217581, -58.1215616361743 4.34596515497476, -58.121424331372 4.34545137889566, -58.1212868234739 4.34480054311993, -58.1210811952423 4.34425260310615, -58.1210293584181 4.34382436364617, -58.121036943027 4.34318187656462, -58.1209850043989 4.34268510634112, -58.1207271619778 4.3414519375333, -58.1205040380532 4.34061276805831, -58.1201701115266 4.33986799271001, -58.1198958111813 4.33904603101196, -58.1197069264406 4.33827534182337, -58.1194583421547 4.33753043810215, -58.1191497306836 4.33658859879179, -58.1190121021636 4.33585209759815, -58.1189430230178 4.33530395342257, -58.118890836537 4.33463585548651, -58.1188560447845 4.33419045774665, -58.1187957151495 4.33378792898154, -58.1183850522422 4.33308609723359, -58.1182820650557 4.33269219717276, -58.1183323869002 4.33209247818119, -58.1184678728101 4.33137270442794, -58.1187648091884 4.33018154258941, -58.1188149296859 4.32944476297423, -58.1190358036756 4.32875912752377, -58.1191027655001 4.32786812795625, -58.1192299299951 4.3272939942583, -58.1192632846986 4.3267628314542, -58.1194670400528 4.32604295689649, -58.1196707197102 4.32527168382816, -58.1197384110237 4.32487753214708, -58.1197208150637 4.3245177712221, -58.1198137934948 4.3239094236494, -58.1199149913476 4.32308690454093, -58.119947390598 4.32190470116364, -58.1198355576181 4.32129665559635, -58.1197828951942 4.32030303752649, -58.1196620894461 4.31939518331697, -58.119550183119 4.31873573986283, -58.1194983516701 4.3183074993404, -58.1192751930647 4.31743406147765, -58.1190006301221 4.31642363823426, -58.1187695037396 4.3159356967893, -58.1185636646294 4.31523356017019, -58.1185284506884 4.31449690541937, -58.1185787998964 4.3139143205572, -58.1187142357294 4.31316028100351, -58.1189264623745 4.31239756257674, -58.1190784381432 4.31128371245209, -58.1191283362772 4.31039273895145, -58.1192974805797 4.30934739457998, -58.119356099573 4.30858490271216, -58.1194576007877 4.30796797621073, -58.1195587271213 4.30709405869206, -58.1196086256793 4.30620308528118, -58.1196503288099 4.30554341484356, -58.1196497519751 4.30514936306281, -58.1196830342896 4.30456680259941, -58.1195620858129 4.30355615198739, -58.1192791371347 4.30263996861053, -58.1190387939481 4.30168089107518, -58.1186447239876 4.30063637597507, -58.1181230130355 4.29984047212364, -58.1174041445073 4.29843664613131, -58.1169931868074 4.29751208183005, -58.116762195018 4.29710980270219, -58.1166764357893 4.29681867191574, -58.1166930026048 4.2964759932587, -58.1168288173819 4.29597894537287, -58.1168790697578 4.29532782761184, -58.1168440875338 4.29474536674006, -58.1166215931748 4.29431737502607, -58.1162367009005 4.29370972764741, -58.1157065024045 4.29293953148481, -58.1154498504965 4.29249445677143, -58.114928199726 4.2917328137316, -58.114670901882 4.29084228814674, -58.1146016642732 4.29017421232696, -58.1146182096164 4.2898144011594, -58.1146968236301 4.28963834461161, -58.1146178858325 4.28959167596181, -58.1141901438086 4.28885559340554, -58.1132331555635 4.28800035347473, -58.1128225580991 4.2873156433678, -58.1125316022188 4.2867506866941, -58.1123260564578 4.28623700329992, -58.112154446725 4.28558620980056, -58.112516860117 4.28500698851942, -58.1128921618924 4.28440716808838, -58.1136330481305 4.28351200585662, -58.1142260369444 4.28298959245772, -58.1144954146234 4.28253739488974, -58.114727723787 4.28214742107514, -58.1151753089823 4.28164944130519, -58.1155595834735 4.28134849549394, -58.1159300239004 4.2809009134244, -58.1163748978492 4.28060223697482, -58.1168003478728 4.28012032963734, -58.1175604333197 4.279259381545, -58.1182269846054 4.27828981890146, -58.118329620235 4.27761352828549, -58.1183121601867 4.27680986564949, -58.1181486590356 4.27545867714442, -58.1180023442719 4.27467189439369, -58.1178830631549 4.27403047919257, -58.1179888393211 4.27274509639734, -58.1182717838199 4.2722037822019, -58.1188457487905 4.2714218298155, -58.1193293201616 4.27076302709198, -58.1197733224313 4.26986829749367, -58.1203215173211 4.26931635382682, -58.120828075324 4.26861180786028, -58.1212294478244 4.26795877721743, -58.1216680415082 4.26736369460409, -58.1219215944951 4.26710840701415, -58.1231078619968 4.26628709601559, -58.1240133032203 4.26592987493549, -58.1248138554522 4.26561403514724, -58.1262231978699 4.26509041974125, -58.1270960048042 4.26458801784169, -58.1282995018759 4.26389526328764, -58.1289845936857 4.26353633818023, -58.1299078271903 4.26305264823686, -58.1309301922242 4.26244895812352, -58.1317374868931 4.26195526350508, -58.1325251147162 4.26151629364587, -58.1334169368463 4.26109978931141, -58.134636440725 4.26053024826158, -58.1355746659739 4.26008087886086, -58.1363086583662 4.25971108505394, -58.1374354360205 4.25917321062394, -58.1383210934283 4.25881427191122, -58.1391270763044 4.2585148076217, -58.1399022844136 4.25808094025393, -58.1404618469797 4.2577677644745, -58.1411612264028 4.25718540979636, -58.1418953627729 4.25657411422902, -58.1426918204835 4.25602950685632, -58.1435757312931 4.25563971008944, -58.1445526173488 4.25529482378433, -58.1450592503563 4.2551159578927, -58.1463488573679 4.25469954190159, -58.1469137285373 4.25451714386517, -58.1478039245356 4.25421776857347, -58.1492178798088 4.25380804717644, -58.1504745764987 4.25354324434418, -58.1516328017439 4.25327010107045, -58.1527002247635 4.25301836974148, -58.154035743981 4.25279284815974, -58.1548886908489 4.25252102849326, -58.1554451431814 4.25234369664509, -58.1565580181999 4.2521185063451, -58.1575824185318 4.25187955279044, -58.1589548691486 4.25145417184722, -58.160118496654 4.2509210524002, -58.1613920241572 4.25005335543514, -58.1623632699696 4.24939161131372, -58.1639793103468 4.24860323610074, -58.1649057232051 4.24817875606528, -58.1661577706292 4.24757307239038, -58.1669222460073 4.24709454426413, -58.1680127258774 4.24628236915368, -58.1687936228904 4.24569253592061, -58.1693765926564 4.24544065913159, -58.1703510833149 4.24501962171815, -58.1710505459709 4.24504781533206, -58.172132302677 4.24509141854773, -58.1726110030808 4.24524352993632, -58.1733911388357 4.24549142562064, -58.1741570011855 4.24557713677765, -58.174656212227 4.24553460580214, -58.1751245243263 4.24521385281274, -58.175549328673 4.24492289935406, -58.1760519527588 4.24457864473029, -58.176509611095 4.24426518681003, -58.1769225285518 4.24394174991578, -58.1775169659135 4.24347612736884, -58.1778438557459 4.24322007500098, -58.1782863011143 4.24267548519385, -58.1789694716709 4.24216824108309, -58.1795487044139 4.24187637368149, -58.1810008810587 4.24158426913964, -58.1831099841116 4.24127487430188, -58.1850389297998 4.24089938669559, -58.1872649482795 4.24067244771504, -58.1883776717861 4.24037271338012, -58.1897188059354 4.23980063083862, -58.1903059251483 4.23955018479564, -58.1923298040029 4.2391913853072, -58.1937640554054 4.23893838717917, -58.1954251566178 4.23864821019099, -58.1965684056707 4.2387120188399, -58.1980227893109 4.23879318937063, -58.1999897905485 4.23879013261945, -58.2019849501186 4.23900138689609, -58.2044029216005 4.23940748187685, -58.2057914125279 4.23945162635126, -58.2068549808489 4.23944996328307, -58.2075886509095 4.23914532696684, -58.2081157625685 4.23892645794592, -58.2089317376297 4.2387016660612, -58.2106046668271 4.23888562626761, -58.21160380279 4.23899549169817, -58.2132344684961 4.23910205795118, -58.2144872724521 4.23898288372503, -58.2153882184907 4.2387660252249, -58.2162467482639 4.23824703089561, -58.2176514483142 4.23760710448688, -58.2191603449505 4.23718474665693, -58.2201349122695 4.23697043285505, -58.2214705877078 4.23689381620674, -58.2222860850282 4.23637099659619, -58.2229654290361 4.23559556815962, -58.2236316116414 4.23488809194753, -58.2243432671054 4.2342365106377, -58.2250275361086 4.23361000287846, -58.2254899479342 4.233299448013, -58.2259171196065 4.233012559293, -58.226732609274 4.23248973698721, -58.2271953707344 4.23214014377491, -58.2276220734169 4.23181778893598, -58.228062855789 4.23132945943629, -58.2283756123894 4.23098296399836, -58.2287639031439 4.23055278681022, -58.2295182277875 4.22932925231308, -58.229703383535 4.22895089405627, -58.2299173715865 4.22851361773983, -58.2307078296294 4.22776726065768, -58.2314161799724 4.22703363765159, -58.2322093910485 4.2262052053492, -58.2329980996514 4.22539679044722, -58.2336858213851 4.22466768650547, -58.2345185301171 4.2239571200034, -58.2356232431783 4.223289261754, -58.2355789798288 4.22255374374034, -58.2355460189445 4.22138441805176, -58.2355441507662 4.22020399462033, -58.2357258450926 4.21878639912664, -58.2363009012667 4.21803497860946, -58.2370979802078 4.21732661235533, -58.2381357160942 4.21657991917336, -58.2385803755083 4.216206691159, -58.2385450501235 4.21564800918466, -58.2381520139684 4.21494038224472, -58.237524120457 4.21441675064889, -58.2370540728885 4.21457489054053, -58.2365328064587 4.21538890317439, -58.2359057850595 4.21541613415121, -58.2353043102744 4.21507608084899, -58.2346502076364 4.21450002413661, -58.234649214521 4.21387046537477, -58.2347002272476 4.21308343293618, -58.234751240102 4.21229640050897, -58.2343847097641 4.21182481269076, -58.2338355758855 4.21153713623597, -58.2333919046346 4.21185262191239, -58.2329740290592 4.21195821320832, -58.2322943813189 4.21174943821882, -58.2320842874951 4.2110677464175, -58.2315607870651 4.21046524764621, -58.2311163720356 4.21030856147354, -58.2303064598886 4.2103360764843, -58.2294963004271 4.21020620155929, -58.2291559012254 4.20973456870221, -58.2294162701273 4.20915705754908, -58.2296243429766 4.20855339753759, -58.2296496462913 4.20802872224344, -58.2289172542446 4.20750524552689, -58.2281335126051 4.20755894859727, -58.2276114981691 4.20790078634317, -58.2273778312819 4.20884549930302, -58.2271445330197 4.21002629801974, -58.2267541413454 4.21099749108982, -58.2262062842421 4.21152299261836, -58.2257100234948 4.21162870303865, -58.2250568737917 4.21165596570122, -58.2243511408886 4.21147345672833, -58.2235412662408 4.21152719668392, -58.2229926268009 4.21155429301981, -58.2224959555402 4.2113976847525, -58.2218937506015 4.21058544612664, -58.2217101612001 4.21013979384441, -58.2215778854246 4.20909072808767, -58.2214203841855 4.20861880291436, -58.2214454886741 4.20796296737917, -58.2215226844762 4.20720212247572, -58.2214953302211 4.20641521010687, -58.2214425026571 4.20604804794751, -58.2215202716822 4.20565444817299, -58.2211543652911 4.20557632755327, -58.2211795523211 4.20497295514736, -58.2209954347724 4.20418628944669, -58.2207068887408 4.20345225068863, -58.2204705996206 4.20271812973979, -58.2207302397495 4.20166844850788, -58.2210432370858 4.20132694338312, -58.221617670546 4.20108995488448, -58.2220872267196 4.2006170447557, -58.2222693407429 4.20011835386611, -58.2220327248123 4.19917437886426, -58.221613791536 4.19859793634616, -58.220646675645 4.19833713401926, -58.2198631852834 4.19854821688409, -58.2192882223778 4.19844418985934, -58.2189740852259 4.19805120313378, -58.2191301963688 4.19763124918739, -58.2194432138399 4.19730286075094, -58.2199649426837 4.19677740716393, -58.2204345797753 4.19635696167684, -58.2207472083044 4.19577937087404, -58.221086086529 4.19528043490545, -58.2215816860788 4.19475502091817, -58.2219995564824 4.19464943883982, -58.2225221391626 4.19467485168733, -58.2230448849789 4.1948051905432, -58.2235941251872 4.19517157410076, -58.2239337778136 4.19517104028775, -58.2433701681181 4.19543176695595, -58.2436635997105 4.19626720891738, -58.2443184860038 4.19714098857435, -58.2449729118289 4.19772315960423, -58.2455798085242 4.19843175293967, -58.2459449136396 4.19883050445167, -58.2462119754656 4.19923392759777, -58.246500294394 4.19932456188252, -58.2472272183135 4.19983371194669, -58.248099830305 4.2006342356429, -58.2496245540899 4.20055888737993, -58.250858831314 4.20048400265492, -58.2517305160114 4.20070130725469, -58.2523845994585 4.20106476439846, -58.2533273824182 4.20033422845323, -58.2538346127918 4.19967729474666, -58.2544852002393 4.19785370096135, -58.2547737808644 4.19668680733902, -58.255417483647 4.19559312864413, -58.2567496143101 4.1953811298284, -58.2571897307863 4.195457727021, -58.2579883626916 4.19560157070053, -58.2584173362163 4.19568698916685, -58.2587097097963 4.19574520718201, -58.2592990935614 4.19573783669409, -58.2597106627982 4.19587794654132, -58.2601544867606 4.19587722857813, -58.2607047480772 4.19568460446117, -58.2612345016298 4.19565575201779, -58.2617662901813 4.19517904592789, -58.2619406264688 4.19487374869904, -58.2621931280855 4.19443156911654, -58.262729460577 4.19415436028103, -58.2637312968544 4.19461938976966, -58.2646256431401 4.19494100744335, -58.2651264748439 4.19511967694516, -58.2656852911829 4.19557651992401, -58.2660710225072 4.19625156097582, -58.2675543231042 4.19732223141616, -58.2686440702042 4.19768496411394, -58.2700971074526 4.19819290586036, -58.2709923991358 4.19766639051175, -58.2716779557158 4.19666248316052, -58.2721989158829 4.19578373125421, -58.2738672971296 4.19476038791102, -58.2750896459686 4.19480048069325, -58.2761368827601 4.19416842330048, -58.2767603815041 4.1939583437715, -58.2774914549067 4.1936686020651, -58.2781705733583 4.19356256360421, -58.2787188448855 4.19332558353657, -58.2796848415097 4.19290429790584, -58.280546201886 4.19240449073075, -58.2810943015445 4.1920625836073, -58.2820077849135 4.1914839957068, -58.282842502498 4.1906694551935, -58.2835989245621 4.18990750510497, -58.284277566771 4.18951292000368, -58.2845907824125 4.18932878576759, -58.2850604120047 4.18893454489615, -58.285503787463 4.18846165307239, -58.2858429570725 4.18817255080116, -58.2863127575562 4.18788323340293, -58.2867826433496 4.18764637863797, -58.2878529290423 4.18710162825019, -58.2887404889465 4.18665423342982, -58.2894187805909 4.1860497971722, -58.2900191227811 4.18570780009484, -58.2906718450743 4.18544441100407, -58.291167552609 4.18502389313624, -58.2918459276042 4.18447191756482, -58.2922114336346 4.18431392599459, -58.2927072685618 4.18397210120216, -58.293020608457 4.1838666584318, -58.2934122405749 4.18370862326222, -58.2939603260822 4.18336671154132, -58.2943777389744 4.18299878397168, -58.2945073345303 4.18236902224233, -58.2946371883626 4.18189664760938, -58.2949231946554 4.18105677776611, -58.2951575089379 4.18055799849088, -58.2956010456891 4.18019002855476, -58.2959665917862 4.18005826692786, -58.2969590722125 4.17987300482995, -58.2974552909947 4.17976725703416, -58.2981342165235 4.17955628236258, -58.298891477054 4.17931894544291, -58.2996747320559 4.17900287118566, -58.3002751493651 4.17871333177481, -58.3005620573193 4.17842431370331, -58.3010576670268 4.17795133089326, -58.3013447473579 4.17776723593972, -58.3018406597958 4.17747786942988, -58.3023107500261 4.17737216355255, -58.3028333940645 4.17744998607568, -58.3034079860427 4.17734410575665, -58.3039824044656 4.17713330013063, -58.3044263240877 4.17700140585184, -58.3049484899138 4.17679068668497, -58.3056534487444 4.17652720185851, -58.3063061551244 4.1762638027631, -58.3068543157704 4.17597434681746, -58.3073243158269 4.17581617602199, -58.3077683639126 4.17576297248022, -58.308551853745 4.17559378527713, -58.3093616588078 4.17553996911818, -58.3099886727805 4.17553892024529, -58.3106676762308 4.17538039830025, -58.3112681716143 4.17514331398006, -58.3117903331164 4.17493259210923, -58.3122601564346 4.17466949607304, -58.3127300665366 4.17445886032973, -58.3132521406593 4.17419567637488, -58.3136960991983 4.1740900076186, -58.3145057270997 4.17393126404719, -58.315289228245 4.17377256357733, -58.3159161073829 4.17369281753095, -58.3164123162509 4.17358706063296, -58.3176919369129 4.17327013779625, -58.3185276433873 4.17308511605007, -58.3195197063376 4.17266375146499, -58.3204858627097 4.17237358480584, -58.3210338804002 4.17200542869594, -58.3218954895874 4.17168920614061, -58.3227047150513 4.17129437830375, -58.3236965096269 4.17071562547158, -58.3271953097818 4.1695293237333, -58.3283440235099 4.16905522468537, -58.3293364263839 4.16884369687837, -58.3303544681748 4.16834358631333, -58.3310854854823 4.16805380706281, -58.3323649510439 4.16765817442703, -58.3333309595817 4.16728930304119, -58.3340096350409 4.16694714950982, -58.3344797090668 4.16684142767366, -58.3351846409392 4.16657792128565, -58.3360988832461 4.16649767289175, -58.3365689111578 4.16636571863419, -58.3372479389988 4.16623340829023, -58.3382668564262 4.1662579022243, -58.3393641487148 4.16628226024575, -58.3402004584713 4.16646444682376, -58.3412194639415 4.16654139758377, -58.342003745713 4.16685482498298, -58.3430898706877 4.1671067236861, -58.3443256386957 4.16817961435336, -58.3449073522523 4.1686889119481, -58.3457797374571 4.1693435080535, -58.3465074088367 4.17028994889081, -58.3475260033959 4.17152748552273, -58.3485448491841 4.17291081675298, -58.3499263565402 4.17407482359304, -58.3516000394369 4.17625890879991, -58.3920410839501 4.17604224531648, -58.393274080898 4.17531107381743, -58.393708551554 4.17465422110396, -58.3947237303619 4.17392343577886, -58.3960307418339 4.17399400508919, -58.3967580775665 4.17472168545985, -58.3976312698942 4.1758135928916, -58.3985761650097 4.17639508613531, -58.4000296825463 4.17719436162615, -58.4011199194713 4.17784848835232, -58.402356015154 4.17886683930919, -58.4035174337032 4.17871896146051, -58.4046800188792 4.17922715692865, -58.4070032426735 4.17915008501108, -58.4074758339349 4.17894572311643, -58.4080454697507 4.17869939548129, -58.4085267704534 4.17849126687812, -58.4100942156888 4.17786803749233, -58.41092102725 4.17753928939809, -58.4121657439916 4.17656787725996, -58.4124267543269 4.17643625739522, -58.4132102061845 4.17627746374752, -58.4141768579657 4.17630194820319, -58.4154571913606 4.17643078335159, -58.4162932202638 4.17645550110518, -58.4171555143766 4.17655885931885, -58.4180700106931 4.17663589239152, -58.4185925462804 4.17666117592409, -58.4196638828961 4.17679038220229, -58.4206139941105 4.1767555222745, -58.4215967574121 4.17660326525947, -58.4226941699844 4.17670619036127, -58.423347988484 4.17709844782623, -58.4238711864754 4.17749094199849, -58.4241854367191 4.17791004610571, -58.4244743678048 4.17877510098775, -58.4249979937482 4.17940366068827, -58.4257042544225 4.17990073765306, -58.4260966425721 4.18018854944483, -58.4269075922596 4.18079035302753, -58.4272221303606 4.18136683232798, -58.4276152327789 4.18204808600814, -58.4278377352358 4.18280083805684, -58.4281667951194 4.18367331825205, -58.4283766948257 4.18417129805421, -58.4286132193963 4.18494464144544, -58.4287446515984 4.18539030533494, -58.429112109601 4.18633390061071, -58.4292699525488 4.18693689373289, -58.4295583239581 4.1874871889639, -58.4297940174112 4.18780151324597, -58.4303955518857 4.18816762567823, -58.4305788062887 4.18837712768047, -58.4313106778686 4.18858562274675, -58.4323035586427 4.18866249028169, -58.4331655763103 4.18860844850247, -58.4336617528744 4.18850261936997, -58.4340270681122 4.1882658812484, -58.4343137213635 4.1878719108947, -58.4347309495586 4.18745147045114, -58.4354355005447 4.18700427278141, -58.4364010082298 4.18639921693465, -58.4371835472918 4.18574203803711, -58.4377836437571 4.18532126064399, -58.4385406306488 4.18497888248666, -58.4395059889809 4.18429513661189, -58.4400801031702 4.18395309416, -58.4408109629736 4.18361076269635, -58.4414114877914 4.18342604886934, -58.4419600996025 4.18342503668107, -58.4428742117129 4.18329220233396, -58.4436056460745 4.18326462150153, -58.4446505709929 4.18323646193333, -58.4455387985563 4.18323481901061, -58.4468972629271 4.1832323053146, -58.4481254422154 4.18341363629166, -58.4493020000523 4.18393604385645, -58.4499557840416 4.18430204320764, -58.4506094227838 4.18458935343977, -58.4512371792061 4.18500785807337, -58.4515508156222 4.18508596350792, -58.4523348351484 4.18524188274987, -58.453145560189 4.18571250379726, -58.4535645662007 4.18626254168993, -58.4538524670367 4.18655052833128, -58.4544800324852 4.18686411186862, -58.4552379284021 4.18702007599595, -58.455629745036 4.18699311704661, -58.4559202437277 4.18724118057389, -58.4566086873135 4.1875251689215, -58.4569538392788 4.18817014253323, -58.4573067897309 4.18898776674729, -58.4575887446205 4.18934026797525, -58.4575889897833 4.18947219831578, -58.4576832234758 4.18963706570566, -58.4576836414185 4.1896390021317, -58.4576602816002 4.18971149199845, -58.4578470791127 4.1900227467774, -58.4580418249729 4.19020255507066, -58.45840160061 4.19066732800715, -58.4585815590707 4.19093725006358, -58.4589858384173 4.19120675192265, -58.4592549395771 4.19116120577145, -58.4594490994519 4.19102571330049, -58.4596731972907 4.19090517952111, -58.4598525146705 4.19082977169391, -58.4599724033905 4.19096467608699, -58.4598082077614 4.19113014109574, -58.4598085428945 4.19131031312452, -58.4599733235301 4.19146014822827, -58.4602428146753 4.19162480118033, -58.4603929761083 4.19195483519337, -58.4605130602372 4.19219484002399, -58.4606782323825 4.19255487426987, -58.4604993050733 4.19284048181689, -58.4602155833806 4.19306622854496, -58.4596483057539 4.19360780606812, -58.4594802113265 4.19376417219993, -58.4591252246773 4.19378895719172, -58.4590917283762 4.19378902074172, -58.4590941054394 4.19379382403675, -58.4589308683267 4.19381935005054, -58.4589014324251 4.1940746494751, -58.4586178768525 4.19439048108317, -58.4580953786488 4.19488693214141, -58.4575580920546 4.19547349712012, -58.4572151617952 4.19602966939978, -58.4570963309129 4.19646530707127, -58.457156679806 4.19675046735346, -58.457262422873 4.19688986974107, -58.457298191987 4.19727692213974, -58.4576525304781 4.19801074551921, -58.4578924776673 4.19837064047462, -58.4579118429933 4.19894978166946, -58.4580012000857 4.19903030966693, -58.4579984728568 4.19907611584107, -58.4581039388053 4.19949632008386, -58.4582991887592 4.19994638469577, -58.4585243774673 4.20041140781395, -58.4586147767822 4.20077158215625, -58.4585254661292 4.20099696529685, -58.458339158103 4.20133513667937, -58.4583098062451 4.20163547832121, -58.4584894607207 4.20174024201422, -58.4589383882232 4.20188954436237, -58.4591632423321 4.20217439401198, -58.4593583273833 4.20253437277897, -58.4596278239809 4.20269902551724, -58.4600471216949 4.20299852482289, -58.4602718089059 4.20319328973258, -58.4604671183646 4.20367338044954, -58.4604976718805 4.20401865262727, -58.4606258944841 4.20461147917182, -58.4607616359262 4.20522681080748, -58.460777598526 4.20576729657972, -58.4607184780487 4.20614276549437, -58.4608387058018 4.20645783980613, -58.4609514151557 4.20675040797994, -58.4608625528405 4.20721601991867, -58.4608036852688 4.20772661684992, -58.4608048046182 4.20832718734689, -58.4608055611723 4.20873257314878, -58.461030755444 4.20919759403997, -58.4611657431887 4.20940754032404, -58.4612563981209 4.20990284236385, -58.46142124008 4.21008270396437, -58.4617283665498 4.21037490520433, -58.4620582191247 4.21082471387282, -58.4622836402201 4.21140984719123, -58.4624786732206 4.2117397954723, -58.4627485665992 4.21211464395953, -58.4630331628001 4.21235433714521, -58.4631983433723 4.21271436878668, -58.4634833328965 4.21316426071214, -58.4635661058657 4.21344186863643, -58.4639257027438 4.21380153348297, -58.4639712709112 4.21417680577049, -58.4640915583342 4.21452190782689, -58.4643313468926 4.21479171207097, -58.4645713314467 4.2151666165468, -58.4648562676433 4.21558647816303, -58.4648865160642 4.21576659321902, -58.4649020896804 4.21609687791079, -58.4649849762523 4.2164345428459, -58.465359813612 4.21694432033709, -58.4655104065535 4.21749956501733, -58.4654673720989 4.21847557543279, -58.4655652418873 4.21882822644416, -58.4658651347508 4.21924805873755, -58.4659703575761 4.21953313163228, -58.4662552676831 4.21993797819333, -58.4664203959672 4.22026797974384, -58.4666750008956 4.22046268385581, -58.4668402704379 4.22086775539148, -58.4670204099152 4.22122775750718, -58.4670663477122 4.22179821294371, -58.4671342250088 4.22210587712592, -58.4673439652131 4.22230066477177, -58.4674338674088 4.22239058049409, -58.4676297538138 4.22317095108676, -58.467990035376 4.22389095327618, -58.4681856134885 4.22450616764523, -58.4683954111926 4.22473098381062, -58.4688741516697 4.22482016099736, -58.4690687400868 4.22490987690091, -58.4692936629127 4.22522474897256, -58.4694063792414 4.22551731282772, -58.4697658731576 4.22581691645801, -58.4698114458116 4.22619218616154, -58.4698271089556 4.22656751172578, -58.4699774553186 4.2269876262666, -58.4702624559403 4.22743751235465, -58.4703825517807 4.22767751158008, -58.4707719294436 4.22796204196517, -58.4709963444402 4.22800665834754, -58.4711013437514 4.22817161485025, -58.4712293282959 4.22862930598801, -58.4714992060374 4.22898913502526, -58.4716500065813 4.22964947418625, -58.47163607236 4.23019001350617, -58.4716368384846 4.23059539710554, -58.4716225917601 4.23097078007616, -58.4712728268986 4.23186479335909, -58.4709304418193 4.23270624340955, -58.4708266886671 4.23320191088955, -58.4707979135667 4.23380253611059, -58.4708214665065 4.23439555353495, -58.4711519353513 4.23516064996669, -58.4716321286863 4.23601554745347, -58.4718573427172 4.23648055987876, -58.4720073522007 4.23672050203972, -58.4721498414772 4.23693793658747, -58.4724346214805 4.23726770649005, -58.4725999001815 4.23767277523842, -58.4729145347715 4.23797245868653, -58.4729450140596 4.23827268590583, -58.473065313282 4.23861778367259, -58.4734098878686 4.23893242416311, -58.4736049932947 4.23929239260743, -58.4738300383508 4.23966731743789, -58.4740025820738 4.23995976584775, -58.474182617924 4.24025970624283, -58.4743780097247 4.24076981581719, -58.4747373420875 4.24097932769158, -58.4749771151195 4.24123411162102, -58.4755465683874 4.24183358999441, -58.4760711541876 4.24243315349962, -58.4769029746502 4.24336994831297, -58.4772177275144 4.24372968566931, -58.4774577591657 4.24411959508901, -58.4778020810687 4.24429910435533, -58.478131876887 4.24470385495456, -58.478386493512 4.24489855127024, -58.4785474185959 4.24488747052987, -58.478625612683 4.24480800717765, -58.4788350769814 4.24485264718683, -58.4789266570484 4.24485677544296, -58.4791952134527 4.2454825524229, -58.4792853765699 4.24570759204316, -58.4796151156891 4.24608231255041, -58.4799001600868 4.24654720494641, -58.480080116101 4.2468021000481, -58.4805440269779 4.24695134955426, -58.4807538640197 4.2471911733419, -58.4808741681431 4.24753626811732, -58.4811590430054 4.24791107365647, -58.4815034817826 4.24815063733159, -58.4819006531627 4.24859279082912, -58.4822753772698 4.24902748081067, -58.4826950260147 4.24949211117815, -58.4829496739372 4.2497018185635, -58.4834886239743 4.24998604792374, -58.4842817067065 4.25020973155302, -58.4851052477768 4.25071862277599, -58.4857790304252 4.25112270399158, -58.4863258202884 4.25159459301641, -58.4867454726151 4.25205921980499, -58.4871200561168 4.25241883461193, -58.4875093085128 4.25262827865338, -58.4877339617178 4.25279300088551, -58.4881840166908 4.25351280642532, -58.4885815125068 4.25412010908778, -58.4888217555263 4.25461510992767, -58.4889310331599 4.25488784304772, -58.4889034085804 4.25495003086448, -58.4889271382723 4.25497524508253, -58.4889280910063 4.25547070901537, -58.4886454904891 4.2562820186889, -58.4882441380678 4.2575589971473, -58.4878709072427 4.25790504550895, -58.4870341028194 4.25828201907226, -58.4863919536951 4.25877872955986, -58.4860634157646 4.25903460503134, -58.4857648467784 4.25932045236483, -58.4853697994901 4.25998934583761, -58.4850570815213 4.2606956154776, -58.484684769382 4.26152211366777, -58.484666575174 4.26156965857959, -58.484648075311 4.26176873275598, -58.4846731052285 4.26222924560015, -58.4846413718866 4.26228791885362, -58.4846877097252 4.2630535513941, -58.4847785129465 4.26360889853725, -58.4848395199761 4.26422436034693, -58.4850353888977 4.26497468792255, -58.4853808778954 4.26575475458453, -58.4856741221911 4.26658747093852, -58.4858093035967 4.26688749158492, -58.4858854128622 4.26757799424843, -58.4861254315194 4.26795288127782, -58.4862158611684 4.26831304547877, -58.4865157907921 4.26873285953521, -58.4868153451259 4.26895749036586, -58.4870030622716 4.26935499906891, -58.4872580959951 4.26975988607058, -58.4874082348784 4.27005987697535, -58.4875287222234 4.27049505202337, -58.4877537579833 4.27085495344194, -58.4879341873086 4.27135006978727, -58.4879946768292 4.27169527699887, -58.4882131190421 4.27251312225075, -58.4882446532135 4.27335385134005, -58.4882908252643 4.27402939549487, -58.488329628341 4.27408464623654, -58.4883261256437 4.2743507759429, -58.4883267065499 4.27465191157086, -58.4882489520296 4.27537980773181, -58.4882942177737 4.27578604094429, -58.4882351756737 4.27619153734847, -58.4880516510841 4.27676876565697, -58.488049326774 4.27772236710068, -58.4880670575136 4.27827441683371, -58.4880155602177 4.27863926586637, -58.4880460812117 4.27895450217565, -58.48806150208 4.27919469913488, -58.4880831979488 4.2793450710979, -58.4880585720196 4.27940722259188, -58.4881007848024 4.27982284006002, -58.4882119612836 4.28021061044235, -58.488308878027 4.28036284546972, -58.4885439896824 4.2805979507613, -58.4886827191995 4.28095795447832, -58.4888491898569 4.28138718567042, -58.4891262997625 4.28192705604791, -58.4893342348024 4.28238392077817, -58.4894454653625 4.28279940331312, -58.4894394358345 4.28324975743903, -58.4894591763717 4.28361284235396, -58.4894440484675 4.28366708740521, -58.4894281634066 4.28368665562007, -58.4894402945422 4.28369316880019, -58.4894546347376 4.28397027432231, -58.48924846989 4.28442794621448, -58.4890009222656 4.28489955567393, -58.4889189067533 4.28531541588675, -58.4887540445909 4.28571758169892, -58.4886581722204 4.28610575525368, -58.4885622998169 4.2864939288264, -58.4884251250881 4.28693761039309, -58.4883427876797 4.28718719081414, -58.4882062294869 4.28794957450996, -58.4879661587827 4.28871908855686, -58.4875949696645 4.28949578679718, -58.4871959304356 4.29014782941024, -58.4868242023107 4.29064739504423, -58.4864322128723 4.29137563491117, -58.4862672418154 4.29172237465581, -58.486171421083 4.29213826127656, -58.4858824872898 4.29262380870525, -58.4857174354723 4.2929289780306, -58.4853252282039 4.29354636617147, -58.4850090343007 4.29421210346781, -58.4847063218439 4.29471153558822, -58.484596162106 4.29485031633021, -58.4844722784532 4.29503069535965, -58.4844174401037 4.29522479584522, -58.4843626276314 4.29543275316795, -58.4843492529205 4.29565448573604, -58.4843596106371 4.29583956644942, -58.4843314241673 4.29587245844023, -58.4843358782256 4.2958762192097, -58.4842814149569 4.29626431353846, -58.4841438348906 4.29650014502986, -58.4839372101525 4.29672225507366, -58.4837166738584 4.29688896556296, -58.4835653981948 4.29718025218107, -58.4833867558101 4.29759630049467, -58.4830423080699 4.29792953317495, -58.4827806832351 4.2982626035963, -58.4825194062952 4.2987758111295, -58.481947907688 4.299476688124, -58.4816587812223 4.29986523963548, -58.481439155432 4.30050307641226, -58.4811231709528 4.30127966712575, -58.4809444456552 4.30165414687378, -58.4805724694477 4.30202900279724, -58.480014289959 4.3024804339885, -58.4793940322268 4.30295276930731, -58.4787460337973 4.30335587645915, -58.4782081421674 4.30359248712946, -58.4780159894364 4.30363421163546, -58.4780352849616 4.30374212551979, -58.4776144702046 4.30414925271496, -58.4774403483462 4.30457850273512, -58.4772368442839 4.30487831700372, -58.4770822834293 4.30516692313321, -58.4768300171511 4.30557249822101, -58.4765342486946 4.30601404638793, -58.476241660231 4.3063088968293, -58.4759057410185 4.3065828642161, -58.4756933385869 4.30700887955379, -58.4754837006544 4.30752921653467, -58.4752803471044 4.3079078256491, -58.4747324418117 4.30871259373636, -58.4741221048943 4.30970658928901, -58.4737306680504 4.31024315213025, -58.4730417445638 4.31119002361649, -58.4726189694801 4.31175816493699, -58.4721175486016 4.31224766444135, -58.471819604563 4.31242159083587, -58.4714352063744 4.31271885092436, -58.4713844696703 4.31277927798928, -58.4713493377533 4.31278495871337, -58.4706127052226 4.3134167437386, -58.4701897765696 4.31390609059109, -58.4696882314486 4.3143325541682, -58.4692187499508 4.31510565196536, -58.4681995332073 4.31573798433984, -58.4677449305934 4.3160855610967, -58.4675571187857 4.31638534464851, -58.4665222899342 4.31706498364547, -58.465644026101 4.31752369250734, -58.4652757499764 4.31786322257649, -58.4643512026785 4.31874751269388, -58.4640535257456 4.3190632663671, -58.46392850876 4.31936292929869, -58.4634268655604 4.31974211448138, -58.4632545988177 4.3199630722376, -58.462957797807 4.32073583581381, -58.4626539187295 4.32191046637614, -58.4621856356979 4.32331391968509, -58.4621398982813 4.32402316104627, -58.4621256205913 4.32476386041163, -58.4616800540712 4.32573389907243, -58.4611171510026 4.3269169097605, -58.4607886467276 4.32753214581774, -58.4606959931496 4.32833603274972, -58.4607024122085 4.32833973285765, -58.4606491678728 4.32847795370808, -58.4607775445343 4.32992753117408, -58.4607784824712 4.33041605839636, -58.460653795272 4.33088906860271, -58.4604987079936 4.33188218365971, -58.4601398316182 4.33303328404898, -58.4601642438843 4.33348236816824, -58.4604317678986 4.33381278869807, -58.4604440319364 4.33381440553796, -58.4604454247036 4.33381811354432, -58.4608492401795 4.33418518639331, -58.4614538009943 4.33463027614499, -58.4615486639638 4.33497679000378, -58.4617058399594 4.33507103931005, -58.4618955658574 4.33517636305696, -58.4619422997253 4.33557486728592, -58.4619431790526 4.33603187643294, -58.4618816245266 4.33667811370586, -58.4617107504568 4.33762398251555, -58.4616491354482 4.33823870119978, -58.4619023614831 4.33870774167862, -58.4620497254034 4.33911209475288, -58.4623437460082 4.33955294838813, -58.462967515436 4.33995637623705, -58.4634076985245 4.34017623294349, -58.4636280022744 4.34039651705076, -58.4638116601568 4.3406168731006, -58.4642885606723 4.34087344275613, -58.4646183082486 4.3408360163835, -58.4651681462915 4.34090851796799, -58.4654618863814 4.34120222846351, -58.4656454730405 4.34138579810505, -58.4655338889 4.34185571632885, -58.4657201164738 4.34208457234148, -58.4658669864163 4.34223142829329, -58.4660543765205 4.34309965917025, -58.4662436232579 4.34354054105099, -58.4663544341458 4.34401309326697, -58.4662460001535 4.34476973326869, -58.4661528694799 4.34532147692746, -58.466148518276 4.34568869442976, -58.4660443432856 4.3460308404867, -58.4657780908668 4.34636229662141, -58.465558875566 4.34666214337713, -58.465182298351 4.34677318951509, -58.4650574931409 4.34718316574878, -58.4645721761184 4.34789326276323, -58.4643850599514 4.34855550286089, -58.4639153800253 4.3492340516775, -58.4635079503355 4.34962881889819, -58.4631473458582 4.34988166380454, -58.4629687782351 4.35010911855209, -58.4623822145646 4.34999990485004, -58.4622274195242 4.34999106598639, -58.4620640682685 4.34988377145564, -58.461294783208 4.34988526686827, -58.4607929408854 4.35016990311876, -58.4603542914846 4.35065928358609, -58.4602302434424 4.35146323206151, -58.4601680225015 4.35176277450442, -58.4598859127752 4.35201546613347, -58.4597764706803 4.35225206270167, -58.4595257609849 4.35250469333811, -58.4595259743915 4.35261500642782, -58.4596046243439 4.3526936484698, -58.459699851571 4.35269346270355, -58.4597777780987 4.35292969553217, -58.4599666303541 4.35316571384109, -58.4600925024529 4.3533072998469, -58.460245035827 4.35346188161537, -58.4605018498498 4.35360852280983, -58.4608319582175 4.35375502235682, -58.4608944673888 4.35396761707886, -58.4608794064375 4.35429858574573, -58.4610529054032 4.35430637261277, -58.4610055516334 4.35458200132871, -58.4609118404517 4.35483432730978, -58.4609438793582 4.35516520350409, -58.4609605830232 4.3556852157755, -58.460819893655 4.35600066976832, -58.4608676320789 4.35633151452197, -58.4611038289643 4.35669351150003, -58.4611202906417 4.35708745363611, -58.461026882801 4.35749736842115, -58.4608551588139 4.35800198915593, -58.4607931210135 4.3583960849332, -58.4607623602842 4.3587270823401, -58.4607782422381 4.358821605937, -58.4609336644685 4.3589783420833, -58.4611537618937 4.35908826970721, -58.4613733619544 4.35894070050524, -58.4615199514426 4.35894041517957, -58.461630320428 4.35916091211461, -58.4618504179481 4.35927083948164, -58.4623634812267 4.35926983941094, -58.462620084395 4.35930612453565, -58.4628403242826 4.35948962122189, -58.4631337887806 4.35963619103004, -58.4634633300312 4.35948840611557, -58.463646495225 4.35945126407714, -58.4639395317117 4.3593771219022, -58.4642325681051 4.35930297963206, -58.464525604405 4.35922883726677, -58.4648915078866 4.35893384027354, -58.4652943428804 4.35878591267852, -58.4659170613659 4.35863755478017, -58.4662468873462 4.35863691080553, -58.4665033474284 4.35859962415507, -58.4667598065555 4.35856233742727, -58.4671992161453 4.3583775526515, -58.4674920374079 4.35819305325512, -58.4681515448164 4.35811819350679, -58.4687377574844 4.35804347566723, -58.4693977643052 4.35822610982317, -58.4697284479453 4.358666884677, -58.4700594170379 4.35925479902426, -58.4702435125674 4.35969586039837, -58.4704643982524 4.36021042018351, -58.4703918197708 4.36057841358062, -58.4702094418961 4.36102019361063, -58.4700636392607 4.36142511625273, -58.4697711049163 4.36175675662937, -58.4693234797641 4.36202223671233, -58.4691211684478 4.3620516508998, -58.4683215468924 4.3626047804915, -58.468165344975 4.36301481703377, -58.4682292474945 4.36358201246383, -58.468261903564 4.36422806521842, -58.4682629447628 4.36476386590279, -58.4683421807491 4.36514192377725, -58.4681547924309 4.36566233549397, -58.4681087038893 4.36618246961349, -58.4681567853857 4.36668666131582, -58.4681284832305 4.36674196733181, -58.4680767283627 4.36676286499948, -58.4674173566271 4.36691129672664, -58.4668677135649 4.36694915939769, -58.466445306222 4.36707119516154, -58.4661949298976 4.36702144198051, -58.4655517504233 4.36729060210451, -58.4650972760441 4.3677169827949, -58.4645019600954 4.36838002310952, -58.4641572322424 4.3687273936622, -58.4639386239577 4.36934241999875, -58.463845219373 4.36975233499924, -58.4633600769479 4.37055698918892, -58.4627964642469 4.37137755742967, -58.4624590787945 4.37146489009714, -58.4620667898253 4.37157596959126, -58.4617689159605 4.37179717791977, -58.4607800520306 4.37192518129679, -58.460293409044 4.3719576494835, -58.4601214089644 4.37232044038848, -58.4600276048031 4.37252549036949, -58.4597610681514 4.37271511831864, -58.4593768271513 4.37292861458727, -58.4590163932649 4.37327601484199, -58.4587343401555 4.37356022648646, -58.4584364624788 4.37378143407188, -58.4581389225843 4.3741759884173, -58.4580296609412 4.37450714007619, -58.4581246860144 4.37493244727879, -58.4583762863928 4.37513682309601, -58.4585491109833 4.37519952191821, -58.4585985761656 4.37520032804966, -58.4590230059594 4.37535154313777, -58.4594262069898 4.37538754071502, -58.4597930461442 4.37557075177642, -58.4601962471958 4.37560674979091, -58.460496854285 4.37566848776458, -58.4605444143389 4.37590477879769, -58.4605448724897 4.37614116270481, -58.4603097660088 4.37634648785797, -58.4600904211371 4.37658330187344, -58.459902415501 4.37678853592103, -58.4595390759398 4.37689551961585, -58.4587703172127 4.37733844452918, -58.4585221676733 4.3775003842809, -58.4585069255596 4.37773679992402, -58.458475830185 4.37789444998699, -58.4581851547162 4.37796493786063, -58.4578793101717 4.37794289030197, -58.4576134736199 4.37849497448033, -58.457598842232 4.37904656702337, -58.4576318309354 4.37986596966078, -58.4575697000344 4.38021278855882, -58.4573346229382 4.38043387324218, -58.4568342935363 4.3806161216374, -58.4562051127616 4.38090884588937, -58.4557824547893 4.38155578956501, -58.4555955441745 4.38232834458638, -58.4554564371407 4.38346326346407, -58.4553321773164 4.3841569017062, -58.4551918802786 4.38467722269301, -58.4552080690349 4.38492933449711, -58.4552553528262 4.38502379697542, -58.4550515212714 4.3851660259096, -58.4545525854635 4.38518196150772, -58.4540759386012 4.38507253406401, -58.453245754854 4.38505923301111, -58.4525735515623 4.3851858183611, -58.4520609665441 4.38544431526031, -58.4515196765488 4.38556688285689, -58.4512220069327 4.38589840138194, -58.4510822857266 4.38671814227757, -58.4511460916464 4.38723806658082, -58.4514785645479 4.38750543378367, -58.4523402160056 4.38769275236375, -58.4528900699372 4.38786502944458, -58.4531577102297 4.38824272435687, -58.4533154172012 4.38860487434015, -58.4535044644363 4.38893544430741, -58.4538452684702 4.38897223975, -58.4541014823623 4.38913914700573, -58.4543221325236 4.38919202045317, -58.4547252002616 4.38915444917363, -58.4549489143928 4.38893262578041, -58.4552160075062 4.38902665748153, -58.4554053905115 4.38953057542695, -58.4556890093709 4.3900500691056, -58.4561203573978 4.39043921222568, -58.4564442253647 4.39086805954517, -58.456891200494 4.39106305644571, -58.4575145909703 4.39124576380902, -58.457685886973 4.3915432669213, -58.4576397953578 4.39206340300879, -58.4574688650707 4.39297775864363, -58.4575352895867 4.3932579741546, -58.4574698757517 4.39349780262887, -58.457613417679 4.39464792711029, -58.4576147962459 4.39535707849602, -58.4580719849946 4.39631747944541, -58.4581674765328 4.39697916950033, -58.4582468995594 4.39745178284605, -58.4586409511769 4.39823895818428, -58.4592946023244 4.39930140557783, -58.4594843933567 4.40001018670994, -58.4593284612405 4.40056205682788, -58.4591719748064 4.40083026558818, -58.4589054617527 4.40103565538857, -58.4590632678991 4.40144507881391, -58.4591580564212 4.40174431332817, -58.45860963441 4.40231271257899, -58.4578655813747 4.4032045548791, -58.4571920109614 4.40400958419234, -58.4565339565022 4.40472002928541, -58.4558609054226 4.40579295937271, -58.4553753438318 4.40639275358715, -58.4542711119477 4.40777383004788, -58.4534569007951 4.4089258320683, -58.4527676197864 4.40973089127874, -58.4520862033857 4.41054381396617, -58.4516944757773 4.41095431548544, -58.4512395433019 4.41116007385432, -58.4510046099398 4.41145995480291, -58.4503330460314 4.41330507336728, -58.4499347644552 4.41438534667129, -58.4497161125285 4.4149846165946, -58.449512334312 4.41515836480908, -58.4492613317193 4.41526916845921, -58.4488068553417 4.41571131129416, -58.448446890865 4.41631085837267, -58.4482284821043 4.41703619989599, -58.4478524492769 4.41744667135897, -58.4477905625345 4.41791956314592, -58.4476419671381 4.41821139544638, -58.4473909928445 4.41833795873149, -58.4472501401883 4.41857461894093, -58.4470793223686 4.41955201354254, -58.4471760085092 4.4208283064905, -58.4470043043173 4.42134869097508, -58.4466596411504 4.42174334058537, -58.44662961529 4.42245255629281, -58.446764223937 4.42304325717965, -58.4468289272162 4.42402019158035, -58.4470348822171 4.42496533068698, -58.4473669998884 4.42619388461583, -58.4475645071115 4.42683173875673, -58.4480522317087 4.42733507245229, -58.4487751704846 4.42768035298221, -58.4488026945347 4.42767956286896, -58.4497797786675 4.42808311215273, -58.4503784324522 4.42855971197501, -58.4508819222093 4.42909452979344, -58.4512126662599 4.42961392732693, -58.4516378343638 4.43024345181636, -58.4519532168483 4.43093622745808, -58.4521750075812 4.43194436693181, -58.4522718945004 4.43331520880321, -58.4523211236612 4.43440248298092, -58.4523857167867 4.43531637737964, -58.4526386054742 4.43616686519168, -58.452970433596 4.43723782261125, -58.4533812972596 4.4385765268752, -58.4536500137991 4.43949001813258, -58.4540283961178 4.44027722027763, -58.4542175259336 4.44063930385624, -58.4541557080258 4.44114371296191, -58.454047743508 4.44213674316092, -58.4539233034276 4.442735829563, -58.4537205097984 4.44341386626216, -58.4536747945089 4.44412311091848, -58.4535350553537 4.44492709485902, -58.4533480561874 4.44565237830156, -58.453254401702 4.4459362242464, -58.4532075748965 4.44607814812585, -58.4532706905875 4.44623561303696, -58.4530979411749 4.44622019507061, -58.4530670935151 4.44650391797158, -58.4530994551834 4.44699238245784, -58.4528487213359 4.44724502151912, -58.4528030997037 4.4480015430725, -58.4530240055596 4.44855267110486, -58.4536144947349 4.44919038381792, -58.4537981155572 4.4493739471055, -58.4543407708638 4.44962680197813, -58.4543303818798 4.45014174510542, -58.4544571099515 4.45070881816158, -58.4545675499707 4.45097650170451, -58.4545525912231 4.45135474671702, -58.4544904965294 4.45171732603132, -58.4546015549336 4.45230018794435, -58.4549162127869 4.45261474404537, -58.4551837639966 4.45292939407686, -58.4553257943948 4.45329156925594, -58.4554208729198 4.45373263199025, -58.4554224229015 4.45452057728981, -58.4554543552358 4.45478841586827, -58.4554637094122 4.45555270773028, -58.4557006033582 4.45624563214907, -58.45571751582 4.45686019864123, -58.4554986507689 4.45734916102062, -58.4555309237836 4.45779034797598, -58.4557524269647 4.45864089277136, -58.4561089672112 4.46028699648098, -58.4566137009097 4.46143639788088, -58.457212307057 4.46241226384094, -58.4575430158189 4.46290013312361, -58.4586842340229 4.46432404760316, -58.4591724006128 4.46503222775815, -58.4592901817798 4.46503359227904, -58.4596202001948 4.46510650517097, -58.4598639170174 4.46534602811044, -58.4601316639992 4.46575522701565, -58.4606362536615 4.46682582896365, -58.4610356966555 4.4673107980387, -58.4613763775629 4.46789595849156, -58.4616283927911 4.46828942874543, -58.461880690224 4.46882472818079, -58.4621023446244 4.46918471509015, -58.4623229903367 4.46955212614512, -58.4629106758174 4.47017629986805, -58.4633146607309 4.47058012894197, -58.4635352345777 4.47091075547186, -58.4638806864781 4.47175188673177, -58.4642274195878 4.47239730755323, -58.464491718408 4.47267452903849, -58.4649327237032 4.47326220836468, -58.4653732178257 4.47359239260572, -58.4659969033917 4.47388542371264, -58.4665110701433 4.47439938431089, -58.4669702583794 4.47491345546326, -58.4676676177557 4.47539026255893, -58.4682553859487 4.47605121350075, -58.4692831392349 4.47678485010555, -58.4697972376963 4.47726202141964, -58.4702376607777 4.47755541659477, -58.470531695009 4.47795946008508, -58.4708995492817 4.47862085064977, -58.4713037638359 4.47913502779367, -58.4717445572269 4.47961234523091, -58.472075098828 4.47994274458063, -58.4722954591572 4.48016300977205, -58.472882498366 4.48045610606823, -58.4739832733165 4.48104244468287, -58.4747024176844 4.48102785814474, -58.4751562488405 4.48107686081515, -58.4758959223307 4.48108848119846, -58.4764763530493 4.48136847195639, -58.4769798886756 4.48133842894371, -58.4774656916236 4.4812193303985, -58.4779786134862 4.48110793626684, -58.4784368513151 4.48114379453878, -58.4790965338539 4.48110567275859, -58.4797191909553 4.48088370156948, -58.4800851305362 4.48058868093081, -58.4805614715189 4.48051414483806, -58.4810011597403 4.48043968276268, -58.4814777224918 4.48047550116469, -58.4819180039069 4.48069531648337, -58.4822117475429 4.48095221422032, -58.4825786473948 4.48113539332037, -58.4831654673393 4.48131812659232, -58.4837522132527 4.48146407402259, -58.4839724281353 4.48161076473907, -58.4841196347597 4.48190474446867, -58.4843405920697 4.48241928309887, -58.4846715103765 4.48293359799286, -58.4849658499397 4.48348477146813, -58.4853331990827 4.48388865636281, -58.4856268698815 4.48410876664631, -58.4859573439982 4.48440237260546, -58.4862141385059 4.48451220416266, -58.4863251403473 4.48502696529819, -58.4865824567133 4.4853942886566, -58.4868765758192 4.48583510668245, -58.4872070503495 4.48612871073478, -58.4875741034339 4.48638545552482, -58.4876113536505 4.4866796578945, -58.4878320176804 4.48704705512661, -58.48819937035 4.4874509374223, -58.4884564651243 4.48770790665293, -58.4887870902236 4.48807507894177, -58.4891905757197 4.48822139295677, -58.4894840992583 4.48836793307669, -58.4898513042482 4.48869824458192, -58.4901998841776 4.48888145623134, -58.4911170388381 4.48928421161241, -58.4918137505015 4.48942992501492, -58.4926206458922 4.48968576520614, -58.4933545351303 4.4900888930657, -58.4935383257357 4.49034600882975, -58.4935756537923 4.49067699419318, -58.493613054962 4.49104476373687, -58.4938334997821 4.49130180510223, -58.4942369115732 4.49141133120332, -58.4946405480997 4.49163121137352, -58.4949645859578 4.49176558089313, -58.4953107458293 4.49211156071626, -58.4957419489642 4.49251178068948, -58.4962921989746 4.49273135860816, -58.4969162079434 4.49317149110605, -58.4975032634439 4.49346456075722, -58.4980538165568 4.49383127428439, -58.4986408719217 4.49412434268608, -58.4992280788832 4.49449097954632, -58.4998883666389 4.49474711161489, -58.5005486555856 4.49500324202197, -58.501208944824 4.49525937167365, -58.5013556337757 4.49529585348335, -58.5022561259837 4.49558569799547, -58.5033152952009 4.49592343254793, -58.5050941381504 4.49621718626363, -58.5064071667976 4.49646941117805, -58.5075506658591 4.49663700320947, -58.5082711257144 4.49697543147723, -58.5089495085201 4.49744141698043, -58.5095863433014 4.49828989865126, -58.5098422156098 4.499181661374, -58.5099704603738 4.49977625724948, -58.5101830307523 4.50020071740786, -58.5103537020872 4.50083771463893, -58.5103555428046 4.50173000498223, -58.5106548991945 4.50317404838333, -58.5108678240964 4.50376846668472, -58.5112514219148 4.5049998829698, -58.5116342316526 4.5058488888349, -58.512017833788 4.50708030293854, -58.512147224802 4.50822726651136, -58.512403988124 4.50954392489173, -58.5126615445513 4.51124299233087, -58.512705205287 4.51188025292508, -58.5127059969069 4.51226266241381, -58.5127919080699 4.51285734432065, -58.5126658572674 4.51332499846455, -58.5127517706158 4.51391968032455, -58.5128377704748 4.51455685246126, -58.513008275378 4.5151088671508, -58.5130943648925 4.51578852944569, -58.5130955105548 4.51634089834391, -58.513521641715 4.51765719996022, -58.5139477769271 4.51897350166287, -58.5143730304685 4.51986490314346, -58.5145864077077 4.52067176802033, -58.5147568276163 4.52118129189427, -58.5146745328832 4.52232869614199, -58.5146331644893 4.52279617254662, -58.5147620406557 4.52368819382014, -58.5148906516067 4.52445274498722, -58.5151884491985 4.52513196258175, -58.5158682837241 4.52627776800086, -58.5163351775627 4.52682915874611, -58.5168026943462 4.52767797794816, -58.5172278709173 4.52852688532602, -58.5177380844384 4.52954557338318, -58.5182475010877 4.53018185226254, -58.5191807686208 4.53102968775169, -58.5203912073663 4.53281171679193, -58.5217499362474 4.53463591951306, -58.5224709752492 4.53522925740003, -58.5230798146663 4.53610404067948, -58.5234486455786 4.5370542574416, -58.5237188179726 4.53754883483055, -58.523958698081 4.53798795663671, -58.5244255185343 4.53849684729331, -58.5250184700203 4.53858057358723, -58.5255266510396 4.53862198747912, -58.52599249005 4.53866349147471, -58.5263741835142 4.53896011189439, -58.5269678505675 4.53938375210418, -58.5273661594931 4.53952737395908, -58.5278747519449 4.53976423871624, -58.5282813674853 4.53983136016655, -58.5286875546378 4.53969453136917, -58.529873171848 4.53972600732095, -58.5303471030708 4.53958903309185, -58.530719343985 4.53941828432409, -58.5311936329744 4.53945126854114, -58.5316003922685 4.53958637070829, -58.5322775593649 4.53944896371268, -58.5327181914306 4.53958399411587, -58.5330908627727 4.53961719388241, -58.533598952466 4.53961611268955, -58.5343784540323 4.53981840409418, -58.5353616962578 4.54025820196447, -58.53590437847 4.5405969611556, -58.5366506565714 4.54110524686575, -58.5371256662126 4.54147814079349, -58.5377022218069 4.54181682760759, -58.5382616982679 4.54208756659664, -58.5394144528177 4.5425949779416, -58.5402961529055 4.54306897542697, -58.5415163645791 4.54344027203802, -58.5422282696933 4.54371068090176, -58.5430418658656 4.54401486102631, -58.5435162289655 4.54408182839252, -58.5440584823356 4.54421663155219, -58.5448036089412 4.54418104160531, -58.5453855396169 4.54402516377733, -58.5458404950221 4.54381932966065, -58.546428772659 4.54383763734762, -58.5471748955025 4.5436431221705, -58.5476476794538 4.54359707761972, -58.54795911163 4.54320020463096, -58.5482408591355 4.54277412623251, -58.5484285567814 4.5424270419413, -58.5488518346478 4.54209520698508, -58.5493380252941 4.54181051316437, -58.5495573974357 4.54158942561933, -58.5498705505013 4.54116327868991, -58.5503409028292 4.54081558572024, -58.5510285422141 4.54059855523251, -58.5520104784596 4.54042648336201, -58.5527216537761 4.54035696816446, -58.5536361353863 4.54032100585846, -58.5546524512939 4.54038679662975, -58.5557025674236 4.54041852143953, -58.5565498128558 4.54062064028663, -58.5569900078661 4.54055170590166, -58.557837034526 4.54065184901941, -58.5582775200495 4.54071887924135, -58.5589206562212 4.54051354003552, -58.5598012626484 4.54047764317805, -58.560614269993 4.54050987360211, -58.5612241900051 4.54061052575412, -58.5618344764938 4.54088113373378, -58.5621055276423 4.5409145370355, -58.5631217679018 4.5409463249549, -58.5640701907648 4.54094426623142, -58.5646121462343 4.54094308938814, -58.5650521924434 4.54080616872333, -58.5654588781979 4.54090725904247, -58.5660685045638 4.54087194280259, -58.5665761471485 4.54066689176001, -58.5669539774324 4.54044872480834, -58.5672988633302 4.54018008679768, -58.5675912110234 4.54015481623867, -58.5682682859827 4.53998338731721, -58.568640731736 4.53991459456494, -58.5689455072813 4.53987993929703, -58.5698603487194 4.54001391173802, -58.5704704139028 4.54018253895206, -58.5708017076933 4.54067671818196, -58.5710381729804 4.54110167152249, -58.5709457637417 4.54193705196167, -58.5708689547845 4.54272512515981, -58.5710898210378 4.54319738640075, -58.5717990107541 4.54368072670688, -58.5722219375197 4.54388827056553, -58.5726802788685 4.54395073109725, -58.5730392791571 4.54424892157324, -58.5733218306299 4.54420102954791, -58.5737310555122 4.5442883464138, -58.5744085002465 4.54428686445453, -58.5749088285141 4.54431219282166, -58.5751285614102 4.54460678955223, -58.5753177161957 4.54493729451068, -58.5750365695293 4.54563126440545, -58.575069276791 4.54622999977991, -58.5754002739539 4.54679656558357, -58.5761554928653 4.5474725085782, -58.5769734556875 4.54811679589372, -58.5778706232587 4.54907606916105, -58.5781853364747 4.54937478207362, -58.5787439453084 4.54990144933537, -58.579089585426 4.54997948087553, -58.5793414864474 4.5502783299141, -58.5795460394525 4.55046697769673, -58.5796886393931 4.55104971121988, -58.5797676705325 4.55128590844157, -58.5799090671761 4.55131711297352, -58.57995908601 4.55127128097642, -58.5799618709992 4.5512768410245, -58.5801284630468 4.55111177630887, -58.5806617829219 4.55084271708297, -58.5812821547418 4.55093402784216, -58.5817467393943 4.55150216741098, -58.5819208852249 4.5521478632144, -58.5818909265482 4.5528097658579, -58.5818442988015 4.55303048098346, -58.5818449537583 4.55332988106397, -58.5819852296243 4.55354251262709, -58.5819718532134 4.55391264870436, -58.5817847253674 4.55451186530534, -58.5810806675699 4.55569526635232, -58.5807991134964 4.55620014296394, -58.5803309798833 4.55755636389159, -58.5798622600901 4.55864469967202, -58.5792290509197 4.55991461476821, -58.5790273537812 4.56103387770073, -58.5788254844709 4.56207435297784, -58.5781360192427 4.56275346615, -58.5777525781839 4.56334523670174, -58.5773781421353 4.56446488104231, -58.5769238805642 4.56498589683299, -58.5763596942148 4.56550715329675, -58.5759215469539 4.56621722875648, -58.5752088471554 4.56704609495973, -58.5744261159746 4.56816663784132, -58.5740350069256 4.56884509390408, -58.5738636105015 4.56946003528427, -58.5739360134247 4.5702556588949, -58.5741889220266 4.57101149021431, -58.574284211241 4.57149978044243, -58.5747092401928 4.57197158756468, -58.575181620882 4.57255359528689, -58.575392255655 4.57260083547941, -58.5754696005045 4.57266706600045, -58.5762828629778 4.57280123804606, -58.5769945036884 4.57293563471471, -58.5776042269615 4.57293428964222, -58.5782594867827 4.57253105506822, -58.5788903771574 4.57245557946345, -58.5793110708724 4.57227660588223, -58.5806456993159 4.57219486933595, -58.5815715502371 4.57189342089178, -58.5823248351433 4.57167114443826, -58.5831879038596 4.57138559103445, -58.5840980131535 4.57106841778899, -58.5849299508254 4.57090899607713, -58.5858650824557 4.57097854731093, -58.5867204238506 4.57103109268147, -58.5872082023902 4.57147123478754, -58.5876276902646 4.57151849394078, -58.5880411457236 4.57176878790659, -58.5882459858222 4.572083492016, -58.5887959190321 4.57222409330631, -58.589221164404 4.5727904353543, -58.590149165246 4.57346596567615, -58.5910201185674 4.57382233298731, -58.5916302146147 4.57399092950848, -58.5920659647451 4.57390292353624, -58.5922230697472 4.57393408986583, -58.5924593530249 4.57426448074555, -58.5927826593153 4.57432827236027, -58.5930873526654 4.57420005080618, -58.5934646203977 4.57437254766561, -58.5938669057249 4.57446181952387, -58.5943074847363 4.57456280997878, -58.5949172794742 4.57459544129271, -58.5957135273675 4.57469563718521, -58.5966622063102 4.57479549114696, -58.5972723020098 4.5749640830075, -58.5977059883729 4.57500915765562, -58.5983345466819 4.57519684815482, -58.598994826712 4.57552628762285, -58.5992383096276 4.57557152032975, -58.5994755732597 4.57563897069302, -58.6000514187777 4.57563768323268, -58.6006443904819 4.57583775418315, -58.6018392195352 4.5764496340581, -58.6027825155536 4.5769360133226, -58.603254075334 4.57713980801025, -58.6036117437555 4.57726125421833, -58.6040185253054 4.57739630409739, -58.6044162712751 4.57720023150465, -58.6047775567128 4.57724669440832, -58.6053224950269 4.5773253954503, -58.6058935215624 4.57770116457185, -58.6061609722282 4.57792117382437, -58.606645144315 4.57803622449344, -58.6071533197527 4.57806907242797, -58.6076224489829 4.57839062135053, -58.6081098204684 4.57864164975744, -58.6084402626011 4.57894030402532, -58.6088496804076 4.57944363209894, -58.609155034001 4.57949216877097, -58.6096295645823 4.57962706033573, -58.6103751566047 4.57979533249148, -58.6113014314943 4.58033629998636, -58.6121030864358 4.58068116257589, -58.6126063035699 4.58099518198041, -58.6128738991494 4.58127821722693, -58.6131902974335 4.58142052083012, -58.6139358909908 4.5815887883102, -58.6148507000212 4.58168869143092, -58.6155626492095 4.58195900367825, -58.6159644803714 4.58204294247174, -58.616205265503 4.58226342348695, -58.6165988443452 4.58270374863656, -58.616883172914 4.58344371869579, -58.6173235449049 4.58374211880921, -58.6177017058813 4.58430853922929, -58.6179151756992 4.58496200101998, -58.6181669989241 4.58521355427108, -58.6184347754709 4.58557537408024, -58.6184671411724 4.58600075903167, -58.618453248423 4.58680443410773, -58.618894795535 4.58762283388463, -58.6189507703745 4.58807180207112, -58.6188104337998 4.58851333633524, -58.6185285151392 4.58884488806455, -58.6185451057887 4.58923879423825, -58.618765489405 4.58947465848828, -58.6186878250634 4.5898530208113, -58.6184374898619 4.59026329032933, -58.618281769398 4.59084667876861, -58.6183298040082 4.59125627037801, -58.6185972642449 4.59147627085834, -58.6187032859487 4.59142277602604, -58.6188189983685 4.59146891552628, -58.6189882907142 4.59143454072286, -58.6192085681236 4.59097063563742, -58.6193805620976 4.59063933307297, -58.6196469898276 4.59040236211476, -58.6199346819565 4.59051465213349, -58.6202395437414 4.5905139587386, -58.6207478788412 4.59061477415865, -58.6213244218374 4.59091937482698, -58.6216298217888 4.59115661246303, -58.6219011178516 4.5912919553276, -58.6219244107749 4.59130746105355, -58.6220049908306 4.5914842798419, -58.6220847552818 4.59203561801417, -58.6225732077743 4.59275935928862, -58.623265951663 4.59354566520824, -58.6236904858955 4.59378106280617, -58.6239893546614 4.5940009887786, -58.6243045349557 4.5944887580529, -58.6245732108958 4.59524451369093, -58.6252192427073 4.59620425644489, -58.6258266055977 4.59742408834512, -58.6262375134817 4.59857345798621, -58.6266725338805 4.59996701523706, -58.6267860763888 4.60155827902034, -58.6267098837395 4.60258270068043, -58.6262795140507 4.6032376279514, -58.6257779932181 4.60367999049567, -58.6249937657158 4.60410724043132, -58.623989504175 4.60445620513278, -58.6235354850472 4.60507179146166, -58.6233319781426 4.60535589540199, -58.6229012108572 4.60583748822362, -58.6223053542508 4.6062327912054, -58.6218832771925 4.60708467005144, -58.6214300423512 4.60804692453596, -58.6208115743784 4.60885985707395, -58.6202557426965 4.60959385928275, -58.6196444981689 4.61013101567514, -58.6191899380945 4.61051023795148, -58.6188208389389 4.61048744336277, -58.6186010527749 4.61051946057814, -58.6184600012498 4.61064584342566, -58.6180046190002 4.61066263970859, -58.6178660539601 4.61074649234384, -58.617628006002 4.61078956002935, -58.6173590745097 4.60992349835842, -58.6167447979069 4.60912125403307, -58.6164447464189 4.60838132460808, -58.6162385629319 4.60748360352329, -58.6159785023142 4.60734454246416, -58.6152247045027 4.60739075573028, -58.6146674479199 4.60717202197747, -58.6141948322752 4.60651127104627, -58.6139898270908 4.6061335515966, -58.6138023875722 4.60597003277897, -58.6134243050723 4.60605604686575, -58.6130479411499 4.60629326855328, -58.6122068008972 4.60637414453764, -58.6114084544943 4.60633145795044, -58.610880642294 4.60623515533288, -58.6107069039245 4.60579433160176, -58.6104236991884 4.6055586071882, -58.6102039849697 4.60562213581644, -58.6099880485981 4.60575619443828, -58.6094975868375 4.60574979920352, -58.6083216610254 4.60658762505894, -58.607662833796 4.60692003025329, -58.6069313030068 4.60718707699844, -58.60613305561 4.60718888331336, -58.6057338314887 4.60714528750085, -58.6053232067454 4.60705138546592, -58.6050862668528 4.60643736554376, -58.6050537270362 4.60593318926101, -58.6049743230343 4.60553942319751, -58.6047539347721 4.60530355401831, -58.6042659821514 4.60519065389648, -58.6037341156017 4.60532535143723, -58.6035121814731 4.60523685420673, -58.6032458851252 4.60510210686268, -58.6029773970193 4.6044251253176, -58.6025678921644 4.60389028323471, -58.6021746203363 4.60359177022473, -58.6019557485068 4.6033269127171, -58.6016009722662 4.60332771168038, -58.6012160375619 4.60331028935693, -58.6010740316125 4.60301121066799, -58.6009633986133 4.60269630258676, -58.6005547404074 4.60253964405559, -58.60036467203 4.6018152113052, -58.6001277373085 4.60120118755441, -58.6001741098088 4.60087016823111, -58.6004400563265 4.60041259266014, -58.6007062850241 4.60008107806403, -58.6006893488898 4.59952959179954, -58.6005156541762 4.59910452046528, -58.6003421356245 4.59875823860022, -58.6002936868042 4.59815954867016, -58.599947285526 4.59775062289361, -58.5997425699681 4.59749895767266, -58.5991926183876 4.597236774448, -58.5981709812426 4.59696672083131, -58.597338181373 4.59674798018783, -58.5967519624003 4.5965302700588, -58.5962849982128 4.59629336368552, -58.5957969847375 4.59575869014822, -58.5954043158182 4.59572805388903, -58.5949965048945 4.59594957793118, -58.5946831965184 4.59629695406461, -58.5943693282983 4.59639220471373, -58.5940862706495 4.59621950170121, -58.5938023387477 4.59565285290705, -58.5933456990431 4.59510234793383, -58.5931403914363 4.5945827963193, -58.5929352259515 4.59412627571483, -58.5924789727119 4.59374910629424, -58.5918655754202 4.593325012823, -58.5913623508432 4.59301097964789, -58.5910160265074 4.59263356244963, -58.5907167778596 4.59224028203117, -58.5904804166019 4.59187837778762, -58.5901035231819 4.59187921839189, -58.5897117296999 4.59224252551494, -58.5890374743715 4.59270101053312, -58.58866113825 4.59295397670058, -58.5882850468142 4.59331724758279, -58.5878759006753 4.59352417768142, -58.5868412253243 4.59374593075652, -58.586103705512 4.59428461336494, -58.5852733380437 4.59488399633041, -58.5842401823883 4.59638330377312, -58.583864748817 4.59704597401374, -58.5835521299318 4.59770850551037, -58.5829566637376 4.59829287528554, -58.5822673886245 4.59906655062316, -58.5819697071859 4.59938237308019, -58.5817189286663 4.59960354173023, -58.5812634748077 4.59958879655598, -58.580949739604 4.59974707394094, -58.5806609196104 4.59968113942168, -58.5803053142279 4.59949637744151, -58.5799606577043 4.59987533558152, -58.5793804038376 4.60023905763697, -58.5791140930399 4.60053905280225, -58.5787547385717 4.60137502473017, -58.5785040276227 4.60162770952898, -58.578226037116 4.6016000224097, -58.5779541724224 4.60153438215033, -58.5773596010102 4.60252845736458, -58.5772191997363 4.60295423528324, -58.5771894926647 4.60372644444779, -58.5769862761912 4.60415236263687, -58.5766104850833 4.60465745346849, -58.5764538937468 4.60486265458204, -58.5763284670573 4.60495748153476, -58.5760311275099 4.60543088240727, -58.5759068115191 4.60569911720241, -58.5756852686243 4.60578860728791, -58.575136329856 4.60559044728653, -58.5747971392167 4.60525658276539, -58.5743812397622 4.60500907261172, -58.5743643915648 4.60448909467728, -58.5747244115215 4.60395252342709, -58.5749909672016 4.60376283617839, -58.5748490742069 4.60351102137639, -58.5743054957307 4.60352219143429, -58.5735960312213 4.60356826281923, -58.5730636633706 4.60348044225456, -58.5728416317618 4.60334743457913, -58.5726184098728 4.6032165573358, -58.5731991555201 4.60307345001906, -58.5730258903113 4.60283746289347, -58.5727515673113 4.60272464063472, -58.5719883700283 4.60236701558139, -58.5714222901788 4.60203734749954, -58.5708868194202 4.60174977221083, -58.5705734657171 4.60167678778486, -58.570322680845 4.60189795479679, -58.5700717931031 4.60207184786826, -58.5697297757335 4.60205768283067, -58.5696948215437 4.60204116358511, -58.5695384706114 4.60235667127896, -58.5695077871994 4.6026876579705, -58.5691317827414 4.60309819857198, -58.5686612751936 4.60338288221929, -58.5679084696426 4.60384152853053, -58.5675166562593 4.60420482854871, -58.5672659048517 4.60444175398352, -58.5671411326873 4.60483598148443, -58.5673933350042 4.60526089326541, -58.5673944046083 4.60574939264215, -58.5673639630173 4.60619068730861, -58.5672309762072 4.60641947289406, -58.566995894445 4.60664060499477, -58.5668234574785 4.60678280863704, -58.5668553492234 4.60700335124965, -58.5670754863775 4.60712893040368, -58.5670827001867 4.60712867303929, -58.5670847170512 4.60714262160014, -58.5673900577921 4.60734884956188, -58.56737490706 4.60760101286538, -58.5671238087342 4.60768035787776, -58.5664955291479 4.60763446896498, -58.5658357363326 4.60754137559359, -58.5654903079114 4.60757365370223, -58.5652714117442 4.6080153629561, -58.5653511073822 4.60855096379275, -58.5655878129831 4.60907045958629, -58.565572936809 4.60944868705613, -58.5652759326587 4.61007966644651, -58.5649641208733 4.61112038944643, -58.5648550523167 4.61151458359407, -58.5647773935828 4.61190870762959, -58.5647310385407 4.61225548935053, -58.5648535972468 4.61245879187158, -58.5648830854667 4.61253229923074, -58.5648573998906 4.61258613046508, -58.5647793953278 4.61282267450482, -58.5640883950665 4.61282419836442, -58.5637432405358 4.61298254059659, -58.5626139602299 4.61364687119456, -58.5623631363481 4.61385227957351, -58.5621125172184 4.6141522360489, -58.5621291878372 4.61459342699399, -58.5621145509912 4.61508196205626, -58.5621152755547 4.6154128805096, -58.5620844522353 4.61568083694473, -58.5620542855664 4.61624819579402, -58.5618822237455 4.61656373848167, -58.5613018416401 4.61688017930219, -58.560438464634 4.61705542140778, -58.5601404548647 4.61722941720289, -58.559307934483 4.61715245858837, -58.5585854166366 4.61710677343132, -58.5580046879499 4.61726563258046, -58.557503100489 4.61770796387623, -58.5568061839478 4.61859983216688, -58.5563825346497 4.61877410278725, -58.5558802923775 4.61891702943948, -58.5550494529142 4.61961221462853, -58.5547434674564 4.61973107246212, -58.5545233951962 4.61963700535641, -58.5542243518266 4.61933825622735, -58.553988471609 4.61919694998669, -58.5535328272676 4.6191034006779, -58.5528419543558 4.61916794890913, -58.5523712577728 4.61937383696722, -58.5520890178596 4.61957931124804, -58.5516581815112 4.62006088109377, -58.5510933921954 4.62033000732627, -58.5507331408399 4.62077202746991, -58.5506886320144 4.62196975016114, -58.5508478055078 4.62294641058878, -58.5508340907083 4.62386041765435, -58.5507248074764 4.62416006236834, -58.5503484390278 4.62441301921779, -58.5500124463176 4.62517802897835, -58.5495264515574 4.62557304935568, -58.5488673925688 4.62582662366894, -58.5483174110772 4.62568600403691, -58.547845543137 4.62535611381278, -58.5474215091582 4.6253570408266, -58.5471075818852 4.62543651889177, -58.5468804930584 4.62572854332476, -58.5467877009042 4.62639059259004, -58.54664680061 4.62659575720838, -58.5460820720994 4.62689639895156, -58.5450466021738 4.62738716789941, -58.5446938378823 4.62766370920169, -58.5440824700976 4.6281850668816, -58.543455874892 4.62892707367474, -58.5430637268505 4.62914854628123, -58.5424819567418 4.62883465042205, -58.5416887654219 4.6287969843923, -58.5411702592607 4.62868780740026, -58.5409349560379 4.62881438688685, -58.5403390165485 4.62920964292041, -58.5394759185065 4.62952668892653, -58.5386521333898 4.62986728645332, -58.5376478230567 4.63024767104969, -58.5374429409366 4.62991719275232, -58.5373013565411 4.62980719260319, -58.5368144303196 4.62977673428407, -58.5365623650065 4.62941484060622, -58.5363343189993 4.62926563275114, -58.535941758531 4.62929800276898, -58.5357058759536 4.62915669036287, -58.5355165637631 4.62876314323492, -58.5353115820848 4.62838538827865, -58.5351698615127 4.62821235461834, -58.5351465147655 4.62820893528849, -58.5350593152452 4.62792894522376, -58.5352000490846 4.62764498882177, -58.5345706561232 4.62709481285067, -58.5344293102434 4.62709512025283, -58.5343198504465 4.62731597466438, -58.5338643355261 4.62728544559564, -58.5333617379336 4.62727077745416, -58.5330155475667 4.62695636137757, -58.5327063964669 4.62659179182272, -58.5325012775056 4.62611437436698, -58.532321776744 4.6256814387701, -58.5324778783775 4.62523986629265, -58.5323201158697 4.62490928320168, -58.5320376626451 4.62502020358025, -58.5317714218416 4.62536746355772, -58.5315830969188 4.62543090429853, -58.5313784222876 4.62519497228475, -58.5311719002802 4.6248201972925, -58.5308978724223 4.62393333079369, -58.5307262576039 4.6232169082226, -58.5304519385546 4.62219350906803, -58.5303137539488 4.62120394936827, -58.5302101711621 4.62048737839087, -58.5300950461426 4.61995021133737, -58.5298586254829 4.61955676245836, -58.5299179694371 4.61905442058039, -58.5297800801553 4.61820139145345, -58.5295750402707 4.61775810439253, -58.5292257655592 4.61738347284952, -58.5287545509365 4.61735297307306, -58.5281423966093 4.61751187686221, -58.5275301078903 4.61760774799958, -58.5269182906738 4.61792423462853, -58.5260554964421 4.61838308640904, -58.5253806549298 4.61860515760155, -58.5249879302409 4.61855872737473, -58.524406106066 4.61821329443418, -58.5239972042465 4.61794628106829, -58.5237926707032 4.61783883024801, -58.5237919422081 4.61749749945298, -58.5238935485297 4.61729248278515, -58.5238219254939 4.61676477757965, -58.5235075921501 4.61665514330243, -58.5231613095125 4.61629344513462, -58.522909761475 4.61616791727773, -58.5226429122171 4.61623152370357, -58.5226335438701 4.61661252600876, -58.5227362431806 4.61691950408267, -58.5224719738989 4.61708284633067, -58.5220484445371 4.61732013312088, -58.5219545844823 4.61749367778593, -58.5221905620134 4.61768227196081, -58.5221942639505 4.61797879757849, -58.5222236537287 4.61847012132244, -58.5222640417025 4.618797845278, -58.522299294771 4.61937803370288, -58.5225386384314 4.61995778369548, -58.5227461238455 4.62043880205294, -58.5229982790976 4.62084797906064, -58.5230860133737 4.62142433295261, -58.523155136857 4.62193618299391, -58.5232151571378 4.6225545267661, -58.5230182266524 4.62283349691513, -58.5224855337404 4.62343346350348, -58.5224402032718 4.62426875812004, -58.5220330824886 4.62483693714105, -58.5215462905661 4.62486950114706, -58.5211532246815 4.6246654866361, -58.5207607313497 4.62472936426964, -58.520463039889 4.62506093092353, -58.5199134950512 4.62512514545573, -58.5195058339804 4.62544119048602, -58.5192087462248 4.62605640785704, -58.518747208085 4.6268847171922, -58.518466632923 4.62787810292355, -58.5181850479241 4.62839873668709, -58.5181863588118 4.62901331295583, -58.5177478890814 4.62961307556451, -58.5172147833912 4.6300239410226, -58.5168540659582 4.63026109205143, -58.5165644090481 4.63067931292675, -58.5167220323606 4.63094686897401, -58.5167266755829 4.63094719995667, -58.5167535445111 4.63099407665065, -58.5169893925511 4.63111963716354, -58.5172099388871 4.6314343332641, -58.5171170180904 4.63204911290275, -58.5169459734521 4.6328531613079, -58.5170393396786 4.6331791615925, -58.5169478230019 4.63371987325484, -58.5166508668557 4.63439812468198, -58.516719468135 4.63471584538931, -58.5167883732918 4.63512529706763, -58.5168101063241 4.63542208300633, -58.5165907689146 4.63567468962266, -58.5163241131749 4.63583284725179, -58.5162777703119 4.63619539142945, -58.5166401718424 4.63674615902086, -58.5166413829155 4.63731346144047, -58.5160303175966 4.63799238872493, -58.5159682689128 4.63835496668425, -58.5159795683146 4.63867689544317, -58.5160483294662 4.63901808115886, -58.5159864977438 4.63953681223975, -58.5158819522796 4.6398272170322, -58.5155322489687 4.64010509397358, -58.5150617231686 4.64040551543124, -58.5148269141769 4.64076846533337, -58.513964924161 4.64162127387882, -58.5133850963303 4.64222134066246, -58.5132209443956 4.64257626010601, -58.5132582854332 4.6429430085482, -58.5131829268844 4.64322263235564, -58.5131829856927 4.64325064925245, -58.5129714352729 4.64341199484512, -58.5127048430901 4.64360166904173, -58.5122809255149 4.64366561299868, -58.5121231649258 4.64333502381112, -58.5118089192733 4.64327266373394, -58.5113854712735 4.64355722542256, -58.5111658614676 4.6436837637478, -58.510867453976 4.64368440408309, -58.5107415745419 4.64357436454416, -58.5104594439405 4.64384286371561, -58.5101453981796 4.64387505329422, -58.5096585576805 4.64389185514867, -58.509383322773 4.64371122148552, -58.5091320666759 4.64372751863435, -58.508834262648 4.64401180939231, -58.5083014437851 4.64456449795004, -58.5077838606105 4.64489653501441, -58.5071243558163 4.64496098100068, -58.5062678451813 4.64470279688935, -58.5057496912556 4.64476693865044, -58.505107430068 4.64555623794866, -58.5043542917825 4.64590453468096, -58.5035617378198 4.64618200207776, -58.5026828509754 4.64648329019555, -58.5015991545449 4.64648560189434, -58.5009005656009 4.64663679655291, -58.5004458322814 4.64698445538136, -58.5002137851289 4.64760332165138, -58.5001572272679 4.64790694651893, -58.4998285064389 4.64842767998696, -58.4990941946106 4.64847517476815, -58.4986515366554 4.64888718545913, -58.4985858933483 4.64939786316809, -58.4984349832987 4.6504221896334, -58.4984363138549 4.65105121195903, -58.497756167646 4.65204835642014, -58.4970037195896 4.65287153454106, -58.4964884837927 4.65378068966658, -58.4961228496768 4.65410577434845, -58.4957361696085 4.65466872915565, -58.4947464117549 4.65536268882833, -58.4941656584587 4.65586119372568, -58.4935199851189 4.6562301148936, -58.4931547139319 4.65672816085156, -58.4929408278185 4.65748533270147, -58.4929907120622 4.65752005935014, -58.4929565240241 4.65767016451956, -58.4929895623115 4.6582449059961, -58.4928139552171 4.65863148770204, -58.4920823593109 4.65913031339987, -58.4914358624241 4.65911006576934, -58.4907458111467 4.65887370554864, -58.4900131648637 4.65887525994432, -58.4895828342756 4.65917885940669, -58.4885493734263 4.65959184098953, -58.4880756716824 4.65976580914035, -58.4871049441075 4.65927059233312, -58.4861782699948 4.65922931277798, -58.4856830637856 4.65942494565495, -58.4852533656878 4.66003122975584, -58.484877152844 4.66045362565097, -58.4836924375218 4.66067233601972, -58.4830670753752 4.66045745120039, -58.4821188029759 4.66039459150257, -58.4814612325537 4.66023382449539, -58.4812879836068 4.65982339997951, -58.4811580583817 4.65952098533915, -58.4805969816914 4.65913299762308, -58.4794333609276 4.6591354497239, -58.4789802544158 4.65885533626293, -58.4785493739366 4.65889948442044, -58.4780763454593 4.65939775388595, -58.4777638695953 4.65938760102179, -58.4773324458892 4.65917230326543, -58.476987804391 4.65923788921784, -58.4768373706712 4.65943279110972, -58.4768866185487 4.65962869415876, -58.4770108429082 4.65995132221397, -58.4771193539777 4.66031864387952, -58.4767962610066 4.66038418552384, -58.4764799568376 4.66002608908299, -58.4764067148814 4.65958504096135, -58.4761905077261 4.65923956517712, -58.4755435989785 4.65902471868121, -58.474896555268 4.65874500916235, -58.4744876733949 4.65900531557213, -58.4744841323418 4.65908807772886, -58.4742076776348 4.65907076550196, -58.4738631254789 4.65917959155182, -58.4734746654726 4.65889933829027, -58.4731735255456 4.6591594173388, -58.4727204193175 4.65887929905888, -58.4722895372208 4.65892344350614, -58.471730579041 4.65955161454638, -58.4710844351409 4.65970431365084, -58.4710635612401 4.66002866719649, -58.4704176421973 4.66028946810783, -58.4697356682237 4.66022676016731, -58.4697056367274 4.65985854489985, -58.4695545716915 4.65975075806684, -58.4691025000827 4.65996791062185, -58.4688006833989 4.65990368058046, -58.4685699985051 4.65963306870094, -58.4685352018453 4.65925766791838, -58.4684106966833 4.6588883221295, -58.4677916408523 4.65890341863833, -58.4694819344154 4.64831274697779, -58.4719547330291 4.6326904917389, -58.4720677021214 4.63269025737688, -58.4728264001796 4.6326886750562, -58.4730783359488 4.63222293319372, -58.4730773731189 4.63175771743743, -58.4732450957954 4.63133444239843, -58.4737076931617 4.63082596849888, -58.4737903282664 4.6300222393615, -58.4737477396547 4.62981086628287, -58.4730721194405 4.62922017939373, -58.4729020325123 4.62850156253567, -58.4726055846194 4.62782549891102, -58.4722251880775 4.6273187812023, -58.4719716786829 4.62702326212566, -58.4718022063523 4.62660068964507, -58.4717423506587 4.6265738130748, -58.4717404752439 4.62566611585247, -58.4715892736347 4.62554381944378, -58.4707434890532 4.62419221801234, -58.4705729710154 4.62326213629526, -58.4702759185054 4.622290024749, -58.4705688700647 4.62127439625259, -58.4710738750007 4.6208927141385, -58.4718732272991 4.62017207998942, -58.4726302521422 4.61936694984554, -58.4727114071852 4.61784425058271, -58.4732577726225 4.61708185043464, -58.4740249825925 4.61615416444076, -58.4741202507406 4.61581694568775, -58.4740135704185 4.61568462667725, -58.4737581458344 4.61445867629364, -58.4735880665147 4.61374005659705, -58.4738035551227 4.61272072103414, -58.473836770556 4.61170950088936, -58.473455514047 4.61077985813077, -58.47286430014 4.61023128295056, -58.4728806847038 4.61017102117171, -58.4727376792206 4.61014696107022, -58.4721051027292 4.6099791035173, -58.4717241978782 4.6092186270291, -58.4715959233263 4.60833075011513, -58.471595053434 4.60790782670872, -58.4710458184279 4.60727457640751, -58.4710872698725 4.60693614981179, -58.4718450711191 4.60651165483288, -58.472221882413 4.60528439047184, -58.4720104454059 4.60494648848525, -58.473105603041 4.60460587902147, -58.4741591348377 4.60451910952781, -58.4744175490542 4.60451857287307, -58.4748869258201 4.60395006803338, -58.4750179242625 4.60350860156171, -58.4761156902099 4.6028004101221, -58.4765766821248 4.60246855730224, -58.4770356234928 4.60114401954702, -58.477540353555 4.60070177652796, -58.4774954798532 4.60015321943326, -58.4774292482486 4.6001284540687, -58.4767027644837 4.59964464904497, -58.476679915767 4.59922556142717, -58.4768763199008 4.59851924284132, -58.4771603421187 4.59765832339002, -58.4773131398429 4.59712857224003, -58.4773126854458 4.59690797552112, -58.4773605445221 4.59689289891584, -58.4774229736105 4.59651218256354, -58.4773309286474 4.59628266061306, -58.4777195844831 4.59602916878364, -58.4778794066832 4.59582209555596, -58.4778329114645 4.59547762189383, -58.4771444751698 4.59467505441996, -58.4768442203918 4.59338928278612, -58.4767280086759 4.59253958515394, -58.4770474637644 4.59203355355858, -58.4778259528786 4.59210085197286, -58.4790159387258 4.5918916420442, -58.4805031475259 4.59149804200448, -58.4813040055335 4.59131260762573, -58.4831126068463 4.59135478703678, -58.4843957259953 4.59190342668941, -58.485083165694 4.59222359144968, -58.486136076898 4.59215248182139, -58.4871420120622 4.59150718901698, -58.4881022078555 4.59088496179899, -58.4893142659307 4.59028517897181, -58.489976476331 4.58947980365066, -58.4902498965408 4.58885900989686, -58.4904084744819 4.58805468644315, -58.4907156833117 4.58716965334154, -58.4911009903042 4.58530818111369, -58.4916483523004 4.58431927653112, -58.4926986247246 4.58298475249112, -58.4926049575058 4.58197421713999, -58.4925927724577 4.58161818916771, -58.4933915623044 4.58044498936676, -58.4941886833388 4.57950186140689, -58.4941814956833 4.57945913510539, -58.4942593587421 4.57943244455967, -58.4945096919148 4.57871981504511, -58.4943940869692 4.57816874869805, -58.4941414174018 4.57775579606445, -58.4941354102991 4.57486144272323, -58.4938130663851 4.57396624054468, -58.4932163080629 4.57320943785249, -58.4920473041448 4.5724767978353, -58.4909935686575 4.57213442629178, -58.4906748749792 4.57207589156743, -58.4906397765173 4.57204081812289, -58.4895048425688 4.57176998763522, -58.4876276684898 4.57175092113896, -58.4865511843588 4.57147750234003, -58.4853368764193 4.57097465621183, -58.4845119671964 4.57058585675326, -58.4840301044276 4.57003554453662, -58.4839372605785 4.56941551301765, -58.4837753638501 4.56861185415994, -58.4829503636029 4.56817710888634, -58.4819875418646 4.56751293385376, -58.4813441675436 4.56634272865513, -58.4811810485991 4.56494181692294, -58.4814543807902 4.56427508381604, -58.4825291077364 4.56369857944131, -58.482928790638 4.56324981307446, -58.4830881823869 4.56283600083333, -58.4831559142563 4.56237643412171, -58.4827659079176 4.56196375812112, -58.4819869834479 4.56166674027817, -58.4815972614931 4.5613918900981, -58.4814352297755 4.56051931524064, -58.4814790822032 4.55957740129215, -58.4822104318556 4.55900160877953, -58.4829425338362 4.55879335505871, -58.4835606028155 4.558792077658, -58.4843162552445 4.55890537156168, -58.4845226565891 4.55908871516356, -58.4857132470301 4.55920110728266, -58.4858269955208 4.55885630273644, -58.4858482807133 4.55807523613572, -58.4865101477235 4.55710907337478, -58.4870008232228 4.55638446243421, -58.4871822056777 4.55553415092246, -58.4874330180742 4.55505123583358, -58.4876616951575 4.5549359065481, -58.4880050166415 4.55491222306485, -58.4884632669207 4.55511801519776, -58.4899536122913 4.55628645724731, -58.4906185017636 4.55679044370499, -58.4914885126404 4.55685755024536, -58.4920371457032 4.55648887189584, -58.4922877649541 4.55591407076932, -58.492538146183 4.55522441531303, -58.4934977281097 4.55432654361452, -58.4934962582497 4.55361444050095, -58.4935412342761 4.55322383709697, -58.4939298614328 4.55297034651306, -58.4943422215053 4.55287288869861, -58.4944545487969 4.55294429208258, -58.4950815412663 4.55289803895618, -58.4960660303329 4.55244650717032, -58.4966918125582 4.55181592731594, -58.4965102301953 4.55064764898848, -58.4968218199115 4.54970308457492, -58.4966399596861 4.5483999618861, -58.4964721408971 4.54834091736965, -58.4965148066103 4.54822601830905, -58.496460236492 4.54813064592129, -58.4960106518429 4.5473225104377, -58.4955628307054 4.54736838970874, -58.4949827692311 4.54844835638525, -58.4949416880268 4.55024637617073, -58.4946734028351 4.55047167627411, -58.4943157192707 4.5507870580428, -58.4934194232525 4.55056417811946, -58.4927042385684 4.55128483913705, -58.4921677581025 4.55178038528491, -58.4923947751312 4.55326321253372, -58.4920385731028 4.55429776512985, -58.490739884768 4.5544353072498, -58.4895302245572 4.55430297046793, -58.4895733503059 4.55349380800963, -58.4907781952675 4.55128883595029, -58.4908646309094 4.54976040939034, -58.491356136582 4.54917505963483, -58.4920259730509 4.54818480489755, -58.4929203213182 4.5474637746835, -58.4929642790914 4.54705914843409, -58.4927840948168 4.54656508899283, -58.4927814101617 4.5452615912257, -58.4924650947709 4.54391379327802, -58.4925982662338 4.54332918818794, -58.4930443261947 4.5424292950557, -58.4927732675344 4.54130614615511, -58.4926370448628 4.54040745984692, -58.4924540914538 4.538564953543, -58.4921837754828 4.5378013892683, -58.4917360512848 4.53789221219804, -58.4909758048759 4.53847811528433, -58.4898102261092 4.53798609236482, -58.4889148678583 4.53821268415533, -58.4877954616651 4.53839478898139, -58.487077700496 4.53785688817867, -58.4867177158307 4.53704855650871, -58.4857297392256 4.53579203270423, -58.4844292432221 4.53503058405672, -58.4836212626768 4.53417822291063, -58.4837836099512 4.53374949594441, -58.4833124071295 4.53259383394502, -58.4829441891794 4.53162979542762, -58.4822800811196 4.5314933317661, -58.4819143466285 4.53174676681187, -58.4814350482789 4.53243689007904, -58.4808624551677 4.53227726556123, -58.4804276736247 4.53234707100234, -58.4797180168554 4.53232555579124, -58.4795110655201 4.53186655278081, -58.4796690103633 4.53074063360897, -58.4805145588881 4.53004976019186, -58.4806738099687 4.52956703611239, -58.4803985632753 4.52929194477162, -58.479573896341 4.52899500601047, -58.4790693702774 4.52853661326445, -58.4782453581756 4.52856127069629, -58.4776737939547 4.52890700993103, -58.4772856345667 4.5293902027495, -58.4767610630765 4.53033310178077, -58.4762799409939 4.53012734351286, -58.4764616664792 4.5294378313516, -58.4764421134075 4.52856363621881, -58.4768007204987 4.52812413307491, -58.4784538624612 4.52609805842071, -58.4788528690813 4.52407454965475, -58.4785374209648 4.52313127141167, -58.4782229765042 4.52268242727715, -58.4763863023012 4.52255133135429, -58.4754467090411 4.52304768517135, -58.4738369849095 4.52439943197438, -58.4721821921528 4.52561642154129, -58.4719609670003 4.52696533819702, -58.4725450631822 4.527863124987, -58.4737101669225 4.52813044283658, -58.4742036841832 4.52853397542479, -58.473981734781 4.52952330195949, -58.4734332207429 4.52997990546131, -58.4729532763207 4.53037942849056, -58.4724605772171 4.53038043348423, -58.4718317780189 4.52952768682679, -58.4710984932889 4.52900431831864, -58.4702914842613 4.52878345955846, -58.4690097744301 4.52944353351165, -58.4671297371524 4.53003169177989, -58.4648918203245 4.53084531665944, -58.4636997361189 4.53154914877105, -58.4613567613388 4.53256054416725, -58.4601926414633 4.53278764476668, -58.4588959510709 4.53391399452268, -58.4573333816601 4.53464428514118, -58.4566712472569 4.53480848283725, -58.4561517090824 4.53483038782418, -58.4555711575693 4.53551982218004, -58.4551903259271 4.53569647833382, -58.4543240365126 4.53545976783936, -58.4536815509377 4.53635788913317, -58.4527476374188 4.53702717806958, -58.4519921517041 4.53736524951296, -58.4515030148407 4.538218501618, -58.4511094649115 4.53888670040855, -58.4501120287357 4.53897213417686, -58.4495687620621 4.5391711331034, -58.4494684094327 4.53930713206078, -58.4490539497261 4.53991280342391, -58.4481605525497 4.54006059416902, -58.447309970262 4.54083399306796, -58.4465413968897 4.54104410176082, -58.4451089982168 4.54188123637471, -58.4444048507152 4.54313404026854, -58.4437398587988 4.54317708685984, -58.4432831180856 4.54342828057917, -58.4419944528224 4.54338914915085, -58.4413091743087 4.54368251233753, -58.4397504431143 4.54370648740491, -58.4388772414266 4.54356223674031, -58.437692822877 4.54368974239043, -58.4370504723134 4.5446712837423, -58.4366560779593 4.54492235080387, -58.4360322773604 4.54477759863375, -58.4356783774406 4.54448631201394, -58.4350132574903 4.54446678187687, -58.4343265704081 4.54405101817518, -58.4338483801465 4.54396854426037, -58.4334533663877 4.54390676072697, -58.4317927707772 4.54497375322358, -58.4310245960174 4.54539241322172, -58.4294869681081 4.5455831780286, -58.4287807309583 4.54579314813198, -58.4280758083124 4.54667052598282, -58.4274522928555 4.54667176407421, -58.4271398382179 4.54631781973134, -58.4268475084481 4.54563012964126, -58.426535463894 4.54548475116789, -58.4260785485593 4.54565250974495, -58.4254868871509 4.54599781721645, -58.4235539495014 4.54598078601661, -58.4228065091946 4.54637854176759, -58.4219569095327 4.54767333801555, -58.420814775286 4.54817615541879, -58.4202127777034 4.54855276529359, -58.419236095337 4.54863812064267, -58.4185501842617 4.54861861733535, -58.4175542680098 4.54949656398181, -58.4169523068792 4.54989402826132, -58.4162249882811 4.54995803185739, -58.4148734562071 4.54966869690837, -58.4137306200142 4.54981694305341, -58.4121942686582 4.55067508992645, -58.4110209630359 4.55118838605643, -58.4084646383809 4.55125596936705, -58.4066354725329 4.55117612351333, -58.4054520313675 4.55182500102991, -58.4041011000398 4.55184849769624, -58.4035602268741 4.5515992720864, -58.4029566364019 4.55116245548423, -58.4018758988861 4.55118542062506, -58.4013562947397 4.55118643299634, -58.4006492285336 4.55097924234795, -58.3997978022019 4.55135632467867, -58.3988638021022 4.5520255652338, -58.3984272124676 4.55196384376992, -58.398280312574 4.55123413686108, -58.3980199265127 4.55093221754801, -58.3974589606199 4.5509028831809, -58.3960687025549 4.55222914069978, -58.3955292775977 4.55273075444823, -58.3945317110704 4.5527744053821, -58.3937779607327 4.55337768417513, -58.3930602020357 4.55494638394064, -58.3923555417266 4.55599059922738, -58.3910635566992 4.55673052564364, -58.3910296127721 4.55674996560861, -58.3909903846691 4.55696338802404, -58.390243051837 4.55788740341096, -58.3900746400116 4.55884446598439, -58.3902126171567 4.55976676509923))</td>\n",
       "      <td>Large Concessions</td>\n",
       "    </tr>\n",
       "  </tbody>\n",
       "</table>\n",
       "</div>"
      ],
      "text/plain": [
       "    Unnamed: 0  FID                            OWNER  FOLIO_NO  \\\n",
       "19          19   16  Variety Woods & Greenheart Ltd…  LC 01/07   \n",
       "22          22   19  Variety Woods & Greenheart Ltd.  LC 02/17   \n",
       "\n",
       "                                                       SHORT_DESC  \\\n",
       "19  RB Dem Riv; RB Mauri Riv; Western side Rupununi/Tacama Trail;   \n",
       "22                     LB&RB Bce River,RB Ess River,LB Maam River   \n",
       "\n",
       "      Shape_Area   Shape_Length  \\\n",
       "19  2.157046e+08  101097.456813   \n",
       "22  1.345659e+09  264488.110519   \n",
       "\n",
       "                                                                                                                                                                                                                                                                                                                                                                                                                                                                                                                                                                                                                                                                                                                                                                                                                                                                                                                                                                                                                                                                                                                                                                                                                                                                                                                                                                                                                                                                                                                                                                                                                                                                                                                                                                                                                                                                                                                                                                                                                                                                                                                                                                                                                                                                                                                                                                                                                                                                                                                                                                                                                                                                                                                                                                                                                                                                                                                                                                                                                                                                                                                                                                                                                                                                                                                                                                                                                                                                                                                                                                                                                                                                                                                                                                                                                                                                                                                                                                                                                                                                                                                                                                                                                                                                                                                                                                                                                                                                                                                                                                                                                                                                                                                                                                                                                                                                                                                                                                                                                                                                                                                                                                                                                                                                                                                                                                                                                                                                                                                                                                                                                                                                                                                                                                                                                                                                                                                                                                                                                                                                                                                                                                                                                                                                                                                                                                                                                                                                                                                                                                                                                                                                                                                                                                                                                                                                                                                                                                                                                                                                                                                                                                                                                                                                                                                                                                                                                                                                                                                                                                                                                                                                                                                                                                                                                                                                                                                                                                                                                                                                                                                                                                                                                                                                                                                                                                                                                                                                                                                                                                                                                                                                                                                                                                                                                                                                                                                                                                                                                                                                                                                                                                                                                                                                                                                                                                                                                                                                                                                                                                                                                                                                                                                                                                                                                                                                                                                                                                                                                                                                                                                                                                                                                                                                                                                                                                                                                                                                                                                                                                                                                                                                                                                                                                                                                                                                                                                                                                                                                                                                                                                                                                                                                                                                                                                                                                                                                                                                                                                                                                                                                                                                                                                                                                                                                                                                                                                                                                                                                                                                                                                                                                                                                                                                                                                                                                                                                                                                                                                                                                                                                                                                                                                                                                                                                                                                                                                                                                                                                                                                                                                                                                                                                                                                                                                                                                                                                                                                                                                                                                                                                                                                                                                                                                                                                                                                                                                                                                                                                                                                                                                                                                                                                                                                                                                                                                                                                                                                                                                                                                                                                                                                                                                                                                                                                                                                                                                                                                                                                                                                                                                                                                                                                                                                                                                                                                                                                                                                                                                                                                                                                                                                                                                                                                                                                                                                                                                                                                                                                                                                                                                                                                                                                                                                                                                                                                                                                                                                                                                                                                                                                                                                                                                                                                                                                                                                                                                                                                                                                                                                                                                                                                                                                                                                                                                                                                                                                                                                                                                                                                                                                                                                                                                                                                                                                                                                                                                                                                                                                                                                                                                                                                                                                                                                                                                                                                                                                                                                                                                                                                                                                                                                                                                                                                                                                                                                                                                                                                                                                                                                                                                                                                                                                                                                                                                                                                                                                                                                                                                                                                                                                                                                                                                                                                                                                                                                                                                                                                                                                                                                                                                                                                                                                                                                                                                                                                                                                                                                                                                                                                                                                                                                                                                                                                                                                                                                                                                                                                                                                                                                                                                                                                                                                                                                                                                                                                                                                                                                                                                                                                                                                                                                                                                                                                                                                                                                                                                                                                                                                                                                                                                                                                                                                                                                                                                                                                                                                                                                                                                                                                                                                                                                                                                                                                                                                                                                                                                                                                                                                                                                                                                                                                                                                                                                                                                                                                                                                                                                                                                                                                                                                                                                                                                                                                                                                                                                                                                                                                                                                                                                                                                                                                                                                                                                                                                                                                                                                                                                                                                                                                                                                                                                                                                                                                                                                                                                                                                                                                                                                                                                                                                                                                                                                                                                                                                                                                                                                                                                                                                                                                                                                                                                                                                                                                                                                                                                                                                                                                                                                                                                                                                                                                                                                                                                                                                                                                                                                                                                                                                                                                                                                                                                                                                                                                                                                                                                                                                                                                                                                                                                                                                                                                                                                                                                                                                                                                                                                                                                                                                                                                                                                                                                                                                                                                                                                                                                                                                                                                                                                                                                                                                                                                                                                                                                                                                                                                                                                                                                                                                                                                                                                                                                                                                                                                                                                                                                                                                                                                                                                                                                                                                                                                                                                                                                                                                                                                                                                                                                                                                                                                                                                                                                                                                                                                                                                                                                                                                                                                                                                                                                                                                                                                                                                                                                                                                                                                                                                                                                                                                                                                                                                                                                                                                                                                                                                                                                                                                                                                                                                                                                                                                                                                                                                                                                                                                                                                                                                                                                                                                                                                                                                                                                                                                                                                                                                                                                                                                                                                                                                                                                                                                                                                                                                                                                                                                                                                                                                                                                                                                                                                                                                                                                                                                                                                                                                                                                                                                                                                                                                                                                                                                                                                                                                                                                                                                                                                                                                                                                                                                                                                                                                                                                                                                                                                                                                                                                                                                                                                                                                                                                                                                                                                                                                                                                                                                                                                                                                                                                                                                                                                                                                                                                                                                                                                                                                                                                                                                                                                                                                                                                                                                                                                                                                                                                                                                                                                                                                                                                                                                                                                                                                                                                                                                                                                                                                                                                                                                                                                                                                                                                                                                                                                                                                                                                                                                                                                                                                                                                                                                                                                                                                                                                                                                                                                                                                                                                                                                                                                                                                                                                                                                                                                                                                                                                                                                                                                                                                                                                                                                                                                                                                                                                                                                                                                                                                                                                                                                                                                                                                                                                                                                                                                                                                                                                                                                                                                                                                                                                                                                                                                                                                                                                                                                                                                                                                                                                                                                                                                                                                                                                                                                                                                                                                                                                                                                                                                                                                                                                                                                                                                                                                                                                                                                                                                                                                                                                                                                                                                                                                                                                                                                                                                                                                                                                                                                                                                                                                                                                                                                                                                                                                                                                                                                                                                                                                                                                                                                                                                                                                                                                                                                                                                                                                                                                                                                                                                                                                                                                                                                                                                                                                                                                                                                                                                                                                                                                                                                                                                                                                                                                                                                                                                                                                                                                                                                                                                                                                                                                                                                                                                                                                                                                                                                                                                                                                                                                                                                                                                                                                                                                                                                                                                                                                                                                                                                                                                                                                                                                                                                                                                                                                                                                                                                                                                                                                                                                                                                                                                                                                                                                                                                                                                                                                                                                                                                                                                                                                                                                                                                                                                                                                                                                                                                                                                                                                                                                                                                                                                                                                                                                                                                                                                                                                                                                                                                                                                                                                                                                                                                                                                                                                                                                                                                                                                                                                                                                                                                                                                                                                                                                                                                                                                                                                                                                                                                                                                                                                                                                                                                                                                                                                                                                                                                                                                                                                                                                                                                                                                                                                                                                                                                                                                                                                                                                                                                                                                                                                                                                                                                                                                                                                                                                                                                                                                                                                                                                                                                                                                                                                                                                                                                                                                                                                                                                                                                                                                                                                                                                                                                                                                                                                                                                                                                                                                                                                                                                                                                                                                                                                                                                                                                                                                                                                                                                                                                                                                                                                                                                                                                                                                                                                                                                                                                                                                                                                                                                                                                                                                                                                                                                                                                                                                                                                                                                                                                                                                                                                                                                                                                                                                                                                                                                                                                                                                                                                                                                                                                                                                                                                                                                                                                                                                                                                                                                                                                                                                                                                                                                                                                                                                                                                                                                                                                                                                                                                                                                                                                                                                                                                                                                                                                                                                                                                                                                                                                                                                                                                                                                                                                                                                                                                                                                                                                                                                                                                                                                                                                                                                                                                                                                                                                                                                                                                                                                                                                                                                                                                                                                                                                                                                                                                                                                                                                                                                                                                                                                                                                                                                                                                                                                                                                                                                                                                                                                                                                                                                                                                                                                                                                                                                                                                                                                                                                                                                                                                                                                                                                                                                                                                                                                                                                                                                                                                                                                                                                                                                                                                                                                                                                                                                                                                                                                                                                                                                                                                                                                                                                                                                                                                                                                                                                                                                                                                                                                                                                                                                                                                                                                                                                                                                                                                                                                                                                                                                                                                                                                                                                                                                                                                                                                                                                                                                                                                                                                                                                                                                                                                                                                                                                                                                                                                                                                                                                                                                                                                                                                                                                                                                                                                                                                                                                                                                                                                                                                                                                                                                                                                                                                                                                                                                                                                                                                                                                                                                                                                                                                                                                                                                                                                                                                                                                                                                                                                                                                                                                                                                                                                                                                                                                                                                                                                                                                                                                                                                                                                                                                                                                                                                                                                                                                                                                                                                                                                                                                                                                                                                                                                                                                                                                                                                                                                                                                                                                                                                                                                                                                                                                                                                                                                                                                                                                                                                                                                                                                                                                                                                                                                                                                                                                                                                                                                                                                                                                                                                                                                                                                                                                                                                                                                                                                                                                                                                                                                                                                                                                                                                                                                                                                                                                                                                                                                                                                                                                                                                                                                                                                                                                                                                                                                                                                                                                                                                                                                                                                                                                                                                                                                                                                                                                                                                                                                                                                                                                                                                                                                                                                                                                                                                                                                                                                                                                                                                                                                                                                                                                                                                                                                                                                                                                                                                                                                                                                                                                                                                                                                                                                                                                                                                                                                                                                                                                                                                                                                                                                                                                                                                                                                                                                                                                                                                                                                                                                                                                                                                                                                                                                                                                                                                                                                                                                                                                                                                                                                                                                                                                                                                                                                                                                                                                                                                                                                                                                                                                                                                                                                                                                                                                                                                                                                                                                                                                                                                                                                                                                                                                                                                                                                                                                                                                                                                                                                                                                                                                                                                                                                                                                                                                                                                                                                                                                                                                                                                                                                                                                                                                                                                                                                                                                                                                                                                                                                                                                                                                                                                                                                                                                                                                                                                                                                                                                                                                                                                                                                                                                                                                                                                                                                                                                                                                                                                                                                                                                                                                                                                                                                                                                                                                                                                                                                                                                                                                                                                                                                                                                                                                                                                                                                                                                                                                                                                                                                                                                                                                                                                                                                                                                                                                                                                                                                                                                                                                                                                                                                                                                                                                                                                                                                                                                                                                                                                                                                                                                                                                                                                                                                                                                                                                                                                                                                                                                                                                                                                                                                                                                                                                                                                                                                                                                                                                                                                                                                                                                                                                                                                                                                                                                                                                                                                                                                                                                                                                                                                                                                                                                                                                                                                                                                                                                                                                                                                                                                                                                                                                                                                                                                                                                                                                                                                                                                                                                                                                                                                                                                                                                                                                                                                                                                                                                                                                                                                                                                                                                                                                                                                                                                                                                                                                                                                                                                                                                                                                                                                                                                                                                                                                                                                                                                                                                                                                                                                                                                                                                                                                                                                                                                                                                                                                                                                                                                                                                                                                                                                                                                                                                                                                                                                                                                                                                                                                                                                                                                                                                                                                                                                                                                                                                                                                                                                                                                                                                                                                                                                                                                                                                                                                                                                                                                                                                                                                                                                                                                                                                                                                                                                                                                                                                                                                                                                                                                                                                                                                                                                                                                                                                                                                                                                                                                                                                                                                                                                                                                                                                                                                                                                                                                                                                                                                                                                                                                                                                                                                                                                                                                                                                                                                                                                                                                                                                                                                                                                                                                                                                                                                                                                                                                                                                                                                                                                                                                                                                                                                                                                                                                                                                                                                                                                                                                                                                                                                                                                                                                                                                                                                                                                                                                                                                                                                                                                                                                                                                                                                                                                                                                                                                                                                                                                                                                                                                                                                                                                                                                                                                                                                                                                                                                                                                                                                                                                                                                                                                                                                                                                                                                                                                                                                                                                                                                                                                                                                                                                                                                                                                                                                                                                                                                                                                                                                                                                                                                                                                                                                                                                                                                                                                                                                                                                                                                                                                                                                                                                                                                                                                                                                                                                                                                                                                                                                                                                                                                                                                                                                                                                                                                                                                                                                                                                                                                                                                                                                                                                                                                                                                                                                                                                                                                                                                                                                                                                                                                                                                                                                                                                                                                                                                                                                                                                                                                                                                                                                                                                                                                                                                                                                                                                                                                                                                                                                                                                                                                                                                                                                                                                                                                                                                                                                                                                                                                                                                                                                                                                                                                                                                                                                                                                                                                                                                                                                                                                                                                                                                                                                                                                                                                                                                                                                                                                                                                                                                                                                                                                                                                                                                                                                                                                                                                                                                                                                                                                                                                                                                                                                                                                                                                                                                                                                                                                                                                                                                                                                                                                                                                                                                                                                                                                                                                                                                                                                                                                                                                                                                                                                                                                                                                                                                                                                                                                                                                                                                                                                                                                                                                                                                                                                                                                                                                                                                                                                                                                                                                                                                                                                                                                                                                                                                                                                                                                                                                                                                                                                                                                                                                                                                                                                                                                                                                                                                                                                                                                                                                                                                                                                                                                                                                                                                                                                                                                                                                                                                                                                                                                                                                                                                                                                                                                                                                                                                                                                                                                                                                                                                                                                                                                                                                                                                                                                                                                                                                                                                                                                                                                                                                                                                                                                                                                                                                                                                                                                                                                                                                                                                                                                                                                                                                                                                                                                                                                                                                                                                                                                                                                                                                                                                                                                                                                                                                                                                                                                                                                                                                                                                                                                                                                                                                                                                                                                                                                                                                                                                                                                                                                                                                                                                                                                                                                                                                                                                                                                                                                                                                                                                                                                                                                                                                                                                                                                                                                                                                                                                                                                                                                                                                                                                                                                                                                                                                                                                                                                                                                                                                                                                                                                                                                                                                                                                                                                                                                                                                                                                                                                                                                                                                                                                                                                                                                                                                                                                                                                                                                                                                                                                                                                                                                                                                                                                                                                                                                                                                                                                                                                                                                                                                                                                                                                                                                                                                                                                                                                                                                                                                                                                                                                                                                                                                                                                                                                                                                                                                                                                                                                                                                                                                                                                                                                                                                                                                                                                                                                                                                                                                                                                                                                                                                                                                                                                                                                                                                                                                                                                                                                                                                                                                                                                                                                                                                                                                                                                                                                                                                                                                                                                                                                                                                                                                                                                                                                                                                                                                                                                                                                                                                                                                                                                                                                                                                                                                                                                                                                                                                                                                                                                                                                                                                                                                                                                                                                                                                                                                                                                                                                                                                                                                                                                                                                                                                                                                                                                                                                                                                                                                                                                                                                                                                                                                                                                                                                                                                                                                                                                                                                                                                                                                                                                                                                                                                                                                                                                                                                                                                                                                                                                                                                                                                                                                                                                                                                                                                                                                                                                                                                                                                                                                                                                                                                                                                                                                                                                                                                                                                                                                                                                                                                                                                                                                                                                                                                                                                                                                                                                                                                                                                                                                                                                                                                                                                                                                                                                                                                                                                                                                                                                                                                                                                                                                                                                                                                                                                                                                                                                                                                                                                                                                                                                                                                                                                                                                                                                                                                                                                                                                                                                                                                                                                                                                                                                                                                                                                                                                                                                                                                                                                                                                                                                                                                                                                                                                                                                                                                                                                                                                                                                                                                                                                                                                                                                                                                                                                                                                                                                                                                                                                                                                                                                                                                                                                                                                                                                                                                                                                                                                                                                                                                                                                                                                                                                                                                                                                                                                                                                                                                                                                                                                                                                                                                                                                                                                                                                                                                                                                                                                                                                                                                                                                                                                                                                                                                                                                                                                                                                                                                                                                                                                                                                                                                                                                                                                                                                                                                                                                                                                                                                                                                                                                                                                                                                                                                                                                                                                                                                                                                                                                                                                                                                                                                                                                                                                                                                                                                                                                                                                                                                                                                                                                                                                                                                                                                                                                                                                                                                                                                                                                                                                                                                                                                                                                                                                                                                                                                                                                                                                                                                                                                                                                                                                                                                                                                                                                                                                                                                                                                                                                                                                                                                                                                                                                                                                                                                                                                                                                                                                                                                                                                                                                                                                                                                                                                                                                                                                                                                                                                                                                                                                                                                                                                                                                                                                                                                                                                                                                                                                                                                                                                                                                                                                                                                                                                                                                                                                                                                                                                                                                                                                                                                                                                                                                                                                                                                                                                                                                                                                                                                                                                                                                                                                                                                                                                                                                                                                                                                                                                                                                                                                                                                                                                                                                                                                                                                                                                                                                                                                                                                                                                                                                                                                                                                                                                                                                                                                                                                                                                                                                                                                                                                                                                                                                                                                                                                                                                                                                                                                                                               geometry  \\\n",
       "19                                                                                                                                                                                                                                                                                                                                                                                                                                                                                                                                                                                                                                                                                                                                                                                                                                                                                                                                                                                                                                                                                                                                                                                                                                                                                                                                                                                                                                                                                                                                                                                                                                                                                                                                                                                                                                                                                                                                                                                                                                                                                                                                                                                                                                                                                                                                                                                                                                                                                                                                                                                                                                                                                                                                                                                                                                                                                                                                                                                                                                                                                                                                                                                                                                                                                                                                                                                                                                                                                                                                                                                                                                                                                                                                                                                                                                                                                                                                                                                                                                                                                                                                                                                                                                                                                                                                                                                                                                                                                                                                                                                                                                                                                                                                                                                                                                                                                                                                                                                                                                                                                                                                                                                                                                                                                                                                                                                                                                                                                                                                                                                                                                                                                                                                                                                                                                                                                                                                                                                                                                                                                                                                                                                                                                                                                                                                                                                                                                                                                                                                                                                                                                                                                                                                                                                                                                                                                                                                                                                                                                                                                                                                                                                                                                                                                                                                                                                                                                                                                                                                                                                                                                                                                                                                                                                                                                                                                                                                                                                                                                                                                                                                                                                                                                                                                                                                                                                                                                                                                                                                                                                                                                                                                                                                                                                                                                                                                                                                                                                                                                                                                                                                                                                                                                                                                                                                                                                                                                                                                                                                                                                                                                                                                                                                                                                                                                                                                                                                                                                                                                                                                                                                                                                                                                                                                                                                                                                                                                                                                                                                                                                                                                                                                                                                                                                                                                                                                                                                                                                                                                                                                                                                                                                                                                                                                                                                                                                                                   POLYGON ((-58.4782191006567 4.87922188315062, -58.4782327108033 4.87923142319734, -58.4782328679219 4.87930363474179, -58.4782402809066 4.87934764481147, -58.4782329653965 4.87934776582439, -58.4782331536945 4.87943381140076, -58.4782337373012 4.87970007744158, -58.4781463170325 4.88018842639657, -58.4781029477407 4.88058792379787, -58.477904382308 4.88083243882254, -58.4776386724163 4.8807220805837, -58.4775054053081 4.8804782942841, -58.4771733775917 4.88039027041538, -58.4769084461147 4.88063493218092, -58.4767321964257 4.88096815432363, -58.4764673616081 4.88125719403687, -58.4762245508679 4.88150180703996, -58.4758266903032 4.88165800543878, -58.4754727336485 4.88165878464077, -58.4753404365961 4.88185877623431, -58.4754515821216 4.88210260993994, -58.4759835842649 4.88258959690309, -58.4762500228113 4.883032789375, -58.4762948506322 4.88329895826594, -58.4762509457889 4.88345437730535, -58.476074307175 4.88361008932608, -58.4757867658493 4.88363291152557, -58.475498689971 4.88341165582875, -58.4752768356386 4.88312368651641, -58.4750330055965 4.88290233411349, -58.4747224201869 4.88250361618367, -58.4745007612768 4.8823044016032, -58.474080097214 4.88215000417189, -58.4738809968064 4.88215044151202, -58.4733278431789 4.88210727887004, -58.4729742256745 4.88226337873815, -58.4727315582582 4.88257455763364, -58.4724669135365 4.88295235173513, -58.4724239283384 4.88352936034913, -58.4726458787549 4.88386170720343, -58.4729564156641 4.8842382385808, -58.4734211311269 4.88430378397362, -58.4740407999049 4.88441336586199, -58.4747048103813 4.88456722878017, -58.4753468432789 4.88478770529759, -58.4755904316301 4.88489811364, -58.4755904718775 4.8849161050455, -58.4756010784609 4.8849143561748, -58.4756347742685 4.88494239430955, -58.4757454830405 4.88498652894045, -58.4758341674469 4.88507508843764, -58.475878994589 4.88534125735134, -58.4758129187541 4.88547453655527, -58.4755036910137 4.88569710820981, -58.4751718545573 4.88569783740741, -58.4748177519605 4.88563205030067, -58.4743752065661 4.88558864612697, -58.4741983245226 4.88563341327603, -58.4740660750779 4.88585559442342, -58.4741548564591 4.88598853312589, -58.4742880272504 4.88618794023533, -58.4745430905187 4.88648693052245, -58.4749639498913 4.8867300828599, -58.4754072726112 4.88712850787062, -58.4757620090234 4.88748275014257, -58.4759396692083 4.88779300383869, -58.4759624724931 4.88810359938265, -58.4758523459463 4.88832573211704, -58.4756537295013 4.88854805880372, -58.4753441121405 4.88859311872288, -58.475144814857 4.88850480186957, -58.4751003766501 4.88841614320283, -58.4750997932365 4.88814987775752, -58.4750991622148 4.88786142193782, -58.4750762128578 4.8874842605556, -58.4748766742276 4.8872849988789, -58.4746773783034 4.88719668174558, -58.4745226659547 4.88726358900218, -58.4743906599386 4.88759671401395, -58.474524414396 4.88806238918063, -58.4745256769354 4.88863929915327, -58.4744608148043 4.8893273007048, -58.4743732478083 4.88974908363045, -58.4742629749559 4.88990464881878, -58.473931670887 4.89014945683835, -58.4734234347247 4.89041684352382, -58.473179941226 4.89035081296972, -58.4729363498634 4.89024040334266, -58.472626294878 4.89008576322218, -58.4721834553949 4.88990922419913, -58.4719623753534 4.88997627695216, -58.4718740305381 4.89004303894992, -58.4718522956263 4.89022059900508, -58.471918858018 4.89030920846166, -58.4721403743609 4.89044185570802, -58.4724392479179 4.89054104842928, -58.4725947361142 4.89082916325003, -58.4726839546309 4.89116180107914, -58.4727951979715 4.89145001396189, -58.4729723735592 4.8915383799903, -58.4730609124088 4.89156037485529, -58.4731935023773 4.89149351536051, -58.4732375049768 4.89138247424551, -58.4733476812248 4.89118253012555, -58.4734801731493 4.89107129345512, -58.4737236669283 4.89113732471542, -58.4738789140344 4.89131449526202, -58.4739457680012 4.8915362367295, -58.4741902329211 4.89204604544515, -58.4743237462607 4.89240077391844, -58.4746122646784 4.8928217297008, -58.4748122426209 4.89322069071306, -58.47487040869 4.89349005337571, -58.4749199644934 4.89349112711752, -58.4749346224705 4.89354216086315, -58.4749353027489 4.89385280431034, -58.4750682338879 4.89394126698431, -58.4752897519457 4.89407391172175, -58.4757987681309 4.89416154526763, -58.4760642398345 4.89416095994299, -58.4763075402254 4.89413823385347, -58.4763957875559 4.89402709416019, -58.4763955443459 4.89391615053376, -58.4762181733224 4.89373902974852, -58.4760188751786 4.893650713662, -58.4757751850716 4.89349592847819, -58.4755093247371 4.89331900337065, -58.4754645925588 4.89309721262485, -58.4757518948221 4.89296344568174, -58.4760394895605 4.8929628108439, -58.4764600621221 4.89307282773304, -58.4769913946087 4.89324916592819, -58.4775669246927 4.8934032183396, -58.4779875453018 4.89353542354361, -58.4781208174562 4.89377920610479, -58.4782101854255 4.89417841051626, -58.4783443355812 4.89482159273326, -58.4783454073635 4.89530974659389, -58.4783237240929 4.895509495794, -58.4782690264442 4.89578697768671, -58.4779604303528 4.89629800606741, -58.4778947434035 4.89660879566757, -58.4779614534584 4.89676397056036, -58.4783377352866 4.89685189465864, -58.4785594497715 4.89707329370853, -58.4787372123905 4.89742792336121, -58.4786938454308 4.89782741992862, -58.4784512753414 4.89818297960111, -58.4784518125282 4.89842705604188, -58.4785403035539 4.89842686042483, -58.4789604895621 4.89835936372821, -58.4791596918524 4.89840330045546, -58.4796695903537 4.89889032847596, -58.4802680774093 4.89942153699914, -58.4806670695868 4.89977567585394, -58.4810654749898 4.89986354880285, -58.4812648740552 4.89999623959235, -58.4814652017785 4.90055051792301, -58.4816872616682 4.90092723734779, -58.4820642304579 4.90132579995403, -58.4821312844974 4.90163629606093, -58.4820872833825 4.90174733839131, -58.4819769626583 4.90188071546564, -58.4818443723502 4.90194757703725, -58.4816672420483 4.90188140395858, -58.4815561389492 4.90165976067689, -58.4815113057452 4.9013935932803, -58.4814006427432 4.9013716499499, -58.4812237090183 4.90139423065502, -58.481046970751 4.90150556709623, -58.4808261822035 4.9017057573235, -58.4806055410022 4.90197251300488, -58.4804070215969 4.90223921966131, -58.4804076079012 4.90250548616508, -58.4804964423289 4.90266061051123, -58.4807621123131 4.90274877719014, -58.4810278312219 4.90285913223395, -58.4814264839511 4.90305794863743, -58.4817587193045 4.90323472343042, -58.4819583153269 4.90345616939279, -58.4821216957731 4.90380239663977, -58.4822919926815 4.9038774175194, -58.4823049026106 4.9040164331335, -58.482289189207 4.90419415033174, -58.4822574070456 4.90438805694766, -58.4821773107833 4.90458206896135, -58.4820089221121 4.9049055024615, -58.4819447867662 4.90503486763278, -58.4818807957027 4.90522884573221, -58.4818330141055 4.90547124554698, -58.4818174093376 4.90569742201778, -58.4817695930091 4.9059236690587, -58.481705565353 4.90610149349348, -58.4816575717674 4.9062469766331, -58.4815934362954 4.9063763427293, -58.4815132685059 4.90653805012114, -58.4814330285376 4.9066674519499, -58.4813527172981 4.90676454821037, -58.4812403743195 4.90694247984772, -58.4811119259217 4.9071204472115, -58.4809753544434 4.90726612685874, -58.4808950430756 4.90736322310419, -58.4808057834476 4.90743816325619, -58.4807842743235 4.90743651980181, -58.4808056948557 4.9074638230059, -58.4805848567714 4.90764182433432, -58.4804302400572 4.90775311115106, -58.4800767594526 4.90797578463815, -58.4800773961229 4.90826423963218, -58.4801665740342 4.90857468598019, -58.4803000951728 4.90892941205047, -58.4804340088373 4.90946164780317, -58.4803240303038 4.90975034813484, -58.4800369190597 4.90997287467201, -58.479639143041 4.91017345794659, -58.4793074907455 4.91026294957926, -58.4789093720037 4.91030820935965, -58.478643552118 4.91015347726052, -58.4781564023132 4.90995485629785, -58.4776252506403 4.90986727818993, -58.4773815054081 4.90969030702707, -58.4772707432304 4.90962398543524, -58.4768940622995 4.90935855284821, -58.4767392979822 4.90940327261196, -58.4765627042177 4.90958117520206, -58.4764528702305 4.90993644100332, -58.4763871840047 4.91024723184897, -58.4763217417901 4.91066896718316, -58.4763019328645 4.91123945672268, -58.4764234032103 4.91142613408882, -58.4764268378625 4.91145983133494, -58.4764271586112 4.91160520669089, -58.476459688595 4.91175051165667, -58.4764761850719 4.91192815789897, -58.476460400345 4.91207357071024, -58.4764447222492 4.91226744016507, -58.4764290432612 4.91246131052754, -58.4764292574392 4.91255822833226, -58.4764455753533 4.91265511048537, -58.4764619652726 4.91278429736342, -58.4764621430186 4.9128650623511, -58.4763978648541 4.91292981714656, -58.4763335857736 4.91299457103709, -58.4763021170089 4.91301360346776, -58.4762387209813 4.91315431226913, -58.4760617836873 4.91317689349342, -58.4759288967282 4.91311062079101, -58.4757295432743 4.91300011694822, -58.4753088587515 4.91284572630884, -58.4750211099602 4.9127797968574, -58.4746887714506 4.9125586425531, -58.4743343604369 4.91235972546978, -58.4740240498681 4.91209414468105, -58.4737363004802 4.91202821454045, -58.4731829746336 4.9119184917275, -58.4726515773096 4.91171996527631, -58.4719294900472 4.91163379824254, -58.4718614145347 4.91164760985044, -58.47171664447 4.91172869483063, -58.4715879099658 4.91177743764591, -58.4714270006554 4.91184240435129, -58.4712982642927 4.9118911480317, -58.4711695642217 4.91195604454654, -58.4709765154095 4.91205338883086, -58.4708477798519 4.9121021315396, -58.4706869756638 4.9122155575945, -58.4706067328667 4.91234495893401, -58.4705681630846 4.91242275551766, -58.4704407088331 4.91239051632217, -58.4703746307069 4.91252379510703, -58.4701766402469 4.91303457895736, -58.4699787468359 4.91358974092775, -58.4699685370487 4.91397807071146, -58.4700802246988 4.914465982225, -58.4702358179469 4.91479847412308, -58.4705020778822 4.91515291050527, -58.470657283141 4.9153078907703, -58.4708785161354 4.91530740261318, -58.4711661697505 4.91532895647737, -58.4714094791946 4.91530622891927, -58.4719181212183 4.91521634936222, -58.4723162941172 4.91519328131296, -58.4726039953699 4.91523702312769, -58.472847694482 4.91539180721373, -58.4730695628046 4.91567977235628, -58.4732252562063 4.9160566410402, -58.4735580345783 4.91647749541313, -58.4736029154665 4.91676585243577, -58.4734931285065 4.91714330796471, -58.4731845710448 4.91767652553855, -58.4728979415703 4.9181209399398, -58.4726776343355 4.91854301721856, -58.4726343635877 4.91898689177882, -58.4726793918081 4.9193418164132, -58.4729896574608 4.91958520836221, -58.473388124573 4.91969527115831, -58.4739192369602 4.91976066188589, -58.4740961752691 4.91973808159648, -58.4746491659815 4.91969247911232, -58.4751137113821 4.91966926075046, -58.475622208583 4.91951281011488, -58.4761086326623 4.9193785976263, -58.4763962866561 4.9194001486549, -58.4766620616949 4.91953269303937, -58.4767953903584 4.91979866460102, -58.4767518290929 4.92010940566694, -58.4767807433127 4.92011966669675, -58.4767279029742 4.9201817727765, -58.476647661069 4.92031117565435, -58.476486893233 4.92044075619029, -58.4764066156507 4.92055400534378, -58.476294091885 4.92065117219544, -58.4761815680872 4.92074833994195, -58.4760208347427 4.92089407324042, -58.4759404858421 4.92097501674322, -58.4757796821046 4.92108844437733, -58.4756028072477 4.92121806050673, -58.475377581278 4.92133162996001, -58.4751683889104 4.92141285893399, -58.4750235474496 4.92146163857159, -58.4748947752447 4.92149423058444, -58.4747338635419 4.92155919958173, -58.4744843007648 4.92159205819477, -58.4742106513064 4.92165727678166, -58.4740174932576 4.92170616323399, -58.4737759832027 4.92173900558563, -58.4735827539738 4.92175558626154, -58.4733895958005 4.92180447345813, -58.4732446820431 4.92182094710272, -58.4731320153631 4.92185350227163, -58.473120650483 4.92186781643501, -58.4729726123589 4.92189289928867, -58.4728181864912 4.92209294172032, -58.472708203855 4.92238164139784, -58.4728419216833 4.92282512523457, -58.473064135188 4.92326841220071, -58.4736405724395 4.9238218597469, -58.4741059516317 4.92417585104985, -58.4741831360629 4.92416609284492, -58.4743473552458 4.92424251067382, -58.4748459563478 4.9244911656278, -58.4754276582953 4.92478126200579, -58.475760106509 4.9249678434139, -58.4757812249999 4.92513430405236, -58.4758233270415 4.92540478451802, -58.4757614844204 4.92559224139868, -58.4756788427484 4.92575893133019, -58.4754302299794 4.92594680345471, -58.4750777190842 4.92607246575062, -58.4745591441415 4.92617768389233, -58.4742271099228 4.92617841995036, -58.4739158270101 4.92617911076048, -58.4736048191054 4.92630468041708, -58.4733150216768 4.9266383368752, -58.4731496001944 4.92690927660319, -58.4730671877815 4.92718003335027, -58.4731717743604 4.92755444232856, -58.4734215823704 4.92790771541637, -58.4738582056342 4.92828138730946, -58.4742118200447 4.92865524285553, -58.4741915265573 4.9288634225692, -58.4740464905023 4.92896781065782, -58.4737770320687 4.92911410173613, -58.4734867294066 4.92921881271684, -58.4733625830875 4.9293855955596, -58.4731554730995 4.92957337450118, -58.4729481795766 4.92967790133761, -58.4727198585117 4.9296575941807, -58.4726159591045 4.92959538412311, -58.4725741802134 4.92947059704242, -58.472531803662 4.92907523613914, -58.4726139871448 4.92870041422648, -58.4726547575884 4.92836730940786, -58.4726128395407 4.92818008143146, -58.4723218505092 4.92797259283754, -58.4721557860785 4.9279521474373, -58.4719275571746 4.92797346678623, -58.4718706210802 4.92796090997429, -58.4718088097485 4.92801072828205, -58.4716802137572 4.92812408431256, -58.4715840073278 4.92831813325458, -58.4714235201162 4.92857693798627, -58.4713194738428 4.92886792273774, -58.4712876537744 4.92904567624989, -58.4712399774294 4.92933653534011, -58.4712245121424 4.92962732404023, -58.4712091179721 4.92995041843504, -58.471193688285 4.93025735998425, -58.4711781875235 4.93053199493689, -58.4711629356502 4.93091970162594, -58.4711557723902 4.93132354242657, -58.4711404486039 4.93167894252038, -58.4711252333418 4.93208280205437, -58.4710938053953 4.93243823781493, -58.4710620565028 4.93264829796408, -58.4710303787342 4.93289066290532, -58.4709664186082 4.93310079349691, -58.4708701040656 4.93324638404321, -58.4707414004386 4.93331128167848, -58.4705964849359 4.93332775550505, -58.4704836740075 4.9332956994322, -58.470403003231 4.93323126632128, -58.470338473189 4.93318295039351, -58.47019330886 4.9330863532543, -58.4700803904487 4.93300583853637, -58.4698868022716 4.93286088968186, -58.4697577432302 4.93276425767016, -58.4696448613456 4.93269989570019, -58.4694997318223 4.93261945211086, -58.4693384980639 4.9325390431982, -58.4691772980518 4.93247478890763, -58.4690323115582 4.93245895572336, -58.4689195709017 4.93245920504404, -58.4688390423731 4.93245938311739, -58.4687908671018 4.93252410231397, -58.4687658360093 4.93255941269449, -58.4686172592722 4.93255974211236, -58.4685345246229 4.93268480579501, -58.4684933398121 4.93283058987085, -58.4685566962273 4.93332997193795, -58.4687028790725 4.93374591634874, -58.4688907961198 4.93426583593489, -58.4690586028414 4.93507718672777, -58.4690394078865 4.93578488544906, -58.4690308377571 4.93586383414178, -58.4689673012663 4.93585123489864, -58.4687579249473 4.93585169910844, -58.4684437556653 4.9358039353468, -58.4681538512567 4.93580457749578, -58.4678962292327 4.93583745312127, -58.4677352422963 4.93587011589597, -58.467493762742 4.93591910953938, -58.4672844936473 4.93596803100165, -58.4670752954865 4.93604925905918, -58.4668822043292 4.93613045147045, -58.4666891467884 4.93622779581555, -58.4664961264649 4.93634129480368, -58.4663191749656 4.93643860439335, -58.4661905055835 4.93651965433581, -58.4660296246919 4.93660077450919, -58.4659170259532 4.93666563505476, -58.4656917574758 4.93676305124495, -58.4654504536336 4.93689280961706, -58.4652090796738 4.93699026124856, -58.4649515976101 4.93708774746623, -58.464750417203 4.93715280521218, -58.4646055712369 4.93720158380395, -58.4645089712049 4.93721794996041, -58.4644762271777 4.93722560446658, -58.4644769993718 4.93723109952944, -58.4643112518033 4.93735634626096, -58.4634605773702 4.93744147833589, -58.4623088288966 4.93745442576033, -58.4617277537204 4.93745570687863, -58.4602752048638 4.93752134729261, -58.458635698094 4.93750414169881, -58.4568926089975 4.93757041340357, -58.455844666102 4.93760393505808, -58.4552637706253 4.93768846508025, -58.4539563047316 4.93767051971507, -58.4527730352102 4.93750660403307, -58.4519218558732 4.93736277287659, -58.4512361552175 4.93696881616702, -58.4506954073289 4.93642884664096, -58.4502375358121 4.93582625356692, -58.4497590018956 4.93526533351503, -58.4494576138499 4.93504744889055, -58.4492081751641 4.93486067249328, -58.4486678369122 4.93450802037817, -58.4481902988969 4.93440499535719, -58.4474219986881 4.93419853615073, -58.4464464875711 4.93413822172336, -58.4455123006837 4.93399456237751, -58.4443492033697 4.93356000856951, -58.4436012970692 4.93318699013896, -58.4429676425644 4.93286575681078, -58.4421578377082 4.93265937976935, -58.4411817435215 4.93232848193435, -58.4403920191083 4.93180985304085, -58.4398720355373 4.93126982672607, -58.438977474276 4.9302518957718, -58.4384781562318 4.92967019332907, -58.4380201197491 4.92898433374095, -58.4376974468688 4.92851672380298, -58.4372190629539 4.92801823092329, -58.4366993085938 4.9275822672348, -58.4360546825058 4.92698006223023, -58.4352441705563 4.9264406573717, -58.4345997689969 4.92594251892654, -58.4342047564268 4.92561035154818, -58.433830273849 4.92517407126117, -58.433725484397 4.9246955816096, -58.4328938232253 4.92396889395407, -58.4322084558241 4.92372060483097, -58.4313159209316 4.92363927212046, -58.4307973308395 4.9237444567162, -58.4304483291837 4.9237918913863, -58.4304570884041 4.92384636264503, -58.4293580151394 4.92408847153067, -58.4274356784327 4.92492710683712, -58.4262404927012 4.92534692605635, -58.4250453049232 4.92576674265359, -58.4228633803835 4.92681455159798, -58.4222920074639 4.92712871557594, -58.4208385679898 4.92838358762915, -58.4196446988562 4.92942927741452, -58.4183468169737 4.93047518719723, -58.4179314497849 4.93078901588734, -58.4171521648262 4.93115577685702, -58.4163721042048 4.93115744105162, -58.4152807936187 4.93152486710882, -58.4146578497837 4.93204776317444, -58.4141386917465 4.93246612553505, -58.4136204167472 4.93330174109644, -58.4136745195058 4.93429260792608, -58.4133126983974 4.9353365173808, -58.4132124454784 4.93711006825878, -58.4121231099981 4.93841631348704, -58.4102540294001 4.93988068798587, -58.4102556840822 4.94066304071307, -58.4096777748628 4.95018292971134, -58.4101999328844 4.95117279954679, -58.4103836663208 4.9519808411907, -58.4105413424676 4.95276286005883, -58.4103873169806 4.95370201499352, -58.4104418676725 4.95490151016885, -58.4097684452161 4.9561547151306, -58.4083679278371 4.95787888384121, -58.4079544207791 4.95907937841819, -58.4078517337861 4.95970548215967, -58.407958623077 4.9610613376977, -58.4079597294167 4.96158290576564, -58.4078564899463 4.96194822553032, -58.4070010897533 4.96322789792932, -58.4064315582353 4.9644287246833, -58.4058109032849 4.96604691761291, -58.4047745191681 4.96782246810157, -58.4037899183025 4.96949359448352, -58.4023892531238 4.9711656060467, -58.4017670403885 4.97205360261577, -58.4003917618303 4.9734386936456, -58.3993548048394 4.9749534577108, -58.3984222993048 4.97667662832297, -58.3978015094909 4.97824266471334, -58.397491884649 4.97939078288167, -58.3973901825867 4.98048630215591, -58.3973911747941 4.9809557141904, -58.3977042167967 4.98142446415653, -58.3992134531072 4.98189066938427, -58.4001504869508 4.98230593068825, -58.4002272043719 4.98220243209408, -58.4003000900802 4.9822471991219, -58.4004613786951 4.98234781511649, -58.4006226664505 4.98244843105928, -58.4008847537955 4.98260940679309, -58.4010762853622 4.9827301496778, -58.4012779710276 4.98289125478098, -58.4015200527677 4.98311284913739, -58.4017621783621 4.98335463386873, -58.401923594926 4.98351582542139, -58.4020449142489 4.9837578675344, -58.4021259232028 4.98397980586923, -58.4022675054751 4.98428238099901, -58.4023889973372 4.98460519132474, -58.402510274288 4.98482704273378, -58.4026113741838 4.9850287447451, -58.4027126464298 4.98531121506618, -58.4028042368168 4.98577543130523, -58.4028651111941 4.98599741146763, -58.4029259865335 4.9862193916095, -58.4029062807639 4.98642135136286, -58.4029670704721 4.98660294867296, -58.4030280307866 4.98686531249123, -58.4031291322062 4.98706701427628, -58.4032911075884 4.98749069696741, -58.4033922083265 4.98769239956486, -58.4034733472026 4.98797491073943, -58.403574448104 4.98817661326935, -58.4037162039974 4.98855995500724, -58.4037871039304 4.98876172199526, -58.4038680715831 4.98896346744406, -58.4039490383961 4.98916521196523, -58.4040099575815 4.98940738409949, -58.4040306070491 4.98964964049895, -58.4040915263568 4.98989181260115, -58.4041927137382 4.99013389857746, -58.4042739393928 4.99045679313874, -58.4043749972539 4.99063830306148, -58.4044559225136 4.99081985692138, -58.4045368907745 4.99102160124214, -58.4046986109073 4.9913241328763, -58.4048803368166 4.99156604537278, -58.4051525396354 4.99174718878889, -58.4053339219939 4.99182756731319, -58.4056967727944 4.99202870783394, -58.4058983336653 4.99212923532176, -58.4061402486985 4.99227005921678, -58.4063014967595 4.99235048053083, -58.4062411792765 4.99239099449792, -58.4059465834556 4.99233104937073, -58.4056445658576 4.99233169711412, -58.4052167072978 4.99233261323217, -58.4048643537665 4.99233336747169, -58.4046630086116 4.9923337992858, -58.4044114340799 4.99238481721413, -58.4041095236255 4.99243594364178, -58.4038832246931 4.99253738693749, -58.4035813686308 4.99261375284846, -58.4033047872691 4.99274054242215, -58.4028522969192 4.99299390883896, -58.402550706766 4.99319647200721, -58.4022240570194 4.99344956918999, -58.4020733162656 4.99357608950248, -58.4019227362973 4.993778329844, -58.4017470413916 4.99400586456303, -58.4015712391569 4.99418291802292, -58.4013954904333 4.99438521298983, -58.401295138983 4.99453686542867, -58.4011445049955 4.99471386689687, -58.4009687560092 4.99491616001411, -58.400742937808 4.99524476013045, -58.4004730492517 4.99556083530252, -58.4002217683234 4.99575066967343, -58.4000019468126 4.99594043774479, -58.3997508003842 4.9961933731591, -58.3994683253291 4.9965094741083, -58.3988874461066 4.99704705946412, -58.398870232523 4.99707481046803, -58.3986947507168 4.99700610797738, -58.3981316728978 4.99754956339568, -58.3974746567336 4.99814037038481, -58.3970998034699 4.99875415244847, -58.396913526099 4.9996032941411, -58.39687938661 5.00013383303064, -58.396858327525 5.00128911331996, -58.3966729005738 5.00253904993313, -58.3964394538942 5.00331756325027, -58.3962052563145 5.00374243588336, -58.3957720012095 5.00453316492636, -58.3952796950838 5.00519435017772, -58.3949981764381 5.00547786515495, -58.3945761990147 5.00604459444167, -58.3941546703265 5.00682350952774, -58.3937330908947 5.00757884889304, -58.3934285601402 5.00809817536643, -58.3933352209869 5.00842844283713, -58.3929016091895 5.00905413806175, -58.3925265978346 5.00959719126739, -58.3921751964391 5.01018734673255, -58.3919182838385 5.01098948718167, -58.3915910398785 5.01188608342283, -58.3912162765962 5.01254701704786, -58.3907242105567 5.01332608305689, -58.3903019752879 5.01377493047373, -58.3896914583582 5.0141298756519, -58.3892218529801 5.01441378881778, -58.3888934086828 5.01474455709053, -58.3886120828454 5.01512237507234, -58.3881897960376 5.01554764696443, -58.3877204369439 5.01594944284594, -58.3872038090703 5.01623345592593, -58.3867104908153 5.01642311481401, -58.38609996985 5.01677805601836, -58.3854977835644 5.0169519753083, -58.3853068752541 5.0169523802146, -58.3849922584853 5.01695304828253, -58.3848885245966 5.01694026928305, -58.3847368670717 5.01701671234077, -58.3841488597478 5.01690007819722, -58.3833725709583 5.01668953586669, -58.3827138349359 5.01647874457403, -58.3821722521699 5.01607909272799, -58.3816778903572 5.01577364591822, -58.3816094154336 5.01571381716532, -58.3814345033069 5.01573013613103, -58.380994173437 5.01579416799059, -58.3805537108206 5.01579509975774, -58.37949994473 5.01589197665087, -58.3792167894 5.0158925753665, -58.3787762601786 5.01586195511617, -58.3783986543467 5.01583120271187, -58.3778952007177 5.01580071550076, -58.3774232766966 5.01580171150827, -58.376982878625 5.01583418992462, -58.3766682621842 5.01583485383473, -58.3735553003712 5.0158322902683, -58.3726032189145 5.01583151103187, -58.3725683752521 5.01532344902848, -58.3722820627155 5.01482342982477, -58.3717095866038 5.01389490979112, -58.371422527765 5.01303730591337, -58.3708857891605 5.01214446596303, -58.3708123089848 5.01110762069548, -58.3708464762563 5.01039237605309, -58.3709155544949 5.00931947264224, -58.3708055987538 5.00788935871126, -58.3711063438324 5.00676233153936, -58.3710693447438 5.00611875366807, -58.3714595687263 5.0051524528398, -58.3717073101047 5.00425796909199, -58.3715998155088 5.00400788291284, -58.3711005321684 5.00397317096586, -58.3710627143937 5.0029362506757, -58.3706675753309 5.00154249045279, -58.3703629604552 5.00081007688657, -58.3700768807533 5.00041732995347, -58.3697918427358 5.00052520282791, -58.3694701804986 5.00016828918476, -58.3693256916416 4.99927462351953, -58.3693598625449 4.99855937933586, -58.3687891935314 4.99848905423868, -58.3685748765338 4.99831070863537, -58.3680401615968 4.99838334239097, -58.3671493914856 4.99870703108582, -58.3664364618418 4.99881579375934, -58.3658660144586 4.9988527428348, -58.3647950263913 4.99824707562242, -58.36378734298 4.9975655736619, -58.3635811892471 4.99753442859719, -58.3628676679881 4.99735711853789, -58.3624023458782 4.99649987561208, -58.3617224144532 4.9953212498778, -58.36136451148 4.99467833454315, -58.3612200363576 4.99378466541519, -58.3612885462613 4.99242568887048, -58.3613213997389 4.99106678808294, -58.3613199254701 4.99035161580063, -58.3611397215352 4.98942226087776, -58.3608528427546 4.98863616275318, -58.3606016952517 4.98788574795134, -58.3603508438647 4.98727836831283, -58.3599746405593 4.9864030568331, -58.3593659687013 4.9851885164947, -58.3587939866302 4.98447452382493, -58.3585068928399 4.98358114699497, -58.3582558990048 4.98290224771756, -58.3575954017565 4.982492385827, -58.3567391974411 4.98227960006841, -58.356060543819 4.9817088598323, -58.3561131851886 4.98129752348136, -58.3562536122511 4.98022446798052, -58.3561785999423 4.97911187791988, -58.3558232176552 4.97840272738625, -58.3557045952824 4.97808746854895, -58.3555859730557 4.97777220875206, -58.3555670018233 4.97764095433935, -58.3557048897427 4.97741868611456, -58.3563229079815 4.97579730254283, -58.357933777333 4.97355075300224, -58.3587990413152 4.97130574071334, -58.3594142363449 4.96831350373613, -58.3586632810281 4.96569795237936, -58.3585344231253 4.96345499039791, -58.357407376048 4.95922010029087, -58.3575285844694 4.95772436583813, -58.3610005617777 4.95410313422016, -58.3617438408149 4.95297999000583, -58.361863764477 4.95086114133293, -58.3616124356343 4.94949079930582, -58.3621038725193 4.94674806775124, -58.361913020923 4.94456754687907, -58.3625284630256 4.94169993711776, -58.3625254066064 4.94020446029367, -58.3635171943698 4.9390808081528, -58.3626422839699 4.93659013418802, -58.3621419382739 4.93497105440134, -58.3619278933059 4.93454389808497, -58.3619659669163 4.93433792186044, -58.362004243699 4.93382515013449, -58.3620423588298 4.93323350328389, -58.362041553968 4.93283912580963, -58.3620798309242 4.93232635500114, -58.3623355234111 4.93179494166518, -58.3625914756756 4.9311593324758, -58.3623729952064 4.93076285365868, -58.3623655555666 4.93066315402436, -58.3622340736203 4.93056467458748, -58.3623120935854 4.93000881490706, -58.362527861129 4.92907559155872, -58.3626260729762 4.92871815530765, -58.3630999772133 4.92822102331064, -58.3636727798341 4.92770384196081, -58.363949246116 4.92742542564527, -58.3640279537996 4.92720695407364, -58.3639271908517 4.92631407293818, -58.3639953758737 4.92578800415188, -58.3642710322062 4.92511266122277, -58.364447829136 4.92447721471059, -58.3645260897159 4.92404043402299, -58.3642487753078 4.92390207802405, -58.364603622087 4.92324641923909, -58.3649982076111 4.92267006533177, -58.3652250202545 4.92230244143617, -58.3653628475489 4.92196477050349, -58.3653872906489 4.92193029943937, -58.3653884103423 4.92190850719975, -58.365402301777 4.92190514957487, -58.3656981894211 4.92144807623431, -58.366013944991 4.92103065392552, -58.3663099128824 4.92061327217422, -58.3665466777778 4.92027539821956, -58.3666645144715 4.91983853653194, -58.3667232699444 4.91954072060065, -58.3668019764142 4.91932224825615, -58.3669793780509 4.91898449614142, -58.3669780006466 4.9183097228853, -58.3669760813703 4.91736960520034, -58.3669996593931 4.91731252206847, -58.3669758939717 4.91727771579823, -58.3669547694255 4.9166228293711, -58.3668151216476 4.91606741869113, -58.3667146044837 4.91529361591336, -58.3667332995378 4.91475772587742, -58.3669501948993 4.91438019946733, -58.3671077269143 4.91400279567656, -58.3674036516446 4.9135655690421, -58.3675811735883 4.91328735512733, -58.3678572693251 4.91283032186166, -58.3681930110055 4.91251209157367, -58.3683512310435 4.91247207428356, -58.3686874185022 4.9123721518333, -58.3687856268275 4.91201471609715, -58.3689831382382 4.91183569366929, -58.3694771795351 4.91151713632217, -58.369852536065 4.91121867059517, -58.3701880328294 4.91078136137225, -58.3703155772904 4.91025517161004, -58.3704528328267 4.90963965343461, -58.3704720940138 4.90938161066119, -58.3703326483162 4.90892543134209, -58.3703521526282 4.90878646786884, -58.3708065353818 4.90842829907143, -58.3714977579151 4.90777194958157, -58.3721198660318 4.90718520389677, -58.3725146815372 4.90672792711498, -58.3726329998328 4.90652921983968, -58.3730872580595 4.90611151245349, -58.3734229940531 4.9057932811073, -58.373560938279 4.90551514909401, -58.3737769747135 4.90472085157798, -58.3739542893593 4.90434340708284, -58.3742305403502 4.90396575818997, -58.3742522895645 4.90398265299316, -58.3743170102725 4.90390660485743, -58.3744674853694 4.90365389346713, -58.3745426699159 4.90350229769599, -58.3746178562408 4.90335070282596, -58.3747294358474 4.90323832955365, -58.3747014474967 4.90318247490492, -58.3751960567326 4.90197914002789, -58.3755649903766 4.90132286525206, -58.3758854002766 4.90040986244742, -58.3764267549427 4.89952003980735, -58.3764164848113 4.89886075790624, -58.376463035235 4.89852435776995, -58.3767514851923 4.89818529372953, -58.3768290082303 4.89739128272041, -58.3768678920233 4.89705381583164, -58.3769440067798 4.89670240235826, -58.3768669979972 4.89661719847092, -58.3769648372288 4.89608114741556, -58.3769838930739 4.89572387505981, -58.3770421575204 4.89518790546213, -58.3770811225583 4.89489013100958, -58.3771990719849 4.89451280891938, -58.3774163233742 4.89431389816786, -58.3779106335024 4.8941342634365, -58.3784047799082 4.89387524455392, -58.3787604570616 4.8936363550525, -58.3795319058542 4.89351568828378, -58.379986843152 4.89343536477232, -58.380520725166 4.89325564691888, -58.380757679996 4.89301700323159, -58.3809154864574 4.89277852183162, -58.3813499040185 4.89234100736687, -58.3816362639673 4.8920724922546, -58.3817941115338 4.89185385695419, -58.3821295927153 4.89141654730437, -58.3822481098123 4.89131707150843, -58.3824260699493 4.89125716460287, -58.3826041522008 4.89125679703664, -58.3827206205435 4.89127991013692, -58.3831582100703 4.89109073872693, -58.3839788048006 4.89099757149014, -58.3840949830129 4.89098438038639, -58.3843846025226 4.89107450168734, -58.3848993469508 4.89121235939721, -58.3853148708176 4.89121150014475, -58.3859480908899 4.89123003644164, -58.3863041722738 4.89118960623778, -58.3871159242604 4.89142607924586, -58.38806569265 4.89142410982432, -58.3890350014655 4.89130302230761, -58.3903204890959 4.89098281460095, -58.3912301486889 4.89072292390112, -58.3916850805538 4.89064259336584, -58.3923178065692 4.89042297082749, -58.3926837596982 4.89037259386133, -58.3932375015062 4.89023251851071, -58.394246338733 4.89009149584261, -58.3950771352406 4.88997068775398, -58.3959273063413 4.88965137794065, -58.3970737418911 4.88907344914635, -58.3977260026309 4.88873470497578, -58.3982105092628 4.88860469273209, -58.3983221004601 4.88831509953647, -58.3984465073223 4.88790958551596, -58.3986238456767 4.8875519855105, -58.3987617343453 4.88725400615172, -58.3988403864463 4.88701568872801, -58.399136114984 4.88649907192115, -58.3992737563148 4.88608201645684, -58.3994118092122 4.88586342029082, -58.3995694010187 4.88552570762476, -58.3997270750488 4.88522768699641, -58.3998846675183 4.88488997343187, -58.4001467131721 4.8846706246254, -58.40037266592 4.88441775456423, -58.4005484478732 4.88424070809093, -58.4010260941998 4.8840125513494, -58.4013276432344 4.88381000125062, -58.4015790749194 4.88370851723038, -58.4019005014897 4.88373468719129, -58.4024341586675 4.88345572571688, -58.4024813495142 4.88341267998047, -58.4032248751632 4.88309684204771, -58.4039366085613 4.88281750722497, -58.4044902579423 4.88263773304278, -58.4051425488973 4.88231882952255, -58.4057555557579 4.88213893020804, -58.4061509942384 4.88199917935288, -58.4066651106729 4.88183933261048, -58.4069814853455 4.88173943826608, -58.4072975712445 4.88150062302506, -58.4077721961354 4.8813805504973, -58.4083258830057 4.88122061972493, -58.4086027672437 4.88116049968721, -58.4088596171787 4.88098134634097, -58.4088793210618 4.88094161292726, -58.4088568967273 4.88091082196012, -58.3463452198296 4.82440725886621, -58.3464899324725 4.82429389419326, -58.3466185088925 4.82416440767231, -58.346811343397 4.8239540245526, -58.3470042724073 4.8237921018017, -58.3471970102512 4.82353325643964, -58.3473897470613 4.82327441196811, -58.3475343646307 4.82311258499397, -58.3476627813787 4.82290232958495, -58.3477751583729 4.82272441364539, -58.3479251579805 4.82229999156076, -58.3482649574842 4.82202882280853, -58.3483613255296 4.82189940098603, -58.3484897746184 4.8217052983983, -58.3486021822124 4.82154353618833, -58.3487306302816 4.82134943449725, -58.3489234943819 4.82115520401652, -58.3490679518312 4.8209126090767, -58.3492125357843 4.82073462823642, -58.3494858551817 4.82050793030883, -58.3497752458258 4.82026504658919, -58.3500004444133 4.82013536788871, -58.3503222982741 4.82002165091097, -58.3507728553319 4.81984306280767, -58.3511990634003 4.81956759825526, -58.3513437741485 4.81945423304608, -58.3516654357863 4.81924359316864, -58.3518584260959 4.81911397808693, -58.3521800873763 4.81890333805348, -58.3524534678655 4.81870894686614, -58.3526623703592 4.81848237631989, -58.3529517907878 4.81825564642398, -58.353225171665 4.81806125505556, -58.3534986482396 4.81791532479212, -58.3537721895042 4.81780170370254, -58.3539814419802 4.81775282478296, -58.3541747510347 4.81778474738102, -58.3543359815282 4.81788134894478, -58.3546261046157 4.81801000122879, -58.3548919765086 4.81809024125587, -58.355214052924 4.81808959844058, -58.3555523285474 4.81813738540182, -58.3559227145873 4.81813664592334, -58.3560675850251 4.81810404854173, -58.3561801511266 4.81802305607015, -58.356308756373 4.81790972224515, -58.3564373304502 4.81778023379686, -58.356501392842 4.81760241364127, -58.3565171758071 4.81744084447579, -58.356516695451 4.81719853710571, -58.3565323183177 4.81695619761217, -58.356596476731 4.81682683858362, -58.3566606991727 4.81672978786665, -58.3568859277681 4.81661626126773, -58.3571113796005 4.81661581142435, -58.3573531597702 4.81672840525703, -58.3575143261229 4.81679269861814, -58.3577236738646 4.81679227979657, -58.3579489663103 4.81671106118372, -58.3580776671511 4.81664618825414, -58.3582546793013 4.81658121972911, -58.3584961718427 4.8165484298838, -58.3587134752519 4.81649953362591, -58.3589065592571 4.81641837819383, -58.3591640585736 4.81633709399713, -58.3593248059902 4.81619138809297, -58.359485554238 4.81604568216778, -58.3596624385576 4.81591609771642, -58.3597911711072 4.81586737823213, -58.3599361039677 4.81586708848186, -58.3600649987673 4.81589913825912, -58.3601939238703 4.8159473416921, -58.360419310959 4.81591458345784, -58.3605640520355 4.8158173705995, -58.3607086958299 4.81567169669365, -58.3608371400872 4.81547759396071, -58.361013958801 4.81531570192214, -58.3611264594805 4.81520239976386, -58.3612871749307 4.81504053991021, -58.3613996746183 4.8149272377333, -58.3615604541905 4.81479768519315, -58.3616891229609 4.81471665810323, -58.361866037659 4.81460322696068, -58.3619786032425 4.81452223206786, -58.3620911348579 4.81442508349951, -58.3621876606573 4.81437642906419, -58.3623486327747 4.81434379931668, -58.3624451576323 4.81429514395057, -58.36255772218 4.81421414990127, -58.362734605317 4.81408456494339, -58.3628310667011 4.81400360221229, -58.3629275593136 4.81393879404255, -58.3630241492678 4.81392244594355, -58.3631208026287 4.8139384069652, -58.363201352904 4.81395439842287, -58.363330310719 4.81401875496317, -58.3634431654706 4.81408314464288, -58.3635721545903 4.8141636547836, -58.3636688723185 4.81421192212427, -58.3637976693346 4.81419551026677, -58.3639102336442 4.81411451513913, -58.3639905586867 4.81401743090533, -58.3640547153728 4.8138880716401, -58.364150950369 4.81369403409956, -58.3641506616574 4.81354864939944, -58.364182546907 4.81338704829555, -58.3642144965057 4.81325775359758, -58.3642787165687 4.81316070165001, -58.3643429062392 4.81304749604433, -58.3643910884816 4.81298278458492, -58.3644714777156 4.81291800765349, -58.364567969983 4.81285319933671, -58.364680662733 4.81283681877197, -58.3648337441007 4.81288497296493, -58.3649627661407 4.8129816374142, -58.3650595490168 4.81306221277804, -58.3651402592578 4.8131589731689, -58.3652209704244 4.81325573354159, -58.3653018113359 4.81341710938742, -58.365382651392 4.81357848521386, -58.3654151160824 4.81370764976036, -58.365528099723 4.81383665363351, -58.3656248505767 4.81390107521733, -58.3657538397956 4.81398158488148, -58.3658988050198 4.81399744761523, -58.3661241915873 4.81396468774666, -58.3662850655658 4.813883595326, -58.3665747362246 4.81378609053528, -58.3667196691332 4.81378579855921, -58.3668324586097 4.81381787942232, -58.3669292417766 4.81389845442189, -58.3670260240617 4.81397902849842, -58.3671228081715 4.81405960255088, -58.3673000439908 4.81410770753058, -58.3674772484636 4.81413965882353, -58.3676543875085 4.81413930280651, -58.3677991913555 4.81407439696574, -58.3678633472207 4.81394503664053, -58.36791143139 4.81383186412554, -58.3679433488646 4.81368641581825, -58.3679590960504 4.81350869172611, -58.3679587411102 4.81333100181033, -58.3679582571203 4.81308869647374, -58.3679901082618 4.81291094092004, -58.3680703688648 4.81278154824348, -58.3681828345793 4.81265209173493, -58.3682793272176 4.8125872830003, -58.3683757866611 4.81250631972814, -58.3684400400595 4.81242542210055, -58.3684962083122 4.81232838613092, -58.3685441964078 4.81216675184604, -58.3686244236667 4.8120212064375, -58.3687692583453 4.81197245326169, -58.3689464299163 4.8119882506893, -58.3691397690508 4.81203632292425, -58.3693008035302 4.81203599902298, -58.3694456713187 4.812003400238, -58.3696065774839 4.81193846088747, -58.3698479043572 4.81182489864204, -58.3699926742309 4.81174383891531, -58.3702018910034 4.81167880223521, -58.3703788676458 4.81159767672083, -58.370700744105 4.81150010577906, -58.371070607879 4.81124090043264, -58.3713921597666 4.81098179227098, -58.3715850458667 4.81080371246626, -58.3717296212204 4.81062572995726, -58.3720427657608 4.81018894732358, -58.3721873732258 4.81002711748264, -58.3723480188581 4.80983294888459, -58.3725407749935 4.80959025366491, -58.3727336604135 4.80941217372529, -58.3728943713721 4.80925031227312, -58.3730552440472 4.8091692187847, -58.3731838119879 4.80903972941377, -58.3733767618034 4.80889395656962, -58.3735214666906 4.80878058828994, -58.3736821764029 4.80861872674652, -58.3739555459666 4.80842433066605, -58.3740841468678 4.80831099479891, -58.3742288182182 4.80818147284908, -58.374405696149 4.80805188500829, -58.3746710457506 4.80787365858966, -58.374799678808 4.80777647623411, -58.3748962014869 4.80772781960987, -58.3749765889014 4.80766304279266, -58.3750569762997 4.80759826597021, -58.3750890209271 4.80751743215337, -58.3750887293704 4.80737204900119, -58.3750883730357 4.80719435868196, -58.3750721064257 4.80711362326408, -58.3750236350434 4.80703295282893, -58.3749267552879 4.80690391820607, -58.3748460764655 4.80682331272959, -58.3747815004955 4.80674267384866, -58.3747007245684 4.80661360758593, -58.3746520904797 4.80645216826538, -58.374635793385 4.80635527832084, -58.3745872555708 4.80624230065229, -58.3745547576537 4.8060969824172, -58.3745383958505 4.80596778528793, -58.3744897609843 4.80580634593052, -58.3744412241574 4.80569336822994, -58.3744088557958 4.80561266522807, -58.3743442800199 4.80553202625543, -58.3742957441461 4.80541904762492, -58.3742472721145 4.80533837707185, -58.3742310066057 4.80525764158675, -58.3742307477275 4.80512841196238, -58.374262792431 4.80504757818393, -58.3743432767657 4.8050312613731, -58.3744076897614 4.80503113241813, -58.374504309249 4.80503093761766, -58.3745527498087 4.80509545456101, -58.3745850525067 4.805143850386, -58.3746013513201 4.80524074034179, -58.3746337844118 4.80535375050826, -58.3746663146363 4.80551522233485, -58.3747148514765 4.80562820091735, -58.3747955948601 4.8057411136287, -58.3748762735164 4.80582172005629, -58.3750213346692 4.80588604203554, -58.3751018505378 4.80588587960239, -58.3751984377306 4.8058695310859, -58.3752948962593 4.805788567321, -58.3753591158611 4.80569151585717, -58.3754231725915 4.80551369467673, -58.3754307377025 4.80527137380134, -58.3753660971054 4.80515842778549, -58.3753337286888 4.80507772394592, -58.3753013279006 4.80498086742407, -58.3753010688376 4.80485163876137, -58.3753169449441 4.8047385293883, -58.3753649960382 4.80460920327023, -58.3754452859585 4.80449596485918, -58.3755256073397 4.80439888093365, -58.3756381036584 4.80428557753918, -58.3757345943381 4.80422076827195, -58.3759114710645 4.80409118040072, -58.3759757552556 4.80402643519779, -58.3760884125098 4.80399390056258, -58.3762010706501 4.80396136590999, -58.3762334723673 4.80405822327179, -58.3762497704293 4.80415511222904, -58.3762339583666 4.80430052782858, -58.3761859083623 4.80442985485834, -58.3761216898684 4.80452690633418, -58.3760574380602 4.80460780513731, -58.3760414972762 4.80468860552752, -58.3760256536902 4.80481786755651, -58.376090163823 4.80486619918084, -58.3761707128403 4.80488219023097, -58.376235029457 4.80483359856727, -58.3763153831295 4.80475266724199, -58.3763956395645 4.80462327609041, -58.3764759616869 4.80452619027699, -58.3766366382831 4.80434817492782, -58.3767492000882 4.80426717945408, -58.3768938701383 4.80413765731314, -58.3771029529567 4.80400800507039, -58.3771994425038 4.80394319474368, -58.377328107815 4.8038621666869, -58.3774568361404 4.80381344575537, -58.377585532011 4.80374857033252, -58.3777142945181 4.80371600202249, -58.3779557780063 4.80368320682605, -58.3780684034835 4.80363451834012, -58.3781326225 4.80353746497104, -58.3781646666723 4.80345663206347, -58.378180477443 4.80331121654082, -58.3781963215584 4.80318195548564, -58.3781800557336 4.80310121930434, -58.3781315835639 4.80302054820209, -58.3780428856837 4.8029561138117, -58.3779622071956 4.80287550776248, -58.3779620774698 4.80281089349982, -58.3779618504521 4.80269781763544, -58.3780100622146 4.80264925933706, -58.3780744748853 4.80264912919567, -58.3783482309681 4.80264857511801, -58.3785414374032 4.80263203011186, -58.378670263614 4.80263177062618, -58.3787667861434 4.80258311373197, -58.3788794104649 4.80253442518095, -58.3790563509306 4.80243714480483, -58.3791044985718 4.80235627933828, -58.3791203425345 4.80222701741021, -58.3791200495449 4.80208163448489, -58.379184203395 4.80195227488616, -58.3792323825523 4.80188756207849, -58.3793288400179 4.8018065989361, -58.3794252649994 4.80170948132582, -58.3794894827854 4.80161242883708, -58.3795375978772 4.80151540981394, -58.3795534733389 4.80140230145913, -58.3795532136695 4.80127307301507, -58.3795047091005 4.8011762484596, -58.3794723721306 4.80111169935589, -58.3794238675893 4.80101487478766, -58.3793753639679 4.80091805111435, -58.3793429621251 4.80082119397824, -58.3792783540686 4.80072440284582, -58.3792297522555 4.80057911757275, -58.3790924529333 4.80036939705878, -58.3790117107727 4.80025648395446, -58.3789471028299 4.80015969276034, -58.3789308379969 4.80007895659304, -58.378914571369 4.79999822133208, -58.3789304803099 4.79990126652606, -58.3789786603092 4.79983655376533, -58.3790751491313 4.79977174428991, -58.3791556326079 4.79975542802395, -58.3792200458775 4.79975529785087, -58.3793327670666 4.79975507003745, -58.3794938646676 4.7997870516658, -58.3796227551908 4.79981909836135, -58.3797515799098 4.79981883701674, -58.3798643028889 4.7998186100133, -58.380025301311 4.79980212994488, -58.3802344480049 4.79970478437849, -58.3802825629181 4.7996077644621, -58.3802823681356 4.7995108431539, -58.3802499663005 4.79941398607476, -58.3801532170983 4.79934956725381, -58.3800403337331 4.79926902741781, -58.3799436161183 4.79922076211095, -58.3798630362931 4.79918861778166, -58.379782422219 4.79914031898488, -58.3797018415067 4.79910817553777, -58.3796534353998 4.79905981251918, -58.379637233638 4.79901138349835, -58.379669213564 4.79889824260372, -58.3797334960514 4.79883349728102, -58.3798461530713 4.79880096321966, -58.3799749784887 4.79880070188619, -58.3801359766709 4.79878422276522, -58.3802647046976 4.79873550162678, -58.3803772642669 4.79865450412295, -58.380521965896 4.79854113527834, -58.380618390336 4.7984440185759, -58.380730916445 4.79834686930062, -58.3808273732935 4.79826590522835, -58.380939931809 4.79818490857824, -58.3810203509616 4.79813628506224, -58.381149077866 4.79808756290668, -58.3812778381264 4.79805499517988, -58.3814066633277 4.7980547345211, -58.3815837655966 4.7980382225322, -58.3817285958983 4.79798946769556, -58.3818251491159 4.79795696415648, -58.3819376767401 4.79785981474962, -58.3820341324438 4.79777885056835, -58.3821223414224 4.79760098144136, -58.3821542875114 4.79747168702524, -58.3821860061437 4.79722931783477, -58.382185681221 4.79706778153563, -58.3822015563362 4.7969546732606, -58.3821851604654 4.79680932309541, -58.3821527279412 4.79669631350073, -58.3821364936382 4.79663173193514, -58.3820880226605 4.7965510610997, -58.3820396148611 4.79650269734256, -58.3820073114182 4.79645430189487, -58.3819427695117 4.79638981897814, -58.3818943626357 4.79634145520242, -58.3818459241918 4.79627693878161, -58.3818296899349 4.79621235629234, -58.3818456309893 4.79613155599878, -58.3818776745787 4.79605072312571, -58.3819581250023 4.79601825222669, -58.3820708463492 4.79601802413657, -58.3821513942062 4.79603401474365, -58.3822480779855 4.79606612628909, -58.3823770327206 4.79613048061415, -58.3826670507235 4.79621066064521, -58.3828603199413 4.79622642294105, -58.3830051497313 4.79617766887213, -58.383117610997 4.79604821142862, -58.3831978662727 4.79591881920193, -58.3832620831169 4.79582176665269, -58.383310196525 4.79572474671623, -58.3833582783167 4.79561157415045, -58.3834948945571 4.79548206776871, -58.3836394305897 4.79528793004238, -58.3837679299811 4.79512613288834, -58.3838964618334 4.7949804892557, -58.3839928193629 4.79485106439033, -58.3841052811538 4.79472160779862, -58.38428202365 4.79452740477915, -58.3844265927181 4.79434942143156, -58.3845551559235 4.79421993128071, -58.3846675840799 4.79407432022819, -58.3847800121923 4.79392870917042, -58.3848603645629 4.79384777747107, -58.3849567226758 4.79371835256239, -58.3850853498394 4.79362116941698, -58.3851819031106 4.79358866652541, -58.3853107272616 4.79358840537278, -58.3854235140394 4.79362048388109, -58.3854880223973 4.79366881384236, -58.3854881209372 4.79371727439594, -58.3854882836719 4.7937980428925, -58.3855046474135 4.79392723838661, -58.3855692227149 4.79400787626607, -58.3856659053009 4.79403998736758, -58.3857786261461 4.79403975875974, -58.3858590434899 4.7939911349095, -58.3859394608187 4.79394251014861, -58.3859876397607 4.79387779809849, -58.3860680245045 4.79381301981438, -58.386148409234 4.79374824242949, -58.3862609997487 4.79368339879897, -58.3863413835403 4.79361862140261, -58.3864218333499 4.7935861501191, -58.3865022840531 4.79355367973085, -58.3865665653562 4.79348893408603, -58.3865824723795 4.79339198034607, -58.3865823095302 4.79331121188611, -58.3865660433459 4.79323047700399, -58.3865498106371 4.79316589562975, -58.3865174411284 4.79308519341587, -58.3864930581634 4.79297216603047, -58.3864929288066 4.79290755198097, -58.3865250368749 4.79285902610784, -58.3865732148019 4.7927943140543, -58.3866375937462 4.79277802895703, -58.3867664185673 4.79277776757229, -58.3868469324991 4.79277760419769, -58.3869435506561 4.79277740813277, -58.38705630381 4.79279333288243, -58.3871529219588 4.79279313588283, -58.3872495075259 4.79277678717164, -58.3873138203677 4.79272819500481, -58.3873458640965 4.79264736119353, -58.3873456686027 4.7925504401562, -58.387264893176 4.79242137552901, -58.3872003188261 4.79234073781883, -58.3871196402779 4.79226013277989, -58.3870550976347 4.79219564946092, -58.3869905884759 4.79214731963926, -58.3868453682718 4.79200223211382, -58.3867807940132 4.79192159433732, -58.3867322561503 4.79180861776891, -58.3867481966406 4.79172781664304, -58.3867641045676 4.79163086200707, -58.3867961148927 4.79153387561086, -58.3868603634631 4.79145297648746, -58.3869245794573 4.79135592475696, -58.3869889265953 4.79132348615633, -58.3870532728261 4.79129104845762, -58.3871659605835 4.79127466533936, -58.3873590978235 4.79122581270988, -58.3874716887236 4.79116096902649, -58.3875520395568 4.79108003809636, -58.3876001856123 4.79099917162, -58.387632163227 4.79088603172061, -58.3876802441088 4.79077285823531, -58.3877445250865 4.7907081134867, -58.3878249093208 4.79064333514578, -58.3879053261224 4.79059471120741, -58.3880019104421 4.79057836067682, -58.3880663551975 4.79059438432542, -58.3881630046822 4.79061034077627, -58.3882597202536 4.7906586060208, -58.3883403651583 4.79072305654178, -58.3884049394022 4.79080369324879, -58.3885098696368 4.79093270958964, -58.3885583415503 4.79101337897229, -58.3885908080074 4.79114254245423, -58.3886394429702 4.79130398021776, -58.3887523923758 4.79141682663239, -58.3888329395893 4.79143281566053, -58.3889133889724 4.79140034509454, -58.3889775720048 4.79128713885661, -58.3890095493723 4.79117399805131, -58.3890415267359 4.79106085815164, -58.3890897051974 4.7909961451166, -58.3891700557717 4.79091521405683, -58.3892505059736 4.79088274256666, -58.3893148520029 4.79085030560199, -58.3893952360486 4.79078552711485, -58.3894595494383 4.79073693574415, -58.3895237975739 4.7906560355769, -58.3895719759647 4.79059132343296, -58.3896039858479 4.79049433612722, -58.3896843372041 4.79041340503866, -58.3897808244152 4.79034859470729, -58.3898773424271 4.79029993695666, -58.3900222363228 4.79028348887473, -58.3901671954683 4.79029934773991, -58.3902799807558 4.79033142554234, -58.3904088692951 4.79036347057886, -58.3905216545937 4.790395548335, -58.3906183375533 4.79042765881762, -58.3907472578552 4.79047585726604, -58.3908601420269 4.79055639540346, -58.390876440282 4.79065328354594, -58.3909570853436 4.79071773459136, -58.3910861372455 4.79083054778059, -58.3911988908651 4.79084647100629, -58.3913115129318 4.79079778119907, -58.3914402055587 4.79073290422343, -58.3915688972564 4.79066802813674, -58.3916653842398 4.79060321667671, -58.3917619356472 4.79057071306807, -58.3918585532919 4.7905705163988, -58.3920196147663 4.79058634115821, -58.3921405497671 4.79066686264481, -58.3923178125543 4.7907311167653, -58.3925272809431 4.79079530433379, -58.3927689549358 4.7908594262224, -58.3929944275993 4.79087512041724, -58.3932521394389 4.79090690237187, -58.3934776120813 4.79092259549513, -58.3936708464224 4.79092220163116, -58.3938640489253 4.7909056542487, -58.3940250440329 4.79088917157882, -58.3941860400253 4.79087268977581, -58.394331030972 4.79090470115414, -58.3945565371785 4.79093654827435, -58.3947175986205 4.79095237325905, -58.3948304504142 4.79101675712578, -58.3949110957616 4.79108120667903, -58.3949596001615 4.79117802974603, -58.3950082701462 4.79135561916732, -58.3950407705179 4.79150093634184, -58.3951055756703 4.79169464633413, -58.3951380760961 4.79183996258751, -58.3951705119224 4.79195297192774, -58.3951869091335 4.79209832013399, -58.3951711344164 4.79225988933437, -58.3951714292961 4.79240527131041, -58.3951717241831 4.79255065238143, -58.3952041600818 4.79266366170638, -58.3952848056913 4.79272811205023, -58.3953492169589 4.79272798054928, -58.3953974275411 4.79267942066229, -58.3953972309117 4.79258249995805, -58.395413137544 4.79248554456818, -58.3954129072486 4.79237247041518, -58.3954610850365 4.79230775708139, -58.3954931267917 4.79222692407807, -58.3955412717944 4.79214605819796, -58.3955894486563 4.79208134486471, -58.3956053880449 4.79200054473868, -58.3955808726877 4.79182290429892, -58.3955645400561 4.79170986302523, -58.3955482729714 4.79162912864949, -58.3955480435946 4.791516053594, -58.3955800197917 4.79140291279411, -58.3956443007538 4.79133816750142, -58.3957569223637 4.79128947703067, -58.395885711826 4.79127305966017, -58.3959984654026 4.79128898204016, -58.3961112508587 4.79132105875268, -58.39622400354 4.79133698290229, -58.3963528594478 4.7913528732364, -58.3964977521035 4.79133642376443, -58.3966587151751 4.79130378701885, -58.3967875054725 4.79128737038644, -58.3969162301594 4.7912386459455, -58.3970933282827 4.79122213055225, -58.397270427284 4.79120561420936, -58.3973670447903 4.79120541673577, -58.3974475918852 4.79122140560181, -58.3975603436148 4.79123732952854, -58.397689265091 4.79128552557371, -58.3978020514458 4.79131760198241, -58.397914771261 4.79131737150345, -58.3980114215802 4.79133332736746, -58.3981079405953 4.79128466948621, -58.3981882569956 4.7911875833303, -58.3982684429633 4.79102588344317, -58.3983004843326 4.7909450495149, -58.3983324928702 4.79084806306031, -58.3984129085902 4.79079943809571, -58.3985094594249 4.79076693271478, -58.3985576367893 4.79070221927791, -58.3985574397964 4.79060529869932, -58.3985251349122 4.79055690428436, -58.3984767286423 4.79050854279835, -58.3984282549208 4.79042787444904, -58.3984118900141 4.790298679029, -58.3984599360627 4.79016935188246, -58.3985725243404 4.79010450672617, -58.3986690094135 4.79003969539869, -58.3987493584529 4.78995876266799, -58.3987974381598 4.78984558894865, -58.3988937261692 4.78968385613422, -58.3989819297224 4.78950598636169, -58.399030074146 4.78942512040543, -58.3991103254736 4.78929572738285, -58.3991905767735 4.7891663334548, -58.3992387202545 4.78908546749909, -58.3992707295366 4.78898848015335, -58.399302737012 4.78889149371659, -58.3993186422336 4.78879453931811, -58.3992702360844 4.78874617786586, -58.3992058252977 4.78874630962698, -58.3991092082146 4.78874650816354, -58.3990609653326 4.78877891382885, -58.3989966858562 4.78884365928149, -58.3988840978106 4.78890850443777, -58.3988035838439 4.78890866909928, -58.3987069995432 4.78892502011087, -58.3986265192919 4.78894133818036, -58.3985137661794 4.78892541523354, -58.3984493225374 4.78890939349704, -58.3984170505903 4.78887715248066, -58.3983524756935 4.78879651700486, -58.3983362093708 4.78871578276257, -58.3983359131493 4.78857040096983, -58.3983840895384 4.78850568758328, -58.3984805425413 4.78842472200239, -58.3985608923795 4.78834379024148, -58.3986089711842 4.78823061655605, -58.3986892216318 4.7881012245024, -58.3987534026372 4.78798801699137, -58.3988659258384 4.78789086594021, -58.3989946159761 4.78782598881065, -58.3991552168987 4.78761566314769, -58.3992677719023 4.78753466458762, -58.3994448031999 4.78748584112477, -58.3996219338688 4.78748547879763, -58.3997346858084 4.78750140253027, -58.3998314668958 4.78758197197304, -58.3998961412006 4.78771106755836, -58.3999285764491 4.78782407651599, -58.3999930856691 4.78787240497553, -58.400057530102 4.78788842658312, -58.400138011056 4.78787210838895, -58.400202323179 4.78782351540065, -58.4002342657013 4.7876942212262, -58.4002662091215 4.78756492795588, -58.4002818505213 4.7873387462273, -58.4002893427365 4.78706411981278, -58.4002890799555 4.78693489245697, -58.400256381974 4.78669265525572, -58.4002239467836 4.78657964631017, -58.4001754404629 4.78648282463414, -58.4001430053047 4.78636981567728, -58.4000138221206 4.78619239068574, -58.3999169427645 4.78606336094707, -58.3998038627816 4.78588590203824, -58.3997069506907 4.78574071882039, -58.3996100395471 4.78559553557437, -58.3994485511845 4.78536971506204, -58.399383878199 4.78524061843045, -58.3993031021811 4.78511155470314, -58.3992383308323 4.78493399866295, -58.3991171660302 4.78474040346366, -58.3990524922915 4.7846113076691, -58.3990200246792 4.78448214514359, -58.3990677416083 4.78419128289076, -58.3991158530282 4.78409426269491, -58.3992444441139 4.78398092453771, -58.3994052749291 4.78388367487547, -58.3995017591865 4.7838188627935, -58.3996142808349 4.78372171184054, -58.3997268024484 4.78362455997375, -58.3998714963538 4.78351118793112, -58.4000000552804 4.78338169717791, -58.4000804372877 4.78331691797037, -58.4001285157013 4.78320374433839, -58.4001444537244 4.78312294520892, -58.4000798785058 4.78304230888149, -58.399966996087 4.7829617722017, -58.3998702823152 4.78291350852398, -58.3998057718636 4.78286517991084, -58.3996928904003 4.78278464316567, -58.3996765896705 4.7826877555239, -58.399708631654 4.78260692167114, -58.3999097834114 4.78254189567289, -58.4000546083452 4.78249313826113, -58.4001510923601 4.78242832706463, -58.4002797823369 4.78236345001673, -58.4003762334877 4.78228248447433, -58.4005048249472 4.78216914623294, -58.4006657198915 4.78210420238192, -58.400810413342 4.78199083208398, -58.4009230001727 4.7819259869834, -58.40103548849 4.78181268162026, -58.4011318747042 4.78169941008923, -58.4012121250862 4.78157001626785, -58.4012601038553 4.78140838239705, -58.4012920133888 4.78126293578477, -58.4013561944874 4.78114972831875, -58.4014365423882 4.78106879655385, -58.4015651653833 4.78097161254703, -58.4016453827893 4.7808260662125, -58.4017256330054 4.78069667329041, -58.4017576081189 4.78058353261234, -58.4020226105859 4.78024376465673, -58.4020868562856 4.78016286581328, -58.4021832421304 4.78004959334334, -58.4022636235605 4.77998481404806, -58.4024083491545 4.7798875970221, -58.4025048006076 4.77980663134789, -58.4026334889128 4.77974175315952, -58.4027460751807 4.77967690881812, -58.4029070021048 4.77962811807409, -58.4030035191731 4.77957946006966, -58.4031483102743 4.77951454974839, -58.4032608964363 4.77944970444275, -58.4035021715836 4.77931998081781, -58.403598687647 4.77927132275605, -58.4036790350532 4.77919039086584, -58.403807691113 4.779109360026, -58.4039524500224 4.77902829437687, -58.4040489002402 4.77894732947843, -58.4041775561973 4.77886629769038, -58.4042901092402 4.77878529887859, -58.404418732244 4.77868811366746, -58.4045312843262 4.77860711664325, -58.4046437723948 4.77849381010484, -58.4047401895521 4.77839669085686, -58.4048366075856 4.77829957250559, -58.4049169547223 4.77821863963981, -58.4050293430752 4.77805687471269, -58.4050935562109 4.77795982054537, -58.4052141933134 4.77789495944695, -58.4053429796209 4.7778785419969, -58.4054717668169 4.7778621245226, -58.4055683162937 4.77782961876345, -58.4056648319465 4.77778095960877, -58.4057291107863 4.77771621399599, -58.4057772200448 4.77761919372544, -58.4058091935436 4.77750605399276, -58.4058250669049 4.77739294727395, -58.405824836529 4.77727987267076, -58.405921285362 4.77719890673926, -58.4060500723901 4.77718248919751, -58.4061467534001 4.7772145978303, -58.4061952246805 4.7772952656744, -58.4062436977788 4.77737593441224, -58.406308239899 4.77744041582891, -58.4064050846753 4.77755329131974, -58.4065019633168 4.77768232107038, -58.4065987752305 4.77777904313373, -58.4067439286321 4.77789181942707, -58.4068407085723 4.77797238896132, -58.4069535584343 4.77803677114448, -58.4070665062493 4.77814961433849, -58.4071955889944 4.77827857691969, -58.4073407755409 4.77840750730394, -58.4075181998999 4.77855252488548, -58.4076633865575 4.77868145426113, -58.4079053195768 4.77887479952793, -58.4081794245605 4.7790519242284, -58.4083728861328 4.77916460166504, -58.4085662808782 4.77924497139441, -58.4087596426625 4.77930918769149, -58.4090900410858 4.77945388933072, -58.4092512311226 4.77953432503358, -58.4093801833553 4.77959867446443, -58.4095252384687 4.779662989839, -58.4096381208913 4.779743525685, -58.4097510033357 4.77982406060001, -58.4098316809709 4.7799046617462, -58.4098802867868 4.78004994256038, -58.409945026732 4.78021134539847, -58.4100418733766 4.7803242200734, -58.4101549872008 4.78051782925992, -58.4102841048656 4.78066294429948, -58.4104936030311 4.7807432810493, -58.4106224894748 4.7807753225375, -58.4108159509067 4.78088799811477, -58.4108805268091 4.7809686331235, -58.4109612047106 4.78104923405525, -58.411074186684 4.7811782286815, -58.4112032385298 4.7812910376632, -58.4112678145166 4.78137167170546, -58.4114614746282 4.78158126798751, -58.4116470190586 4.78175857408191, -58.4117599351223 4.78185526274033, -58.4118567813973 4.78196813699878, -58.4119698298732 4.78212943896482, -58.4120505089417 4.78221003968571, -58.4121632596672 4.78222596063838, -58.412259875294 4.78222576143365, -58.4123564569159 4.78220940797508, -58.412436870334 4.78216078284365, -58.4124850788363 4.78211222231028, -58.4125171513346 4.78204754255091, -58.4125170189337 4.78198292830004, -58.4125167872399 4.7818698549434, -58.4125326906385 4.78177290081493, -58.4125162898666 4.78162755308521, -58.4125160912847 4.78153063215982, -58.4125158927068 4.78143371123416, -58.4125318301141 4.78135291225123, -58.4125962058392 4.78133662520143, -58.4126767193439 4.78133645917711, -58.4127250932847 4.78136866622968, -58.4129024531012 4.78148137517506, -58.4129830310232 4.78151351578065, -58.4130635445331 4.78151334880035, -58.413144056239 4.7815131827187, -58.4132083666255 4.78146458984975, -58.4132726447905 4.78139984364389, -58.4133368898274 4.78131894319985, -58.4134174015011 4.78131877709284, -58.4134818783353 4.78135095085816, -58.4135303507544 4.78143161783368, -58.4135627883545 4.78154462559034, -58.4135791553087 4.781673819903, -58.4135954909538 4.78178685997566, -58.4135957559466 4.78191608751323, -58.4136284245868 4.78214216946323, -58.4136448256278 4.7822875161866, -58.4136772955548 4.78241667724775, -58.413709733269 4.78252968406901, -58.4137904116416 4.78261028541599, -58.4139193315675 4.78265847945947, -58.4140320160426 4.78264209341822, -58.4141124956048 4.7826257729522, -58.4142090449189 4.78259326680694, -58.4142410840951 4.78251243278034, -58.4142248154829 4.78243169940901, -58.4141924448847 4.78235099928317, -58.414160106535 4.78228645248019, -58.4141760768648 4.78222180502841, -58.4141920131537 4.78214100515847, -58.41425629034 4.78207625796769, -58.4143367035436 4.7820276317529, -58.4144655239176 4.78202736484208, -58.4146104471698 4.7820270655552, -58.4147553363592 4.78201061291862, -58.4149324644502 4.78201024704637, -58.4150774539872 4.78204225339477, -58.4152707826336 4.78209031502501, -58.4153674312764 4.78210626779986, -58.4154319745701 4.78217074796423, -58.4154965833185 4.78226753565635, -58.4155129184078 4.78238057649004, -58.4154969822857 4.78246137634586, -58.4154005657878 4.7825584968185, -58.4152476905327 4.78260727379936, -58.4151349738854 4.78260750580622, -58.4150384909819 4.78267232051578, -58.4149419757944 4.7827209800871, -58.4148776977459 4.78278572643728, -58.4147973508444 4.78286665936998, -58.4147492428929 4.78296367999225, -58.4147173364127 4.78310912731298, -58.4146693601747 4.7832707612231, -58.4146536229164 4.78344848192317, -58.4147023950313 4.7836745304185, -58.4147510677003 4.78385211713032, -58.4148158765053 4.78404582477935, -58.4148645160893 4.78420725995443, -58.4149291582196 4.78432020007575, -58.4149938012763 4.78443314018243, -58.4151066518405 4.78449752137757, -58.4152355389965 4.78452956172205, -58.4154289356616 4.78460992881749, -58.4156223000689 4.78467414252918, -58.4157351175114 4.78472236937387, -58.4158802063373 4.78480283621074, -58.4159608529342 4.78486728382924, -58.4159771550808 4.78496417038726, -58.4160095924837 4.78507717785003, -58.4160902714299 4.78515777784725, -58.4162352616559 4.78518978463918, -58.4163481115172 4.7852541646544, -58.4165575781775 4.78531834470301, -58.4167669784144 4.78535021806526, -58.4169924151416 4.78534975141476, -58.4171212350883 4.78534948472614, -58.4172178518466 4.78534928469005, -58.4172984303257 4.78538142458998, -58.4173790097096 4.78541356357194, -58.4174756588042 4.78542951679891, -58.4175883776014 4.78542928426585, -58.4176849260573 4.78539677666225, -58.4177008951183 4.78533213011702, -58.41770076214 4.78526751601771, -58.4177006624089 4.78521905612142, -58.4176683568077 4.78517066292611, -58.4176360530147 4.78512226972413, -58.4175876121516 4.78505775656923, -58.4175552733272 4.78499320915948, -58.417555107134 4.78491244175549, -58.4176355202624 4.78486381512788, -58.4177804430099 4.78486351499483, -58.4179092969691 4.78487940148058, -58.4180139965371 4.78489533797527, -58.418078440592 4.78491135784492, -58.4181751561051 4.78495961758062, -58.41823969903 4.78502409822368, -58.4183203448925 4.78508854368343, -58.4184975732846 4.78513663653364, -58.4185780195984 4.78510416310027, -58.4186583652045 4.78502322888076, -58.4187225764084 4.78492617563971, -58.4187223768158 4.78482925498482, -58.4187060743112 4.78473236860571, -58.4186898059774 4.7846516346104, -58.4186896054994 4.78455471395522, -58.4187056418906 4.78452237490547, -58.418770018474 4.78450608723006, -58.4188505644989 4.78452207456728, -58.4189150085124 4.78453809436292, -58.4189955878071 4.78457023406656, -58.4190761662054 4.7846023737603, -58.4192211895337 4.78465053320191, -58.4193178052024 4.78465033199616, -58.4194627943628 4.78468233899808, -58.4195433071147 4.78468217114793, -58.4196882297038 4.78468187062246, -58.4198975630173 4.78468143647453, -58.4200263169875 4.78464886180487, -58.4200906602203 4.7846164216332, -58.4201871417583 4.78455160808606, -58.4202836241756 4.78448679362434, -58.4203801389719 4.7844381324365, -58.4204766546549 4.78438947214156, -58.420573136115 4.78432465855988, -58.4206696517609 4.78427599734198, -58.4207339292 4.78421124966679, -58.4207497980371 4.78409814330807, -58.4207014236593 4.78406593699352, -58.4206047424236 4.78403383090606, -58.4205402984685 4.78401781126695, -58.4204114456638 4.78400192524441, -58.4203147302398 4.78395366492568, -58.4202663225927 4.78390530619422, -58.4202661552182 4.78382453888484, -58.4203303993839 4.78374363887138, -58.4204591189501 4.78369491180392, -58.4206362137311 4.78367839014471, -58.4207972389189 4.78367805603769, -58.4209421612158 4.7836777544054, -58.4211031197572 4.78364511367535, -58.4213605928544 4.78356381164181, -58.4215777438521 4.78345028655798, -58.4217063308153 4.78333694621046, -58.4218027786606 4.78325597745234, -58.4218831578551 4.78319119719999, -58.4219796056587 4.78311022933331, -58.4220760543418 4.78302926236214, -58.4221725687647 4.78298060192258, -58.4222530154553 4.78294812727566, -58.422413973683 4.78291548630606, -58.4225588281334 4.78288287785002, -58.4226876824539 4.78289876351275, -58.4228970140507 4.78289832861143, -58.4230581732115 4.78296260707403, -58.4232514686649 4.78299451204146, -58.4234285963519 4.78299414299266, -58.4236379288133 4.78299370875877, -58.4237989202576 4.78297721983252, -58.4239600118089 4.78300919154236, -58.4240084529344 4.78307370411501, -58.4240569608278 4.78317052409579, -58.4241376735262 4.78326727618901, -58.4242665260664 4.78328316152575, -58.4243953470215 4.78328289358015, -58.4245241002882 4.78325031910893, -58.4246688886861 4.78318540280793, -58.4248136436576 4.78310433504341, -58.4250789667317 4.78292609556213, -58.4251915502292 4.78286124710433, -58.4253202699336 4.78281251836713, -58.4255294008044 4.7827151632004, -58.42575463532 4.78261777355862, -58.4259155262297 4.78255282535375, -58.4260281095571 4.78248797679948, -58.4261729310043 4.78243921441406, -58.4263177189973 4.78237429876466, -58.4263820281527 4.7823257058168, -58.4264301685347 4.78224483811377, -58.4264782411502 4.78213166393567, -58.426510179332 4.78200237095723, -58.4265260472358 4.78188926385166, -58.4265741875827 4.78180839615169, -58.4266222935904 4.78171137521585, -58.4267186745273 4.78159810133519, -58.426895533218 4.78146850470904, -58.4269598422491 4.78141991083881, -58.4270402215175 4.78135513018473, -58.4271206658387 4.78132265509346, -58.4272011779309 4.78132248736481, -58.4272817569021 4.78135462609286, -58.4272979256643 4.78138689991528, -58.4272980937754 4.78146766607799, -58.4272821582043 4.7815484657935, -58.4272501207501 4.78162929996298, -58.4271858451735 4.78169404709351, -58.427169943936 4.78179100094754, -58.4272023158266 4.78187170001576, -58.4272989976613 4.78190380517033, -58.4274117144955 4.78190357029013, -58.4275242975228 4.78183872246696, -58.4276046758541 4.78177394175053, -58.4277171910238 4.78167678564062, -58.4278297414227 4.78159578455559, -58.4279261881109 4.78151481612328, -58.428038771012 4.78144996824835, -58.4281675235859 4.78141739324434, -58.4282642388178 4.78146565059032, -58.428361020999 4.78154621617799, -58.4285302964628 4.78164278296067, -58.4286270117431 4.78169104114238, -58.428739728477 4.78169080605413, -58.4288525121658 4.78172287739093, -58.4289492944361 4.78180344286342, -58.4290621786013 4.78188397291344, -58.4291266892802 4.78193229909557, -58.4292556092818 4.78198048996994, -58.4293683260319 4.7819802547641, -58.4295776911388 4.78199597111948, -58.4297066446627 4.78206031511139, -58.4297551187151 4.78214098035509, -58.4298358997679 4.78227003890743, -58.4299005771691 4.78239913106117, -58.4299973931471 4.78249584862765, -58.4300941421212 4.78256025974682, -58.4302713017843 4.78257604217524, -58.4304161906314 4.78255958720432, -58.4306575258127 4.78246216254203, -58.430818448513 4.78241336563907, -58.4309954748581 4.78236453505949, -58.4312370110809 4.78236403036959, -58.4315268202455 4.78234727142836, -58.4320018420559 4.78234627751991, -58.4323077874299 4.78234563778541, -58.4325654262699 4.78234509804995, -58.432967986338 4.7823442559337, -58.4332417269612 4.7823436822556, -58.4335960140342 4.78235909313825, -58.4337571043006 4.78239106335656, -58.4341437303764 4.78247101926357, -58.4344177062255 4.78258351827843, -58.4347561258914 4.78271203540212, -58.4349495226239 4.78279239736192, -58.4351751240019 4.78287269086008, -58.4354007935998 4.78298529061549, -58.4356023764122 4.78313024816122, -58.4357796377882 4.78319448950021, -58.4359892047854 4.78330712366626, -58.4361986699392 4.78337129643372, -58.4362955212831 4.78348416687043, -58.4363600997874 4.7835647985064, -58.4364569157105 4.783661514836, -58.4365537662375 4.7837743843077, -58.4366667186698 4.78388722087428, -58.4367634345387 4.78393547763738, -58.4368762859735 4.78399985375491, -58.4370212755981 4.78403185683207, -58.4371822997103 4.78403151794332, -58.4372949481128 4.7839989750125, -58.4373915638266 4.78399877128216, -58.437456141593 4.78407940276224, -58.4376012651321 4.78417601743489, -58.4377142860819 4.78432115916473, -58.4377627957542 4.78441797847038, -58.4377791682029 4.78454716990948, -58.4377472660295 4.78469261686595, -58.4376992291582 4.78482194448223, -58.4375869177512 4.78501602000058, -58.4375389127472 4.78516150078257, -58.43741854986 4.78535559321113, -58.4373061025954 4.78548505609256, -58.4371453477663 4.78561462040172, -58.4370489021196 4.78569558997057, -58.4369201834232 4.78574431991809, -58.4368237368235 4.78582528856587, -58.4366951537572 4.78593863294638, -58.4365665360518 4.78603582324764, -58.4364862258805 4.78613291123605, -58.4363897800741 4.78621388075603, -58.4362612296398 4.7863433764573, -58.436148883052 4.78652129966671, -58.4360526055702 4.78668303500841, -58.4359724308982 4.78684473746161, -58.4358601852232 4.78707111927246, -58.4357962808474 4.78731355378907, -58.4356842034867 4.78762070236557, -58.435580110131 4.78789552590478, -58.4354680672307 4.78821882857266, -58.4354523011658 4.78838039498571, -58.4354526725788 4.78855808077776, -58.4355335220816 4.78871944443105, -58.4356303725545 4.78883231385057, -58.4357593960639 4.78892896337592, -58.4359045543959 4.78904173132739, -58.4360819513728 4.7891705856848, -58.4362431798956 4.78926716655231, -58.4364204767448 4.78934756038479, -58.4366944557676 4.78946005843466, -58.4369040250428 4.78957269077664, -58.4371458667418 4.78971756167415, -58.4373715053091 4.78981400682731, -58.4375488023625 4.78989440028377, -58.4378388845856 4.79000686390008, -58.4380160795481 4.79003879684263, -58.4382092761455 4.79002223731675, -58.4383702340518 4.78998959232995, -58.4385632955309 4.78990841921055, -58.438925501292 4.78985919660027, -58.4390543208447 4.78985892553015, -58.439118799079 4.78989109717849, -58.4392800280129 4.78998767714848, -58.4393928469323 4.79003589842233, -58.4395217002809 4.79005178039625, -58.4396345539149 4.79011615656994, -58.4397312699707 4.79016441258014, -58.4398441903288 4.79026109408433, -58.4399732145182 4.79035774164696, -58.4400861011347 4.79043827085739, -58.4402311926746 4.79051873130209, -58.4403762175191 4.79056688633664, -58.4404567302204 4.79056671581956, -58.4406338585181 4.79056634263752, -58.4407304393884 4.79054998593273, -58.44082691968 4.79048516891182, -58.4409073638065 4.79045269298693, -58.4409877749963 4.79040406301711, -58.4410842214103 4.7903230937467, -58.4411967359551 4.79022593649767, -58.4412448745625 4.79014506903162, -58.4412929445952 4.79003189440408, -58.4412927416107 4.78993497472303, -58.4412925048009 4.78982190191217, -58.4412761651237 4.78970886394297, -58.4412759621553 4.78961194426028, -58.4413079640322 4.78951495761062, -58.4413722392941 4.78945020844125, -58.4414365127409 4.78938545927316, -58.4414686508148 4.78935308604187, -58.4415006855876 4.78927225162015, -58.4415005164358 4.78919148507421, -58.4415003472888 4.78911071943241, -58.4415000428313 4.78896534127672, -58.4414837370092 4.78886845553812, -58.4414996030722 4.78875534879751, -58.441563708223 4.78860983399678, -58.4416601543547 4.78852886383308, -58.4417887366834 4.78841552043686, -58.4419173527994 4.78831832925028, -58.4419976969101 4.7882373930033, -58.4421665691379 4.78814011693063, -58.4422308433056 4.7880753686475, -58.4423594949293 4.78799433053391, -58.4424881785611 4.78792944643511, -58.4426168630627 4.78786456141306, -58.4427456820302 4.78786428885624, -58.442890638569 4.78788013723882, -58.4430356280586 4.78791213780413, -58.4431967542336 4.78796025748139, -58.4433579829175 4.78805683645874, -58.4435192098382 4.78815341629229, -58.4436804038222 4.78823384205438, -58.4438416326134 4.78833041997261, -58.443970621013 4.78841091542729, -58.4441640885141 4.78852357927448, -58.444309214593 4.78862019194254, -58.44440610091 4.78874921279493, -58.4444869174317 4.78889442164294, -58.444535463225 4.78900739136662, -58.4445679722043 4.78915270311809, -58.4445843462626 4.78928189486146, -58.4446167892724 4.78939489857796, -58.4447296090952 4.78944311979064, -58.4448907008466 4.78947508582021, -58.4450034189476 4.78947484766836, -58.4451483409223 4.78947454054415, -58.4452771609519 4.78947426922632, -58.4453900138248 4.78953864341421, -58.445503002422 4.78966762997497, -58.4455515814826 4.78979675356236, -58.4457051326896 4.79007103375181, -58.4458019176822 4.79015159496865, -58.4459632480816 4.79029663415785, -58.4460762029774 4.7904094665514, -58.4462535684479 4.79052216448672, -58.4464147292409 4.79058643624134, -58.4465598560163 4.79068304910281, -58.4468017671157 4.79086022202629, -58.4469630299209 4.79097295287675, -58.4472210780537 4.79116624640146, -58.4475273651448 4.79132712861862, -58.4476885610718 4.79140755396358, -58.4479302686689 4.79148780783122, -58.4481720783096 4.79161652083441, -58.4483333074487 4.79171309815898, -58.4485267423728 4.79180960809048, -58.44865583478 4.79193856061047, -58.4489058662222 4.79214802156879, -58.4490027198757 4.79226088917603, -58.4491156755424 4.79237372262064, -58.4492125283609 4.79248658927485, -58.4492933141671 4.79261564311933, -58.4493579971235 4.79274473290289, -58.4494709869734 4.79287371750617, -58.4495354648231 4.79290588793786, -58.4496482853964 4.79295410805458, -58.4497611050793 4.79300232814969, -58.4499383345371 4.79305041156751, -58.4500671899201 4.79306629130308, -58.4501638045587 4.79306608629213, -58.4503087619232 4.7930819309063, -58.4504859573319 4.79311386200633, -58.4506471189001 4.79317813245368, -58.4508244515335 4.79327467478576, -58.4509373394612 4.79335520076267, -58.4510824331974 4.79343565832378, -58.4512275260614 4.79351611674985, -58.4514210972038 4.79367723780204, -58.4515823280401 4.79377381406698, -58.4517274560185 4.79387042539756, -58.4519048903478 4.79401542559893, -58.4520017106096 4.7941121394948, -58.4521145987837 4.79419266519154, -58.4522113849812 4.79427322599146, -58.4523324952611 4.79443450066785, -58.4524131795091 4.79451509474601, -58.4524939652557 4.79464414885592, -58.4525586822515 4.79478938932793, -58.4525912293852 4.79495085221455, -58.4526237415106 4.79509616205028, -58.4526562877935 4.79525762492524, -58.4527210740943 4.79543517234375, -58.4527537920394 4.79567740042183, -58.4528026120714 4.79591959514309, -58.4528351926362 4.79609721102491, -58.4528516028935 4.79624255506696, -58.4528842527095 4.79645247702101, -58.452900765459 4.79664628018399, -58.4529253971174 4.79687237229902, -58.4529901154476 4.79701761353192, -58.4531032775419 4.79722736411375, -58.4532163039653 4.79737250158645, -58.4533452625792 4.79743684045516, -58.4534419118598 4.79745278783279, -58.453570767077 4.79746866572729, -58.4536834168022 4.797436119674, -58.4537638614815 4.79740364217682, -58.4539086478467 4.79733872145033, -58.4539568532926 4.79729015857287, -58.4540695029516 4.79725761156578, -58.4541981520971 4.79717657114968, -58.4543108026211 4.79714402591866, -58.4544073834587 4.79712766619703, -58.4545362043893 4.79712739179445, -58.4546490258465 4.79717561076187, -58.4548100508756 4.79717526769685, -58.4549227697412 4.79717502752589, -58.4550516581576 4.79720705817562, -58.4552128551142 4.79728748104662, -58.4552773686564 4.79733580284385, -58.4553741898576 4.79743251596562, -58.4555034205041 4.79762607765221, -58.4555842423864 4.79777128411846, -58.4556488928966 4.79788421885336, -58.4557295761397 4.79796481229392, -58.4558102954336 4.79806155873656, -58.4558587745857 4.79814222172877, -58.4559395957226 4.79828742811135, -58.4560204511367 4.79844878749313, -58.4561012723558 4.79859399292955, -58.4561983344735 4.7988037778724, -58.4562469849671 4.7989652049906, -58.4562794297652 4.79907820830744, -58.4563118745772 4.79919121071471, -58.4563121485742 4.79932043575727, -58.4563285255742 4.79944962643808, -58.4563287319867 4.79954654544277, -58.4562806294009 4.79964356662946, -58.4562163210504 4.79969216312444, -58.4561358772426 4.79972464185739, -58.4560553631261 4.79972481364484, -58.4559587478053 4.79972501977378, -58.4558298237458 4.79967683553142, -58.4557169342262 4.79959631086828, -58.4556524204052 4.79954798918978, -58.455587907492 4.79949966659604, -58.4555072915877 4.79945137923999, -58.4554266756928 4.79940309187091, -58.4553138889348 4.7993710261856, -58.4552172727302 4.79937123219638, -58.4549999218282 4.79938784959881, -58.4549195797013 4.79946878637449, -58.4548714075536 4.79953350237224, -58.4548393744258 4.7996143361616, -58.454791237381 4.79969520518495, -58.4547593059896 4.7998244980619, -58.4547595797308 4.79995372319161, -58.4547598876984 4.80009910134893, -58.454760162357 4.80022832647564, -58.4547444366567 4.80040604501668, -58.4547124368235 4.80050303274955, -58.454632128783 4.80060012347196, -58.4545678895381 4.80068102592941, -58.4545035809424 4.80072962232794, -58.4544231702 4.8007782539517, -58.454326725732 4.80085922595333, -58.4542302128134 4.80090789098067, -58.4541336989783 4.80095655690475, -58.454037116706 4.8009729149448, -58.4539245691053 4.80105392122988, -58.453844295989 4.80116716403932, -58.453780158311 4.80129652738005, -58.4537725523512 4.80150653488904, -58.453821099187 4.80161950408721, -58.4538535447778 4.80173250668796, -58.4539181947195 4.80184544064492, -58.4540151885916 4.80202291897287, -58.4540960101115 4.80216812644195, -58.4541929680661 4.80232945078352, -58.4543221322382 4.8024907073303, -58.4544190227501 4.802619726452, -58.4545159132997 4.80274874464405, -58.4545966665676 4.80286164503239, -58.4546935571909 4.80299066317776, -58.4547904820971 4.80313583522858, -58.454871338198 4.80329719463286, -58.4549521267504 4.80342624705876, -58.455049017539 4.80355526601134, -58.4551778729903 4.80357114414618, -58.4553469510285 4.80357078241194, -58.4555078080042 4.80348967361681, -58.4557169029735 4.80337615382894, -58.4558616224839 4.80327892633267, -58.4559902722312 4.80319788621782, -58.456167093193 4.80305212906527, -58.4563439483534 4.80292252580879, -58.4565047021711 4.80279295691204, -58.4566654207404 4.80264723498423, -58.4567940016804 4.80253388785231, -58.4569385484907 4.80235589426682, -58.457018856253 4.80225880331439, -58.457147299903 4.80208084411496, -58.4572436068827 4.80193525972918, -58.4573237440042 4.80175740372202, -58.4573717084073 4.80159576862651, -58.4574518779668 4.80143406563665, -58.4575482200162 4.80130463516237, -58.4576928693063 4.80117510056846, -58.4577892798725 4.80107797609561, -58.4579017925262 4.80098081540108, -58.4579982707351 4.80091599692603, -58.4581108519371 4.80085114312514, -58.4582395018234 4.80077010279789, -58.4583359456531 4.80068913038711, -58.4584806984806 4.80060805470977, -58.4585610744648 4.80054327060494, -58.4586898605789 4.80052684132151, -58.4588028200233 4.80063967223737, -58.4588512997345 4.80072033394403, -58.4588837794155 4.8008494899734, -58.4588761397742 4.80104334406908, -58.4588764839086 4.80120487495022, -58.4588285533117 4.8013826621327, -58.4587965541099 4.8014796498926, -58.4587646235504 4.80160894365045, -58.4587167281513 4.80180288383722, -58.4586686954438 4.80193221203194, -58.4586047313029 4.80214233965915, -58.4585729723339 4.80235239842351, -58.458509075911 4.80259483296609, -58.4584772835082 4.80278873873674, -58.458429455793 4.80301498585343, -58.4583897139275 4.80325736785246, -58.4583257496945 4.80346749641367, -58.4582777855353 4.80362912973039, -58.4581977534079 4.80385544573654, -58.4581499590525 4.8040978458812, -58.4581341658101 4.80424325733289, -58.4581184412298 4.8044209756936, -58.458118818859 4.80459866052156, -58.4581836080261 4.80477620577177, -58.4582967391063 4.80496980157336, -58.45840976814 4.80511493833565, -58.4585550025553 4.80526000615574, -58.4587486476356 4.80545342953815, -58.4588777456172 4.80558237780461, -58.4590873900181 4.80572730758593, -58.4592484519977 4.80574311494925, -58.4594256170965 4.80575888869718, -58.4595381987503 4.80569403537268, -58.4596829513338 4.80561295917483, -58.4597793619645 4.8055158334241, -58.4599562854135 4.80541853613414, -58.4601009691083 4.80530515390556, -58.4602135506009 4.80524029960643, -58.4603422351693 4.8051754107982, -58.4604870219067 4.80511048837945, -58.4606479117029 4.80504553053057, -58.4608894527126 4.80504501204436, -58.461131097815 4.80509295421857, -58.4613568109832 4.80522169480526, -58.4615019761272 4.80533445494358, -58.4616633485761 4.80549564033538, -58.461768360245 4.80565694653719, -58.4618329783037 4.80575372624509, -58.4618976299115 4.8058666598211, -58.4619462137682 4.80599578089649, -58.4619949353801 4.80618951385405, -58.4619952806166 4.80635104358088, -58.4619633507591 4.80648033826036, -58.4619151800341 4.80654505378426, -58.4618349425882 4.80667445118939, -58.4617384977908 4.80675542330984, -58.4616581216721 4.80682020881283, -58.4615617112608 4.80691733480063, -58.4614813351028 4.806982119389, -58.4614009589286 4.80704690397237, -58.4613044814058 4.80711172488956, -58.4611758646118 4.80720891810903, -58.4610632838951 4.80727377353683, -58.4609507366645 4.80735478012549, -58.4608221206704 4.80745197511352, -58.4606773679705 4.80753305072215, -58.4605165464854 4.80763031562084, -58.4603638453371 4.80775986830092, -58.4602834345422 4.80780849892211, -58.4601708871155 4.80788950724432, -58.4601067161604 4.80800271618954, -58.4600104103504 4.80814830102745, -58.459962308131 4.80824532337988, -58.4598981371219 4.80835853322931, -58.4598502765737 4.80856862649202, -58.4598183807023 4.80871407330082, -58.459818897616 4.80895636901449, -58.4598515503448 4.80916629063274, -58.4599485462025 4.80934376639441, -58.4600454733005 4.8094889370595, -58.4600939196596 4.80955344543724, -58.4602068458823 4.80965012168119, -58.4603197721372 4.80974679880081, -58.4604488025317 4.80984344045256, -58.4605616599948 4.80990781064396, -58.4606906895473 4.8100044531361, -58.4607552392173 4.81006892689564, -58.4608519590914 4.81011717948562, -58.4609245259565 4.81016548296969, -58.4609731092977 4.81029460315932, -58.4609733503711 4.8104076749121, -58.4609897291125 4.81053686509216, -58.4609094214394 4.81063395661405, -58.4608774578651 4.81074709656076, -58.4608133911423 4.81090876544958, -58.4607332211644 4.81107046979397, -58.4606530167161 4.81121601935069, -58.4605566056893 4.81131314541611, -58.4605084355014 4.81137786097383, -58.460428057911 4.81144264652586, -58.4602994421226 4.81153984165841, -58.4602030309969 4.81163696679763, -58.4600743462807 4.81170185593957, -58.4599939695065 4.81176664146188, -58.4598813870949 4.81183149514137, -58.4597849767669 4.81192862115355, -58.459704667873 4.81202571172876, -58.4596566705628 4.81217119310223, -58.4596730483067 4.81230038337227, -58.45970552934 4.81242953910574, -58.4597782332587 4.81254245460473, -58.4599395387748 4.81267133400888, -58.4600683967392 4.81268721065634, -58.4602133235413 4.81268689884268, -58.4603904206451 4.81267036582173, -58.4605514497986 4.8126700202914, -58.4606803412891 4.8127020498, -58.4607771667452 4.81279876031293, -58.4607935791983 4.81294410436755, -58.4608100270199 4.8131055995866, -58.4607942691911 4.81326716574116, -58.4607785104608 4.81342873009008, -58.460730512492 4.81357421149591, -58.4606504457372 4.81378437485654, -58.4605702420265 4.81392992449257, -58.460506277615 4.81414005239249, -58.4604100049912 4.81430179048112, -58.4603298701036 4.81447964789153, -58.4602657342457 4.81460900999018, -58.4601211170907 4.8147546996854, -58.4600086376368 4.81486801247597, -58.4598800203668 4.81496520773576, -58.4597996432775 4.81502999335135, -58.4596629751723 4.81512720495937, -58.4596149424905 4.81525653340206, -58.4595830113421 4.8153858282026, -58.4595672886679 4.81556354650218, -58.4595837709058 4.81574119569802, -58.4596003565058 4.81596730384685, -58.4596329059053 4.81612876549417, -58.4596653882312 4.81625792025629, -58.4597140083997 4.8164031943393, -58.4597948335365 4.81654839838107, -58.4598756242593 4.81667745122762, -58.4599564141118 4.81680650224804, -58.4600532747191 4.81691936659344, -58.4601500655218 4.81699992405025, -58.4602629588256 4.81708044690776, -58.4603597142997 4.81714485224663, -58.4605450374879 4.81720906553066, -58.4607061366634 4.8172410264971, -58.4608832702495 4.81724064596859, -58.4610281280819 4.81720802774041, -58.4611891582565 4.81720768173414, -58.4613823942684 4.81720726557233, -58.4616561462338 4.81720667629055, -58.4618493813072 4.81720626180684, -58.4619783091163 4.81725444375247, -58.4620911689809 4.81731881325858, -58.4621879254885 4.8173832173678, -58.4623491627536 4.81747978886452, -58.462445883875 4.81752803996003, -58.4625586402306 4.81754395137488, -58.4627196694722 4.81754360498408, -58.4628806996017 4.81754325764888, -58.4629934205064 4.817543015125, -58.4631222793181 4.81755889089055, -58.4632512763075 4.81763937846345, -58.4633319641026 4.81771996997537, -58.4633804806184 4.81781678465122, -58.4634130328767 4.81797824490233, -58.463429516335 4.81815589457528, -58.4634459298032 4.81830123742862, -58.4634463453673 4.8184950738105, -58.4634467254895 4.81867275723672, -58.4634472093014 4.81889889953114, -58.4634888857561 4.81956108766607, -58.4634893005396 4.81975492403902, -58.4635057841978 4.81993257277773, -58.4635705072213 4.82007781156671, -58.4636351620343 4.82019074352545, -58.4636998505477 4.82031982933137, -58.4637645054133 4.82043276126355, -58.4638452628414 4.82054565939903, -58.4638939535524 4.82072323870669, -58.4639586421861 4.82085232355139, -58.4639750223167 4.82098151337327, -58.463975368186 4.82114304379289, -58.4639595769267 4.82128845595672, -58.4638954416122 4.82141781926265, -58.4638313745513 4.82157948847609, -58.4637671700256 4.8216765458791, -58.4636307091895 4.82187067712575, -58.4635342985712 4.82196780391082, -58.4634540596631 4.82209720191028, -58.4633737169868 4.82217814104296, -58.4633095815102 4.82230750344517, -58.4632937892511 4.82245291564201, -58.4633264803757 4.82267898854129, -58.4633429988801 4.82287279112023, -58.4633756554933 4.82308271014409, -58.4634082420674 4.82326032415617, -58.4634569321817 4.82343790436348, -58.4635054839571 4.82355087183938, -58.4635540703468 4.82367999135553, -58.4636669652219 4.82376051317424, -58.4637959290352 4.82382484820629, -58.4639570998952 4.82388911286911, -58.464102097136 4.82392110540431, -58.4643841100173 4.8240174163386, -58.4645613835548 4.82408164610032, -58.4646581058123 4.82412989653956, -58.4648354486457 4.82422643210034, -58.4649645165019 4.82433922477327, -58.4650293106708 4.82451676997027, -58.4650296570441 4.82467830029663, -58.4650461069586 4.82483979587291, -58.4651108656858 4.82500118629045, -58.4651273511948 4.82517883479434, -58.4651600077576 4.82538875532867, -58.4652086639565 4.82555018046544, -58.4652734921416 4.82574387852052, -58.4653222186263 4.82593761041293, -58.4653547713817 4.82609907027796, -58.4654761701273 4.82638956422334, -58.4655250345187 4.82664790781861, -58.465557796303 4.82690628617188, -58.465606731064 4.82719693741716, -58.465671594319 4.8274067873749, -58.4657529435681 4.82779428571967, -58.4658338758938 4.82798794790343, -58.4658986353104 4.82814933898802, -58.4660440862295 4.82839132073598, -58.4662780332252 4.82860080514002, -58.4662943043427 4.82861705501662, -58.4661088729021 4.82864846763833, -58.4660974731033 4.82866210670699, -58.4661089215808 4.82867113293102, -58.4661768557003 4.82873898320818, -58.4663581083944 4.82896524811313, -58.4663813380353 4.82925985164934, -58.4664722566842 4.82950897804389, -58.4666086600822 4.82989400021305, -58.4669257811265 4.83025596422759, -58.4672881428142 4.83064049638964, -58.4676955998814 4.83097959986055, -58.4679898823935 4.83122828468515, -58.4680807044958 4.83143207824082, -58.4681492244368 4.83177191502769, -58.4681156482366 4.831919314488, -58.4680258990983 4.83221416325399, -58.4677551384835 4.83239607528916, -58.4675072670443 4.83271393180242, -58.4674629062046 4.83309934475603, -58.4675766171092 4.83343908377627, -58.4678258067553 4.83373319675083, -58.4681197979961 4.83384588860628, -58.4683231120546 4.833822780934, -58.4686619036652 4.83375404977975, -58.468887619107 4.83364023193686, -58.4693164999938 4.83343531034367, -58.4694968769693 4.83325359456843, -58.4694513434334 4.83309503395269, -58.4693829202107 4.83280052896622, -58.4693821868842 4.83246054559683, -58.4693366037554 4.83227931878575, -58.469223137417 4.8320529083583, -58.4691097181784 4.8318491631513, -58.4691093276944 4.83166783835817, -58.4692897523267 4.83150878711068, -58.469470469787 4.83148573009251, -58.4696514313492 4.83157600020741, -58.4698100910668 4.83180231347396, -58.4701947088472 4.83202813487261, -58.4703083238223 4.83232254168297, -58.4704897743231 4.83263946663734, -58.4709421322306 4.8328424750848, -58.4711231920626 4.83297807601538, -58.4711235840898 4.83315940063493, -58.4711015749741 4.83343143616057, -58.4709665866692 4.83370371692455, -58.4707183745913 4.83386291578577, -58.4703799255769 4.83409030644902, -58.469996431168 4.83438579351118, -58.4696354336663 4.83463589822818, -58.4695005432098 4.83495351125677, -58.4694784847305 4.83520288077286, -58.4695696510545 4.83556533328964, -58.4696496421965 4.83598447520984, -58.4698083015766 4.8362107863307, -58.4700570053278 4.83627824357529, -58.4705089729047 4.83629992784725, -58.4711871941467 4.83645711246727, -58.4718658080308 4.83679562265973, -58.4722054334514 4.83711220274042, -58.4723869854882 4.83747445783225, -58.4723423323317 4.8377238762592, -58.4722301860334 4.83810943704573, -58.4722310187029 4.83849475037099, -58.4724805072209 4.8389248544493, -58.4727527872539 4.83944557094935, -58.4730021286063 4.83980767806973, -58.4732742633272 4.84026039757562, -58.4733423946998 4.84041890829188, -58.4731848598769 4.84071390490506, -58.4728241074568 4.84107734073424, -58.4724630115142 4.8412821172366, -58.4720116770794 4.84155508773532, -58.4712667896851 4.84191935962445, -58.4712575121872 4.84192423898323, -58.4711943527597 4.84201334289166, -58.4711301833564 4.84212655318794, -58.4710499449482 4.84225595229618, -58.4709697423222 4.84240150429235, -58.4709377448599 4.84249849257166, -58.4708735753872 4.84261170377337, -58.4707934067015 4.84277340866499, -58.4707453052946 4.84287043105843, -58.470665031851 4.84298367727483, -58.4706329994334 4.84306451176269, -58.4705687600713 4.84314541717916, -58.4704907097707 4.84330284883673, -58.4704308258222 4.84333447917362, -58.4703774996415 4.84342855834603, -58.4702653521709 4.84381411937021, -58.4702659398427 4.84408610586837, -58.470311573917 4.8442899965746, -58.4704927362824 4.84447092811683, -58.4706963470665 4.84458381292113, -58.4709675514141 4.84460588834084, -58.4712159616982 4.84453735008639, -58.4713512457024 4.84440106281526, -58.4714412873595 4.844242206836, -58.4714857926239 4.84392479079417, -58.4715750981251 4.84342595280462, -58.4717325850186 4.84310829095909, -58.4719581543033 4.84292647385645, -58.4725448210775 4.84253988100957, -58.4730186519326 4.84222153040641, -58.4733122549846 4.8421528942059, -58.4735834090398 4.84215230273574, -58.4739905322469 4.8423327410222, -58.474352462507 4.8425132756864, -58.4743755995657 4.84276254724159, -58.4742855588016 4.84292140244518, -58.4740154363064 4.84339796986545, -58.4735872395085 4.84392021236599, -58.4732268297155 4.84444230710511, -58.4727985817781 4.84494188426444, -58.4725734538583 4.8453276905216, -58.472528851099 4.84559977515961, -58.472439938175 4.84627993756369, -58.4724632713889 4.84661987110005, -58.4725993896816 4.8468688967033, -58.4728709875144 4.84707229456093, -58.4732100796794 4.84713955143385, -58.4735261317774 4.84700286873778, -58.4736613172862 4.84682124878985, -58.4737057721616 4.84648116768655, -58.4737728241702 4.84614103732406, -58.4741786228497 4.8457095053271, -58.4744487938621 4.84525560373033, -58.4748317989288 4.84473345922083, -58.4753051880457 4.84421111658154, -58.4757341215184 4.84402885562586, -58.4763217702827 4.84409556886554, -58.4767060520499 4.84416272658372, -58.4769100576753 4.8444569324112, -58.4770697569793 4.84515921622904, -58.4770025599331 4.84543135088273, -58.4766642570048 4.84572674215503, -58.4762357648607 4.84611299416068, -58.4759089811291 4.84651035569982, -58.4757064029885 4.84687344807456, -58.4756168541699 4.84725895805255, -58.4753919253946 4.84773542751635, -58.4751442507627 4.8481439489606, -58.4748962826448 4.84841647744979, -58.4746475759548 4.84834902350448, -58.4743532825937 4.84810034560054, -58.4741272205496 4.84805550821145, -58.4740144848179 4.84816908158198, -58.474015221951 4.84850906408516, -58.4741290399029 4.84889413136947, -58.4743553480425 4.84905229555028, -58.4750786285849 4.84914137876708, -58.4756443245089 4.84950279157293, -58.4761881640073 4.85020423615548, -58.4762793873058 4.85058935108226, -58.4761900860985 4.85108818882562, -58.4764853666684 4.85179017687202, -58.4767793660084 4.85190286118391, -58.4772771782919 4.85221908866203, -58.4778876770757 4.85239907645852, -58.478295054242 4.85269283563366, -58.4782953502242 4.85282882925798, -58.4781502525604 4.85286835404287, -58.4780623406933 4.85303086154113, -58.477950177098 4.85328955552235, -58.4779021829331 4.85343503681366, -58.4778224374958 4.85379057819884, -58.4777345705588 4.8541138306505, -58.4777026795716 4.85425927759871, -58.4776707894814 4.85440472454704, -58.4776067614109 4.8545825476959, -58.4775748695014 4.85472799465319, -58.4775107368404 4.8548573583915, -58.4774465320562 4.85495441736455, -58.4773500846996 4.85503539401788, -58.4772697423767 4.85511633540383, -58.4771894685239 4.85522958156349, -58.4770931625835 4.8553751704617, -58.4770291343286 4.85555299272059, -58.476981139034 4.85569847495247, -58.4769333203609 4.85592472229179, -58.4768852898953 4.85605405168876, -58.4768371548803 4.8561349216577, -58.4767728796256 4.85619967494623, -58.4766926074038 4.85631292200804, -58.476616616377 4.85637126002779, -58.4766196351589 4.85637966133035, -58.4765520920952 4.8564931373646, -58.476394557281 4.85678813439889, -58.476349758633 4.85696955738467, -58.4764644199651 4.85773993571262, -58.4765338876987 4.85851041289391, -58.4766928049088 4.85885004848056, -58.4772812071926 4.85925673880493, -58.4780501352981 4.8595497045006, -58.4785021181114 4.85957137860732, -58.4787511266006 4.85977482149546, -58.478751521942 4.85995614444357, -58.4787066260849 4.86009223715366, -58.478526000303 4.8601606300437, -58.4781644539854 4.8601614239139, -58.4778481000053 4.86016211760202, -58.4778258490896 4.86032082501587, -58.4780976035677 4.86059221582491, -58.4783693564579 4.86086360555542, -58.4786865024347 4.86122555831953, -58.4787322386432 4.8614747793301, -58.4787284227463 4.86150397977169, -58.4788001057139 4.86150952811686, -58.4788002273449 4.86156529293658, -58.479253053014 4.86197227795289, -58.4793886331859 4.86197198028391, -58.4797278309385 4.86208456164689, -58.4799543925625 4.86235605050335, -58.4802265941635 4.8628314287696, -58.4804983497194 4.86310281799168, -58.4807927022178 4.86337415645637, -58.4809062306453 4.86362322708039, -58.4810425549658 4.86396291024107, -58.481043198957 4.86425756036658, -58.4809757059213 4.86439370194878, -58.4808856665381 4.86455255833777, -58.4807052886671 4.86473428040603, -58.480366534231 4.86482568791242, -58.4798921998355 4.8649173932515, -58.479757063741 4.86512168007444, -58.4798254995466 4.86541618137082, -58.4800978011028 4.86593689045514, -58.4803475063278 4.866457647177, -58.4806874516637 4.86691020949864, -58.4810272965512 4.86731744127996, -58.4812535138916 4.86743027047085, -58.4814116927898 4.86742992232684, -58.4814563897532 4.86720316813949, -58.4815463804606 4.86702164650859, -58.4816817135586 4.86690802072315, -58.4818398418082 4.86688500650748, -58.4820208148638 4.86697526983538, -58.4822697787052 4.86715604602631, -58.4823832094258 4.86735978581449, -58.4824741426195 4.86760890553399, -58.4826308944487 4.86813529431445, -58.4826769262741 4.86813830481708, -58.4826772481356 4.8682852815735, -58.4826776735264 4.86847911598556, -58.4826295733702 4.86857614009728, -58.4825869163309 4.86865139951459, -58.4825894613212 4.86867392978915, -58.4825897591433 4.86880992217968, -58.4824770237663 4.86892349842137, -58.4823416409191 4.86901445934326, -58.482184107779 4.86930945774555, -58.482071818003 4.86962702259487, -58.4821853991207 4.86989875849724, -58.4822759853946 4.86998922063958, -58.4824568610376 4.87003415246955, -58.4825921934744 4.86992052637538, -58.4828634576984 4.86996525887634, -58.4828863516853 4.87010120233744, -58.4827510183872 4.87021482848816, -58.4825929896956 4.87028317333386, -58.4823447699708 4.87044237955768, -58.4820740533363 4.87064696571702, -58.4818483319226 4.87076079092692, -58.4816451081297 4.87082923518912, -58.4815320240481 4.87078415386527, -58.4815090788339 4.87062554608619, -58.4815086818797 4.87044422251798, -58.4816209710662 4.87012665764999, -58.4815751817881 4.86985477229566, -58.4813488642822 4.86969661236204, -58.4811678408259 4.86958368394417, -58.4808740807153 4.86958433154735, -58.4806481600495 4.86960749403915, -58.4804679298892 4.86985721180225, -58.4805136691626 4.87010643134591, -58.4805142650608 4.87037841727369, -58.4804696165567 4.87062783575335, -58.4803797740861 4.87087735461953, -58.4804594351447 4.87113783299728, -58.4806642969549 4.87181734686539, -58.4806878373988 4.87224793970489, -58.48075691935 4.87283709149829, -58.4809393839259 4.87360731702988, -58.480985919139 4.87421918356737, -58.4809186748019 4.87446865277027, -58.4806932506987 4.87471846960561, -58.4803770391576 4.87478716371217, -58.48012802347 4.87458372244207, -58.4799015554245 4.87435756705941, -58.4796074459126 4.87419955525654, -58.4794493644812 4.87424523551895, -58.4793818211026 4.87435871217773, -58.4793822682951 4.87456270011973, -58.4793603654412 4.87488006614957, -58.4792929707865 4.87506153910557, -58.4791354859806 4.87537920270331, -58.4790231944762 4.87569676863613, -58.4789560476487 4.87599156815844, -58.4789117964285 4.87642231053129, -58.4789578348239 4.87680752365834, -58.4789359816125 4.87714755486564, -58.4788918297345 4.87762362841233, -58.4788697285556 4.87785033217348, -58.4787797860682 4.87805452098646, -58.4784635239048 4.87810054777605, -58.4781696109819 4.87803319901183, -58.4779889808617 4.8781015931979, -58.4779668307278 4.8783056327874, -58.4780805120923 4.87862269964807, -58.4781715954297 4.87893981710644, -58.4782191006567 4.87922188315062))   \n",
       "22  POLYGON ((-58.3902126171567 4.55976676509923, -58.3897973634865 4.55933985203443, -58.3889583629311 4.55836140714979, -58.38851077123 4.55777423153444, -58.3880349547187 4.55701909857191, -58.3874755351721 4.55632012930375, -58.3868319214933 4.55536930499019, -58.3858534123556 4.55439112287286, -58.3847357077 4.55358121919304, -58.3836455883672 4.55260324822587, -58.3828626798619 4.55176469349779, -58.3821070887361 4.55061806185343, -58.381295639922 4.54944353434193, -58.3805127903131 4.54863297654881, -58.3795617757412 4.54743071161022, -58.378723337344 4.546732266025, -58.3785576744361 4.5476566527938, -58.3783369498847 4.54897317508244, -58.3776966577392 4.54975846121625, -58.3763861972134 4.55029301074858, -58.3750757332526 4.55082755937944, -58.3739604344852 4.5512777259166, -58.3729013127992 4.55192379980277, -58.3723715645376 4.55214882921544, -58.3717027758331 4.55262614278853, -58.3711739817595 4.55335520837426, -58.3704777638341 4.55408459395309, -58.370254692285 4.55416902591602, -58.3695363218874 4.55580870035586, -58.3679366949575 4.55601650257576, -58.3609492401866 4.55692417777456, -58.3606858897781 4.55689359162442, -58.3605837059774 4.55726084056567, -58.3603801725958 4.55767126041734, -58.359325240804 4.5580149548087, -58.3583723949702 4.55832428585475, -58.3575898678119 4.55866746210332, -58.356601302331 4.55808844693865, -58.3555464305805 4.55846630635288, -58.3550352826846 4.55826225363875, -58.3540458217341 4.55720486036342, -58.3529883263456 4.55618176295021, -58.3529678021576 4.55614758273556, -58.3519660356284 4.55577365200833, -58.3520559271336 4.55352419923085, -58.3520823063163 4.55286411023253, -58.3509849872191 4.55265209804406, -58.3489870019086 4.55230997930677, -58.348560253106 4.55228824313686, -58.3468518135029 4.5523476138259, -58.3454566472563 4.55245562065589, -58.3446757025611 4.55252167715024, -58.343660621899 4.55221814848879, -58.3428990753268 4.55186324006024, -58.341732007281 4.55166180150444, -58.3409201135555 4.55151060279821, -58.3399966806421 4.55123313198921, -58.339676182673 4.55113682844995, -58.3392249177607 4.5510012319927, -58.3385314409339 4.55102750922968, -58.3378049920658 4.5513811021119, -58.3357733829219 4.55098231843255, -58.3345446953699 4.55090911947171, -58.3332393538315 4.5500560974216, -58.3325391400867 4.54876037526186, -58.33240765966 4.54771774269578, -58.3316040960488 4.5470399064675, -58.3312515120834 4.54618511360513, -58.3307694119173 4.54306614190068, -58.3307901445684 4.54070104695947, -58.330737510096 4.53934249386044, -58.3315856683265 4.53700103184842, -58.3325601048735 4.53516254023025, -58.3328313279928 4.53267118247141, -58.3329298154738 4.53168975340041, -58.3327561446051 4.53039658590906, -58.3323044789909 4.52875307623183, -58.3321657461962 4.52755922526075, -58.332650902988 4.52618804434275, -58.3333450042366 4.52523193361631, -58.3343447839478 4.52444270006827, -58.335512734528 4.52310941000799, -58.335648778516 4.52283510116903, -58.3346736329041 4.52293477911697, -58.3330366631083 4.52379912091269, -58.3313020476681 4.52460491230248, -58.3304257196497 4.52540912188214, -58.3299986485655 4.52654528916205, -58.3299414867519 4.52728926466634, -58.3292391866574 4.52879774417443, -58.3289897016839 4.52950305264657, -58.3289336859961 4.53087344364612, -58.3285062899204 4.53183343128813, -58.3277663907862 4.53257866335725, -58.3254286061095 4.53424688380599, -58.3244931678188 4.53473799059371, -58.3220743127517 4.53474242756652, -58.3205509581635 4.53374686042093, -58.3204523930904 4.53317934802494, -58.3205289268082 4.53235703257238, -58.3203703123814 4.53094787862766, -58.3199978353006 4.52993062817745, -58.3199179965524 4.52893241856825, -58.3198189351533 4.5280908470646, -58.3199329760179 4.52746028762756, -58.3204015101421 4.52664118726103, -58.3205341505054 4.52448762785383, -58.3203962911331 4.52376358173674, -58.3202397061473 4.5234702340849, -58.3193015443984 4.52245401332962, -58.3188327119152 4.52208293068032, -58.3174465763589 4.52143946102919, -58.315825300911 4.52020914394237, -58.3151810194539 4.51989710453525, -58.3143228721954 4.51997696661869, -58.3133268506634 4.51974145126125, -58.3114957585621 4.51941411487017, -58.309738679769 4.51952751516061, -58.3085670293366 4.51945615404667, -58.3077431838444 4.51901207538582, -58.3080643988548 4.51861664025614, -58.3102449220063 4.51747452162954, -58.311101872438 4.51699583204263, -58.3119243659223 4.51688665489447, -58.3124957664425 4.51638307702059, -58.3126014593318 4.51548548949179, -58.3133444153379 4.51550214964804, -58.3136701638681 4.515009870482, -58.3138506585414 4.51397560010307, -58.3146009640758 4.51350759375978, -58.3162802775455 4.51336617114854, -58.3166051372304 4.51238220280433, -58.3170658386771 4.51174422569138, -58.319355813368 4.51217081087906, -58.3210004579439 4.51177296335324, -58.3218209927316 4.5105869087452, -58.3224803567033 4.51007696715875, -58.3234593556277 4.50958349393399, -58.3236416126356 4.50860932553234, -58.3220994788872 4.50635070452336, -58.3200560165192 4.50376992952638, -58.319122934805 4.50204862662451, -58.3191966058943 4.50041307464079, -58.3193566719958 4.49860992672108, -58.3191866462983 4.4977051213654, -58.3182551922509 4.49688120676285, -58.3163214006376 4.49559245905433, -58.3158526802611 4.49351134785025, -58.3150981836422 4.4917339886114, -58.3146053113544 4.49009591330309, -58.3137843550805 4.48763894633003, -58.3130845558443 4.48569104502089, -58.3151579118083 4.48504118333078, -58.3166591787491 4.48450003759296, -58.3183733728636 4.4830252138689, -58.3211227204832 4.48172542541792, -58.3234069802354 4.48057401530606, -58.3265198169153 4.47830811448838, -58.3284609592727 4.47581186297425, -58.3291121173414 4.47466341088766, -58.3295866309699 4.4732412525741, -58.3299772768528 4.47169702887266, -58.3277937694182 4.47073181208221, -58.3251827256796 4.469098083865, -58.3227304894216 4.46762745440122, -58.3214187590036 4.46467969232646, -58.3210190333682 4.46245214793409, -58.3207298860686 4.46076556728751, -58.3195473585495 4.45951134266055, -58.3187235843937 4.45886669962838, -58.3171095041924 4.45628509818552, -58.3145395232366 4.45321930228283, -58.3129041649814 4.4519110522321, -58.3109863835077 4.4522757140522, -58.3108961707833 4.45294552038972, -58.3107677978809 4.45389864767898, -58.3106333678313 4.45489674740203, -58.3103006070783 4.45716040117996, -58.309568652749 4.45956512145906, -58.3080347076532 4.46182930500399, -58.307051571974 4.46373355952698, -58.3062168440904 4.46535035302596, -58.3052287049836 4.46841187827779, -58.3042963675508 4.47152788988291, -58.304021111659 4.4709247069218, -58.3028632153971 4.47013049873387, -58.300285466346 4.46869924007006, -58.2980643191826 4.46665710397116, -58.2969214189909 4.4639039746022, -58.2949776055188 4.46052432538454, -58.2938105501531 4.45932032982036, -58.2933191992421 4.45850170673559, -58.2929694042073 4.45751258873445, -58.2915173959954 4.45539081615817, -58.2891007472475 4.45414514709642, -58.287847113772 4.45310635540783, -58.2872362146821 4.45145619625938, -58.2868747466411 4.44926715701907, -58.286373398332 4.44890907113041, -58.2820099935312 4.44895258869693, -58.2786128889024 4.44935336386371, -58.2755044051227 4.45017403492281, -58.2719119747438 4.45034415969882, -58.2684273184622 4.4506000211581, -58.2665622845965 4.45091777527421, -58.2653455503963 4.45052500797329, -58.2627346582993 4.45056539545575, -58.2596626583043 4.44954575319604, -58.2564724678615 4.44878129200256, -58.2560454361403 4.44886183969415, -58.2551581910737 4.44885020553668, -58.2546739085258 4.44876791149624, -58.2534251786013 4.44935607545336, -58.2529181803022 4.44967530495847, -58.2519672982749 4.4501226371331, -58.2515235600136 4.45033563688663, -58.2509101757801 4.45027300791564, -58.2505714579696 4.45006133999609, -58.2501054249842 4.44959519609905, -58.249660791434 4.44927758424079, -58.2489206661237 4.44930006688833, -58.2481603233823 4.44987441779945, -58.2473783664781 4.45017288747432, -58.2464902784222 4.45023806802952, -58.2463640002802 4.45059909792816, -58.2463643766412 4.45082229543419, -58.2463959033891 4.450826323854, -58.2467670907571 4.4513624929982, -58.2471275645862 4.45193494171767, -58.2473613323818 4.45261372757088, -58.24768026332 4.45363195935612, -58.2478503035044 4.45414105623599, -58.2480200568559 4.45448035953448, -58.2481268694502 4.45511691109841, -58.2483814653327 4.45560463987903, -58.2491018116474 4.45638871893647, -58.2493147630249 4.45659411119705, -58.2492433352116 4.45669483243904, -58.2498406576271 4.45707932444392, -58.250535826714 4.4577963782083, -58.25086207709 4.45836170739749, -58.2510369653389 4.45918847029018, -58.2508213939515 4.45995060539422, -58.2502806757196 4.46080035356158, -58.2502600584184 4.4614315676325, -58.2508683415635 4.46206170972126, -58.2516494883388 4.46232155345854, -58.2521920869862 4.46258180343934, -58.2526705869891 4.46340804764755, -58.2529536543911 4.46408227139688, -58.2534313799899 4.46445145464783, -58.2539955196273 4.46462460786726, -58.2542128262491 4.46488541371282, -58.253758375588 4.46545207415292, -58.2534338198396 4.46588792541141, -58.2533699813876 4.46660627157899, -58.2534369636178 4.46773792441449, -58.2532864167583 4.4684781838771, -58.2532667279268 4.46965351485884, -58.2529856924065 4.47017634998812, -58.252248907004 4.47050408184237, -58.2516420560987 4.47072276895012, -58.2508383071087 4.47089031097887, -58.2505585071338 4.47118168101854, -58.250385531487 4.47148668423247, -58.2504080312975 4.47196547064859, -58.2501914240296 4.47211819450511, -58.2495400534501 4.47166224754062, -58.2488457518664 4.47146754918619, -58.2483407704266 4.47122567885321, -58.2481004896094 4.47109893007642, -58.2479603377221 4.47103224324507, -58.2476799556592 4.47085202205568, -58.2474263941039 4.47075875893941, -58.2471262105359 4.47069903844491, -58.2468060329055 4.47064604307543, -58.2465592089794 4.47059292268613, -58.2462324417588 4.47058678765157, -58.2460171261265 4.47065321696995, -58.2459925014051 4.47066081385378, -58.2456093461306 4.4708287797162, -58.2452161883817 4.47099676243632, -58.2447966386182 4.47133210572362, -58.2444435669037 4.47158387465656, -58.2442488295726 4.47184538409647, -58.244054238097 4.47219395155711, -58.2438317865515 4.47256517796075, -58.2438628929987 4.47241404431816, -58.2438071241869 4.47248054122378, -58.2436706765236 4.47254930070436, -58.2437896194947 4.47222359280613, -58.2438572061641 4.47181231309177, -58.2438904789109 4.47129830114659, -58.2439581242682 4.47092128426246, -58.2439406206149 4.47066433674508, -58.2440422033166 4.47016733932651, -58.2443998682552 4.4696870392412, -58.2450644785694 4.46901776607925, -58.2457630536327 4.46824564350571, -58.2460695928938 4.46781682620838, -58.2462054889807 4.46742256197925, -58.2461961874632 4.46696858417922, -58.2461439639933 4.46636905710916, -58.2459726545952 4.46600957987492, -58.2458355154513 4.46566717592596, -58.2456810164803 4.46515348332812, -58.2455437612593 4.46474255183345, -58.2452185916945 4.46424628033242, -58.2449363423349 4.46389555711309, -58.2445774095673 4.46362205673925, -58.2444065644362 4.46353668755317, -58.2438944609904 4.46353755626366, -58.2434164994273 4.46353836763924, -58.2433848472379 4.46351262506856, -58.2432797396347 4.46353115483563, -58.2423298717629 4.46376031238592, -58.2418432789355 4.46388160309167, -58.2415165937916 4.46392231265041, -58.2411366946655 4.46404342141328, -58.240883372875 4.46409069869153, -58.2406634274498 4.46415799674791, -58.2396267998641 4.46434714336413, -58.2391533626478 4.46436132964857, -58.2388465586264 4.46432838550835, -58.2386064831513 4.46432209891279, -58.2384064406615 4.46432912892056, -58.2381797932566 4.46437636029027, -58.2379465098228 4.46444368014436, -58.2371537246285 4.4647139359384, -58.2366504490024 4.4650147377508, -58.2364038173275 4.46507538757142, -58.2360638828314 4.46516965719119, -58.2356839599497 4.46527737928494, -58.2353907045945 4.46537156996395, -58.2351174544745 4.46546572774677, -58.2342533728306 4.46566108456811, -58.2338950140555 4.4657302157293, -58.2334003501653 4.46595376342881, -58.2328413137148 4.4661522052932, -58.2325681186083 4.4662798248063, -58.232244932713 4.46642091260936, -58.2320583374306 4.46649484548333, -58.2319783493779 4.46651505732353, -58.231451741369 4.46663641025674, -58.2312317471579 4.46667693464197, -58.2309317888932 4.46675105770805, -58.2304651064397 4.46681876843832, -58.2300584289104 4.4668796842111, -58.2294684572641 4.46699445005705, -58.2287818482492 4.46714283926678, -58.2287086050733 4.46714935486236, -58.2286057024253 4.46721245494085, -58.2278716806982 4.46721368608282, -58.2274446958925 4.46707734616722, -58.2271028916901 4.46683807123731, -58.2268291125423 4.46644449450483, -58.2266405133322 4.46594798292733, -58.2265716053477 4.46557119467581, -58.2264683018512 4.4650402761894, -58.226432994132 4.46433792369237, -58.2264658537052 4.46356692998523, -58.2264137606177 4.46303592483299, -58.2263363041172 4.4626505853827, -58.226181705083 4.46206835587006, -58.225941784954 4.46150340218883, -58.2258900914544 4.4612122445435, -58.2257864756196 4.46049287516666, -58.2258364362206 4.45973898338711, -58.2257759373348 4.45928508633062, -58.2257070029291 4.45889116610791, -58.2256039009894 4.4584801713093, -58.22543260405 4.45812068500544, -58.2252615059506 4.45788112296282, -58.224817172447 4.45757348845854, -58.2244412622167 4.45735139925185, -58.2239969301996 4.45704376496771, -58.2231258186378 4.45671970949715, -58.2226988405462 4.45658336486541, -58.2220328241794 4.45641315352871, -58.2215205251747 4.45629408254302, -58.221127772326 4.45620907476107, -58.2207262716302 4.45599559284713, -58.2201624237612 4.45567102163283, -58.2197008536684 4.45526061927663, -58.2193079611409 4.45508995244554, -58.2188128168046 4.45502224559879, -58.2173448201365 4.45504181337869, -58.2171721732103 4.45496825544398, -58.2170318476081 4.45496848696172, -58.2165284925657 4.45503624789081, -58.2161418341906 4.45510381537037, -58.2157552205604 4.45519815140388, -58.2155686259079 4.45527207977791, -58.2150222440921 4.45553399664664, -58.2145690874468 4.45571544810825, -58.2142563203949 4.45576647365601, -58.2137128206881 4.45609834431501, -58.2133182522264 4.45624772158153, -58.2128406549042 4.45647122814797, -58.2127268582067 4.45668892687914, -58.2124270204305 4.45683665953253, -58.2121604804858 4.45695756739298, -58.21192714982 4.45699810841072, -58.2117004677188 4.45702525306298, -58.2113238422875 4.45711287939801, -58.2110306498493 4.45724721621327, -58.2107041482685 4.45740168630459, -58.2101283000093 4.45757215854745, -58.2096678257172 4.4578298995819, -58.2094313609173 4.4579458892348, -58.2091580854521 4.45802665130961, -58.2088614146057 4.45807398890663, -58.2084080253225 4.45811489118549, -58.2077906382512 4.45815850142811, -58.2071010820849 4.45816389084879, -58.2067665153672 4.45816444165836, -58.206629950453 4.45821180651174, -58.2060154221903 4.45821281697469, -58.2050422545874 4.45811162350818, -58.2046665695284 4.45802657956451, -58.2040685543705 4.45768491884163, -58.2032996983219 4.45725787609234, -58.2027529226535 4.45693326173167, -58.2022918045746 4.45679696104801, -58.2016766653017 4.45642106055948, -58.2013178574849 4.45621606211584, -58.2010099814666 4.45583965922203, -58.2006337703884 4.45542910249603, -58.2003767721959 4.45484702972565, -58.2002993314358 4.45446168259246, -58.2001959097659 4.45384509438578, -58.2001435599583 4.45314276131337, -58.2001770607135 4.45274866754015, -58.2003128719783 4.4522858779866, -58.2004313345128 4.45165179394636, -58.2006265984413 4.45100901914432, -58.2007450885479 4.45039206866213, -58.2007439494853 4.44968965206027, -58.2007936876384 4.44878156703259, -58.2008613284906 4.44838741671786, -58.2008433418206 4.44782208512467, -58.2006629555238 4.44711139456512, -58.2003880315117 4.44599825436525, -58.1999596187625 4.44497102353643, -58.1996767588383 4.44422623570218, -58.1995731475357 4.44348972117044, -58.1993492991086 4.44229083506268, -58.1991512374297 4.44120326445114, -58.1990476831826 4.44050101475599, -58.1988928921711 4.43978171563487, -58.1985759798875 4.4390883779898, -58.1983705065091 4.43869467243864, -58.1978913909414 4.43797590053826, -58.197138828784 4.43705198521144, -58.1968480356605 4.43667554905204, -58.1965827785505 4.43625624140765, -58.1963428351275 4.4356570039643, -58.1961028113261 4.43500637023322, -58.1959137208404 4.43418433241717, -58.1956390337659 4.43320824250981, -58.1954582189845 4.4322234349074, -58.1952522811809 4.43153847979959, -58.1950123696697 4.43095637378681, -58.1945335121058 4.43039178661511, -58.1940887386959 4.42979287937165, -58.193567304738 4.42928832167919, -58.1927640984892 4.42870712463423, -58.1921319468343 4.42834836848653, -58.1916536140006 4.4281092890485, -58.1909703913905 4.4278362756955, -58.1898940482963 4.42723838172174, -58.1893642616405 4.42684519321534, -58.1890308987513 4.42652878384501, -58.188654656298 4.42608395131826, -58.1883635709 4.42551905526338, -58.1881576435068 4.42483409669292, -58.1880197199409 4.42397770685952, -58.1880356154661 4.42324099460342, -58.1881115128275 4.42266694247662, -58.1881964226427 4.42239269058689, -58.1883663522549 4.42191271395684, -58.1886386985455 4.42143257382399, -58.1887913408145 4.4208155685581, -58.1887310926679 4.42049871881351, -58.1887640013721 4.41972771482107, -58.1886437230224 4.41923107402499, -58.1883354368001 4.41858054378137, -58.1878732258898 4.41774180536014, -58.1874709906155 4.41704859492887, -58.1871458007574 4.41650088355205, -58.1870084279217 4.41598713665368, -58.1869397956138 4.4157645272173, -58.1867345014996 4.41547360737072, -58.186016854366 4.41501218604211, -58.1854530223201 4.41467044354104, -58.184889271333 4.41438009589721, -58.1842315452456 4.414029936733, -58.1836334673054 4.41361971694686, -58.1832917281267 4.41339754351915, -58.1830353628321 4.41319236558021, -58.1829323765121 4.41283275162108, -58.1827612767072 4.41257604103206, -58.1824877070235 4.41228522906414, -58.1823503658109 4.41178861199805, -58.1822982366808 4.4112061970272, -58.1821268387052 4.41076103059069, -58.1820665410292 4.41040991558164, -58.1817242885427 4.40986222706598, -58.1814330819642 4.40921166395289, -58.1814151738701 4.40868059253216, -58.1812436691408 4.40816689641755, -58.1810122467466 4.40754193600363, -58.1808235113449 4.40692547393701, -58.1806348583573 4.40636040905359, -58.180565661976 4.40577802054143, -58.1803941049495 4.40523006017284, -58.1800685479765 4.40444249150399, -58.1797006303468 4.40385201232482, -58.1790847922725 4.4029963740329, -58.1786570661699 4.40236315766095, -58.1780750725898 4.40131900969532, -58.177869488711 4.40083963122656, -58.1776384236211 4.40043738788487, -58.1774323828645 4.39966675935023, -58.1772607767232 4.39908453254541, -58.1770040159339 4.39862236637261, -58.1766957240522 4.3979546940554, -58.176515571248 4.39736391389755, -58.1761732500572 4.39676482342167, -58.1758142373851 4.39640561214683, -58.1754039098662 4.39597795302979, -58.1750440661852 4.39508763936685, -58.1749495556339 4.39468517881168, -58.1747777657237 4.39398302465278, -58.1747939488576 4.3934176311893, -58.1746735817497 4.39285245480848, -58.174570631346 4.39250997045262, -58.1741339679553 4.39161121110352, -58.1737746369067 4.39104640978387, -58.1733467375549 4.39029326116732, -58.1727989276194 4.38926618242527, -58.145163194304 4.3717226320362, -58.144998114097 4.37207618898714, -58.1449589431258 4.37209985993171, -58.1446011790568 4.3725458546346, -58.1443116631449 4.37297461010825, -58.1438855448597 4.37336930920111, -58.1435275977373 4.37369537551908, -58.1432549936384 4.37402131046248, -58.1429996657859 4.37448427867486, -58.1427273728667 4.375015804, -58.1422761567997 4.37574462607864, -58.1418328374461 4.37605368937846, -58.1414236041575 4.3763284344174, -58.1414183511474 4.37636382827718, -58.1412140529389 4.37646968340916, -58.1409608461151 4.37658384768228, -58.1407209230998 4.37666452783908, -58.1405010137941 4.37675187071243, -58.1402144666932 4.37686608562925, -58.1398945499759 4.37696027322556, -58.1392741624556 4.3771369440555, -58.1386984506262 4.37748413795672, -58.1385918146033 4.37751776415181, -58.1384651647706 4.37754472840546, -58.1383118228177 4.37755834756812, -58.138031790536 4.37757216043638, -58.1375317782568 4.37762646412221, -58.1371217415955 4.37765385923703, -58.1368832220766 4.3776435831941, -58.1367659348848 4.37772327260562, -58.1362194234565 4.37751851282403, -58.1358604355373 4.37715927464648, -58.1354845617115 4.37691998972204, -58.1349892315576 4.37669801801179, -58.1342893866809 4.3766819476029, -58.1335554547398 4.37670019436194, -58.1327870244187 4.37647863487196, -58.1318308634479 4.37627449347983, -58.1313358685744 4.37627524236278, -58.1313349793267 4.37622612105459, -58.131151849675 4.3762641158044, -58.1308408488081 4.37625885876168, -58.1305852024641 4.37651623449839, -58.1304318145749 4.376670660643, -58.1302104092716 4.37699651516081, -58.1302433004215 4.37682209168295, -58.1301591000408 4.37692806210338, -58.1300388980412 4.37644853042494, -58.1300381007414 4.37591742080042, -58.1301222630265 4.37512919351501, -58.1301726208188 4.37456374131987, -58.130248003037 4.37361276736909, -58.1302983095709 4.3730130508739, -58.1301432782443 4.37207099045581, -58.1300398651285 4.37140297444125, -58.1297225406491 4.37036693101712, -58.1295170242947 4.36990466151535, -58.1292262162735 4.36947678397058, -58.1289525541298 4.36910027972438, -58.1281322853695 4.36845047588561, -58.1279612918801 4.3682451422205, -58.1275422268636 4.36765469741928, -58.1273194652209 4.36707252354068, -58.1272500903353 4.36633592526162, -58.127198168707 4.36585629032196, -58.1270944518621 4.36498268127859, -58.1271535392014 4.36454571043231, -58.1272894486426 4.36411719069601, -58.1276298215607 4.36344850532791, -58.1279533811317 4.36295117282423, -58.128089213331 4.3624712547748, -58.1280970692277 4.36201722792241, -58.1279766432614 4.36138350244409, -58.1276344562681 4.3608357720767, -58.1273091586446 4.36016808869197, -58.1268129476723 4.3593464678884, -58.1263081918641 4.35851629270995, -58.1259999906846 4.35786571475103, -58.1258115746949 4.35742054831257, -58.1255036047448 4.35692416418756, -58.1254261720561 4.35650453095021, -58.1253573127944 4.35611058273826, -58.1252029590882 4.35561396729258, -58.1249626767566 4.35472342986531, -58.1246888709277 4.35424412515154, -58.1242273393707 4.35378223413874, -58.1238084401456 4.3532945810548, -58.1234319972235 4.3526612350814, -58.1230551986681 4.35178803324975, -58.1228153026396 4.35115448271686, -58.1225753826602 4.35050379977568, -58.1223868953197 4.35000723383896, -58.1224116978871 4.34946751859481, -58.1223250888923 4.34861101417026, -58.1222217154013 4.34796012716875, -58.1221353597354 4.34727494931283, -58.1219042171188 4.34678701217581, -58.1215616361743 4.34596515497476, -58.121424331372 4.34545137889566, -58.1212868234739 4.34480054311993, -58.1210811952423 4.34425260310615, -58.1210293584181 4.34382436364617, -58.121036943027 4.34318187656462, -58.1209850043989 4.34268510634112, -58.1207271619778 4.3414519375333, -58.1205040380532 4.34061276805831, -58.1201701115266 4.33986799271001, -58.1198958111813 4.33904603101196, -58.1197069264406 4.33827534182337, -58.1194583421547 4.33753043810215, -58.1191497306836 4.33658859879179, -58.1190121021636 4.33585209759815, -58.1189430230178 4.33530395342257, -58.118890836537 4.33463585548651, -58.1188560447845 4.33419045774665, -58.1187957151495 4.33378792898154, -58.1183850522422 4.33308609723359, -58.1182820650557 4.33269219717276, -58.1183323869002 4.33209247818119, -58.1184678728101 4.33137270442794, -58.1187648091884 4.33018154258941, -58.1188149296859 4.32944476297423, -58.1190358036756 4.32875912752377, -58.1191027655001 4.32786812795625, -58.1192299299951 4.3272939942583, -58.1192632846986 4.3267628314542, -58.1194670400528 4.32604295689649, -58.1196707197102 4.32527168382816, -58.1197384110237 4.32487753214708, -58.1197208150637 4.3245177712221, -58.1198137934948 4.3239094236494, -58.1199149913476 4.32308690454093, -58.119947390598 4.32190470116364, -58.1198355576181 4.32129665559635, -58.1197828951942 4.32030303752649, -58.1196620894461 4.31939518331697, -58.119550183119 4.31873573986283, -58.1194983516701 4.3183074993404, -58.1192751930647 4.31743406147765, -58.1190006301221 4.31642363823426, -58.1187695037396 4.3159356967893, -58.1185636646294 4.31523356017019, -58.1185284506884 4.31449690541937, -58.1185787998964 4.3139143205572, -58.1187142357294 4.31316028100351, -58.1189264623745 4.31239756257674, -58.1190784381432 4.31128371245209, -58.1191283362772 4.31039273895145, -58.1192974805797 4.30934739457998, -58.119356099573 4.30858490271216, -58.1194576007877 4.30796797621073, -58.1195587271213 4.30709405869206, -58.1196086256793 4.30620308528118, -58.1196503288099 4.30554341484356, -58.1196497519751 4.30514936306281, -58.1196830342896 4.30456680259941, -58.1195620858129 4.30355615198739, -58.1192791371347 4.30263996861053, -58.1190387939481 4.30168089107518, -58.1186447239876 4.30063637597507, -58.1181230130355 4.29984047212364, -58.1174041445073 4.29843664613131, -58.1169931868074 4.29751208183005, -58.116762195018 4.29710980270219, -58.1166764357893 4.29681867191574, -58.1166930026048 4.2964759932587, -58.1168288173819 4.29597894537287, -58.1168790697578 4.29532782761184, -58.1168440875338 4.29474536674006, -58.1166215931748 4.29431737502607, -58.1162367009005 4.29370972764741, -58.1157065024045 4.29293953148481, -58.1154498504965 4.29249445677143, -58.114928199726 4.2917328137316, -58.114670901882 4.29084228814674, -58.1146016642732 4.29017421232696, -58.1146182096164 4.2898144011594, -58.1146968236301 4.28963834461161, -58.1146178858325 4.28959167596181, -58.1141901438086 4.28885559340554, -58.1132331555635 4.28800035347473, -58.1128225580991 4.2873156433678, -58.1125316022188 4.2867506866941, -58.1123260564578 4.28623700329992, -58.112154446725 4.28558620980056, -58.112516860117 4.28500698851942, -58.1128921618924 4.28440716808838, -58.1136330481305 4.28351200585662, -58.1142260369444 4.28298959245772, -58.1144954146234 4.28253739488974, -58.114727723787 4.28214742107514, -58.1151753089823 4.28164944130519, -58.1155595834735 4.28134849549394, -58.1159300239004 4.2809009134244, -58.1163748978492 4.28060223697482, -58.1168003478728 4.28012032963734, -58.1175604333197 4.279259381545, -58.1182269846054 4.27828981890146, -58.118329620235 4.27761352828549, -58.1183121601867 4.27680986564949, -58.1181486590356 4.27545867714442, -58.1180023442719 4.27467189439369, -58.1178830631549 4.27403047919257, -58.1179888393211 4.27274509639734, -58.1182717838199 4.2722037822019, -58.1188457487905 4.2714218298155, -58.1193293201616 4.27076302709198, -58.1197733224313 4.26986829749367, -58.1203215173211 4.26931635382682, -58.120828075324 4.26861180786028, -58.1212294478244 4.26795877721743, -58.1216680415082 4.26736369460409, -58.1219215944951 4.26710840701415, -58.1231078619968 4.26628709601559, -58.1240133032203 4.26592987493549, -58.1248138554522 4.26561403514724, -58.1262231978699 4.26509041974125, -58.1270960048042 4.26458801784169, -58.1282995018759 4.26389526328764, -58.1289845936857 4.26353633818023, -58.1299078271903 4.26305264823686, -58.1309301922242 4.26244895812352, -58.1317374868931 4.26195526350508, -58.1325251147162 4.26151629364587, -58.1334169368463 4.26109978931141, -58.134636440725 4.26053024826158, -58.1355746659739 4.26008087886086, -58.1363086583662 4.25971108505394, -58.1374354360205 4.25917321062394, -58.1383210934283 4.25881427191122, -58.1391270763044 4.2585148076217, -58.1399022844136 4.25808094025393, -58.1404618469797 4.2577677644745, -58.1411612264028 4.25718540979636, -58.1418953627729 4.25657411422902, -58.1426918204835 4.25602950685632, -58.1435757312931 4.25563971008944, -58.1445526173488 4.25529482378433, -58.1450592503563 4.2551159578927, -58.1463488573679 4.25469954190159, -58.1469137285373 4.25451714386517, -58.1478039245356 4.25421776857347, -58.1492178798088 4.25380804717644, -58.1504745764987 4.25354324434418, -58.1516328017439 4.25327010107045, -58.1527002247635 4.25301836974148, -58.154035743981 4.25279284815974, -58.1548886908489 4.25252102849326, -58.1554451431814 4.25234369664509, -58.1565580181999 4.2521185063451, -58.1575824185318 4.25187955279044, -58.1589548691486 4.25145417184722, -58.160118496654 4.2509210524002, -58.1613920241572 4.25005335543514, -58.1623632699696 4.24939161131372, -58.1639793103468 4.24860323610074, -58.1649057232051 4.24817875606528, -58.1661577706292 4.24757307239038, -58.1669222460073 4.24709454426413, -58.1680127258774 4.24628236915368, -58.1687936228904 4.24569253592061, -58.1693765926564 4.24544065913159, -58.1703510833149 4.24501962171815, -58.1710505459709 4.24504781533206, -58.172132302677 4.24509141854773, -58.1726110030808 4.24524352993632, -58.1733911388357 4.24549142562064, -58.1741570011855 4.24557713677765, -58.174656212227 4.24553460580214, -58.1751245243263 4.24521385281274, -58.175549328673 4.24492289935406, -58.1760519527588 4.24457864473029, -58.176509611095 4.24426518681003, -58.1769225285518 4.24394174991578, -58.1775169659135 4.24347612736884, -58.1778438557459 4.24322007500098, -58.1782863011143 4.24267548519385, -58.1789694716709 4.24216824108309, -58.1795487044139 4.24187637368149, -58.1810008810587 4.24158426913964, -58.1831099841116 4.24127487430188, -58.1850389297998 4.24089938669559, -58.1872649482795 4.24067244771504, -58.1883776717861 4.24037271338012, -58.1897188059354 4.23980063083862, -58.1903059251483 4.23955018479564, -58.1923298040029 4.2391913853072, -58.1937640554054 4.23893838717917, -58.1954251566178 4.23864821019099, -58.1965684056707 4.2387120188399, -58.1980227893109 4.23879318937063, -58.1999897905485 4.23879013261945, -58.2019849501186 4.23900138689609, -58.2044029216005 4.23940748187685, -58.2057914125279 4.23945162635126, -58.2068549808489 4.23944996328307, -58.2075886509095 4.23914532696684, -58.2081157625685 4.23892645794592, -58.2089317376297 4.2387016660612, -58.2106046668271 4.23888562626761, -58.21160380279 4.23899549169817, -58.2132344684961 4.23910205795118, -58.2144872724521 4.23898288372503, -58.2153882184907 4.2387660252249, -58.2162467482639 4.23824703089561, -58.2176514483142 4.23760710448688, -58.2191603449505 4.23718474665693, -58.2201349122695 4.23697043285505, -58.2214705877078 4.23689381620674, -58.2222860850282 4.23637099659619, -58.2229654290361 4.23559556815962, -58.2236316116414 4.23488809194753, -58.2243432671054 4.2342365106377, -58.2250275361086 4.23361000287846, -58.2254899479342 4.233299448013, -58.2259171196065 4.233012559293, -58.226732609274 4.23248973698721, -58.2271953707344 4.23214014377491, -58.2276220734169 4.23181778893598, -58.228062855789 4.23132945943629, -58.2283756123894 4.23098296399836, -58.2287639031439 4.23055278681022, -58.2295182277875 4.22932925231308, -58.229703383535 4.22895089405627, -58.2299173715865 4.22851361773983, -58.2307078296294 4.22776726065768, -58.2314161799724 4.22703363765159, -58.2322093910485 4.2262052053492, -58.2329980996514 4.22539679044722, -58.2336858213851 4.22466768650547, -58.2345185301171 4.2239571200034, -58.2356232431783 4.223289261754, -58.2355789798288 4.22255374374034, -58.2355460189445 4.22138441805176, -58.2355441507662 4.22020399462033, -58.2357258450926 4.21878639912664, -58.2363009012667 4.21803497860946, -58.2370979802078 4.21732661235533, -58.2381357160942 4.21657991917336, -58.2385803755083 4.216206691159, -58.2385450501235 4.21564800918466, -58.2381520139684 4.21494038224472, -58.237524120457 4.21441675064889, -58.2370540728885 4.21457489054053, -58.2365328064587 4.21538890317439, -58.2359057850595 4.21541613415121, -58.2353043102744 4.21507608084899, -58.2346502076364 4.21450002413661, -58.234649214521 4.21387046537477, -58.2347002272476 4.21308343293618, -58.234751240102 4.21229640050897, -58.2343847097641 4.21182481269076, -58.2338355758855 4.21153713623597, -58.2333919046346 4.21185262191239, -58.2329740290592 4.21195821320832, -58.2322943813189 4.21174943821882, -58.2320842874951 4.2110677464175, -58.2315607870651 4.21046524764621, -58.2311163720356 4.21030856147354, -58.2303064598886 4.2103360764843, -58.2294963004271 4.21020620155929, -58.2291559012254 4.20973456870221, -58.2294162701273 4.20915705754908, -58.2296243429766 4.20855339753759, -58.2296496462913 4.20802872224344, -58.2289172542446 4.20750524552689, -58.2281335126051 4.20755894859727, -58.2276114981691 4.20790078634317, -58.2273778312819 4.20884549930302, -58.2271445330197 4.21002629801974, -58.2267541413454 4.21099749108982, -58.2262062842421 4.21152299261836, -58.2257100234948 4.21162870303865, -58.2250568737917 4.21165596570122, -58.2243511408886 4.21147345672833, -58.2235412662408 4.21152719668392, -58.2229926268009 4.21155429301981, -58.2224959555402 4.2113976847525, -58.2218937506015 4.21058544612664, -58.2217101612001 4.21013979384441, -58.2215778854246 4.20909072808767, -58.2214203841855 4.20861880291436, -58.2214454886741 4.20796296737917, -58.2215226844762 4.20720212247572, -58.2214953302211 4.20641521010687, -58.2214425026571 4.20604804794751, -58.2215202716822 4.20565444817299, -58.2211543652911 4.20557632755327, -58.2211795523211 4.20497295514736, -58.2209954347724 4.20418628944669, -58.2207068887408 4.20345225068863, -58.2204705996206 4.20271812973979, -58.2207302397495 4.20166844850788, -58.2210432370858 4.20132694338312, -58.221617670546 4.20108995488448, -58.2220872267196 4.2006170447557, -58.2222693407429 4.20011835386611, -58.2220327248123 4.19917437886426, -58.221613791536 4.19859793634616, -58.220646675645 4.19833713401926, -58.2198631852834 4.19854821688409, -58.2192882223778 4.19844418985934, -58.2189740852259 4.19805120313378, -58.2191301963688 4.19763124918739, -58.2194432138399 4.19730286075094, -58.2199649426837 4.19677740716393, -58.2204345797753 4.19635696167684, -58.2207472083044 4.19577937087404, -58.221086086529 4.19528043490545, -58.2215816860788 4.19475502091817, -58.2219995564824 4.19464943883982, -58.2225221391626 4.19467485168733, -58.2230448849789 4.1948051905432, -58.2235941251872 4.19517157410076, -58.2239337778136 4.19517104028775, -58.2433701681181 4.19543176695595, -58.2436635997105 4.19626720891738, -58.2443184860038 4.19714098857435, -58.2449729118289 4.19772315960423, -58.2455798085242 4.19843175293967, -58.2459449136396 4.19883050445167, -58.2462119754656 4.19923392759777, -58.246500294394 4.19932456188252, -58.2472272183135 4.19983371194669, -58.248099830305 4.2006342356429, -58.2496245540899 4.20055888737993, -58.250858831314 4.20048400265492, -58.2517305160114 4.20070130725469, -58.2523845994585 4.20106476439846, -58.2533273824182 4.20033422845323, -58.2538346127918 4.19967729474666, -58.2544852002393 4.19785370096135, -58.2547737808644 4.19668680733902, -58.255417483647 4.19559312864413, -58.2567496143101 4.1953811298284, -58.2571897307863 4.195457727021, -58.2579883626916 4.19560157070053, -58.2584173362163 4.19568698916685, -58.2587097097963 4.19574520718201, -58.2592990935614 4.19573783669409, -58.2597106627982 4.19587794654132, -58.2601544867606 4.19587722857813, -58.2607047480772 4.19568460446117, -58.2612345016298 4.19565575201779, -58.2617662901813 4.19517904592789, -58.2619406264688 4.19487374869904, -58.2621931280855 4.19443156911654, -58.262729460577 4.19415436028103, -58.2637312968544 4.19461938976966, -58.2646256431401 4.19494100744335, -58.2651264748439 4.19511967694516, -58.2656852911829 4.19557651992401, -58.2660710225072 4.19625156097582, -58.2675543231042 4.19732223141616, -58.2686440702042 4.19768496411394, -58.2700971074526 4.19819290586036, -58.2709923991358 4.19766639051175, -58.2716779557158 4.19666248316052, -58.2721989158829 4.19578373125421, -58.2738672971296 4.19476038791102, -58.2750896459686 4.19480048069325, -58.2761368827601 4.19416842330048, -58.2767603815041 4.1939583437715, -58.2774914549067 4.1936686020651, -58.2781705733583 4.19356256360421, -58.2787188448855 4.19332558353657, -58.2796848415097 4.19290429790584, -58.280546201886 4.19240449073075, -58.2810943015445 4.1920625836073, -58.2820077849135 4.1914839957068, -58.282842502498 4.1906694551935, -58.2835989245621 4.18990750510497, -58.284277566771 4.18951292000368, -58.2845907824125 4.18932878576759, -58.2850604120047 4.18893454489615, -58.285503787463 4.18846165307239, -58.2858429570725 4.18817255080116, -58.2863127575562 4.18788323340293, -58.2867826433496 4.18764637863797, -58.2878529290423 4.18710162825019, -58.2887404889465 4.18665423342982, -58.2894187805909 4.1860497971722, -58.2900191227811 4.18570780009484, -58.2906718450743 4.18544441100407, -58.291167552609 4.18502389313624, -58.2918459276042 4.18447191756482, -58.2922114336346 4.18431392599459, -58.2927072685618 4.18397210120216, -58.293020608457 4.1838666584318, -58.2934122405749 4.18370862326222, -58.2939603260822 4.18336671154132, -58.2943777389744 4.18299878397168, -58.2945073345303 4.18236902224233, -58.2946371883626 4.18189664760938, -58.2949231946554 4.18105677776611, -58.2951575089379 4.18055799849088, -58.2956010456891 4.18019002855476, -58.2959665917862 4.18005826692786, -58.2969590722125 4.17987300482995, -58.2974552909947 4.17976725703416, -58.2981342165235 4.17955628236258, -58.298891477054 4.17931894544291, -58.2996747320559 4.17900287118566, -58.3002751493651 4.17871333177481, -58.3005620573193 4.17842431370331, -58.3010576670268 4.17795133089326, -58.3013447473579 4.17776723593972, -58.3018406597958 4.17747786942988, -58.3023107500261 4.17737216355255, -58.3028333940645 4.17744998607568, -58.3034079860427 4.17734410575665, -58.3039824044656 4.17713330013063, -58.3044263240877 4.17700140585184, -58.3049484899138 4.17679068668497, -58.3056534487444 4.17652720185851, -58.3063061551244 4.1762638027631, -58.3068543157704 4.17597434681746, -58.3073243158269 4.17581617602199, -58.3077683639126 4.17576297248022, -58.308551853745 4.17559378527713, -58.3093616588078 4.17553996911818, -58.3099886727805 4.17553892024529, -58.3106676762308 4.17538039830025, -58.3112681716143 4.17514331398006, -58.3117903331164 4.17493259210923, -58.3122601564346 4.17466949607304, -58.3127300665366 4.17445886032973, -58.3132521406593 4.17419567637488, -58.3136960991983 4.1740900076186, -58.3145057270997 4.17393126404719, -58.315289228245 4.17377256357733, -58.3159161073829 4.17369281753095, -58.3164123162509 4.17358706063296, -58.3176919369129 4.17327013779625, -58.3185276433873 4.17308511605007, -58.3195197063376 4.17266375146499, -58.3204858627097 4.17237358480584, -58.3210338804002 4.17200542869594, -58.3218954895874 4.17168920614061, -58.3227047150513 4.17129437830375, -58.3236965096269 4.17071562547158, -58.3271953097818 4.1695293237333, -58.3283440235099 4.16905522468537, -58.3293364263839 4.16884369687837, -58.3303544681748 4.16834358631333, -58.3310854854823 4.16805380706281, -58.3323649510439 4.16765817442703, -58.3333309595817 4.16728930304119, -58.3340096350409 4.16694714950982, -58.3344797090668 4.16684142767366, -58.3351846409392 4.16657792128565, -58.3360988832461 4.16649767289175, -58.3365689111578 4.16636571863419, -58.3372479389988 4.16623340829023, -58.3382668564262 4.1662579022243, -58.3393641487148 4.16628226024575, -58.3402004584713 4.16646444682376, -58.3412194639415 4.16654139758377, -58.342003745713 4.16685482498298, -58.3430898706877 4.1671067236861, -58.3443256386957 4.16817961435336, -58.3449073522523 4.1686889119481, -58.3457797374571 4.1693435080535, -58.3465074088367 4.17028994889081, -58.3475260033959 4.17152748552273, -58.3485448491841 4.17291081675298, -58.3499263565402 4.17407482359304, -58.3516000394369 4.17625890879991, -58.3920410839501 4.17604224531648, -58.393274080898 4.17531107381743, -58.393708551554 4.17465422110396, -58.3947237303619 4.17392343577886, -58.3960307418339 4.17399400508919, -58.3967580775665 4.17472168545985, -58.3976312698942 4.1758135928916, -58.3985761650097 4.17639508613531, -58.4000296825463 4.17719436162615, -58.4011199194713 4.17784848835232, -58.402356015154 4.17886683930919, -58.4035174337032 4.17871896146051, -58.4046800188792 4.17922715692865, -58.4070032426735 4.17915008501108, -58.4074758339349 4.17894572311643, -58.4080454697507 4.17869939548129, -58.4085267704534 4.17849126687812, -58.4100942156888 4.17786803749233, -58.41092102725 4.17753928939809, -58.4121657439916 4.17656787725996, -58.4124267543269 4.17643625739522, -58.4132102061845 4.17627746374752, -58.4141768579657 4.17630194820319, -58.4154571913606 4.17643078335159, -58.4162932202638 4.17645550110518, -58.4171555143766 4.17655885931885, -58.4180700106931 4.17663589239152, -58.4185925462804 4.17666117592409, -58.4196638828961 4.17679038220229, -58.4206139941105 4.1767555222745, -58.4215967574121 4.17660326525947, -58.4226941699844 4.17670619036127, -58.423347988484 4.17709844782623, -58.4238711864754 4.17749094199849, -58.4241854367191 4.17791004610571, -58.4244743678048 4.17877510098775, -58.4249979937482 4.17940366068827, -58.4257042544225 4.17990073765306, -58.4260966425721 4.18018854944483, -58.4269075922596 4.18079035302753, -58.4272221303606 4.18136683232798, -58.4276152327789 4.18204808600814, -58.4278377352358 4.18280083805684, -58.4281667951194 4.18367331825205, -58.4283766948257 4.18417129805421, -58.4286132193963 4.18494464144544, -58.4287446515984 4.18539030533494, -58.429112109601 4.18633390061071, -58.4292699525488 4.18693689373289, -58.4295583239581 4.1874871889639, -58.4297940174112 4.18780151324597, -58.4303955518857 4.18816762567823, -58.4305788062887 4.18837712768047, -58.4313106778686 4.18858562274675, -58.4323035586427 4.18866249028169, -58.4331655763103 4.18860844850247, -58.4336617528744 4.18850261936997, -58.4340270681122 4.1882658812484, -58.4343137213635 4.1878719108947, -58.4347309495586 4.18745147045114, -58.4354355005447 4.18700427278141, -58.4364010082298 4.18639921693465, -58.4371835472918 4.18574203803711, -58.4377836437571 4.18532126064399, -58.4385406306488 4.18497888248666, -58.4395059889809 4.18429513661189, -58.4400801031702 4.18395309416, -58.4408109629736 4.18361076269635, -58.4414114877914 4.18342604886934, -58.4419600996025 4.18342503668107, -58.4428742117129 4.18329220233396, -58.4436056460745 4.18326462150153, -58.4446505709929 4.18323646193333, -58.4455387985563 4.18323481901061, -58.4468972629271 4.1832323053146, -58.4481254422154 4.18341363629166, -58.4493020000523 4.18393604385645, -58.4499557840416 4.18430204320764, -58.4506094227838 4.18458935343977, -58.4512371792061 4.18500785807337, -58.4515508156222 4.18508596350792, -58.4523348351484 4.18524188274987, -58.453145560189 4.18571250379726, -58.4535645662007 4.18626254168993, -58.4538524670367 4.18655052833128, -58.4544800324852 4.18686411186862, -58.4552379284021 4.18702007599595, -58.455629745036 4.18699311704661, -58.4559202437277 4.18724118057389, -58.4566086873135 4.1875251689215, -58.4569538392788 4.18817014253323, -58.4573067897309 4.18898776674729, -58.4575887446205 4.18934026797525, -58.4575889897833 4.18947219831578, -58.4576832234758 4.18963706570566, -58.4576836414185 4.1896390021317, -58.4576602816002 4.18971149199845, -58.4578470791127 4.1900227467774, -58.4580418249729 4.19020255507066, -58.45840160061 4.19066732800715, -58.4585815590707 4.19093725006358, -58.4589858384173 4.19120675192265, -58.4592549395771 4.19116120577145, -58.4594490994519 4.19102571330049, -58.4596731972907 4.19090517952111, -58.4598525146705 4.19082977169391, -58.4599724033905 4.19096467608699, -58.4598082077614 4.19113014109574, -58.4598085428945 4.19131031312452, -58.4599733235301 4.19146014822827, -58.4602428146753 4.19162480118033, -58.4603929761083 4.19195483519337, -58.4605130602372 4.19219484002399, -58.4606782323825 4.19255487426987, -58.4604993050733 4.19284048181689, -58.4602155833806 4.19306622854496, -58.4596483057539 4.19360780606812, -58.4594802113265 4.19376417219993, -58.4591252246773 4.19378895719172, -58.4590917283762 4.19378902074172, -58.4590941054394 4.19379382403675, -58.4589308683267 4.19381935005054, -58.4589014324251 4.1940746494751, -58.4586178768525 4.19439048108317, -58.4580953786488 4.19488693214141, -58.4575580920546 4.19547349712012, -58.4572151617952 4.19602966939978, -58.4570963309129 4.19646530707127, -58.457156679806 4.19675046735346, -58.457262422873 4.19688986974107, -58.457298191987 4.19727692213974, -58.4576525304781 4.19801074551921, -58.4578924776673 4.19837064047462, -58.4579118429933 4.19894978166946, -58.4580012000857 4.19903030966693, -58.4579984728568 4.19907611584107, -58.4581039388053 4.19949632008386, -58.4582991887592 4.19994638469577, -58.4585243774673 4.20041140781395, -58.4586147767822 4.20077158215625, -58.4585254661292 4.20099696529685, -58.458339158103 4.20133513667937, -58.4583098062451 4.20163547832121, -58.4584894607207 4.20174024201422, -58.4589383882232 4.20188954436237, -58.4591632423321 4.20217439401198, -58.4593583273833 4.20253437277897, -58.4596278239809 4.20269902551724, -58.4600471216949 4.20299852482289, -58.4602718089059 4.20319328973258, -58.4604671183646 4.20367338044954, -58.4604976718805 4.20401865262727, -58.4606258944841 4.20461147917182, -58.4607616359262 4.20522681080748, -58.460777598526 4.20576729657972, -58.4607184780487 4.20614276549437, -58.4608387058018 4.20645783980613, -58.4609514151557 4.20675040797994, -58.4608625528405 4.20721601991867, -58.4608036852688 4.20772661684992, -58.4608048046182 4.20832718734689, -58.4608055611723 4.20873257314878, -58.461030755444 4.20919759403997, -58.4611657431887 4.20940754032404, -58.4612563981209 4.20990284236385, -58.46142124008 4.21008270396437, -58.4617283665498 4.21037490520433, -58.4620582191247 4.21082471387282, -58.4622836402201 4.21140984719123, -58.4624786732206 4.2117397954723, -58.4627485665992 4.21211464395953, -58.4630331628001 4.21235433714521, -58.4631983433723 4.21271436878668, -58.4634833328965 4.21316426071214, -58.4635661058657 4.21344186863643, -58.4639257027438 4.21380153348297, -58.4639712709112 4.21417680577049, -58.4640915583342 4.21452190782689, -58.4643313468926 4.21479171207097, -58.4645713314467 4.2151666165468, -58.4648562676433 4.21558647816303, -58.4648865160642 4.21576659321902, -58.4649020896804 4.21609687791079, -58.4649849762523 4.2164345428459, -58.465359813612 4.21694432033709, -58.4655104065535 4.21749956501733, -58.4654673720989 4.21847557543279, -58.4655652418873 4.21882822644416, -58.4658651347508 4.21924805873755, -58.4659703575761 4.21953313163228, -58.4662552676831 4.21993797819333, -58.4664203959672 4.22026797974384, -58.4666750008956 4.22046268385581, -58.4668402704379 4.22086775539148, -58.4670204099152 4.22122775750718, -58.4670663477122 4.22179821294371, -58.4671342250088 4.22210587712592, -58.4673439652131 4.22230066477177, -58.4674338674088 4.22239058049409, -58.4676297538138 4.22317095108676, -58.467990035376 4.22389095327618, -58.4681856134885 4.22450616764523, -58.4683954111926 4.22473098381062, -58.4688741516697 4.22482016099736, -58.4690687400868 4.22490987690091, -58.4692936629127 4.22522474897256, -58.4694063792414 4.22551731282772, -58.4697658731576 4.22581691645801, -58.4698114458116 4.22619218616154, -58.4698271089556 4.22656751172578, -58.4699774553186 4.2269876262666, -58.4702624559403 4.22743751235465, -58.4703825517807 4.22767751158008, -58.4707719294436 4.22796204196517, -58.4709963444402 4.22800665834754, -58.4711013437514 4.22817161485025, -58.4712293282959 4.22862930598801, -58.4714992060374 4.22898913502526, -58.4716500065813 4.22964947418625, -58.47163607236 4.23019001350617, -58.4716368384846 4.23059539710554, -58.4716225917601 4.23097078007616, -58.4712728268986 4.23186479335909, -58.4709304418193 4.23270624340955, -58.4708266886671 4.23320191088955, -58.4707979135667 4.23380253611059, -58.4708214665065 4.23439555353495, -58.4711519353513 4.23516064996669, -58.4716321286863 4.23601554745347, -58.4718573427172 4.23648055987876, -58.4720073522007 4.23672050203972, -58.4721498414772 4.23693793658747, -58.4724346214805 4.23726770649005, -58.4725999001815 4.23767277523842, -58.4729145347715 4.23797245868653, -58.4729450140596 4.23827268590583, -58.473065313282 4.23861778367259, -58.4734098878686 4.23893242416311, -58.4736049932947 4.23929239260743, -58.4738300383508 4.23966731743789, -58.4740025820738 4.23995976584775, -58.474182617924 4.24025970624283, -58.4743780097247 4.24076981581719, -58.4747373420875 4.24097932769158, -58.4749771151195 4.24123411162102, -58.4755465683874 4.24183358999441, -58.4760711541876 4.24243315349962, -58.4769029746502 4.24336994831297, -58.4772177275144 4.24372968566931, -58.4774577591657 4.24411959508901, -58.4778020810687 4.24429910435533, -58.478131876887 4.24470385495456, -58.478386493512 4.24489855127024, -58.4785474185959 4.24488747052987, -58.478625612683 4.24480800717765, -58.4788350769814 4.24485264718683, -58.4789266570484 4.24485677544296, -58.4791952134527 4.2454825524229, -58.4792853765699 4.24570759204316, -58.4796151156891 4.24608231255041, -58.4799001600868 4.24654720494641, -58.480080116101 4.2468021000481, -58.4805440269779 4.24695134955426, -58.4807538640197 4.2471911733419, -58.4808741681431 4.24753626811732, -58.4811590430054 4.24791107365647, -58.4815034817826 4.24815063733159, -58.4819006531627 4.24859279082912, -58.4822753772698 4.24902748081067, -58.4826950260147 4.24949211117815, -58.4829496739372 4.2497018185635, -58.4834886239743 4.24998604792374, -58.4842817067065 4.25020973155302, -58.4851052477768 4.25071862277599, -58.4857790304252 4.25112270399158, -58.4863258202884 4.25159459301641, -58.4867454726151 4.25205921980499, -58.4871200561168 4.25241883461193, -58.4875093085128 4.25262827865338, -58.4877339617178 4.25279300088551, -58.4881840166908 4.25351280642532, -58.4885815125068 4.25412010908778, -58.4888217555263 4.25461510992767, -58.4889310331599 4.25488784304772, -58.4889034085804 4.25495003086448, -58.4889271382723 4.25497524508253, -58.4889280910063 4.25547070901537, -58.4886454904891 4.2562820186889, -58.4882441380678 4.2575589971473, -58.4878709072427 4.25790504550895, -58.4870341028194 4.25828201907226, -58.4863919536951 4.25877872955986, -58.4860634157646 4.25903460503134, -58.4857648467784 4.25932045236483, -58.4853697994901 4.25998934583761, -58.4850570815213 4.2606956154776, -58.484684769382 4.26152211366777, -58.484666575174 4.26156965857959, -58.484648075311 4.26176873275598, -58.4846731052285 4.26222924560015, -58.4846413718866 4.26228791885362, -58.4846877097252 4.2630535513941, -58.4847785129465 4.26360889853725, -58.4848395199761 4.26422436034693, -58.4850353888977 4.26497468792255, -58.4853808778954 4.26575475458453, -58.4856741221911 4.26658747093852, -58.4858093035967 4.26688749158492, -58.4858854128622 4.26757799424843, -58.4861254315194 4.26795288127782, -58.4862158611684 4.26831304547877, -58.4865157907921 4.26873285953521, -58.4868153451259 4.26895749036586, -58.4870030622716 4.26935499906891, -58.4872580959951 4.26975988607058, -58.4874082348784 4.27005987697535, -58.4875287222234 4.27049505202337, -58.4877537579833 4.27085495344194, -58.4879341873086 4.27135006978727, -58.4879946768292 4.27169527699887, -58.4882131190421 4.27251312225075, -58.4882446532135 4.27335385134005, -58.4882908252643 4.27402939549487, -58.488329628341 4.27408464623654, -58.4883261256437 4.2743507759429, -58.4883267065499 4.27465191157086, -58.4882489520296 4.27537980773181, -58.4882942177737 4.27578604094429, -58.4882351756737 4.27619153734847, -58.4880516510841 4.27676876565697, -58.488049326774 4.27772236710068, -58.4880670575136 4.27827441683371, -58.4880155602177 4.27863926586637, -58.4880460812117 4.27895450217565, -58.48806150208 4.27919469913488, -58.4880831979488 4.2793450710979, -58.4880585720196 4.27940722259188, -58.4881007848024 4.27982284006002, -58.4882119612836 4.28021061044235, -58.488308878027 4.28036284546972, -58.4885439896824 4.2805979507613, -58.4886827191995 4.28095795447832, -58.4888491898569 4.28138718567042, -58.4891262997625 4.28192705604791, -58.4893342348024 4.28238392077817, -58.4894454653625 4.28279940331312, -58.4894394358345 4.28324975743903, -58.4894591763717 4.28361284235396, -58.4894440484675 4.28366708740521, -58.4894281634066 4.28368665562007, -58.4894402945422 4.28369316880019, -58.4894546347376 4.28397027432231, -58.48924846989 4.28442794621448, -58.4890009222656 4.28489955567393, -58.4889189067533 4.28531541588675, -58.4887540445909 4.28571758169892, -58.4886581722204 4.28610575525368, -58.4885622998169 4.2864939288264, -58.4884251250881 4.28693761039309, -58.4883427876797 4.28718719081414, -58.4882062294869 4.28794957450996, -58.4879661587827 4.28871908855686, -58.4875949696645 4.28949578679718, -58.4871959304356 4.29014782941024, -58.4868242023107 4.29064739504423, -58.4864322128723 4.29137563491117, -58.4862672418154 4.29172237465581, -58.486171421083 4.29213826127656, -58.4858824872898 4.29262380870525, -58.4857174354723 4.2929289780306, -58.4853252282039 4.29354636617147, -58.4850090343007 4.29421210346781, -58.4847063218439 4.29471153558822, -58.484596162106 4.29485031633021, -58.4844722784532 4.29503069535965, -58.4844174401037 4.29522479584522, -58.4843626276314 4.29543275316795, -58.4843492529205 4.29565448573604, -58.4843596106371 4.29583956644942, -58.4843314241673 4.29587245844023, -58.4843358782256 4.2958762192097, -58.4842814149569 4.29626431353846, -58.4841438348906 4.29650014502986, -58.4839372101525 4.29672225507366, -58.4837166738584 4.29688896556296, -58.4835653981948 4.29718025218107, -58.4833867558101 4.29759630049467, -58.4830423080699 4.29792953317495, -58.4827806832351 4.2982626035963, -58.4825194062952 4.2987758111295, -58.481947907688 4.299476688124, -58.4816587812223 4.29986523963548, -58.481439155432 4.30050307641226, -58.4811231709528 4.30127966712575, -58.4809444456552 4.30165414687378, -58.4805724694477 4.30202900279724, -58.480014289959 4.3024804339885, -58.4793940322268 4.30295276930731, -58.4787460337973 4.30335587645915, -58.4782081421674 4.30359248712946, -58.4780159894364 4.30363421163546, -58.4780352849616 4.30374212551979, -58.4776144702046 4.30414925271496, -58.4774403483462 4.30457850273512, -58.4772368442839 4.30487831700372, -58.4770822834293 4.30516692313321, -58.4768300171511 4.30557249822101, -58.4765342486946 4.30601404638793, -58.476241660231 4.3063088968293, -58.4759057410185 4.3065828642161, -58.4756933385869 4.30700887955379, -58.4754837006544 4.30752921653467, -58.4752803471044 4.3079078256491, -58.4747324418117 4.30871259373636, -58.4741221048943 4.30970658928901, -58.4737306680504 4.31024315213025, -58.4730417445638 4.31119002361649, -58.4726189694801 4.31175816493699, -58.4721175486016 4.31224766444135, -58.471819604563 4.31242159083587, -58.4714352063744 4.31271885092436, -58.4713844696703 4.31277927798928, -58.4713493377533 4.31278495871337, -58.4706127052226 4.3134167437386, -58.4701897765696 4.31390609059109, -58.4696882314486 4.3143325541682, -58.4692187499508 4.31510565196536, -58.4681995332073 4.31573798433984, -58.4677449305934 4.3160855610967, -58.4675571187857 4.31638534464851, -58.4665222899342 4.31706498364547, -58.465644026101 4.31752369250734, -58.4652757499764 4.31786322257649, -58.4643512026785 4.31874751269388, -58.4640535257456 4.3190632663671, -58.46392850876 4.31936292929869, -58.4634268655604 4.31974211448138, -58.4632545988177 4.3199630722376, -58.462957797807 4.32073583581381, -58.4626539187295 4.32191046637614, -58.4621856356979 4.32331391968509, -58.4621398982813 4.32402316104627, -58.4621256205913 4.32476386041163, -58.4616800540712 4.32573389907243, -58.4611171510026 4.3269169097605, -58.4607886467276 4.32753214581774, -58.4606959931496 4.32833603274972, -58.4607024122085 4.32833973285765, -58.4606491678728 4.32847795370808, -58.4607775445343 4.32992753117408, -58.4607784824712 4.33041605839636, -58.460653795272 4.33088906860271, -58.4604987079936 4.33188218365971, -58.4601398316182 4.33303328404898, -58.4601642438843 4.33348236816824, -58.4604317678986 4.33381278869807, -58.4604440319364 4.33381440553796, -58.4604454247036 4.33381811354432, -58.4608492401795 4.33418518639331, -58.4614538009943 4.33463027614499, -58.4615486639638 4.33497679000378, -58.4617058399594 4.33507103931005, -58.4618955658574 4.33517636305696, -58.4619422997253 4.33557486728592, -58.4619431790526 4.33603187643294, -58.4618816245266 4.33667811370586, -58.4617107504568 4.33762398251555, -58.4616491354482 4.33823870119978, -58.4619023614831 4.33870774167862, -58.4620497254034 4.33911209475288, -58.4623437460082 4.33955294838813, -58.462967515436 4.33995637623705, -58.4634076985245 4.34017623294349, -58.4636280022744 4.34039651705076, -58.4638116601568 4.3406168731006, -58.4642885606723 4.34087344275613, -58.4646183082486 4.3408360163835, -58.4651681462915 4.34090851796799, -58.4654618863814 4.34120222846351, -58.4656454730405 4.34138579810505, -58.4655338889 4.34185571632885, -58.4657201164738 4.34208457234148, -58.4658669864163 4.34223142829329, -58.4660543765205 4.34309965917025, -58.4662436232579 4.34354054105099, -58.4663544341458 4.34401309326697, -58.4662460001535 4.34476973326869, -58.4661528694799 4.34532147692746, -58.466148518276 4.34568869442976, -58.4660443432856 4.3460308404867, -58.4657780908668 4.34636229662141, -58.465558875566 4.34666214337713, -58.465182298351 4.34677318951509, -58.4650574931409 4.34718316574878, -58.4645721761184 4.34789326276323, -58.4643850599514 4.34855550286089, -58.4639153800253 4.3492340516775, -58.4635079503355 4.34962881889819, -58.4631473458582 4.34988166380454, -58.4629687782351 4.35010911855209, -58.4623822145646 4.34999990485004, -58.4622274195242 4.34999106598639, -58.4620640682685 4.34988377145564, -58.461294783208 4.34988526686827, -58.4607929408854 4.35016990311876, -58.4603542914846 4.35065928358609, -58.4602302434424 4.35146323206151, -58.4601680225015 4.35176277450442, -58.4598859127752 4.35201546613347, -58.4597764706803 4.35225206270167, -58.4595257609849 4.35250469333811, -58.4595259743915 4.35261500642782, -58.4596046243439 4.3526936484698, -58.459699851571 4.35269346270355, -58.4597777780987 4.35292969553217, -58.4599666303541 4.35316571384109, -58.4600925024529 4.3533072998469, -58.460245035827 4.35346188161537, -58.4605018498498 4.35360852280983, -58.4608319582175 4.35375502235682, -58.4608944673888 4.35396761707886, -58.4608794064375 4.35429858574573, -58.4610529054032 4.35430637261277, -58.4610055516334 4.35458200132871, -58.4609118404517 4.35483432730978, -58.4609438793582 4.35516520350409, -58.4609605830232 4.3556852157755, -58.460819893655 4.35600066976832, -58.4608676320789 4.35633151452197, -58.4611038289643 4.35669351150003, -58.4611202906417 4.35708745363611, -58.461026882801 4.35749736842115, -58.4608551588139 4.35800198915593, -58.4607931210135 4.3583960849332, -58.4607623602842 4.3587270823401, -58.4607782422381 4.358821605937, -58.4609336644685 4.3589783420833, -58.4611537618937 4.35908826970721, -58.4613733619544 4.35894070050524, -58.4615199514426 4.35894041517957, -58.461630320428 4.35916091211461, -58.4618504179481 4.35927083948164, -58.4623634812267 4.35926983941094, -58.462620084395 4.35930612453565, -58.4628403242826 4.35948962122189, -58.4631337887806 4.35963619103004, -58.4634633300312 4.35948840611557, -58.463646495225 4.35945126407714, -58.4639395317117 4.3593771219022, -58.4642325681051 4.35930297963206, -58.464525604405 4.35922883726677, -58.4648915078866 4.35893384027354, -58.4652943428804 4.35878591267852, -58.4659170613659 4.35863755478017, -58.4662468873462 4.35863691080553, -58.4665033474284 4.35859962415507, -58.4667598065555 4.35856233742727, -58.4671992161453 4.3583775526515, -58.4674920374079 4.35819305325512, -58.4681515448164 4.35811819350679, -58.4687377574844 4.35804347566723, -58.4693977643052 4.35822610982317, -58.4697284479453 4.358666884677, -58.4700594170379 4.35925479902426, -58.4702435125674 4.35969586039837, -58.4704643982524 4.36021042018351, -58.4703918197708 4.36057841358062, -58.4702094418961 4.36102019361063, -58.4700636392607 4.36142511625273, -58.4697711049163 4.36175675662937, -58.4693234797641 4.36202223671233, -58.4691211684478 4.3620516508998, -58.4683215468924 4.3626047804915, -58.468165344975 4.36301481703377, -58.4682292474945 4.36358201246383, -58.468261903564 4.36422806521842, -58.4682629447628 4.36476386590279, -58.4683421807491 4.36514192377725, -58.4681547924309 4.36566233549397, -58.4681087038893 4.36618246961349, -58.4681567853857 4.36668666131582, -58.4681284832305 4.36674196733181, -58.4680767283627 4.36676286499948, -58.4674173566271 4.36691129672664, -58.4668677135649 4.36694915939769, -58.466445306222 4.36707119516154, -58.4661949298976 4.36702144198051, -58.4655517504233 4.36729060210451, -58.4650972760441 4.3677169827949, -58.4645019600954 4.36838002310952, -58.4641572322424 4.3687273936622, -58.4639386239577 4.36934241999875, -58.463845219373 4.36975233499924, -58.4633600769479 4.37055698918892, -58.4627964642469 4.37137755742967, -58.4624590787945 4.37146489009714, -58.4620667898253 4.37157596959126, -58.4617689159605 4.37179717791977, -58.4607800520306 4.37192518129679, -58.460293409044 4.3719576494835, -58.4601214089644 4.37232044038848, -58.4600276048031 4.37252549036949, -58.4597610681514 4.37271511831864, -58.4593768271513 4.37292861458727, -58.4590163932649 4.37327601484199, -58.4587343401555 4.37356022648646, -58.4584364624788 4.37378143407188, -58.4581389225843 4.3741759884173, -58.4580296609412 4.37450714007619, -58.4581246860144 4.37493244727879, -58.4583762863928 4.37513682309601, -58.4585491109833 4.37519952191821, -58.4585985761656 4.37520032804966, -58.4590230059594 4.37535154313777, -58.4594262069898 4.37538754071502, -58.4597930461442 4.37557075177642, -58.4601962471958 4.37560674979091, -58.460496854285 4.37566848776458, -58.4605444143389 4.37590477879769, -58.4605448724897 4.37614116270481, -58.4603097660088 4.37634648785797, -58.4600904211371 4.37658330187344, -58.459902415501 4.37678853592103, -58.4595390759398 4.37689551961585, -58.4587703172127 4.37733844452918, -58.4585221676733 4.3775003842809, -58.4585069255596 4.37773679992402, -58.458475830185 4.37789444998699, -58.4581851547162 4.37796493786063, -58.4578793101717 4.37794289030197, -58.4576134736199 4.37849497448033, -58.457598842232 4.37904656702337, -58.4576318309354 4.37986596966078, -58.4575697000344 4.38021278855882, -58.4573346229382 4.38043387324218, -58.4568342935363 4.3806161216374, -58.4562051127616 4.38090884588937, -58.4557824547893 4.38155578956501, -58.4555955441745 4.38232834458638, -58.4554564371407 4.38346326346407, -58.4553321773164 4.3841569017062, -58.4551918802786 4.38467722269301, -58.4552080690349 4.38492933449711, -58.4552553528262 4.38502379697542, -58.4550515212714 4.3851660259096, -58.4545525854635 4.38518196150772, -58.4540759386012 4.38507253406401, -58.453245754854 4.38505923301111, -58.4525735515623 4.3851858183611, -58.4520609665441 4.38544431526031, -58.4515196765488 4.38556688285689, -58.4512220069327 4.38589840138194, -58.4510822857266 4.38671814227757, -58.4511460916464 4.38723806658082, -58.4514785645479 4.38750543378367, -58.4523402160056 4.38769275236375, -58.4528900699372 4.38786502944458, -58.4531577102297 4.38824272435687, -58.4533154172012 4.38860487434015, -58.4535044644363 4.38893544430741, -58.4538452684702 4.38897223975, -58.4541014823623 4.38913914700573, -58.4543221325236 4.38919202045317, -58.4547252002616 4.38915444917363, -58.4549489143928 4.38893262578041, -58.4552160075062 4.38902665748153, -58.4554053905115 4.38953057542695, -58.4556890093709 4.3900500691056, -58.4561203573978 4.39043921222568, -58.4564442253647 4.39086805954517, -58.456891200494 4.39106305644571, -58.4575145909703 4.39124576380902, -58.457685886973 4.3915432669213, -58.4576397953578 4.39206340300879, -58.4574688650707 4.39297775864363, -58.4575352895867 4.3932579741546, -58.4574698757517 4.39349780262887, -58.457613417679 4.39464792711029, -58.4576147962459 4.39535707849602, -58.4580719849946 4.39631747944541, -58.4581674765328 4.39697916950033, -58.4582468995594 4.39745178284605, -58.4586409511769 4.39823895818428, -58.4592946023244 4.39930140557783, -58.4594843933567 4.40001018670994, -58.4593284612405 4.40056205682788, -58.4591719748064 4.40083026558818, -58.4589054617527 4.40103565538857, -58.4590632678991 4.40144507881391, -58.4591580564212 4.40174431332817, -58.45860963441 4.40231271257899, -58.4578655813747 4.4032045548791, -58.4571920109614 4.40400958419234, -58.4565339565022 4.40472002928541, -58.4558609054226 4.40579295937271, -58.4553753438318 4.40639275358715, -58.4542711119477 4.40777383004788, -58.4534569007951 4.4089258320683, -58.4527676197864 4.40973089127874, -58.4520862033857 4.41054381396617, -58.4516944757773 4.41095431548544, -58.4512395433019 4.41116007385432, -58.4510046099398 4.41145995480291, -58.4503330460314 4.41330507336728, -58.4499347644552 4.41438534667129, -58.4497161125285 4.4149846165946, -58.449512334312 4.41515836480908, -58.4492613317193 4.41526916845921, -58.4488068553417 4.41571131129416, -58.448446890865 4.41631085837267, -58.4482284821043 4.41703619989599, -58.4478524492769 4.41744667135897, -58.4477905625345 4.41791956314592, -58.4476419671381 4.41821139544638, -58.4473909928445 4.41833795873149, -58.4472501401883 4.41857461894093, -58.4470793223686 4.41955201354254, -58.4471760085092 4.4208283064905, -58.4470043043173 4.42134869097508, -58.4466596411504 4.42174334058537, -58.44662961529 4.42245255629281, -58.446764223937 4.42304325717965, -58.4468289272162 4.42402019158035, -58.4470348822171 4.42496533068698, -58.4473669998884 4.42619388461583, -58.4475645071115 4.42683173875673, -58.4480522317087 4.42733507245229, -58.4487751704846 4.42768035298221, -58.4488026945347 4.42767956286896, -58.4497797786675 4.42808311215273, -58.4503784324522 4.42855971197501, -58.4508819222093 4.42909452979344, -58.4512126662599 4.42961392732693, -58.4516378343638 4.43024345181636, -58.4519532168483 4.43093622745808, -58.4521750075812 4.43194436693181, -58.4522718945004 4.43331520880321, -58.4523211236612 4.43440248298092, -58.4523857167867 4.43531637737964, -58.4526386054742 4.43616686519168, -58.452970433596 4.43723782261125, -58.4533812972596 4.4385765268752, -58.4536500137991 4.43949001813258, -58.4540283961178 4.44027722027763, -58.4542175259336 4.44063930385624, -58.4541557080258 4.44114371296191, -58.454047743508 4.44213674316092, -58.4539233034276 4.442735829563, -58.4537205097984 4.44341386626216, -58.4536747945089 4.44412311091848, -58.4535350553537 4.44492709485902, -58.4533480561874 4.44565237830156, -58.453254401702 4.4459362242464, -58.4532075748965 4.44607814812585, -58.4532706905875 4.44623561303696, -58.4530979411749 4.44622019507061, -58.4530670935151 4.44650391797158, -58.4530994551834 4.44699238245784, -58.4528487213359 4.44724502151912, -58.4528030997037 4.4480015430725, -58.4530240055596 4.44855267110486, -58.4536144947349 4.44919038381792, -58.4537981155572 4.4493739471055, -58.4543407708638 4.44962680197813, -58.4543303818798 4.45014174510542, -58.4544571099515 4.45070881816158, -58.4545675499707 4.45097650170451, -58.4545525912231 4.45135474671702, -58.4544904965294 4.45171732603132, -58.4546015549336 4.45230018794435, -58.4549162127869 4.45261474404537, -58.4551837639966 4.45292939407686, -58.4553257943948 4.45329156925594, -58.4554208729198 4.45373263199025, -58.4554224229015 4.45452057728981, -58.4554543552358 4.45478841586827, -58.4554637094122 4.45555270773028, -58.4557006033582 4.45624563214907, -58.45571751582 4.45686019864123, -58.4554986507689 4.45734916102062, -58.4555309237836 4.45779034797598, -58.4557524269647 4.45864089277136, -58.4561089672112 4.46028699648098, -58.4566137009097 4.46143639788088, -58.457212307057 4.46241226384094, -58.4575430158189 4.46290013312361, -58.4586842340229 4.46432404760316, -58.4591724006128 4.46503222775815, -58.4592901817798 4.46503359227904, -58.4596202001948 4.46510650517097, -58.4598639170174 4.46534602811044, -58.4601316639992 4.46575522701565, -58.4606362536615 4.46682582896365, -58.4610356966555 4.4673107980387, -58.4613763775629 4.46789595849156, -58.4616283927911 4.46828942874543, -58.461880690224 4.46882472818079, -58.4621023446244 4.46918471509015, -58.4623229903367 4.46955212614512, -58.4629106758174 4.47017629986805, -58.4633146607309 4.47058012894197, -58.4635352345777 4.47091075547186, -58.4638806864781 4.47175188673177, -58.4642274195878 4.47239730755323, -58.464491718408 4.47267452903849, -58.4649327237032 4.47326220836468, -58.4653732178257 4.47359239260572, -58.4659969033917 4.47388542371264, -58.4665110701433 4.47439938431089, -58.4669702583794 4.47491345546326, -58.4676676177557 4.47539026255893, -58.4682553859487 4.47605121350075, -58.4692831392349 4.47678485010555, -58.4697972376963 4.47726202141964, -58.4702376607777 4.47755541659477, -58.470531695009 4.47795946008508, -58.4708995492817 4.47862085064977, -58.4713037638359 4.47913502779367, -58.4717445572269 4.47961234523091, -58.472075098828 4.47994274458063, -58.4722954591572 4.48016300977205, -58.472882498366 4.48045610606823, -58.4739832733165 4.48104244468287, -58.4747024176844 4.48102785814474, -58.4751562488405 4.48107686081515, -58.4758959223307 4.48108848119846, -58.4764763530493 4.48136847195639, -58.4769798886756 4.48133842894371, -58.4774656916236 4.4812193303985, -58.4779786134862 4.48110793626684, -58.4784368513151 4.48114379453878, -58.4790965338539 4.48110567275859, -58.4797191909553 4.48088370156948, -58.4800851305362 4.48058868093081, -58.4805614715189 4.48051414483806, -58.4810011597403 4.48043968276268, -58.4814777224918 4.48047550116469, -58.4819180039069 4.48069531648337, -58.4822117475429 4.48095221422032, -58.4825786473948 4.48113539332037, -58.4831654673393 4.48131812659232, -58.4837522132527 4.48146407402259, -58.4839724281353 4.48161076473907, -58.4841196347597 4.48190474446867, -58.4843405920697 4.48241928309887, -58.4846715103765 4.48293359799286, -58.4849658499397 4.48348477146813, -58.4853331990827 4.48388865636281, -58.4856268698815 4.48410876664631, -58.4859573439982 4.48440237260546, -58.4862141385059 4.48451220416266, -58.4863251403473 4.48502696529819, -58.4865824567133 4.4853942886566, -58.4868765758192 4.48583510668245, -58.4872070503495 4.48612871073478, -58.4875741034339 4.48638545552482, -58.4876113536505 4.4866796578945, -58.4878320176804 4.48704705512661, -58.48819937035 4.4874509374223, -58.4884564651243 4.48770790665293, -58.4887870902236 4.48807507894177, -58.4891905757197 4.48822139295677, -58.4894840992583 4.48836793307669, -58.4898513042482 4.48869824458192, -58.4901998841776 4.48888145623134, -58.4911170388381 4.48928421161241, -58.4918137505015 4.48942992501492, -58.4926206458922 4.48968576520614, -58.4933545351303 4.4900888930657, -58.4935383257357 4.49034600882975, -58.4935756537923 4.49067699419318, -58.493613054962 4.49104476373687, -58.4938334997821 4.49130180510223, -58.4942369115732 4.49141133120332, -58.4946405480997 4.49163121137352, -58.4949645859578 4.49176558089313, -58.4953107458293 4.49211156071626, -58.4957419489642 4.49251178068948, -58.4962921989746 4.49273135860816, -58.4969162079434 4.49317149110605, -58.4975032634439 4.49346456075722, -58.4980538165568 4.49383127428439, -58.4986408719217 4.49412434268608, -58.4992280788832 4.49449097954632, -58.4998883666389 4.49474711161489, -58.5005486555856 4.49500324202197, -58.501208944824 4.49525937167365, -58.5013556337757 4.49529585348335, -58.5022561259837 4.49558569799547, -58.5033152952009 4.49592343254793, -58.5050941381504 4.49621718626363, -58.5064071667976 4.49646941117805, -58.5075506658591 4.49663700320947, -58.5082711257144 4.49697543147723, -58.5089495085201 4.49744141698043, -58.5095863433014 4.49828989865126, -58.5098422156098 4.499181661374, -58.5099704603738 4.49977625724948, -58.5101830307523 4.50020071740786, -58.5103537020872 4.50083771463893, -58.5103555428046 4.50173000498223, -58.5106548991945 4.50317404838333, -58.5108678240964 4.50376846668472, -58.5112514219148 4.5049998829698, -58.5116342316526 4.5058488888349, -58.512017833788 4.50708030293854, -58.512147224802 4.50822726651136, -58.512403988124 4.50954392489173, -58.5126615445513 4.51124299233087, -58.512705205287 4.51188025292508, -58.5127059969069 4.51226266241381, -58.5127919080699 4.51285734432065, -58.5126658572674 4.51332499846455, -58.5127517706158 4.51391968032455, -58.5128377704748 4.51455685246126, -58.513008275378 4.5151088671508, -58.5130943648925 4.51578852944569, -58.5130955105548 4.51634089834391, -58.513521641715 4.51765719996022, -58.5139477769271 4.51897350166287, -58.5143730304685 4.51986490314346, -58.5145864077077 4.52067176802033, -58.5147568276163 4.52118129189427, -58.5146745328832 4.52232869614199, -58.5146331644893 4.52279617254662, -58.5147620406557 4.52368819382014, -58.5148906516067 4.52445274498722, -58.5151884491985 4.52513196258175, -58.5158682837241 4.52627776800086, -58.5163351775627 4.52682915874611, -58.5168026943462 4.52767797794816, -58.5172278709173 4.52852688532602, -58.5177380844384 4.52954557338318, -58.5182475010877 4.53018185226254, -58.5191807686208 4.53102968775169, -58.5203912073663 4.53281171679193, -58.5217499362474 4.53463591951306, -58.5224709752492 4.53522925740003, -58.5230798146663 4.53610404067948, -58.5234486455786 4.5370542574416, -58.5237188179726 4.53754883483055, -58.523958698081 4.53798795663671, -58.5244255185343 4.53849684729331, -58.5250184700203 4.53858057358723, -58.5255266510396 4.53862198747912, -58.52599249005 4.53866349147471, -58.5263741835142 4.53896011189439, -58.5269678505675 4.53938375210418, -58.5273661594931 4.53952737395908, -58.5278747519449 4.53976423871624, -58.5282813674853 4.53983136016655, -58.5286875546378 4.53969453136917, -58.529873171848 4.53972600732095, -58.5303471030708 4.53958903309185, -58.530719343985 4.53941828432409, -58.5311936329744 4.53945126854114, -58.5316003922685 4.53958637070829, -58.5322775593649 4.53944896371268, -58.5327181914306 4.53958399411587, -58.5330908627727 4.53961719388241, -58.533598952466 4.53961611268955, -58.5343784540323 4.53981840409418, -58.5353616962578 4.54025820196447, -58.53590437847 4.5405969611556, -58.5366506565714 4.54110524686575, -58.5371256662126 4.54147814079349, -58.5377022218069 4.54181682760759, -58.5382616982679 4.54208756659664, -58.5394144528177 4.5425949779416, -58.5402961529055 4.54306897542697, -58.5415163645791 4.54344027203802, -58.5422282696933 4.54371068090176, -58.5430418658656 4.54401486102631, -58.5435162289655 4.54408182839252, -58.5440584823356 4.54421663155219, -58.5448036089412 4.54418104160531, -58.5453855396169 4.54402516377733, -58.5458404950221 4.54381932966065, -58.546428772659 4.54383763734762, -58.5471748955025 4.5436431221705, -58.5476476794538 4.54359707761972, -58.54795911163 4.54320020463096, -58.5482408591355 4.54277412623251, -58.5484285567814 4.5424270419413, -58.5488518346478 4.54209520698508, -58.5493380252941 4.54181051316437, -58.5495573974357 4.54158942561933, -58.5498705505013 4.54116327868991, -58.5503409028292 4.54081558572024, -58.5510285422141 4.54059855523251, -58.5520104784596 4.54042648336201, -58.5527216537761 4.54035696816446, -58.5536361353863 4.54032100585846, -58.5546524512939 4.54038679662975, -58.5557025674236 4.54041852143953, -58.5565498128558 4.54062064028663, -58.5569900078661 4.54055170590166, -58.557837034526 4.54065184901941, -58.5582775200495 4.54071887924135, -58.5589206562212 4.54051354003552, -58.5598012626484 4.54047764317805, -58.560614269993 4.54050987360211, -58.5612241900051 4.54061052575412, -58.5618344764938 4.54088113373378, -58.5621055276423 4.5409145370355, -58.5631217679018 4.5409463249549, -58.5640701907648 4.54094426623142, -58.5646121462343 4.54094308938814, -58.5650521924434 4.54080616872333, -58.5654588781979 4.54090725904247, -58.5660685045638 4.54087194280259, -58.5665761471485 4.54066689176001, -58.5669539774324 4.54044872480834, -58.5672988633302 4.54018008679768, -58.5675912110234 4.54015481623867, -58.5682682859827 4.53998338731721, -58.568640731736 4.53991459456494, -58.5689455072813 4.53987993929703, -58.5698603487194 4.54001391173802, -58.5704704139028 4.54018253895206, -58.5708017076933 4.54067671818196, -58.5710381729804 4.54110167152249, -58.5709457637417 4.54193705196167, -58.5708689547845 4.54272512515981, -58.5710898210378 4.54319738640075, -58.5717990107541 4.54368072670688, -58.5722219375197 4.54388827056553, -58.5726802788685 4.54395073109725, -58.5730392791571 4.54424892157324, -58.5733218306299 4.54420102954791, -58.5737310555122 4.5442883464138, -58.5744085002465 4.54428686445453, -58.5749088285141 4.54431219282166, -58.5751285614102 4.54460678955223, -58.5753177161957 4.54493729451068, -58.5750365695293 4.54563126440545, -58.575069276791 4.54622999977991, -58.5754002739539 4.54679656558357, -58.5761554928653 4.5474725085782, -58.5769734556875 4.54811679589372, -58.5778706232587 4.54907606916105, -58.5781853364747 4.54937478207362, -58.5787439453084 4.54990144933537, -58.579089585426 4.54997948087553, -58.5793414864474 4.5502783299141, -58.5795460394525 4.55046697769673, -58.5796886393931 4.55104971121988, -58.5797676705325 4.55128590844157, -58.5799090671761 4.55131711297352, -58.57995908601 4.55127128097642, -58.5799618709992 4.5512768410245, -58.5801284630468 4.55111177630887, -58.5806617829219 4.55084271708297, -58.5812821547418 4.55093402784216, -58.5817467393943 4.55150216741098, -58.5819208852249 4.5521478632144, -58.5818909265482 4.5528097658579, -58.5818442988015 4.55303048098346, -58.5818449537583 4.55332988106397, -58.5819852296243 4.55354251262709, -58.5819718532134 4.55391264870436, -58.5817847253674 4.55451186530534, -58.5810806675699 4.55569526635232, -58.5807991134964 4.55620014296394, -58.5803309798833 4.55755636389159, -58.5798622600901 4.55864469967202, -58.5792290509197 4.55991461476821, -58.5790273537812 4.56103387770073, -58.5788254844709 4.56207435297784, -58.5781360192427 4.56275346615, -58.5777525781839 4.56334523670174, -58.5773781421353 4.56446488104231, -58.5769238805642 4.56498589683299, -58.5763596942148 4.56550715329675, -58.5759215469539 4.56621722875648, -58.5752088471554 4.56704609495973, -58.5744261159746 4.56816663784132, -58.5740350069256 4.56884509390408, -58.5738636105015 4.56946003528427, -58.5739360134247 4.5702556588949, -58.5741889220266 4.57101149021431, -58.574284211241 4.57149978044243, -58.5747092401928 4.57197158756468, -58.575181620882 4.57255359528689, -58.575392255655 4.57260083547941, -58.5754696005045 4.57266706600045, -58.5762828629778 4.57280123804606, -58.5769945036884 4.57293563471471, -58.5776042269615 4.57293428964222, -58.5782594867827 4.57253105506822, -58.5788903771574 4.57245557946345, -58.5793110708724 4.57227660588223, -58.5806456993159 4.57219486933595, -58.5815715502371 4.57189342089178, -58.5823248351433 4.57167114443826, -58.5831879038596 4.57138559103445, -58.5840980131535 4.57106841778899, -58.5849299508254 4.57090899607713, -58.5858650824557 4.57097854731093, -58.5867204238506 4.57103109268147, -58.5872082023902 4.57147123478754, -58.5876276902646 4.57151849394078, -58.5880411457236 4.57176878790659, -58.5882459858222 4.572083492016, -58.5887959190321 4.57222409330631, -58.589221164404 4.5727904353543, -58.590149165246 4.57346596567615, -58.5910201185674 4.57382233298731, -58.5916302146147 4.57399092950848, -58.5920659647451 4.57390292353624, -58.5922230697472 4.57393408986583, -58.5924593530249 4.57426448074555, -58.5927826593153 4.57432827236027, -58.5930873526654 4.57420005080618, -58.5934646203977 4.57437254766561, -58.5938669057249 4.57446181952387, -58.5943074847363 4.57456280997878, -58.5949172794742 4.57459544129271, -58.5957135273675 4.57469563718521, -58.5966622063102 4.57479549114696, -58.5972723020098 4.5749640830075, -58.5977059883729 4.57500915765562, -58.5983345466819 4.57519684815482, -58.598994826712 4.57552628762285, -58.5992383096276 4.57557152032975, -58.5994755732597 4.57563897069302, -58.6000514187777 4.57563768323268, -58.6006443904819 4.57583775418315, -58.6018392195352 4.5764496340581, -58.6027825155536 4.5769360133226, -58.603254075334 4.57713980801025, -58.6036117437555 4.57726125421833, -58.6040185253054 4.57739630409739, -58.6044162712751 4.57720023150465, -58.6047775567128 4.57724669440832, -58.6053224950269 4.5773253954503, -58.6058935215624 4.57770116457185, -58.6061609722282 4.57792117382437, -58.606645144315 4.57803622449344, -58.6071533197527 4.57806907242797, -58.6076224489829 4.57839062135053, -58.6081098204684 4.57864164975744, -58.6084402626011 4.57894030402532, -58.6088496804076 4.57944363209894, -58.609155034001 4.57949216877097, -58.6096295645823 4.57962706033573, -58.6103751566047 4.57979533249148, -58.6113014314943 4.58033629998636, -58.6121030864358 4.58068116257589, -58.6126063035699 4.58099518198041, -58.6128738991494 4.58127821722693, -58.6131902974335 4.58142052083012, -58.6139358909908 4.5815887883102, -58.6148507000212 4.58168869143092, -58.6155626492095 4.58195900367825, -58.6159644803714 4.58204294247174, -58.616205265503 4.58226342348695, -58.6165988443452 4.58270374863656, -58.616883172914 4.58344371869579, -58.6173235449049 4.58374211880921, -58.6177017058813 4.58430853922929, -58.6179151756992 4.58496200101998, -58.6181669989241 4.58521355427108, -58.6184347754709 4.58557537408024, -58.6184671411724 4.58600075903167, -58.618453248423 4.58680443410773, -58.618894795535 4.58762283388463, -58.6189507703745 4.58807180207112, -58.6188104337998 4.58851333633524, -58.6185285151392 4.58884488806455, -58.6185451057887 4.58923879423825, -58.618765489405 4.58947465848828, -58.6186878250634 4.5898530208113, -58.6184374898619 4.59026329032933, -58.618281769398 4.59084667876861, -58.6183298040082 4.59125627037801, -58.6185972642449 4.59147627085834, -58.6187032859487 4.59142277602604, -58.6188189983685 4.59146891552628, -58.6189882907142 4.59143454072286, -58.6192085681236 4.59097063563742, -58.6193805620976 4.59063933307297, -58.6196469898276 4.59040236211476, -58.6199346819565 4.59051465213349, -58.6202395437414 4.5905139587386, -58.6207478788412 4.59061477415865, -58.6213244218374 4.59091937482698, -58.6216298217888 4.59115661246303, -58.6219011178516 4.5912919553276, -58.6219244107749 4.59130746105355, -58.6220049908306 4.5914842798419, -58.6220847552818 4.59203561801417, -58.6225732077743 4.59275935928862, -58.623265951663 4.59354566520824, -58.6236904858955 4.59378106280617, -58.6239893546614 4.5940009887786, -58.6243045349557 4.5944887580529, -58.6245732108958 4.59524451369093, -58.6252192427073 4.59620425644489, -58.6258266055977 4.59742408834512, -58.6262375134817 4.59857345798621, -58.6266725338805 4.59996701523706, -58.6267860763888 4.60155827902034, -58.6267098837395 4.60258270068043, -58.6262795140507 4.6032376279514, -58.6257779932181 4.60367999049567, -58.6249937657158 4.60410724043132, -58.623989504175 4.60445620513278, -58.6235354850472 4.60507179146166, -58.6233319781426 4.60535589540199, -58.6229012108572 4.60583748822362, -58.6223053542508 4.6062327912054, -58.6218832771925 4.60708467005144, -58.6214300423512 4.60804692453596, -58.6208115743784 4.60885985707395, -58.6202557426965 4.60959385928275, -58.6196444981689 4.61013101567514, -58.6191899380945 4.61051023795148, -58.6188208389389 4.61048744336277, -58.6186010527749 4.61051946057814, -58.6184600012498 4.61064584342566, -58.6180046190002 4.61066263970859, -58.6178660539601 4.61074649234384, -58.617628006002 4.61078956002935, -58.6173590745097 4.60992349835842, -58.6167447979069 4.60912125403307, -58.6164447464189 4.60838132460808, -58.6162385629319 4.60748360352329, -58.6159785023142 4.60734454246416, -58.6152247045027 4.60739075573028, -58.6146674479199 4.60717202197747, -58.6141948322752 4.60651127104627, -58.6139898270908 4.6061335515966, -58.6138023875722 4.60597003277897, -58.6134243050723 4.60605604686575, -58.6130479411499 4.60629326855328, -58.6122068008972 4.60637414453764, -58.6114084544943 4.60633145795044, -58.610880642294 4.60623515533288, -58.6107069039245 4.60579433160176, -58.6104236991884 4.6055586071882, -58.6102039849697 4.60562213581644, -58.6099880485981 4.60575619443828, -58.6094975868375 4.60574979920352, -58.6083216610254 4.60658762505894, -58.607662833796 4.60692003025329, -58.6069313030068 4.60718707699844, -58.60613305561 4.60718888331336, -58.6057338314887 4.60714528750085, -58.6053232067454 4.60705138546592, -58.6050862668528 4.60643736554376, -58.6050537270362 4.60593318926101, -58.6049743230343 4.60553942319751, -58.6047539347721 4.60530355401831, -58.6042659821514 4.60519065389648, -58.6037341156017 4.60532535143723, -58.6035121814731 4.60523685420673, -58.6032458851252 4.60510210686268, -58.6029773970193 4.6044251253176, -58.6025678921644 4.60389028323471, -58.6021746203363 4.60359177022473, -58.6019557485068 4.6033269127171, -58.6016009722662 4.60332771168038, -58.6012160375619 4.60331028935693, -58.6010740316125 4.60301121066799, -58.6009633986133 4.60269630258676, -58.6005547404074 4.60253964405559, -58.60036467203 4.6018152113052, -58.6001277373085 4.60120118755441, -58.6001741098088 4.60087016823111, -58.6004400563265 4.60041259266014, -58.6007062850241 4.60008107806403, -58.6006893488898 4.59952959179954, -58.6005156541762 4.59910452046528, -58.6003421356245 4.59875823860022, -58.6002936868042 4.59815954867016, -58.599947285526 4.59775062289361, -58.5997425699681 4.59749895767266, -58.5991926183876 4.597236774448, -58.5981709812426 4.59696672083131, -58.597338181373 4.59674798018783, -58.5967519624003 4.5965302700588, -58.5962849982128 4.59629336368552, -58.5957969847375 4.59575869014822, -58.5954043158182 4.59572805388903, -58.5949965048945 4.59594957793118, -58.5946831965184 4.59629695406461, -58.5943693282983 4.59639220471373, -58.5940862706495 4.59621950170121, -58.5938023387477 4.59565285290705, -58.5933456990431 4.59510234793383, -58.5931403914363 4.5945827963193, -58.5929352259515 4.59412627571483, -58.5924789727119 4.59374910629424, -58.5918655754202 4.593325012823, -58.5913623508432 4.59301097964789, -58.5910160265074 4.59263356244963, -58.5907167778596 4.59224028203117, -58.5904804166019 4.59187837778762, -58.5901035231819 4.59187921839189, -58.5897117296999 4.59224252551494, -58.5890374743715 4.59270101053312, -58.58866113825 4.59295397670058, -58.5882850468142 4.59331724758279, -58.5878759006753 4.59352417768142, -58.5868412253243 4.59374593075652, -58.586103705512 4.59428461336494, -58.5852733380437 4.59488399633041, -58.5842401823883 4.59638330377312, -58.583864748817 4.59704597401374, -58.5835521299318 4.59770850551037, -58.5829566637376 4.59829287528554, -58.5822673886245 4.59906655062316, -58.5819697071859 4.59938237308019, -58.5817189286663 4.59960354173023, -58.5812634748077 4.59958879655598, -58.580949739604 4.59974707394094, -58.5806609196104 4.59968113942168, -58.5803053142279 4.59949637744151, -58.5799606577043 4.59987533558152, -58.5793804038376 4.60023905763697, -58.5791140930399 4.60053905280225, -58.5787547385717 4.60137502473017, -58.5785040276227 4.60162770952898, -58.578226037116 4.6016000224097, -58.5779541724224 4.60153438215033, -58.5773596010102 4.60252845736458, -58.5772191997363 4.60295423528324, -58.5771894926647 4.60372644444779, -58.5769862761912 4.60415236263687, -58.5766104850833 4.60465745346849, -58.5764538937468 4.60486265458204, -58.5763284670573 4.60495748153476, -58.5760311275099 4.60543088240727, -58.5759068115191 4.60569911720241, -58.5756852686243 4.60578860728791, -58.575136329856 4.60559044728653, -58.5747971392167 4.60525658276539, -58.5743812397622 4.60500907261172, -58.5743643915648 4.60448909467728, -58.5747244115215 4.60395252342709, -58.5749909672016 4.60376283617839, -58.5748490742069 4.60351102137639, -58.5743054957307 4.60352219143429, -58.5735960312213 4.60356826281923, -58.5730636633706 4.60348044225456, -58.5728416317618 4.60334743457913, -58.5726184098728 4.6032165573358, -58.5731991555201 4.60307345001906, -58.5730258903113 4.60283746289347, -58.5727515673113 4.60272464063472, -58.5719883700283 4.60236701558139, -58.5714222901788 4.60203734749954, -58.5708868194202 4.60174977221083, -58.5705734657171 4.60167678778486, -58.570322680845 4.60189795479679, -58.5700717931031 4.60207184786826, -58.5697297757335 4.60205768283067, -58.5696948215437 4.60204116358511, -58.5695384706114 4.60235667127896, -58.5695077871994 4.6026876579705, -58.5691317827414 4.60309819857198, -58.5686612751936 4.60338288221929, -58.5679084696426 4.60384152853053, -58.5675166562593 4.60420482854871, -58.5672659048517 4.60444175398352, -58.5671411326873 4.60483598148443, -58.5673933350042 4.60526089326541, -58.5673944046083 4.60574939264215, -58.5673639630173 4.60619068730861, -58.5672309762072 4.60641947289406, -58.566995894445 4.60664060499477, -58.5668234574785 4.60678280863704, -58.5668553492234 4.60700335124965, -58.5670754863775 4.60712893040368, -58.5670827001867 4.60712867303929, -58.5670847170512 4.60714262160014, -58.5673900577921 4.60734884956188, -58.56737490706 4.60760101286538, -58.5671238087342 4.60768035787776, -58.5664955291479 4.60763446896498, -58.5658357363326 4.60754137559359, -58.5654903079114 4.60757365370223, -58.5652714117442 4.6080153629561, -58.5653511073822 4.60855096379275, -58.5655878129831 4.60907045958629, -58.565572936809 4.60944868705613, -58.5652759326587 4.61007966644651, -58.5649641208733 4.61112038944643, -58.5648550523167 4.61151458359407, -58.5647773935828 4.61190870762959, -58.5647310385407 4.61225548935053, -58.5648535972468 4.61245879187158, -58.5648830854667 4.61253229923074, -58.5648573998906 4.61258613046508, -58.5647793953278 4.61282267450482, -58.5640883950665 4.61282419836442, -58.5637432405358 4.61298254059659, -58.5626139602299 4.61364687119456, -58.5623631363481 4.61385227957351, -58.5621125172184 4.6141522360489, -58.5621291878372 4.61459342699399, -58.5621145509912 4.61508196205626, -58.5621152755547 4.6154128805096, -58.5620844522353 4.61568083694473, -58.5620542855664 4.61624819579402, -58.5618822237455 4.61656373848167, -58.5613018416401 4.61688017930219, -58.560438464634 4.61705542140778, -58.5601404548647 4.61722941720289, -58.559307934483 4.61715245858837, -58.5585854166366 4.61710677343132, -58.5580046879499 4.61726563258046, -58.557503100489 4.61770796387623, -58.5568061839478 4.61859983216688, -58.5563825346497 4.61877410278725, -58.5558802923775 4.61891702943948, -58.5550494529142 4.61961221462853, -58.5547434674564 4.61973107246212, -58.5545233951962 4.61963700535641, -58.5542243518266 4.61933825622735, -58.553988471609 4.61919694998669, -58.5535328272676 4.6191034006779, -58.5528419543558 4.61916794890913, -58.5523712577728 4.61937383696722, -58.5520890178596 4.61957931124804, -58.5516581815112 4.62006088109377, -58.5510933921954 4.62033000732627, -58.5507331408399 4.62077202746991, -58.5506886320144 4.62196975016114, -58.5508478055078 4.62294641058878, -58.5508340907083 4.62386041765435, -58.5507248074764 4.62416006236834, -58.5503484390278 4.62441301921779, -58.5500124463176 4.62517802897835, -58.5495264515574 4.62557304935568, -58.5488673925688 4.62582662366894, -58.5483174110772 4.62568600403691, -58.547845543137 4.62535611381278, -58.5474215091582 4.6253570408266, -58.5471075818852 4.62543651889177, -58.5468804930584 4.62572854332476, -58.5467877009042 4.62639059259004, -58.54664680061 4.62659575720838, -58.5460820720994 4.62689639895156, -58.5450466021738 4.62738716789941, -58.5446938378823 4.62766370920169, -58.5440824700976 4.6281850668816, -58.543455874892 4.62892707367474, -58.5430637268505 4.62914854628123, -58.5424819567418 4.62883465042205, -58.5416887654219 4.6287969843923, -58.5411702592607 4.62868780740026, -58.5409349560379 4.62881438688685, -58.5403390165485 4.62920964292041, -58.5394759185065 4.62952668892653, -58.5386521333898 4.62986728645332, -58.5376478230567 4.63024767104969, -58.5374429409366 4.62991719275232, -58.5373013565411 4.62980719260319, -58.5368144303196 4.62977673428407, -58.5365623650065 4.62941484060622, -58.5363343189993 4.62926563275114, -58.535941758531 4.62929800276898, -58.5357058759536 4.62915669036287, -58.5355165637631 4.62876314323492, -58.5353115820848 4.62838538827865, -58.5351698615127 4.62821235461834, -58.5351465147655 4.62820893528849, -58.5350593152452 4.62792894522376, -58.5352000490846 4.62764498882177, -58.5345706561232 4.62709481285067, -58.5344293102434 4.62709512025283, -58.5343198504465 4.62731597466438, -58.5338643355261 4.62728544559564, -58.5333617379336 4.62727077745416, -58.5330155475667 4.62695636137757, -58.5327063964669 4.62659179182272, -58.5325012775056 4.62611437436698, -58.532321776744 4.6256814387701, -58.5324778783775 4.62523986629265, -58.5323201158697 4.62490928320168, -58.5320376626451 4.62502020358025, -58.5317714218416 4.62536746355772, -58.5315830969188 4.62543090429853, -58.5313784222876 4.62519497228475, -58.5311719002802 4.6248201972925, -58.5308978724223 4.62393333079369, -58.5307262576039 4.6232169082226, -58.5304519385546 4.62219350906803, -58.5303137539488 4.62120394936827, -58.5302101711621 4.62048737839087, -58.5300950461426 4.61995021133737, -58.5298586254829 4.61955676245836, -58.5299179694371 4.61905442058039, -58.5297800801553 4.61820139145345, -58.5295750402707 4.61775810439253, -58.5292257655592 4.61738347284952, -58.5287545509365 4.61735297307306, -58.5281423966093 4.61751187686221, -58.5275301078903 4.61760774799958, -58.5269182906738 4.61792423462853, -58.5260554964421 4.61838308640904, -58.5253806549298 4.61860515760155, -58.5249879302409 4.61855872737473, -58.524406106066 4.61821329443418, -58.5239972042465 4.61794628106829, -58.5237926707032 4.61783883024801, -58.5237919422081 4.61749749945298, -58.5238935485297 4.61729248278515, -58.5238219254939 4.61676477757965, -58.5235075921501 4.61665514330243, -58.5231613095125 4.61629344513462, -58.522909761475 4.61616791727773, -58.5226429122171 4.61623152370357, -58.5226335438701 4.61661252600876, -58.5227362431806 4.61691950408267, -58.5224719738989 4.61708284633067, -58.5220484445371 4.61732013312088, -58.5219545844823 4.61749367778593, -58.5221905620134 4.61768227196081, -58.5221942639505 4.61797879757849, -58.5222236537287 4.61847012132244, -58.5222640417025 4.618797845278, -58.522299294771 4.61937803370288, -58.5225386384314 4.61995778369548, -58.5227461238455 4.62043880205294, -58.5229982790976 4.62084797906064, -58.5230860133737 4.62142433295261, -58.523155136857 4.62193618299391, -58.5232151571378 4.6225545267661, -58.5230182266524 4.62283349691513, -58.5224855337404 4.62343346350348, -58.5224402032718 4.62426875812004, -58.5220330824886 4.62483693714105, -58.5215462905661 4.62486950114706, -58.5211532246815 4.6246654866361, -58.5207607313497 4.62472936426964, -58.520463039889 4.62506093092353, -58.5199134950512 4.62512514545573, -58.5195058339804 4.62544119048602, -58.5192087462248 4.62605640785704, -58.518747208085 4.6268847171922, -58.518466632923 4.62787810292355, -58.5181850479241 4.62839873668709, -58.5181863588118 4.62901331295583, -58.5177478890814 4.62961307556451, -58.5172147833912 4.6300239410226, -58.5168540659582 4.63026109205143, -58.5165644090481 4.63067931292675, -58.5167220323606 4.63094686897401, -58.5167266755829 4.63094719995667, -58.5167535445111 4.63099407665065, -58.5169893925511 4.63111963716354, -58.5172099388871 4.6314343332641, -58.5171170180904 4.63204911290275, -58.5169459734521 4.6328531613079, -58.5170393396786 4.6331791615925, -58.5169478230019 4.63371987325484, -58.5166508668557 4.63439812468198, -58.516719468135 4.63471584538931, -58.5167883732918 4.63512529706763, -58.5168101063241 4.63542208300633, -58.5165907689146 4.63567468962266, -58.5163241131749 4.63583284725179, -58.5162777703119 4.63619539142945, -58.5166401718424 4.63674615902086, -58.5166413829155 4.63731346144047, -58.5160303175966 4.63799238872493, -58.5159682689128 4.63835496668425, -58.5159795683146 4.63867689544317, -58.5160483294662 4.63901808115886, -58.5159864977438 4.63953681223975, -58.5158819522796 4.6398272170322, -58.5155322489687 4.64010509397358, -58.5150617231686 4.64040551543124, -58.5148269141769 4.64076846533337, -58.513964924161 4.64162127387882, -58.5133850963303 4.64222134066246, -58.5132209443956 4.64257626010601, -58.5132582854332 4.6429430085482, -58.5131829268844 4.64322263235564, -58.5131829856927 4.64325064925245, -58.5129714352729 4.64341199484512, -58.5127048430901 4.64360166904173, -58.5122809255149 4.64366561299868, -58.5121231649258 4.64333502381112, -58.5118089192733 4.64327266373394, -58.5113854712735 4.64355722542256, -58.5111658614676 4.6436837637478, -58.510867453976 4.64368440408309, -58.5107415745419 4.64357436454416, -58.5104594439405 4.64384286371561, -58.5101453981796 4.64387505329422, -58.5096585576805 4.64389185514867, -58.509383322773 4.64371122148552, -58.5091320666759 4.64372751863435, -58.508834262648 4.64401180939231, -58.5083014437851 4.64456449795004, -58.5077838606105 4.64489653501441, -58.5071243558163 4.64496098100068, -58.5062678451813 4.64470279688935, -58.5057496912556 4.64476693865044, -58.505107430068 4.64555623794866, -58.5043542917825 4.64590453468096, -58.5035617378198 4.64618200207776, -58.5026828509754 4.64648329019555, -58.5015991545449 4.64648560189434, -58.5009005656009 4.64663679655291, -58.5004458322814 4.64698445538136, -58.5002137851289 4.64760332165138, -58.5001572272679 4.64790694651893, -58.4998285064389 4.64842767998696, -58.4990941946106 4.64847517476815, -58.4986515366554 4.64888718545913, -58.4985858933483 4.64939786316809, -58.4984349832987 4.6504221896334, -58.4984363138549 4.65105121195903, -58.497756167646 4.65204835642014, -58.4970037195896 4.65287153454106, -58.4964884837927 4.65378068966658, -58.4961228496768 4.65410577434845, -58.4957361696085 4.65466872915565, -58.4947464117549 4.65536268882833, -58.4941656584587 4.65586119372568, -58.4935199851189 4.6562301148936, -58.4931547139319 4.65672816085156, -58.4929408278185 4.65748533270147, -58.4929907120622 4.65752005935014, -58.4929565240241 4.65767016451956, -58.4929895623115 4.6582449059961, -58.4928139552171 4.65863148770204, -58.4920823593109 4.65913031339987, -58.4914358624241 4.65911006576934, -58.4907458111467 4.65887370554864, -58.4900131648637 4.65887525994432, -58.4895828342756 4.65917885940669, -58.4885493734263 4.65959184098953, -58.4880756716824 4.65976580914035, -58.4871049441075 4.65927059233312, -58.4861782699948 4.65922931277798, -58.4856830637856 4.65942494565495, -58.4852533656878 4.66003122975584, -58.484877152844 4.66045362565097, -58.4836924375218 4.66067233601972, -58.4830670753752 4.66045745120039, -58.4821188029759 4.66039459150257, -58.4814612325537 4.66023382449539, -58.4812879836068 4.65982339997951, -58.4811580583817 4.65952098533915, -58.4805969816914 4.65913299762308, -58.4794333609276 4.6591354497239, -58.4789802544158 4.65885533626293, -58.4785493739366 4.65889948442044, -58.4780763454593 4.65939775388595, -58.4777638695953 4.65938760102179, -58.4773324458892 4.65917230326543, -58.476987804391 4.65923788921784, -58.4768373706712 4.65943279110972, -58.4768866185487 4.65962869415876, -58.4770108429082 4.65995132221397, -58.4771193539777 4.66031864387952, -58.4767962610066 4.66038418552384, -58.4764799568376 4.66002608908299, -58.4764067148814 4.65958504096135, -58.4761905077261 4.65923956517712, -58.4755435989785 4.65902471868121, -58.474896555268 4.65874500916235, -58.4744876733949 4.65900531557213, -58.4744841323418 4.65908807772886, -58.4742076776348 4.65907076550196, -58.4738631254789 4.65917959155182, -58.4734746654726 4.65889933829027, -58.4731735255456 4.6591594173388, -58.4727204193175 4.65887929905888, -58.4722895372208 4.65892344350614, -58.471730579041 4.65955161454638, -58.4710844351409 4.65970431365084, -58.4710635612401 4.66002866719649, -58.4704176421973 4.66028946810783, -58.4697356682237 4.66022676016731, -58.4697056367274 4.65985854489985, -58.4695545716915 4.65975075806684, -58.4691025000827 4.65996791062185, -58.4688006833989 4.65990368058046, -58.4685699985051 4.65963306870094, -58.4685352018453 4.65925766791838, -58.4684106966833 4.6588883221295, -58.4677916408523 4.65890341863833, -58.4694819344154 4.64831274697779, -58.4719547330291 4.6326904917389, -58.4720677021214 4.63269025737688, -58.4728264001796 4.6326886750562, -58.4730783359488 4.63222293319372, -58.4730773731189 4.63175771743743, -58.4732450957954 4.63133444239843, -58.4737076931617 4.63082596849888, -58.4737903282664 4.6300222393615, -58.4737477396547 4.62981086628287, -58.4730721194405 4.62922017939373, -58.4729020325123 4.62850156253567, -58.4726055846194 4.62782549891102, -58.4722251880775 4.6273187812023, -58.4719716786829 4.62702326212566, -58.4718022063523 4.62660068964507, -58.4717423506587 4.6265738130748, -58.4717404752439 4.62566611585247, -58.4715892736347 4.62554381944378, -58.4707434890532 4.62419221801234, -58.4705729710154 4.62326213629526, -58.4702759185054 4.622290024749, -58.4705688700647 4.62127439625259, -58.4710738750007 4.6208927141385, -58.4718732272991 4.62017207998942, -58.4726302521422 4.61936694984554, -58.4727114071852 4.61784425058271, -58.4732577726225 4.61708185043464, -58.4740249825925 4.61615416444076, -58.4741202507406 4.61581694568775, -58.4740135704185 4.61568462667725, -58.4737581458344 4.61445867629364, -58.4735880665147 4.61374005659705, -58.4738035551227 4.61272072103414, -58.473836770556 4.61170950088936, -58.473455514047 4.61077985813077, -58.47286430014 4.61023128295056, -58.4728806847038 4.61017102117171, -58.4727376792206 4.61014696107022, -58.4721051027292 4.6099791035173, -58.4717241978782 4.6092186270291, -58.4715959233263 4.60833075011513, -58.471595053434 4.60790782670872, -58.4710458184279 4.60727457640751, -58.4710872698725 4.60693614981179, -58.4718450711191 4.60651165483288, -58.472221882413 4.60528439047184, -58.4720104454059 4.60494648848525, -58.473105603041 4.60460587902147, -58.4741591348377 4.60451910952781, -58.4744175490542 4.60451857287307, -58.4748869258201 4.60395006803338, -58.4750179242625 4.60350860156171, -58.4761156902099 4.6028004101221, -58.4765766821248 4.60246855730224, -58.4770356234928 4.60114401954702, -58.477540353555 4.60070177652796, -58.4774954798532 4.60015321943326, -58.4774292482486 4.6001284540687, -58.4767027644837 4.59964464904497, -58.476679915767 4.59922556142717, -58.4768763199008 4.59851924284132, -58.4771603421187 4.59765832339002, -58.4773131398429 4.59712857224003, -58.4773126854458 4.59690797552112, -58.4773605445221 4.59689289891584, -58.4774229736105 4.59651218256354, -58.4773309286474 4.59628266061306, -58.4777195844831 4.59602916878364, -58.4778794066832 4.59582209555596, -58.4778329114645 4.59547762189383, -58.4771444751698 4.59467505441996, -58.4768442203918 4.59338928278612, -58.4767280086759 4.59253958515394, -58.4770474637644 4.59203355355858, -58.4778259528786 4.59210085197286, -58.4790159387258 4.5918916420442, -58.4805031475259 4.59149804200448, -58.4813040055335 4.59131260762573, -58.4831126068463 4.59135478703678, -58.4843957259953 4.59190342668941, -58.485083165694 4.59222359144968, -58.486136076898 4.59215248182139, -58.4871420120622 4.59150718901698, -58.4881022078555 4.59088496179899, -58.4893142659307 4.59028517897181, -58.489976476331 4.58947980365066, -58.4902498965408 4.58885900989686, -58.4904084744819 4.58805468644315, -58.4907156833117 4.58716965334154, -58.4911009903042 4.58530818111369, -58.4916483523004 4.58431927653112, -58.4926986247246 4.58298475249112, -58.4926049575058 4.58197421713999, -58.4925927724577 4.58161818916771, -58.4933915623044 4.58044498936676, -58.4941886833388 4.57950186140689, -58.4941814956833 4.57945913510539, -58.4942593587421 4.57943244455967, -58.4945096919148 4.57871981504511, -58.4943940869692 4.57816874869805, -58.4941414174018 4.57775579606445, -58.4941354102991 4.57486144272323, -58.4938130663851 4.57396624054468, -58.4932163080629 4.57320943785249, -58.4920473041448 4.5724767978353, -58.4909935686575 4.57213442629178, -58.4906748749792 4.57207589156743, -58.4906397765173 4.57204081812289, -58.4895048425688 4.57176998763522, -58.4876276684898 4.57175092113896, -58.4865511843588 4.57147750234003, -58.4853368764193 4.57097465621183, -58.4845119671964 4.57058585675326, -58.4840301044276 4.57003554453662, -58.4839372605785 4.56941551301765, -58.4837753638501 4.56861185415994, -58.4829503636029 4.56817710888634, -58.4819875418646 4.56751293385376, -58.4813441675436 4.56634272865513, -58.4811810485991 4.56494181692294, -58.4814543807902 4.56427508381604, -58.4825291077364 4.56369857944131, -58.482928790638 4.56324981307446, -58.4830881823869 4.56283600083333, -58.4831559142563 4.56237643412171, -58.4827659079176 4.56196375812112, -58.4819869834479 4.56166674027817, -58.4815972614931 4.5613918900981, -58.4814352297755 4.56051931524064, -58.4814790822032 4.55957740129215, -58.4822104318556 4.55900160877953, -58.4829425338362 4.55879335505871, -58.4835606028155 4.558792077658, -58.4843162552445 4.55890537156168, -58.4845226565891 4.55908871516356, -58.4857132470301 4.55920110728266, -58.4858269955208 4.55885630273644, -58.4858482807133 4.55807523613572, -58.4865101477235 4.55710907337478, -58.4870008232228 4.55638446243421, -58.4871822056777 4.55553415092246, -58.4874330180742 4.55505123583358, -58.4876616951575 4.5549359065481, -58.4880050166415 4.55491222306485, -58.4884632669207 4.55511801519776, -58.4899536122913 4.55628645724731, -58.4906185017636 4.55679044370499, -58.4914885126404 4.55685755024536, -58.4920371457032 4.55648887189584, -58.4922877649541 4.55591407076932, -58.492538146183 4.55522441531303, -58.4934977281097 4.55432654361452, -58.4934962582497 4.55361444050095, -58.4935412342761 4.55322383709697, -58.4939298614328 4.55297034651306, -58.4943422215053 4.55287288869861, -58.4944545487969 4.55294429208258, -58.4950815412663 4.55289803895618, -58.4960660303329 4.55244650717032, -58.4966918125582 4.55181592731594, -58.4965102301953 4.55064764898848, -58.4968218199115 4.54970308457492, -58.4966399596861 4.5483999618861, -58.4964721408971 4.54834091736965, -58.4965148066103 4.54822601830905, -58.496460236492 4.54813064592129, -58.4960106518429 4.5473225104377, -58.4955628307054 4.54736838970874, -58.4949827692311 4.54844835638525, -58.4949416880268 4.55024637617073, -58.4946734028351 4.55047167627411, -58.4943157192707 4.5507870580428, -58.4934194232525 4.55056417811946, -58.4927042385684 4.55128483913705, -58.4921677581025 4.55178038528491, -58.4923947751312 4.55326321253372, -58.4920385731028 4.55429776512985, -58.490739884768 4.5544353072498, -58.4895302245572 4.55430297046793, -58.4895733503059 4.55349380800963, -58.4907781952675 4.55128883595029, -58.4908646309094 4.54976040939034, -58.491356136582 4.54917505963483, -58.4920259730509 4.54818480489755, -58.4929203213182 4.5474637746835, -58.4929642790914 4.54705914843409, -58.4927840948168 4.54656508899283, -58.4927814101617 4.5452615912257, -58.4924650947709 4.54391379327802, -58.4925982662338 4.54332918818794, -58.4930443261947 4.5424292950557, -58.4927732675344 4.54130614615511, -58.4926370448628 4.54040745984692, -58.4924540914538 4.538564953543, -58.4921837754828 4.5378013892683, -58.4917360512848 4.53789221219804, -58.4909758048759 4.53847811528433, -58.4898102261092 4.53798609236482, -58.4889148678583 4.53821268415533, -58.4877954616651 4.53839478898139, -58.487077700496 4.53785688817867, -58.4867177158307 4.53704855650871, -58.4857297392256 4.53579203270423, -58.4844292432221 4.53503058405672, -58.4836212626768 4.53417822291063, -58.4837836099512 4.53374949594441, -58.4833124071295 4.53259383394502, -58.4829441891794 4.53162979542762, -58.4822800811196 4.5314933317661, -58.4819143466285 4.53174676681187, -58.4814350482789 4.53243689007904, -58.4808624551677 4.53227726556123, -58.4804276736247 4.53234707100234, -58.4797180168554 4.53232555579124, -58.4795110655201 4.53186655278081, -58.4796690103633 4.53074063360897, -58.4805145588881 4.53004976019186, -58.4806738099687 4.52956703611239, -58.4803985632753 4.52929194477162, -58.479573896341 4.52899500601047, -58.4790693702774 4.52853661326445, -58.4782453581756 4.52856127069629, -58.4776737939547 4.52890700993103, -58.4772856345667 4.5293902027495, -58.4767610630765 4.53033310178077, -58.4762799409939 4.53012734351286, -58.4764616664792 4.5294378313516, -58.4764421134075 4.52856363621881, -58.4768007204987 4.52812413307491, -58.4784538624612 4.52609805842071, -58.4788528690813 4.52407454965475, -58.4785374209648 4.52313127141167, -58.4782229765042 4.52268242727715, -58.4763863023012 4.52255133135429, -58.4754467090411 4.52304768517135, -58.4738369849095 4.52439943197438, -58.4721821921528 4.52561642154129, -58.4719609670003 4.52696533819702, -58.4725450631822 4.527863124987, -58.4737101669225 4.52813044283658, -58.4742036841832 4.52853397542479, -58.473981734781 4.52952330195949, -58.4734332207429 4.52997990546131, -58.4729532763207 4.53037942849056, -58.4724605772171 4.53038043348423, -58.4718317780189 4.52952768682679, -58.4710984932889 4.52900431831864, -58.4702914842613 4.52878345955846, -58.4690097744301 4.52944353351165, -58.4671297371524 4.53003169177989, -58.4648918203245 4.53084531665944, -58.4636997361189 4.53154914877105, -58.4613567613388 4.53256054416725, -58.4601926414633 4.53278764476668, -58.4588959510709 4.53391399452268, -58.4573333816601 4.53464428514118, -58.4566712472569 4.53480848283725, -58.4561517090824 4.53483038782418, -58.4555711575693 4.53551982218004, -58.4551903259271 4.53569647833382, -58.4543240365126 4.53545976783936, -58.4536815509377 4.53635788913317, -58.4527476374188 4.53702717806958, -58.4519921517041 4.53736524951296, -58.4515030148407 4.538218501618, -58.4511094649115 4.53888670040855, -58.4501120287357 4.53897213417686, -58.4495687620621 4.5391711331034, -58.4494684094327 4.53930713206078, -58.4490539497261 4.53991280342391, -58.4481605525497 4.54006059416902, -58.447309970262 4.54083399306796, -58.4465413968897 4.54104410176082, -58.4451089982168 4.54188123637471, -58.4444048507152 4.54313404026854, -58.4437398587988 4.54317708685984, -58.4432831180856 4.54342828057917, -58.4419944528224 4.54338914915085, -58.4413091743087 4.54368251233753, -58.4397504431143 4.54370648740491, -58.4388772414266 4.54356223674031, -58.437692822877 4.54368974239043, -58.4370504723134 4.5446712837423, -58.4366560779593 4.54492235080387, -58.4360322773604 4.54477759863375, -58.4356783774406 4.54448631201394, -58.4350132574903 4.54446678187687, -58.4343265704081 4.54405101817518, -58.4338483801465 4.54396854426037, -58.4334533663877 4.54390676072697, -58.4317927707772 4.54497375322358, -58.4310245960174 4.54539241322172, -58.4294869681081 4.5455831780286, -58.4287807309583 4.54579314813198, -58.4280758083124 4.54667052598282, -58.4274522928555 4.54667176407421, -58.4271398382179 4.54631781973134, -58.4268475084481 4.54563012964126, -58.426535463894 4.54548475116789, -58.4260785485593 4.54565250974495, -58.4254868871509 4.54599781721645, -58.4235539495014 4.54598078601661, -58.4228065091946 4.54637854176759, -58.4219569095327 4.54767333801555, -58.420814775286 4.54817615541879, -58.4202127777034 4.54855276529359, -58.419236095337 4.54863812064267, -58.4185501842617 4.54861861733535, -58.4175542680098 4.54949656398181, -58.4169523068792 4.54989402826132, -58.4162249882811 4.54995803185739, -58.4148734562071 4.54966869690837, -58.4137306200142 4.54981694305341, -58.4121942686582 4.55067508992645, -58.4110209630359 4.55118838605643, -58.4084646383809 4.55125596936705, -58.4066354725329 4.55117612351333, -58.4054520313675 4.55182500102991, -58.4041011000398 4.55184849769624, -58.4035602268741 4.5515992720864, -58.4029566364019 4.55116245548423, -58.4018758988861 4.55118542062506, -58.4013562947397 4.55118643299634, -58.4006492285336 4.55097924234795, -58.3997978022019 4.55135632467867, -58.3988638021022 4.5520255652338, -58.3984272124676 4.55196384376992, -58.398280312574 4.55123413686108, -58.3980199265127 4.55093221754801, -58.3974589606199 4.5509028831809, -58.3960687025549 4.55222914069978, -58.3955292775977 4.55273075444823, -58.3945317110704 4.5527744053821, -58.3937779607327 4.55337768417513, -58.3930602020357 4.55494638394064, -58.3923555417266 4.55599059922738, -58.3910635566992 4.55673052564364, -58.3910296127721 4.55674996560861, -58.3909903846691 4.55696338802404, -58.390243051837 4.55788740341096, -58.3900746400116 4.55884446598439, -58.3902126171567 4.55976676509923))   \n",
       "\n",
       "          permit_type  \n",
       "19  Large Concessions  \n",
       "22  Large Concessions  "
      ]
     },
     "metadata": {},
     "output_type": "display_data"
    }
   ],
   "source": [
    "with pd.option_context('display.max_rows', None, 'display.max_columns', None, 'display.max_colwidth', None):\n",
    "    display(merged_concessions[merged_concessions['OWNER'].str.contains('variety', case=False)])"
   ]
  },
  {
   "cell_type": "code",
   "execution_count": 6,
   "id": "33246508-9c65-4cf3-b312-e1909f4460c4",
   "metadata": {},
   "outputs": [
    {
     "data": {
      "text/html": [
       "<div>\n",
       "<style scoped>\n",
       "    .dataframe tbody tr th:only-of-type {\n",
       "        vertical-align: middle;\n",
       "    }\n",
       "\n",
       "    .dataframe tbody tr th {\n",
       "        vertical-align: top;\n",
       "    }\n",
       "\n",
       "    .dataframe thead th {\n",
       "        text-align: right;\n",
       "    }\n",
       "</style>\n",
       "<table border=\"1\" class=\"dataframe\">\n",
       "  <thead>\n",
       "    <tr style=\"text-align: right;\">\n",
       "      <th></th>\n",
       "      <th>Unnamed: 0</th>\n",
       "      <th>FID</th>\n",
       "      <th>OWNER</th>\n",
       "      <th>FOLIO_NO</th>\n",
       "      <th>SHORT_DESC</th>\n",
       "      <th>Shape_Area</th>\n",
       "      <th>Shape_Length</th>\n",
       "      <th>geometry</th>\n",
       "      <th>permit_type</th>\n",
       "    </tr>\n",
       "  </thead>\n",
       "  <tbody>\n",
       "    <tr>\n",
       "      <th>244</th>\n",
       "      <td>244</td>\n",
       "      <td>214</td>\n",
       "      <td>Prestige Enterprise</td>\n",
       "      <td>Ess 10/23</td>\n",
       "      <td>LB Arawapal River</td>\n",
       "      <td>8.053172e+07</td>\n",
       "      <td>45563.850744</td>\n",
       "      <td>POLYGON ((-59.3705032573977 7.04010882368587, ...</td>\n",
       "      <td>Essequibo Concessions</td>\n",
       "    </tr>\n",
       "  </tbody>\n",
       "</table>\n",
       "</div>"
      ],
      "text/plain": [
       "     Unnamed: 0  FID                OWNER   FOLIO_NO         SHORT_DESC  \\\n",
       "244         244  214  Prestige Enterprise  Ess 10/23  LB Arawapal River   \n",
       "\n",
       "       Shape_Area  Shape_Length  \\\n",
       "244  8.053172e+07  45563.850744   \n",
       "\n",
       "                                              geometry            permit_type  \n",
       "244  POLYGON ((-59.3705032573977 7.04010882368587, ...  Essequibo Concessions  "
      ]
     },
     "execution_count": 6,
     "metadata": {},
     "output_type": "execute_result"
    }
   ],
   "source": [
    "merged_concessions[merged_concessions['OWNER'].str.contains('prestige', case=False)]"
   ]
  },
  {
   "cell_type": "code",
   "execution_count": 10,
   "id": "f8f4dd86-2d74-4d02-b23a-c1b9a6ecbae8",
   "metadata": {},
   "outputs": [
    {
     "data": {
      "text/html": [
       "<div>\n",
       "<style scoped>\n",
       "    .dataframe tbody tr th:only-of-type {\n",
       "        vertical-align: middle;\n",
       "    }\n",
       "\n",
       "    .dataframe tbody tr th {\n",
       "        vertical-align: top;\n",
       "    }\n",
       "\n",
       "    .dataframe thead th {\n",
       "        text-align: right;\n",
       "    }\n",
       "</style>\n",
       "<table border=\"1\" class=\"dataframe\">\n",
       "  <thead>\n",
       "    <tr style=\"text-align: right;\">\n",
       "      <th></th>\n",
       "      <th>Unnamed: 0</th>\n",
       "      <th>FID</th>\n",
       "      <th>OWNER</th>\n",
       "      <th>FOLIO_NO</th>\n",
       "      <th>SHORT_DESC</th>\n",
       "      <th>Shape_Area</th>\n",
       "      <th>Shape_Length</th>\n",
       "      <th>geometry</th>\n",
       "      <th>permit_type</th>\n",
       "    </tr>\n",
       "  </thead>\n",
       "  <tbody>\n",
       "  </tbody>\n",
       "</table>\n",
       "</div>"
      ],
      "text/plain": [
       "Empty DataFrame\n",
       "Columns: [Unnamed: 0, FID, OWNER, FOLIO_NO, SHORT_DESC, Shape_Area, Shape_Length, geometry, permit_type]\n",
       "Index: []"
      ]
     },
     "execution_count": 10,
     "metadata": {},
     "output_type": "execute_result"
    }
   ],
   "source": [
    "merged_concessions[merged_concessions['OWNER'].str.contains('woods direct', case=False)]"
   ]
  },
  {
   "cell_type": "code",
   "execution_count": 30,
   "id": "87e211f8-1946-4539-83bb-2e853e1a5518",
   "metadata": {},
   "outputs": [
    {
     "data": {
      "text/html": [
       "<div>\n",
       "<style scoped>\n",
       "    .dataframe tbody tr th:only-of-type {\n",
       "        vertical-align: middle;\n",
       "    }\n",
       "\n",
       "    .dataframe tbody tr th {\n",
       "        vertical-align: top;\n",
       "    }\n",
       "\n",
       "    .dataframe thead th {\n",
       "        text-align: right;\n",
       "    }\n",
       "</style>\n",
       "<table border=\"1\" class=\"dataframe\">\n",
       "  <thead>\n",
       "    <tr style=\"text-align: right;\">\n",
       "      <th></th>\n",
       "      <th>Unnamed: 0</th>\n",
       "      <th>FID</th>\n",
       "      <th>OWNER</th>\n",
       "      <th>FOLIO_NO</th>\n",
       "      <th>SHORT_DESC</th>\n",
       "      <th>Shape_Area</th>\n",
       "      <th>Shape_Length</th>\n",
       "      <th>geometry</th>\n",
       "      <th>permit_type</th>\n",
       "    </tr>\n",
       "  </thead>\n",
       "  <tbody>\n",
       "    <tr>\n",
       "      <th>163</th>\n",
       "      <td>163</td>\n",
       "      <td>133</td>\n",
       "      <td>Durable Wood Products Ent.</td>\n",
       "      <td>Ess 16/18</td>\n",
       "      <td>Left Bank Kaburi River, Left Bank Ohio River, Right Bank Prospect Creek: 35 NE,SE,36 NW,SW</td>\n",
       "      <td>3.038457e+07</td>\n",
       "      <td>37126.835642</td>\n",
       "      <td>POLYGON ((-59.0387626851707 5.67717894372774, -59.0386675053873 5.67709445279614, -59.0386481745168 5.67687157100344, -59.0384038987482 5.67631018019849, -59.0382667219712 5.67649648447981, -59.0380841762395 5.67665576738107, -59.0381599495802 5.6775550987919, -59.0378823830936 5.67794246018027, -59.0374835159172 5.67859834003717, -59.0374821818797 5.67891937337737, -59.0374811186606 5.67917524553923, -59.0374904971498 5.67922759617905, -59.0374990648847 5.67927542117871, -59.0379034566053 5.68067509498478, -59.0378097780165 5.68100980742263, -59.0376486404288 5.68158554970157, -59.0361394011893 5.68425221655687, -59.0359803858009 5.68466612916197, -59.0360737730857 5.68540522068677, -59.0360859103864 5.68555353101592, -59.0361591520753 5.68644849411006, -59.0379538998928 5.68751858891396, -59.0391145841101 5.68914046978588, -59.0397697470299 5.6898540682985, -59.0398410716264 5.69057717896474, -59.0396727032275 5.69158818695113, -59.0396653732246 5.69275937226573, -59.0395299332857 5.69335691348443, -59.039176767436 5.69439841253226, -59.0390077746792 5.69480548894317, -59.039244974541 5.69565054494429, -59.0392739682912 5.69618279935915, -59.0424334565565 5.698252699581, -59.0451863281934 5.70013265472156, -59.0461226455826 5.70154064306572, -59.0461264622579 5.70261705814459, -59.0460934812222 5.70290284801581, -59.0466101843854 5.70315361109898, -59.0473588955199 5.70311332662383, -59.0476468037356 5.7032292591256, -59.0477502479452 5.70327091313273, -59.0478595674075 5.70342317587597, -59.0480333535451 5.70366522906312, -59.0479963202001 5.70482808649099, -59.0479817895313 5.70528435947033, -59.0480986971398 5.70592692879392, -59.048424836492 5.70681267518059, -59.0482938748179 5.7073698746193, -59.0478968134295 5.70799790055853, -59.0477989878843 5.70825263900824, -59.0491207717295 5.73205096512989, -59.0483984041024 5.73228970133362, -59.047270996492 5.73330414275584, -59.0458972954692 5.73391427893895, -59.0448895860982 5.73412404861463, -59.0443013590413 5.73398731403209, -59.0440282439222 5.73392382761795, -59.0428913299017 5.73362672971096, -59.0416112620772 5.73329221956401, -59.0405909606988 5.73306775410425, -59.0398964561895 5.73250047613556, -59.0396437987165 5.73242237900921, -59.0393501850068 5.73233162201227, -59.0379612078953 5.7323916333985, -59.0368125953117 5.73217797190188, -59.0362438490737 5.73175938736532, -59.035632629225 5.73130954162843, -59.0352320968663 5.73042302710393, -59.034985545278 5.72985745973293, -59.0345681824252 5.72943588232082, -59.0340038447343 5.72886584408132, -59.0335889007166 5.72822432707345, -59.0332474197665 5.72733579464549, -59.0327580409815 5.72666572679465, -59.0317501459781 5.72612605114719, -59.0309970326257 5.72572279578811, -59.0301998886574 5.72505201053713, -59.0300228769768 5.72430772018361, -59.0299600273462 5.72372297123839, -59.0303081376981 5.72275342010496, -59.0302044680063 5.72202074353835, -59.0299572787036 5.7212714609062, -59.0294990491245 5.72086175335554, -59.0286854274202 5.72034209239345, -59.0278286165779 5.72008486429421, -59.0273763952604 5.72029516261725, -59.0268074601786 5.72089987224829, -59.0265330522955 5.72109986435149, -59.0261754232199 5.72104574083089, -59.023417836665 5.71944184727201, -59.0229182003263 5.71887745742839, -59.0225543092028 5.7181285793372, -59.0227140755546 5.71733192607258, -59.0225492724057 5.71669536132713, -59.0220512258441 5.71572677329354, -59.0210528563087 5.71492091318594, -59.0204885758338 5.71467592668856, -59.0200906249922 5.71409150118096, -59.0195147966683 5.71359515361641, -59.0192165360817 5.71368528933905, -59.0187030963555 5.71368732704167, -59.017897363902 5.71401344990375, -59.0182379589354 5.70002839447136, -59.0174705480215 5.69954547541548, -59.0168576421596 5.69865538148722, -59.0167609364105 5.69766489661105, -59.0168803160805 5.69683776620118, -59.0168034522767 5.69626729192051, -59.0160920589098 5.69527698384123, -59.0158819679846 5.69498452188039, -59.0157880253458 5.69434185197615, -59.0154631976111 5.69367366362352, -59.0149574633858 5.69327738603644, -59.0141331129084 5.69310757187508, -59.0126878159188 5.69230442314473, -59.011880398489 5.69183031034185, -59.0113159552137 5.69149886982075, -59.0106245324381 5.6910573336963, -59.0098731011597 5.69032509671562, -59.009182379002 5.68947016998471, -59.0088194104743 5.6885501051761, -59.0086753487773 5.68834920233104, -59.008472857119 5.68715660579422, -59.0088158372961 5.6858401880776, -59.0088526914336 5.6850567478674, -59.0087948878221 5.68392369507081, -59.0086029611912 5.68342373347798, -59.0077704153662 5.6826689393562, -59.0065439004855 5.68225323753735, -59.0062822860979 5.68173362108272, -59.0064330476785 5.68113602309895, -59.0068121519569 5.68027736849649, -59.0069688741502 5.67946664416938, -59.0068791937031 5.67898598311959, -59.0067218979241 5.67830364405578, -59.0059597049671 5.67754430055957, -59.0057176822052 5.67757137373033, -59.0053197917589 5.67697138825695, -59.0046065029236 5.67632263651982, -59.0043972573913 5.67613232260614, -59.0036938832388 5.67571062513058, -59.0030326234638 5.67537919250264, -59.0020596255709 5.67472321199284, -59.0015042030977 5.67404517183627, -59.0010127237017 5.6737909025431, -59.0003508606385 5.6737798869409, -58.9997437199277 5.67364219818511, -58.9984246720252 5.67275080315996, -58.9972339597913 5.67222278375675, -58.9958581884526 5.67213567689909, -58.9940609403982 5.67308970297437, -58.9936880714063 5.67260674868387, -58.992983638982 5.67219581540738, -58.9928809405839 5.67160107516811, -58.9929942941318 5.67084852372789, -58.9934343935146 5.66994373373616, -58.9938483183205 5.66958834082563, -58.9942297305054 5.67012470829306, -58.9946813917513 5.67018828784481, -58.9950694424168 5.66987685698313, -58.9949887756586 5.66901740416832, -58.9947613398087 5.66843696514525, -58.9949925464301 5.66795736588675, -58.9953826450951 5.66762525137457, -58.9955033284446 5.6671655443304, -58.9953499501995 5.66687603704971, -58.9951956752557 5.66658483675741, -58.9951936239801 5.66598776562884, -58.9954964106025 5.66553515665659, -58.9969559402527 5.66498471538073, -58.9975880546776 5.66454039645929, -58.9984860955991 5.66348092976702, -58.9988655270835 5.66271413672656, -58.999000963728 5.66210128263876, -58.9988602400199 5.66122711393193, -58.998892434523 5.66070359848997, -58.9997501007643 5.6601265261498, -58.9994358901994 5.65969616448658, -58.9995509540809 5.65929097294329, -59.0000301163768 5.6591735851999, -59.0008923673505 5.65965502981315, -59.0013957763267 5.65984186983636, -59.0018043566544 5.65959612822258, -59.0019405707851 5.65920995115799, -59.0023736458792 5.65920845470536, -59.0031142848859 5.6601293568501, -59.0032865296568 5.66034352333642, -59.0035262136766 5.66021741186726, -59.0035934810882 5.65978085497326, -59.0033969287447 5.6592877992598, -59.0030993411079 5.65864720463432, -59.0031570158514 5.65847052958483, -59.0034027816204 5.65851038079318, -59.0038995474812 5.65879232592488, -59.0046596303254 5.65933445859331, -59.005296403429 5.65946494381316, -59.0057653190168 5.65964488842797, -59.0061604937533 5.65964566775585, -59.0066435332414 5.65986132425615, -59.007042875614 5.65987786781959, -59.0073543981823 5.66018502290732, -59.0074586897617 5.66018149522872, -59.0078586650495 5.66016796583098, -59.0082409197048 5.6603918191867, -59.0083642539313 5.66053364320981, -59.0086147045453 5.66045910399014, -59.0089367625756 5.66036325277095, -59.0091796145112 5.65988015905878, -59.0094377462774 5.66005817941751, -59.0096545064032 5.66020766765279, -59.0101011363204 5.66019461470364, -59.0105257271318 5.6603290458969, -59.0108011094335 5.66032616544214, -59.0109157455611 5.66045253064281, -59.0110697958134 5.66068500727414, -59.0110638494806 5.66117493362864, -59.011386220283 5.66128011285687, -59.0116158954836 5.6615289162745, -59.0117252929204 5.66164742460809, -59.0119668362183 5.66155453639121, -59.0120811813656 5.66159669970224, -59.0122433744609 5.66176813850627, -59.0122478902292 5.66199468829694, -59.0119844505341 5.66222809516081, -59.0117412300654 5.66260402399918, -59.0117880314001 5.6628794332354, -59.0119584359516 5.66297673909656, -59.0121274464404 5.66307324881272, -59.0126058542452 5.66293782947591, -59.0128650193716 5.66275321420252, -59.0133920776199 5.66269779852176, -59.0136138244122 5.66286206420387, -59.0136372881251 5.66332771743386, -59.0138027463275 5.66368232584114, -59.0138429463346 5.66376848200132, -59.0138704756839 5.6640357185241, -59.0141167730686 5.66454773075238, -59.0143928396208 5.6648299963044, -59.0147791361437 5.66485452431432, -59.0148909702565 5.66486162520417, -59.0151819689893 5.66465444050246, -59.015274676949 5.66431604326419, -59.0154701336113 5.66427450219046, -59.0156664486722 5.66423277861095, -59.0165226404724 5.66527787066464, -59.0172555807695 5.66563703827673, -59.0182199299178 5.66552595898599, -59.0187707946019 5.66542050048684, -59.0190468456006 5.6650783296604, -59.0194453598864 5.6654137478685, -59.0199513841789 5.66590188511092, -59.0199453289356 5.66665513370241, -59.0201339641897 5.66766926271471, -59.0206675379057 5.66879927934654, -59.020634923156 5.66904475136686, -59.0208951764149 5.66922074295751, -59.0210742624131 5.66903364804334, -59.0211880484072 5.66879404020883, -59.0214573209401 5.66898064116231, -59.0216596304434 5.66913645894835, -59.0219445888557 5.6693559322026, -59.0220412379811 5.66968092009563, -59.0218606245873 5.66993033006461, -59.0214369767834 5.6702365208419, -59.0215029656647 5.67042707676517, -59.0215505145697 5.67056438348862, -59.0216911808856 5.67057954275409, -59.0223784774909 5.67052176040127, -59.023103380892 5.67051339959714, -59.0233527396745 5.67051835237123, -59.0235947294292 5.67023603197159, -59.0238569045788 5.67019981840664, -59.0239565811981 5.67028805230988, -59.0240403814906 5.67057347408013, -59.0240130338768 5.67087007222875, -59.0241677285108 5.67140536068664, -59.0243023188307 5.67165366765773, -59.024668170523 5.67198549513336, -59.0247653244002 5.67212235188336, -59.025379760588 5.67228575947601, -59.025527729347 5.67245312014248, -59.0257596265537 5.67238678336489, -59.0257074725 5.67195493442169, -59.0256429724106 5.67171711767514, -59.0260293199157 5.67112135747777, -59.0262513642236 5.67096893981283, -59.0263073086661 5.67114426839406, -59.0264337062931 5.67154039496189, -59.026483141846 5.67169532433196, -59.0270260603491 5.67208427002856, -59.0273609678798 5.67225532638834, -59.0274643524616 5.6723200287521, -59.0279685785167 5.67158319378596, -59.0283931906703 5.67161207944359, -59.0284815776739 5.6715771137498, -59.0289185831065 5.67119707730101, -59.0291526983904 5.67061560583969, -59.0293281029937 5.66981572513549, -59.0296224833836 5.66904090777817, -59.0300418905804 5.66844043760937, -59.0306250761487 5.66824429807565, -59.0310135323529 5.66788699169731, -59.0311111744602 5.66724225608386, -59.0311746103794 5.66709253249084, -59.0311014914001 5.66681885475971, -59.0313174577781 5.66630140568338, -59.0315833616874 5.66612778277121, -59.0330677663719 5.66548228775986, -59.0340601872751 5.66468122175302, -59.0340783072922 5.66466659554098, -59.0352988005566 5.66456553220376, -59.0360558835199 5.66450284043196, -59.0368313248849 5.66436920322341, -59.0374145420049 5.66398824556765, -59.0377901999403 5.66325207686667, -59.0379511075446 5.66250770819005, -59.0397145473686 5.66258475572504, -59.0401189517624 5.66184948737424, -59.0404355822035 5.66127380438802, -59.0408993557981 5.66071568846571, -59.0418894902733 5.65952413407327, -59.0437634960192 5.65842718624638, -59.0444663291106 5.65542942460011, -59.0446202007894 5.65479762777959, -59.0446930075135 5.65449868338632, -59.0449381838751 5.65392831009855, -59.0451078599594 5.65353357871949, -59.0451986082043 5.65332246350797, -59.0454127483104 5.65282429114945, -59.0457237955015 5.65236906268464, -59.0461204234968 5.65181742494261, -59.0462451053098 5.65160610614276, -59.0468565646634 5.65071121016241, -59.0480890796497 5.6504161046398, -59.0497579810361 5.65041021229627, -59.0508833934227 5.65062430333197, -59.0520822331865 5.6510561992614, -59.0536780587053 5.65090517551936, -59.0545478420724 5.649860428794, -59.0589723497969 5.65663239851416, -59.0586695458795 5.65715551832839, -59.0587325016265 5.65763204281292, -59.0587836350553 5.65801908044807, -59.0595567626049 5.659546217919, -59.0598506832094 5.66010944144936, -59.0598977934942 5.66091719233967, -59.0602213594179 5.66166235983957, -59.0604514566757 5.66237105526839, -59.0604786638602 5.66249407853916, -59.0600291965906 5.66318888223033, -59.0591595874744 5.66360532125267, -59.0587808660691 5.6642996179992, -59.0589000804138 5.66523238989973, -59.0589409020057 5.66581185308373, -59.0584443502654 5.66651082008724, -59.0585638313635 5.66737686072711, -59.0585927907264 5.66804471582125, -59.0582537134577 5.6691899558035, -59.0585260198639 5.67011212588652, -59.0587792852066 5.67115850945369, -59.0588511048815 5.67214144034259, -59.0588727086641 5.67243710948008, -59.0583515446334 5.67297860513416, -59.058107586351 5.6732320803175, -59.0579733459264 5.67416258662461, -59.0580976116247 5.67544441400548, -59.0581280131863 5.67575801014804, -59.0577984347618 5.67642072721975, -59.0569848046341 5.67747209056724, -59.0564849735622 5.67786503772729, -59.0560436639686 5.67882451455829, -59.0559239786188 5.67900783558318, -59.0551705133028 5.67896431681998, -59.0547592629391 5.67882588016257, -59.0545854868409 5.67876738287316, -59.054618732467 5.67844577268731, -59.0547981955381 5.67803110132908, -59.0547874032323 5.67752662435382, -59.054637300633 5.6772171482963, -59.0542688768934 5.67690871929579, -59.0539254881989 5.67688670600385, -59.0534335251096 5.67714105606468, -59.0533457717845 5.67724543915216, -59.0533501550243 5.67742229449118, -59.0529239292202 5.67843804106834, -59.0522578966951 5.67916759351765, -59.0515167994365 5.67965091580433, -59.0511551814002 5.67967856648408, -59.0509356659535 5.67969535135474, -59.0505142251164 5.68029554177115, -59.0504078003794 5.68044710523892, -59.0501216183974 5.68055145860595, -59.0499110721243 5.6803209256223, -59.0494692448713 5.67962879685735, -59.0490982362657 5.67963011371527, -59.0487368222391 5.67986843811636, -59.0481691449688 5.68060494051382, -59.0476858688103 5.68075511484737, -59.047348888598 5.68085982858872, -59.0471989405412 5.68078124619703, -59.0467980958804 5.68057117756237, -59.0464883912061 5.68062175984723, -59.0461000642155 5.68101352144092, -59.0459657937852 5.68155487483887, -59.0451300255827 5.68155783689254, -59.0449398131418 5.68116966493019, -59.0446970773909 5.68067430595118, -59.0443907739903 5.68060622858604, -59.0437985382036 5.68114031873664, -59.0431477216816 5.68146917477641, -59.0429381425028 5.68147251642195, -59.0429257490474 5.68120847577897, -59.0434319925935 5.68082230975933, -59.0435078792896 5.680517499248, -59.043334619905 5.6802963992057, -59.0430831048033 5.68031303995954, -59.0427213971029 5.68033697109191, -59.0423030374198 5.68014285903267, -59.04171033629 5.68015862176624, -59.0412118854847 5.67950372899918, -59.0411064628375 5.67886111256264, -59.041217632861 5.67822166227794, -59.0411264513799 5.67811626529533, -59.0405426915285 5.677802574489, -59.0405113679973 5.6776728201473, -59.0404457606746 5.67740104856159, -59.0401947847372 5.67710759519497, -59.0393740623389 5.67685944039042, -59.0388653612238 5.67721989762926, -59.0387626851707 5.67717894372774))</td>\n",
       "      <td>Essequibo Concessions</td>\n",
       "    </tr>\n",
       "  </tbody>\n",
       "</table>\n",
       "</div>"
      ],
      "text/plain": [
       "     Unnamed: 0  FID                       OWNER   FOLIO_NO  \\\n",
       "163         163  133  Durable Wood Products Ent.  Ess 16/18   \n",
       "\n",
       "                                                                                     SHORT_DESC  \\\n",
       "163  Left Bank Kaburi River, Left Bank Ohio River, Right Bank Prospect Creek: 35 NE,SE,36 NW,SW   \n",
       "\n",
       "       Shape_Area  Shape_Length  \\\n",
       "163  3.038457e+07  37126.835642   \n",
       "\n",
       "                                                                                                                                                                                                                                                                                                                                                                                                                                                                                                                                                                                                                                                                                                                                                                                                                                                                                                                                                                                                                                                                                                                                                                                                                                                                                                                                                                                                                                                                                                                                                                                                                                                                                                                                                                                                                                                                                                                                                                                                                                                                                                                                                                                                                                                                                                                                                                                                                                                                                                                                                                                                                                                                                                                                                                                                                                                                                                                                                                                                                                                                                                                                                                                                                                                                                                                                                                                                                                                                                                                                                                                                                                                                                                                                                                                                                                                                                                                                                                                                                                                                                                                                                                                                                                                                                                                                                                                                                                                                                                                                                                                                                                                                                                                                                                                                                                                                                                                                                                                                                                                                                                                                                                                                                                                                                                                                                                                                                                                                                                                                                                                                                                                                                                                                                                                                                                                                                                                                                                                                                                                                                                                                                                                                                                                                                                                                                                                                                                                                                                                                                                                                                                                                                                                                                                                                                                                                                                                                                                                                                                                                                                                                                                                                                                                                                                                                                                                                                                                                                                                                                                                                                                                                                                                                                                                                                                                                                                                                                                                                                                                                                                                                                                                                                                                                                                                                                                                                                                                                                                                                                                                                                                                                                                                                                                                                                                                                                                                                                                                                                                                                                                                                                                                                                                                                                                                                                                                                                                                                                                                                                                                                                                                                                                                                                                                                                                                                                                                                                                                                                                                                                                                                                                                                                                                                                                                                                                                                                                                                                                                                                                                                                                                                                                                                                                                                                                                                                                                                                                                                                                                                                                                                                                                                                                                                                                                                                                                                                                                                                                                                                                                                                                                                                                                                                                                                                                                                                                                                                                                                                                                                                                                                                                                                                                                                                                                                                                                                                                                                                                                                                                                                                                                                                                                                                                                                                                                                                                                                                                                                                                                                                                                                                                                                                                                                                                                                                                                                                                                                                                                                                                                                                                                                                                                                                                                                                                                                                                                                                                                                                                                                                                                                                                                                                                                                                                                                                                                                                                                                                                                                                                                                                                                                                                                                                                                                                                                                                                                                                                                                                                                                                                                                                                                                                                                                                                                                                                                                                                                                                                                                                                                                                                                                                                                                                                                                                                                                                                                                                                                                                                          geometry  \\\n",
       "163  POLYGON ((-59.0387626851707 5.67717894372774, -59.0386675053873 5.67709445279614, -59.0386481745168 5.67687157100344, -59.0384038987482 5.67631018019849, -59.0382667219712 5.67649648447981, -59.0380841762395 5.67665576738107, -59.0381599495802 5.6775550987919, -59.0378823830936 5.67794246018027, -59.0374835159172 5.67859834003717, -59.0374821818797 5.67891937337737, -59.0374811186606 5.67917524553923, -59.0374904971498 5.67922759617905, -59.0374990648847 5.67927542117871, -59.0379034566053 5.68067509498478, -59.0378097780165 5.68100980742263, -59.0376486404288 5.68158554970157, -59.0361394011893 5.68425221655687, -59.0359803858009 5.68466612916197, -59.0360737730857 5.68540522068677, -59.0360859103864 5.68555353101592, -59.0361591520753 5.68644849411006, -59.0379538998928 5.68751858891396, -59.0391145841101 5.68914046978588, -59.0397697470299 5.6898540682985, -59.0398410716264 5.69057717896474, -59.0396727032275 5.69158818695113, -59.0396653732246 5.69275937226573, -59.0395299332857 5.69335691348443, -59.039176767436 5.69439841253226, -59.0390077746792 5.69480548894317, -59.039244974541 5.69565054494429, -59.0392739682912 5.69618279935915, -59.0424334565565 5.698252699581, -59.0451863281934 5.70013265472156, -59.0461226455826 5.70154064306572, -59.0461264622579 5.70261705814459, -59.0460934812222 5.70290284801581, -59.0466101843854 5.70315361109898, -59.0473588955199 5.70311332662383, -59.0476468037356 5.7032292591256, -59.0477502479452 5.70327091313273, -59.0478595674075 5.70342317587597, -59.0480333535451 5.70366522906312, -59.0479963202001 5.70482808649099, -59.0479817895313 5.70528435947033, -59.0480986971398 5.70592692879392, -59.048424836492 5.70681267518059, -59.0482938748179 5.7073698746193, -59.0478968134295 5.70799790055853, -59.0477989878843 5.70825263900824, -59.0491207717295 5.73205096512989, -59.0483984041024 5.73228970133362, -59.047270996492 5.73330414275584, -59.0458972954692 5.73391427893895, -59.0448895860982 5.73412404861463, -59.0443013590413 5.73398731403209, -59.0440282439222 5.73392382761795, -59.0428913299017 5.73362672971096, -59.0416112620772 5.73329221956401, -59.0405909606988 5.73306775410425, -59.0398964561895 5.73250047613556, -59.0396437987165 5.73242237900921, -59.0393501850068 5.73233162201227, -59.0379612078953 5.7323916333985, -59.0368125953117 5.73217797190188, -59.0362438490737 5.73175938736532, -59.035632629225 5.73130954162843, -59.0352320968663 5.73042302710393, -59.034985545278 5.72985745973293, -59.0345681824252 5.72943588232082, -59.0340038447343 5.72886584408132, -59.0335889007166 5.72822432707345, -59.0332474197665 5.72733579464549, -59.0327580409815 5.72666572679465, -59.0317501459781 5.72612605114719, -59.0309970326257 5.72572279578811, -59.0301998886574 5.72505201053713, -59.0300228769768 5.72430772018361, -59.0299600273462 5.72372297123839, -59.0303081376981 5.72275342010496, -59.0302044680063 5.72202074353835, -59.0299572787036 5.7212714609062, -59.0294990491245 5.72086175335554, -59.0286854274202 5.72034209239345, -59.0278286165779 5.72008486429421, -59.0273763952604 5.72029516261725, -59.0268074601786 5.72089987224829, -59.0265330522955 5.72109986435149, -59.0261754232199 5.72104574083089, -59.023417836665 5.71944184727201, -59.0229182003263 5.71887745742839, -59.0225543092028 5.7181285793372, -59.0227140755546 5.71733192607258, -59.0225492724057 5.71669536132713, -59.0220512258441 5.71572677329354, -59.0210528563087 5.71492091318594, -59.0204885758338 5.71467592668856, -59.0200906249922 5.71409150118096, -59.0195147966683 5.71359515361641, -59.0192165360817 5.71368528933905, -59.0187030963555 5.71368732704167, -59.017897363902 5.71401344990375, -59.0182379589354 5.70002839447136, -59.0174705480215 5.69954547541548, -59.0168576421596 5.69865538148722, -59.0167609364105 5.69766489661105, -59.0168803160805 5.69683776620118, -59.0168034522767 5.69626729192051, -59.0160920589098 5.69527698384123, -59.0158819679846 5.69498452188039, -59.0157880253458 5.69434185197615, -59.0154631976111 5.69367366362352, -59.0149574633858 5.69327738603644, -59.0141331129084 5.69310757187508, -59.0126878159188 5.69230442314473, -59.011880398489 5.69183031034185, -59.0113159552137 5.69149886982075, -59.0106245324381 5.6910573336963, -59.0098731011597 5.69032509671562, -59.009182379002 5.68947016998471, -59.0088194104743 5.6885501051761, -59.0086753487773 5.68834920233104, -59.008472857119 5.68715660579422, -59.0088158372961 5.6858401880776, -59.0088526914336 5.6850567478674, -59.0087948878221 5.68392369507081, -59.0086029611912 5.68342373347798, -59.0077704153662 5.6826689393562, -59.0065439004855 5.68225323753735, -59.0062822860979 5.68173362108272, -59.0064330476785 5.68113602309895, -59.0068121519569 5.68027736849649, -59.0069688741502 5.67946664416938, -59.0068791937031 5.67898598311959, -59.0067218979241 5.67830364405578, -59.0059597049671 5.67754430055957, -59.0057176822052 5.67757137373033, -59.0053197917589 5.67697138825695, -59.0046065029236 5.67632263651982, -59.0043972573913 5.67613232260614, -59.0036938832388 5.67571062513058, -59.0030326234638 5.67537919250264, -59.0020596255709 5.67472321199284, -59.0015042030977 5.67404517183627, -59.0010127237017 5.6737909025431, -59.0003508606385 5.6737798869409, -58.9997437199277 5.67364219818511, -58.9984246720252 5.67275080315996, -58.9972339597913 5.67222278375675, -58.9958581884526 5.67213567689909, -58.9940609403982 5.67308970297437, -58.9936880714063 5.67260674868387, -58.992983638982 5.67219581540738, -58.9928809405839 5.67160107516811, -58.9929942941318 5.67084852372789, -58.9934343935146 5.66994373373616, -58.9938483183205 5.66958834082563, -58.9942297305054 5.67012470829306, -58.9946813917513 5.67018828784481, -58.9950694424168 5.66987685698313, -58.9949887756586 5.66901740416832, -58.9947613398087 5.66843696514525, -58.9949925464301 5.66795736588675, -58.9953826450951 5.66762525137457, -58.9955033284446 5.6671655443304, -58.9953499501995 5.66687603704971, -58.9951956752557 5.66658483675741, -58.9951936239801 5.66598776562884, -58.9954964106025 5.66553515665659, -58.9969559402527 5.66498471538073, -58.9975880546776 5.66454039645929, -58.9984860955991 5.66348092976702, -58.9988655270835 5.66271413672656, -58.999000963728 5.66210128263876, -58.9988602400199 5.66122711393193, -58.998892434523 5.66070359848997, -58.9997501007643 5.6601265261498, -58.9994358901994 5.65969616448658, -58.9995509540809 5.65929097294329, -59.0000301163768 5.6591735851999, -59.0008923673505 5.65965502981315, -59.0013957763267 5.65984186983636, -59.0018043566544 5.65959612822258, -59.0019405707851 5.65920995115799, -59.0023736458792 5.65920845470536, -59.0031142848859 5.6601293568501, -59.0032865296568 5.66034352333642, -59.0035262136766 5.66021741186726, -59.0035934810882 5.65978085497326, -59.0033969287447 5.6592877992598, -59.0030993411079 5.65864720463432, -59.0031570158514 5.65847052958483, -59.0034027816204 5.65851038079318, -59.0038995474812 5.65879232592488, -59.0046596303254 5.65933445859331, -59.005296403429 5.65946494381316, -59.0057653190168 5.65964488842797, -59.0061604937533 5.65964566775585, -59.0066435332414 5.65986132425615, -59.007042875614 5.65987786781959, -59.0073543981823 5.66018502290732, -59.0074586897617 5.66018149522872, -59.0078586650495 5.66016796583098, -59.0082409197048 5.6603918191867, -59.0083642539313 5.66053364320981, -59.0086147045453 5.66045910399014, -59.0089367625756 5.66036325277095, -59.0091796145112 5.65988015905878, -59.0094377462774 5.66005817941751, -59.0096545064032 5.66020766765279, -59.0101011363204 5.66019461470364, -59.0105257271318 5.6603290458969, -59.0108011094335 5.66032616544214, -59.0109157455611 5.66045253064281, -59.0110697958134 5.66068500727414, -59.0110638494806 5.66117493362864, -59.011386220283 5.66128011285687, -59.0116158954836 5.6615289162745, -59.0117252929204 5.66164742460809, -59.0119668362183 5.66155453639121, -59.0120811813656 5.66159669970224, -59.0122433744609 5.66176813850627, -59.0122478902292 5.66199468829694, -59.0119844505341 5.66222809516081, -59.0117412300654 5.66260402399918, -59.0117880314001 5.6628794332354, -59.0119584359516 5.66297673909656, -59.0121274464404 5.66307324881272, -59.0126058542452 5.66293782947591, -59.0128650193716 5.66275321420252, -59.0133920776199 5.66269779852176, -59.0136138244122 5.66286206420387, -59.0136372881251 5.66332771743386, -59.0138027463275 5.66368232584114, -59.0138429463346 5.66376848200132, -59.0138704756839 5.6640357185241, -59.0141167730686 5.66454773075238, -59.0143928396208 5.6648299963044, -59.0147791361437 5.66485452431432, -59.0148909702565 5.66486162520417, -59.0151819689893 5.66465444050246, -59.015274676949 5.66431604326419, -59.0154701336113 5.66427450219046, -59.0156664486722 5.66423277861095, -59.0165226404724 5.66527787066464, -59.0172555807695 5.66563703827673, -59.0182199299178 5.66552595898599, -59.0187707946019 5.66542050048684, -59.0190468456006 5.6650783296604, -59.0194453598864 5.6654137478685, -59.0199513841789 5.66590188511092, -59.0199453289356 5.66665513370241, -59.0201339641897 5.66766926271471, -59.0206675379057 5.66879927934654, -59.020634923156 5.66904475136686, -59.0208951764149 5.66922074295751, -59.0210742624131 5.66903364804334, -59.0211880484072 5.66879404020883, -59.0214573209401 5.66898064116231, -59.0216596304434 5.66913645894835, -59.0219445888557 5.6693559322026, -59.0220412379811 5.66968092009563, -59.0218606245873 5.66993033006461, -59.0214369767834 5.6702365208419, -59.0215029656647 5.67042707676517, -59.0215505145697 5.67056438348862, -59.0216911808856 5.67057954275409, -59.0223784774909 5.67052176040127, -59.023103380892 5.67051339959714, -59.0233527396745 5.67051835237123, -59.0235947294292 5.67023603197159, -59.0238569045788 5.67019981840664, -59.0239565811981 5.67028805230988, -59.0240403814906 5.67057347408013, -59.0240130338768 5.67087007222875, -59.0241677285108 5.67140536068664, -59.0243023188307 5.67165366765773, -59.024668170523 5.67198549513336, -59.0247653244002 5.67212235188336, -59.025379760588 5.67228575947601, -59.025527729347 5.67245312014248, -59.0257596265537 5.67238678336489, -59.0257074725 5.67195493442169, -59.0256429724106 5.67171711767514, -59.0260293199157 5.67112135747777, -59.0262513642236 5.67096893981283, -59.0263073086661 5.67114426839406, -59.0264337062931 5.67154039496189, -59.026483141846 5.67169532433196, -59.0270260603491 5.67208427002856, -59.0273609678798 5.67225532638834, -59.0274643524616 5.6723200287521, -59.0279685785167 5.67158319378596, -59.0283931906703 5.67161207944359, -59.0284815776739 5.6715771137498, -59.0289185831065 5.67119707730101, -59.0291526983904 5.67061560583969, -59.0293281029937 5.66981572513549, -59.0296224833836 5.66904090777817, -59.0300418905804 5.66844043760937, -59.0306250761487 5.66824429807565, -59.0310135323529 5.66788699169731, -59.0311111744602 5.66724225608386, -59.0311746103794 5.66709253249084, -59.0311014914001 5.66681885475971, -59.0313174577781 5.66630140568338, -59.0315833616874 5.66612778277121, -59.0330677663719 5.66548228775986, -59.0340601872751 5.66468122175302, -59.0340783072922 5.66466659554098, -59.0352988005566 5.66456553220376, -59.0360558835199 5.66450284043196, -59.0368313248849 5.66436920322341, -59.0374145420049 5.66398824556765, -59.0377901999403 5.66325207686667, -59.0379511075446 5.66250770819005, -59.0397145473686 5.66258475572504, -59.0401189517624 5.66184948737424, -59.0404355822035 5.66127380438802, -59.0408993557981 5.66071568846571, -59.0418894902733 5.65952413407327, -59.0437634960192 5.65842718624638, -59.0444663291106 5.65542942460011, -59.0446202007894 5.65479762777959, -59.0446930075135 5.65449868338632, -59.0449381838751 5.65392831009855, -59.0451078599594 5.65353357871949, -59.0451986082043 5.65332246350797, -59.0454127483104 5.65282429114945, -59.0457237955015 5.65236906268464, -59.0461204234968 5.65181742494261, -59.0462451053098 5.65160610614276, -59.0468565646634 5.65071121016241, -59.0480890796497 5.6504161046398, -59.0497579810361 5.65041021229627, -59.0508833934227 5.65062430333197, -59.0520822331865 5.6510561992614, -59.0536780587053 5.65090517551936, -59.0545478420724 5.649860428794, -59.0589723497969 5.65663239851416, -59.0586695458795 5.65715551832839, -59.0587325016265 5.65763204281292, -59.0587836350553 5.65801908044807, -59.0595567626049 5.659546217919, -59.0598506832094 5.66010944144936, -59.0598977934942 5.66091719233967, -59.0602213594179 5.66166235983957, -59.0604514566757 5.66237105526839, -59.0604786638602 5.66249407853916, -59.0600291965906 5.66318888223033, -59.0591595874744 5.66360532125267, -59.0587808660691 5.6642996179992, -59.0589000804138 5.66523238989973, -59.0589409020057 5.66581185308373, -59.0584443502654 5.66651082008724, -59.0585638313635 5.66737686072711, -59.0585927907264 5.66804471582125, -59.0582537134577 5.6691899558035, -59.0585260198639 5.67011212588652, -59.0587792852066 5.67115850945369, -59.0588511048815 5.67214144034259, -59.0588727086641 5.67243710948008, -59.0583515446334 5.67297860513416, -59.058107586351 5.6732320803175, -59.0579733459264 5.67416258662461, -59.0580976116247 5.67544441400548, -59.0581280131863 5.67575801014804, -59.0577984347618 5.67642072721975, -59.0569848046341 5.67747209056724, -59.0564849735622 5.67786503772729, -59.0560436639686 5.67882451455829, -59.0559239786188 5.67900783558318, -59.0551705133028 5.67896431681998, -59.0547592629391 5.67882588016257, -59.0545854868409 5.67876738287316, -59.054618732467 5.67844577268731, -59.0547981955381 5.67803110132908, -59.0547874032323 5.67752662435382, -59.054637300633 5.6772171482963, -59.0542688768934 5.67690871929579, -59.0539254881989 5.67688670600385, -59.0534335251096 5.67714105606468, -59.0533457717845 5.67724543915216, -59.0533501550243 5.67742229449118, -59.0529239292202 5.67843804106834, -59.0522578966951 5.67916759351765, -59.0515167994365 5.67965091580433, -59.0511551814002 5.67967856648408, -59.0509356659535 5.67969535135474, -59.0505142251164 5.68029554177115, -59.0504078003794 5.68044710523892, -59.0501216183974 5.68055145860595, -59.0499110721243 5.6803209256223, -59.0494692448713 5.67962879685735, -59.0490982362657 5.67963011371527, -59.0487368222391 5.67986843811636, -59.0481691449688 5.68060494051382, -59.0476858688103 5.68075511484737, -59.047348888598 5.68085982858872, -59.0471989405412 5.68078124619703, -59.0467980958804 5.68057117756237, -59.0464883912061 5.68062175984723, -59.0461000642155 5.68101352144092, -59.0459657937852 5.68155487483887, -59.0451300255827 5.68155783689254, -59.0449398131418 5.68116966493019, -59.0446970773909 5.68067430595118, -59.0443907739903 5.68060622858604, -59.0437985382036 5.68114031873664, -59.0431477216816 5.68146917477641, -59.0429381425028 5.68147251642195, -59.0429257490474 5.68120847577897, -59.0434319925935 5.68082230975933, -59.0435078792896 5.680517499248, -59.043334619905 5.6802963992057, -59.0430831048033 5.68031303995954, -59.0427213971029 5.68033697109191, -59.0423030374198 5.68014285903267, -59.04171033629 5.68015862176624, -59.0412118854847 5.67950372899918, -59.0411064628375 5.67886111256264, -59.041217632861 5.67822166227794, -59.0411264513799 5.67811626529533, -59.0405426915285 5.677802574489, -59.0405113679973 5.6776728201473, -59.0404457606746 5.67740104856159, -59.0401947847372 5.67710759519497, -59.0393740623389 5.67685944039042, -59.0388653612238 5.67721989762926, -59.0387626851707 5.67717894372774))   \n",
       "\n",
       "               permit_type  \n",
       "163  Essequibo Concessions  "
      ]
     },
     "metadata": {},
     "output_type": "display_data"
    }
   ],
   "source": [
    "with pd.option_context('display.max_rows', None, 'display.max_columns', None, 'display.max_colwidth', None):\n",
    "    display(merged_concessions[merged_concessions['OWNER'].str.contains('durable', case=False)])"
   ]
  },
  {
   "cell_type": "code",
   "execution_count": 12,
   "id": "60dd5064-8057-436f-87ba-e0a8d3163d25",
   "metadata": {},
   "outputs": [
    {
     "data": {
      "text/html": [
       "<div>\n",
       "<style scoped>\n",
       "    .dataframe tbody tr th:only-of-type {\n",
       "        vertical-align: middle;\n",
       "    }\n",
       "\n",
       "    .dataframe tbody tr th {\n",
       "        vertical-align: top;\n",
       "    }\n",
       "\n",
       "    .dataframe thead th {\n",
       "        text-align: right;\n",
       "    }\n",
       "</style>\n",
       "<table border=\"1\" class=\"dataframe\">\n",
       "  <thead>\n",
       "    <tr style=\"text-align: right;\">\n",
       "      <th></th>\n",
       "      <th>Unnamed: 0</th>\n",
       "      <th>FID</th>\n",
       "      <th>OWNER</th>\n",
       "      <th>FOLIO_NO</th>\n",
       "      <th>SHORT_DESC</th>\n",
       "      <th>Shape_Area</th>\n",
       "      <th>Shape_Length</th>\n",
       "      <th>geometry</th>\n",
       "      <th>permit_type</th>\n",
       "    </tr>\n",
       "  </thead>\n",
       "  <tbody>\n",
       "  </tbody>\n",
       "</table>\n",
       "</div>"
      ],
      "text/plain": [
       "Empty DataFrame\n",
       "Columns: [Unnamed: 0, FID, OWNER, FOLIO_NO, SHORT_DESC, Shape_Area, Shape_Length, geometry, permit_type]\n",
       "Index: []"
      ]
     },
     "execution_count": 12,
     "metadata": {},
     "output_type": "execute_result"
    }
   ],
   "source": [
    "merged_concessions[merged_concessions['OWNER'].str.contains('emerald', case=False)]"
   ]
  },
  {
   "cell_type": "code",
   "execution_count": 13,
   "id": "12134bec-4235-4bb7-973e-3a34985ae083",
   "metadata": {},
   "outputs": [
    {
     "data": {
      "text/html": [
       "<div>\n",
       "<style scoped>\n",
       "    .dataframe tbody tr th:only-of-type {\n",
       "        vertical-align: middle;\n",
       "    }\n",
       "\n",
       "    .dataframe tbody tr th {\n",
       "        vertical-align: top;\n",
       "    }\n",
       "\n",
       "    .dataframe thead th {\n",
       "        text-align: right;\n",
       "    }\n",
       "</style>\n",
       "<table border=\"1\" class=\"dataframe\">\n",
       "  <thead>\n",
       "    <tr style=\"text-align: right;\">\n",
       "      <th></th>\n",
       "      <th>Unnamed: 0</th>\n",
       "      <th>FID</th>\n",
       "      <th>OWNER</th>\n",
       "      <th>FOLIO_NO</th>\n",
       "      <th>SHORT_DESC</th>\n",
       "      <th>Shape_Area</th>\n",
       "      <th>Shape_Length</th>\n",
       "      <th>geometry</th>\n",
       "      <th>permit_type</th>\n",
       "    </tr>\n",
       "  </thead>\n",
       "  <tbody>\n",
       "  </tbody>\n",
       "</table>\n",
       "</div>"
      ],
      "text/plain": [
       "Empty DataFrame\n",
       "Columns: [Unnamed: 0, FID, OWNER, FOLIO_NO, SHORT_DESC, Shape_Area, Shape_Length, geometry, permit_type]\n",
       "Index: []"
      ]
     },
     "execution_count": 13,
     "metadata": {},
     "output_type": "execute_result"
    }
   ],
   "source": [
    "merged_concessions[merged_concessions['OWNER'].str.contains('timberwood', case=False)]"
   ]
  },
  {
   "cell_type": "code",
   "execution_count": 14,
   "id": "e67294fe-3ae8-453c-b73d-b15f7eaea1d4",
   "metadata": {},
   "outputs": [
    {
     "data": {
      "text/html": [
       "<div>\n",
       "<style scoped>\n",
       "    .dataframe tbody tr th:only-of-type {\n",
       "        vertical-align: middle;\n",
       "    }\n",
       "\n",
       "    .dataframe tbody tr th {\n",
       "        vertical-align: top;\n",
       "    }\n",
       "\n",
       "    .dataframe thead th {\n",
       "        text-align: right;\n",
       "    }\n",
       "</style>\n",
       "<table border=\"1\" class=\"dataframe\">\n",
       "  <thead>\n",
       "    <tr style=\"text-align: right;\">\n",
       "      <th></th>\n",
       "      <th>Unnamed: 0</th>\n",
       "      <th>FID</th>\n",
       "      <th>OWNER</th>\n",
       "      <th>FOLIO_NO</th>\n",
       "      <th>SHORT_DESC</th>\n",
       "      <th>Shape_Area</th>\n",
       "      <th>Shape_Length</th>\n",
       "      <th>geometry</th>\n",
       "      <th>permit_type</th>\n",
       "    </tr>\n",
       "  </thead>\n",
       "  <tbody>\n",
       "  </tbody>\n",
       "</table>\n",
       "</div>"
      ],
      "text/plain": [
       "Empty DataFrame\n",
       "Columns: [Unnamed: 0, FID, OWNER, FOLIO_NO, SHORT_DESC, Shape_Area, Shape_Length, geometry, permit_type]\n",
       "Index: []"
      ]
     },
     "execution_count": 14,
     "metadata": {},
     "output_type": "execute_result"
    }
   ],
   "source": [
    "merged_concessions[merged_concessions['OWNER'].str.contains('timber wood', case=False)]"
   ]
  },
  {
   "cell_type": "code",
   "execution_count": 31,
   "id": "d6c4c92e-8808-479f-8055-e14b72889a1d",
   "metadata": {},
   "outputs": [
    {
     "data": {
      "text/html": [
       "<div>\n",
       "<style scoped>\n",
       "    .dataframe tbody tr th:only-of-type {\n",
       "        vertical-align: middle;\n",
       "    }\n",
       "\n",
       "    .dataframe tbody tr th {\n",
       "        vertical-align: top;\n",
       "    }\n",
       "\n",
       "    .dataframe thead th {\n",
       "        text-align: right;\n",
       "    }\n",
       "</style>\n",
       "<table border=\"1\" class=\"dataframe\">\n",
       "  <thead>\n",
       "    <tr style=\"text-align: right;\">\n",
       "      <th></th>\n",
       "      <th>Unnamed: 0</th>\n",
       "      <th>FID</th>\n",
       "      <th>OWNER</th>\n",
       "      <th>FOLIO_NO</th>\n",
       "      <th>SHORT_DESC</th>\n",
       "      <th>Shape_Area</th>\n",
       "      <th>Shape_Length</th>\n",
       "      <th>geometry</th>\n",
       "      <th>permit_type</th>\n",
       "    </tr>\n",
       "  </thead>\n",
       "  <tbody>\n",
       "    <tr>\n",
       "      <th>43</th>\n",
       "      <td>43</td>\n",
       "      <td>13</td>\n",
       "      <td>Nazir Latiff</td>\n",
       "      <td>Ess 05/08</td>\n",
       "      <td>LBank Essequibo River, RB Kurumaikabra Ck LBank Emeriwabo Ck</td>\n",
       "      <td>9.351139e+06</td>\n",
       "      <td>14364.36501</td>\n",
       "      <td>POLYGON ((-58.6135941605843 6.34320911939444, -58.6137594349304 6.34251052480006, -58.6137300498703 6.34203592218208, -58.6138681114628 6.34156079791327, -58.6136427643892 6.34089134337253, -58.6135569564931 6.34022145405187, -58.6132205012211 6.33971988417946, -58.6132463249153 6.33904964708637, -58.6130769692813 6.33843586388188, -58.6128526670077 6.33810148350685, -58.6129343067073 6.33743107262418, -58.6129609124468 6.33701214181304, -58.6128761485788 6.33667732710232, -58.6127352228621 6.33623099422647, -58.612760440897 6.33536529640419, -58.6124525918356 6.3350870216868, -58.6121438760221 6.33452951724393, -58.6116667633974 6.33366538030378, -58.6113019749668 6.33302427944026, -58.6109094534982 6.33243911066575, -58.6111289874693 6.33123772995612, -58.6110149339131 6.33045623353547, -58.6107900747837 6.32994035166106, -58.6109836934087 6.32938128595784, -58.6112901523153 6.32921279525584, -58.6112911913783 6.32954787081138, -58.6119345281127 6.33002056790762, -58.6125782992954 6.33063287862049, -58.61308123535 6.33082677790407, -58.6134995828401 6.33074170763777, -58.6141397125279 6.33018125296744, -58.614807921442 6.32967655684559, -58.6149449401931 6.3288663582083, -58.615194020748 6.32819542686596, -58.6154437951498 6.32774787881066, -58.6158327567487 6.32718820487918, -58.6161666850917 6.32688001067031, -58.6161932897997 6.32646108033328, -58.615884751588 6.32595942346686, -58.616020640917 6.32478622738387, -58.6160730703403 6.32369706053493, -58.616406910004 6.3233609438412, -58.6167692635225 6.32322020045082, -58.6171580042664 6.32259071943806, -58.617240161717 6.3220878468648, -58.6173223191291 6.32158497430992, -58.6176842370153 6.32130461623539, -58.618241847968 6.32113534126528, -58.6188551846855 6.32093796906562, -58.6196084881071 6.32087977572991, -58.6204168215423 6.32057010171342, -58.6214201512178 6.32014812598834, -58.6216148005464 6.31992413392344, -58.6223963558786 6.31997754121073, -58.6232345079146 6.32028207824639, -58.6243239932625 6.32064167436158, -58.624799711278 6.3210590332056, -58.6258902458079 6.32175369855931, -58.6267288381625 6.32219784246353, -58.6270363339672 6.32236441782893, -58.6285160790181 6.32258316603467, -58.6294935943905 6.32283140812247, -58.630135575604 6.32287127869192, -58.6306371925653 6.32264632074108, -58.6316684189305 6.32222423876914, -58.6322820981322 6.32213854241394, -58.6331478991345 6.32235920537886, -58.6335950160776 6.32255326035884, -58.6344337887736 6.32305323508257, -58.6351313625426 6.3230231171189, -58.6357999757822 6.32265801455785, -58.6366915755355 6.32220844032924, -58.6377226173131 6.32173050261067, -58.6383357655225 6.32147726393806, -58.6477106332981 6.32093105190785, -58.6477963858056 6.3215730030951, -58.6481896380928 6.32238151528719, -58.6488337827621 6.32310546243924, -58.6495337418732 6.3238292310783, -58.6497023311373 6.32419169097437, -58.6498735786623 6.32539182361422, -58.649822196516 6.32678812234223, -58.6498544460007 6.32815623256568, -58.6502771228549 6.32943933327199, -58.6511160949406 6.3299951186967, -58.6518150472083 6.33039777329193, -58.6526541109427 6.33098147776278, -58.653632887444 6.33162058040784, -58.6540267818346 6.33262454008132, -58.6540838403512 6.33301527517152, -58.6540891329323 6.33467665558317, -58.6540914461012 6.33540263690545, -58.653871216175 6.33635270930535, -58.6532051860633 6.33752758495317, -58.6517582891439 6.33887248580172, -58.6513138201066 6.33951612378842, -58.6505076232297 6.34049598628576, -58.6498662021275 6.34063764267093, -58.6490571596486 6.3407239864916, -58.6484442658819 6.3410610094857, -58.6477183227366 6.34095162794705, -58.646517513191 6.34070414097498, -58.6454573919168 6.34081919996704, -58.6446485237343 6.34096138213339, -58.6442315078513 6.34146531568535, -58.6439534083164 6.3417733488167, -58.6430050008987 6.34191597172129, -58.6420842346407 6.34197473699221, -58.6412192383505 6.34201936257178, -58.6408821408598 6.34132236007793, -58.6403228455478 6.34096113455547, -58.6395402039704 6.34057269220739, -58.6393443230963 6.34040577498545, -58.6378102128624 6.34066193237154, -58.6365825527152 6.34074958037059, -58.6354937240699 6.34061340418245, -58.6347947189795 6.34019676669396, -58.6341230944696 6.33961250415048, -58.6335913597962 6.33913949107714, -58.6326977973851 6.33897476945501, -58.6315520153175 6.33847576485587, -58.6309375272221 6.33831016115832, -58.6304633218266 6.33838146054728, -58.6301290477437 6.33857797279093, -58.6292917390573 6.33855268272424, -58.6285650079284 6.33819196796003, -58.6282019493324 6.33810933961414, -58.6276170332998 6.33847417574077, -58.6273957010273 6.33908917687008, -58.6267830509342 6.33950994558577, -58.6263651393534 6.33973464150897, -58.6260038300865 6.34021046677038, -58.6255876678053 6.34099361734711, -58.624865658243 6.34214072679392, -58.6245043462189 6.34261655174711, -58.6237520635771 6.34300983336956, -58.6227203527885 6.34329229754419, -58.621855388054 6.34335085315687, -58.621158262152 6.34353453589073, -58.6206845286346 6.34375940337259, -58.6199898884054 6.34473888533767, -58.6193220195078 6.34535528285827, -58.618624409695 6.34538538743543, -58.6180386926742 6.3454989107839, -58.6176210328032 6.34580737036952, -58.6168407433012 6.34617280874699, -58.6162830195897 6.34631416613825, -58.6159198676709 6.34620360727276, -58.6156957333512 6.34592507531015, -58.6156389599006 6.34561809776635, -58.6151350506115 6.34511705312632, -58.6146866101738 6.34450414208574, -58.6141264524687 6.34386365543003, -58.6137633024772 6.3437530944892, -58.6135953338135 6.34358607876563, -58.6135941605843 6.34320911939444))</td>\n",
       "      <td>Essequibo Concessions</td>\n",
       "    </tr>\n",
       "  </tbody>\n",
       "</table>\n",
       "</div>"
      ],
      "text/plain": [
       "    Unnamed: 0  FID         OWNER   FOLIO_NO  \\\n",
       "43          43   13  Nazir Latiff  Ess 05/08   \n",
       "\n",
       "                                                      SHORT_DESC  \\\n",
       "43  LBank Essequibo River, RB Kurumaikabra Ck LBank Emeriwabo Ck   \n",
       "\n",
       "      Shape_Area  Shape_Length  \\\n",
       "43  9.351139e+06   14364.36501   \n",
       "\n",
       "                                                                                                                                                                                                                                                                                                                                                                                                                                                                                                                                                                                                                                                                                                                                                                                                                                                                                                                                                                                                                                                                                                                                                                                                                                                                                                                                                                                                                                                                                                                                                                                                                                                                                                                                                                                                                                                                                                                                                                                                                                                                                                                                                                                                                                                                                                                                                                                                                                                                                                                                                                                                                                                                                                                                                                                                                                                                                                                                                                                                                                                                                                                                                                                                                                                                                                                                                                                                                                                                                                                                                                                                                                                                                                                                                                                                                                                                                                                                                                                                                                                                                                                                                                                                                                                                                                                                                                                                                                                                                                                                                                                                                                                                                                                                                                                                                                                                                                                                                                                                                                                                                                                                                                                                                                                                                                                                                                                                                                                                                                                                                                                                                                                                                                                                                                                                                    geometry  \\\n",
       "43  POLYGON ((-58.6135941605843 6.34320911939444, -58.6137594349304 6.34251052480006, -58.6137300498703 6.34203592218208, -58.6138681114628 6.34156079791327, -58.6136427643892 6.34089134337253, -58.6135569564931 6.34022145405187, -58.6132205012211 6.33971988417946, -58.6132463249153 6.33904964708637, -58.6130769692813 6.33843586388188, -58.6128526670077 6.33810148350685, -58.6129343067073 6.33743107262418, -58.6129609124468 6.33701214181304, -58.6128761485788 6.33667732710232, -58.6127352228621 6.33623099422647, -58.612760440897 6.33536529640419, -58.6124525918356 6.3350870216868, -58.6121438760221 6.33452951724393, -58.6116667633974 6.33366538030378, -58.6113019749668 6.33302427944026, -58.6109094534982 6.33243911066575, -58.6111289874693 6.33123772995612, -58.6110149339131 6.33045623353547, -58.6107900747837 6.32994035166106, -58.6109836934087 6.32938128595784, -58.6112901523153 6.32921279525584, -58.6112911913783 6.32954787081138, -58.6119345281127 6.33002056790762, -58.6125782992954 6.33063287862049, -58.61308123535 6.33082677790407, -58.6134995828401 6.33074170763777, -58.6141397125279 6.33018125296744, -58.614807921442 6.32967655684559, -58.6149449401931 6.3288663582083, -58.615194020748 6.32819542686596, -58.6154437951498 6.32774787881066, -58.6158327567487 6.32718820487918, -58.6161666850917 6.32688001067031, -58.6161932897997 6.32646108033328, -58.615884751588 6.32595942346686, -58.616020640917 6.32478622738387, -58.6160730703403 6.32369706053493, -58.616406910004 6.3233609438412, -58.6167692635225 6.32322020045082, -58.6171580042664 6.32259071943806, -58.617240161717 6.3220878468648, -58.6173223191291 6.32158497430992, -58.6176842370153 6.32130461623539, -58.618241847968 6.32113534126528, -58.6188551846855 6.32093796906562, -58.6196084881071 6.32087977572991, -58.6204168215423 6.32057010171342, -58.6214201512178 6.32014812598834, -58.6216148005464 6.31992413392344, -58.6223963558786 6.31997754121073, -58.6232345079146 6.32028207824639, -58.6243239932625 6.32064167436158, -58.624799711278 6.3210590332056, -58.6258902458079 6.32175369855931, -58.6267288381625 6.32219784246353, -58.6270363339672 6.32236441782893, -58.6285160790181 6.32258316603467, -58.6294935943905 6.32283140812247, -58.630135575604 6.32287127869192, -58.6306371925653 6.32264632074108, -58.6316684189305 6.32222423876914, -58.6322820981322 6.32213854241394, -58.6331478991345 6.32235920537886, -58.6335950160776 6.32255326035884, -58.6344337887736 6.32305323508257, -58.6351313625426 6.3230231171189, -58.6357999757822 6.32265801455785, -58.6366915755355 6.32220844032924, -58.6377226173131 6.32173050261067, -58.6383357655225 6.32147726393806, -58.6477106332981 6.32093105190785, -58.6477963858056 6.3215730030951, -58.6481896380928 6.32238151528719, -58.6488337827621 6.32310546243924, -58.6495337418732 6.3238292310783, -58.6497023311373 6.32419169097437, -58.6498735786623 6.32539182361422, -58.649822196516 6.32678812234223, -58.6498544460007 6.32815623256568, -58.6502771228549 6.32943933327199, -58.6511160949406 6.3299951186967, -58.6518150472083 6.33039777329193, -58.6526541109427 6.33098147776278, -58.653632887444 6.33162058040784, -58.6540267818346 6.33262454008132, -58.6540838403512 6.33301527517152, -58.6540891329323 6.33467665558317, -58.6540914461012 6.33540263690545, -58.653871216175 6.33635270930535, -58.6532051860633 6.33752758495317, -58.6517582891439 6.33887248580172, -58.6513138201066 6.33951612378842, -58.6505076232297 6.34049598628576, -58.6498662021275 6.34063764267093, -58.6490571596486 6.3407239864916, -58.6484442658819 6.3410610094857, -58.6477183227366 6.34095162794705, -58.646517513191 6.34070414097498, -58.6454573919168 6.34081919996704, -58.6446485237343 6.34096138213339, -58.6442315078513 6.34146531568535, -58.6439534083164 6.3417733488167, -58.6430050008987 6.34191597172129, -58.6420842346407 6.34197473699221, -58.6412192383505 6.34201936257178, -58.6408821408598 6.34132236007793, -58.6403228455478 6.34096113455547, -58.6395402039704 6.34057269220739, -58.6393443230963 6.34040577498545, -58.6378102128624 6.34066193237154, -58.6365825527152 6.34074958037059, -58.6354937240699 6.34061340418245, -58.6347947189795 6.34019676669396, -58.6341230944696 6.33961250415048, -58.6335913597962 6.33913949107714, -58.6326977973851 6.33897476945501, -58.6315520153175 6.33847576485587, -58.6309375272221 6.33831016115832, -58.6304633218266 6.33838146054728, -58.6301290477437 6.33857797279093, -58.6292917390573 6.33855268272424, -58.6285650079284 6.33819196796003, -58.6282019493324 6.33810933961414, -58.6276170332998 6.33847417574077, -58.6273957010273 6.33908917687008, -58.6267830509342 6.33950994558577, -58.6263651393534 6.33973464150897, -58.6260038300865 6.34021046677038, -58.6255876678053 6.34099361734711, -58.624865658243 6.34214072679392, -58.6245043462189 6.34261655174711, -58.6237520635771 6.34300983336956, -58.6227203527885 6.34329229754419, -58.621855388054 6.34335085315687, -58.621158262152 6.34353453589073, -58.6206845286346 6.34375940337259, -58.6199898884054 6.34473888533767, -58.6193220195078 6.34535528285827, -58.618624409695 6.34538538743543, -58.6180386926742 6.3454989107839, -58.6176210328032 6.34580737036952, -58.6168407433012 6.34617280874699, -58.6162830195897 6.34631416613825, -58.6159198676709 6.34620360727276, -58.6156957333512 6.34592507531015, -58.6156389599006 6.34561809776635, -58.6151350506115 6.34511705312632, -58.6146866101738 6.34450414208574, -58.6141264524687 6.34386365543003, -58.6137633024772 6.3437530944892, -58.6135953338135 6.34358607876563, -58.6135941605843 6.34320911939444))   \n",
       "\n",
       "              permit_type  \n",
       "43  Essequibo Concessions  "
      ]
     },
     "metadata": {},
     "output_type": "display_data"
    }
   ],
   "source": [
    "with pd.option_context('display.max_rows', None, 'display.max_columns', None, 'display.max_colwidth', None): display(merged_concessions[merged_concessions['OWNER'].str.contains('nazir', case=False)])"
   ]
  },
  {
   "cell_type": "code",
   "execution_count": 16,
   "id": "fe0670bb-2433-4470-83e9-3f8b1212572a",
   "metadata": {},
   "outputs": [
    {
     "data": {
      "text/html": [
       "<div>\n",
       "<style scoped>\n",
       "    .dataframe tbody tr th:only-of-type {\n",
       "        vertical-align: middle;\n",
       "    }\n",
       "\n",
       "    .dataframe tbody tr th {\n",
       "        vertical-align: top;\n",
       "    }\n",
       "\n",
       "    .dataframe thead th {\n",
       "        text-align: right;\n",
       "    }\n",
       "</style>\n",
       "<table border=\"1\" class=\"dataframe\">\n",
       "  <thead>\n",
       "    <tr style=\"text-align: right;\">\n",
       "      <th></th>\n",
       "      <th>Unnamed: 0</th>\n",
       "      <th>FID</th>\n",
       "      <th>OWNER</th>\n",
       "      <th>FOLIO_NO</th>\n",
       "      <th>SHORT_DESC</th>\n",
       "      <th>Shape_Area</th>\n",
       "      <th>Shape_Length</th>\n",
       "      <th>geometry</th>\n",
       "      <th>permit_type</th>\n",
       "    </tr>\n",
       "  </thead>\n",
       "  <tbody>\n",
       "  </tbody>\n",
       "</table>\n",
       "</div>"
      ],
      "text/plain": [
       "Empty DataFrame\n",
       "Columns: [Unnamed: 0, FID, OWNER, FOLIO_NO, SHORT_DESC, Shape_Area, Shape_Length, geometry, permit_type]\n",
       "Index: []"
      ]
     },
     "execution_count": 16,
     "metadata": {},
     "output_type": "execute_result"
    }
   ],
   "source": [
    "merged_concessions[merged_concessions['OWNER'].str.contains('woodpecker', case=False)]"
   ]
  },
  {
   "cell_type": "code",
   "execution_count": 53,
   "id": "7e1ed8af-3962-4f7c-9a62-30ccc4e12a3b",
   "metadata": {},
   "outputs": [
    {
     "data": {
      "text/html": [
       "<div>\n",
       "<style scoped>\n",
       "    .dataframe tbody tr th:only-of-type {\n",
       "        vertical-align: middle;\n",
       "    }\n",
       "\n",
       "    .dataframe tbody tr th {\n",
       "        vertical-align: top;\n",
       "    }\n",
       "\n",
       "    .dataframe thead th {\n",
       "        text-align: right;\n",
       "    }\n",
       "</style>\n",
       "<table border=\"1\" class=\"dataframe\">\n",
       "  <thead>\n",
       "    <tr style=\"text-align: right;\">\n",
       "      <th></th>\n",
       "      <th>Unnamed: 0</th>\n",
       "      <th>FID</th>\n",
       "      <th>OWNER</th>\n",
       "      <th>FOLIO_NO</th>\n",
       "      <th>SHORT_DESC</th>\n",
       "      <th>Shape_Area</th>\n",
       "      <th>Shape_Length</th>\n",
       "      <th>geometry</th>\n",
       "      <th>permit_type</th>\n",
       "    </tr>\n",
       "  </thead>\n",
       "  <tbody>\n",
       "    <tr>\n",
       "      <th>51</th>\n",
       "      <td>51</td>\n",
       "      <td>21</td>\n",
       "      <td>Barakat Timbers &amp; TC Ltd- A</td>\n",
       "      <td>Ess 10/92</td>\n",
       "      <td>LB Arunamai River; RB Kamachara River</td>\n",
       "      <td>8.245661e+07</td>\n",
       "      <td>54013.221722</td>\n",
       "      <td>POLYGON ((-58.9839965507667 7.18942843480153, ...</td>\n",
       "      <td>Essequibo Concessions</td>\n",
       "    </tr>\n",
       "    <tr>\n",
       "      <th>68</th>\n",
       "      <td>68</td>\n",
       "      <td>38</td>\n",
       "      <td>Edward N Barakat</td>\n",
       "      <td>Ess 32/11</td>\n",
       "      <td>LB Pomeroon River; RB Kumakara Creek; R&amp;L B Is...</td>\n",
       "      <td>3.580700e+07</td>\n",
       "      <td>35186.201196</td>\n",
       "      <td>POLYGON ((-58.9418560744138 7.21281182471364, ...</td>\n",
       "      <td>Essequibo Concessions</td>\n",
       "    </tr>\n",
       "  </tbody>\n",
       "</table>\n",
       "</div>"
      ],
      "text/plain": [
       "    Unnamed: 0  FID                        OWNER   FOLIO_NO  \\\n",
       "51          51   21  Barakat Timbers & TC Ltd- A  Ess 10/92   \n",
       "68          68   38             Edward N Barakat  Ess 32/11   \n",
       "\n",
       "                                           SHORT_DESC    Shape_Area  \\\n",
       "51              LB Arunamai River; RB Kamachara River  8.245661e+07   \n",
       "68  LB Pomeroon River; RB Kumakara Creek; R&L B Is...  3.580700e+07   \n",
       "\n",
       "    Shape_Length                                           geometry  \\\n",
       "51  54013.221722  POLYGON ((-58.9839965507667 7.18942843480153, ...   \n",
       "68  35186.201196  POLYGON ((-58.9418560744138 7.21281182471364, ...   \n",
       "\n",
       "              permit_type  \n",
       "51  Essequibo Concessions  \n",
       "68  Essequibo Concessions  "
      ]
     },
     "execution_count": 53,
     "metadata": {},
     "output_type": "execute_result"
    }
   ],
   "source": [
    "merged_concessions[merged_concessions['OWNER'].str.contains('barakat', case=False)]"
   ]
  },
  {
   "cell_type": "code",
   "execution_count": 17,
   "id": "399c3732-b996-42f9-ba3e-59ac754814d5",
   "metadata": {},
   "outputs": [
    {
     "data": {
      "text/html": [
       "<div>\n",
       "<style scoped>\n",
       "    .dataframe tbody tr th:only-of-type {\n",
       "        vertical-align: middle;\n",
       "    }\n",
       "\n",
       "    .dataframe tbody tr th {\n",
       "        vertical-align: top;\n",
       "    }\n",
       "\n",
       "    .dataframe thead th {\n",
       "        text-align: right;\n",
       "    }\n",
       "</style>\n",
       "<table border=\"1\" class=\"dataframe\">\n",
       "  <thead>\n",
       "    <tr style=\"text-align: right;\">\n",
       "      <th></th>\n",
       "      <th>Unnamed: 0</th>\n",
       "      <th>FID</th>\n",
       "      <th>OWNER</th>\n",
       "      <th>FOLIO_NO</th>\n",
       "      <th>SHORT_DESC</th>\n",
       "      <th>Shape_Area</th>\n",
       "      <th>Shape_Length</th>\n",
       "      <th>geometry</th>\n",
       "      <th>permit_type</th>\n",
       "    </tr>\n",
       "  </thead>\n",
       "  <tbody>\n",
       "  </tbody>\n",
       "</table>\n",
       "</div>"
      ],
      "text/plain": [
       "Empty DataFrame\n",
       "Columns: [Unnamed: 0, FID, OWNER, FOLIO_NO, SHORT_DESC, Shape_Area, Shape_Length, geometry, permit_type]\n",
       "Index: []"
      ]
     },
     "execution_count": 17,
     "metadata": {},
     "output_type": "execute_result"
    }
   ],
   "source": [
    "merged_concessions[merged_concessions['OWNER'].str.contains('rafeek', case=False)]"
   ]
  },
  {
   "cell_type": "code",
   "execution_count": 18,
   "id": "f8184d75-e0a8-424f-ae7f-85cc0f905419",
   "metadata": {},
   "outputs": [
    {
     "data": {
      "text/html": [
       "<div>\n",
       "<style scoped>\n",
       "    .dataframe tbody tr th:only-of-type {\n",
       "        vertical-align: middle;\n",
       "    }\n",
       "\n",
       "    .dataframe tbody tr th {\n",
       "        vertical-align: top;\n",
       "    }\n",
       "\n",
       "    .dataframe thead th {\n",
       "        text-align: right;\n",
       "    }\n",
       "</style>\n",
       "<table border=\"1\" class=\"dataframe\">\n",
       "  <thead>\n",
       "    <tr style=\"text-align: right;\">\n",
       "      <th></th>\n",
       "      <th>Unnamed: 0</th>\n",
       "      <th>FID</th>\n",
       "      <th>OWNER</th>\n",
       "      <th>FOLIO_NO</th>\n",
       "      <th>SHORT_DESC</th>\n",
       "      <th>Shape_Area</th>\n",
       "      <th>Shape_Length</th>\n",
       "      <th>geometry</th>\n",
       "      <th>permit_type</th>\n",
       "    </tr>\n",
       "  </thead>\n",
       "  <tbody>\n",
       "    <tr>\n",
       "      <th>0</th>\n",
       "      <td>0</td>\n",
       "      <td>1</td>\n",
       "      <td>Ganshyam Mahase Sawmills Inc.</td>\n",
       "      <td>SFEP 01/19</td>\n",
       "      <td>Left Bank Kuribrong River,Right Bank Semang Ri...</td>\n",
       "      <td>7.005027e+08</td>\n",
       "      <td>179824.178254</td>\n",
       "      <td>POLYGON ((-59.4812111920387 5.71543202638095, ...</td>\n",
       "      <td>State Forest Exploratory Permits</td>\n",
       "    </tr>\n",
       "    <tr>\n",
       "      <th>2</th>\n",
       "      <td>2</td>\n",
       "      <td>1</td>\n",
       "      <td>Ganshyam Mahase Sawmills Inc.</td>\n",
       "      <td>SFEP 01/19</td>\n",
       "      <td>Left Bank Kuribrong River,Right Bank Semang Ri...</td>\n",
       "      <td>7.005027e+08</td>\n",
       "      <td>179824.178254</td>\n",
       "      <td>POLYGON ((-59.4812111920387 5.71543202638095, ...</td>\n",
       "      <td>North West District Concessions</td>\n",
       "    </tr>\n",
       "    <tr>\n",
       "      <th>501</th>\n",
       "      <td>501</td>\n",
       "      <td>83</td>\n",
       "      <td>Ganshyam Mahase&amp;Mahase LS</td>\n",
       "      <td>Bce 37/12</td>\n",
       "      <td>Left Bank Maam  River</td>\n",
       "      <td>8.190289e+07</td>\n",
       "      <td>51629.375583</td>\n",
       "      <td>POLYGON ((-58.4320182316749 4.59118820190591, ...</td>\n",
       "      <td>Berbice Concessions</td>\n",
       "    </tr>\n",
       "  </tbody>\n",
       "</table>\n",
       "</div>"
      ],
      "text/plain": [
       "     Unnamed: 0  FID                          OWNER    FOLIO_NO  \\\n",
       "0             0    1  Ganshyam Mahase Sawmills Inc.  SFEP 01/19   \n",
       "2             2    1  Ganshyam Mahase Sawmills Inc.  SFEP 01/19   \n",
       "501         501   83      Ganshyam Mahase&Mahase LS   Bce 37/12   \n",
       "\n",
       "                                            SHORT_DESC    Shape_Area  \\\n",
       "0    Left Bank Kuribrong River,Right Bank Semang Ri...  7.005027e+08   \n",
       "2    Left Bank Kuribrong River,Right Bank Semang Ri...  7.005027e+08   \n",
       "501                              Left Bank Maam  River  8.190289e+07   \n",
       "\n",
       "      Shape_Length                                           geometry  \\\n",
       "0    179824.178254  POLYGON ((-59.4812111920387 5.71543202638095, ...   \n",
       "2    179824.178254  POLYGON ((-59.4812111920387 5.71543202638095, ...   \n",
       "501   51629.375583  POLYGON ((-58.4320182316749 4.59118820190591, ...   \n",
       "\n",
       "                          permit_type  \n",
       "0    State Forest Exploratory Permits  \n",
       "2     North West District Concessions  \n",
       "501               Berbice Concessions  "
      ]
     },
     "execution_count": 18,
     "metadata": {},
     "output_type": "execute_result"
    }
   ],
   "source": [
    "merged_concessions[merged_concessions['OWNER'].str.contains('ganshyam', case=False)]"
   ]
  },
  {
   "cell_type": "code",
   "execution_count": 27,
   "id": "8a5adaad-3cfa-430f-a3e9-5d98aa2be7af",
   "metadata": {},
   "outputs": [
    {
     "data": {
      "text/html": [
       "<div>\n",
       "<style scoped>\n",
       "    .dataframe tbody tr th:only-of-type {\n",
       "        vertical-align: middle;\n",
       "    }\n",
       "\n",
       "    .dataframe tbody tr th {\n",
       "        vertical-align: top;\n",
       "    }\n",
       "\n",
       "    .dataframe thead th {\n",
       "        text-align: right;\n",
       "    }\n",
       "</style>\n",
       "<table border=\"1\" class=\"dataframe\">\n",
       "  <thead>\n",
       "    <tr style=\"text-align: right;\">\n",
       "      <th></th>\n",
       "      <th>Unnamed: 0</th>\n",
       "      <th>FID</th>\n",
       "      <th>OWNER</th>\n",
       "      <th>FOLIO_NO</th>\n",
       "      <th>SHORT_DESC</th>\n",
       "      <th>Shape_Area</th>\n",
       "      <th>Shape_Length</th>\n",
       "      <th>geometry</th>\n",
       "      <th>permit_type</th>\n",
       "    </tr>\n",
       "  </thead>\n",
       "  <tbody>\n",
       "  </tbody>\n",
       "</table>\n",
       "</div>"
      ],
      "text/plain": [
       "Empty DataFrame\n",
       "Columns: [Unnamed: 0, FID, OWNER, FOLIO_NO, SHORT_DESC, Shape_Area, Shape_Length, geometry, permit_type]\n",
       "Index: []"
      ]
     },
     "execution_count": 27,
     "metadata": {},
     "output_type": "execute_result"
    }
   ],
   "source": [
    "merged_concessions[merged_concessions['OWNER'].str.contains('interior', case=False)]"
   ]
  },
  {
   "cell_type": "code",
   "execution_count": 65,
   "id": "f6f1f1d5-284d-4c42-8f9d-3f9fc88a8056",
   "metadata": {},
   "outputs": [
    {
     "data": {
      "text/html": [
       "<div>\n",
       "<style scoped>\n",
       "    .dataframe tbody tr th:only-of-type {\n",
       "        vertical-align: middle;\n",
       "    }\n",
       "\n",
       "    .dataframe tbody tr th {\n",
       "        vertical-align: top;\n",
       "    }\n",
       "\n",
       "    .dataframe thead th {\n",
       "        text-align: right;\n",
       "    }\n",
       "</style>\n",
       "<table border=\"1\" class=\"dataframe\">\n",
       "  <thead>\n",
       "    <tr style=\"text-align: right;\">\n",
       "      <th></th>\n",
       "      <th>Unnamed: 0</th>\n",
       "      <th>FID</th>\n",
       "      <th>OWNER</th>\n",
       "      <th>FOLIO_NO</th>\n",
       "      <th>SHORT_DESC</th>\n",
       "      <th>Shape_Area</th>\n",
       "      <th>Shape_Length</th>\n",
       "      <th>geometry</th>\n",
       "      <th>permit_type</th>\n",
       "    </tr>\n",
       "  </thead>\n",
       "  <tbody>\n",
       "    <tr>\n",
       "      <th>16</th>\n",
       "      <td>16</td>\n",
       "      <td>13</td>\n",
       "      <td>Toolsie Persaud Ltd. (Manaka)</td>\n",
       "      <td>LC 04/85</td>\n",
       "      <td>LB White R, LB Cuyuni R.</td>\n",
       "      <td>8.662983e+08</td>\n",
       "      <td>169705.372285</td>\n",
       "      <td>POLYGON ((-59.0280991133544 6.80962852090629, ...</td>\n",
       "      <td>Large Concessions</td>\n",
       "    </tr>\n",
       "    <tr>\n",
       "      <th>17</th>\n",
       "      <td>17</td>\n",
       "      <td>14</td>\n",
       "      <td>Toolsie Persaud Ltd. (Takatu)</td>\n",
       "      <td>LC 04/85</td>\n",
       "      <td>LB Puruni R,RB Puriari R</td>\n",
       "      <td>3.962092e+08</td>\n",
       "      <td>121100.512812</td>\n",
       "      <td>POLYGON ((-59.3148781948893 6.23945249307727, ...</td>\n",
       "      <td>Large Concessions</td>\n",
       "    </tr>\n",
       "    <tr>\n",
       "      <th>27</th>\n",
       "      <td>27</td>\n",
       "      <td>24</td>\n",
       "      <td>Toolsie Persaud Timber Traders Inc</td>\n",
       "      <td>LC03/22</td>\n",
       "      <td>RB Cuyuni River, LB Puruni River, LB Ekabago R.</td>\n",
       "      <td>6.815131e+08</td>\n",
       "      <td>201025.187928</td>\n",
       "      <td>POLYGON ((-59.300740794813 6.72894221301076, -...</td>\n",
       "      <td>Large Concessions</td>\n",
       "    </tr>\n",
       "    <tr>\n",
       "      <th>57</th>\n",
       "      <td>57</td>\n",
       "      <td>27</td>\n",
       "      <td>Toolsie Persaud</td>\n",
       "      <td>Ess 12/02</td>\n",
       "      <td>RB Ess R; Western Side Wismar Delcante Rd</td>\n",
       "      <td>1.655773e+07</td>\n",
       "      <td>36188.681867</td>\n",
       "      <td>POLYGON ((-58.5683102752208 6.54671978570917, ...</td>\n",
       "      <td>Essequibo Concessions</td>\n",
       "    </tr>\n",
       "  </tbody>\n",
       "</table>\n",
       "</div>"
      ],
      "text/plain": [
       "    Unnamed: 0  FID                               OWNER   FOLIO_NO  \\\n",
       "16          16   13       Toolsie Persaud Ltd. (Manaka)   LC 04/85   \n",
       "17          17   14       Toolsie Persaud Ltd. (Takatu)   LC 04/85   \n",
       "27          27   24  Toolsie Persaud Timber Traders Inc    LC03/22   \n",
       "57          57   27                     Toolsie Persaud  Ess 12/02   \n",
       "\n",
       "                                         SHORT_DESC    Shape_Area  \\\n",
       "16                         LB White R, LB Cuyuni R.  8.662983e+08   \n",
       "17                         LB Puruni R,RB Puriari R  3.962092e+08   \n",
       "27  RB Cuyuni River, LB Puruni River, LB Ekabago R.  6.815131e+08   \n",
       "57        RB Ess R; Western Side Wismar Delcante Rd  1.655773e+07   \n",
       "\n",
       "     Shape_Length                                           geometry  \\\n",
       "16  169705.372285  POLYGON ((-59.0280991133544 6.80962852090629, ...   \n",
       "17  121100.512812  POLYGON ((-59.3148781948893 6.23945249307727, ...   \n",
       "27  201025.187928  POLYGON ((-59.300740794813 6.72894221301076, -...   \n",
       "57   36188.681867  POLYGON ((-58.5683102752208 6.54671978570917, ...   \n",
       "\n",
       "              permit_type  \n",
       "16      Large Concessions  \n",
       "17      Large Concessions  \n",
       "27      Large Concessions  \n",
       "57  Essequibo Concessions  "
      ]
     },
     "execution_count": 65,
     "metadata": {},
     "output_type": "execute_result"
    }
   ],
   "source": [
    "merged_concessions[merged_concessions['OWNER'].str.contains('toolsie', case=False)]"
   ]
  },
  {
   "cell_type": "code",
   "execution_count": 66,
   "id": "236d4513-e02f-4e9f-a317-2b88c8436cba",
   "metadata": {},
   "outputs": [],
   "source": [
    "related_concessions = merged_concessions[merged_concessions['OWNER'].str.contains('variety|prestige|durable|ganshyam|barakat|toolsie', case=False, na=False)]"
   ]
  },
  {
   "cell_type": "code",
   "execution_count": 67,
   "id": "c830d001-756a-44a1-b76a-ce7bdf453337",
   "metadata": {},
   "outputs": [
    {
     "data": {
      "text/html": [
       "<div>\n",
       "<style scoped>\n",
       "    .dataframe tbody tr th:only-of-type {\n",
       "        vertical-align: middle;\n",
       "    }\n",
       "\n",
       "    .dataframe tbody tr th {\n",
       "        vertical-align: top;\n",
       "    }\n",
       "\n",
       "    .dataframe thead th {\n",
       "        text-align: right;\n",
       "    }\n",
       "</style>\n",
       "<table border=\"1\" class=\"dataframe\">\n",
       "  <thead>\n",
       "    <tr style=\"text-align: right;\">\n",
       "      <th></th>\n",
       "      <th>Unnamed: 0</th>\n",
       "      <th>FID</th>\n",
       "      <th>OWNER</th>\n",
       "      <th>FOLIO_NO</th>\n",
       "      <th>SHORT_DESC</th>\n",
       "      <th>Shape_Area</th>\n",
       "      <th>Shape_Length</th>\n",
       "      <th>geometry</th>\n",
       "      <th>permit_type</th>\n",
       "    </tr>\n",
       "  </thead>\n",
       "  <tbody>\n",
       "    <tr>\n",
       "      <th>0</th>\n",
       "      <td>0</td>\n",
       "      <td>1</td>\n",
       "      <td>Ganshyam Mahase Sawmills Inc.</td>\n",
       "      <td>SFEP 01/19</td>\n",
       "      <td>Left Bank Kuribrong River,Right Bank Semang Ri...</td>\n",
       "      <td>7.005027e+08</td>\n",
       "      <td>179824.178254</td>\n",
       "      <td>POLYGON ((-59.4812111920387 5.71543202638095, ...</td>\n",
       "      <td>State Forest Exploratory Permits</td>\n",
       "    </tr>\n",
       "    <tr>\n",
       "      <th>2</th>\n",
       "      <td>2</td>\n",
       "      <td>1</td>\n",
       "      <td>Ganshyam Mahase Sawmills Inc.</td>\n",
       "      <td>SFEP 01/19</td>\n",
       "      <td>Left Bank Kuribrong River,Right Bank Semang Ri...</td>\n",
       "      <td>7.005027e+08</td>\n",
       "      <td>179824.178254</td>\n",
       "      <td>POLYGON ((-59.4812111920387 5.71543202638095, ...</td>\n",
       "      <td>North West District Concessions</td>\n",
       "    </tr>\n",
       "    <tr>\n",
       "      <th>16</th>\n",
       "      <td>16</td>\n",
       "      <td>13</td>\n",
       "      <td>Toolsie Persaud Ltd. (Manaka)</td>\n",
       "      <td>LC 04/85</td>\n",
       "      <td>LB White R, LB Cuyuni R.</td>\n",
       "      <td>8.662983e+08</td>\n",
       "      <td>169705.372285</td>\n",
       "      <td>POLYGON ((-59.0280991133544 6.80962852090629, ...</td>\n",
       "      <td>Large Concessions</td>\n",
       "    </tr>\n",
       "    <tr>\n",
       "      <th>17</th>\n",
       "      <td>17</td>\n",
       "      <td>14</td>\n",
       "      <td>Toolsie Persaud Ltd. (Takatu)</td>\n",
       "      <td>LC 04/85</td>\n",
       "      <td>LB Puruni R,RB Puriari R</td>\n",
       "      <td>3.962092e+08</td>\n",
       "      <td>121100.512812</td>\n",
       "      <td>POLYGON ((-59.3148781948893 6.23945249307727, ...</td>\n",
       "      <td>Large Concessions</td>\n",
       "    </tr>\n",
       "    <tr>\n",
       "      <th>19</th>\n",
       "      <td>19</td>\n",
       "      <td>16</td>\n",
       "      <td>Variety Woods &amp; Greenheart Ltd…</td>\n",
       "      <td>LC 01/07</td>\n",
       "      <td>RB Dem Riv; RB Mauri Riv; Western side Rupunun...</td>\n",
       "      <td>2.157046e+08</td>\n",
       "      <td>101097.456813</td>\n",
       "      <td>POLYGON ((-58.4782191006567 4.87922188315062, ...</td>\n",
       "      <td>Large Concessions</td>\n",
       "    </tr>\n",
       "    <tr>\n",
       "      <th>22</th>\n",
       "      <td>22</td>\n",
       "      <td>19</td>\n",
       "      <td>Variety Woods &amp; Greenheart Ltd.</td>\n",
       "      <td>LC 02/17</td>\n",
       "      <td>LB&amp;RB Bce River,RB Ess River,LB Maam River</td>\n",
       "      <td>1.345659e+09</td>\n",
       "      <td>264488.110519</td>\n",
       "      <td>POLYGON ((-58.3902126171567 4.55976676509923, ...</td>\n",
       "      <td>Large Concessions</td>\n",
       "    </tr>\n",
       "    <tr>\n",
       "      <th>27</th>\n",
       "      <td>27</td>\n",
       "      <td>24</td>\n",
       "      <td>Toolsie Persaud Timber Traders Inc</td>\n",
       "      <td>LC03/22</td>\n",
       "      <td>RB Cuyuni River, LB Puruni River, LB Ekabago R.</td>\n",
       "      <td>6.815131e+08</td>\n",
       "      <td>201025.187928</td>\n",
       "      <td>POLYGON ((-59.300740794813 6.72894221301076, -...</td>\n",
       "      <td>Large Concessions</td>\n",
       "    </tr>\n",
       "    <tr>\n",
       "      <th>51</th>\n",
       "      <td>51</td>\n",
       "      <td>21</td>\n",
       "      <td>Barakat Timbers &amp; TC Ltd- A</td>\n",
       "      <td>Ess 10/92</td>\n",
       "      <td>LB Arunamai River; RB Kamachara River</td>\n",
       "      <td>8.245661e+07</td>\n",
       "      <td>54013.221722</td>\n",
       "      <td>POLYGON ((-58.9839965507667 7.18942843480153, ...</td>\n",
       "      <td>Essequibo Concessions</td>\n",
       "    </tr>\n",
       "    <tr>\n",
       "      <th>57</th>\n",
       "      <td>57</td>\n",
       "      <td>27</td>\n",
       "      <td>Toolsie Persaud</td>\n",
       "      <td>Ess 12/02</td>\n",
       "      <td>RB Ess R; Western Side Wismar Delcante Rd</td>\n",
       "      <td>1.655773e+07</td>\n",
       "      <td>36188.681867</td>\n",
       "      <td>POLYGON ((-58.5683102752208 6.54671978570917, ...</td>\n",
       "      <td>Essequibo Concessions</td>\n",
       "    </tr>\n",
       "    <tr>\n",
       "      <th>68</th>\n",
       "      <td>68</td>\n",
       "      <td>38</td>\n",
       "      <td>Edward N Barakat</td>\n",
       "      <td>Ess 32/11</td>\n",
       "      <td>LB Pomeroon River; RB Kumakara Creek; R&amp;L B Is...</td>\n",
       "      <td>3.580700e+07</td>\n",
       "      <td>35186.201196</td>\n",
       "      <td>POLYGON ((-58.9418560744138 7.21281182471364, ...</td>\n",
       "      <td>Essequibo Concessions</td>\n",
       "    </tr>\n",
       "    <tr>\n",
       "      <th>163</th>\n",
       "      <td>163</td>\n",
       "      <td>133</td>\n",
       "      <td>Durable Wood Products Ent.</td>\n",
       "      <td>Ess 16/18</td>\n",
       "      <td>Left Bank Kaburi River, Left Bank Ohio River, ...</td>\n",
       "      <td>3.038457e+07</td>\n",
       "      <td>37126.835642</td>\n",
       "      <td>POLYGON ((-59.0387626851707 5.67717894372774, ...</td>\n",
       "      <td>Essequibo Concessions</td>\n",
       "    </tr>\n",
       "    <tr>\n",
       "      <th>244</th>\n",
       "      <td>244</td>\n",
       "      <td>214</td>\n",
       "      <td>Prestige Enterprise</td>\n",
       "      <td>Ess 10/23</td>\n",
       "      <td>LB Arawapal River</td>\n",
       "      <td>8.053172e+07</td>\n",
       "      <td>45563.850744</td>\n",
       "      <td>POLYGON ((-59.3705032573977 7.04010882368587, ...</td>\n",
       "      <td>Essequibo Concessions</td>\n",
       "    </tr>\n",
       "    <tr>\n",
       "      <th>501</th>\n",
       "      <td>501</td>\n",
       "      <td>83</td>\n",
       "      <td>Ganshyam Mahase&amp;Mahase LS</td>\n",
       "      <td>Bce 37/12</td>\n",
       "      <td>Left Bank Maam  River</td>\n",
       "      <td>8.190289e+07</td>\n",
       "      <td>51629.375583</td>\n",
       "      <td>POLYGON ((-58.4320182316749 4.59118820190591, ...</td>\n",
       "      <td>Berbice Concessions</td>\n",
       "    </tr>\n",
       "  </tbody>\n",
       "</table>\n",
       "</div>"
      ],
      "text/plain": [
       "     Unnamed: 0  FID                               OWNER    FOLIO_NO  \\\n",
       "0             0    1       Ganshyam Mahase Sawmills Inc.  SFEP 01/19   \n",
       "2             2    1       Ganshyam Mahase Sawmills Inc.  SFEP 01/19   \n",
       "16           16   13       Toolsie Persaud Ltd. (Manaka)    LC 04/85   \n",
       "17           17   14       Toolsie Persaud Ltd. (Takatu)    LC 04/85   \n",
       "19           19   16     Variety Woods & Greenheart Ltd…    LC 01/07   \n",
       "22           22   19     Variety Woods & Greenheart Ltd.    LC 02/17   \n",
       "27           27   24  Toolsie Persaud Timber Traders Inc     LC03/22   \n",
       "51           51   21         Barakat Timbers & TC Ltd- A   Ess 10/92   \n",
       "57           57   27                     Toolsie Persaud   Ess 12/02   \n",
       "68           68   38                    Edward N Barakat   Ess 32/11   \n",
       "163         163  133          Durable Wood Products Ent.   Ess 16/18   \n",
       "244         244  214                 Prestige Enterprise   Ess 10/23   \n",
       "501         501   83           Ganshyam Mahase&Mahase LS   Bce 37/12   \n",
       "\n",
       "                                            SHORT_DESC    Shape_Area  \\\n",
       "0    Left Bank Kuribrong River,Right Bank Semang Ri...  7.005027e+08   \n",
       "2    Left Bank Kuribrong River,Right Bank Semang Ri...  7.005027e+08   \n",
       "16                            LB White R, LB Cuyuni R.  8.662983e+08   \n",
       "17                            LB Puruni R,RB Puriari R  3.962092e+08   \n",
       "19   RB Dem Riv; RB Mauri Riv; Western side Rupunun...  2.157046e+08   \n",
       "22          LB&RB Bce River,RB Ess River,LB Maam River  1.345659e+09   \n",
       "27     RB Cuyuni River, LB Puruni River, LB Ekabago R.  6.815131e+08   \n",
       "51               LB Arunamai River; RB Kamachara River  8.245661e+07   \n",
       "57           RB Ess R; Western Side Wismar Delcante Rd  1.655773e+07   \n",
       "68   LB Pomeroon River; RB Kumakara Creek; R&L B Is...  3.580700e+07   \n",
       "163  Left Bank Kaburi River, Left Bank Ohio River, ...  3.038457e+07   \n",
       "244                                  LB Arawapal River  8.053172e+07   \n",
       "501                              Left Bank Maam  River  8.190289e+07   \n",
       "\n",
       "      Shape_Length                                           geometry  \\\n",
       "0    179824.178254  POLYGON ((-59.4812111920387 5.71543202638095, ...   \n",
       "2    179824.178254  POLYGON ((-59.4812111920387 5.71543202638095, ...   \n",
       "16   169705.372285  POLYGON ((-59.0280991133544 6.80962852090629, ...   \n",
       "17   121100.512812  POLYGON ((-59.3148781948893 6.23945249307727, ...   \n",
       "19   101097.456813  POLYGON ((-58.4782191006567 4.87922188315062, ...   \n",
       "22   264488.110519  POLYGON ((-58.3902126171567 4.55976676509923, ...   \n",
       "27   201025.187928  POLYGON ((-59.300740794813 6.72894221301076, -...   \n",
       "51    54013.221722  POLYGON ((-58.9839965507667 7.18942843480153, ...   \n",
       "57    36188.681867  POLYGON ((-58.5683102752208 6.54671978570917, ...   \n",
       "68    35186.201196  POLYGON ((-58.9418560744138 7.21281182471364, ...   \n",
       "163   37126.835642  POLYGON ((-59.0387626851707 5.67717894372774, ...   \n",
       "244   45563.850744  POLYGON ((-59.3705032573977 7.04010882368587, ...   \n",
       "501   51629.375583  POLYGON ((-58.4320182316749 4.59118820190591, ...   \n",
       "\n",
       "                          permit_type  \n",
       "0    State Forest Exploratory Permits  \n",
       "2     North West District Concessions  \n",
       "16                  Large Concessions  \n",
       "17                  Large Concessions  \n",
       "19                  Large Concessions  \n",
       "22                  Large Concessions  \n",
       "27                  Large Concessions  \n",
       "51              Essequibo Concessions  \n",
       "57              Essequibo Concessions  \n",
       "68              Essequibo Concessions  \n",
       "163             Essequibo Concessions  \n",
       "244             Essequibo Concessions  \n",
       "501               Berbice Concessions  "
      ]
     },
     "execution_count": 67,
     "metadata": {},
     "output_type": "execute_result"
    }
   ],
   "source": [
    "related_concessions"
   ]
  },
  {
   "cell_type": "code",
   "execution_count": 111,
   "id": "c97f6983-d348-4516-9c32-2a84d4485b27",
   "metadata": {},
   "outputs": [],
   "source": [
    "related_concessions['Shape_Area'] = related_concessions['Shape_Area'].astype(float)"
   ]
  },
  {
   "cell_type": "code",
   "execution_count": 112,
   "id": "a308c082-3d7f-46ca-9e35-b8e65535efb2",
   "metadata": {},
   "outputs": [
    {
     "data": {
      "text/plain": [
       "5234029598.584717"
      ]
     },
     "execution_count": 112,
     "metadata": {},
     "output_type": "execute_result"
    }
   ],
   "source": [
    "related_concessions['Shape_Area'].sum()"
   ]
  },
  {
   "cell_type": "markdown",
   "id": "1e033e67-1183-4723-ba51-2e7ed0704c8c",
   "metadata": {},
   "source": [
    "## This is about 2,021 square miles"
   ]
  },
  {
   "cell_type": "code",
   "execution_count": 68,
   "id": "eb220cc9-23f0-4ed2-94d1-8fd9b63ce318",
   "metadata": {},
   "outputs": [],
   "source": [
    "related_concessions.to_csv('related_concessions.csv')"
   ]
  },
  {
   "cell_type": "code",
   "execution_count": 113,
   "id": "ba61740c-281f-4cdc-b9da-e30ee3a342f5",
   "metadata": {},
   "outputs": [
    {
     "name": "stdout",
     "output_type": "stream",
     "text": [
      "EPSG:4326\n"
     ]
    }
   ],
   "source": [
    "print(related_concessions.crs)"
   ]
  },
  {
   "cell_type": "code",
   "execution_count": 115,
   "id": "87f192c7-9487-4995-98a5-8110f9933e1a",
   "metadata": {},
   "outputs": [],
   "source": [
    "import geopandas as gpd\n",
    "from shapely import wkt"
   ]
  },
  {
   "cell_type": "code",
   "execution_count": 116,
   "id": "af857da1-b5ca-4316-9dc4-f0185437f654",
   "metadata": {},
   "outputs": [],
   "source": [
    "related_con = pd.read_csv(\"related_concessions.csv\")"
   ]
  },
  {
   "cell_type": "code",
   "execution_count": 117,
   "id": "a423e3ce-27a8-4e19-9cab-39f90cfffdc9",
   "metadata": {},
   "outputs": [],
   "source": [
    "related_con['geometry'] = related_con['geometry'].apply(wkt.loads)"
   ]
  },
  {
   "cell_type": "code",
   "execution_count": 118,
   "id": "545cac6f-f324-491a-a338-29dddcb2c0c5",
   "metadata": {},
   "outputs": [],
   "source": [
    "gdf = gpd.GeoDataFrame(related_con, geometry='geometry')"
   ]
  },
  {
   "cell_type": "code",
   "execution_count": 119,
   "id": "b7d3c208-2187-470f-bb58-97296e766cac",
   "metadata": {},
   "outputs": [
    {
     "data": {
      "text/html": [
       "<div>\n",
       "<style scoped>\n",
       "    .dataframe tbody tr th:only-of-type {\n",
       "        vertical-align: middle;\n",
       "    }\n",
       "\n",
       "    .dataframe tbody tr th {\n",
       "        vertical-align: top;\n",
       "    }\n",
       "\n",
       "    .dataframe thead th {\n",
       "        text-align: right;\n",
       "    }\n",
       "</style>\n",
       "<table border=\"1\" class=\"dataframe\">\n",
       "  <thead>\n",
       "    <tr style=\"text-align: right;\">\n",
       "      <th></th>\n",
       "      <th>Unnamed: 0.1</th>\n",
       "      <th>Unnamed: 0</th>\n",
       "      <th>FID</th>\n",
       "      <th>OWNER</th>\n",
       "      <th>FOLIO_NO</th>\n",
       "      <th>SHORT_DESC</th>\n",
       "      <th>Shape_Area</th>\n",
       "      <th>Shape_Length</th>\n",
       "      <th>geometry</th>\n",
       "      <th>permit_type</th>\n",
       "    </tr>\n",
       "  </thead>\n",
       "  <tbody>\n",
       "    <tr>\n",
       "      <th>0</th>\n",
       "      <td>0</td>\n",
       "      <td>0</td>\n",
       "      <td>1</td>\n",
       "      <td>Ganshyam Mahase Sawmills Inc.</td>\n",
       "      <td>SFEP 01/19</td>\n",
       "      <td>Left Bank Kuribrong River,Right Bank Semang Ri...</td>\n",
       "      <td>7.005027e+08</td>\n",
       "      <td>179824.178254</td>\n",
       "      <td>POLYGON ((-59.48121 5.71543, -59.48109 5.71546...</td>\n",
       "      <td>State Forest Exploratory Permits</td>\n",
       "    </tr>\n",
       "    <tr>\n",
       "      <th>1</th>\n",
       "      <td>2</td>\n",
       "      <td>2</td>\n",
       "      <td>1</td>\n",
       "      <td>Ganshyam Mahase Sawmills Inc.</td>\n",
       "      <td>SFEP 01/19</td>\n",
       "      <td>Left Bank Kuribrong River,Right Bank Semang Ri...</td>\n",
       "      <td>7.005027e+08</td>\n",
       "      <td>179824.178254</td>\n",
       "      <td>POLYGON ((-59.48121 5.71543, -59.48109 5.71546...</td>\n",
       "      <td>North West District Concessions</td>\n",
       "    </tr>\n",
       "    <tr>\n",
       "      <th>2</th>\n",
       "      <td>16</td>\n",
       "      <td>16</td>\n",
       "      <td>13</td>\n",
       "      <td>Toolsie Persaud Ltd. (Manaka)</td>\n",
       "      <td>LC 04/85</td>\n",
       "      <td>LB White R, LB Cuyuni R.</td>\n",
       "      <td>8.662983e+08</td>\n",
       "      <td>169705.372285</td>\n",
       "      <td>POLYGON ((-59.0281 6.80963, -59.02796 6.80949,...</td>\n",
       "      <td>Large Concessions</td>\n",
       "    </tr>\n",
       "    <tr>\n",
       "      <th>3</th>\n",
       "      <td>17</td>\n",
       "      <td>17</td>\n",
       "      <td>14</td>\n",
       "      <td>Toolsie Persaud Ltd. (Takatu)</td>\n",
       "      <td>LC 04/85</td>\n",
       "      <td>LB Puruni R,RB Puriari R</td>\n",
       "      <td>3.962092e+08</td>\n",
       "      <td>121100.512812</td>\n",
       "      <td>POLYGON ((-59.31488 6.23945, -59.31487 6.23951...</td>\n",
       "      <td>Large Concessions</td>\n",
       "    </tr>\n",
       "    <tr>\n",
       "      <th>4</th>\n",
       "      <td>19</td>\n",
       "      <td>19</td>\n",
       "      <td>16</td>\n",
       "      <td>Variety Woods &amp; Greenheart Ltd…</td>\n",
       "      <td>LC 01/07</td>\n",
       "      <td>RB Dem Riv; RB Mauri Riv; Western side Rupunun...</td>\n",
       "      <td>2.157046e+08</td>\n",
       "      <td>101097.456813</td>\n",
       "      <td>POLYGON ((-58.47822 4.87922, -58.47823 4.87923...</td>\n",
       "      <td>Large Concessions</td>\n",
       "    </tr>\n",
       "    <tr>\n",
       "      <th>5</th>\n",
       "      <td>22</td>\n",
       "      <td>22</td>\n",
       "      <td>19</td>\n",
       "      <td>Variety Woods &amp; Greenheart Ltd.</td>\n",
       "      <td>LC 02/17</td>\n",
       "      <td>LB&amp;RB Bce River,RB Ess River,LB Maam River</td>\n",
       "      <td>1.345659e+09</td>\n",
       "      <td>264488.110519</td>\n",
       "      <td>POLYGON ((-58.39021 4.55977, -58.3898 4.55934,...</td>\n",
       "      <td>Large Concessions</td>\n",
       "    </tr>\n",
       "    <tr>\n",
       "      <th>6</th>\n",
       "      <td>27</td>\n",
       "      <td>27</td>\n",
       "      <td>24</td>\n",
       "      <td>Toolsie Persaud Timber Traders Inc</td>\n",
       "      <td>LC03/22</td>\n",
       "      <td>RB Cuyuni River, LB Puruni River, LB Ekabago R.</td>\n",
       "      <td>6.815131e+08</td>\n",
       "      <td>201025.187928</td>\n",
       "      <td>POLYGON ((-59.30074 6.72894, -59.30052 6.72893...</td>\n",
       "      <td>Large Concessions</td>\n",
       "    </tr>\n",
       "    <tr>\n",
       "      <th>7</th>\n",
       "      <td>51</td>\n",
       "      <td>51</td>\n",
       "      <td>21</td>\n",
       "      <td>Barakat Timbers &amp; TC Ltd- A</td>\n",
       "      <td>Ess 10/92</td>\n",
       "      <td>LB Arunamai River; RB Kamachara River</td>\n",
       "      <td>8.245661e+07</td>\n",
       "      <td>54013.221722</td>\n",
       "      <td>POLYGON ((-58.984 7.18943, -58.98399 7.18943, ...</td>\n",
       "      <td>Essequibo Concessions</td>\n",
       "    </tr>\n",
       "    <tr>\n",
       "      <th>8</th>\n",
       "      <td>57</td>\n",
       "      <td>57</td>\n",
       "      <td>27</td>\n",
       "      <td>Toolsie Persaud</td>\n",
       "      <td>Ess 12/02</td>\n",
       "      <td>RB Ess R; Western Side Wismar Delcante Rd</td>\n",
       "      <td>1.655773e+07</td>\n",
       "      <td>36188.681867</td>\n",
       "      <td>POLYGON ((-58.56831 6.54672, -58.56822 6.54684...</td>\n",
       "      <td>Essequibo Concessions</td>\n",
       "    </tr>\n",
       "    <tr>\n",
       "      <th>9</th>\n",
       "      <td>68</td>\n",
       "      <td>68</td>\n",
       "      <td>38</td>\n",
       "      <td>Edward N Barakat</td>\n",
       "      <td>Ess 32/11</td>\n",
       "      <td>LB Pomeroon River; RB Kumakara Creek; R&amp;L B Is...</td>\n",
       "      <td>3.580700e+07</td>\n",
       "      <td>35186.201196</td>\n",
       "      <td>POLYGON ((-58.94186 7.21281, -58.94103 7.21323...</td>\n",
       "      <td>Essequibo Concessions</td>\n",
       "    </tr>\n",
       "    <tr>\n",
       "      <th>10</th>\n",
       "      <td>163</td>\n",
       "      <td>163</td>\n",
       "      <td>133</td>\n",
       "      <td>Durable Wood Products Ent.</td>\n",
       "      <td>Ess 16/18</td>\n",
       "      <td>Left Bank Kaburi River, Left Bank Ohio River, ...</td>\n",
       "      <td>3.038457e+07</td>\n",
       "      <td>37126.835642</td>\n",
       "      <td>POLYGON ((-59.03876 5.67718, -59.03867 5.67709...</td>\n",
       "      <td>Essequibo Concessions</td>\n",
       "    </tr>\n",
       "    <tr>\n",
       "      <th>11</th>\n",
       "      <td>244</td>\n",
       "      <td>244</td>\n",
       "      <td>214</td>\n",
       "      <td>Prestige Enterprise</td>\n",
       "      <td>Ess 10/23</td>\n",
       "      <td>LB Arawapal River</td>\n",
       "      <td>8.053172e+07</td>\n",
       "      <td>45563.850744</td>\n",
       "      <td>POLYGON ((-59.3705 7.04011, -59.37044 7.04101,...</td>\n",
       "      <td>Essequibo Concessions</td>\n",
       "    </tr>\n",
       "    <tr>\n",
       "      <th>12</th>\n",
       "      <td>501</td>\n",
       "      <td>501</td>\n",
       "      <td>83</td>\n",
       "      <td>Ganshyam Mahase&amp;Mahase LS</td>\n",
       "      <td>Bce 37/12</td>\n",
       "      <td>Left Bank Maam  River</td>\n",
       "      <td>8.190289e+07</td>\n",
       "      <td>51629.375583</td>\n",
       "      <td>POLYGON ((-58.43202 4.59119, -58.43202 4.5912,...</td>\n",
       "      <td>Berbice Concessions</td>\n",
       "    </tr>\n",
       "  </tbody>\n",
       "</table>\n",
       "</div>"
      ],
      "text/plain": [
       "    Unnamed: 0.1  Unnamed: 0  FID                               OWNER  \\\n",
       "0              0           0    1       Ganshyam Mahase Sawmills Inc.   \n",
       "1              2           2    1       Ganshyam Mahase Sawmills Inc.   \n",
       "2             16          16   13       Toolsie Persaud Ltd. (Manaka)   \n",
       "3             17          17   14       Toolsie Persaud Ltd. (Takatu)   \n",
       "4             19          19   16     Variety Woods & Greenheart Ltd…   \n",
       "5             22          22   19     Variety Woods & Greenheart Ltd.   \n",
       "6             27          27   24  Toolsie Persaud Timber Traders Inc   \n",
       "7             51          51   21         Barakat Timbers & TC Ltd- A   \n",
       "8             57          57   27                     Toolsie Persaud   \n",
       "9             68          68   38                    Edward N Barakat   \n",
       "10           163         163  133          Durable Wood Products Ent.   \n",
       "11           244         244  214                 Prestige Enterprise   \n",
       "12           501         501   83           Ganshyam Mahase&Mahase LS   \n",
       "\n",
       "      FOLIO_NO                                         SHORT_DESC  \\\n",
       "0   SFEP 01/19  Left Bank Kuribrong River,Right Bank Semang Ri...   \n",
       "1   SFEP 01/19  Left Bank Kuribrong River,Right Bank Semang Ri...   \n",
       "2     LC 04/85                           LB White R, LB Cuyuni R.   \n",
       "3     LC 04/85                           LB Puruni R,RB Puriari R   \n",
       "4     LC 01/07  RB Dem Riv; RB Mauri Riv; Western side Rupunun...   \n",
       "5     LC 02/17         LB&RB Bce River,RB Ess River,LB Maam River   \n",
       "6      LC03/22    RB Cuyuni River, LB Puruni River, LB Ekabago R.   \n",
       "7    Ess 10/92              LB Arunamai River; RB Kamachara River   \n",
       "8    Ess 12/02          RB Ess R; Western Side Wismar Delcante Rd   \n",
       "9    Ess 32/11  LB Pomeroon River; RB Kumakara Creek; R&L B Is...   \n",
       "10   Ess 16/18  Left Bank Kaburi River, Left Bank Ohio River, ...   \n",
       "11   Ess 10/23                                  LB Arawapal River   \n",
       "12   Bce 37/12                              Left Bank Maam  River   \n",
       "\n",
       "      Shape_Area   Shape_Length  \\\n",
       "0   7.005027e+08  179824.178254   \n",
       "1   7.005027e+08  179824.178254   \n",
       "2   8.662983e+08  169705.372285   \n",
       "3   3.962092e+08  121100.512812   \n",
       "4   2.157046e+08  101097.456813   \n",
       "5   1.345659e+09  264488.110519   \n",
       "6   6.815131e+08  201025.187928   \n",
       "7   8.245661e+07   54013.221722   \n",
       "8   1.655773e+07   36188.681867   \n",
       "9   3.580700e+07   35186.201196   \n",
       "10  3.038457e+07   37126.835642   \n",
       "11  8.053172e+07   45563.850744   \n",
       "12  8.190289e+07   51629.375583   \n",
       "\n",
       "                                             geometry  \\\n",
       "0   POLYGON ((-59.48121 5.71543, -59.48109 5.71546...   \n",
       "1   POLYGON ((-59.48121 5.71543, -59.48109 5.71546...   \n",
       "2   POLYGON ((-59.0281 6.80963, -59.02796 6.80949,...   \n",
       "3   POLYGON ((-59.31488 6.23945, -59.31487 6.23951...   \n",
       "4   POLYGON ((-58.47822 4.87922, -58.47823 4.87923...   \n",
       "5   POLYGON ((-58.39021 4.55977, -58.3898 4.55934,...   \n",
       "6   POLYGON ((-59.30074 6.72894, -59.30052 6.72893...   \n",
       "7   POLYGON ((-58.984 7.18943, -58.98399 7.18943, ...   \n",
       "8   POLYGON ((-58.56831 6.54672, -58.56822 6.54684...   \n",
       "9   POLYGON ((-58.94186 7.21281, -58.94103 7.21323...   \n",
       "10  POLYGON ((-59.03876 5.67718, -59.03867 5.67709...   \n",
       "11  POLYGON ((-59.3705 7.04011, -59.37044 7.04101,...   \n",
       "12  POLYGON ((-58.43202 4.59119, -58.43202 4.5912,...   \n",
       "\n",
       "                         permit_type  \n",
       "0   State Forest Exploratory Permits  \n",
       "1    North West District Concessions  \n",
       "2                  Large Concessions  \n",
       "3                  Large Concessions  \n",
       "4                  Large Concessions  \n",
       "5                  Large Concessions  \n",
       "6                  Large Concessions  \n",
       "7              Essequibo Concessions  \n",
       "8              Essequibo Concessions  \n",
       "9              Essequibo Concessions  \n",
       "10             Essequibo Concessions  \n",
       "11             Essequibo Concessions  \n",
       "12               Berbice Concessions  "
      ]
     },
     "execution_count": 119,
     "metadata": {},
     "output_type": "execute_result"
    }
   ],
   "source": [
    "# Set Coordinate Reference System (CRS) if known; defaulting to EPSG:4326\n",
    "gdf.set_crs(epsg=4326, inplace=True)"
   ]
  },
  {
   "cell_type": "code",
   "execution_count": 120,
   "id": "3cf2ebff-7a3d-4265-bd0c-58bafb68f110",
   "metadata": {},
   "outputs": [],
   "source": [
    "gdf.to_file(\"related_concessions.geojson\", driver=\"GeoJSON\")"
   ]
  },
  {
   "cell_type": "code",
   "execution_count": 121,
   "id": "0fdad074-18b0-469d-928f-e395f332d030",
   "metadata": {},
   "outputs": [
    {
     "name": "stdout",
     "output_type": "stream",
     "text": [
      "Total area (m²): 5,150,357,015.72\n"
     ]
    }
   ],
   "source": [
    "# Reproject to EPSG:32621 (meters)\n",
    "gdf = gdf.to_crs(epsg=32621)\n",
    "\n",
    "# Calculate area in square meters\n",
    "gdf['Shape_Area_m2'] = gdf.geometry.area\n",
    "\n",
    "# Sum total area\n",
    "total_area = gdf['Shape_Area_m2'].sum()\n",
    "print(f\"Total area (m²): {total_area:,.2f}\")"
   ]
  },
  {
   "cell_type": "code",
   "execution_count": null,
   "id": "44a670e4-a69c-4699-aad7-0511de211026",
   "metadata": {},
   "outputs": [],
   "source": []
  },
  {
   "cell_type": "code",
   "execution_count": null,
   "id": "e69e5795-48f7-4140-b921-55e9e46879a2",
   "metadata": {},
   "outputs": [],
   "source": []
  },
  {
   "cell_type": "code",
   "execution_count": 44,
   "id": "e5e4496b-78bd-40c0-a4c2-14a2619c9612",
   "metadata": {},
   "outputs": [],
   "source": [
    "durable_woods_concession = gdf[gdf['OWNER'].str.contains('durable', case=False, na=False)]"
   ]
  },
  {
   "cell_type": "code",
   "execution_count": 45,
   "id": "845363e7-eaea-4912-ba81-59e1c1e61d6c",
   "metadata": {},
   "outputs": [],
   "source": [
    "variety_woods_concessions = gdf[gdf['OWNER'].str.contains('variety', case=False, na=False)]"
   ]
  },
  {
   "cell_type": "code",
   "execution_count": 46,
   "id": "9151b0c0-576a-4128-8bde-0d0f51dc6a6c",
   "metadata": {},
   "outputs": [],
   "source": [
    "prestige_concession = gdf[gdf['OWNER'].str.contains('prestige', case=False, na=False)]"
   ]
  },
  {
   "cell_type": "code",
   "execution_count": 47,
   "id": "4f3f42b5-244a-4ac1-838c-c0dc525f6ee3",
   "metadata": {},
   "outputs": [],
   "source": [
    "ganshyam_concessions = gdf[gdf['OWNER'].str.contains('ganshyam', case=False, na=False)]"
   ]
  },
  {
   "cell_type": "code",
   "execution_count": 63,
   "id": "d39265cf-d944-40f5-9348-c7e8bd83dea2",
   "metadata": {},
   "outputs": [],
   "source": [
    "barakat_concessions = gdf[gdf['OWNER'].str.contains('barakat', case=False, na=False)]"
   ]
  },
  {
   "cell_type": "code",
   "execution_count": 75,
   "id": "9ef9bc0c-3384-4cb8-bc5d-82456a65db12",
   "metadata": {},
   "outputs": [],
   "source": [
    "toolsie_concessions = gdf[gdf['OWNER'].str.contains('toolsie', case=False, na=False)]"
   ]
  },
  {
   "cell_type": "code",
   "execution_count": 49,
   "id": "03370410-9f54-47c6-921b-1e1de2b97da6",
   "metadata": {},
   "outputs": [],
   "source": [
    "durable_woods_concession.to_file(\"durable_woods_concession.geojson\", driver=\"GeoJSON\")"
   ]
  },
  {
   "cell_type": "code",
   "execution_count": 50,
   "id": "9e4acf33-3f48-4a55-8892-0c3c0ab86827",
   "metadata": {},
   "outputs": [],
   "source": [
    "variety_woods_concessions.to_file(\"variety_woods_concessions.geojson\", driver=\"GeoJSON\")"
   ]
  },
  {
   "cell_type": "code",
   "execution_count": 51,
   "id": "8afabe48-af5d-49d7-8cf3-7694dd0718ff",
   "metadata": {},
   "outputs": [],
   "source": [
    "prestige_concession.to_file(\"prestige_concession.geojson\", driver=\"GeoJSON\")"
   ]
  },
  {
   "cell_type": "code",
   "execution_count": 52,
   "id": "f0c9732c-88d2-495a-9e04-8827cd1981e2",
   "metadata": {},
   "outputs": [],
   "source": [
    "ganshyam_concessions.to_file(\"ganshyam_concessions.geojson\", driver=\"GeoJSON\")"
   ]
  },
  {
   "cell_type": "code",
   "execution_count": 64,
   "id": "e87d1339-9969-4c8f-8b56-7e04d91dc515",
   "metadata": {},
   "outputs": [],
   "source": [
    "barakat_concessions.to_file(\"barakat_concessions.geojson\", driver=\"GeoJSON\")"
   ]
  },
  {
   "cell_type": "code",
   "execution_count": 76,
   "id": "08fb19bc-48ad-46b9-9d06-822671a69e31",
   "metadata": {},
   "outputs": [],
   "source": [
    "toolsie_concessions.to_file(\"toolsie_concessions.geojson\", driver=\"GeoJSON\")"
   ]
  },
  {
   "cell_type": "code",
   "execution_count": 82,
   "id": "b18bf9f9-9651-46d2-b54d-3812482024c9",
   "metadata": {},
   "outputs": [
    {
     "data": {
      "text/html": [
       "<div>\n",
       "<style scoped>\n",
       "    .dataframe tbody tr th:only-of-type {\n",
       "        vertical-align: middle;\n",
       "    }\n",
       "\n",
       "    .dataframe tbody tr th {\n",
       "        vertical-align: top;\n",
       "    }\n",
       "\n",
       "    .dataframe thead th {\n",
       "        text-align: right;\n",
       "    }\n",
       "</style>\n",
       "<table border=\"1\" class=\"dataframe\">\n",
       "  <thead>\n",
       "    <tr style=\"text-align: right;\">\n",
       "      <th></th>\n",
       "      <th>Unnamed: 0</th>\n",
       "      <th>FID</th>\n",
       "      <th>OWNER</th>\n",
       "      <th>FOLIO_NO</th>\n",
       "      <th>SHORT_DESC</th>\n",
       "      <th>Shape_Area</th>\n",
       "      <th>Shape_Length</th>\n",
       "      <th>geometry</th>\n",
       "      <th>permit_type</th>\n",
       "    </tr>\n",
       "  </thead>\n",
       "  <tbody>\n",
       "    <tr>\n",
       "      <th>0</th>\n",
       "      <td>0</td>\n",
       "      <td>1</td>\n",
       "      <td>Ganshyam Mahase Sawmills Inc.</td>\n",
       "      <td>SFEP 01/19</td>\n",
       "      <td>Left Bank Kuribrong River,Right Bank Semang Ri...</td>\n",
       "      <td>7.005027e+08</td>\n",
       "      <td>179824.178254</td>\n",
       "      <td>POLYGON ((-59.4812111920387 5.71543202638095, ...</td>\n",
       "      <td>State Forest Exploratory Permits</td>\n",
       "    </tr>\n",
       "    <tr>\n",
       "      <th>1</th>\n",
       "      <td>1</td>\n",
       "      <td>2</td>\n",
       "      <td>Rong-An-Inc.</td>\n",
       "      <td>SFEP 01/22</td>\n",
       "      <td>LB Berbice,RB Essequibo R.</td>\n",
       "      <td>6.664673e+08</td>\n",
       "      <td>177088.107539</td>\n",
       "      <td>POLYGON ((-58.4561167364023 4.18701341050194, ...</td>\n",
       "      <td>State Forest Exploratory Permits</td>\n",
       "    </tr>\n",
       "    <tr>\n",
       "      <th>2</th>\n",
       "      <td>2</td>\n",
       "      <td>1</td>\n",
       "      <td>Ganshyam Mahase Sawmills Inc.</td>\n",
       "      <td>SFEP 01/19</td>\n",
       "      <td>Left Bank Kuribrong River,Right Bank Semang Ri...</td>\n",
       "      <td>7.005027e+08</td>\n",
       "      <td>179824.178254</td>\n",
       "      <td>POLYGON ((-59.4812111920387 5.71543202638095, ...</td>\n",
       "      <td>North West District Concessions</td>\n",
       "    </tr>\n",
       "    <tr>\n",
       "      <th>3</th>\n",
       "      <td>3</td>\n",
       "      <td>2</td>\n",
       "      <td>Rong-An-Inc.</td>\n",
       "      <td>SFEP 01/22</td>\n",
       "      <td>LB Berbice,RB Essequibo R.</td>\n",
       "      <td>6.664673e+08</td>\n",
       "      <td>177088.107539</td>\n",
       "      <td>POLYGON ((-58.4561167364023 4.18701341050194, ...</td>\n",
       "      <td>North West District Concessions</td>\n",
       "    </tr>\n",
       "    <tr>\n",
       "      <th>4</th>\n",
       "      <td>4</td>\n",
       "      <td>1</td>\n",
       "      <td>Rong-An-Inc</td>\n",
       "      <td>LC 01/21</td>\n",
       "      <td>LB Amakura R,LB Puruni R.</td>\n",
       "      <td>4.181429e+09</td>\n",
       "      <td>450094.145899</td>\n",
       "      <td>POLYGON ((-60.3717392137314 6.94956401367158, ...</td>\n",
       "      <td>Large Concessions</td>\n",
       "    </tr>\n",
       "  </tbody>\n",
       "</table>\n",
       "</div>"
      ],
      "text/plain": [
       "   Unnamed: 0  FID                          OWNER    FOLIO_NO  \\\n",
       "0           0    1  Ganshyam Mahase Sawmills Inc.  SFEP 01/19   \n",
       "1           1    2                   Rong-An-Inc.  SFEP 01/22   \n",
       "2           2    1  Ganshyam Mahase Sawmills Inc.  SFEP 01/19   \n",
       "3           3    2                   Rong-An-Inc.  SFEP 01/22   \n",
       "4           4    1                    Rong-An-Inc    LC 01/21   \n",
       "\n",
       "                                          SHORT_DESC    Shape_Area  \\\n",
       "0  Left Bank Kuribrong River,Right Bank Semang Ri...  7.005027e+08   \n",
       "1                         LB Berbice,RB Essequibo R.  6.664673e+08   \n",
       "2  Left Bank Kuribrong River,Right Bank Semang Ri...  7.005027e+08   \n",
       "3                         LB Berbice,RB Essequibo R.  6.664673e+08   \n",
       "4                          LB Amakura R,LB Puruni R.  4.181429e+09   \n",
       "\n",
       "    Shape_Length                                           geometry  \\\n",
       "0  179824.178254  POLYGON ((-59.4812111920387 5.71543202638095, ...   \n",
       "1  177088.107539  POLYGON ((-58.4561167364023 4.18701341050194, ...   \n",
       "2  179824.178254  POLYGON ((-59.4812111920387 5.71543202638095, ...   \n",
       "3  177088.107539  POLYGON ((-58.4561167364023 4.18701341050194, ...   \n",
       "4  450094.145899  POLYGON ((-60.3717392137314 6.94956401367158, ...   \n",
       "\n",
       "                        permit_type  \n",
       "0  State Forest Exploratory Permits  \n",
       "1  State Forest Exploratory Permits  \n",
       "2   North West District Concessions  \n",
       "3   North West District Concessions  \n",
       "4                 Large Concessions  "
      ]
     },
     "execution_count": 82,
     "metadata": {},
     "output_type": "execute_result"
    }
   ],
   "source": [
    "merged_concessions.head()"
   ]
  },
  {
   "cell_type": "code",
   "execution_count": 84,
   "id": "5f0090fe-096b-4016-923e-21f17f5348e1",
   "metadata": {},
   "outputs": [
    {
     "data": {
      "text/plain": [
       "str"
      ]
     },
     "execution_count": 84,
     "metadata": {},
     "output_type": "execute_result"
    }
   ],
   "source": [
    "type(merged_concessions['geometry'].iloc[0])"
   ]
  },
  {
   "cell_type": "code",
   "execution_count": 88,
   "id": "58fdc0cf-503d-48be-8236-701ce5971cc6",
   "metadata": {},
   "outputs": [
    {
     "data": {
      "text/html": [
       "<div>\n",
       "<style scoped>\n",
       "    .dataframe tbody tr th:only-of-type {\n",
       "        vertical-align: middle;\n",
       "    }\n",
       "\n",
       "    .dataframe tbody tr th {\n",
       "        vertical-align: top;\n",
       "    }\n",
       "\n",
       "    .dataframe thead th {\n",
       "        text-align: right;\n",
       "    }\n",
       "</style>\n",
       "<table border=\"1\" class=\"dataframe\">\n",
       "  <thead>\n",
       "    <tr style=\"text-align: right;\">\n",
       "      <th></th>\n",
       "      <th>Unnamed: 0</th>\n",
       "      <th>FID</th>\n",
       "      <th>OWNER</th>\n",
       "      <th>FOLIO_NO</th>\n",
       "      <th>SHORT_DESC</th>\n",
       "      <th>Shape_Area</th>\n",
       "      <th>Shape_Length</th>\n",
       "      <th>geometry</th>\n",
       "      <th>permit_type</th>\n",
       "    </tr>\n",
       "  </thead>\n",
       "  <tbody>\n",
       "    <tr>\n",
       "      <th>0</th>\n",
       "      <td>0</td>\n",
       "      <td>1</td>\n",
       "      <td>Ganshyam Mahase Sawmills Inc.</td>\n",
       "      <td>SFEP 01/19</td>\n",
       "      <td>Left Bank Kuribrong River,Right Bank Semang Ri...</td>\n",
       "      <td>7.005027e+08</td>\n",
       "      <td>179824.178254</td>\n",
       "      <td>POLYGON ((-59.48121 5.71543, -59.48109 5.71546...</td>\n",
       "      <td>State Forest Exploratory Permits</td>\n",
       "    </tr>\n",
       "    <tr>\n",
       "      <th>1</th>\n",
       "      <td>1</td>\n",
       "      <td>2</td>\n",
       "      <td>Rong-An-Inc.</td>\n",
       "      <td>SFEP 01/22</td>\n",
       "      <td>LB Berbice,RB Essequibo R.</td>\n",
       "      <td>6.664673e+08</td>\n",
       "      <td>177088.107539</td>\n",
       "      <td>POLYGON ((-58.45612 4.18701, -58.45539 4.18708...</td>\n",
       "      <td>State Forest Exploratory Permits</td>\n",
       "    </tr>\n",
       "    <tr>\n",
       "      <th>2</th>\n",
       "      <td>2</td>\n",
       "      <td>1</td>\n",
       "      <td>Ganshyam Mahase Sawmills Inc.</td>\n",
       "      <td>SFEP 01/19</td>\n",
       "      <td>Left Bank Kuribrong River,Right Bank Semang Ri...</td>\n",
       "      <td>7.005027e+08</td>\n",
       "      <td>179824.178254</td>\n",
       "      <td>POLYGON ((-59.48121 5.71543, -59.48109 5.71546...</td>\n",
       "      <td>North West District Concessions</td>\n",
       "    </tr>\n",
       "    <tr>\n",
       "      <th>3</th>\n",
       "      <td>3</td>\n",
       "      <td>2</td>\n",
       "      <td>Rong-An-Inc.</td>\n",
       "      <td>SFEP 01/22</td>\n",
       "      <td>LB Berbice,RB Essequibo R.</td>\n",
       "      <td>6.664673e+08</td>\n",
       "      <td>177088.107539</td>\n",
       "      <td>POLYGON ((-58.45612 4.18701, -58.45539 4.18708...</td>\n",
       "      <td>North West District Concessions</td>\n",
       "    </tr>\n",
       "    <tr>\n",
       "      <th>4</th>\n",
       "      <td>4</td>\n",
       "      <td>1</td>\n",
       "      <td>Rong-An-Inc</td>\n",
       "      <td>LC 01/21</td>\n",
       "      <td>LB Amakura R,LB Puruni R.</td>\n",
       "      <td>4.181429e+09</td>\n",
       "      <td>450094.145899</td>\n",
       "      <td>POLYGON ((-60.37174 6.94956, -60.37156 6.95022...</td>\n",
       "      <td>Large Concessions</td>\n",
       "    </tr>\n",
       "  </tbody>\n",
       "</table>\n",
       "</div>"
      ],
      "text/plain": [
       "   Unnamed: 0  FID                          OWNER    FOLIO_NO  \\\n",
       "0           0    1  Ganshyam Mahase Sawmills Inc.  SFEP 01/19   \n",
       "1           1    2                   Rong-An-Inc.  SFEP 01/22   \n",
       "2           2    1  Ganshyam Mahase Sawmills Inc.  SFEP 01/19   \n",
       "3           3    2                   Rong-An-Inc.  SFEP 01/22   \n",
       "4           4    1                    Rong-An-Inc    LC 01/21   \n",
       "\n",
       "                                          SHORT_DESC    Shape_Area  \\\n",
       "0  Left Bank Kuribrong River,Right Bank Semang Ri...  7.005027e+08   \n",
       "1                         LB Berbice,RB Essequibo R.  6.664673e+08   \n",
       "2  Left Bank Kuribrong River,Right Bank Semang Ri...  7.005027e+08   \n",
       "3                         LB Berbice,RB Essequibo R.  6.664673e+08   \n",
       "4                          LB Amakura R,LB Puruni R.  4.181429e+09   \n",
       "\n",
       "    Shape_Length                                           geometry  \\\n",
       "0  179824.178254  POLYGON ((-59.48121 5.71543, -59.48109 5.71546...   \n",
       "1  177088.107539  POLYGON ((-58.45612 4.18701, -58.45539 4.18708...   \n",
       "2  179824.178254  POLYGON ((-59.48121 5.71543, -59.48109 5.71546...   \n",
       "3  177088.107539  POLYGON ((-58.45612 4.18701, -58.45539 4.18708...   \n",
       "4  450094.145899  POLYGON ((-60.37174 6.94956, -60.37156 6.95022...   \n",
       "\n",
       "                        permit_type  \n",
       "0  State Forest Exploratory Permits  \n",
       "1  State Forest Exploratory Permits  \n",
       "2   North West District Concessions  \n",
       "3   North West District Concessions  \n",
       "4                 Large Concessions  "
      ]
     },
     "execution_count": 88,
     "metadata": {},
     "output_type": "execute_result"
    }
   ],
   "source": [
    "merged_concessions.head()"
   ]
  },
  {
   "cell_type": "code",
   "execution_count": 89,
   "id": "3c0766ec-ddba-4256-a383-619a161a7683",
   "metadata": {},
   "outputs": [],
   "source": [
    "merged_concessions = merged_concessions[['OWNER','FOLIO_NO','SHORT_DESC','geometry','permit_type']]"
   ]
  },
  {
   "cell_type": "code",
   "execution_count": 90,
   "id": "fc162411-50df-4922-95ed-8a78c76ff56e",
   "metadata": {},
   "outputs": [
    {
     "ename": "TypeError",
     "evalue": "Expected bytes or string, got Polygon",
     "output_type": "error",
     "traceback": [
      "\u001b[0;31m---------------------------------------------------------------------------\u001b[0m",
      "\u001b[0;31mTypeError\u001b[0m                                 Traceback (most recent call last)",
      "Cell \u001b[0;32mIn[90], line 4\u001b[0m\n\u001b[1;32m      1\u001b[0m \u001b[38;5;28;01mfrom\u001b[39;00m \u001b[38;5;21;01mshapely\u001b[39;00m \u001b[38;5;28;01mimport\u001b[39;00m wkt\n\u001b[1;32m      3\u001b[0m \u001b[38;5;66;03m# Convert WKT strings to shapely.geometry objects\u001b[39;00m\n\u001b[0;32m----> 4\u001b[0m merged_concessions[\u001b[38;5;124m'\u001b[39m\u001b[38;5;124mgeometry\u001b[39m\u001b[38;5;124m'\u001b[39m] \u001b[38;5;241m=\u001b[39m \u001b[43mmerged_concessions\u001b[49m\u001b[43m[\u001b[49m\u001b[38;5;124;43m'\u001b[39;49m\u001b[38;5;124;43mgeometry\u001b[39;49m\u001b[38;5;124;43m'\u001b[39;49m\u001b[43m]\u001b[49m\u001b[38;5;241;43m.\u001b[39;49m\u001b[43mapply\u001b[49m\u001b[43m(\u001b[49m\u001b[43mwkt\u001b[49m\u001b[38;5;241;43m.\u001b[39;49m\u001b[43mloads\u001b[49m\u001b[43m)\u001b[49m\n",
      "File \u001b[0;32m~/.pyenv/versions/3.12.7/lib/python3.12/site-packages/geopandas/geoseries.py:752\u001b[0m, in \u001b[0;36mGeoSeries.apply\u001b[0;34m(self, func, convert_dtype, args, **kwargs)\u001b[0m\n\u001b[1;32m    749\u001b[0m         kwargs[\u001b[38;5;124m\"\u001b[39m\u001b[38;5;124mconvert_dtype\u001b[39m\u001b[38;5;124m\"\u001b[39m] \u001b[38;5;241m=\u001b[39m \u001b[38;5;28;01mTrue\u001b[39;00m\n\u001b[1;32m    751\u001b[0m \u001b[38;5;66;03m# to avoid warning\u001b[39;00m\n\u001b[0;32m--> 752\u001b[0m result \u001b[38;5;241m=\u001b[39m \u001b[38;5;28;43msuper\u001b[39;49m\u001b[43m(\u001b[49m\u001b[43m)\u001b[49m\u001b[38;5;241;43m.\u001b[39;49m\u001b[43mapply\u001b[49m\u001b[43m(\u001b[49m\u001b[43mfunc\u001b[49m\u001b[43m,\u001b[49m\u001b[43m \u001b[49m\u001b[43margs\u001b[49m\u001b[38;5;241;43m=\u001b[39;49m\u001b[43margs\u001b[49m\u001b[43m,\u001b[49m\u001b[43m \u001b[49m\u001b[38;5;241;43m*\u001b[39;49m\u001b[38;5;241;43m*\u001b[39;49m\u001b[43mkwargs\u001b[49m\u001b[43m)\u001b[49m\n\u001b[1;32m    753\u001b[0m \u001b[38;5;28;01mif\u001b[39;00m \u001b[38;5;28misinstance\u001b[39m(result, GeoSeries):\n\u001b[1;32m    754\u001b[0m     \u001b[38;5;28;01mif\u001b[39;00m \u001b[38;5;28mself\u001b[39m\u001b[38;5;241m.\u001b[39mcrs \u001b[38;5;129;01mis\u001b[39;00m \u001b[38;5;129;01mnot\u001b[39;00m \u001b[38;5;28;01mNone\u001b[39;00m:\n",
      "File \u001b[0;32m~/.pyenv/versions/3.12.7/lib/python3.12/site-packages/pandas/core/series.py:4924\u001b[0m, in \u001b[0;36mSeries.apply\u001b[0;34m(self, func, convert_dtype, args, by_row, **kwargs)\u001b[0m\n\u001b[1;32m   4789\u001b[0m \u001b[38;5;28;01mdef\u001b[39;00m \u001b[38;5;21mapply\u001b[39m(\n\u001b[1;32m   4790\u001b[0m     \u001b[38;5;28mself\u001b[39m,\n\u001b[1;32m   4791\u001b[0m     func: AggFuncType,\n\u001b[0;32m   (...)\u001b[0m\n\u001b[1;32m   4796\u001b[0m     \u001b[38;5;241m*\u001b[39m\u001b[38;5;241m*\u001b[39mkwargs,\n\u001b[1;32m   4797\u001b[0m ) \u001b[38;5;241m-\u001b[39m\u001b[38;5;241m>\u001b[39m DataFrame \u001b[38;5;241m|\u001b[39m Series:\n\u001b[1;32m   4798\u001b[0m \u001b[38;5;250m    \u001b[39m\u001b[38;5;124;03m\"\"\"\u001b[39;00m\n\u001b[1;32m   4799\u001b[0m \u001b[38;5;124;03m    Invoke function on values of Series.\u001b[39;00m\n\u001b[1;32m   4800\u001b[0m \n\u001b[0;32m   (...)\u001b[0m\n\u001b[1;32m   4915\u001b[0m \u001b[38;5;124;03m    dtype: float64\u001b[39;00m\n\u001b[1;32m   4916\u001b[0m \u001b[38;5;124;03m    \"\"\"\u001b[39;00m\n\u001b[1;32m   4917\u001b[0m     \u001b[38;5;28;01mreturn\u001b[39;00m \u001b[43mSeriesApply\u001b[49m\u001b[43m(\u001b[49m\n\u001b[1;32m   4918\u001b[0m \u001b[43m        \u001b[49m\u001b[38;5;28;43mself\u001b[39;49m\u001b[43m,\u001b[49m\n\u001b[1;32m   4919\u001b[0m \u001b[43m        \u001b[49m\u001b[43mfunc\u001b[49m\u001b[43m,\u001b[49m\n\u001b[1;32m   4920\u001b[0m \u001b[43m        \u001b[49m\u001b[43mconvert_dtype\u001b[49m\u001b[38;5;241;43m=\u001b[39;49m\u001b[43mconvert_dtype\u001b[49m\u001b[43m,\u001b[49m\n\u001b[1;32m   4921\u001b[0m \u001b[43m        \u001b[49m\u001b[43mby_row\u001b[49m\u001b[38;5;241;43m=\u001b[39;49m\u001b[43mby_row\u001b[49m\u001b[43m,\u001b[49m\n\u001b[1;32m   4922\u001b[0m \u001b[43m        \u001b[49m\u001b[43margs\u001b[49m\u001b[38;5;241;43m=\u001b[39;49m\u001b[43margs\u001b[49m\u001b[43m,\u001b[49m\n\u001b[1;32m   4923\u001b[0m \u001b[43m        \u001b[49m\u001b[43mkwargs\u001b[49m\u001b[38;5;241;43m=\u001b[39;49m\u001b[43mkwargs\u001b[49m\u001b[43m,\u001b[49m\n\u001b[0;32m-> 4924\u001b[0m \u001b[43m    \u001b[49m\u001b[43m)\u001b[49m\u001b[38;5;241;43m.\u001b[39;49m\u001b[43mapply\u001b[49m\u001b[43m(\u001b[49m\u001b[43m)\u001b[49m\n",
      "File \u001b[0;32m~/.pyenv/versions/3.12.7/lib/python3.12/site-packages/pandas/core/apply.py:1427\u001b[0m, in \u001b[0;36mSeriesApply.apply\u001b[0;34m(self)\u001b[0m\n\u001b[1;32m   1424\u001b[0m     \u001b[38;5;28;01mreturn\u001b[39;00m \u001b[38;5;28mself\u001b[39m\u001b[38;5;241m.\u001b[39mapply_compat()\n\u001b[1;32m   1426\u001b[0m \u001b[38;5;66;03m# self.func is Callable\u001b[39;00m\n\u001b[0;32m-> 1427\u001b[0m \u001b[38;5;28;01mreturn\u001b[39;00m \u001b[38;5;28;43mself\u001b[39;49m\u001b[38;5;241;43m.\u001b[39;49m\u001b[43mapply_standard\u001b[49m\u001b[43m(\u001b[49m\u001b[43m)\u001b[49m\n",
      "File \u001b[0;32m~/.pyenv/versions/3.12.7/lib/python3.12/site-packages/pandas/core/apply.py:1507\u001b[0m, in \u001b[0;36mSeriesApply.apply_standard\u001b[0;34m(self)\u001b[0m\n\u001b[1;32m   1501\u001b[0m \u001b[38;5;66;03m# row-wise access\u001b[39;00m\n\u001b[1;32m   1502\u001b[0m \u001b[38;5;66;03m# apply doesn't have a `na_action` keyword and for backward compat reasons\u001b[39;00m\n\u001b[1;32m   1503\u001b[0m \u001b[38;5;66;03m# we need to give `na_action=\"ignore\"` for categorical data.\u001b[39;00m\n\u001b[1;32m   1504\u001b[0m \u001b[38;5;66;03m# TODO: remove the `na_action=\"ignore\"` when that default has been changed in\u001b[39;00m\n\u001b[1;32m   1505\u001b[0m \u001b[38;5;66;03m#  Categorical (GH51645).\u001b[39;00m\n\u001b[1;32m   1506\u001b[0m action \u001b[38;5;241m=\u001b[39m \u001b[38;5;124m\"\u001b[39m\u001b[38;5;124mignore\u001b[39m\u001b[38;5;124m\"\u001b[39m \u001b[38;5;28;01mif\u001b[39;00m \u001b[38;5;28misinstance\u001b[39m(obj\u001b[38;5;241m.\u001b[39mdtype, CategoricalDtype) \u001b[38;5;28;01melse\u001b[39;00m \u001b[38;5;28;01mNone\u001b[39;00m\n\u001b[0;32m-> 1507\u001b[0m mapped \u001b[38;5;241m=\u001b[39m \u001b[43mobj\u001b[49m\u001b[38;5;241;43m.\u001b[39;49m\u001b[43m_map_values\u001b[49m\u001b[43m(\u001b[49m\n\u001b[1;32m   1508\u001b[0m \u001b[43m    \u001b[49m\u001b[43mmapper\u001b[49m\u001b[38;5;241;43m=\u001b[39;49m\u001b[43mcurried\u001b[49m\u001b[43m,\u001b[49m\u001b[43m \u001b[49m\u001b[43mna_action\u001b[49m\u001b[38;5;241;43m=\u001b[39;49m\u001b[43maction\u001b[49m\u001b[43m,\u001b[49m\u001b[43m \u001b[49m\u001b[43mconvert\u001b[49m\u001b[38;5;241;43m=\u001b[39;49m\u001b[38;5;28;43mself\u001b[39;49m\u001b[38;5;241;43m.\u001b[39;49m\u001b[43mconvert_dtype\u001b[49m\n\u001b[1;32m   1509\u001b[0m \u001b[43m\u001b[49m\u001b[43m)\u001b[49m\n\u001b[1;32m   1511\u001b[0m \u001b[38;5;28;01mif\u001b[39;00m \u001b[38;5;28mlen\u001b[39m(mapped) \u001b[38;5;129;01mand\u001b[39;00m \u001b[38;5;28misinstance\u001b[39m(mapped[\u001b[38;5;241m0\u001b[39m], ABCSeries):\n\u001b[1;32m   1512\u001b[0m     \u001b[38;5;66;03m# GH#43986 Need to do list(mapped) in order to get treated as nested\u001b[39;00m\n\u001b[1;32m   1513\u001b[0m     \u001b[38;5;66;03m#  See also GH#25959 regarding EA support\u001b[39;00m\n\u001b[1;32m   1514\u001b[0m     \u001b[38;5;28;01mreturn\u001b[39;00m obj\u001b[38;5;241m.\u001b[39m_constructor_expanddim(\u001b[38;5;28mlist\u001b[39m(mapped), index\u001b[38;5;241m=\u001b[39mobj\u001b[38;5;241m.\u001b[39mindex)\n",
      "File \u001b[0;32m~/.pyenv/versions/3.12.7/lib/python3.12/site-packages/pandas/core/base.py:919\u001b[0m, in \u001b[0;36mIndexOpsMixin._map_values\u001b[0;34m(self, mapper, na_action, convert)\u001b[0m\n\u001b[1;32m    916\u001b[0m arr \u001b[38;5;241m=\u001b[39m \u001b[38;5;28mself\u001b[39m\u001b[38;5;241m.\u001b[39m_values\n\u001b[1;32m    918\u001b[0m \u001b[38;5;28;01mif\u001b[39;00m \u001b[38;5;28misinstance\u001b[39m(arr, ExtensionArray):\n\u001b[0;32m--> 919\u001b[0m     \u001b[38;5;28;01mreturn\u001b[39;00m \u001b[43marr\u001b[49m\u001b[38;5;241;43m.\u001b[39;49m\u001b[43mmap\u001b[49m\u001b[43m(\u001b[49m\u001b[43mmapper\u001b[49m\u001b[43m,\u001b[49m\u001b[43m \u001b[49m\u001b[43mna_action\u001b[49m\u001b[38;5;241;43m=\u001b[39;49m\u001b[43mna_action\u001b[49m\u001b[43m)\u001b[49m\n\u001b[1;32m    921\u001b[0m \u001b[38;5;28;01mreturn\u001b[39;00m algorithms\u001b[38;5;241m.\u001b[39mmap_array(arr, mapper, na_action\u001b[38;5;241m=\u001b[39mna_action, convert\u001b[38;5;241m=\u001b[39mconvert)\n",
      "File \u001b[0;32m~/.pyenv/versions/3.12.7/lib/python3.12/site-packages/pandas/core/arrays/base.py:2322\u001b[0m, in \u001b[0;36mExtensionArray.map\u001b[0;34m(self, mapper, na_action)\u001b[0m\n\u001b[1;32m   2302\u001b[0m \u001b[38;5;28;01mdef\u001b[39;00m \u001b[38;5;21mmap\u001b[39m(\u001b[38;5;28mself\u001b[39m, mapper, na_action\u001b[38;5;241m=\u001b[39m\u001b[38;5;28;01mNone\u001b[39;00m):\n\u001b[1;32m   2303\u001b[0m \u001b[38;5;250m    \u001b[39m\u001b[38;5;124;03m\"\"\"\u001b[39;00m\n\u001b[1;32m   2304\u001b[0m \u001b[38;5;124;03m    Map values using an input mapping or function.\u001b[39;00m\n\u001b[1;32m   2305\u001b[0m \n\u001b[0;32m   (...)\u001b[0m\n\u001b[1;32m   2320\u001b[0m \u001b[38;5;124;03m        a MultiIndex will be returned.\u001b[39;00m\n\u001b[1;32m   2321\u001b[0m \u001b[38;5;124;03m    \"\"\"\u001b[39;00m\n\u001b[0;32m-> 2322\u001b[0m     \u001b[38;5;28;01mreturn\u001b[39;00m \u001b[43mmap_array\u001b[49m\u001b[43m(\u001b[49m\u001b[38;5;28;43mself\u001b[39;49m\u001b[43m,\u001b[49m\u001b[43m \u001b[49m\u001b[43mmapper\u001b[49m\u001b[43m,\u001b[49m\u001b[43m \u001b[49m\u001b[43mna_action\u001b[49m\u001b[38;5;241;43m=\u001b[39;49m\u001b[43mna_action\u001b[49m\u001b[43m)\u001b[49m\n",
      "File \u001b[0;32m~/.pyenv/versions/3.12.7/lib/python3.12/site-packages/pandas/core/algorithms.py:1743\u001b[0m, in \u001b[0;36mmap_array\u001b[0;34m(arr, mapper, na_action, convert)\u001b[0m\n\u001b[1;32m   1741\u001b[0m values \u001b[38;5;241m=\u001b[39m arr\u001b[38;5;241m.\u001b[39mastype(\u001b[38;5;28mobject\u001b[39m, copy\u001b[38;5;241m=\u001b[39m\u001b[38;5;28;01mFalse\u001b[39;00m)\n\u001b[1;32m   1742\u001b[0m \u001b[38;5;28;01mif\u001b[39;00m na_action \u001b[38;5;129;01mis\u001b[39;00m \u001b[38;5;28;01mNone\u001b[39;00m:\n\u001b[0;32m-> 1743\u001b[0m     \u001b[38;5;28;01mreturn\u001b[39;00m \u001b[43mlib\u001b[49m\u001b[38;5;241;43m.\u001b[39;49m\u001b[43mmap_infer\u001b[49m\u001b[43m(\u001b[49m\u001b[43mvalues\u001b[49m\u001b[43m,\u001b[49m\u001b[43m \u001b[49m\u001b[43mmapper\u001b[49m\u001b[43m,\u001b[49m\u001b[43m \u001b[49m\u001b[43mconvert\u001b[49m\u001b[38;5;241;43m=\u001b[39;49m\u001b[43mconvert\u001b[49m\u001b[43m)\u001b[49m\n\u001b[1;32m   1744\u001b[0m \u001b[38;5;28;01melse\u001b[39;00m:\n\u001b[1;32m   1745\u001b[0m     \u001b[38;5;28;01mreturn\u001b[39;00m lib\u001b[38;5;241m.\u001b[39mmap_infer_mask(\n\u001b[1;32m   1746\u001b[0m         values, mapper, mask\u001b[38;5;241m=\u001b[39misna(values)\u001b[38;5;241m.\u001b[39mview(np\u001b[38;5;241m.\u001b[39muint8), convert\u001b[38;5;241m=\u001b[39mconvert\n\u001b[1;32m   1747\u001b[0m     )\n",
      "File \u001b[0;32mlib.pyx:2972\u001b[0m, in \u001b[0;36mpandas._libs.lib.map_infer\u001b[0;34m()\u001b[0m\n",
      "File \u001b[0;32m~/.pyenv/versions/3.12.7/lib/python3.12/site-packages/shapely/wkt.py:22\u001b[0m, in \u001b[0;36mloads\u001b[0;34m(data)\u001b[0m\n\u001b[1;32m      9\u001b[0m \u001b[38;5;28;01mdef\u001b[39;00m \u001b[38;5;21mloads\u001b[39m(data):\n\u001b[1;32m     10\u001b[0m \u001b[38;5;250m    \u001b[39m\u001b[38;5;124;03m\"\"\"\u001b[39;00m\n\u001b[1;32m     11\u001b[0m \u001b[38;5;124;03m    Load a geometry from a WKT string.\u001b[39;00m\n\u001b[1;32m     12\u001b[0m \n\u001b[0;32m   (...)\u001b[0m\n\u001b[1;32m     20\u001b[0m \u001b[38;5;124;03m    Shapely geometry object\u001b[39;00m\n\u001b[1;32m     21\u001b[0m \u001b[38;5;124;03m    \"\"\"\u001b[39;00m\n\u001b[0;32m---> 22\u001b[0m     \u001b[38;5;28;01mreturn\u001b[39;00m \u001b[43mshapely\u001b[49m\u001b[38;5;241;43m.\u001b[39;49m\u001b[43mfrom_wkt\u001b[49m\u001b[43m(\u001b[49m\u001b[43mdata\u001b[49m\u001b[43m)\u001b[49m\n",
      "File \u001b[0;32m~/.pyenv/versions/3.12.7/lib/python3.12/site-packages/shapely/io.py:282\u001b[0m, in \u001b[0;36mfrom_wkt\u001b[0;34m(geometry, on_invalid, **kwargs)\u001b[0m\n\u001b[1;32m    278\u001b[0m     \u001b[38;5;28;01mraise\u001b[39;00m \u001b[38;5;167;01mTypeError\u001b[39;00m(\u001b[38;5;124m\"\u001b[39m\u001b[38;5;124mon_invalid only accepts scalar values\u001b[39m\u001b[38;5;124m\"\u001b[39m)\n\u001b[1;32m    280\u001b[0m invalid_handler \u001b[38;5;241m=\u001b[39m np\u001b[38;5;241m.\u001b[39muint8(DecodingErrorOptions\u001b[38;5;241m.\u001b[39mget_value(on_invalid))\n\u001b[0;32m--> 282\u001b[0m \u001b[38;5;28;01mreturn\u001b[39;00m \u001b[43mlib\u001b[49m\u001b[38;5;241;43m.\u001b[39;49m\u001b[43mfrom_wkt\u001b[49m\u001b[43m(\u001b[49m\u001b[43mgeometry\u001b[49m\u001b[43m,\u001b[49m\u001b[43m \u001b[49m\u001b[43minvalid_handler\u001b[49m\u001b[43m,\u001b[49m\u001b[43m \u001b[49m\u001b[38;5;241;43m*\u001b[39;49m\u001b[38;5;241;43m*\u001b[39;49m\u001b[43mkwargs\u001b[49m\u001b[43m)\u001b[49m\n",
      "\u001b[0;31mTypeError\u001b[0m: Expected bytes or string, got Polygon"
     ]
    }
   ],
   "source": [
    "from shapely import wkt\n",
    "\n",
    "# Convert WKT strings to shapely.geometry objects\n",
    "merged_concessions['geometry'] = merged_concessions['geometry'].apply(wkt.loads)"
   ]
  },
  {
   "cell_type": "code",
   "execution_count": 92,
   "id": "19d439f6-2b43-46b8-87cb-e7a791032645",
   "metadata": {},
   "outputs": [],
   "source": [
    "import geopandas as gpd\n",
    "\n",
    "# Convert to GeoDataFrame\n",
    "merged_concessions = gpd.GeoDataFrame(merged_concessions, geometry='geometry')\n",
    "\n",
    "# Set the coordinate reference system if it's known (important for GeoJSON)\n",
    "# For example, if it's WGS84 (lat/lon), set:\n",
    "merged_concessions.set_crs(\"EPSG:4326\", inplace=True)\n",
    "\n",
    "# Now save to GeoJSON\n",
    "merged_concessions.to_file(\"merged_concessions.geojson\", driver=\"GeoJSON\")"
   ]
  },
  {
   "cell_type": "code",
   "execution_count": 93,
   "id": "7fddbf40-258d-42bc-9428-96cb4f632000",
   "metadata": {},
   "outputs": [],
   "source": [
    "merged_concessions.to_csv('merged_concessions.csv',index=False)"
   ]
  },
  {
   "cell_type": "code",
   "execution_count": 97,
   "id": "90d26e15-9492-401d-a89a-0989674c0c30",
   "metadata": {},
   "outputs": [
    {
     "name": "stderr",
     "output_type": "stream",
     "text": [
      "python(16007) MallocStackLogging: can't turn off malloc stack logging because it was not enabled.\n"
     ]
    },
    {
     "name": "stdout",
     "output_type": "stream",
     "text": [
      "Requirement already satisfied: shapely in /Users/annikamcginnis/.pyenv/versions/3.12.7/lib/python3.12/site-packages (2.0.6)\n",
      "Collecting shapely\n",
      "  Downloading shapely-2.1.1-cp312-cp312-macosx_11_0_arm64.whl.metadata (6.8 kB)\n",
      "Requirement already satisfied: numpy>=1.21 in /Users/annikamcginnis/.pyenv/versions/3.12.7/lib/python3.12/site-packages (from shapely) (1.26.4)\n",
      "Downloading shapely-2.1.1-cp312-cp312-macosx_11_0_arm64.whl (1.6 MB)\n",
      "\u001b[2K   \u001b[90m━━━━━━━━━━━━━━━━━━━━━━━━━━━━━━━━━━━━━━━━\u001b[0m \u001b[32m1.6/1.6 MB\u001b[0m \u001b[31m10.5 MB/s\u001b[0m eta \u001b[36m0:00:00\u001b[0m\n",
      "\u001b[?25hInstalling collected packages: shapely\n",
      "  Attempting uninstall: shapely\n",
      "    Found existing installation: shapely 2.0.6\n",
      "    Uninstalling shapely-2.0.6:\n",
      "      Successfully uninstalled shapely-2.0.6\n",
      "Successfully installed shapely-2.1.1\n"
     ]
    }
   ],
   "source": [
    "!pip install --upgrade shapely"
   ]
  },
  {
   "cell_type": "code",
   "execution_count": 99,
   "id": "9df293b6-5bd0-428d-8663-219eb31ab3ba",
   "metadata": {},
   "outputs": [],
   "source": [
    "from shapely.ops import unary_union\n",
    "\n",
    "overall_shape = unary_union(gdf.geometry)\n",
    "overall_gdf = gpd.GeoDataFrame(geometry=[overall_shape], crs=gdf.crs)\n",
    "overall_gdf.to_file(\"overall_shape.geojson\", driver='GeoJSON')"
   ]
  },
  {
   "cell_type": "code",
   "execution_count": 101,
   "id": "ef02d13b-6b1f-4343-958f-00fe81046078",
   "metadata": {},
   "outputs": [
    {
     "name": "stderr",
     "output_type": "stream",
     "text": [
      "/var/folders/mb/f5zh4qyd6sbf171lrlnmff040000gn/T/ipykernel_39155/1597144733.py:1: UserWarning: Column names longer than 10 characters will be truncated when saved to ESRI Shapefile.\n",
      "  merged_concessions.to_file(\"merged_concessions.shp\")\n",
      "/Users/annikamcginnis/.pyenv/versions/3.12.7/lib/python3.12/site-packages/pyogrio/raw.py:723: RuntimeWarning: Normalized/laundered field name: 'permit_type' to 'permit_typ'\n",
      "  ogr_write(\n"
     ]
    }
   ],
   "source": [
    "merged_concessions.to_file(\"merged_concessions.shp\")"
   ]
  },
  {
   "cell_type": "code",
   "execution_count": 104,
   "id": "1e04886b-9ecb-4ec8-99ba-16f044d76c0c",
   "metadata": {},
   "outputs": [],
   "source": [
    "related_concessions['geometry'] = related_concessions['geometry'].apply(wkt.loads)"
   ]
  },
  {
   "cell_type": "code",
   "execution_count": 105,
   "id": "a40b713a-9841-4d89-9772-dbba501854e1",
   "metadata": {},
   "outputs": [
    {
     "name": "stderr",
     "output_type": "stream",
     "text": [
      "/var/folders/mb/f5zh4qyd6sbf171lrlnmff040000gn/T/ipykernel_39155/4117597974.py:8: UserWarning: Column names longer than 10 characters will be truncated when saved to ESRI Shapefile.\n",
      "  related_concessions.to_file(\"related_concessions.shp\")\n",
      "/Users/annikamcginnis/.pyenv/versions/3.12.7/lib/python3.12/site-packages/pyogrio/raw.py:723: RuntimeWarning: Normalized/laundered field name: 'Unnamed: 0' to 'Unnamed_ 0'\n",
      "  ogr_write(\n",
      "/Users/annikamcginnis/.pyenv/versions/3.12.7/lib/python3.12/site-packages/pyogrio/raw.py:723: RuntimeWarning: Normalized/laundered field name: 'Shape_Length' to 'Shape_Leng'\n",
      "  ogr_write(\n",
      "/Users/annikamcginnis/.pyenv/versions/3.12.7/lib/python3.12/site-packages/pyogrio/raw.py:723: RuntimeWarning: Normalized/laundered field name: 'permit_type' to 'permit_typ'\n",
      "  ogr_write(\n",
      "/Users/annikamcginnis/.pyenv/versions/3.12.7/lib/python3.12/site-packages/pyogrio/raw.py:723: RuntimeWarning: Value 700502672.720458984 of field Shape_Area of feature 0 not successfully written. Possibly due to too larger number with respect to field width\n",
      "  ogr_write(\n",
      "/Users/annikamcginnis/.pyenv/versions/3.12.7/lib/python3.12/site-packages/pyogrio/raw.py:723: RuntimeWarning: Value 700502672.720458984 of field Shape_Area of feature 1 not successfully written. Possibly due to too larger number with respect to field width\n",
      "  ogr_write(\n",
      "/Users/annikamcginnis/.pyenv/versions/3.12.7/lib/python3.12/site-packages/pyogrio/raw.py:723: RuntimeWarning: Value 866298282.989257812 of field Shape_Area of feature 2 not successfully written. Possibly due to too larger number with respect to field width\n",
      "  ogr_write(\n",
      "/Users/annikamcginnis/.pyenv/versions/3.12.7/lib/python3.12/site-packages/pyogrio/raw.py:723: RuntimeWarning: Value 396209212.837890625 of field Shape_Area of feature 3 not successfully written. Possibly due to too larger number with respect to field width\n",
      "  ogr_write(\n",
      "/Users/annikamcginnis/.pyenv/versions/3.12.7/lib/python3.12/site-packages/pyogrio/raw.py:723: RuntimeWarning: Value 215704555.324462891 of field Shape_Area of feature 4 not successfully written. Possibly due to too larger number with respect to field width\n",
      "  ogr_write(\n",
      "/Users/annikamcginnis/.pyenv/versions/3.12.7/lib/python3.12/site-packages/pyogrio/raw.py:723: RuntimeWarning: Value 1345658567.56689429 of field Shape_Area of feature 5 not successfully written. Possibly due to too larger number with respect to field width\n",
      "  ogr_write(\n",
      "/Users/annikamcginnis/.pyenv/versions/3.12.7/lib/python3.12/site-packages/pyogrio/raw.py:723: RuntimeWarning: Value 681513122.297363281 of field Shape_Area of feature 6 not successfully written. Possibly due to too larger number with respect to field width\n",
      "  ogr_write(\n"
     ]
    }
   ],
   "source": [
    "related_concessions = gpd.GeoDataFrame(related_concessions, geometry='geometry')\n",
    "\n",
    "# Set the coordinate reference system if it's known (important for GeoJSON)\n",
    "# For example, if it's WGS84 (lat/lon), set:\n",
    "related_concessions.set_crs(\"EPSG:4326\", inplace=True)\n",
    "\n",
    "# Now save to GeoJSON\n",
    "related_concessions.to_file(\"related_concessions.shp\")"
   ]
  },
  {
   "cell_type": "markdown",
   "id": "12cccde8-a80f-4e6a-9422-8e7eb2e9f5b6",
   "metadata": {},
   "source": [
    "## Searching sawmills and lumberyards for companies that supply New York agencies"
   ]
  },
  {
   "cell_type": "code",
   "execution_count": 21,
   "id": "92b2be4a-78ea-4141-843c-c2feb884c7ad",
   "metadata": {},
   "outputs": [],
   "source": [
    "import geopandas as gpd"
   ]
  },
  {
   "cell_type": "code",
   "execution_count": 22,
   "id": "8bd85808-c15d-4efa-93e6-5ff8327f5c7e",
   "metadata": {},
   "outputs": [
    {
     "data": {
      "text/html": [
       "<div>\n",
       "<style scoped>\n",
       "    .dataframe tbody tr th:only-of-type {\n",
       "        vertical-align: middle;\n",
       "    }\n",
       "\n",
       "    .dataframe tbody tr th {\n",
       "        vertical-align: top;\n",
       "    }\n",
       "\n",
       "    .dataframe thead th {\n",
       "        text-align: right;\n",
       "    }\n",
       "</style>\n",
       "<table border=\"1\" class=\"dataframe\">\n",
       "  <thead>\n",
       "    <tr style=\"text-align: right;\">\n",
       "      <th></th>\n",
       "      <th>FID</th>\n",
       "      <th>X</th>\n",
       "      <th>Y</th>\n",
       "      <th>Business_N</th>\n",
       "      <th>Business_A</th>\n",
       "      <th>Contact_In</th>\n",
       "      <th>Licence_Ty</th>\n",
       "      <th>County</th>\n",
       "      <th>Owner</th>\n",
       "      <th>NoName</th>\n",
       "      <th>geometry</th>\n",
       "    </tr>\n",
       "  </thead>\n",
       "  <tbody>\n",
       "    <tr>\n",
       "      <th>0</th>\n",
       "      <td>1</td>\n",
       "      <td>415198</td>\n",
       "      <td>724779</td>\n",
       "      <td>Bibi A. Ali</td>\n",
       "      <td>Lot 4 Dundee Mahaicony E.C.D</td>\n",
       "      <td>221-2036</td>\n",
       "      <td>Lumberyard</td>\n",
       "      <td>Demerara</td>\n",
       "      <td></td>\n",
       "      <td></td>\n",
       "      <td>POINT (-57.76838 6.5531)</td>\n",
       "    </tr>\n",
       "    <tr>\n",
       "      <th>1</th>\n",
       "      <td>2</td>\n",
       "      <td>385553</td>\n",
       "      <td>751824</td>\n",
       "      <td>CPS Investments</td>\n",
       "      <td>3 \"B\"Lusignan E.C.D</td>\n",
       "      <td>233-5191/611-6480</td>\n",
       "      <td>Lumberyard</td>\n",
       "      <td>Demerara</td>\n",
       "      <td></td>\n",
       "      <td></td>\n",
       "      <td>POINT (-58.03702 6.79724)</td>\n",
       "    </tr>\n",
       "    <tr>\n",
       "      <th>2</th>\n",
       "      <td>3</td>\n",
       "      <td>382181</td>\n",
       "      <td>753633</td>\n",
       "      <td>Colin Freeman Lumber yard</td>\n",
       "      <td>Area \"D\" Chatteau Margot E.C.D</td>\n",
       "      <td>220-9634</td>\n",
       "      <td>Lumberyard</td>\n",
       "      <td>Demerara</td>\n",
       "      <td></td>\n",
       "      <td></td>\n",
       "      <td>POINT (-58.06757 6.81353)</td>\n",
       "    </tr>\n",
       "    <tr>\n",
       "      <th>3</th>\n",
       "      <td>4</td>\n",
       "      <td>384504</td>\n",
       "      <td>752453</td>\n",
       "      <td>Dooddnauth Rampersaud</td>\n",
       "      <td>3 Good Hope E.C.D</td>\n",
       "      <td>220-6914/614-4588</td>\n",
       "      <td>Lumberyard</td>\n",
       "      <td>Demerara</td>\n",
       "      <td></td>\n",
       "      <td></td>\n",
       "      <td>POINT (-58.04653 6.80291)</td>\n",
       "    </tr>\n",
       "    <tr>\n",
       "      <th>4</th>\n",
       "      <td>5</td>\n",
       "      <td>379991</td>\n",
       "      <td>754130</td>\n",
       "      <td>Double D's Lumber yard</td>\n",
       "      <td>Lot 11 Dwaraka St Better Hope E.C.D</td>\n",
       "      <td>220-4485</td>\n",
       "      <td>Lumberyard</td>\n",
       "      <td>Demerara</td>\n",
       "      <td></td>\n",
       "      <td></td>\n",
       "      <td>POINT (-58.0874 6.81798)</td>\n",
       "    </tr>\n",
       "  </tbody>\n",
       "</table>\n",
       "</div>"
      ],
      "text/plain": [
       "   FID       X       Y                 Business_N  \\\n",
       "0    1  415198  724779                Bibi A. Ali   \n",
       "1    2  385553  751824            CPS Investments   \n",
       "2    3  382181  753633  Colin Freeman Lumber yard   \n",
       "3    4  384504  752453      Dooddnauth Rampersaud   \n",
       "4    5  379991  754130     Double D's Lumber yard   \n",
       "\n",
       "                            Business_A         Contact_In  Licence_Ty  \\\n",
       "0         Lot 4 Dundee Mahaicony E.C.D           221-2036  Lumberyard   \n",
       "1                  3 \"B\"Lusignan E.C.D  233-5191/611-6480  Lumberyard   \n",
       "2       Area \"D\" Chatteau Margot E.C.D           220-9634  Lumberyard   \n",
       "3                    3 Good Hope E.C.D  220-6914/614-4588  Lumberyard   \n",
       "4  Lot 11 Dwaraka St Better Hope E.C.D           220-4485  Lumberyard   \n",
       "\n",
       "     County Owner NoName                   geometry  \n",
       "0  Demerara                POINT (-57.76838 6.5531)  \n",
       "1  Demerara               POINT (-58.03702 6.79724)  \n",
       "2  Demerara               POINT (-58.06757 6.81353)  \n",
       "3  Demerara               POINT (-58.04653 6.80291)  \n",
       "4  Demerara                POINT (-58.0874 6.81798)  "
      ]
     },
     "execution_count": 22,
     "metadata": {},
     "output_type": "execute_result"
    }
   ],
   "source": [
    "sl = gpd.read_file(\"sawmills_lumberyards.geojson\")\n",
    "\n",
    "sl.head()"
   ]
  },
  {
   "cell_type": "code",
   "execution_count": 287,
   "id": "5d03fbfa-d974-43df-9fe9-e1b905cf675c",
   "metadata": {},
   "outputs": [
    {
     "data": {
      "text/html": [
       "<div>\n",
       "<style scoped>\n",
       "    .dataframe tbody tr th:only-of-type {\n",
       "        vertical-align: middle;\n",
       "    }\n",
       "\n",
       "    .dataframe tbody tr th {\n",
       "        vertical-align: top;\n",
       "    }\n",
       "\n",
       "    .dataframe thead th {\n",
       "        text-align: right;\n",
       "    }\n",
       "</style>\n",
       "<table border=\"1\" class=\"dataframe\">\n",
       "  <thead>\n",
       "    <tr style=\"text-align: right;\">\n",
       "      <th></th>\n",
       "      <th>FID</th>\n",
       "      <th>X</th>\n",
       "      <th>Y</th>\n",
       "      <th>Business_N</th>\n",
       "      <th>Business_A</th>\n",
       "      <th>Contact_In</th>\n",
       "      <th>Licence_Ty</th>\n",
       "      <th>County</th>\n",
       "      <th>Owner</th>\n",
       "      <th>NoName</th>\n",
       "      <th>geometry</th>\n",
       "    </tr>\n",
       "  </thead>\n",
       "  <tbody>\n",
       "    <tr>\n",
       "      <th>0</th>\n",
       "      <td>1</td>\n",
       "      <td>415198</td>\n",
       "      <td>724779</td>\n",
       "      <td>Bibi A. Ali</td>\n",
       "      <td>Lot 4 Dundee Mahaicony E.C.D</td>\n",
       "      <td>221-2036</td>\n",
       "      <td>Lumberyard</td>\n",
       "      <td>Demerara</td>\n",
       "      <td></td>\n",
       "      <td></td>\n",
       "      <td>POINT (-57.76838 6.5531)</td>\n",
       "    </tr>\n",
       "    <tr>\n",
       "      <th>1</th>\n",
       "      <td>2</td>\n",
       "      <td>385553</td>\n",
       "      <td>751824</td>\n",
       "      <td>CPS Investments</td>\n",
       "      <td>3 \"B\"Lusignan E.C.D</td>\n",
       "      <td>233-5191/611-6480</td>\n",
       "      <td>Lumberyard</td>\n",
       "      <td>Demerara</td>\n",
       "      <td></td>\n",
       "      <td></td>\n",
       "      <td>POINT (-58.03702 6.79724)</td>\n",
       "    </tr>\n",
       "    <tr>\n",
       "      <th>2</th>\n",
       "      <td>3</td>\n",
       "      <td>382181</td>\n",
       "      <td>753633</td>\n",
       "      <td>Colin Freeman Lumber yard</td>\n",
       "      <td>Area \"D\" Chatteau Margot E.C.D</td>\n",
       "      <td>220-9634</td>\n",
       "      <td>Lumberyard</td>\n",
       "      <td>Demerara</td>\n",
       "      <td></td>\n",
       "      <td></td>\n",
       "      <td>POINT (-58.06757 6.81353)</td>\n",
       "    </tr>\n",
       "    <tr>\n",
       "      <th>3</th>\n",
       "      <td>4</td>\n",
       "      <td>384504</td>\n",
       "      <td>752453</td>\n",
       "      <td>Dooddnauth Rampersaud</td>\n",
       "      <td>3 Good Hope E.C.D</td>\n",
       "      <td>220-6914/614-4588</td>\n",
       "      <td>Lumberyard</td>\n",
       "      <td>Demerara</td>\n",
       "      <td></td>\n",
       "      <td></td>\n",
       "      <td>POINT (-58.04653 6.80291)</td>\n",
       "    </tr>\n",
       "    <tr>\n",
       "      <th>4</th>\n",
       "      <td>5</td>\n",
       "      <td>379991</td>\n",
       "      <td>754130</td>\n",
       "      <td>Double D's Lumber yard</td>\n",
       "      <td>Lot 11 Dwaraka St Better Hope E.C.D</td>\n",
       "      <td>220-4485</td>\n",
       "      <td>Lumberyard</td>\n",
       "      <td>Demerara</td>\n",
       "      <td></td>\n",
       "      <td></td>\n",
       "      <td>POINT (-58.0874 6.81798)</td>\n",
       "    </tr>\n",
       "  </tbody>\n",
       "</table>\n",
       "</div>"
      ],
      "text/plain": [
       "   FID       X       Y                 Business_N  \\\n",
       "0    1  415198  724779                Bibi A. Ali   \n",
       "1    2  385553  751824            CPS Investments   \n",
       "2    3  382181  753633  Colin Freeman Lumber yard   \n",
       "3    4  384504  752453      Dooddnauth Rampersaud   \n",
       "4    5  379991  754130     Double D's Lumber yard   \n",
       "\n",
       "                            Business_A         Contact_In  Licence_Ty  \\\n",
       "0         Lot 4 Dundee Mahaicony E.C.D           221-2036  Lumberyard   \n",
       "1                  3 \"B\"Lusignan E.C.D  233-5191/611-6480  Lumberyard   \n",
       "2       Area \"D\" Chatteau Margot E.C.D           220-9634  Lumberyard   \n",
       "3                    3 Good Hope E.C.D  220-6914/614-4588  Lumberyard   \n",
       "4  Lot 11 Dwaraka St Better Hope E.C.D           220-4485  Lumberyard   \n",
       "\n",
       "     County Owner NoName                   geometry  \n",
       "0  Demerara                POINT (-57.76838 6.5531)  \n",
       "1  Demerara               POINT (-58.03702 6.79724)  \n",
       "2  Demerara               POINT (-58.06757 6.81353)  \n",
       "3  Demerara               POINT (-58.04653 6.80291)  \n",
       "4  Demerara                POINT (-58.0874 6.81798)  "
      ]
     },
     "execution_count": 287,
     "metadata": {},
     "output_type": "execute_result"
    }
   ],
   "source": [
    "sl.head()"
   ]
  },
  {
   "cell_type": "code",
   "execution_count": 319,
   "id": "0ad57c01-0a3a-4149-a8e7-b56025d21b89",
   "metadata": {},
   "outputs": [
    {
     "data": {
      "text/plain": [
       "Business_N\n",
       "                       20\n",
       "G&I Sawmill             3\n",
       "Jaiwantie Singh         3\n",
       "Rajendra Ruben          3\n",
       "Bibi A. Ali             2\n",
       "Abdul Rashad            2\n",
       "N.Newland               2\n",
       "Beckles Lumber Yard     2\n",
       "Kevin Ramotar           2\n",
       "Leroy Beckles           2\n",
       "R.Ramator               2\n",
       "Yogepatie Singh         2\n",
       "Builders Choice         2\n",
       "L.S Harridat            2\n",
       "Sandra Chaitranjan      2\n",
       "Richard Persaud         2\n",
       "Rafeek Mohamed          2\n",
       "Rooplall Shiwnauth      2\n",
       "Koosha Ramdass          2\n",
       "Mohini Gumtie           2\n",
       "Name: count, dtype: int64"
      ]
     },
     "execution_count": 319,
     "metadata": {},
     "output_type": "execute_result"
    }
   ],
   "source": [
    "sl['Business_N'].value_counts().head(20)"
   ]
  },
  {
   "cell_type": "code",
   "execution_count": 305,
   "id": "775a8d15-0abb-4a6d-90b6-2858b3e17038",
   "metadata": {},
   "outputs": [
    {
     "data": {
      "text/html": [
       "<div>\n",
       "<style scoped>\n",
       "    .dataframe tbody tr th:only-of-type {\n",
       "        vertical-align: middle;\n",
       "    }\n",
       "\n",
       "    .dataframe tbody tr th {\n",
       "        vertical-align: top;\n",
       "    }\n",
       "\n",
       "    .dataframe thead th {\n",
       "        text-align: right;\n",
       "    }\n",
       "</style>\n",
       "<table border=\"1\" class=\"dataframe\">\n",
       "  <thead>\n",
       "    <tr style=\"text-align: right;\">\n",
       "      <th></th>\n",
       "      <th>FID</th>\n",
       "      <th>X</th>\n",
       "      <th>Y</th>\n",
       "      <th>Business_N</th>\n",
       "      <th>Business_A</th>\n",
       "      <th>Contact_In</th>\n",
       "      <th>Licence_Ty</th>\n",
       "      <th>County</th>\n",
       "      <th>Owner</th>\n",
       "      <th>NoName</th>\n",
       "      <th>geometry</th>\n",
       "    </tr>\n",
       "  </thead>\n",
       "  <tbody>\n",
       "  </tbody>\n",
       "</table>\n",
       "</div>"
      ],
      "text/plain": [
       "Empty GeoDataFrame\n",
       "Columns: [FID, X, Y, Business_N, Business_A, Contact_In, Licence_Ty, County, Owner, NoName, geometry]\n",
       "Index: []"
      ]
     },
     "execution_count": 305,
     "metadata": {},
     "output_type": "execute_result"
    }
   ],
   "source": [
    "sl[sl['Business_N'].str.contains('variety', case=False)]"
   ]
  },
  {
   "cell_type": "code",
   "execution_count": 306,
   "id": "8412f0ab-0059-4d9b-bd0c-1b374c6d78d8",
   "metadata": {},
   "outputs": [
    {
     "data": {
      "text/html": [
       "<div>\n",
       "<style scoped>\n",
       "    .dataframe tbody tr th:only-of-type {\n",
       "        vertical-align: middle;\n",
       "    }\n",
       "\n",
       "    .dataframe tbody tr th {\n",
       "        vertical-align: top;\n",
       "    }\n",
       "\n",
       "    .dataframe thead th {\n",
       "        text-align: right;\n",
       "    }\n",
       "</style>\n",
       "<table border=\"1\" class=\"dataframe\">\n",
       "  <thead>\n",
       "    <tr style=\"text-align: right;\">\n",
       "      <th></th>\n",
       "      <th>FID</th>\n",
       "      <th>X</th>\n",
       "      <th>Y</th>\n",
       "      <th>Business_N</th>\n",
       "      <th>Business_A</th>\n",
       "      <th>Contact_In</th>\n",
       "      <th>Licence_Ty</th>\n",
       "      <th>County</th>\n",
       "      <th>Owner</th>\n",
       "      <th>NoName</th>\n",
       "      <th>geometry</th>\n",
       "    </tr>\n",
       "  </thead>\n",
       "  <tbody>\n",
       "  </tbody>\n",
       "</table>\n",
       "</div>"
      ],
      "text/plain": [
       "Empty GeoDataFrame\n",
       "Columns: [FID, X, Y, Business_N, Business_A, Contact_In, Licence_Ty, County, Owner, NoName, geometry]\n",
       "Index: []"
      ]
     },
     "execution_count": 306,
     "metadata": {},
     "output_type": "execute_result"
    }
   ],
   "source": [
    "sl[sl['Business_A'].str.contains('variety', case=False)]"
   ]
  },
  {
   "cell_type": "code",
   "execution_count": 307,
   "id": "7fbd8ff9-49cc-4fce-87bc-a4a81370236d",
   "metadata": {},
   "outputs": [
    {
     "data": {
      "text/html": [
       "<div>\n",
       "<style scoped>\n",
       "    .dataframe tbody tr th:only-of-type {\n",
       "        vertical-align: middle;\n",
       "    }\n",
       "\n",
       "    .dataframe tbody tr th {\n",
       "        vertical-align: top;\n",
       "    }\n",
       "\n",
       "    .dataframe thead th {\n",
       "        text-align: right;\n",
       "    }\n",
       "</style>\n",
       "<table border=\"1\" class=\"dataframe\">\n",
       "  <thead>\n",
       "    <tr style=\"text-align: right;\">\n",
       "      <th></th>\n",
       "      <th>FID</th>\n",
       "      <th>X</th>\n",
       "      <th>Y</th>\n",
       "      <th>Business_N</th>\n",
       "      <th>Business_A</th>\n",
       "      <th>Contact_In</th>\n",
       "      <th>Licence_Ty</th>\n",
       "      <th>County</th>\n",
       "      <th>Owner</th>\n",
       "      <th>NoName</th>\n",
       "      <th>geometry</th>\n",
       "    </tr>\n",
       "  </thead>\n",
       "  <tbody>\n",
       "  </tbody>\n",
       "</table>\n",
       "</div>"
      ],
      "text/plain": [
       "Empty GeoDataFrame\n",
       "Columns: [FID, X, Y, Business_N, Business_A, Contact_In, Licence_Ty, County, Owner, NoName, geometry]\n",
       "Index: []"
      ]
     },
     "execution_count": 307,
     "metadata": {},
     "output_type": "execute_result"
    }
   ],
   "source": [
    "sl[sl['Business_N'].str.contains('prestige', case=False)]"
   ]
  },
  {
   "cell_type": "code",
   "execution_count": 308,
   "id": "5f6dca8d-4a7b-48a8-8bc5-9d87f8043629",
   "metadata": {},
   "outputs": [
    {
     "data": {
      "text/html": [
       "<div>\n",
       "<style scoped>\n",
       "    .dataframe tbody tr th:only-of-type {\n",
       "        vertical-align: middle;\n",
       "    }\n",
       "\n",
       "    .dataframe tbody tr th {\n",
       "        vertical-align: top;\n",
       "    }\n",
       "\n",
       "    .dataframe thead th {\n",
       "        text-align: right;\n",
       "    }\n",
       "</style>\n",
       "<table border=\"1\" class=\"dataframe\">\n",
       "  <thead>\n",
       "    <tr style=\"text-align: right;\">\n",
       "      <th></th>\n",
       "      <th>FID</th>\n",
       "      <th>X</th>\n",
       "      <th>Y</th>\n",
       "      <th>Business_N</th>\n",
       "      <th>Business_A</th>\n",
       "      <th>Contact_In</th>\n",
       "      <th>Licence_Ty</th>\n",
       "      <th>County</th>\n",
       "      <th>Owner</th>\n",
       "      <th>NoName</th>\n",
       "      <th>geometry</th>\n",
       "    </tr>\n",
       "  </thead>\n",
       "  <tbody>\n",
       "  </tbody>\n",
       "</table>\n",
       "</div>"
      ],
      "text/plain": [
       "Empty GeoDataFrame\n",
       "Columns: [FID, X, Y, Business_N, Business_A, Contact_In, Licence_Ty, County, Owner, NoName, geometry]\n",
       "Index: []"
      ]
     },
     "execution_count": 308,
     "metadata": {},
     "output_type": "execute_result"
    }
   ],
   "source": [
    "sl[sl['Business_A'].str.contains('prestige', case=False)]"
   ]
  },
  {
   "cell_type": "code",
   "execution_count": 309,
   "id": "7aad285d-4f0c-4c9c-aab6-1579cdeef2c6",
   "metadata": {},
   "outputs": [
    {
     "data": {
      "text/html": [
       "<div>\n",
       "<style scoped>\n",
       "    .dataframe tbody tr th:only-of-type {\n",
       "        vertical-align: middle;\n",
       "    }\n",
       "\n",
       "    .dataframe tbody tr th {\n",
       "        vertical-align: top;\n",
       "    }\n",
       "\n",
       "    .dataframe thead th {\n",
       "        text-align: right;\n",
       "    }\n",
       "</style>\n",
       "<table border=\"1\" class=\"dataframe\">\n",
       "  <thead>\n",
       "    <tr style=\"text-align: right;\">\n",
       "      <th></th>\n",
       "      <th>FID</th>\n",
       "      <th>X</th>\n",
       "      <th>Y</th>\n",
       "      <th>Business_N</th>\n",
       "      <th>Business_A</th>\n",
       "      <th>Contact_In</th>\n",
       "      <th>Licence_Ty</th>\n",
       "      <th>County</th>\n",
       "      <th>Owner</th>\n",
       "      <th>NoName</th>\n",
       "      <th>geometry</th>\n",
       "    </tr>\n",
       "  </thead>\n",
       "  <tbody>\n",
       "  </tbody>\n",
       "</table>\n",
       "</div>"
      ],
      "text/plain": [
       "Empty GeoDataFrame\n",
       "Columns: [FID, X, Y, Business_N, Business_A, Contact_In, Licence_Ty, County, Owner, NoName, geometry]\n",
       "Index: []"
      ]
     },
     "execution_count": 309,
     "metadata": {},
     "output_type": "execute_result"
    }
   ],
   "source": [
    "sl[sl['Business_N'].str.contains('woods direct', case=False)]"
   ]
  },
  {
   "cell_type": "code",
   "execution_count": 310,
   "id": "37e4a53f-b8b1-44d3-9682-537ddccca271",
   "metadata": {},
   "outputs": [
    {
     "data": {
      "text/html": [
       "<div>\n",
       "<style scoped>\n",
       "    .dataframe tbody tr th:only-of-type {\n",
       "        vertical-align: middle;\n",
       "    }\n",
       "\n",
       "    .dataframe tbody tr th {\n",
       "        vertical-align: top;\n",
       "    }\n",
       "\n",
       "    .dataframe thead th {\n",
       "        text-align: right;\n",
       "    }\n",
       "</style>\n",
       "<table border=\"1\" class=\"dataframe\">\n",
       "  <thead>\n",
       "    <tr style=\"text-align: right;\">\n",
       "      <th></th>\n",
       "      <th>FID</th>\n",
       "      <th>X</th>\n",
       "      <th>Y</th>\n",
       "      <th>Business_N</th>\n",
       "      <th>Business_A</th>\n",
       "      <th>Contact_In</th>\n",
       "      <th>Licence_Ty</th>\n",
       "      <th>County</th>\n",
       "      <th>Owner</th>\n",
       "      <th>NoName</th>\n",
       "      <th>geometry</th>\n",
       "    </tr>\n",
       "  </thead>\n",
       "  <tbody>\n",
       "  </tbody>\n",
       "</table>\n",
       "</div>"
      ],
      "text/plain": [
       "Empty GeoDataFrame\n",
       "Columns: [FID, X, Y, Business_N, Business_A, Contact_In, Licence_Ty, County, Owner, NoName, geometry]\n",
       "Index: []"
      ]
     },
     "execution_count": 310,
     "metadata": {},
     "output_type": "execute_result"
    }
   ],
   "source": [
    "sl[sl['Business_A'].str.contains('woods direct', case=False)]"
   ]
  },
  {
   "cell_type": "code",
   "execution_count": 311,
   "id": "0d458499-170b-45f0-88c3-64ba8cc08ee0",
   "metadata": {},
   "outputs": [
    {
     "data": {
      "text/html": [
       "<div>\n",
       "<style scoped>\n",
       "    .dataframe tbody tr th:only-of-type {\n",
       "        vertical-align: middle;\n",
       "    }\n",
       "\n",
       "    .dataframe tbody tr th {\n",
       "        vertical-align: top;\n",
       "    }\n",
       "\n",
       "    .dataframe thead th {\n",
       "        text-align: right;\n",
       "    }\n",
       "</style>\n",
       "<table border=\"1\" class=\"dataframe\">\n",
       "  <thead>\n",
       "    <tr style=\"text-align: right;\">\n",
       "      <th></th>\n",
       "      <th>FID</th>\n",
       "      <th>X</th>\n",
       "      <th>Y</th>\n",
       "      <th>Business_N</th>\n",
       "      <th>Business_A</th>\n",
       "      <th>Contact_In</th>\n",
       "      <th>Licence_Ty</th>\n",
       "      <th>County</th>\n",
       "      <th>Owner</th>\n",
       "      <th>NoName</th>\n",
       "      <th>geometry</th>\n",
       "    </tr>\n",
       "  </thead>\n",
       "  <tbody>\n",
       "    <tr>\n",
       "      <th>324</th>\n",
       "      <td>325</td>\n",
       "      <td>366586</td>\n",
       "      <td>731565</td>\n",
       "      <td>Durable Wood Products Enterprises</td>\n",
       "      <td></td>\n",
       "      <td></td>\n",
       "      <td></td>\n",
       "      <td></td>\n",
       "      <td></td>\n",
       "      <td>Durable Wood Products Enterprises</td>\n",
       "      <td>POINT (-58.20819 6.61361)</td>\n",
       "    </tr>\n",
       "  </tbody>\n",
       "</table>\n",
       "</div>"
      ],
      "text/plain": [
       "     FID       X       Y                         Business_N Business_A  \\\n",
       "324  325  366586  731565  Durable Wood Products Enterprises              \n",
       "\n",
       "    Contact_In Licence_Ty County Owner                             NoName  \\\n",
       "324                                     Durable Wood Products Enterprises   \n",
       "\n",
       "                      geometry  \n",
       "324  POINT (-58.20819 6.61361)  "
      ]
     },
     "execution_count": 311,
     "metadata": {},
     "output_type": "execute_result"
    }
   ],
   "source": [
    "sl[sl['Business_N'].str.contains('durable', case=False)]"
   ]
  },
  {
   "cell_type": "code",
   "execution_count": 312,
   "id": "8896003a-36fa-4707-802c-68dc174343c3",
   "metadata": {},
   "outputs": [
    {
     "data": {
      "text/html": [
       "<div>\n",
       "<style scoped>\n",
       "    .dataframe tbody tr th:only-of-type {\n",
       "        vertical-align: middle;\n",
       "    }\n",
       "\n",
       "    .dataframe tbody tr th {\n",
       "        vertical-align: top;\n",
       "    }\n",
       "\n",
       "    .dataframe thead th {\n",
       "        text-align: right;\n",
       "    }\n",
       "</style>\n",
       "<table border=\"1\" class=\"dataframe\">\n",
       "  <thead>\n",
       "    <tr style=\"text-align: right;\">\n",
       "      <th></th>\n",
       "      <th>FID</th>\n",
       "      <th>X</th>\n",
       "      <th>Y</th>\n",
       "      <th>Business_N</th>\n",
       "      <th>Business_A</th>\n",
       "      <th>Contact_In</th>\n",
       "      <th>Licence_Ty</th>\n",
       "      <th>County</th>\n",
       "      <th>Owner</th>\n",
       "      <th>NoName</th>\n",
       "      <th>geometry</th>\n",
       "    </tr>\n",
       "  </thead>\n",
       "  <tbody>\n",
       "  </tbody>\n",
       "</table>\n",
       "</div>"
      ],
      "text/plain": [
       "Empty GeoDataFrame\n",
       "Columns: [FID, X, Y, Business_N, Business_A, Contact_In, Licence_Ty, County, Owner, NoName, geometry]\n",
       "Index: []"
      ]
     },
     "execution_count": 312,
     "metadata": {},
     "output_type": "execute_result"
    }
   ],
   "source": [
    "sl[sl['Business_A'].str.contains('durable', case=False)]"
   ]
  },
  {
   "cell_type": "code",
   "execution_count": 313,
   "id": "0a766cb7-85bf-447c-915f-33c5e6ad9dc6",
   "metadata": {},
   "outputs": [
    {
     "data": {
      "text/html": [
       "<div>\n",
       "<style scoped>\n",
       "    .dataframe tbody tr th:only-of-type {\n",
       "        vertical-align: middle;\n",
       "    }\n",
       "\n",
       "    .dataframe tbody tr th {\n",
       "        vertical-align: top;\n",
       "    }\n",
       "\n",
       "    .dataframe thead th {\n",
       "        text-align: right;\n",
       "    }\n",
       "</style>\n",
       "<table border=\"1\" class=\"dataframe\">\n",
       "  <thead>\n",
       "    <tr style=\"text-align: right;\">\n",
       "      <th></th>\n",
       "      <th>FID</th>\n",
       "      <th>X</th>\n",
       "      <th>Y</th>\n",
       "      <th>Business_N</th>\n",
       "      <th>Business_A</th>\n",
       "      <th>Contact_In</th>\n",
       "      <th>Licence_Ty</th>\n",
       "      <th>County</th>\n",
       "      <th>Owner</th>\n",
       "      <th>NoName</th>\n",
       "      <th>geometry</th>\n",
       "    </tr>\n",
       "  </thead>\n",
       "  <tbody>\n",
       "    <tr>\n",
       "      <th>10</th>\n",
       "      <td>11</td>\n",
       "      <td>397561</td>\n",
       "      <td>739335</td>\n",
       "      <td>Emerald Forest Inc</td>\n",
       "      <td>3026 Hand-en-veldt Mahaica, E.C.D</td>\n",
       "      <td>651-8755/ 228-2993</td>\n",
       "      <td>Sawmills</td>\n",
       "      <td>Demerara</td>\n",
       "      <td></td>\n",
       "      <td></td>\n",
       "      <td>POINT (-57.92815 6.68449)</td>\n",
       "    </tr>\n",
       "  </tbody>\n",
       "</table>\n",
       "</div>"
      ],
      "text/plain": [
       "    FID       X       Y          Business_N  \\\n",
       "10   11  397561  739335  Emerald Forest Inc   \n",
       "\n",
       "                           Business_A          Contact_In Licence_Ty  \\\n",
       "10  3026 Hand-en-veldt Mahaica, E.C.D  651-8755/ 228-2993   Sawmills   \n",
       "\n",
       "      County Owner NoName                   geometry  \n",
       "10  Demerara               POINT (-57.92815 6.68449)  "
      ]
     },
     "execution_count": 313,
     "metadata": {},
     "output_type": "execute_result"
    }
   ],
   "source": [
    "sl[sl['Business_N'].str.contains('emerald', case=False)]"
   ]
  },
  {
   "cell_type": "code",
   "execution_count": 314,
   "id": "ce16cbe5-1ea6-477b-8846-91824970b0db",
   "metadata": {},
   "outputs": [
    {
     "data": {
      "text/html": [
       "<div>\n",
       "<style scoped>\n",
       "    .dataframe tbody tr th:only-of-type {\n",
       "        vertical-align: middle;\n",
       "    }\n",
       "\n",
       "    .dataframe tbody tr th {\n",
       "        vertical-align: top;\n",
       "    }\n",
       "\n",
       "    .dataframe thead th {\n",
       "        text-align: right;\n",
       "    }\n",
       "</style>\n",
       "<table border=\"1\" class=\"dataframe\">\n",
       "  <thead>\n",
       "    <tr style=\"text-align: right;\">\n",
       "      <th></th>\n",
       "      <th>FID</th>\n",
       "      <th>X</th>\n",
       "      <th>Y</th>\n",
       "      <th>Business_N</th>\n",
       "      <th>Business_A</th>\n",
       "      <th>Contact_In</th>\n",
       "      <th>Licence_Ty</th>\n",
       "      <th>County</th>\n",
       "      <th>Owner</th>\n",
       "      <th>NoName</th>\n",
       "      <th>geometry</th>\n",
       "    </tr>\n",
       "  </thead>\n",
       "  <tbody>\n",
       "  </tbody>\n",
       "</table>\n",
       "</div>"
      ],
      "text/plain": [
       "Empty GeoDataFrame\n",
       "Columns: [FID, X, Y, Business_N, Business_A, Contact_In, Licence_Ty, County, Owner, NoName, geometry]\n",
       "Index: []"
      ]
     },
     "execution_count": 314,
     "metadata": {},
     "output_type": "execute_result"
    }
   ],
   "source": [
    "sl[sl['Business_A'].str.contains('emerald', case=False)]"
   ]
  },
  {
   "cell_type": "code",
   "execution_count": 315,
   "id": "22fb7fa2-5cfb-4eb5-9298-a0378caca835",
   "metadata": {},
   "outputs": [
    {
     "data": {
      "text/html": [
       "<div>\n",
       "<style scoped>\n",
       "    .dataframe tbody tr th:only-of-type {\n",
       "        vertical-align: middle;\n",
       "    }\n",
       "\n",
       "    .dataframe tbody tr th {\n",
       "        vertical-align: top;\n",
       "    }\n",
       "\n",
       "    .dataframe thead th {\n",
       "        text-align: right;\n",
       "    }\n",
       "</style>\n",
       "<table border=\"1\" class=\"dataframe\">\n",
       "  <thead>\n",
       "    <tr style=\"text-align: right;\">\n",
       "      <th></th>\n",
       "      <th>FID</th>\n",
       "      <th>X</th>\n",
       "      <th>Y</th>\n",
       "      <th>Business_N</th>\n",
       "      <th>Business_A</th>\n",
       "      <th>Contact_In</th>\n",
       "      <th>Licence_Ty</th>\n",
       "      <th>County</th>\n",
       "      <th>Owner</th>\n",
       "      <th>NoName</th>\n",
       "      <th>geometry</th>\n",
       "    </tr>\n",
       "  </thead>\n",
       "  <tbody>\n",
       "  </tbody>\n",
       "</table>\n",
       "</div>"
      ],
      "text/plain": [
       "Empty GeoDataFrame\n",
       "Columns: [FID, X, Y, Business_N, Business_A, Contact_In, Licence_Ty, County, Owner, NoName, geometry]\n",
       "Index: []"
      ]
     },
     "execution_count": 315,
     "metadata": {},
     "output_type": "execute_result"
    }
   ],
   "source": [
    "sl[sl['Business_N'].str.contains('timberwood', case=False)]"
   ]
  },
  {
   "cell_type": "code",
   "execution_count": 316,
   "id": "34e5605a-5762-490e-bad7-40788aa00c79",
   "metadata": {},
   "outputs": [
    {
     "data": {
      "text/html": [
       "<div>\n",
       "<style scoped>\n",
       "    .dataframe tbody tr th:only-of-type {\n",
       "        vertical-align: middle;\n",
       "    }\n",
       "\n",
       "    .dataframe tbody tr th {\n",
       "        vertical-align: top;\n",
       "    }\n",
       "\n",
       "    .dataframe thead th {\n",
       "        text-align: right;\n",
       "    }\n",
       "</style>\n",
       "<table border=\"1\" class=\"dataframe\">\n",
       "  <thead>\n",
       "    <tr style=\"text-align: right;\">\n",
       "      <th></th>\n",
       "      <th>FID</th>\n",
       "      <th>X</th>\n",
       "      <th>Y</th>\n",
       "      <th>Business_N</th>\n",
       "      <th>Business_A</th>\n",
       "      <th>Contact_In</th>\n",
       "      <th>Licence_Ty</th>\n",
       "      <th>County</th>\n",
       "      <th>Owner</th>\n",
       "      <th>NoName</th>\n",
       "      <th>geometry</th>\n",
       "    </tr>\n",
       "  </thead>\n",
       "  <tbody>\n",
       "  </tbody>\n",
       "</table>\n",
       "</div>"
      ],
      "text/plain": [
       "Empty GeoDataFrame\n",
       "Columns: [FID, X, Y, Business_N, Business_A, Contact_In, Licence_Ty, County, Owner, NoName, geometry]\n",
       "Index: []"
      ]
     },
     "execution_count": 316,
     "metadata": {},
     "output_type": "execute_result"
    }
   ],
   "source": [
    "sl[sl['Business_N'].str.contains('timber wood', case=False)]"
   ]
  },
  {
   "cell_type": "code",
   "execution_count": 317,
   "id": "3f5a9d78-d249-4ba4-9a9f-6aecf5a7a89a",
   "metadata": {},
   "outputs": [
    {
     "data": {
      "text/html": [
       "<div>\n",
       "<style scoped>\n",
       "    .dataframe tbody tr th:only-of-type {\n",
       "        vertical-align: middle;\n",
       "    }\n",
       "\n",
       "    .dataframe tbody tr th {\n",
       "        vertical-align: top;\n",
       "    }\n",
       "\n",
       "    .dataframe thead th {\n",
       "        text-align: right;\n",
       "    }\n",
       "</style>\n",
       "<table border=\"1\" class=\"dataframe\">\n",
       "  <thead>\n",
       "    <tr style=\"text-align: right;\">\n",
       "      <th></th>\n",
       "      <th>FID</th>\n",
       "      <th>X</th>\n",
       "      <th>Y</th>\n",
       "      <th>Business_N</th>\n",
       "      <th>Business_A</th>\n",
       "      <th>Contact_In</th>\n",
       "      <th>Licence_Ty</th>\n",
       "      <th>County</th>\n",
       "      <th>Owner</th>\n",
       "      <th>NoName</th>\n",
       "      <th>geometry</th>\n",
       "    </tr>\n",
       "  </thead>\n",
       "  <tbody>\n",
       "  </tbody>\n",
       "</table>\n",
       "</div>"
      ],
      "text/plain": [
       "Empty GeoDataFrame\n",
       "Columns: [FID, X, Y, Business_N, Business_A, Contact_In, Licence_Ty, County, Owner, NoName, geometry]\n",
       "Index: []"
      ]
     },
     "execution_count": 317,
     "metadata": {},
     "output_type": "execute_result"
    }
   ],
   "source": [
    "sl[sl['Business_A'].str.contains('timberwood', case=False)]"
   ]
  },
  {
   "cell_type": "code",
   "execution_count": 323,
   "id": "dce2d179-a295-4da2-a9f0-fd5b10286188",
   "metadata": {},
   "outputs": [
    {
     "data": {
      "text/html": [
       "<div>\n",
       "<style scoped>\n",
       "    .dataframe tbody tr th:only-of-type {\n",
       "        vertical-align: middle;\n",
       "    }\n",
       "\n",
       "    .dataframe tbody tr th {\n",
       "        vertical-align: top;\n",
       "    }\n",
       "\n",
       "    .dataframe thead th {\n",
       "        text-align: right;\n",
       "    }\n",
       "</style>\n",
       "<table border=\"1\" class=\"dataframe\">\n",
       "  <thead>\n",
       "    <tr style=\"text-align: right;\">\n",
       "      <th></th>\n",
       "      <th>FID</th>\n",
       "      <th>X</th>\n",
       "      <th>Y</th>\n",
       "      <th>Business_N</th>\n",
       "      <th>Business_A</th>\n",
       "      <th>Contact_In</th>\n",
       "      <th>Licence_Ty</th>\n",
       "      <th>County</th>\n",
       "      <th>Owner</th>\n",
       "      <th>NoName</th>\n",
       "      <th>geometry</th>\n",
       "    </tr>\n",
       "  </thead>\n",
       "  <tbody>\n",
       "  </tbody>\n",
       "</table>\n",
       "</div>"
      ],
      "text/plain": [
       "Empty GeoDataFrame\n",
       "Columns: [FID, X, Y, Business_N, Business_A, Contact_In, Licence_Ty, County, Owner, NoName, geometry]\n",
       "Index: []"
      ]
     },
     "execution_count": 323,
     "metadata": {},
     "output_type": "execute_result"
    }
   ],
   "source": [
    "sl[sl['Business_A'].str.contains('timber wood', case=False)]"
   ]
  },
  {
   "cell_type": "code",
   "execution_count": 324,
   "id": "d618e161-65db-4e80-8772-b17cdda112b8",
   "metadata": {},
   "outputs": [
    {
     "data": {
      "text/html": [
       "<div>\n",
       "<style scoped>\n",
       "    .dataframe tbody tr th:only-of-type {\n",
       "        vertical-align: middle;\n",
       "    }\n",
       "\n",
       "    .dataframe tbody tr th {\n",
       "        vertical-align: top;\n",
       "    }\n",
       "\n",
       "    .dataframe thead th {\n",
       "        text-align: right;\n",
       "    }\n",
       "</style>\n",
       "<table border=\"1\" class=\"dataframe\">\n",
       "  <thead>\n",
       "    <tr style=\"text-align: right;\">\n",
       "      <th></th>\n",
       "      <th>FID</th>\n",
       "      <th>X</th>\n",
       "      <th>Y</th>\n",
       "      <th>Business_N</th>\n",
       "      <th>Business_A</th>\n",
       "      <th>Contact_In</th>\n",
       "      <th>Licence_Ty</th>\n",
       "      <th>County</th>\n",
       "      <th>Owner</th>\n",
       "      <th>NoName</th>\n",
       "      <th>geometry</th>\n",
       "    </tr>\n",
       "  </thead>\n",
       "  <tbody>\n",
       "  </tbody>\n",
       "</table>\n",
       "</div>"
      ],
      "text/plain": [
       "Empty GeoDataFrame\n",
       "Columns: [FID, X, Y, Business_N, Business_A, Contact_In, Licence_Ty, County, Owner, NoName, geometry]\n",
       "Index: []"
      ]
     },
     "execution_count": 324,
     "metadata": {},
     "output_type": "execute_result"
    }
   ],
   "source": [
    "sl[sl['Business_A'].str.contains('nazir', case=False)]"
   ]
  },
  {
   "cell_type": "code",
   "execution_count": 325,
   "id": "7aae0e20-fb42-41c1-a322-9918c1418bf8",
   "metadata": {},
   "outputs": [
    {
     "data": {
      "text/html": [
       "<div>\n",
       "<style scoped>\n",
       "    .dataframe tbody tr th:only-of-type {\n",
       "        vertical-align: middle;\n",
       "    }\n",
       "\n",
       "    .dataframe tbody tr th {\n",
       "        vertical-align: top;\n",
       "    }\n",
       "\n",
       "    .dataframe thead th {\n",
       "        text-align: right;\n",
       "    }\n",
       "</style>\n",
       "<table border=\"1\" class=\"dataframe\">\n",
       "  <thead>\n",
       "    <tr style=\"text-align: right;\">\n",
       "      <th></th>\n",
       "      <th>FID</th>\n",
       "      <th>X</th>\n",
       "      <th>Y</th>\n",
       "      <th>Business_N</th>\n",
       "      <th>Business_A</th>\n",
       "      <th>Contact_In</th>\n",
       "      <th>Licence_Ty</th>\n",
       "      <th>County</th>\n",
       "      <th>Owner</th>\n",
       "      <th>NoName</th>\n",
       "      <th>geometry</th>\n",
       "    </tr>\n",
       "  </thead>\n",
       "  <tbody>\n",
       "    <tr>\n",
       "      <th>216</th>\n",
       "      <td>217</td>\n",
       "      <td>320918</td>\n",
       "      <td>708587</td>\n",
       "      <td>Nazir Latiff</td>\n",
       "      <td>Essequibo</td>\n",
       "      <td></td>\n",
       "      <td>Lumberyard</td>\n",
       "      <td></td>\n",
       "      <td></td>\n",
       "      <td></td>\n",
       "      <td>POINT (-58.62054 6.40466)</td>\n",
       "    </tr>\n",
       "  </tbody>\n",
       "</table>\n",
       "</div>"
      ],
      "text/plain": [
       "     FID       X       Y    Business_N Business_A Contact_In  Licence_Ty  \\\n",
       "216  217  320918  708587  Nazir Latiff  Essequibo             Lumberyard   \n",
       "\n",
       "    County Owner NoName                   geometry  \n",
       "216                      POINT (-58.62054 6.40466)  "
      ]
     },
     "execution_count": 325,
     "metadata": {},
     "output_type": "execute_result"
    }
   ],
   "source": [
    "sl[sl['Business_N'].str.contains('nazir', case=False)]"
   ]
  },
  {
   "cell_type": "code",
   "execution_count": 23,
   "id": "e166ea7b-79c4-4cae-a28f-eb140e9ffba3",
   "metadata": {},
   "outputs": [
    {
     "data": {
      "text/html": [
       "<div>\n",
       "<style scoped>\n",
       "    .dataframe tbody tr th:only-of-type {\n",
       "        vertical-align: middle;\n",
       "    }\n",
       "\n",
       "    .dataframe tbody tr th {\n",
       "        vertical-align: top;\n",
       "    }\n",
       "\n",
       "    .dataframe thead th {\n",
       "        text-align: right;\n",
       "    }\n",
       "</style>\n",
       "<table border=\"1\" class=\"dataframe\">\n",
       "  <thead>\n",
       "    <tr style=\"text-align: right;\">\n",
       "      <th></th>\n",
       "      <th>FID</th>\n",
       "      <th>X</th>\n",
       "      <th>Y</th>\n",
       "      <th>Business_N</th>\n",
       "      <th>Business_A</th>\n",
       "      <th>Contact_In</th>\n",
       "      <th>Licence_Ty</th>\n",
       "      <th>County</th>\n",
       "      <th>Owner</th>\n",
       "      <th>NoName</th>\n",
       "      <th>geometry</th>\n",
       "    </tr>\n",
       "  </thead>\n",
       "  <tbody>\n",
       "  </tbody>\n",
       "</table>\n",
       "</div>"
      ],
      "text/plain": [
       "Empty GeoDataFrame\n",
       "Columns: [FID, X, Y, Business_N, Business_A, Contact_In, Licence_Ty, County, Owner, NoName, geometry]\n",
       "Index: []"
      ]
     },
     "execution_count": 23,
     "metadata": {},
     "output_type": "execute_result"
    }
   ],
   "source": [
    "sl[sl['Business_N'].str.contains('woodpecker', case=False)]"
   ]
  },
  {
   "cell_type": "code",
   "execution_count": 25,
   "id": "32a75395-80ce-48c4-9cfb-79fd5a81df4c",
   "metadata": {},
   "outputs": [
    {
     "data": {
      "text/html": [
       "<div>\n",
       "<style scoped>\n",
       "    .dataframe tbody tr th:only-of-type {\n",
       "        vertical-align: middle;\n",
       "    }\n",
       "\n",
       "    .dataframe tbody tr th {\n",
       "        vertical-align: top;\n",
       "    }\n",
       "\n",
       "    .dataframe thead th {\n",
       "        text-align: right;\n",
       "    }\n",
       "</style>\n",
       "<table border=\"1\" class=\"dataframe\">\n",
       "  <thead>\n",
       "    <tr style=\"text-align: right;\">\n",
       "      <th></th>\n",
       "      <th>FID</th>\n",
       "      <th>X</th>\n",
       "      <th>Y</th>\n",
       "      <th>Business_N</th>\n",
       "      <th>Business_A</th>\n",
       "      <th>Contact_In</th>\n",
       "      <th>Licence_Ty</th>\n",
       "      <th>County</th>\n",
       "      <th>Owner</th>\n",
       "      <th>NoName</th>\n",
       "      <th>geometry</th>\n",
       "    </tr>\n",
       "  </thead>\n",
       "  <tbody>\n",
       "  </tbody>\n",
       "</table>\n",
       "</div>"
      ],
      "text/plain": [
       "Empty GeoDataFrame\n",
       "Columns: [FID, X, Y, Business_N, Business_A, Contact_In, Licence_Ty, County, Owner, NoName, geometry]\n",
       "Index: []"
      ]
     },
     "execution_count": 25,
     "metadata": {},
     "output_type": "execute_result"
    }
   ],
   "source": [
    "sl[sl['Business_N'].str.contains('rafeek khan', case=False)]"
   ]
  },
  {
   "cell_type": "code",
   "execution_count": 26,
   "id": "4316dda8-afce-44f8-84e5-4102a297e546",
   "metadata": {},
   "outputs": [
    {
     "data": {
      "text/html": [
       "<div>\n",
       "<style scoped>\n",
       "    .dataframe tbody tr th:only-of-type {\n",
       "        vertical-align: middle;\n",
       "    }\n",
       "\n",
       "    .dataframe tbody tr th {\n",
       "        vertical-align: top;\n",
       "    }\n",
       "\n",
       "    .dataframe thead th {\n",
       "        text-align: right;\n",
       "    }\n",
       "</style>\n",
       "<table border=\"1\" class=\"dataframe\">\n",
       "  <thead>\n",
       "    <tr style=\"text-align: right;\">\n",
       "      <th></th>\n",
       "      <th>FID</th>\n",
       "      <th>X</th>\n",
       "      <th>Y</th>\n",
       "      <th>Business_N</th>\n",
       "      <th>Business_A</th>\n",
       "      <th>Contact_In</th>\n",
       "      <th>Licence_Ty</th>\n",
       "      <th>County</th>\n",
       "      <th>Owner</th>\n",
       "      <th>NoName</th>\n",
       "      <th>geometry</th>\n",
       "    </tr>\n",
       "  </thead>\n",
       "  <tbody>\n",
       "    <tr>\n",
       "      <th>305</th>\n",
       "      <td>306</td>\n",
       "      <td>363673</td>\n",
       "      <td>706974</td>\n",
       "      <td>Ganshyam Mahase</td>\n",
       "      <td></td>\n",
       "      <td></td>\n",
       "      <td></td>\n",
       "      <td></td>\n",
       "      <td></td>\n",
       "      <td>Ganshyam Mahase</td>\n",
       "      <td>POINT (-58.23399 6.39114)</td>\n",
       "    </tr>\n",
       "  </tbody>\n",
       "</table>\n",
       "</div>"
      ],
      "text/plain": [
       "     FID       X       Y       Business_N Business_A Contact_In Licence_Ty  \\\n",
       "305  306  363673  706974  Ganshyam Mahase                                    \n",
       "\n",
       "    County Owner           NoName                   geometry  \n",
       "305               Ganshyam Mahase  POINT (-58.23399 6.39114)  "
      ]
     },
     "execution_count": 26,
     "metadata": {},
     "output_type": "execute_result"
    }
   ],
   "source": [
    "sl[sl['Business_N'].str.contains('ganshyam', case=False)]"
   ]
  },
  {
   "cell_type": "code",
   "execution_count": 28,
   "id": "f747f4e5-8566-47d7-999d-69148f65774a",
   "metadata": {},
   "outputs": [
    {
     "data": {
      "text/html": [
       "<div>\n",
       "<style scoped>\n",
       "    .dataframe tbody tr th:only-of-type {\n",
       "        vertical-align: middle;\n",
       "    }\n",
       "\n",
       "    .dataframe tbody tr th {\n",
       "        vertical-align: top;\n",
       "    }\n",
       "\n",
       "    .dataframe thead th {\n",
       "        text-align: right;\n",
       "    }\n",
       "</style>\n",
       "<table border=\"1\" class=\"dataframe\">\n",
       "  <thead>\n",
       "    <tr style=\"text-align: right;\">\n",
       "      <th></th>\n",
       "      <th>FID</th>\n",
       "      <th>X</th>\n",
       "      <th>Y</th>\n",
       "      <th>Business_N</th>\n",
       "      <th>Business_A</th>\n",
       "      <th>Contact_In</th>\n",
       "      <th>Licence_Ty</th>\n",
       "      <th>County</th>\n",
       "      <th>Owner</th>\n",
       "      <th>NoName</th>\n",
       "      <th>geometry</th>\n",
       "    </tr>\n",
       "  </thead>\n",
       "  <tbody>\n",
       "  </tbody>\n",
       "</table>\n",
       "</div>"
      ],
      "text/plain": [
       "Empty GeoDataFrame\n",
       "Columns: [FID, X, Y, Business_N, Business_A, Contact_In, Licence_Ty, County, Owner, NoName, geometry]\n",
       "Index: []"
      ]
     },
     "execution_count": 28,
     "metadata": {},
     "output_type": "execute_result"
    }
   ],
   "source": [
    "sl[sl['Business_N'].str.contains('interior', case=False)]"
   ]
  },
  {
   "cell_type": "code",
   "execution_count": null,
   "id": "9c9756a1-70eb-47a6-b8c6-7d32b288fb0f",
   "metadata": {},
   "outputs": [],
   "source": []
  }
 ],
 "metadata": {
  "kernelspec": {
   "display_name": "Python 3 (ipykernel)",
   "language": "python",
   "name": "python3"
  },
  "language_info": {
   "codemirror_mode": {
    "name": "ipython",
    "version": 3
   },
   "file_extension": ".py",
   "mimetype": "text/x-python",
   "name": "python",
   "nbconvert_exporter": "python",
   "pygments_lexer": "ipython3",
   "version": "3.12.7"
  }
 },
 "nbformat": 4,
 "nbformat_minor": 5
}
